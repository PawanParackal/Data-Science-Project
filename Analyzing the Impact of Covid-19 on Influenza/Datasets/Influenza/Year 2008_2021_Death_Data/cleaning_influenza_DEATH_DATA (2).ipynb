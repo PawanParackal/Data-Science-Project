{
 "cells": [
  {
   "cell_type": "code",
   "execution_count": 1,
   "id": "5834a24a-3721-41e6-a950-926d8da22912",
   "metadata": {},
   "outputs": [],
   "source": [
    "df = read.csv(\"influenza_aus.csv\", header=TRUE, stringsAsFactors=TRUE)\n",
    "df_extra = read.csv(\"2008_influenza.csv\", header=TRUE, stringsAsFactors=TRUE)"
   ]
  },
  {
   "cell_type": "code",
   "execution_count": null,
   "id": "826f32d8-a336-4f18-b35e-b589c9f96a3b",
   "metadata": {},
   "outputs": [],
   "source": []
  },
  {
   "cell_type": "raw",
   "id": "04269ad6-10b7-4817-9c54-363f39021d4f",
   "metadata": {},
   "source": [
    "library(dplyr)\n",
    "## we have multiple columns where there are NA values and in the raw data this was used to separate each year of data"
   ]
  },
  {
   "cell_type": "code",
   "execution_count": 2,
   "id": "73032518-324c-40f6-a79e-50fb421b6145",
   "metadata": {},
   "outputs": [
    {
     "data": {
      "text/html": [
       "<table class=\"dataframe\">\n",
       "<caption>A data.frame: 6 × 34</caption>\n",
       "<thead>\n",
       "\t<tr><th></th><th scope=col>X</th><th scope=col>X2011</th><th scope=col>X.1</th><th scope=col>X.2</th><th scope=col>X2012</th><th scope=col>X.4</th><th scope=col>X.5</th><th scope=col>X2013</th><th scope=col>X.7</th><th scope=col>X.8</th><th scope=col>⋯</th><th scope=col>X.23</th><th scope=col>X2019</th><th scope=col>X.25</th><th scope=col>X.26</th><th scope=col>X2020</th><th scope=col>X.28</th><th scope=col>X.29</th><th scope=col>X2021</th><th scope=col>X.31</th><th scope=col>X.32</th></tr>\n",
       "\t<tr><th></th><th scope=col>&lt;fct&gt;</th><th scope=col>&lt;fct&gt;</th><th scope=col>&lt;fct&gt;</th><th scope=col>&lt;fct&gt;</th><th scope=col>&lt;fct&gt;</th><th scope=col>&lt;fct&gt;</th><th scope=col>&lt;fct&gt;</th><th scope=col>&lt;fct&gt;</th><th scope=col>&lt;fct&gt;</th><th scope=col>&lt;fct&gt;</th><th scope=col>⋯</th><th scope=col>&lt;fct&gt;</th><th scope=col>&lt;fct&gt;</th><th scope=col>&lt;fct&gt;</th><th scope=col>&lt;fct&gt;</th><th scope=col>&lt;fct&gt;</th><th scope=col>&lt;fct&gt;</th><th scope=col>&lt;fct&gt;</th><th scope=col>&lt;fct&gt;</th><th scope=col>&lt;fct&gt;</th><th scope=col>&lt;fct&gt;</th></tr>\n",
       "</thead>\n",
       "<tbody>\n",
       "\t<tr><th scope=row>1</th><td>Cause of death and ICD-10 code                               </td><td>Males </td><td>Females</td><td>Persons</td><td>Males </td><td>Females</td><td>Persons</td><td>Males </td><td>Females</td><td>Persons</td><td>⋯</td><td>Persons</td><td>Males </td><td>Females</td><td>Persons</td><td>Males </td><td>Females</td><td>Persons</td><td>Males </td><td>Females</td><td>Persons</td></tr>\n",
       "\t<tr><th scope=row>2</th><td>Total deaths                                                 </td><td>75,377</td><td>71,413 </td><td>146,790</td><td>75,677</td><td>73,368 </td><td>149,045</td><td>76,555</td><td>72,362 </td><td>148,917</td><td>⋯</td><td>159,463</td><td>85,709</td><td>79,081 </td><td>164,790</td><td>85,200</td><td>77,369 </td><td>162,569</td><td>83,658</td><td>77,233 </td><td>160,891</td></tr>\n",
       "\t<tr><th scope=row>3</th><td>                                                             </td><td>      </td><td>       </td><td>       </td><td>      </td><td>       </td><td>       </td><td>      </td><td>       </td><td>       </td><td>⋯</td><td>       </td><td>      </td><td>       </td><td>       </td><td>      </td><td>       </td><td>       </td><td>      </td><td>       </td><td>       </td></tr>\n",
       "\t<tr><th scope=row>4</th><td>Causes of death                                              </td><td>      </td><td>       </td><td>       </td><td>      </td><td>       </td><td>       </td><td>      </td><td>       </td><td>       </td><td>⋯</td><td>       </td><td>      </td><td>       </td><td>       </td><td>      </td><td>       </td><td>       </td><td>      </td><td>       </td><td>       </td></tr>\n",
       "\t<tr><th scope=row>5</th><td>CHAPTER I Certain infectious and parasitic diseases (A00-B99)</td><td>1,236 </td><td>1162   </td><td>2,398  </td><td>1240  </td><td>1197   </td><td>2,437  </td><td>1,344 </td><td>1,344  </td><td>2,688  </td><td>⋯</td><td>2,422  </td><td>1,180 </td><td>1,357  </td><td>2,537  </td><td>1,188 </td><td>1,162  </td><td>2,350  </td><td>1,190 </td><td>1,234  </td><td>2,424  </td></tr>\n",
       "\t<tr><th scope=row>6</th><td>Intestinal infectious diseases  (A00-A09)                    </td><td>51    </td><td>79     </td><td>130    </td><td>71    </td><td>103    </td><td>174    </td><td>95    </td><td>169    </td><td>264    </td><td>⋯</td><td>277    </td><td>106   </td><td>210    </td><td>316    </td><td>101   </td><td>137    </td><td>238    </td><td>119   </td><td>191    </td><td>310    </td></tr>\n",
       "</tbody>\n",
       "</table>\n"
      ],
      "text/latex": [
       "A data.frame: 6 × 34\n",
       "\\begin{tabular}{r|lllllllllllllllllllll}\n",
       "  & X & X2011 & X.1 & X.2 & X2012 & X.4 & X.5 & X2013 & X.7 & X.8 & ⋯ & X.23 & X2019 & X.25 & X.26 & X2020 & X.28 & X.29 & X2021 & X.31 & X.32\\\\\n",
       "  & <fct> & <fct> & <fct> & <fct> & <fct> & <fct> & <fct> & <fct> & <fct> & <fct> & ⋯ & <fct> & <fct> & <fct> & <fct> & <fct> & <fct> & <fct> & <fct> & <fct> & <fct>\\\\\n",
       "\\hline\n",
       "\t1 & Cause of death and ICD-10 code                                & Males  & Females & Persons & Males  & Females & Persons & Males  & Females & Persons & ⋯ & Persons & Males  & Females & Persons & Males  & Females & Persons & Males  & Females & Persons\\\\\n",
       "\t2 & Total deaths                                                  & 75,377 & 71,413  & 146,790 & 75,677 & 73,368  & 149,045 & 76,555 & 72,362  & 148,917 & ⋯ & 159,463 & 85,709 & 79,081  & 164,790 & 85,200 & 77,369  & 162,569 & 83,658 & 77,233  & 160,891\\\\\n",
       "\t3 &                                                               &        &         &         &        &         &         &        &         &         & ⋯ &         &        &         &         &        &         &         &        &         &        \\\\\n",
       "\t4 & Causes of death                                               &        &         &         &        &         &         &        &         &         & ⋯ &         &        &         &         &        &         &         &        &         &        \\\\\n",
       "\t5 & CHAPTER I Certain infectious and parasitic diseases (A00-B99) & 1,236  & 1162    & 2,398   & 1240   & 1197    & 2,437   & 1,344  & 1,344   & 2,688   & ⋯ & 2,422   & 1,180  & 1,357   & 2,537   & 1,188  & 1,162   & 2,350   & 1,190  & 1,234   & 2,424  \\\\\n",
       "\t6 & Intestinal infectious diseases  (A00-A09)                     & 51     & 79      & 130     & 71     & 103     & 174     & 95     & 169     & 264     & ⋯ & 277     & 106    & 210     & 316     & 101    & 137     & 238     & 119    & 191     & 310    \\\\\n",
       "\\end{tabular}\n"
      ],
      "text/markdown": [
       "\n",
       "A data.frame: 6 × 34\n",
       "\n",
       "| <!--/--> | X &lt;fct&gt; | X2011 &lt;fct&gt; | X.1 &lt;fct&gt; | X.2 &lt;fct&gt; | X2012 &lt;fct&gt; | X.4 &lt;fct&gt; | X.5 &lt;fct&gt; | X2013 &lt;fct&gt; | X.7 &lt;fct&gt; | X.8 &lt;fct&gt; | ⋯ ⋯ | X.23 &lt;fct&gt; | X2019 &lt;fct&gt; | X.25 &lt;fct&gt; | X.26 &lt;fct&gt; | X2020 &lt;fct&gt; | X.28 &lt;fct&gt; | X.29 &lt;fct&gt; | X2021 &lt;fct&gt; | X.31 &lt;fct&gt; | X.32 &lt;fct&gt; |\n",
       "|---|---|---|---|---|---|---|---|---|---|---|---|---|---|---|---|---|---|---|---|---|---|\n",
       "| 1 | Cause of death and ICD-10 code                                | Males  | Females | Persons | Males  | Females | Persons | Males  | Females | Persons | ⋯ | Persons | Males  | Females | Persons | Males  | Females | Persons | Males  | Females | Persons |\n",
       "| 2 | Total deaths                                                  | 75,377 | 71,413  | 146,790 | 75,677 | 73,368  | 149,045 | 76,555 | 72,362  | 148,917 | ⋯ | 159,463 | 85,709 | 79,081  | 164,790 | 85,200 | 77,369  | 162,569 | 83,658 | 77,233  | 160,891 |\n",
       "| 3 | <!----> | <!----> | <!----> | <!----> | <!----> | <!----> | <!----> | <!----> | <!----> | <!----> | ⋯ | <!----> | <!----> | <!----> | <!----> | <!----> | <!----> | <!----> | <!----> | <!----> | <!----> |\n",
       "| 4 | Causes of death                                               | <!----> | <!----> | <!----> | <!----> | <!----> | <!----> | <!----> | <!----> | <!----> | ⋯ | <!----> | <!----> | <!----> | <!----> | <!----> | <!----> | <!----> | <!----> | <!----> | <!----> |\n",
       "| 5 | CHAPTER I Certain infectious and parasitic diseases (A00-B99) | 1,236  | 1162    | 2,398   | 1240   | 1197    | 2,437   | 1,344  | 1,344   | 2,688   | ⋯ | 2,422   | 1,180  | 1,357   | 2,537   | 1,188  | 1,162   | 2,350   | 1,190  | 1,234   | 2,424   |\n",
       "| 6 | Intestinal infectious diseases  (A00-A09)                     | 51     | 79      | 130     | 71     | 103     | 174     | 95     | 169     | 264     | ⋯ | 277     | 106    | 210     | 316     | 101    | 137     | 238     | 119    | 191     | 310     |\n",
       "\n"
      ],
      "text/plain": [
       "  X                                                             X2011  X.1    \n",
       "1 Cause of death and ICD-10 code                                Males  Females\n",
       "2 Total deaths                                                  75,377 71,413 \n",
       "3                                                                             \n",
       "4 Causes of death                                                             \n",
       "5 CHAPTER I Certain infectious and parasitic diseases (A00-B99) 1,236  1162   \n",
       "6 Intestinal infectious diseases  (A00-A09)                     51     79     \n",
       "  X.2     X2012  X.4     X.5     X2013  X.7     X.8     ⋯ X.23    X2019 \n",
       "1 Persons Males  Females Persons Males  Females Persons ⋯ Persons Males \n",
       "2 146,790 75,677 73,368  149,045 76,555 72,362  148,917 ⋯ 159,463 85,709\n",
       "3                                                       ⋯               \n",
       "4                                                       ⋯               \n",
       "5 2,398   1240   1197    2,437   1,344  1,344   2,688   ⋯ 2,422   1,180 \n",
       "6 130     71     103     174     95     169     264     ⋯ 277     106   \n",
       "  X.25    X.26    X2020  X.28    X.29    X2021  X.31    X.32   \n",
       "1 Females Persons Males  Females Persons Males  Females Persons\n",
       "2 79,081  164,790 85,200 77,369  162,569 83,658 77,233  160,891\n",
       "3                                                              \n",
       "4                                                              \n",
       "5 1,357   2,537   1,188  1,162   2,350   1,190  1,234   2,424  \n",
       "6 210     316     101    137     238     119    191     310    "
      ]
     },
     "metadata": {},
     "output_type": "display_data"
    }
   ],
   "source": [
    "df <- df[,!apply(is.na(df), 2, any)]\n",
    "head(df)\n",
    "\n",
    "#df[,'class'] <- as.numeric(as.character(df[,'class']))\n",
    "#%>% select(where(~!all(is.na(.))))"
   ]
  },
  {
   "cell_type": "code",
   "execution_count": 3,
   "id": "36cd79ae-74ae-42c5-abcd-d56e7d4f1bed",
   "metadata": {},
   "outputs": [],
   "source": [
    "colnames(df) <- c(\"Cause_Death\", \"2011_M\", \"2011_F\", \"2011_P\",\"2012_M\", \"2012_F\", \"2012_P\",\n",
    "                  \"2013_M\", \"2013_F\", \"2013_P\", \"2014_M\", \"2014_F\", \"2014_P\",\n",
    "                  \"2015_M\", \"2015_F\", \"2015_P\", \"2016_M\", \"2016_F\", \"2016_P\",\n",
    "                  \"2017_M\", \"2017_F\", \"2017_P\", \"2018_M\", \"2018_F\", \"2018_P\",\n",
    "                  \"2019_M\", \"2019_F\", \"2019_P\", \"2020_M\", \"2020_F\", \"2020_P\",\n",
    "                  \"2021_M\", \"2021_F\", \"2021_P\")"
   ]
  },
  {
   "cell_type": "code",
   "execution_count": 4,
   "id": "6e17aecd-6a61-4762-b0a6-a5f88a380033",
   "metadata": {},
   "outputs": [
    {
     "data": {
      "text/html": [
       "<table class=\"dataframe\">\n",
       "<caption>A data.frame: 6 × 34</caption>\n",
       "<thead>\n",
       "\t<tr><th></th><th scope=col>Cause_Death</th><th scope=col>2011_M</th><th scope=col>2011_F</th><th scope=col>2011_P</th><th scope=col>2012_M</th><th scope=col>2012_F</th><th scope=col>2012_P</th><th scope=col>2013_M</th><th scope=col>2013_F</th><th scope=col>2013_P</th><th scope=col>⋯</th><th scope=col>2018_P</th><th scope=col>2019_M</th><th scope=col>2019_F</th><th scope=col>2019_P</th><th scope=col>2020_M</th><th scope=col>2020_F</th><th scope=col>2020_P</th><th scope=col>2021_M</th><th scope=col>2021_F</th><th scope=col>2021_P</th></tr>\n",
       "\t<tr><th></th><th scope=col>&lt;fct&gt;</th><th scope=col>&lt;fct&gt;</th><th scope=col>&lt;fct&gt;</th><th scope=col>&lt;fct&gt;</th><th scope=col>&lt;fct&gt;</th><th scope=col>&lt;fct&gt;</th><th scope=col>&lt;fct&gt;</th><th scope=col>&lt;fct&gt;</th><th scope=col>&lt;fct&gt;</th><th scope=col>&lt;fct&gt;</th><th scope=col>⋯</th><th scope=col>&lt;fct&gt;</th><th scope=col>&lt;fct&gt;</th><th scope=col>&lt;fct&gt;</th><th scope=col>&lt;fct&gt;</th><th scope=col>&lt;fct&gt;</th><th scope=col>&lt;fct&gt;</th><th scope=col>&lt;fct&gt;</th><th scope=col>&lt;fct&gt;</th><th scope=col>&lt;fct&gt;</th><th scope=col>&lt;fct&gt;</th></tr>\n",
       "</thead>\n",
       "<tbody>\n",
       "\t<tr><th scope=row>1</th><td>Cause of death and ICD-10 code                               </td><td>Males </td><td>Females</td><td>Persons</td><td>Males </td><td>Females</td><td>Persons</td><td>Males </td><td>Females</td><td>Persons</td><td>⋯</td><td>Persons</td><td>Males </td><td>Females</td><td>Persons</td><td>Males </td><td>Females</td><td>Persons</td><td>Males </td><td>Females</td><td>Persons</td></tr>\n",
       "\t<tr><th scope=row>2</th><td>Total deaths                                                 </td><td>75,377</td><td>71,413 </td><td>146,790</td><td>75,677</td><td>73,368 </td><td>149,045</td><td>76,555</td><td>72,362 </td><td>148,917</td><td>⋯</td><td>159,463</td><td>85,709</td><td>79,081 </td><td>164,790</td><td>85,200</td><td>77,369 </td><td>162,569</td><td>83,658</td><td>77,233 </td><td>160,891</td></tr>\n",
       "\t<tr><th scope=row>3</th><td>                                                             </td><td>      </td><td>       </td><td>       </td><td>      </td><td>       </td><td>       </td><td>      </td><td>       </td><td>       </td><td>⋯</td><td>       </td><td>      </td><td>       </td><td>       </td><td>      </td><td>       </td><td>       </td><td>      </td><td>       </td><td>       </td></tr>\n",
       "\t<tr><th scope=row>4</th><td>Causes of death                                              </td><td>      </td><td>       </td><td>       </td><td>      </td><td>       </td><td>       </td><td>      </td><td>       </td><td>       </td><td>⋯</td><td>       </td><td>      </td><td>       </td><td>       </td><td>      </td><td>       </td><td>       </td><td>      </td><td>       </td><td>       </td></tr>\n",
       "\t<tr><th scope=row>5</th><td>CHAPTER I Certain infectious and parasitic diseases (A00-B99)</td><td>1,236 </td><td>1162   </td><td>2,398  </td><td>1240  </td><td>1197   </td><td>2,437  </td><td>1,344 </td><td>1,344  </td><td>2,688  </td><td>⋯</td><td>2,422  </td><td>1,180 </td><td>1,357  </td><td>2,537  </td><td>1,188 </td><td>1,162  </td><td>2,350  </td><td>1,190 </td><td>1,234  </td><td>2,424  </td></tr>\n",
       "\t<tr><th scope=row>6</th><td>Intestinal infectious diseases  (A00-A09)                    </td><td>51    </td><td>79     </td><td>130    </td><td>71    </td><td>103    </td><td>174    </td><td>95    </td><td>169    </td><td>264    </td><td>⋯</td><td>277    </td><td>106   </td><td>210    </td><td>316    </td><td>101   </td><td>137    </td><td>238    </td><td>119   </td><td>191    </td><td>310    </td></tr>\n",
       "</tbody>\n",
       "</table>\n"
      ],
      "text/latex": [
       "A data.frame: 6 × 34\n",
       "\\begin{tabular}{r|lllllllllllllllllllll}\n",
       "  & Cause\\_Death & 2011\\_M & 2011\\_F & 2011\\_P & 2012\\_M & 2012\\_F & 2012\\_P & 2013\\_M & 2013\\_F & 2013\\_P & ⋯ & 2018\\_P & 2019\\_M & 2019\\_F & 2019\\_P & 2020\\_M & 2020\\_F & 2020\\_P & 2021\\_M & 2021\\_F & 2021\\_P\\\\\n",
       "  & <fct> & <fct> & <fct> & <fct> & <fct> & <fct> & <fct> & <fct> & <fct> & <fct> & ⋯ & <fct> & <fct> & <fct> & <fct> & <fct> & <fct> & <fct> & <fct> & <fct> & <fct>\\\\\n",
       "\\hline\n",
       "\t1 & Cause of death and ICD-10 code                                & Males  & Females & Persons & Males  & Females & Persons & Males  & Females & Persons & ⋯ & Persons & Males  & Females & Persons & Males  & Females & Persons & Males  & Females & Persons\\\\\n",
       "\t2 & Total deaths                                                  & 75,377 & 71,413  & 146,790 & 75,677 & 73,368  & 149,045 & 76,555 & 72,362  & 148,917 & ⋯ & 159,463 & 85,709 & 79,081  & 164,790 & 85,200 & 77,369  & 162,569 & 83,658 & 77,233  & 160,891\\\\\n",
       "\t3 &                                                               &        &         &         &        &         &         &        &         &         & ⋯ &         &        &         &         &        &         &         &        &         &        \\\\\n",
       "\t4 & Causes of death                                               &        &         &         &        &         &         &        &         &         & ⋯ &         &        &         &         &        &         &         &        &         &        \\\\\n",
       "\t5 & CHAPTER I Certain infectious and parasitic diseases (A00-B99) & 1,236  & 1162    & 2,398   & 1240   & 1197    & 2,437   & 1,344  & 1,344   & 2,688   & ⋯ & 2,422   & 1,180  & 1,357   & 2,537   & 1,188  & 1,162   & 2,350   & 1,190  & 1,234   & 2,424  \\\\\n",
       "\t6 & Intestinal infectious diseases  (A00-A09)                     & 51     & 79      & 130     & 71     & 103     & 174     & 95     & 169     & 264     & ⋯ & 277     & 106    & 210     & 316     & 101    & 137     & 238     & 119    & 191     & 310    \\\\\n",
       "\\end{tabular}\n"
      ],
      "text/markdown": [
       "\n",
       "A data.frame: 6 × 34\n",
       "\n",
       "| <!--/--> | Cause_Death &lt;fct&gt; | 2011_M &lt;fct&gt; | 2011_F &lt;fct&gt; | 2011_P &lt;fct&gt; | 2012_M &lt;fct&gt; | 2012_F &lt;fct&gt; | 2012_P &lt;fct&gt; | 2013_M &lt;fct&gt; | 2013_F &lt;fct&gt; | 2013_P &lt;fct&gt; | ⋯ ⋯ | 2018_P &lt;fct&gt; | 2019_M &lt;fct&gt; | 2019_F &lt;fct&gt; | 2019_P &lt;fct&gt; | 2020_M &lt;fct&gt; | 2020_F &lt;fct&gt; | 2020_P &lt;fct&gt; | 2021_M &lt;fct&gt; | 2021_F &lt;fct&gt; | 2021_P &lt;fct&gt; |\n",
       "|---|---|---|---|---|---|---|---|---|---|---|---|---|---|---|---|---|---|---|---|---|---|\n",
       "| 1 | Cause of death and ICD-10 code                                | Males  | Females | Persons | Males  | Females | Persons | Males  | Females | Persons | ⋯ | Persons | Males  | Females | Persons | Males  | Females | Persons | Males  | Females | Persons |\n",
       "| 2 | Total deaths                                                  | 75,377 | 71,413  | 146,790 | 75,677 | 73,368  | 149,045 | 76,555 | 72,362  | 148,917 | ⋯ | 159,463 | 85,709 | 79,081  | 164,790 | 85,200 | 77,369  | 162,569 | 83,658 | 77,233  | 160,891 |\n",
       "| 3 | <!----> | <!----> | <!----> | <!----> | <!----> | <!----> | <!----> | <!----> | <!----> | <!----> | ⋯ | <!----> | <!----> | <!----> | <!----> | <!----> | <!----> | <!----> | <!----> | <!----> | <!----> |\n",
       "| 4 | Causes of death                                               | <!----> | <!----> | <!----> | <!----> | <!----> | <!----> | <!----> | <!----> | <!----> | ⋯ | <!----> | <!----> | <!----> | <!----> | <!----> | <!----> | <!----> | <!----> | <!----> | <!----> |\n",
       "| 5 | CHAPTER I Certain infectious and parasitic diseases (A00-B99) | 1,236  | 1162    | 2,398   | 1240   | 1197    | 2,437   | 1,344  | 1,344   | 2,688   | ⋯ | 2,422   | 1,180  | 1,357   | 2,537   | 1,188  | 1,162   | 2,350   | 1,190  | 1,234   | 2,424   |\n",
       "| 6 | Intestinal infectious diseases  (A00-A09)                     | 51     | 79      | 130     | 71     | 103     | 174     | 95     | 169     | 264     | ⋯ | 277     | 106    | 210     | 316     | 101    | 137     | 238     | 119    | 191     | 310     |\n",
       "\n"
      ],
      "text/plain": [
       "  Cause_Death                                                   2011_M 2011_F \n",
       "1 Cause of death and ICD-10 code                                Males  Females\n",
       "2 Total deaths                                                  75,377 71,413 \n",
       "3                                                                             \n",
       "4 Causes of death                                                             \n",
       "5 CHAPTER I Certain infectious and parasitic diseases (A00-B99) 1,236  1162   \n",
       "6 Intestinal infectious diseases  (A00-A09)                     51     79     \n",
       "  2011_P  2012_M 2012_F  2012_P  2013_M 2013_F  2013_P  ⋯ 2018_P  2019_M\n",
       "1 Persons Males  Females Persons Males  Females Persons ⋯ Persons Males \n",
       "2 146,790 75,677 73,368  149,045 76,555 72,362  148,917 ⋯ 159,463 85,709\n",
       "3                                                       ⋯               \n",
       "4                                                       ⋯               \n",
       "5 2,398   1240   1197    2,437   1,344  1,344   2,688   ⋯ 2,422   1,180 \n",
       "6 130     71     103     174     95     169     264     ⋯ 277     106   \n",
       "  2019_F  2019_P  2020_M 2020_F  2020_P  2021_M 2021_F  2021_P \n",
       "1 Females Persons Males  Females Persons Males  Females Persons\n",
       "2 79,081  164,790 85,200 77,369  162,569 83,658 77,233  160,891\n",
       "3                                                              \n",
       "4                                                              \n",
       "5 1,357   2,537   1,188  1,162   2,350   1,190  1,234   2,424  \n",
       "6 210     316     101    137     238     119    191     310    "
      ]
     },
     "metadata": {},
     "output_type": "display_data"
    }
   ],
   "source": [
    "head(df)"
   ]
  },
  {
   "cell_type": "code",
   "execution_count": 5,
   "id": "73239093-9ffc-4bf5-b066-4d549b2d9380",
   "metadata": {},
   "outputs": [
    {
     "data": {
      "text/html": [
       "<table class=\"dataframe\">\n",
       "<caption>A data.frame: 4 × 34</caption>\n",
       "<thead>\n",
       "\t<tr><th></th><th scope=col>Cause_Death</th><th scope=col>2011_M</th><th scope=col>2011_F</th><th scope=col>2011_P</th><th scope=col>2012_M</th><th scope=col>2012_F</th><th scope=col>2012_P</th><th scope=col>2013_M</th><th scope=col>2013_F</th><th scope=col>2013_P</th><th scope=col>⋯</th><th scope=col>2018_P</th><th scope=col>2019_M</th><th scope=col>2019_F</th><th scope=col>2019_P</th><th scope=col>2020_M</th><th scope=col>2020_F</th><th scope=col>2020_P</th><th scope=col>2021_M</th><th scope=col>2021_F</th><th scope=col>2021_P</th></tr>\n",
       "\t<tr><th></th><th scope=col>&lt;fct&gt;</th><th scope=col>&lt;fct&gt;</th><th scope=col>&lt;fct&gt;</th><th scope=col>&lt;fct&gt;</th><th scope=col>&lt;fct&gt;</th><th scope=col>&lt;fct&gt;</th><th scope=col>&lt;fct&gt;</th><th scope=col>&lt;fct&gt;</th><th scope=col>&lt;fct&gt;</th><th scope=col>&lt;fct&gt;</th><th scope=col>⋯</th><th scope=col>&lt;fct&gt;</th><th scope=col>&lt;fct&gt;</th><th scope=col>&lt;fct&gt;</th><th scope=col>&lt;fct&gt;</th><th scope=col>&lt;fct&gt;</th><th scope=col>&lt;fct&gt;</th><th scope=col>&lt;fct&gt;</th><th scope=col>&lt;fct&gt;</th><th scope=col>&lt;fct&gt;</th><th scope=col>&lt;fct&gt;</th></tr>\n",
       "</thead>\n",
       "<tbody>\n",
       "\t<tr><th scope=row>789</th><td>Influenza and pneumonia (J09-J18)                        </td><td>1121</td><td>1,353</td><td>2,474</td><td>1164</td><td>1,606</td><td>2,770</td><td>1,139</td><td>1,366</td><td>2,505</td><td>⋯</td><td>3,124</td><td>1,759</td><td>2,287</td><td>4,046</td><td>1,080</td><td>1,176</td><td>2,256</td><td>923</td><td>1,043</td><td>1,966</td></tr>\n",
       "\t<tr><th scope=row>790</th><td>Influenza due to certain identified influenza virus (J09)</td><td>12  </td><td>9    </td><td>21   </td><td>0   </td><td>0    </td><td>0    </td><td>3    </td><td>6    </td><td>9    </td><td>⋯</td><td>8    </td><td>2    </td><td>1    </td><td>3    </td><td>0    </td><td>1    </td><td>1    </td><td>0  </td><td>0    </td><td>0    </td></tr>\n",
       "\t<tr><th scope=row>791</th><td>Influenza due to other identified influenza virus (J10)  </td><td>6   </td><td>7    </td><td>13   </td><td>34  </td><td>48   </td><td>82   </td><td>21   </td><td>19   </td><td>40   </td><td>⋯</td><td>111  </td><td>352  </td><td>463  </td><td>815  </td><td>18   </td><td>22   </td><td>40   </td><td>0  </td><td>0    </td><td>0    </td></tr>\n",
       "\t<tr><th scope=row>792</th><td>Influenza, virus not identified (J11)                    </td><td>12  </td><td>23   </td><td>35   </td><td>31  </td><td>38   </td><td>69   </td><td>15   </td><td>21   </td><td>36   </td><td>⋯</td><td>29   </td><td>104  </td><td>147  </td><td>251  </td><td>3    </td><td>2    </td><td>5    </td><td>2  </td><td>0    </td><td>2    </td></tr>\n",
       "</tbody>\n",
       "</table>\n"
      ],
      "text/latex": [
       "A data.frame: 4 × 34\n",
       "\\begin{tabular}{r|lllllllllllllllllllll}\n",
       "  & Cause\\_Death & 2011\\_M & 2011\\_F & 2011\\_P & 2012\\_M & 2012\\_F & 2012\\_P & 2013\\_M & 2013\\_F & 2013\\_P & ⋯ & 2018\\_P & 2019\\_M & 2019\\_F & 2019\\_P & 2020\\_M & 2020\\_F & 2020\\_P & 2021\\_M & 2021\\_F & 2021\\_P\\\\\n",
       "  & <fct> & <fct> & <fct> & <fct> & <fct> & <fct> & <fct> & <fct> & <fct> & <fct> & ⋯ & <fct> & <fct> & <fct> & <fct> & <fct> & <fct> & <fct> & <fct> & <fct> & <fct>\\\\\n",
       "\\hline\n",
       "\t789 & Influenza and pneumonia (J09-J18)                         & 1121 & 1,353 & 2,474 & 1164 & 1,606 & 2,770 & 1,139 & 1,366 & 2,505 & ⋯ & 3,124 & 1,759 & 2,287 & 4,046 & 1,080 & 1,176 & 2,256 & 923 & 1,043 & 1,966\\\\\n",
       "\t790 & Influenza due to certain identified influenza virus (J09) & 12   & 9     & 21    & 0    & 0     & 0     & 3     & 6     & 9     & ⋯ & 8     & 2     & 1     & 3     & 0     & 1     & 1     & 0   & 0     & 0    \\\\\n",
       "\t791 & Influenza due to other identified influenza virus (J10)   & 6    & 7     & 13    & 34   & 48    & 82    & 21    & 19    & 40    & ⋯ & 111   & 352   & 463   & 815   & 18    & 22    & 40    & 0   & 0     & 0    \\\\\n",
       "\t792 & Influenza, virus not identified (J11)                     & 12   & 23    & 35    & 31   & 38    & 69    & 15    & 21    & 36    & ⋯ & 29    & 104   & 147   & 251   & 3     & 2     & 5     & 2   & 0     & 2    \\\\\n",
       "\\end{tabular}\n"
      ],
      "text/markdown": [
       "\n",
       "A data.frame: 4 × 34\n",
       "\n",
       "| <!--/--> | Cause_Death &lt;fct&gt; | 2011_M &lt;fct&gt; | 2011_F &lt;fct&gt; | 2011_P &lt;fct&gt; | 2012_M &lt;fct&gt; | 2012_F &lt;fct&gt; | 2012_P &lt;fct&gt; | 2013_M &lt;fct&gt; | 2013_F &lt;fct&gt; | 2013_P &lt;fct&gt; | ⋯ ⋯ | 2018_P &lt;fct&gt; | 2019_M &lt;fct&gt; | 2019_F &lt;fct&gt; | 2019_P &lt;fct&gt; | 2020_M &lt;fct&gt; | 2020_F &lt;fct&gt; | 2020_P &lt;fct&gt; | 2021_M &lt;fct&gt; | 2021_F &lt;fct&gt; | 2021_P &lt;fct&gt; |\n",
       "|---|---|---|---|---|---|---|---|---|---|---|---|---|---|---|---|---|---|---|---|---|---|\n",
       "| 789 | Influenza and pneumonia (J09-J18)                         | 1121 | 1,353 | 2,474 | 1164 | 1,606 | 2,770 | 1,139 | 1,366 | 2,505 | ⋯ | 3,124 | 1,759 | 2,287 | 4,046 | 1,080 | 1,176 | 2,256 | 923 | 1,043 | 1,966 |\n",
       "| 790 | Influenza due to certain identified influenza virus (J09) | 12   | 9     | 21    | 0    | 0     | 0     | 3     | 6     | 9     | ⋯ | 8     | 2     | 1     | 3     | 0     | 1     | 1     | 0   | 0     | 0     |\n",
       "| 791 | Influenza due to other identified influenza virus (J10)   | 6    | 7     | 13    | 34   | 48    | 82    | 21    | 19    | 40    | ⋯ | 111   | 352   | 463   | 815   | 18    | 22    | 40    | 0   | 0     | 0     |\n",
       "| 792 | Influenza, virus not identified (J11)                     | 12   | 23    | 35    | 31   | 38    | 69    | 15    | 21    | 36    | ⋯ | 29    | 104   | 147   | 251   | 3     | 2     | 5     | 2   | 0     | 2     |\n",
       "\n"
      ],
      "text/plain": [
       "    Cause_Death                                               2011_M 2011_F\n",
       "789 Influenza and pneumonia (J09-J18)                         1121   1,353 \n",
       "790 Influenza due to certain identified influenza virus (J09) 12     9     \n",
       "791 Influenza due to other identified influenza virus (J10)   6      7     \n",
       "792 Influenza, virus not identified (J11)                     12     23    \n",
       "    2011_P 2012_M 2012_F 2012_P 2013_M 2013_F 2013_P ⋯ 2018_P 2019_M 2019_F\n",
       "789 2,474  1164   1,606  2,770  1,139  1,366  2,505  ⋯ 3,124  1,759  2,287 \n",
       "790 21     0      0      0      3      6      9      ⋯ 8      2      1     \n",
       "791 13     34     48     82     21     19     40     ⋯ 111    352    463   \n",
       "792 35     31     38     69     15     21     36     ⋯ 29     104    147   \n",
       "    2019_P 2020_M 2020_F 2020_P 2021_M 2021_F 2021_P\n",
       "789 4,046  1,080  1,176  2,256  923    1,043  1,966 \n",
       "790 3      0      1      1      0      0      0     \n",
       "791 815    18     22     40     0      0      0     \n",
       "792 251    3      2      5      2      0      2     "
      ]
     },
     "metadata": {},
     "output_type": "display_data"
    }
   ],
   "source": [
    "# Now we need to find the columns that match the phrase 'Influenza'\n",
    "library(data.table)\n",
    "inf <- df[grep(\"Influenza\", df$Cause_Death),]\n",
    "\n",
    "head(inf)"
   ]
  },
  {
   "cell_type": "code",
   "execution_count": 6,
   "id": "f908ec5f-55d0-4278-86c1-1dad3b002d3e",
   "metadata": {},
   "outputs": [
    {
     "data": {
      "text/html": [
       "<table class=\"dataframe\">\n",
       "<caption>A data.frame: 3 × 34</caption>\n",
       "<thead>\n",
       "\t<tr><th></th><th scope=col>Cause_Death</th><th scope=col>2011_M</th><th scope=col>2011_F</th><th scope=col>2011_P</th><th scope=col>2012_M</th><th scope=col>2012_F</th><th scope=col>2012_P</th><th scope=col>2013_M</th><th scope=col>2013_F</th><th scope=col>2013_P</th><th scope=col>⋯</th><th scope=col>2018_P</th><th scope=col>2019_M</th><th scope=col>2019_F</th><th scope=col>2019_P</th><th scope=col>2020_M</th><th scope=col>2020_F</th><th scope=col>2020_P</th><th scope=col>2021_M</th><th scope=col>2021_F</th><th scope=col>2021_P</th></tr>\n",
       "\t<tr><th></th><th scope=col>&lt;fct&gt;</th><th scope=col>&lt;fct&gt;</th><th scope=col>&lt;fct&gt;</th><th scope=col>&lt;fct&gt;</th><th scope=col>&lt;fct&gt;</th><th scope=col>&lt;fct&gt;</th><th scope=col>&lt;fct&gt;</th><th scope=col>&lt;fct&gt;</th><th scope=col>&lt;fct&gt;</th><th scope=col>&lt;fct&gt;</th><th scope=col>⋯</th><th scope=col>&lt;fct&gt;</th><th scope=col>&lt;fct&gt;</th><th scope=col>&lt;fct&gt;</th><th scope=col>&lt;fct&gt;</th><th scope=col>&lt;fct&gt;</th><th scope=col>&lt;fct&gt;</th><th scope=col>&lt;fct&gt;</th><th scope=col>&lt;fct&gt;</th><th scope=col>&lt;fct&gt;</th><th scope=col>&lt;fct&gt;</th></tr>\n",
       "</thead>\n",
       "<tbody>\n",
       "\t<tr><th scope=row>790</th><td>Influenza due to certain identified influenza virus (J09)</td><td>12</td><td>9 </td><td>21</td><td>0 </td><td>0 </td><td>0 </td><td>3 </td><td>6 </td><td>9 </td><td>⋯</td><td>8  </td><td>2  </td><td>1  </td><td>3  </td><td>0 </td><td>1 </td><td>1 </td><td>0</td><td>0</td><td>0</td></tr>\n",
       "\t<tr><th scope=row>791</th><td>Influenza due to other identified influenza virus (J10)  </td><td>6 </td><td>7 </td><td>13</td><td>34</td><td>48</td><td>82</td><td>21</td><td>19</td><td>40</td><td>⋯</td><td>111</td><td>352</td><td>463</td><td>815</td><td>18</td><td>22</td><td>40</td><td>0</td><td>0</td><td>0</td></tr>\n",
       "\t<tr><th scope=row>792</th><td>Influenza, virus not identified (J11)                    </td><td>12</td><td>23</td><td>35</td><td>31</td><td>38</td><td>69</td><td>15</td><td>21</td><td>36</td><td>⋯</td><td>29 </td><td>104</td><td>147</td><td>251</td><td>3 </td><td>2 </td><td>5 </td><td>2</td><td>0</td><td>2</td></tr>\n",
       "</tbody>\n",
       "</table>\n"
      ],
      "text/latex": [
       "A data.frame: 3 × 34\n",
       "\\begin{tabular}{r|lllllllllllllllllllll}\n",
       "  & Cause\\_Death & 2011\\_M & 2011\\_F & 2011\\_P & 2012\\_M & 2012\\_F & 2012\\_P & 2013\\_M & 2013\\_F & 2013\\_P & ⋯ & 2018\\_P & 2019\\_M & 2019\\_F & 2019\\_P & 2020\\_M & 2020\\_F & 2020\\_P & 2021\\_M & 2021\\_F & 2021\\_P\\\\\n",
       "  & <fct> & <fct> & <fct> & <fct> & <fct> & <fct> & <fct> & <fct> & <fct> & <fct> & ⋯ & <fct> & <fct> & <fct> & <fct> & <fct> & <fct> & <fct> & <fct> & <fct> & <fct>\\\\\n",
       "\\hline\n",
       "\t790 & Influenza due to certain identified influenza virus (J09) & 12 & 9  & 21 & 0  & 0  & 0  & 3  & 6  & 9  & ⋯ & 8   & 2   & 1   & 3   & 0  & 1  & 1  & 0 & 0 & 0\\\\\n",
       "\t791 & Influenza due to other identified influenza virus (J10)   & 6  & 7  & 13 & 34 & 48 & 82 & 21 & 19 & 40 & ⋯ & 111 & 352 & 463 & 815 & 18 & 22 & 40 & 0 & 0 & 0\\\\\n",
       "\t792 & Influenza, virus not identified (J11)                     & 12 & 23 & 35 & 31 & 38 & 69 & 15 & 21 & 36 & ⋯ & 29  & 104 & 147 & 251 & 3  & 2  & 5  & 2 & 0 & 2\\\\\n",
       "\\end{tabular}\n"
      ],
      "text/markdown": [
       "\n",
       "A data.frame: 3 × 34\n",
       "\n",
       "| <!--/--> | Cause_Death &lt;fct&gt; | 2011_M &lt;fct&gt; | 2011_F &lt;fct&gt; | 2011_P &lt;fct&gt; | 2012_M &lt;fct&gt; | 2012_F &lt;fct&gt; | 2012_P &lt;fct&gt; | 2013_M &lt;fct&gt; | 2013_F &lt;fct&gt; | 2013_P &lt;fct&gt; | ⋯ ⋯ | 2018_P &lt;fct&gt; | 2019_M &lt;fct&gt; | 2019_F &lt;fct&gt; | 2019_P &lt;fct&gt; | 2020_M &lt;fct&gt; | 2020_F &lt;fct&gt; | 2020_P &lt;fct&gt; | 2021_M &lt;fct&gt; | 2021_F &lt;fct&gt; | 2021_P &lt;fct&gt; |\n",
       "|---|---|---|---|---|---|---|---|---|---|---|---|---|---|---|---|---|---|---|---|---|---|\n",
       "| 790 | Influenza due to certain identified influenza virus (J09) | 12 | 9  | 21 | 0  | 0  | 0  | 3  | 6  | 9  | ⋯ | 8   | 2   | 1   | 3   | 0  | 1  | 1  | 0 | 0 | 0 |\n",
       "| 791 | Influenza due to other identified influenza virus (J10)   | 6  | 7  | 13 | 34 | 48 | 82 | 21 | 19 | 40 | ⋯ | 111 | 352 | 463 | 815 | 18 | 22 | 40 | 0 | 0 | 0 |\n",
       "| 792 | Influenza, virus not identified (J11)                     | 12 | 23 | 35 | 31 | 38 | 69 | 15 | 21 | 36 | ⋯ | 29  | 104 | 147 | 251 | 3  | 2  | 5  | 2 | 0 | 2 |\n",
       "\n"
      ],
      "text/plain": [
       "    Cause_Death                                               2011_M 2011_F\n",
       "790 Influenza due to certain identified influenza virus (J09) 12     9     \n",
       "791 Influenza due to other identified influenza virus (J10)   6      7     \n",
       "792 Influenza, virus not identified (J11)                     12     23    \n",
       "    2011_P 2012_M 2012_F 2012_P 2013_M 2013_F 2013_P ⋯ 2018_P 2019_M 2019_F\n",
       "790 21     0      0      0      3      6      9      ⋯ 8      2      1     \n",
       "791 13     34     48     82     21     19     40     ⋯ 111    352    463   \n",
       "792 35     31     38     69     15     21     36     ⋯ 29     104    147   \n",
       "    2019_P 2020_M 2020_F 2020_P 2021_M 2021_F 2021_P\n",
       "790 3      0      1      1      0      0      0     \n",
       "791 815    18     22     40     0      0      0     \n",
       "792 251    3      2      5      2      0      2     "
      ]
     },
     "metadata": {},
     "output_type": "display_data"
    }
   ],
   "source": [
    "# now we want to remove row 1 as this row was a sum of all sub catagories of intluenza and pneumonia\n",
    "df1 <- inf[-1,]\n",
    "df1"
   ]
  },
  {
   "cell_type": "code",
   "execution_count": 7,
   "id": "0d693cbb-9474-4193-8e44-f0c77ef42260",
   "metadata": {},
   "outputs": [
    {
     "data": {
      "text/html": [
       "<table class=\"dataframe\">\n",
       "<caption>A data.frame: 6 × 44</caption>\n",
       "<thead>\n",
       "\t<tr><th></th><th scope=col>X</th><th scope=col>X2008</th><th scope=col>X.1</th><th scope=col>X.2</th><th scope=col>X.3</th><th scope=col>X2009</th><th scope=col>X.4</th><th scope=col>X.5</th><th scope=col>X.6</th><th scope=col>X2010</th><th scope=col>⋯</th><th scope=col>X.25</th><th scope=col>X.26</th><th scope=col>X.27</th><th scope=col>X2017</th><th scope=col>X.28</th><th scope=col>X.29</th><th scope=col>X.30</th><th scope=col>X2018</th><th scope=col>X.31</th><th scope=col>X.32</th></tr>\n",
       "\t<tr><th></th><th scope=col>&lt;fct&gt;</th><th scope=col>&lt;fct&gt;</th><th scope=col>&lt;fct&gt;</th><th scope=col>&lt;fct&gt;</th><th scope=col>&lt;lgl&gt;</th><th scope=col>&lt;fct&gt;</th><th scope=col>&lt;fct&gt;</th><th scope=col>&lt;fct&gt;</th><th scope=col>&lt;lgl&gt;</th><th scope=col>&lt;fct&gt;</th><th scope=col>⋯</th><th scope=col>&lt;fct&gt;</th><th scope=col>&lt;fct&gt;</th><th scope=col>&lt;lgl&gt;</th><th scope=col>&lt;fct&gt;</th><th scope=col>&lt;fct&gt;</th><th scope=col>&lt;fct&gt;</th><th scope=col>&lt;lgl&gt;</th><th scope=col>&lt;fct&gt;</th><th scope=col>&lt;fct&gt;</th><th scope=col>&lt;fct&gt;</th></tr>\n",
       "</thead>\n",
       "<tbody>\n",
       "\t<tr><th scope=row>1</th><td>Cause of death and ICD-10 code                               </td><td>Males </td><td>Females</td><td>Persons</td><td>NA</td><td>Males </td><td>Females</td><td>Persons</td><td>NA</td><td>Males </td><td>⋯</td><td>Females </td><td>Persons  </td><td>NA</td><td>Males   </td><td>Females </td><td>Persons  </td><td>NA</td><td>Males </td><td>Females</td><td>Persons</td></tr>\n",
       "\t<tr><th scope=row>2</th><td>Total deaths                                                 </td><td>72,810</td><td>69,699 </td><td>142,509</td><td>NA</td><td>72,665</td><td>68,639 </td><td>141,304</td><td>NA</td><td>73,040</td><td>⋯</td><td> 76,653 </td><td> 158,478 </td><td>NA</td><td> 83,997 </td><td> 79,019 </td><td> 163,016 </td><td>NA</td><td>76,307</td><td>71,051 </td><td>147,358</td></tr>\n",
       "\t<tr><th scope=row>3</th><td>                                                             </td><td>      </td><td>       </td><td>       </td><td>NA</td><td>      </td><td>       </td><td>       </td><td>NA</td><td>      </td><td>⋯</td><td>        </td><td>         </td><td>NA</td><td>        </td><td>        </td><td>         </td><td>NA</td><td>      </td><td>       </td><td>       </td></tr>\n",
       "\t<tr><th scope=row>4</th><td>                                                             </td><td>      </td><td>       </td><td>       </td><td>NA</td><td>      </td><td>       </td><td>       </td><td>NA</td><td>      </td><td>⋯</td><td>        </td><td>         </td><td>NA</td><td>        </td><td>        </td><td>         </td><td>NA</td><td>      </td><td>       </td><td>       </td></tr>\n",
       "\t<tr><th scope=row>5</th><td>Causes of death                                              </td><td>      </td><td>       </td><td>       </td><td>NA</td><td>      </td><td>       </td><td>       </td><td>NA</td><td>      </td><td>⋯</td><td>        </td><td>         </td><td>NA</td><td>        </td><td>        </td><td>         </td><td>NA</td><td>      </td><td>       </td><td>       </td></tr>\n",
       "\t<tr><th scope=row>6</th><td>CHAPTER I Certain infectious and parasitic diseases (A00-B99)</td><td>1011  </td><td>958    </td><td>1,969  </td><td>NA</td><td>958   </td><td>851    </td><td>1,809  </td><td>NA</td><td>1131  </td><td>⋯</td><td>1,372   </td><td>2,817    </td><td>NA</td><td>1,342   </td><td>1,306   </td><td>2,648    </td><td>NA</td><td>1,119 </td><td>1,150  </td><td>2,269  </td></tr>\n",
       "</tbody>\n",
       "</table>\n"
      ],
      "text/latex": [
       "A data.frame: 6 × 44\n",
       "\\begin{tabular}{r|lllllllllllllllllllll}\n",
       "  & X & X2008 & X.1 & X.2 & X.3 & X2009 & X.4 & X.5 & X.6 & X2010 & ⋯ & X.25 & X.26 & X.27 & X2017 & X.28 & X.29 & X.30 & X2018 & X.31 & X.32\\\\\n",
       "  & <fct> & <fct> & <fct> & <fct> & <lgl> & <fct> & <fct> & <fct> & <lgl> & <fct> & ⋯ & <fct> & <fct> & <lgl> & <fct> & <fct> & <fct> & <lgl> & <fct> & <fct> & <fct>\\\\\n",
       "\\hline\n",
       "\t1 & Cause of death and ICD-10 code                                & Males  & Females & Persons & NA & Males  & Females & Persons & NA & Males  & ⋯ & Females  & Persons   & NA & Males    & Females  & Persons   & NA & Males  & Females & Persons\\\\\n",
       "\t2 & Total deaths                                                  & 72,810 & 69,699  & 142,509 & NA & 72,665 & 68,639  & 141,304 & NA & 73,040 & ⋯ &  76,653  &  158,478  & NA &  83,997  &  79,019  &  163,016  & NA & 76,307 & 71,051  & 147,358\\\\\n",
       "\t3 &                                                               &        &         &         & NA &        &         &         & NA &        & ⋯ &          &           & NA &          &          &           & NA &        &         &        \\\\\n",
       "\t4 &                                                               &        &         &         & NA &        &         &         & NA &        & ⋯ &          &           & NA &          &          &           & NA &        &         &        \\\\\n",
       "\t5 & Causes of death                                               &        &         &         & NA &        &         &         & NA &        & ⋯ &          &           & NA &          &          &           & NA &        &         &        \\\\\n",
       "\t6 & CHAPTER I Certain infectious and parasitic diseases (A00-B99) & 1011   & 958     & 1,969   & NA & 958    & 851     & 1,809   & NA & 1131   & ⋯ & 1,372    & 2,817     & NA & 1,342    & 1,306    & 2,648     & NA & 1,119  & 1,150   & 2,269  \\\\\n",
       "\\end{tabular}\n"
      ],
      "text/markdown": [
       "\n",
       "A data.frame: 6 × 44\n",
       "\n",
       "| <!--/--> | X &lt;fct&gt; | X2008 &lt;fct&gt; | X.1 &lt;fct&gt; | X.2 &lt;fct&gt; | X.3 &lt;lgl&gt; | X2009 &lt;fct&gt; | X.4 &lt;fct&gt; | X.5 &lt;fct&gt; | X.6 &lt;lgl&gt; | X2010 &lt;fct&gt; | ⋯ ⋯ | X.25 &lt;fct&gt; | X.26 &lt;fct&gt; | X.27 &lt;lgl&gt; | X2017 &lt;fct&gt; | X.28 &lt;fct&gt; | X.29 &lt;fct&gt; | X.30 &lt;lgl&gt; | X2018 &lt;fct&gt; | X.31 &lt;fct&gt; | X.32 &lt;fct&gt; |\n",
       "|---|---|---|---|---|---|---|---|---|---|---|---|---|---|---|---|---|---|---|---|---|---|\n",
       "| 1 | Cause of death and ICD-10 code                                | Males  | Females | Persons | NA | Males  | Females | Persons | NA | Males  | ⋯ | Females  | Persons   | NA | Males    | Females  | Persons   | NA | Males  | Females | Persons |\n",
       "| 2 | Total deaths                                                  | 72,810 | 69,699  | 142,509 | NA | 72,665 | 68,639  | 141,304 | NA | 73,040 | ⋯ |  76,653  |  158,478  | NA |  83,997  |  79,019  |  163,016  | NA | 76,307 | 71,051  | 147,358 |\n",
       "| 3 | <!----> | <!----> | <!----> | <!----> | NA | <!----> | <!----> | <!----> | NA | <!----> | ⋯ | <!----> | <!----> | NA | <!----> | <!----> | <!----> | NA | <!----> | <!----> | <!----> |\n",
       "| 4 | <!----> | <!----> | <!----> | <!----> | NA | <!----> | <!----> | <!----> | NA | <!----> | ⋯ | <!----> | <!----> | NA | <!----> | <!----> | <!----> | NA | <!----> | <!----> | <!----> |\n",
       "| 5 | Causes of death                                               | <!----> | <!----> | <!----> | NA | <!----> | <!----> | <!----> | NA | <!----> | ⋯ | <!----> | <!----> | NA | <!----> | <!----> | <!----> | NA | <!----> | <!----> | <!----> |\n",
       "| 6 | CHAPTER I Certain infectious and parasitic diseases (A00-B99) | 1011   | 958     | 1,969   | NA | 958    | 851     | 1,809   | NA | 1131   | ⋯ | 1,372    | 2,817     | NA | 1,342    | 1,306    | 2,648     | NA | 1,119  | 1,150   | 2,269   |\n",
       "\n"
      ],
      "text/plain": [
       "  X                                                             X2008  X.1    \n",
       "1 Cause of death and ICD-10 code                                Males  Females\n",
       "2 Total deaths                                                  72,810 69,699 \n",
       "3                                                                             \n",
       "4                                                                             \n",
       "5 Causes of death                                                             \n",
       "6 CHAPTER I Certain infectious and parasitic diseases (A00-B99) 1011   958    \n",
       "  X.2     X.3 X2009  X.4     X.5     X.6 X2010  ⋯ X.25     X.26      X.27\n",
       "1 Persons NA  Males  Females Persons NA  Males  ⋯ Females  Persons   NA  \n",
       "2 142,509 NA  72,665 68,639  141,304 NA  73,040 ⋯  76,653   158,478  NA  \n",
       "3         NA                         NA         ⋯                    NA  \n",
       "4         NA                         NA         ⋯                    NA  \n",
       "5         NA                         NA         ⋯                    NA  \n",
       "6 1,969   NA  958    851     1,809   NA  1131   ⋯ 1,372    2,817     NA  \n",
       "  X2017    X.28     X.29      X.30 X2018  X.31    X.32   \n",
       "1 Males    Females  Persons   NA   Males  Females Persons\n",
       "2  83,997   79,019   163,016  NA   76,307 71,051  147,358\n",
       "3                             NA                         \n",
       "4                             NA                         \n",
       "5                             NA                         \n",
       "6 1,342    1,306    2,648     NA   1,119  1,150   2,269  "
      ]
     },
     "metadata": {},
     "output_type": "display_data"
    }
   ],
   "source": [
    "#Now we will clean the other data set which includes from 2008 and make sure our data 2011-2018 is the same before merging\n",
    "head(df_extra)"
   ]
  },
  {
   "cell_type": "code",
   "execution_count": 8,
   "id": "bb0e1477-849d-423a-8984-09120214754f",
   "metadata": {},
   "outputs": [
    {
     "data": {
      "text/html": [
       "<table class=\"dataframe\">\n",
       "<caption>A data.frame: 6 × 34</caption>\n",
       "<thead>\n",
       "\t<tr><th></th><th scope=col>X</th><th scope=col>X2008</th><th scope=col>X.1</th><th scope=col>X.2</th><th scope=col>X2009</th><th scope=col>X.4</th><th scope=col>X.5</th><th scope=col>X2010</th><th scope=col>X.7</th><th scope=col>X.8</th><th scope=col>⋯</th><th scope=col>X.23</th><th scope=col>X2016</th><th scope=col>X.25</th><th scope=col>X.26</th><th scope=col>X2017</th><th scope=col>X.28</th><th scope=col>X.29</th><th scope=col>X2018</th><th scope=col>X.31</th><th scope=col>X.32</th></tr>\n",
       "\t<tr><th></th><th scope=col>&lt;fct&gt;</th><th scope=col>&lt;fct&gt;</th><th scope=col>&lt;fct&gt;</th><th scope=col>&lt;fct&gt;</th><th scope=col>&lt;fct&gt;</th><th scope=col>&lt;fct&gt;</th><th scope=col>&lt;fct&gt;</th><th scope=col>&lt;fct&gt;</th><th scope=col>&lt;fct&gt;</th><th scope=col>&lt;fct&gt;</th><th scope=col>⋯</th><th scope=col>&lt;fct&gt;</th><th scope=col>&lt;fct&gt;</th><th scope=col>&lt;fct&gt;</th><th scope=col>&lt;fct&gt;</th><th scope=col>&lt;fct&gt;</th><th scope=col>&lt;fct&gt;</th><th scope=col>&lt;fct&gt;</th><th scope=col>&lt;fct&gt;</th><th scope=col>&lt;fct&gt;</th><th scope=col>&lt;fct&gt;</th></tr>\n",
       "</thead>\n",
       "<tbody>\n",
       "\t<tr><th scope=row>1</th><td>Cause of death and ICD-10 code                               </td><td>Males </td><td>Females</td><td>Persons</td><td>Males </td><td>Females</td><td>Persons</td><td>Males </td><td>Females</td><td>Persons</td><td>⋯</td><td>Persons</td><td>Males   </td><td>Females </td><td>Persons  </td><td>Males   </td><td>Females </td><td>Persons  </td><td>Males </td><td>Females</td><td>Persons</td></tr>\n",
       "\t<tr><th scope=row>2</th><td>Total deaths                                                 </td><td>72,810</td><td>69,699 </td><td>142,509</td><td>72,665</td><td>68,639 </td><td>141,304</td><td>73,040</td><td>69,737 </td><td>142,777</td><td>⋯</td><td>157,271</td><td> 81,825 </td><td> 76,653 </td><td> 158,478 </td><td> 83,997 </td><td> 79,019 </td><td> 163,016 </td><td>76,307</td><td>71,051 </td><td>147,358</td></tr>\n",
       "\t<tr><th scope=row>3</th><td>                                                             </td><td>      </td><td>       </td><td>       </td><td>      </td><td>       </td><td>       </td><td>      </td><td>       </td><td>       </td><td>⋯</td><td>       </td><td>        </td><td>        </td><td>         </td><td>        </td><td>        </td><td>         </td><td>      </td><td>       </td><td>       </td></tr>\n",
       "\t<tr><th scope=row>4</th><td>                                                             </td><td>      </td><td>       </td><td>       </td><td>      </td><td>       </td><td>       </td><td>      </td><td>       </td><td>       </td><td>⋯</td><td>       </td><td>        </td><td>        </td><td>         </td><td>        </td><td>        </td><td>         </td><td>      </td><td>       </td><td>       </td></tr>\n",
       "\t<tr><th scope=row>5</th><td>Causes of death                                              </td><td>      </td><td>       </td><td>       </td><td>      </td><td>       </td><td>       </td><td>      </td><td>       </td><td>       </td><td>⋯</td><td>       </td><td>        </td><td>        </td><td>         </td><td>        </td><td>        </td><td>         </td><td>      </td><td>       </td><td>       </td></tr>\n",
       "\t<tr><th scope=row>6</th><td>CHAPTER I Certain infectious and parasitic diseases (A00-B99)</td><td>1011  </td><td>958    </td><td>1,969  </td><td>958   </td><td>851    </td><td>1,809  </td><td>1131  </td><td>1016   </td><td>2,147  </td><td>⋯</td><td>2,807  </td><td>1,445   </td><td>1,372   </td><td>2,817    </td><td>1,342   </td><td>1,306   </td><td>2,648    </td><td>1,119 </td><td>1,150  </td><td>2,269  </td></tr>\n",
       "</tbody>\n",
       "</table>\n"
      ],
      "text/latex": [
       "A data.frame: 6 × 34\n",
       "\\begin{tabular}{r|lllllllllllllllllllll}\n",
       "  & X & X2008 & X.1 & X.2 & X2009 & X.4 & X.5 & X2010 & X.7 & X.8 & ⋯ & X.23 & X2016 & X.25 & X.26 & X2017 & X.28 & X.29 & X2018 & X.31 & X.32\\\\\n",
       "  & <fct> & <fct> & <fct> & <fct> & <fct> & <fct> & <fct> & <fct> & <fct> & <fct> & ⋯ & <fct> & <fct> & <fct> & <fct> & <fct> & <fct> & <fct> & <fct> & <fct> & <fct>\\\\\n",
       "\\hline\n",
       "\t1 & Cause of death and ICD-10 code                                & Males  & Females & Persons & Males  & Females & Persons & Males  & Females & Persons & ⋯ & Persons & Males    & Females  & Persons   & Males    & Females  & Persons   & Males  & Females & Persons\\\\\n",
       "\t2 & Total deaths                                                  & 72,810 & 69,699  & 142,509 & 72,665 & 68,639  & 141,304 & 73,040 & 69,737  & 142,777 & ⋯ & 157,271 &  81,825  &  76,653  &  158,478  &  83,997  &  79,019  &  163,016  & 76,307 & 71,051  & 147,358\\\\\n",
       "\t3 &                                                               &        &         &         &        &         &         &        &         &         & ⋯ &         &          &          &           &          &          &           &        &         &        \\\\\n",
       "\t4 &                                                               &        &         &         &        &         &         &        &         &         & ⋯ &         &          &          &           &          &          &           &        &         &        \\\\\n",
       "\t5 & Causes of death                                               &        &         &         &        &         &         &        &         &         & ⋯ &         &          &          &           &          &          &           &        &         &        \\\\\n",
       "\t6 & CHAPTER I Certain infectious and parasitic diseases (A00-B99) & 1011   & 958     & 1,969   & 958    & 851     & 1,809   & 1131   & 1016    & 2,147   & ⋯ & 2,807   & 1,445    & 1,372    & 2,817     & 1,342    & 1,306    & 2,648     & 1,119  & 1,150   & 2,269  \\\\\n",
       "\\end{tabular}\n"
      ],
      "text/markdown": [
       "\n",
       "A data.frame: 6 × 34\n",
       "\n",
       "| <!--/--> | X &lt;fct&gt; | X2008 &lt;fct&gt; | X.1 &lt;fct&gt; | X.2 &lt;fct&gt; | X2009 &lt;fct&gt; | X.4 &lt;fct&gt; | X.5 &lt;fct&gt; | X2010 &lt;fct&gt; | X.7 &lt;fct&gt; | X.8 &lt;fct&gt; | ⋯ ⋯ | X.23 &lt;fct&gt; | X2016 &lt;fct&gt; | X.25 &lt;fct&gt; | X.26 &lt;fct&gt; | X2017 &lt;fct&gt; | X.28 &lt;fct&gt; | X.29 &lt;fct&gt; | X2018 &lt;fct&gt; | X.31 &lt;fct&gt; | X.32 &lt;fct&gt; |\n",
       "|---|---|---|---|---|---|---|---|---|---|---|---|---|---|---|---|---|---|---|---|---|---|\n",
       "| 1 | Cause of death and ICD-10 code                                | Males  | Females | Persons | Males  | Females | Persons | Males  | Females | Persons | ⋯ | Persons | Males    | Females  | Persons   | Males    | Females  | Persons   | Males  | Females | Persons |\n",
       "| 2 | Total deaths                                                  | 72,810 | 69,699  | 142,509 | 72,665 | 68,639  | 141,304 | 73,040 | 69,737  | 142,777 | ⋯ | 157,271 |  81,825  |  76,653  |  158,478  |  83,997  |  79,019  |  163,016  | 76,307 | 71,051  | 147,358 |\n",
       "| 3 | <!----> | <!----> | <!----> | <!----> | <!----> | <!----> | <!----> | <!----> | <!----> | <!----> | ⋯ | <!----> | <!----> | <!----> | <!----> | <!----> | <!----> | <!----> | <!----> | <!----> | <!----> |\n",
       "| 4 | <!----> | <!----> | <!----> | <!----> | <!----> | <!----> | <!----> | <!----> | <!----> | <!----> | ⋯ | <!----> | <!----> | <!----> | <!----> | <!----> | <!----> | <!----> | <!----> | <!----> | <!----> |\n",
       "| 5 | Causes of death                                               | <!----> | <!----> | <!----> | <!----> | <!----> | <!----> | <!----> | <!----> | <!----> | ⋯ | <!----> | <!----> | <!----> | <!----> | <!----> | <!----> | <!----> | <!----> | <!----> | <!----> |\n",
       "| 6 | CHAPTER I Certain infectious and parasitic diseases (A00-B99) | 1011   | 958     | 1,969   | 958    | 851     | 1,809   | 1131   | 1016    | 2,147   | ⋯ | 2,807   | 1,445    | 1,372    | 2,817     | 1,342    | 1,306    | 2,648     | 1,119  | 1,150   | 2,269   |\n",
       "\n"
      ],
      "text/plain": [
       "  X                                                             X2008  X.1    \n",
       "1 Cause of death and ICD-10 code                                Males  Females\n",
       "2 Total deaths                                                  72,810 69,699 \n",
       "3                                                                             \n",
       "4                                                                             \n",
       "5 Causes of death                                                             \n",
       "6 CHAPTER I Certain infectious and parasitic diseases (A00-B99) 1011   958    \n",
       "  X.2     X2009  X.4     X.5     X2010  X.7     X.8     ⋯ X.23    X2016   \n",
       "1 Persons Males  Females Persons Males  Females Persons ⋯ Persons Males   \n",
       "2 142,509 72,665 68,639  141,304 73,040 69,737  142,777 ⋯ 157,271  81,825 \n",
       "3                                                       ⋯                 \n",
       "4                                                       ⋯                 \n",
       "5                                                       ⋯                 \n",
       "6 1,969   958    851     1,809   1131   1016    2,147   ⋯ 2,807   1,445   \n",
       "  X.25     X.26      X2017    X.28     X.29      X2018  X.31    X.32   \n",
       "1 Females  Persons   Males    Females  Persons   Males  Females Persons\n",
       "2  76,653   158,478   83,997   79,019   163,016  76,307 71,051  147,358\n",
       "3                                                                      \n",
       "4                                                                      \n",
       "5                                                                      \n",
       "6 1,372    2,817     1,342    1,306    2,648     1,119  1,150   2,269  "
      ]
     },
     "metadata": {},
     "output_type": "display_data"
    }
   ],
   "source": [
    "#remove the columns with NA\n",
    "df_extra<- df_extra[,!apply(is.na(df_extra), 2, any)]\n",
    "head(df_extra)"
   ]
  },
  {
   "cell_type": "code",
   "execution_count": 9,
   "id": "b0b3b449-905f-42d9-9bef-07ad6d3f371f",
   "metadata": {},
   "outputs": [],
   "source": [
    "#fix the column names so we know the male and females for each year\n",
    "colnames(df_extra) <- c(\"Cause_Death\", \"2008_M\", \"2008_F\", \"2008_P\",\"2009_M\", \"2009_F\", \"2009_P\",\n",
    "                  \"2010_M\", \"2010_F\", \"2010_P\", \"2011_M\", \"2011_F\", \"2011_P\",\n",
    "                  \"2012_M\", \"2012_F\", \"2012_P\", \"2013_M\", \"2013_F\", \"2013_P\",\n",
    "                  \"2014_M\", \"2014_F\", \"2014P\", \"2015_M\", \"2015_F\", \"2015_P\",\n",
    "                  \"2016_M\", \"2016_F\", \"2016_P\", \"2017_M\", \"2017_F\", \"2017_P\",\n",
    "                  \"2018_M\", \"2018_F\", \"2018_P\")"
   ]
  },
  {
   "cell_type": "code",
   "execution_count": 10,
   "id": "321246e1-bb9c-4ab4-b31b-4de6f5993b08",
   "metadata": {},
   "outputs": [
    {
     "data": {
      "text/html": [
       "<table class=\"dataframe\">\n",
       "<caption>A data.frame: 6 × 34</caption>\n",
       "<thead>\n",
       "\t<tr><th></th><th scope=col>Cause_Death</th><th scope=col>2008_M</th><th scope=col>2008_F</th><th scope=col>2008_P</th><th scope=col>2009_M</th><th scope=col>2009_F</th><th scope=col>2009_P</th><th scope=col>2010_M</th><th scope=col>2010_F</th><th scope=col>2010_P</th><th scope=col>⋯</th><th scope=col>2015_P</th><th scope=col>2016_M</th><th scope=col>2016_F</th><th scope=col>2016_P</th><th scope=col>2017_M</th><th scope=col>2017_F</th><th scope=col>2017_P</th><th scope=col>2018_M</th><th scope=col>2018_F</th><th scope=col>2018_P</th></tr>\n",
       "\t<tr><th></th><th scope=col>&lt;fct&gt;</th><th scope=col>&lt;fct&gt;</th><th scope=col>&lt;fct&gt;</th><th scope=col>&lt;fct&gt;</th><th scope=col>&lt;fct&gt;</th><th scope=col>&lt;fct&gt;</th><th scope=col>&lt;fct&gt;</th><th scope=col>&lt;fct&gt;</th><th scope=col>&lt;fct&gt;</th><th scope=col>&lt;fct&gt;</th><th scope=col>⋯</th><th scope=col>&lt;fct&gt;</th><th scope=col>&lt;fct&gt;</th><th scope=col>&lt;fct&gt;</th><th scope=col>&lt;fct&gt;</th><th scope=col>&lt;fct&gt;</th><th scope=col>&lt;fct&gt;</th><th scope=col>&lt;fct&gt;</th><th scope=col>&lt;fct&gt;</th><th scope=col>&lt;fct&gt;</th><th scope=col>&lt;fct&gt;</th></tr>\n",
       "</thead>\n",
       "<tbody>\n",
       "\t<tr><th scope=row>1</th><td>Cause of death and ICD-10 code                               </td><td>Males </td><td>Females</td><td>Persons</td><td>Males </td><td>Females</td><td>Persons</td><td>Males </td><td>Females</td><td>Persons</td><td>⋯</td><td>Persons</td><td>Males   </td><td>Females </td><td>Persons  </td><td>Males   </td><td>Females </td><td>Persons  </td><td>Males </td><td>Females</td><td>Persons</td></tr>\n",
       "\t<tr><th scope=row>2</th><td>Total deaths                                                 </td><td>72,810</td><td>69,699 </td><td>142,509</td><td>72,665</td><td>68,639 </td><td>141,304</td><td>73,040</td><td>69,737 </td><td>142,777</td><td>⋯</td><td>157,271</td><td> 81,825 </td><td> 76,653 </td><td> 158,478 </td><td> 83,997 </td><td> 79,019 </td><td> 163,016 </td><td>76,307</td><td>71,051 </td><td>147,358</td></tr>\n",
       "\t<tr><th scope=row>3</th><td>                                                             </td><td>      </td><td>       </td><td>       </td><td>      </td><td>       </td><td>       </td><td>      </td><td>       </td><td>       </td><td>⋯</td><td>       </td><td>        </td><td>        </td><td>         </td><td>        </td><td>        </td><td>         </td><td>      </td><td>       </td><td>       </td></tr>\n",
       "\t<tr><th scope=row>4</th><td>                                                             </td><td>      </td><td>       </td><td>       </td><td>      </td><td>       </td><td>       </td><td>      </td><td>       </td><td>       </td><td>⋯</td><td>       </td><td>        </td><td>        </td><td>         </td><td>        </td><td>        </td><td>         </td><td>      </td><td>       </td><td>       </td></tr>\n",
       "\t<tr><th scope=row>5</th><td>Causes of death                                              </td><td>      </td><td>       </td><td>       </td><td>      </td><td>       </td><td>       </td><td>      </td><td>       </td><td>       </td><td>⋯</td><td>       </td><td>        </td><td>        </td><td>         </td><td>        </td><td>        </td><td>         </td><td>      </td><td>       </td><td>       </td></tr>\n",
       "\t<tr><th scope=row>6</th><td>CHAPTER I Certain infectious and parasitic diseases (A00-B99)</td><td>1011  </td><td>958    </td><td>1,969  </td><td>958   </td><td>851    </td><td>1,809  </td><td>1131  </td><td>1016   </td><td>2,147  </td><td>⋯</td><td>2,807  </td><td>1,445   </td><td>1,372   </td><td>2,817    </td><td>1,342   </td><td>1,306   </td><td>2,648    </td><td>1,119 </td><td>1,150  </td><td>2,269  </td></tr>\n",
       "</tbody>\n",
       "</table>\n"
      ],
      "text/latex": [
       "A data.frame: 6 × 34\n",
       "\\begin{tabular}{r|lllllllllllllllllllll}\n",
       "  & Cause\\_Death & 2008\\_M & 2008\\_F & 2008\\_P & 2009\\_M & 2009\\_F & 2009\\_P & 2010\\_M & 2010\\_F & 2010\\_P & ⋯ & 2015\\_P & 2016\\_M & 2016\\_F & 2016\\_P & 2017\\_M & 2017\\_F & 2017\\_P & 2018\\_M & 2018\\_F & 2018\\_P\\\\\n",
       "  & <fct> & <fct> & <fct> & <fct> & <fct> & <fct> & <fct> & <fct> & <fct> & <fct> & ⋯ & <fct> & <fct> & <fct> & <fct> & <fct> & <fct> & <fct> & <fct> & <fct> & <fct>\\\\\n",
       "\\hline\n",
       "\t1 & Cause of death and ICD-10 code                                & Males  & Females & Persons & Males  & Females & Persons & Males  & Females & Persons & ⋯ & Persons & Males    & Females  & Persons   & Males    & Females  & Persons   & Males  & Females & Persons\\\\\n",
       "\t2 & Total deaths                                                  & 72,810 & 69,699  & 142,509 & 72,665 & 68,639  & 141,304 & 73,040 & 69,737  & 142,777 & ⋯ & 157,271 &  81,825  &  76,653  &  158,478  &  83,997  &  79,019  &  163,016  & 76,307 & 71,051  & 147,358\\\\\n",
       "\t3 &                                                               &        &         &         &        &         &         &        &         &         & ⋯ &         &          &          &           &          &          &           &        &         &        \\\\\n",
       "\t4 &                                                               &        &         &         &        &         &         &        &         &         & ⋯ &         &          &          &           &          &          &           &        &         &        \\\\\n",
       "\t5 & Causes of death                                               &        &         &         &        &         &         &        &         &         & ⋯ &         &          &          &           &          &          &           &        &         &        \\\\\n",
       "\t6 & CHAPTER I Certain infectious and parasitic diseases (A00-B99) & 1011   & 958     & 1,969   & 958    & 851     & 1,809   & 1131   & 1016    & 2,147   & ⋯ & 2,807   & 1,445    & 1,372    & 2,817     & 1,342    & 1,306    & 2,648     & 1,119  & 1,150   & 2,269  \\\\\n",
       "\\end{tabular}\n"
      ],
      "text/markdown": [
       "\n",
       "A data.frame: 6 × 34\n",
       "\n",
       "| <!--/--> | Cause_Death &lt;fct&gt; | 2008_M &lt;fct&gt; | 2008_F &lt;fct&gt; | 2008_P &lt;fct&gt; | 2009_M &lt;fct&gt; | 2009_F &lt;fct&gt; | 2009_P &lt;fct&gt; | 2010_M &lt;fct&gt; | 2010_F &lt;fct&gt; | 2010_P &lt;fct&gt; | ⋯ ⋯ | 2015_P &lt;fct&gt; | 2016_M &lt;fct&gt; | 2016_F &lt;fct&gt; | 2016_P &lt;fct&gt; | 2017_M &lt;fct&gt; | 2017_F &lt;fct&gt; | 2017_P &lt;fct&gt; | 2018_M &lt;fct&gt; | 2018_F &lt;fct&gt; | 2018_P &lt;fct&gt; |\n",
       "|---|---|---|---|---|---|---|---|---|---|---|---|---|---|---|---|---|---|---|---|---|---|\n",
       "| 1 | Cause of death and ICD-10 code                                | Males  | Females | Persons | Males  | Females | Persons | Males  | Females | Persons | ⋯ | Persons | Males    | Females  | Persons   | Males    | Females  | Persons   | Males  | Females | Persons |\n",
       "| 2 | Total deaths                                                  | 72,810 | 69,699  | 142,509 | 72,665 | 68,639  | 141,304 | 73,040 | 69,737  | 142,777 | ⋯ | 157,271 |  81,825  |  76,653  |  158,478  |  83,997  |  79,019  |  163,016  | 76,307 | 71,051  | 147,358 |\n",
       "| 3 | <!----> | <!----> | <!----> | <!----> | <!----> | <!----> | <!----> | <!----> | <!----> | <!----> | ⋯ | <!----> | <!----> | <!----> | <!----> | <!----> | <!----> | <!----> | <!----> | <!----> | <!----> |\n",
       "| 4 | <!----> | <!----> | <!----> | <!----> | <!----> | <!----> | <!----> | <!----> | <!----> | <!----> | ⋯ | <!----> | <!----> | <!----> | <!----> | <!----> | <!----> | <!----> | <!----> | <!----> | <!----> |\n",
       "| 5 | Causes of death                                               | <!----> | <!----> | <!----> | <!----> | <!----> | <!----> | <!----> | <!----> | <!----> | ⋯ | <!----> | <!----> | <!----> | <!----> | <!----> | <!----> | <!----> | <!----> | <!----> | <!----> |\n",
       "| 6 | CHAPTER I Certain infectious and parasitic diseases (A00-B99) | 1011   | 958     | 1,969   | 958    | 851     | 1,809   | 1131   | 1016    | 2,147   | ⋯ | 2,807   | 1,445    | 1,372    | 2,817     | 1,342    | 1,306    | 2,648     | 1,119  | 1,150   | 2,269   |\n",
       "\n"
      ],
      "text/plain": [
       "  Cause_Death                                                   2008_M 2008_F \n",
       "1 Cause of death and ICD-10 code                                Males  Females\n",
       "2 Total deaths                                                  72,810 69,699 \n",
       "3                                                                             \n",
       "4                                                                             \n",
       "5 Causes of death                                                             \n",
       "6 CHAPTER I Certain infectious and parasitic diseases (A00-B99) 1011   958    \n",
       "  2008_P  2009_M 2009_F  2009_P  2010_M 2010_F  2010_P  ⋯ 2015_P  2016_M  \n",
       "1 Persons Males  Females Persons Males  Females Persons ⋯ Persons Males   \n",
       "2 142,509 72,665 68,639  141,304 73,040 69,737  142,777 ⋯ 157,271  81,825 \n",
       "3                                                       ⋯                 \n",
       "4                                                       ⋯                 \n",
       "5                                                       ⋯                 \n",
       "6 1,969   958    851     1,809   1131   1016    2,147   ⋯ 2,807   1,445   \n",
       "  2016_F   2016_P    2017_M   2017_F   2017_P    2018_M 2018_F  2018_P \n",
       "1 Females  Persons   Males    Females  Persons   Males  Females Persons\n",
       "2  76,653   158,478   83,997   79,019   163,016  76,307 71,051  147,358\n",
       "3                                                                      \n",
       "4                                                                      \n",
       "5                                                                      \n",
       "6 1,372    2,817     1,342    1,306    2,648     1,119  1,150   2,269  "
      ]
     },
     "metadata": {},
     "output_type": "display_data"
    }
   ],
   "source": [
    "head(df_extra)"
   ]
  },
  {
   "cell_type": "code",
   "execution_count": 11,
   "id": "5afc2252-7add-4af0-af93-e8800a181355",
   "metadata": {},
   "outputs": [
    {
     "data": {
      "text/html": [
       "<table class=\"dataframe\">\n",
       "<caption>A data.frame: 4 × 34</caption>\n",
       "<thead>\n",
       "\t<tr><th></th><th scope=col>Cause_Death</th><th scope=col>2008_M</th><th scope=col>2008_F</th><th scope=col>2008_P</th><th scope=col>2009_M</th><th scope=col>2009_F</th><th scope=col>2009_P</th><th scope=col>2010_M</th><th scope=col>2010_F</th><th scope=col>2010_P</th><th scope=col>⋯</th><th scope=col>2015_P</th><th scope=col>2016_M</th><th scope=col>2016_F</th><th scope=col>2016_P</th><th scope=col>2017_M</th><th scope=col>2017_F</th><th scope=col>2017_P</th><th scope=col>2018_M</th><th scope=col>2018_F</th><th scope=col>2018_P</th></tr>\n",
       "\t<tr><th></th><th scope=col>&lt;fct&gt;</th><th scope=col>&lt;fct&gt;</th><th scope=col>&lt;fct&gt;</th><th scope=col>&lt;fct&gt;</th><th scope=col>&lt;fct&gt;</th><th scope=col>&lt;fct&gt;</th><th scope=col>&lt;fct&gt;</th><th scope=col>&lt;fct&gt;</th><th scope=col>&lt;fct&gt;</th><th scope=col>&lt;fct&gt;</th><th scope=col>⋯</th><th scope=col>&lt;fct&gt;</th><th scope=col>&lt;fct&gt;</th><th scope=col>&lt;fct&gt;</th><th scope=col>&lt;fct&gt;</th><th scope=col>&lt;fct&gt;</th><th scope=col>&lt;fct&gt;</th><th scope=col>&lt;fct&gt;</th><th scope=col>&lt;fct&gt;</th><th scope=col>&lt;fct&gt;</th><th scope=col>&lt;fct&gt;</th></tr>\n",
       "</thead>\n",
       "<tbody>\n",
       "\t<tr><th scope=row>790</th><td>Influenza and pneumonia (J09-J18)                        </td><td>728</td><td>1,056</td><td>1,784</td><td>766</td><td>1,035</td><td>1,801</td><td>1,048</td><td>1,317</td><td>2,365</td><td>⋯</td><td>3,075</td><td>1,441</td><td>1,890</td><td>3,331</td><td>1,943</td><td>2,364</td><td>4,307</td><td>1,347</td><td>1,576</td><td>2,923</td></tr>\n",
       "\t<tr><th scope=row>791</th><td>Influenza due to certain identified influenza virus (J09)</td><td>0  </td><td>0    </td><td>0    </td><td>41 </td><td>37   </td><td>78   </td><td>14   </td><td>7    </td><td>21   </td><td>⋯</td><td>7    </td><td>7    </td><td>4    </td><td>11   </td><td>3    </td><td>3    </td><td>6    </td><td>4    </td><td>3    </td><td>7    </td></tr>\n",
       "\t<tr><th scope=row>792</th><td>Influenza due to other identified influenza virus (J10)  </td><td>8  </td><td>10   </td><td>18   </td><td>7  </td><td>8    </td><td>15   </td><td>2    </td><td>1    </td><td>3    </td><td>⋯</td><td>198  </td><td>138  </td><td>186  </td><td>324  </td><td>338  </td><td>464  </td><td>802  </td><td>40   </td><td>55   </td><td>95   </td></tr>\n",
       "\t<tr><th scope=row>793</th><td>Influenza, virus not identified (J11)                    </td><td>7  </td><td>21   </td><td>28   </td><td>11 </td><td>25   </td><td>36   </td><td>7    </td><td>14   </td><td>21   </td><td>⋯</td><td>94   </td><td>51   </td><td>85   </td><td>136  </td><td>173  </td><td>276  </td><td>449  </td><td>9    </td><td>16   </td><td>25   </td></tr>\n",
       "</tbody>\n",
       "</table>\n"
      ],
      "text/latex": [
       "A data.frame: 4 × 34\n",
       "\\begin{tabular}{r|lllllllllllllllllllll}\n",
       "  & Cause\\_Death & 2008\\_M & 2008\\_F & 2008\\_P & 2009\\_M & 2009\\_F & 2009\\_P & 2010\\_M & 2010\\_F & 2010\\_P & ⋯ & 2015\\_P & 2016\\_M & 2016\\_F & 2016\\_P & 2017\\_M & 2017\\_F & 2017\\_P & 2018\\_M & 2018\\_F & 2018\\_P\\\\\n",
       "  & <fct> & <fct> & <fct> & <fct> & <fct> & <fct> & <fct> & <fct> & <fct> & <fct> & ⋯ & <fct> & <fct> & <fct> & <fct> & <fct> & <fct> & <fct> & <fct> & <fct> & <fct>\\\\\n",
       "\\hline\n",
       "\t790 & Influenza and pneumonia (J09-J18)                         & 728 & 1,056 & 1,784 & 766 & 1,035 & 1,801 & 1,048 & 1,317 & 2,365 & ⋯ & 3,075 & 1,441 & 1,890 & 3,331 & 1,943 & 2,364 & 4,307 & 1,347 & 1,576 & 2,923\\\\\n",
       "\t791 & Influenza due to certain identified influenza virus (J09) & 0   & 0     & 0     & 41  & 37    & 78    & 14    & 7     & 21    & ⋯ & 7     & 7     & 4     & 11    & 3     & 3     & 6     & 4     & 3     & 7    \\\\\n",
       "\t792 & Influenza due to other identified influenza virus (J10)   & 8   & 10    & 18    & 7   & 8     & 15    & 2     & 1     & 3     & ⋯ & 198   & 138   & 186   & 324   & 338   & 464   & 802   & 40    & 55    & 95   \\\\\n",
       "\t793 & Influenza, virus not identified (J11)                     & 7   & 21    & 28    & 11  & 25    & 36    & 7     & 14    & 21    & ⋯ & 94    & 51    & 85    & 136   & 173   & 276   & 449   & 9     & 16    & 25   \\\\\n",
       "\\end{tabular}\n"
      ],
      "text/markdown": [
       "\n",
       "A data.frame: 4 × 34\n",
       "\n",
       "| <!--/--> | Cause_Death &lt;fct&gt; | 2008_M &lt;fct&gt; | 2008_F &lt;fct&gt; | 2008_P &lt;fct&gt; | 2009_M &lt;fct&gt; | 2009_F &lt;fct&gt; | 2009_P &lt;fct&gt; | 2010_M &lt;fct&gt; | 2010_F &lt;fct&gt; | 2010_P &lt;fct&gt; | ⋯ ⋯ | 2015_P &lt;fct&gt; | 2016_M &lt;fct&gt; | 2016_F &lt;fct&gt; | 2016_P &lt;fct&gt; | 2017_M &lt;fct&gt; | 2017_F &lt;fct&gt; | 2017_P &lt;fct&gt; | 2018_M &lt;fct&gt; | 2018_F &lt;fct&gt; | 2018_P &lt;fct&gt; |\n",
       "|---|---|---|---|---|---|---|---|---|---|---|---|---|---|---|---|---|---|---|---|---|---|\n",
       "| 790 | Influenza and pneumonia (J09-J18)                         | 728 | 1,056 | 1,784 | 766 | 1,035 | 1,801 | 1,048 | 1,317 | 2,365 | ⋯ | 3,075 | 1,441 | 1,890 | 3,331 | 1,943 | 2,364 | 4,307 | 1,347 | 1,576 | 2,923 |\n",
       "| 791 | Influenza due to certain identified influenza virus (J09) | 0   | 0     | 0     | 41  | 37    | 78    | 14    | 7     | 21    | ⋯ | 7     | 7     | 4     | 11    | 3     | 3     | 6     | 4     | 3     | 7     |\n",
       "| 792 | Influenza due to other identified influenza virus (J10)   | 8   | 10    | 18    | 7   | 8     | 15    | 2     | 1     | 3     | ⋯ | 198   | 138   | 186   | 324   | 338   | 464   | 802   | 40    | 55    | 95    |\n",
       "| 793 | Influenza, virus not identified (J11)                     | 7   | 21    | 28    | 11  | 25    | 36    | 7     | 14    | 21    | ⋯ | 94    | 51    | 85    | 136   | 173   | 276   | 449   | 9     | 16    | 25    |\n",
       "\n"
      ],
      "text/plain": [
       "    Cause_Death                                               2008_M 2008_F\n",
       "790 Influenza and pneumonia (J09-J18)                         728    1,056 \n",
       "791 Influenza due to certain identified influenza virus (J09) 0      0     \n",
       "792 Influenza due to other identified influenza virus (J10)   8      10    \n",
       "793 Influenza, virus not identified (J11)                     7      21    \n",
       "    2008_P 2009_M 2009_F 2009_P 2010_M 2010_F 2010_P ⋯ 2015_P 2016_M 2016_F\n",
       "790 1,784  766    1,035  1,801  1,048  1,317  2,365  ⋯ 3,075  1,441  1,890 \n",
       "791 0      41     37     78     14     7      21     ⋯ 7      7      4     \n",
       "792 18     7      8      15     2      1      3      ⋯ 198    138    186   \n",
       "793 28     11     25     36     7      14     21     ⋯ 94     51     85    \n",
       "    2016_P 2017_M 2017_F 2017_P 2018_M 2018_F 2018_P\n",
       "790 3,331  1,943  2,364  4,307  1,347  1,576  2,923 \n",
       "791 11     3      3      6      4      3      7     \n",
       "792 324    338    464    802    40     55     95    \n",
       "793 136    173    276    449    9      16     25    "
      ]
     },
     "metadata": {},
     "output_type": "display_data"
    }
   ],
   "source": [
    "#find the rows that contain the words influenza\n",
    "\n",
    "inf_extra <- df_extra[grep(\"Influenza\", df_extra$Cause_Death),]\n",
    "head(inf_extra)"
   ]
  },
  {
   "cell_type": "code",
   "execution_count": 12,
   "id": "3fc8d8c0-5111-4349-a10e-efaebd80c44b",
   "metadata": {},
   "outputs": [
    {
     "data": {
      "text/html": [
       "<table class=\"dataframe\">\n",
       "<caption>A data.frame: 3 × 34</caption>\n",
       "<thead>\n",
       "\t<tr><th></th><th scope=col>Cause_Death</th><th scope=col>2008_M</th><th scope=col>2008_F</th><th scope=col>2008_P</th><th scope=col>2009_M</th><th scope=col>2009_F</th><th scope=col>2009_P</th><th scope=col>2010_M</th><th scope=col>2010_F</th><th scope=col>2010_P</th><th scope=col>⋯</th><th scope=col>2015_P</th><th scope=col>2016_M</th><th scope=col>2016_F</th><th scope=col>2016_P</th><th scope=col>2017_M</th><th scope=col>2017_F</th><th scope=col>2017_P</th><th scope=col>2018_M</th><th scope=col>2018_F</th><th scope=col>2018_P</th></tr>\n",
       "\t<tr><th></th><th scope=col>&lt;fct&gt;</th><th scope=col>&lt;fct&gt;</th><th scope=col>&lt;fct&gt;</th><th scope=col>&lt;fct&gt;</th><th scope=col>&lt;fct&gt;</th><th scope=col>&lt;fct&gt;</th><th scope=col>&lt;fct&gt;</th><th scope=col>&lt;fct&gt;</th><th scope=col>&lt;fct&gt;</th><th scope=col>&lt;fct&gt;</th><th scope=col>⋯</th><th scope=col>&lt;fct&gt;</th><th scope=col>&lt;fct&gt;</th><th scope=col>&lt;fct&gt;</th><th scope=col>&lt;fct&gt;</th><th scope=col>&lt;fct&gt;</th><th scope=col>&lt;fct&gt;</th><th scope=col>&lt;fct&gt;</th><th scope=col>&lt;fct&gt;</th><th scope=col>&lt;fct&gt;</th><th scope=col>&lt;fct&gt;</th></tr>\n",
       "</thead>\n",
       "<tbody>\n",
       "\t<tr><th scope=row>791</th><td>Influenza due to certain identified influenza virus (J09)</td><td>0</td><td>0 </td><td>0 </td><td>41</td><td>37</td><td>78</td><td>14</td><td>7 </td><td>21</td><td>⋯</td><td>7  </td><td>7  </td><td>4  </td><td>11 </td><td>3  </td><td>3  </td><td>6  </td><td>4 </td><td>3 </td><td>7 </td></tr>\n",
       "\t<tr><th scope=row>792</th><td>Influenza due to other identified influenza virus (J10)  </td><td>8</td><td>10</td><td>18</td><td>7 </td><td>8 </td><td>15</td><td>2 </td><td>1 </td><td>3 </td><td>⋯</td><td>198</td><td>138</td><td>186</td><td>324</td><td>338</td><td>464</td><td>802</td><td>40</td><td>55</td><td>95</td></tr>\n",
       "\t<tr><th scope=row>793</th><td>Influenza, virus not identified (J11)                    </td><td>7</td><td>21</td><td>28</td><td>11</td><td>25</td><td>36</td><td>7 </td><td>14</td><td>21</td><td>⋯</td><td>94 </td><td>51 </td><td>85 </td><td>136</td><td>173</td><td>276</td><td>449</td><td>9 </td><td>16</td><td>25</td></tr>\n",
       "</tbody>\n",
       "</table>\n"
      ],
      "text/latex": [
       "A data.frame: 3 × 34\n",
       "\\begin{tabular}{r|lllllllllllllllllllll}\n",
       "  & Cause\\_Death & 2008\\_M & 2008\\_F & 2008\\_P & 2009\\_M & 2009\\_F & 2009\\_P & 2010\\_M & 2010\\_F & 2010\\_P & ⋯ & 2015\\_P & 2016\\_M & 2016\\_F & 2016\\_P & 2017\\_M & 2017\\_F & 2017\\_P & 2018\\_M & 2018\\_F & 2018\\_P\\\\\n",
       "  & <fct> & <fct> & <fct> & <fct> & <fct> & <fct> & <fct> & <fct> & <fct> & <fct> & ⋯ & <fct> & <fct> & <fct> & <fct> & <fct> & <fct> & <fct> & <fct> & <fct> & <fct>\\\\\n",
       "\\hline\n",
       "\t791 & Influenza due to certain identified influenza virus (J09) & 0 & 0  & 0  & 41 & 37 & 78 & 14 & 7  & 21 & ⋯ & 7   & 7   & 4   & 11  & 3   & 3   & 6   & 4  & 3  & 7 \\\\\n",
       "\t792 & Influenza due to other identified influenza virus (J10)   & 8 & 10 & 18 & 7  & 8  & 15 & 2  & 1  & 3  & ⋯ & 198 & 138 & 186 & 324 & 338 & 464 & 802 & 40 & 55 & 95\\\\\n",
       "\t793 & Influenza, virus not identified (J11)                     & 7 & 21 & 28 & 11 & 25 & 36 & 7  & 14 & 21 & ⋯ & 94  & 51  & 85  & 136 & 173 & 276 & 449 & 9  & 16 & 25\\\\\n",
       "\\end{tabular}\n"
      ],
      "text/markdown": [
       "\n",
       "A data.frame: 3 × 34\n",
       "\n",
       "| <!--/--> | Cause_Death &lt;fct&gt; | 2008_M &lt;fct&gt; | 2008_F &lt;fct&gt; | 2008_P &lt;fct&gt; | 2009_M &lt;fct&gt; | 2009_F &lt;fct&gt; | 2009_P &lt;fct&gt; | 2010_M &lt;fct&gt; | 2010_F &lt;fct&gt; | 2010_P &lt;fct&gt; | ⋯ ⋯ | 2015_P &lt;fct&gt; | 2016_M &lt;fct&gt; | 2016_F &lt;fct&gt; | 2016_P &lt;fct&gt; | 2017_M &lt;fct&gt; | 2017_F &lt;fct&gt; | 2017_P &lt;fct&gt; | 2018_M &lt;fct&gt; | 2018_F &lt;fct&gt; | 2018_P &lt;fct&gt; |\n",
       "|---|---|---|---|---|---|---|---|---|---|---|---|---|---|---|---|---|---|---|---|---|---|\n",
       "| 791 | Influenza due to certain identified influenza virus (J09) | 0 | 0  | 0  | 41 | 37 | 78 | 14 | 7  | 21 | ⋯ | 7   | 7   | 4   | 11  | 3   | 3   | 6   | 4  | 3  | 7  |\n",
       "| 792 | Influenza due to other identified influenza virus (J10)   | 8 | 10 | 18 | 7  | 8  | 15 | 2  | 1  | 3  | ⋯ | 198 | 138 | 186 | 324 | 338 | 464 | 802 | 40 | 55 | 95 |\n",
       "| 793 | Influenza, virus not identified (J11)                     | 7 | 21 | 28 | 11 | 25 | 36 | 7  | 14 | 21 | ⋯ | 94  | 51  | 85  | 136 | 173 | 276 | 449 | 9  | 16 | 25 |\n",
       "\n"
      ],
      "text/plain": [
       "    Cause_Death                                               2008_M 2008_F\n",
       "791 Influenza due to certain identified influenza virus (J09) 0      0     \n",
       "792 Influenza due to other identified influenza virus (J10)   8      10    \n",
       "793 Influenza, virus not identified (J11)                     7      21    \n",
       "    2008_P 2009_M 2009_F 2009_P 2010_M 2010_F 2010_P ⋯ 2015_P 2016_M 2016_F\n",
       "791 0      41     37     78     14     7      21     ⋯ 7      7      4     \n",
       "792 18     7      8      15     2      1      3      ⋯ 198    138    186   \n",
       "793 28     11     25     36     7      14     21     ⋯ 94     51     85    \n",
       "    2016_P 2017_M 2017_F 2017_P 2018_M 2018_F 2018_P\n",
       "791 11     3      3      6      4      3      7     \n",
       "792 324    338    464    802    40     55     95    \n",
       "793 136    173    276    449    9      16     25    "
      ]
     },
     "metadata": {},
     "output_type": "display_data"
    }
   ],
   "source": [
    "# now we want to remove row 1 as this row was a sum of all sub catagories of intluenza and pneumonia\n",
    "df2 <- inf_extra[-1,]\n",
    "df2"
   ]
  },
  {
   "cell_type": "code",
   "execution_count": 13,
   "id": "a5e3784b-e82e-4d86-b4df-4d3eee568184",
   "metadata": {},
   "outputs": [
    {
     "data": {
      "text/html": [
       "<table class=\"dataframe\">\n",
       "<caption>A data.frame: 3 × 34</caption>\n",
       "<thead>\n",
       "\t<tr><th></th><th scope=col>Cause_Death</th><th scope=col>2011_M</th><th scope=col>2011_F</th><th scope=col>2011_P</th><th scope=col>2012_M</th><th scope=col>2012_F</th><th scope=col>2012_P</th><th scope=col>2013_M</th><th scope=col>2013_F</th><th scope=col>2013_P</th><th scope=col>⋯</th><th scope=col>2018_P</th><th scope=col>2019_M</th><th scope=col>2019_F</th><th scope=col>2019_P</th><th scope=col>2020_M</th><th scope=col>2020_F</th><th scope=col>2020_P</th><th scope=col>2021_M</th><th scope=col>2021_F</th><th scope=col>2021_P</th></tr>\n",
       "\t<tr><th></th><th scope=col>&lt;fct&gt;</th><th scope=col>&lt;fct&gt;</th><th scope=col>&lt;fct&gt;</th><th scope=col>&lt;fct&gt;</th><th scope=col>&lt;fct&gt;</th><th scope=col>&lt;fct&gt;</th><th scope=col>&lt;fct&gt;</th><th scope=col>&lt;fct&gt;</th><th scope=col>&lt;fct&gt;</th><th scope=col>&lt;fct&gt;</th><th scope=col>⋯</th><th scope=col>&lt;fct&gt;</th><th scope=col>&lt;fct&gt;</th><th scope=col>&lt;fct&gt;</th><th scope=col>&lt;fct&gt;</th><th scope=col>&lt;fct&gt;</th><th scope=col>&lt;fct&gt;</th><th scope=col>&lt;fct&gt;</th><th scope=col>&lt;fct&gt;</th><th scope=col>&lt;fct&gt;</th><th scope=col>&lt;fct&gt;</th></tr>\n",
       "</thead>\n",
       "<tbody>\n",
       "\t<tr><th scope=row>790</th><td>Influenza due to certain identified influenza virus (J09)</td><td>12</td><td>9 </td><td>21</td><td>0 </td><td>0 </td><td>0 </td><td>3 </td><td>6 </td><td>9 </td><td>⋯</td><td>8  </td><td>2  </td><td>1  </td><td>3  </td><td>0 </td><td>1 </td><td>1 </td><td>0</td><td>0</td><td>0</td></tr>\n",
       "\t<tr><th scope=row>791</th><td>Influenza due to other identified influenza virus (J10)  </td><td>6 </td><td>7 </td><td>13</td><td>34</td><td>48</td><td>82</td><td>21</td><td>19</td><td>40</td><td>⋯</td><td>111</td><td>352</td><td>463</td><td>815</td><td>18</td><td>22</td><td>40</td><td>0</td><td>0</td><td>0</td></tr>\n",
       "\t<tr><th scope=row>792</th><td>Influenza, virus not identified (J11)                    </td><td>12</td><td>23</td><td>35</td><td>31</td><td>38</td><td>69</td><td>15</td><td>21</td><td>36</td><td>⋯</td><td>29 </td><td>104</td><td>147</td><td>251</td><td>3 </td><td>2 </td><td>5 </td><td>2</td><td>0</td><td>2</td></tr>\n",
       "</tbody>\n",
       "</table>\n"
      ],
      "text/latex": [
       "A data.frame: 3 × 34\n",
       "\\begin{tabular}{r|lllllllllllllllllllll}\n",
       "  & Cause\\_Death & 2011\\_M & 2011\\_F & 2011\\_P & 2012\\_M & 2012\\_F & 2012\\_P & 2013\\_M & 2013\\_F & 2013\\_P & ⋯ & 2018\\_P & 2019\\_M & 2019\\_F & 2019\\_P & 2020\\_M & 2020\\_F & 2020\\_P & 2021\\_M & 2021\\_F & 2021\\_P\\\\\n",
       "  & <fct> & <fct> & <fct> & <fct> & <fct> & <fct> & <fct> & <fct> & <fct> & <fct> & ⋯ & <fct> & <fct> & <fct> & <fct> & <fct> & <fct> & <fct> & <fct> & <fct> & <fct>\\\\\n",
       "\\hline\n",
       "\t790 & Influenza due to certain identified influenza virus (J09) & 12 & 9  & 21 & 0  & 0  & 0  & 3  & 6  & 9  & ⋯ & 8   & 2   & 1   & 3   & 0  & 1  & 1  & 0 & 0 & 0\\\\\n",
       "\t791 & Influenza due to other identified influenza virus (J10)   & 6  & 7  & 13 & 34 & 48 & 82 & 21 & 19 & 40 & ⋯ & 111 & 352 & 463 & 815 & 18 & 22 & 40 & 0 & 0 & 0\\\\\n",
       "\t792 & Influenza, virus not identified (J11)                     & 12 & 23 & 35 & 31 & 38 & 69 & 15 & 21 & 36 & ⋯ & 29  & 104 & 147 & 251 & 3  & 2  & 5  & 2 & 0 & 2\\\\\n",
       "\\end{tabular}\n"
      ],
      "text/markdown": [
       "\n",
       "A data.frame: 3 × 34\n",
       "\n",
       "| <!--/--> | Cause_Death &lt;fct&gt; | 2011_M &lt;fct&gt; | 2011_F &lt;fct&gt; | 2011_P &lt;fct&gt; | 2012_M &lt;fct&gt; | 2012_F &lt;fct&gt; | 2012_P &lt;fct&gt; | 2013_M &lt;fct&gt; | 2013_F &lt;fct&gt; | 2013_P &lt;fct&gt; | ⋯ ⋯ | 2018_P &lt;fct&gt; | 2019_M &lt;fct&gt; | 2019_F &lt;fct&gt; | 2019_P &lt;fct&gt; | 2020_M &lt;fct&gt; | 2020_F &lt;fct&gt; | 2020_P &lt;fct&gt; | 2021_M &lt;fct&gt; | 2021_F &lt;fct&gt; | 2021_P &lt;fct&gt; |\n",
       "|---|---|---|---|---|---|---|---|---|---|---|---|---|---|---|---|---|---|---|---|---|---|\n",
       "| 790 | Influenza due to certain identified influenza virus (J09) | 12 | 9  | 21 | 0  | 0  | 0  | 3  | 6  | 9  | ⋯ | 8   | 2   | 1   | 3   | 0  | 1  | 1  | 0 | 0 | 0 |\n",
       "| 791 | Influenza due to other identified influenza virus (J10)   | 6  | 7  | 13 | 34 | 48 | 82 | 21 | 19 | 40 | ⋯ | 111 | 352 | 463 | 815 | 18 | 22 | 40 | 0 | 0 | 0 |\n",
       "| 792 | Influenza, virus not identified (J11)                     | 12 | 23 | 35 | 31 | 38 | 69 | 15 | 21 | 36 | ⋯ | 29  | 104 | 147 | 251 | 3  | 2  | 5  | 2 | 0 | 2 |\n",
       "\n"
      ],
      "text/plain": [
       "    Cause_Death                                               2011_M 2011_F\n",
       "790 Influenza due to certain identified influenza virus (J09) 12     9     \n",
       "791 Influenza due to other identified influenza virus (J10)   6      7     \n",
       "792 Influenza, virus not identified (J11)                     12     23    \n",
       "    2011_P 2012_M 2012_F 2012_P 2013_M 2013_F 2013_P ⋯ 2018_P 2019_M 2019_F\n",
       "790 21     0      0      0      3      6      9      ⋯ 8      2      1     \n",
       "791 13     34     48     82     21     19     40     ⋯ 111    352    463   \n",
       "792 35     31     38     69     15     21     36     ⋯ 29     104    147   \n",
       "    2019_P 2020_M 2020_F 2020_P 2021_M 2021_F 2021_P\n",
       "790 3      0      1      1      0      0      0     \n",
       "791 815    18     22     40     0      0      0     \n",
       "792 251    3      2      5      2      0      2     "
      ]
     },
     "metadata": {},
     "output_type": "display_data"
    },
    {
     "data": {
      "text/html": [
       "<table class=\"dataframe\">\n",
       "<caption>A data.frame: 3 × 34</caption>\n",
       "<thead>\n",
       "\t<tr><th></th><th scope=col>Cause_Death</th><th scope=col>2008_M</th><th scope=col>2008_F</th><th scope=col>2008_P</th><th scope=col>2009_M</th><th scope=col>2009_F</th><th scope=col>2009_P</th><th scope=col>2010_M</th><th scope=col>2010_F</th><th scope=col>2010_P</th><th scope=col>⋯</th><th scope=col>2015_P</th><th scope=col>2016_M</th><th scope=col>2016_F</th><th scope=col>2016_P</th><th scope=col>2017_M</th><th scope=col>2017_F</th><th scope=col>2017_P</th><th scope=col>2018_M</th><th scope=col>2018_F</th><th scope=col>2018_P</th></tr>\n",
       "\t<tr><th></th><th scope=col>&lt;fct&gt;</th><th scope=col>&lt;fct&gt;</th><th scope=col>&lt;fct&gt;</th><th scope=col>&lt;fct&gt;</th><th scope=col>&lt;fct&gt;</th><th scope=col>&lt;fct&gt;</th><th scope=col>&lt;fct&gt;</th><th scope=col>&lt;fct&gt;</th><th scope=col>&lt;fct&gt;</th><th scope=col>&lt;fct&gt;</th><th scope=col>⋯</th><th scope=col>&lt;fct&gt;</th><th scope=col>&lt;fct&gt;</th><th scope=col>&lt;fct&gt;</th><th scope=col>&lt;fct&gt;</th><th scope=col>&lt;fct&gt;</th><th scope=col>&lt;fct&gt;</th><th scope=col>&lt;fct&gt;</th><th scope=col>&lt;fct&gt;</th><th scope=col>&lt;fct&gt;</th><th scope=col>&lt;fct&gt;</th></tr>\n",
       "</thead>\n",
       "<tbody>\n",
       "\t<tr><th scope=row>791</th><td>Influenza due to certain identified influenza virus (J09)</td><td>0</td><td>0 </td><td>0 </td><td>41</td><td>37</td><td>78</td><td>14</td><td>7 </td><td>21</td><td>⋯</td><td>7  </td><td>7  </td><td>4  </td><td>11 </td><td>3  </td><td>3  </td><td>6  </td><td>4 </td><td>3 </td><td>7 </td></tr>\n",
       "\t<tr><th scope=row>792</th><td>Influenza due to other identified influenza virus (J10)  </td><td>8</td><td>10</td><td>18</td><td>7 </td><td>8 </td><td>15</td><td>2 </td><td>1 </td><td>3 </td><td>⋯</td><td>198</td><td>138</td><td>186</td><td>324</td><td>338</td><td>464</td><td>802</td><td>40</td><td>55</td><td>95</td></tr>\n",
       "\t<tr><th scope=row>793</th><td>Influenza, virus not identified (J11)                    </td><td>7</td><td>21</td><td>28</td><td>11</td><td>25</td><td>36</td><td>7 </td><td>14</td><td>21</td><td>⋯</td><td>94 </td><td>51 </td><td>85 </td><td>136</td><td>173</td><td>276</td><td>449</td><td>9 </td><td>16</td><td>25</td></tr>\n",
       "</tbody>\n",
       "</table>\n"
      ],
      "text/latex": [
       "A data.frame: 3 × 34\n",
       "\\begin{tabular}{r|lllllllllllllllllllll}\n",
       "  & Cause\\_Death & 2008\\_M & 2008\\_F & 2008\\_P & 2009\\_M & 2009\\_F & 2009\\_P & 2010\\_M & 2010\\_F & 2010\\_P & ⋯ & 2015\\_P & 2016\\_M & 2016\\_F & 2016\\_P & 2017\\_M & 2017\\_F & 2017\\_P & 2018\\_M & 2018\\_F & 2018\\_P\\\\\n",
       "  & <fct> & <fct> & <fct> & <fct> & <fct> & <fct> & <fct> & <fct> & <fct> & <fct> & ⋯ & <fct> & <fct> & <fct> & <fct> & <fct> & <fct> & <fct> & <fct> & <fct> & <fct>\\\\\n",
       "\\hline\n",
       "\t791 & Influenza due to certain identified influenza virus (J09) & 0 & 0  & 0  & 41 & 37 & 78 & 14 & 7  & 21 & ⋯ & 7   & 7   & 4   & 11  & 3   & 3   & 6   & 4  & 3  & 7 \\\\\n",
       "\t792 & Influenza due to other identified influenza virus (J10)   & 8 & 10 & 18 & 7  & 8  & 15 & 2  & 1  & 3  & ⋯ & 198 & 138 & 186 & 324 & 338 & 464 & 802 & 40 & 55 & 95\\\\\n",
       "\t793 & Influenza, virus not identified (J11)                     & 7 & 21 & 28 & 11 & 25 & 36 & 7  & 14 & 21 & ⋯ & 94  & 51  & 85  & 136 & 173 & 276 & 449 & 9  & 16 & 25\\\\\n",
       "\\end{tabular}\n"
      ],
      "text/markdown": [
       "\n",
       "A data.frame: 3 × 34\n",
       "\n",
       "| <!--/--> | Cause_Death &lt;fct&gt; | 2008_M &lt;fct&gt; | 2008_F &lt;fct&gt; | 2008_P &lt;fct&gt; | 2009_M &lt;fct&gt; | 2009_F &lt;fct&gt; | 2009_P &lt;fct&gt; | 2010_M &lt;fct&gt; | 2010_F &lt;fct&gt; | 2010_P &lt;fct&gt; | ⋯ ⋯ | 2015_P &lt;fct&gt; | 2016_M &lt;fct&gt; | 2016_F &lt;fct&gt; | 2016_P &lt;fct&gt; | 2017_M &lt;fct&gt; | 2017_F &lt;fct&gt; | 2017_P &lt;fct&gt; | 2018_M &lt;fct&gt; | 2018_F &lt;fct&gt; | 2018_P &lt;fct&gt; |\n",
       "|---|---|---|---|---|---|---|---|---|---|---|---|---|---|---|---|---|---|---|---|---|---|\n",
       "| 791 | Influenza due to certain identified influenza virus (J09) | 0 | 0  | 0  | 41 | 37 | 78 | 14 | 7  | 21 | ⋯ | 7   | 7   | 4   | 11  | 3   | 3   | 6   | 4  | 3  | 7  |\n",
       "| 792 | Influenza due to other identified influenza virus (J10)   | 8 | 10 | 18 | 7  | 8  | 15 | 2  | 1  | 3  | ⋯ | 198 | 138 | 186 | 324 | 338 | 464 | 802 | 40 | 55 | 95 |\n",
       "| 793 | Influenza, virus not identified (J11)                     | 7 | 21 | 28 | 11 | 25 | 36 | 7  | 14 | 21 | ⋯ | 94  | 51  | 85  | 136 | 173 | 276 | 449 | 9  | 16 | 25 |\n",
       "\n"
      ],
      "text/plain": [
       "    Cause_Death                                               2008_M 2008_F\n",
       "791 Influenza due to certain identified influenza virus (J09) 0      0     \n",
       "792 Influenza due to other identified influenza virus (J10)   8      10    \n",
       "793 Influenza, virus not identified (J11)                     7      21    \n",
       "    2008_P 2009_M 2009_F 2009_P 2010_M 2010_F 2010_P ⋯ 2015_P 2016_M 2016_F\n",
       "791 0      41     37     78     14     7      21     ⋯ 7      7      4     \n",
       "792 18     7      8      15     2      1      3      ⋯ 198    138    186   \n",
       "793 28     11     25     36     7      14     21     ⋯ 94     51     85    \n",
       "    2016_P 2017_M 2017_F 2017_P 2018_M 2018_F 2018_P\n",
       "791 11     3      3      6      4      3      7     \n",
       "792 324    338    464    802    40     55     95    \n",
       "793 136    173    276    449    9      16     25    "
      ]
     },
     "metadata": {},
     "output_type": "display_data"
    }
   ],
   "source": [
    "df1\n",
    "df2"
   ]
  },
  {
   "cell_type": "code",
   "execution_count": 14,
   "id": "43e3a0ef-916a-4be0-82e3-487b28ce0d38",
   "metadata": {},
   "outputs": [
    {
     "data": {
      "text/html": [
       "<table class=\"dataframe\">\n",
       "<caption>A data.frame: 3 × 10</caption>\n",
       "<thead>\n",
       "\t<tr><th></th><th scope=col>Cause_Death</th><th scope=col>2008_M</th><th scope=col>2008_F</th><th scope=col>2008_P</th><th scope=col>2009_M</th><th scope=col>2009_F</th><th scope=col>2009_P</th><th scope=col>2010_M</th><th scope=col>2010_F</th><th scope=col>2010_P</th></tr>\n",
       "\t<tr><th></th><th scope=col>&lt;fct&gt;</th><th scope=col>&lt;fct&gt;</th><th scope=col>&lt;fct&gt;</th><th scope=col>&lt;fct&gt;</th><th scope=col>&lt;fct&gt;</th><th scope=col>&lt;fct&gt;</th><th scope=col>&lt;fct&gt;</th><th scope=col>&lt;fct&gt;</th><th scope=col>&lt;fct&gt;</th><th scope=col>&lt;fct&gt;</th></tr>\n",
       "</thead>\n",
       "<tbody>\n",
       "\t<tr><th scope=row>791</th><td>Influenza due to certain identified influenza virus (J09)</td><td>0</td><td>0 </td><td>0 </td><td>41</td><td>37</td><td>78</td><td>14</td><td>7 </td><td>21</td></tr>\n",
       "\t<tr><th scope=row>792</th><td>Influenza due to other identified influenza virus (J10)  </td><td>8</td><td>10</td><td>18</td><td>7 </td><td>8 </td><td>15</td><td>2 </td><td>1 </td><td>3 </td></tr>\n",
       "\t<tr><th scope=row>793</th><td>Influenza, virus not identified (J11)                    </td><td>7</td><td>21</td><td>28</td><td>11</td><td>25</td><td>36</td><td>7 </td><td>14</td><td>21</td></tr>\n",
       "</tbody>\n",
       "</table>\n"
      ],
      "text/latex": [
       "A data.frame: 3 × 10\n",
       "\\begin{tabular}{r|llllllllll}\n",
       "  & Cause\\_Death & 2008\\_M & 2008\\_F & 2008\\_P & 2009\\_M & 2009\\_F & 2009\\_P & 2010\\_M & 2010\\_F & 2010\\_P\\\\\n",
       "  & <fct> & <fct> & <fct> & <fct> & <fct> & <fct> & <fct> & <fct> & <fct> & <fct>\\\\\n",
       "\\hline\n",
       "\t791 & Influenza due to certain identified influenza virus (J09) & 0 & 0  & 0  & 41 & 37 & 78 & 14 & 7  & 21\\\\\n",
       "\t792 & Influenza due to other identified influenza virus (J10)   & 8 & 10 & 18 & 7  & 8  & 15 & 2  & 1  & 3 \\\\\n",
       "\t793 & Influenza, virus not identified (J11)                     & 7 & 21 & 28 & 11 & 25 & 36 & 7  & 14 & 21\\\\\n",
       "\\end{tabular}\n"
      ],
      "text/markdown": [
       "\n",
       "A data.frame: 3 × 10\n",
       "\n",
       "| <!--/--> | Cause_Death &lt;fct&gt; | 2008_M &lt;fct&gt; | 2008_F &lt;fct&gt; | 2008_P &lt;fct&gt; | 2009_M &lt;fct&gt; | 2009_F &lt;fct&gt; | 2009_P &lt;fct&gt; | 2010_M &lt;fct&gt; | 2010_F &lt;fct&gt; | 2010_P &lt;fct&gt; |\n",
       "|---|---|---|---|---|---|---|---|---|---|---|\n",
       "| 791 | Influenza due to certain identified influenza virus (J09) | 0 | 0  | 0  | 41 | 37 | 78 | 14 | 7  | 21 |\n",
       "| 792 | Influenza due to other identified influenza virus (J10)   | 8 | 10 | 18 | 7  | 8  | 15 | 2  | 1  | 3  |\n",
       "| 793 | Influenza, virus not identified (J11)                     | 7 | 21 | 28 | 11 | 25 | 36 | 7  | 14 | 21 |\n",
       "\n"
      ],
      "text/plain": [
       "    Cause_Death                                               2008_M 2008_F\n",
       "791 Influenza due to certain identified influenza virus (J09) 0      0     \n",
       "792 Influenza due to other identified influenza virus (J10)   8      10    \n",
       "793 Influenza, virus not identified (J11)                     7      21    \n",
       "    2008_P 2009_M 2009_F 2009_P 2010_M 2010_F 2010_P\n",
       "791 0      41     37     78     14     7      21    \n",
       "792 18     7      8      15     2      1      3     \n",
       "793 28     11     25     36     7      14     21    "
      ]
     },
     "metadata": {},
     "output_type": "display_data"
    }
   ],
   "source": [
    "#from df2 we want to extract 2008-2010\n",
    "df2 <- df2[, 1:10]\n",
    "df2"
   ]
  },
  {
   "cell_type": "code",
   "execution_count": 15,
   "id": "8b6f9275-9879-4bfa-b8b6-adb3604c5772",
   "metadata": {},
   "outputs": [
    {
     "data": {
      "text/html": [
       "<table class=\"dataframe\">\n",
       "<caption>A data.frame: 3 × 43</caption>\n",
       "<thead>\n",
       "\t<tr><th scope=col>Cause_Death</th><th scope=col>2008_M</th><th scope=col>2008_F</th><th scope=col>2008_P</th><th scope=col>2009_M</th><th scope=col>2009_F</th><th scope=col>2009_P</th><th scope=col>2010_M</th><th scope=col>2010_F</th><th scope=col>2010_P</th><th scope=col>⋯</th><th scope=col>2018_P</th><th scope=col>2019_M</th><th scope=col>2019_F</th><th scope=col>2019_P</th><th scope=col>2020_M</th><th scope=col>2020_F</th><th scope=col>2020_P</th><th scope=col>2021_M</th><th scope=col>2021_F</th><th scope=col>2021_P</th></tr>\n",
       "\t<tr><th scope=col>&lt;fct&gt;</th><th scope=col>&lt;fct&gt;</th><th scope=col>&lt;fct&gt;</th><th scope=col>&lt;fct&gt;</th><th scope=col>&lt;fct&gt;</th><th scope=col>&lt;fct&gt;</th><th scope=col>&lt;fct&gt;</th><th scope=col>&lt;fct&gt;</th><th scope=col>&lt;fct&gt;</th><th scope=col>&lt;fct&gt;</th><th scope=col>⋯</th><th scope=col>&lt;fct&gt;</th><th scope=col>&lt;fct&gt;</th><th scope=col>&lt;fct&gt;</th><th scope=col>&lt;fct&gt;</th><th scope=col>&lt;fct&gt;</th><th scope=col>&lt;fct&gt;</th><th scope=col>&lt;fct&gt;</th><th scope=col>&lt;fct&gt;</th><th scope=col>&lt;fct&gt;</th><th scope=col>&lt;fct&gt;</th></tr>\n",
       "</thead>\n",
       "<tbody>\n",
       "\t<tr><td>Influenza due to certain identified influenza virus (J09)</td><td>0</td><td>0 </td><td>0 </td><td>41</td><td>37</td><td>78</td><td>14</td><td>7 </td><td>21</td><td>⋯</td><td>8  </td><td>2  </td><td>1  </td><td>3  </td><td>0 </td><td>1 </td><td>1 </td><td>0</td><td>0</td><td>0</td></tr>\n",
       "\t<tr><td>Influenza due to other identified influenza virus (J10)  </td><td>8</td><td>10</td><td>18</td><td>7 </td><td>8 </td><td>15</td><td>2 </td><td>1 </td><td>3 </td><td>⋯</td><td>111</td><td>352</td><td>463</td><td>815</td><td>18</td><td>22</td><td>40</td><td>0</td><td>0</td><td>0</td></tr>\n",
       "\t<tr><td>Influenza, virus not identified (J11)                    </td><td>7</td><td>21</td><td>28</td><td>11</td><td>25</td><td>36</td><td>7 </td><td>14</td><td>21</td><td>⋯</td><td>29 </td><td>104</td><td>147</td><td>251</td><td>3 </td><td>2 </td><td>5 </td><td>2</td><td>0</td><td>2</td></tr>\n",
       "</tbody>\n",
       "</table>\n"
      ],
      "text/latex": [
       "A data.frame: 3 × 43\n",
       "\\begin{tabular}{lllllllllllllllllllll}\n",
       " Cause\\_Death & 2008\\_M & 2008\\_F & 2008\\_P & 2009\\_M & 2009\\_F & 2009\\_P & 2010\\_M & 2010\\_F & 2010\\_P & ⋯ & 2018\\_P & 2019\\_M & 2019\\_F & 2019\\_P & 2020\\_M & 2020\\_F & 2020\\_P & 2021\\_M & 2021\\_F & 2021\\_P\\\\\n",
       " <fct> & <fct> & <fct> & <fct> & <fct> & <fct> & <fct> & <fct> & <fct> & <fct> & ⋯ & <fct> & <fct> & <fct> & <fct> & <fct> & <fct> & <fct> & <fct> & <fct> & <fct>\\\\\n",
       "\\hline\n",
       "\t Influenza due to certain identified influenza virus (J09) & 0 & 0  & 0  & 41 & 37 & 78 & 14 & 7  & 21 & ⋯ & 8   & 2   & 1   & 3   & 0  & 1  & 1  & 0 & 0 & 0\\\\\n",
       "\t Influenza due to other identified influenza virus (J10)   & 8 & 10 & 18 & 7  & 8  & 15 & 2  & 1  & 3  & ⋯ & 111 & 352 & 463 & 815 & 18 & 22 & 40 & 0 & 0 & 0\\\\\n",
       "\t Influenza, virus not identified (J11)                     & 7 & 21 & 28 & 11 & 25 & 36 & 7  & 14 & 21 & ⋯ & 29  & 104 & 147 & 251 & 3  & 2  & 5  & 2 & 0 & 2\\\\\n",
       "\\end{tabular}\n"
      ],
      "text/markdown": [
       "\n",
       "A data.frame: 3 × 43\n",
       "\n",
       "| Cause_Death &lt;fct&gt; | 2008_M &lt;fct&gt; | 2008_F &lt;fct&gt; | 2008_P &lt;fct&gt; | 2009_M &lt;fct&gt; | 2009_F &lt;fct&gt; | 2009_P &lt;fct&gt; | 2010_M &lt;fct&gt; | 2010_F &lt;fct&gt; | 2010_P &lt;fct&gt; | ⋯ ⋯ | 2018_P &lt;fct&gt; | 2019_M &lt;fct&gt; | 2019_F &lt;fct&gt; | 2019_P &lt;fct&gt; | 2020_M &lt;fct&gt; | 2020_F &lt;fct&gt; | 2020_P &lt;fct&gt; | 2021_M &lt;fct&gt; | 2021_F &lt;fct&gt; | 2021_P &lt;fct&gt; |\n",
       "|---|---|---|---|---|---|---|---|---|---|---|---|---|---|---|---|---|---|---|---|---|\n",
       "| Influenza due to certain identified influenza virus (J09) | 0 | 0  | 0  | 41 | 37 | 78 | 14 | 7  | 21 | ⋯ | 8   | 2   | 1   | 3   | 0  | 1  | 1  | 0 | 0 | 0 |\n",
       "| Influenza due to other identified influenza virus (J10)   | 8 | 10 | 18 | 7  | 8  | 15 | 2  | 1  | 3  | ⋯ | 111 | 352 | 463 | 815 | 18 | 22 | 40 | 0 | 0 | 0 |\n",
       "| Influenza, virus not identified (J11)                     | 7 | 21 | 28 | 11 | 25 | 36 | 7  | 14 | 21 | ⋯ | 29  | 104 | 147 | 251 | 3  | 2  | 5  | 2 | 0 | 2 |\n",
       "\n"
      ],
      "text/plain": [
       "  Cause_Death                                               2008_M 2008_F\n",
       "1 Influenza due to certain identified influenza virus (J09) 0      0     \n",
       "2 Influenza due to other identified influenza virus (J10)   8      10    \n",
       "3 Influenza, virus not identified (J11)                     7      21    \n",
       "  2008_P 2009_M 2009_F 2009_P 2010_M 2010_F 2010_P ⋯ 2018_P 2019_M 2019_F\n",
       "1 0      41     37     78     14     7      21     ⋯ 8      2      1     \n",
       "2 18     7      8      15     2      1      3      ⋯ 111    352    463   \n",
       "3 28     11     25     36     7      14     21     ⋯ 29     104    147   \n",
       "  2019_P 2020_M 2020_F 2020_P 2021_M 2021_F 2021_P\n",
       "1 3      0      1      1      0      0      0     \n",
       "2 815    18     22     40     0      0      0     \n",
       "3 251    3      2      5      2      0      2     "
      ]
     },
     "metadata": {},
     "output_type": "display_data"
    }
   ],
   "source": [
    "merged_df <- merge(df2,df1)\n",
    "merged_df"
   ]
  },
  {
   "cell_type": "code",
   "execution_count": 18,
   "id": "8ececabd-2ae2-4158-9a68-84b2646d5642",
   "metadata": {},
   "outputs": [
    {
     "data": {
      "text/html": [
       "<table class=\"dataframe\">\n",
       "<caption>A data.frame: 3 × 43</caption>\n",
       "<thead>\n",
       "\t<tr><th scope=col>Cause_Death</th><th scope=col>X2008_M</th><th scope=col>X2008_F</th><th scope=col>X2008_P</th><th scope=col>X2009_M</th><th scope=col>X2009_F</th><th scope=col>X2009_P</th><th scope=col>X2010_M</th><th scope=col>X2010_F</th><th scope=col>X2010_P</th><th scope=col>⋯</th><th scope=col>X2018_P</th><th scope=col>X2019_M</th><th scope=col>X2019_F</th><th scope=col>X2019_P</th><th scope=col>X2020_M</th><th scope=col>X2020_F</th><th scope=col>X2020_P</th><th scope=col>X2021_M</th><th scope=col>X2021_F</th><th scope=col>X2021_P</th></tr>\n",
       "\t<tr><th scope=col>&lt;chr&gt;</th><th scope=col>&lt;chr&gt;</th><th scope=col>&lt;chr&gt;</th><th scope=col>&lt;chr&gt;</th><th scope=col>&lt;chr&gt;</th><th scope=col>&lt;chr&gt;</th><th scope=col>&lt;chr&gt;</th><th scope=col>&lt;chr&gt;</th><th scope=col>&lt;chr&gt;</th><th scope=col>&lt;chr&gt;</th><th scope=col>⋯</th><th scope=col>&lt;chr&gt;</th><th scope=col>&lt;chr&gt;</th><th scope=col>&lt;chr&gt;</th><th scope=col>&lt;chr&gt;</th><th scope=col>&lt;chr&gt;</th><th scope=col>&lt;chr&gt;</th><th scope=col>&lt;chr&gt;</th><th scope=col>&lt;chr&gt;</th><th scope=col>&lt;chr&gt;</th><th scope=col>&lt;chr&gt;</th></tr>\n",
       "</thead>\n",
       "<tbody>\n",
       "\t<tr><td>Influenza due to certain identified influenza virus (J09)</td><td>0</td><td>0 </td><td>0 </td><td>41</td><td>37</td><td>78</td><td>14</td><td>7 </td><td>21</td><td>⋯</td><td>8  </td><td>2  </td><td>1  </td><td>3  </td><td>0 </td><td>1 </td><td>1 </td><td>0</td><td>0</td><td>0</td></tr>\n",
       "\t<tr><td>Influenza due to other identified influenza virus (J10)  </td><td>8</td><td>10</td><td>18</td><td>7 </td><td>8 </td><td>15</td><td>2 </td><td>1 </td><td>3 </td><td>⋯</td><td>111</td><td>352</td><td>463</td><td>815</td><td>18</td><td>22</td><td>40</td><td>0</td><td>0</td><td>0</td></tr>\n",
       "\t<tr><td>Influenza, virus not identified (J11)                    </td><td>7</td><td>21</td><td>28</td><td>11</td><td>25</td><td>36</td><td>7 </td><td>14</td><td>21</td><td>⋯</td><td>29 </td><td>104</td><td>147</td><td>251</td><td>3 </td><td>2 </td><td>5 </td><td>2</td><td>0</td><td>2</td></tr>\n",
       "</tbody>\n",
       "</table>\n"
      ],
      "text/latex": [
       "A data.frame: 3 × 43\n",
       "\\begin{tabular}{lllllllllllllllllllll}\n",
       " Cause\\_Death & X2008\\_M & X2008\\_F & X2008\\_P & X2009\\_M & X2009\\_F & X2009\\_P & X2010\\_M & X2010\\_F & X2010\\_P & ⋯ & X2018\\_P & X2019\\_M & X2019\\_F & X2019\\_P & X2020\\_M & X2020\\_F & X2020\\_P & X2021\\_M & X2021\\_F & X2021\\_P\\\\\n",
       " <chr> & <chr> & <chr> & <chr> & <chr> & <chr> & <chr> & <chr> & <chr> & <chr> & ⋯ & <chr> & <chr> & <chr> & <chr> & <chr> & <chr> & <chr> & <chr> & <chr> & <chr>\\\\\n",
       "\\hline\n",
       "\t Influenza due to certain identified influenza virus (J09) & 0 & 0  & 0  & 41 & 37 & 78 & 14 & 7  & 21 & ⋯ & 8   & 2   & 1   & 3   & 0  & 1  & 1  & 0 & 0 & 0\\\\\n",
       "\t Influenza due to other identified influenza virus (J10)   & 8 & 10 & 18 & 7  & 8  & 15 & 2  & 1  & 3  & ⋯ & 111 & 352 & 463 & 815 & 18 & 22 & 40 & 0 & 0 & 0\\\\\n",
       "\t Influenza, virus not identified (J11)                     & 7 & 21 & 28 & 11 & 25 & 36 & 7  & 14 & 21 & ⋯ & 29  & 104 & 147 & 251 & 3  & 2  & 5  & 2 & 0 & 2\\\\\n",
       "\\end{tabular}\n"
      ],
      "text/markdown": [
       "\n",
       "A data.frame: 3 × 43\n",
       "\n",
       "| Cause_Death &lt;chr&gt; | X2008_M &lt;chr&gt; | X2008_F &lt;chr&gt; | X2008_P &lt;chr&gt; | X2009_M &lt;chr&gt; | X2009_F &lt;chr&gt; | X2009_P &lt;chr&gt; | X2010_M &lt;chr&gt; | X2010_F &lt;chr&gt; | X2010_P &lt;chr&gt; | ⋯ ⋯ | X2018_P &lt;chr&gt; | X2019_M &lt;chr&gt; | X2019_F &lt;chr&gt; | X2019_P &lt;chr&gt; | X2020_M &lt;chr&gt; | X2020_F &lt;chr&gt; | X2020_P &lt;chr&gt; | X2021_M &lt;chr&gt; | X2021_F &lt;chr&gt; | X2021_P &lt;chr&gt; |\n",
       "|---|---|---|---|---|---|---|---|---|---|---|---|---|---|---|---|---|---|---|---|---|\n",
       "| Influenza due to certain identified influenza virus (J09) | 0 | 0  | 0  | 41 | 37 | 78 | 14 | 7  | 21 | ⋯ | 8   | 2   | 1   | 3   | 0  | 1  | 1  | 0 | 0 | 0 |\n",
       "| Influenza due to other identified influenza virus (J10)   | 8 | 10 | 18 | 7  | 8  | 15 | 2  | 1  | 3  | ⋯ | 111 | 352 | 463 | 815 | 18 | 22 | 40 | 0 | 0 | 0 |\n",
       "| Influenza, virus not identified (J11)                     | 7 | 21 | 28 | 11 | 25 | 36 | 7  | 14 | 21 | ⋯ | 29  | 104 | 147 | 251 | 3  | 2  | 5  | 2 | 0 | 2 |\n",
       "\n"
      ],
      "text/plain": [
       "  Cause_Death                                               X2008_M X2008_F\n",
       "1 Influenza due to certain identified influenza virus (J09) 0       0      \n",
       "2 Influenza due to other identified influenza virus (J10)   8       10     \n",
       "3 Influenza, virus not identified (J11)                     7       21     \n",
       "  X2008_P X2009_M X2009_F X2009_P X2010_M X2010_F X2010_P ⋯ X2018_P X2019_M\n",
       "1 0       41      37      78      14      7       21      ⋯ 8       2      \n",
       "2 18      7       8       15      2       1       3       ⋯ 111     352    \n",
       "3 28      11      25      36      7       14      21      ⋯ 29      104    \n",
       "  X2019_F X2019_P X2020_M X2020_F X2020_P X2021_M X2021_F X2021_P\n",
       "1 1       3       0       1       1       0       0       0      \n",
       "2 463     815     18      22      40      0       0       0      \n",
       "3 147     251     3       2       5       2       0       2      "
      ]
     },
     "metadata": {},
     "output_type": "display_data"
    },
    {
     "data": {
      "text/html": [
       "<table class=\"dataframe\">\n",
       "<caption>A data.frame: 3 × 42</caption>\n",
       "<thead>\n",
       "\t<tr><th scope=col>X2008_M</th><th scope=col>X2008_F</th><th scope=col>X2008_P</th><th scope=col>X2009_M</th><th scope=col>X2009_F</th><th scope=col>X2009_P</th><th scope=col>X2010_M</th><th scope=col>X2010_F</th><th scope=col>X2010_P</th><th scope=col>X2011_M</th><th scope=col>⋯</th><th scope=col>X2018_P</th><th scope=col>X2019_M</th><th scope=col>X2019_F</th><th scope=col>X2019_P</th><th scope=col>X2020_M</th><th scope=col>X2020_F</th><th scope=col>X2020_P</th><th scope=col>X2021_M</th><th scope=col>X2021_F</th><th scope=col>X2021_P</th></tr>\n",
       "\t<tr><th scope=col>&lt;dbl&gt;</th><th scope=col>&lt;dbl&gt;</th><th scope=col>&lt;dbl&gt;</th><th scope=col>&lt;dbl&gt;</th><th scope=col>&lt;dbl&gt;</th><th scope=col>&lt;dbl&gt;</th><th scope=col>&lt;dbl&gt;</th><th scope=col>&lt;dbl&gt;</th><th scope=col>&lt;dbl&gt;</th><th scope=col>&lt;dbl&gt;</th><th scope=col>⋯</th><th scope=col>&lt;dbl&gt;</th><th scope=col>&lt;dbl&gt;</th><th scope=col>&lt;dbl&gt;</th><th scope=col>&lt;dbl&gt;</th><th scope=col>&lt;dbl&gt;</th><th scope=col>&lt;dbl&gt;</th><th scope=col>&lt;dbl&gt;</th><th scope=col>&lt;dbl&gt;</th><th scope=col>&lt;dbl&gt;</th><th scope=col>&lt;dbl&gt;</th></tr>\n",
       "</thead>\n",
       "<tbody>\n",
       "\t<tr><td>0</td><td> 0</td><td> 0</td><td>41</td><td>37</td><td>78</td><td>14</td><td> 7</td><td>21</td><td>12</td><td>⋯</td><td>  8</td><td>  2</td><td>  1</td><td>  3</td><td> 0</td><td> 1</td><td> 1</td><td>0</td><td>0</td><td>0</td></tr>\n",
       "\t<tr><td>8</td><td>10</td><td>18</td><td> 7</td><td> 8</td><td>15</td><td> 2</td><td> 1</td><td> 3</td><td> 6</td><td>⋯</td><td>111</td><td>352</td><td>463</td><td>815</td><td>18</td><td>22</td><td>40</td><td>0</td><td>0</td><td>0</td></tr>\n",
       "\t<tr><td>7</td><td>21</td><td>28</td><td>11</td><td>25</td><td>36</td><td> 7</td><td>14</td><td>21</td><td>12</td><td>⋯</td><td> 29</td><td>104</td><td>147</td><td>251</td><td> 3</td><td> 2</td><td> 5</td><td>2</td><td>0</td><td>2</td></tr>\n",
       "</tbody>\n",
       "</table>\n"
      ],
      "text/latex": [
       "A data.frame: 3 × 42\n",
       "\\begin{tabular}{lllllllllllllllllllll}\n",
       " X2008\\_M & X2008\\_F & X2008\\_P & X2009\\_M & X2009\\_F & X2009\\_P & X2010\\_M & X2010\\_F & X2010\\_P & X2011\\_M & ⋯ & X2018\\_P & X2019\\_M & X2019\\_F & X2019\\_P & X2020\\_M & X2020\\_F & X2020\\_P & X2021\\_M & X2021\\_F & X2021\\_P\\\\\n",
       " <dbl> & <dbl> & <dbl> & <dbl> & <dbl> & <dbl> & <dbl> & <dbl> & <dbl> & <dbl> & ⋯ & <dbl> & <dbl> & <dbl> & <dbl> & <dbl> & <dbl> & <dbl> & <dbl> & <dbl> & <dbl>\\\\\n",
       "\\hline\n",
       "\t 0 &  0 &  0 & 41 & 37 & 78 & 14 &  7 & 21 & 12 & ⋯ &   8 &   2 &   1 &   3 &  0 &  1 &  1 & 0 & 0 & 0\\\\\n",
       "\t 8 & 10 & 18 &  7 &  8 & 15 &  2 &  1 &  3 &  6 & ⋯ & 111 & 352 & 463 & 815 & 18 & 22 & 40 & 0 & 0 & 0\\\\\n",
       "\t 7 & 21 & 28 & 11 & 25 & 36 &  7 & 14 & 21 & 12 & ⋯ &  29 & 104 & 147 & 251 &  3 &  2 &  5 & 2 & 0 & 2\\\\\n",
       "\\end{tabular}\n"
      ],
      "text/markdown": [
       "\n",
       "A data.frame: 3 × 42\n",
       "\n",
       "| X2008_M &lt;dbl&gt; | X2008_F &lt;dbl&gt; | X2008_P &lt;dbl&gt; | X2009_M &lt;dbl&gt; | X2009_F &lt;dbl&gt; | X2009_P &lt;dbl&gt; | X2010_M &lt;dbl&gt; | X2010_F &lt;dbl&gt; | X2010_P &lt;dbl&gt; | X2011_M &lt;dbl&gt; | ⋯ ⋯ | X2018_P &lt;dbl&gt; | X2019_M &lt;dbl&gt; | X2019_F &lt;dbl&gt; | X2019_P &lt;dbl&gt; | X2020_M &lt;dbl&gt; | X2020_F &lt;dbl&gt; | X2020_P &lt;dbl&gt; | X2021_M &lt;dbl&gt; | X2021_F &lt;dbl&gt; | X2021_P &lt;dbl&gt; |\n",
       "|---|---|---|---|---|---|---|---|---|---|---|---|---|---|---|---|---|---|---|---|---|\n",
       "| 0 |  0 |  0 | 41 | 37 | 78 | 14 |  7 | 21 | 12 | ⋯ |   8 |   2 |   1 |   3 |  0 |  1 |  1 | 0 | 0 | 0 |\n",
       "| 8 | 10 | 18 |  7 |  8 | 15 |  2 |  1 |  3 |  6 | ⋯ | 111 | 352 | 463 | 815 | 18 | 22 | 40 | 0 | 0 | 0 |\n",
       "| 7 | 21 | 28 | 11 | 25 | 36 |  7 | 14 | 21 | 12 | ⋯ |  29 | 104 | 147 | 251 |  3 |  2 |  5 | 2 | 0 | 2 |\n",
       "\n"
      ],
      "text/plain": [
       "  X2008_M X2008_F X2008_P X2009_M X2009_F X2009_P X2010_M X2010_F X2010_P\n",
       "1 0        0       0      41      37      78      14       7      21     \n",
       "2 8       10      18       7       8      15       2       1       3     \n",
       "3 7       21      28      11      25      36       7      14      21     \n",
       "  X2011_M ⋯ X2018_P X2019_M X2019_F X2019_P X2020_M X2020_F X2020_P X2021_M\n",
       "1 12      ⋯   8       2       1       3      0       1       1      0      \n",
       "2  6      ⋯ 111     352     463     815     18      22      40      0      \n",
       "3 12      ⋯  29     104     147     251      3       2       5      2      \n",
       "  X2021_F X2021_P\n",
       "1 0       0      \n",
       "2 0       0      \n",
       "3 0       2      "
      ]
     },
     "metadata": {},
     "output_type": "display_data"
    }
   ],
   "source": [
    "merged_df <- data.frame(lapply(merged_df, function(x) if(is.factor(x)) as.character(x) else x))\n",
    "merged_df\n",
    "merged_df1  <- data.frame(lapply(merged_df[,2:43], function(x) if(is.character(x)) as.numeric(x) else x))\n",
    "merged_df1"
   ]
  },
  {
   "cell_type": "code",
   "execution_count": 28,
   "id": "46828b79-ba86-46b3-8929-83d52934ed3c",
   "metadata": {},
   "outputs": [
    {
     "data": {
      "text/html": [
       "<table class=\"dataframe\">\n",
       "<caption>A data.frame: 6 × 1</caption>\n",
       "<thead>\n",
       "\t<tr><th></th><th scope=col>mapply.sum..merged_df1.</th></tr>\n",
       "\t<tr><th></th><th scope=col>&lt;dbl&gt;</th></tr>\n",
       "</thead>\n",
       "<tbody>\n",
       "\t<tr><th scope=row>X2008_M</th><td> 15</td></tr>\n",
       "\t<tr><th scope=row>X2008_F</th><td> 31</td></tr>\n",
       "\t<tr><th scope=row>X2008_P</th><td> 46</td></tr>\n",
       "\t<tr><th scope=row>X2009_M</th><td> 59</td></tr>\n",
       "\t<tr><th scope=row>X2009_F</th><td> 70</td></tr>\n",
       "\t<tr><th scope=row>X2009_P</th><td>129</td></tr>\n",
       "</tbody>\n",
       "</table>\n"
      ],
      "text/latex": [
       "A data.frame: 6 × 1\n",
       "\\begin{tabular}{r|l}\n",
       "  & mapply.sum..merged\\_df1.\\\\\n",
       "  & <dbl>\\\\\n",
       "\\hline\n",
       "\tX2008\\_M &  15\\\\\n",
       "\tX2008\\_F &  31\\\\\n",
       "\tX2008\\_P &  46\\\\\n",
       "\tX2009\\_M &  59\\\\\n",
       "\tX2009\\_F &  70\\\\\n",
       "\tX2009\\_P & 129\\\\\n",
       "\\end{tabular}\n"
      ],
      "text/markdown": [
       "\n",
       "A data.frame: 6 × 1\n",
       "\n",
       "| <!--/--> | mapply.sum..merged_df1. &lt;dbl&gt; |\n",
       "|---|---|\n",
       "| X2008_M |  15 |\n",
       "| X2008_F |  31 |\n",
       "| X2008_P |  46 |\n",
       "| X2009_M |  59 |\n",
       "| X2009_F |  70 |\n",
       "| X2009_P | 129 |\n",
       "\n"
      ],
      "text/plain": [
       "        mapply.sum..merged_df1.\n",
       "X2008_M  15                    \n",
       "X2008_F  31                    \n",
       "X2008_P  46                    \n",
       "X2009_M  59                    \n",
       "X2009_F  70                    \n",
       "X2009_P 129                    "
      ]
     },
     "metadata": {},
     "output_type": "display_data"
    },
    {
     "data": {
      "text/html": [
       "<table class=\"dataframe\">\n",
       "<caption>A matrix: 1 × 42 of type dbl</caption>\n",
       "<thead>\n",
       "\t<tr><th></th><th scope=col>X2008_M</th><th scope=col>X2008_F</th><th scope=col>X2008_P</th><th scope=col>X2009_M</th><th scope=col>X2009_F</th><th scope=col>X2009_P</th><th scope=col>X2010_M</th><th scope=col>X2010_F</th><th scope=col>X2010_P</th><th scope=col>X2011_M</th><th scope=col>⋯</th><th scope=col>X2018_P</th><th scope=col>X2019_M</th><th scope=col>X2019_F</th><th scope=col>X2019_P</th><th scope=col>X2020_M</th><th scope=col>X2020_F</th><th scope=col>X2020_P</th><th scope=col>X2021_M</th><th scope=col>X2021_F</th><th scope=col>X2021_P</th></tr>\n",
       "</thead>\n",
       "<tbody>\n",
       "\t<tr><th scope=row>mapply.sum..merged_df1.</th><td>15</td><td>31</td><td>46</td><td>59</td><td>70</td><td>129</td><td>23</td><td>22</td><td>45</td><td>30</td><td>⋯</td><td>148</td><td>458</td><td>611</td><td>1069</td><td>21</td><td>25</td><td>46</td><td>2</td><td>0</td><td>2</td></tr>\n",
       "</tbody>\n",
       "</table>\n"
      ],
      "text/latex": [
       "A matrix: 1 × 42 of type dbl\n",
       "\\begin{tabular}{r|lllllllllllllllllllll}\n",
       "  & X2008\\_M & X2008\\_F & X2008\\_P & X2009\\_M & X2009\\_F & X2009\\_P & X2010\\_M & X2010\\_F & X2010\\_P & X2011\\_M & ⋯ & X2018\\_P & X2019\\_M & X2019\\_F & X2019\\_P & X2020\\_M & X2020\\_F & X2020\\_P & X2021\\_M & X2021\\_F & X2021\\_P\\\\\n",
       "\\hline\n",
       "\tmapply.sum..merged\\_df1. & 15 & 31 & 46 & 59 & 70 & 129 & 23 & 22 & 45 & 30 & ⋯ & 148 & 458 & 611 & 1069 & 21 & 25 & 46 & 2 & 0 & 2\\\\\n",
       "\\end{tabular}\n"
      ],
      "text/markdown": [
       "\n",
       "A matrix: 1 × 42 of type dbl\n",
       "\n",
       "| <!--/--> | X2008_M | X2008_F | X2008_P | X2009_M | X2009_F | X2009_P | X2010_M | X2010_F | X2010_P | X2011_M | ⋯ | X2018_P | X2019_M | X2019_F | X2019_P | X2020_M | X2020_F | X2020_P | X2021_M | X2021_F | X2021_P |\n",
       "|---|---|---|---|---|---|---|---|---|---|---|---|---|---|---|---|---|---|---|---|---|---|\n",
       "| mapply.sum..merged_df1. | 15 | 31 | 46 | 59 | 70 | 129 | 23 | 22 | 45 | 30 | ⋯ | 148 | 458 | 611 | 1069 | 21 | 25 | 46 | 2 | 0 | 2 |\n",
       "\n"
      ],
      "text/plain": [
       "                        X2008_M X2008_F X2008_P X2009_M X2009_F X2009_P X2010_M\n",
       "mapply.sum..merged_df1. 15      31      46      59      70      129     23     \n",
       "                        X2010_F X2010_P X2011_M ⋯ X2018_P X2019_M X2019_F\n",
       "mapply.sum..merged_df1. 22      45      30      ⋯ 148     458     611    \n",
       "                        X2019_P X2020_M X2020_F X2020_P X2021_M X2021_F X2021_P\n",
       "mapply.sum..merged_df1. 1069    21      25      46      2       0       2      "
      ]
     },
     "metadata": {},
     "output_type": "display_data"
    },
    {
     "data": {
      "text/html": [
       "<table class=\"dataframe\">\n",
       "<caption>A matrix: 1 × 42 of type dbl</caption>\n",
       "<thead>\n",
       "\t<tr><th></th><th scope=col>2008_M</th><th scope=col>2008_F</th><th scope=col>2008_P</th><th scope=col>2009_M</th><th scope=col>2009_F</th><th scope=col>2009_P</th><th scope=col>2010_M</th><th scope=col>2010_F</th><th scope=col>2010_P</th><th scope=col>2011_M</th><th scope=col>⋯</th><th scope=col>2018_P</th><th scope=col>2019_M</th><th scope=col>2019_F</th><th scope=col>2019_P</th><th scope=col>2020_M</th><th scope=col>2020_F</th><th scope=col>2020_P</th><th scope=col>2021_M</th><th scope=col>2021_F</th><th scope=col>2021_P</th></tr>\n",
       "</thead>\n",
       "<tbody>\n",
       "\t<tr><th scope=row>mapply.sum..merged_df1.</th><td>15</td><td>31</td><td>46</td><td>59</td><td>70</td><td>129</td><td>23</td><td>22</td><td>45</td><td>30</td><td>⋯</td><td>148</td><td>458</td><td>611</td><td>1069</td><td>21</td><td>25</td><td>46</td><td>2</td><td>0</td><td>2</td></tr>\n",
       "</tbody>\n",
       "</table>\n"
      ],
      "text/latex": [
       "A matrix: 1 × 42 of type dbl\n",
       "\\begin{tabular}{r|lllllllllllllllllllll}\n",
       "  & 2008\\_M & 2008\\_F & 2008\\_P & 2009\\_M & 2009\\_F & 2009\\_P & 2010\\_M & 2010\\_F & 2010\\_P & 2011\\_M & ⋯ & 2018\\_P & 2019\\_M & 2019\\_F & 2019\\_P & 2020\\_M & 2020\\_F & 2020\\_P & 2021\\_M & 2021\\_F & 2021\\_P\\\\\n",
       "\\hline\n",
       "\tmapply.sum..merged\\_df1. & 15 & 31 & 46 & 59 & 70 & 129 & 23 & 22 & 45 & 30 & ⋯ & 148 & 458 & 611 & 1069 & 21 & 25 & 46 & 2 & 0 & 2\\\\\n",
       "\\end{tabular}\n"
      ],
      "text/markdown": [
       "\n",
       "A matrix: 1 × 42 of type dbl\n",
       "\n",
       "| <!--/--> | 2008_M | 2008_F | 2008_P | 2009_M | 2009_F | 2009_P | 2010_M | 2010_F | 2010_P | 2011_M | ⋯ | 2018_P | 2019_M | 2019_F | 2019_P | 2020_M | 2020_F | 2020_P | 2021_M | 2021_F | 2021_P |\n",
       "|---|---|---|---|---|---|---|---|---|---|---|---|---|---|---|---|---|---|---|---|---|---|\n",
       "| mapply.sum..merged_df1. | 15 | 31 | 46 | 59 | 70 | 129 | 23 | 22 | 45 | 30 | ⋯ | 148 | 458 | 611 | 1069 | 21 | 25 | 46 | 2 | 0 | 2 |\n",
       "\n"
      ],
      "text/plain": [
       "                        2008_M 2008_F 2008_P 2009_M 2009_F 2009_P 2010_M 2010_F\n",
       "mapply.sum..merged_df1. 15     31     46     59     70     129    23     22    \n",
       "                        2010_P 2011_M ⋯ 2018_P 2019_M 2019_F 2019_P 2020_M\n",
       "mapply.sum..merged_df1. 45     30     ⋯ 148    458    611    1069   21    \n",
       "                        2020_F 2020_P 2021_M 2021_F 2021_P\n",
       "mapply.sum..merged_df1. 25     46     2      0      2     "
      ]
     },
     "metadata": {},
     "output_type": "display_data"
    }
   ],
   "source": [
    "# now lets find the sum of each column as we have found all influeza death cases\n",
    "# first columns need to be changed to numeric not factor\n",
    "#merged_df <-  as.numeric((2:43))\n",
    "#merged_df\n",
    "sums_inf <- data.frame(mapply(sum, merged_df1))\n",
    "head(sums_inf)\n",
    "\n",
    "sums_inf <- t(sums_inf)\n",
    "head(sums_inf)\n",
    "\n",
    "#fix the column names so we know the male and females for each year\n",
    "colnames(sums_inf) <- c(\"2008_M\", \"2008_F\", \"2008_P\",\"2009_M\", \"2009_F\", \"2009_P\",\n",
    "                  \"2010_M\", \"2010_F\", \"2010_P\", \"2011_M\", \"2011_F\", \"2011_P\",\n",
    "                  \"2012_M\", \"2012_F\", \"2012_P\", \"2013_M\", \"2013_F\", \"2013_P\",\n",
    "                  \"2014_M\", \"2014_F\", \"2014P\", \"2015_M\", \"2015_F\", \"2015_P\",\n",
    "                  \"2016_M\", \"2016_F\", \"2016_P\", \"2017_M\", \"2017_F\", \"2017_P\",\n",
    "                  \"2018_M\", \"2018_F\", \"2018_P\", \"2019_M\", \"2019_F\", \"2019_P\", \n",
    "                    \"2020_M\", \"2020_F\", \"2020_P\", \"2021_M\", \"2021_F\", \"2021_P\")\n",
    "sums_inf\n",
    "\n",
    "#sums_inf <- colSums(Filter(is.numeric, merged_df[, -1])) #-1 excludes our first column\n",
    "#print(sapply(merged_df, class))\n",
    "#merged_df <- lapply(merged_df, as.numeric)\n",
    "#print(merged_df)\n",
    "\n",
    "#merged_df <- as.numeric(merged_df$2008_M)"
   ]
  },
  {
   "cell_type": "markdown",
   "id": "0b799ec5-406a-40c9-8c4b-179db3fc4008",
   "metadata": {},
   "source": []
  }
 ],
 "metadata": {
  "kernelspec": {
   "display_name": "R",
   "language": "R",
   "name": "ir"
  },
  "language_info": {
   "codemirror_mode": "r",
   "file_extension": ".r",
   "mimetype": "text/x-r-source",
   "name": "R",
   "pygments_lexer": "r",
   "version": "4.2.2"
  }
 },
 "nbformat": 4,
 "nbformat_minor": 5
}

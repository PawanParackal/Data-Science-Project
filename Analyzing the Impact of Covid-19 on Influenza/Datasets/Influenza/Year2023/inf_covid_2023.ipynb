{
 "cells": [
  {
   "cell_type": "code",
   "execution_count": 1,
   "id": "c323bebf-6766-4651-918f-94fc4efc21a5",
   "metadata": {},
   "outputs": [
    {
     "data": {
      "text/html": [
       "<table class=\"dataframe\">\n",
       "<caption>A data.frame: 6 × 23</caption>\n",
       "<thead>\n",
       "\t<tr><th></th><th scope=col>ADT.FN02.2023</th><th scope=col>X</th><th scope=col>X.1</th><th scope=col>Notification.received.date</th><th scope=col>X.2</th><th scope=col>X.3</th><th scope=col>X.4</th><th scope=col>X.5</th><th scope=col>X.6</th><th scope=col>X.7</th><th scope=col>⋯</th><th scope=col>X.11</th><th scope=col>X.12</th><th scope=col>X.13</th><th scope=col>X.14</th><th scope=col>X.15</th><th scope=col>X.16</th><th scope=col>X.17</th><th scope=col>X.18</th><th scope=col>X.19</th><th scope=col>X.20</th></tr>\n",
       "\t<tr><th></th><th scope=col>&lt;chr&gt;</th><th scope=col>&lt;chr&gt;</th><th scope=col>&lt;chr&gt;</th><th scope=col>&lt;chr&gt;</th><th scope=col>&lt;chr&gt;</th><th scope=col>&lt;chr&gt;</th><th scope=col>&lt;chr&gt;</th><th scope=col>&lt;chr&gt;</th><th scope=col>&lt;chr&gt;</th><th scope=col>&lt;chr&gt;</th><th scope=col>⋯</th><th scope=col>&lt;chr&gt;</th><th scope=col>&lt;chr&gt;</th><th scope=col>&lt;chr&gt;</th><th scope=col>&lt;chr&gt;</th><th scope=col>&lt;chr&gt;</th><th scope=col>&lt;chr&gt;</th><th scope=col>&lt;chr&gt;</th><th scope=col>&lt;chr&gt;</th><th scope=col>&lt;chr&gt;</th><th scope=col>&lt;chr&gt;</th></tr>\n",
       "</thead>\n",
       "<tbody>\n",
       "\t<tr><th scope=row>1</th><td>                   </td><td>                            </td><td>            </td><td>State or Territory</td><td>    </td><td>     </td><td>    </td><td>     </td><td>     </td><td>     </td><td>⋯</td><td>                               </td><td>                 </td><td>Historical 90 Day Period</td><td>                               </td><td>                               </td><td>                                       </td><td>Historical Yearly Period</td><td>                            </td><td>                             </td><td>                                    </td></tr>\n",
       "\t<tr><th scope=row>2</th><td>Disease group      </td><td>Disease name                </td><td>Disease code</td><td>ACT^^             </td><td>NSW </td><td>NT   </td><td>Qld </td><td>SA   </td><td>Tas  </td><td>Vic  </td><td>⋯</td><td>Same reporting period last year</td><td>Current year\n",
       "YTD</td><td>Past Quarter            </td><td>Quarterly rolling \n",
       "5 year mean</td><td>Ratio past quarter/5 year mean*</td><td>Exceeds quarterly rolling mean +2 SD by</td><td>Past Year               </td><td>Yearly rolling \n",
       "5 year mean</td><td>Ratio past  year/5 year mean*</td><td>Exceeds yearly rolling mean +2 SD by</td></tr>\n",
       "\t<tr><th scope=row>3</th><td>                   </td><td>                            </td><td>            </td><td>                  </td><td>    </td><td>     </td><td>    </td><td>     </td><td>     </td><td>     </td><td>⋯</td><td>09/01/2022                     </td><td>01/01/2023       </td><td>25/10/2022              </td><td>                               </td><td>                               </td><td>                                       </td><td>23/01/2022              </td><td>23/01/2017                  </td><td>                             </td><td>                                    </td></tr>\n",
       "\t<tr><th scope=row>4</th><td>                   </td><td>                            </td><td>            </td><td>                  </td><td>    </td><td>     </td><td>    </td><td>     </td><td>     </td><td>     </td><td>⋯</td><td>22/01/2022                     </td><td>22/01/2023       </td><td>22/01/2023              </td><td>                               </td><td>                               </td><td>                                       </td><td>22/01/2023              </td><td>22/01/2022                  </td><td>                             </td><td>                                    </td></tr>\n",
       "\t<tr><th scope=row>5</th><td>Bloodborne diseases</td><td>Hepatitis B (newly acquired)</td><td>039         </td><td> -                </td><td> 1  </td><td> -   </td><td> 4  </td><td> -   </td><td> -   </td><td> -   </td><td>⋯</td><td> 1                             </td><td> 7               </td><td> 19                     </td><td> 32.4                          </td><td> 0.6                           </td><td> -                                     </td><td> 67                     </td><td> 133.0                      </td><td> 0.5                         </td><td> -                                  </td></tr>\n",
       "\t<tr><th scope=row>6</th><td>                   </td><td>Hepatitis B (unspecified)   </td><td>052         </td><td> -                </td><td> 76 </td><td> -   </td><td> 52 </td><td> 2   </td><td> 3   </td><td> 49  </td><td>⋯</td><td> 183                           </td><td> 277             </td><td> 1,227                  </td><td> 1,222.0                       </td><td> 1.0                           </td><td> -                                     </td><td> 5,460                  </td><td> 5,371.6                    </td><td> 1.0                         </td><td> -                                  </td></tr>\n",
       "</tbody>\n",
       "</table>\n"
      ],
      "text/latex": [
       "A data.frame: 6 × 23\n",
       "\\begin{tabular}{r|lllllllllllllllllllll}\n",
       "  & ADT.FN02.2023 & X & X.1 & Notification.received.date & X.2 & X.3 & X.4 & X.5 & X.6 & X.7 & ⋯ & X.11 & X.12 & X.13 & X.14 & X.15 & X.16 & X.17 & X.18 & X.19 & X.20\\\\\n",
       "  & <chr> & <chr> & <chr> & <chr> & <chr> & <chr> & <chr> & <chr> & <chr> & <chr> & ⋯ & <chr> & <chr> & <chr> & <chr> & <chr> & <chr> & <chr> & <chr> & <chr> & <chr>\\\\\n",
       "\\hline\n",
       "\t1 &                     &                              &              & State or Territory &      &       &      &       &       &       & ⋯ &                                 &                   & Historical 90 Day Period &                                 &                                 &                                         & Historical Yearly Period &                              &                               &                                     \\\\\n",
       "\t2 & Disease group       & Disease name                 & Disease code & ACT\\textasciicircum{}\\textasciicircum{}              & NSW  & NT    & Qld  & SA    & Tas   & Vic   & ⋯ & Same reporting period last year & Current year\n",
       "YTD & Past Quarter             & Quarterly rolling \n",
       "5 year mean & Ratio past quarter/5 year mean* & Exceeds quarterly rolling mean +2 SD by & Past Year                & Yearly rolling \n",
       "5 year mean & Ratio past  year/5 year mean* & Exceeds yearly rolling mean +2 SD by\\\\\n",
       "\t3 &                     &                              &              &                    &      &       &      &       &       &       & ⋯ & 09/01/2022                      & 01/01/2023        & 25/10/2022               &                                 &                                 &                                         & 23/01/2022               & 23/01/2017                   &                               &                                     \\\\\n",
       "\t4 &                     &                              &              &                    &      &       &      &       &       &       & ⋯ & 22/01/2022                      & 22/01/2023        & 22/01/2023               &                                 &                                 &                                         & 22/01/2023               & 22/01/2022                   &                               &                                     \\\\\n",
       "\t5 & Bloodborne diseases & Hepatitis B (newly acquired) & 039          &  -                 &  1   &  -    &  4   &  -    &  -    &  -    & ⋯ &  1                              &  7                &  19                      &  32.4                           &  0.6                            &  -                                      &  67                      &  133.0                       &  0.5                          &  -                                  \\\\\n",
       "\t6 &                     & Hepatitis B (unspecified)    & 052          &  -                 &  76  &  -    &  52  &  2    &  3    &  49   & ⋯ &  183                            &  277              &  1,227                   &  1,222.0                        &  1.0                            &  -                                      &  5,460                   &  5,371.6                     &  1.0                          &  -                                  \\\\\n",
       "\\end{tabular}\n"
      ],
      "text/markdown": [
       "\n",
       "A data.frame: 6 × 23\n",
       "\n",
       "| <!--/--> | ADT.FN02.2023 &lt;chr&gt; | X &lt;chr&gt; | X.1 &lt;chr&gt; | Notification.received.date &lt;chr&gt; | X.2 &lt;chr&gt; | X.3 &lt;chr&gt; | X.4 &lt;chr&gt; | X.5 &lt;chr&gt; | X.6 &lt;chr&gt; | X.7 &lt;chr&gt; | ⋯ ⋯ | X.11 &lt;chr&gt; | X.12 &lt;chr&gt; | X.13 &lt;chr&gt; | X.14 &lt;chr&gt; | X.15 &lt;chr&gt; | X.16 &lt;chr&gt; | X.17 &lt;chr&gt; | X.18 &lt;chr&gt; | X.19 &lt;chr&gt; | X.20 &lt;chr&gt; |\n",
       "|---|---|---|---|---|---|---|---|---|---|---|---|---|---|---|---|---|---|---|---|---|---|\n",
       "| 1 | <!----> | <!----> | <!----> | State or Territory | <!----> | <!----> | <!----> | <!----> | <!----> | <!----> | ⋯ | <!----> | <!----> | Historical 90 Day Period | <!----> | <!----> | <!----> | Historical Yearly Period | <!----> | <!----> | <!----> |\n",
       "| 2 | Disease group       | Disease name                 | Disease code | ACT^^              | NSW  | NT    | Qld  | SA    | Tas   | Vic   | ⋯ | Same reporting period last year | Current year\n",
       "YTD | Past Quarter             | Quarterly rolling \n",
       "5 year mean | Ratio past quarter/5 year mean* | Exceeds quarterly rolling mean +2 SD by | Past Year                | Yearly rolling \n",
       "5 year mean | Ratio past  year/5 year mean* | Exceeds yearly rolling mean +2 SD by |\n",
       "| 3 | <!----> | <!----> | <!----> | <!----> | <!----> | <!----> | <!----> | <!----> | <!----> | <!----> | ⋯ | 09/01/2022                      | 01/01/2023        | 25/10/2022               | <!----> | <!----> | <!----> | 23/01/2022               | 23/01/2017                   | <!----> | <!----> |\n",
       "| 4 | <!----> | <!----> | <!----> | <!----> | <!----> | <!----> | <!----> | <!----> | <!----> | <!----> | ⋯ | 22/01/2022                      | 22/01/2023        | 22/01/2023               | <!----> | <!----> | <!----> | 22/01/2023               | 22/01/2022                   | <!----> | <!----> |\n",
       "| 5 | Bloodborne diseases | Hepatitis B (newly acquired) | 039          |  -                 |  1   |  -    |  4   |  -    |  -    |  -    | ⋯ |  1                              |  7                |  19                      |  32.4                           |  0.6                            |  -                                      |  67                      |  133.0                       |  0.5                          |  -                                   |\n",
       "| 6 | <!----> | Hepatitis B (unspecified)    | 052          |  -                 |  76  |  -    |  52  |  2    |  3    |  49   | ⋯ |  183                            |  277              |  1,227                   |  1,222.0                        |  1.0                            |  -                                      |  5,460                   |  5,371.6                     |  1.0                          |  -                                   |\n",
       "\n"
      ],
      "text/plain": [
       "  ADT.FN02.2023       X                            X.1         \n",
       "1                                                              \n",
       "2 Disease group       Disease name                 Disease code\n",
       "3                                                              \n",
       "4                                                              \n",
       "5 Bloodborne diseases Hepatitis B (newly acquired) 039         \n",
       "6                     Hepatitis B (unspecified)    052         \n",
       "  Notification.received.date X.2  X.3   X.4  X.5   X.6   X.7   ⋯\n",
       "1 State or Territory                                           ⋯\n",
       "2 ACT^^                      NSW  NT    Qld  SA    Tas   Vic   ⋯\n",
       "3                                                              ⋯\n",
       "4                                                              ⋯\n",
       "5  -                          1    -     4    -     -     -    ⋯\n",
       "6  -                          76   -     52   2     3     49   ⋯\n",
       "  X.11                            X.12              X.13                    \n",
       "1                                                   Historical 90 Day Period\n",
       "2 Same reporting period last year Current year\\nYTD Past Quarter            \n",
       "3 09/01/2022                      01/01/2023        25/10/2022              \n",
       "4 22/01/2022                      22/01/2023        22/01/2023              \n",
       "5  1                               7                 19                     \n",
       "6  183                             277               1,227                  \n",
       "  X.14                            X.15                           \n",
       "1                                                                \n",
       "2 Quarterly rolling \\n5 year mean Ratio past quarter/5 year mean*\n",
       "3                                                                \n",
       "4                                                                \n",
       "5  32.4                            0.6                           \n",
       "6  1,222.0                         1.0                           \n",
       "  X.16                                    X.17                    \n",
       "1                                         Historical Yearly Period\n",
       "2 Exceeds quarterly rolling mean +2 SD by Past Year               \n",
       "3                                         23/01/2022              \n",
       "4                                         22/01/2023              \n",
       "5  -                                       67                     \n",
       "6  -                                       5,460                  \n",
       "  X.18                         X.19                         \n",
       "1                                                           \n",
       "2 Yearly rolling \\n5 year mean Ratio past  year/5 year mean*\n",
       "3 23/01/2017                                                \n",
       "4 22/01/2022                                                \n",
       "5  133.0                        0.5                         \n",
       "6  5,371.6                      1.0                         \n",
       "  X.20                                \n",
       "1                                     \n",
       "2 Exceeds yearly rolling mean +2 SD by\n",
       "3                                     \n",
       "4                                     \n",
       "5  -                                  \n",
       "6  -                                  "
      ]
     },
     "metadata": {},
     "output_type": "display_data"
    }
   ],
   "source": [
    "df = read.csv(\"1. 09_jan_2023_to_22_jan_2023.csv\", header=TRUE, stringsAsFactors=FALSE)\n",
    "head(df)"
   ]
  },
  {
   "cell_type": "code",
   "execution_count": 2,
   "id": "17a16f9b-807e-4a95-ba88-f07ef8398fd5",
   "metadata": {},
   "outputs": [
    {
     "data": {
      "text/html": [
       "<table class=\"dataframe\">\n",
       "<caption>A data.frame: 6 × 2</caption>\n",
       "<thead>\n",
       "\t<tr><th></th><th scope=col>X</th><th scope=col>X.9</th></tr>\n",
       "\t<tr><th></th><th scope=col>&lt;chr&gt;</th><th scope=col>&lt;chr&gt;</th></tr>\n",
       "</thead>\n",
       "<tbody>\n",
       "\t<tr><th scope=row>1</th><td>                            </td><td>Totals for Australia </td></tr>\n",
       "\t<tr><th scope=row>2</th><td>Disease name                </td><td>This reporting period</td></tr>\n",
       "\t<tr><th scope=row>3</th><td>                            </td><td>09/01/2023           </td></tr>\n",
       "\t<tr><th scope=row>4</th><td>                            </td><td>22/01/2023           </td></tr>\n",
       "\t<tr><th scope=row>5</th><td>Hepatitis B (newly acquired)</td><td> 5                   </td></tr>\n",
       "\t<tr><th scope=row>6</th><td>Hepatitis B (unspecified)   </td><td> 203                 </td></tr>\n",
       "</tbody>\n",
       "</table>\n"
      ],
      "text/latex": [
       "A data.frame: 6 × 2\n",
       "\\begin{tabular}{r|ll}\n",
       "  & X & X.9\\\\\n",
       "  & <chr> & <chr>\\\\\n",
       "\\hline\n",
       "\t1 &                              & Totals for Australia \\\\\n",
       "\t2 & Disease name                 & This reporting period\\\\\n",
       "\t3 &                              & 09/01/2023           \\\\\n",
       "\t4 &                              & 22/01/2023           \\\\\n",
       "\t5 & Hepatitis B (newly acquired) &  5                   \\\\\n",
       "\t6 & Hepatitis B (unspecified)    &  203                 \\\\\n",
       "\\end{tabular}\n"
      ],
      "text/markdown": [
       "\n",
       "A data.frame: 6 × 2\n",
       "\n",
       "| <!--/--> | X &lt;chr&gt; | X.9 &lt;chr&gt; |\n",
       "|---|---|---|\n",
       "| 1 | <!----> | Totals for Australia  |\n",
       "| 2 | Disease name                 | This reporting period |\n",
       "| 3 | <!----> | 09/01/2023            |\n",
       "| 4 | <!----> | 22/01/2023            |\n",
       "| 5 | Hepatitis B (newly acquired) |  5                    |\n",
       "| 6 | Hepatitis B (unspecified)    |  203                  |\n",
       "\n"
      ],
      "text/plain": [
       "  X                            X.9                  \n",
       "1                              Totals for Australia \n",
       "2 Disease name                 This reporting period\n",
       "3                              09/01/2023           \n",
       "4                              22/01/2023           \n",
       "5 Hepatitis B (newly acquired)  5                   \n",
       "6 Hepatitis B (unspecified)     203                 "
      ]
     },
     "metadata": {},
     "output_type": "display_data"
    }
   ],
   "source": [
    "df <- df[, -c(1,3:11, 13:23)]\n",
    "head(df)"
   ]
  },
  {
   "cell_type": "code",
   "execution_count": 3,
   "id": "bf6176d1-0cf7-4e3d-a2d3-e67a27343a31",
   "metadata": {},
   "outputs": [
    {
     "data": {
      "text/html": [
       "<table class=\"dataframe\">\n",
       "<caption>A data.frame: 1 × 2</caption>\n",
       "<thead>\n",
       "\t<tr><th></th><th scope=col>X</th><th scope=col>X.9</th></tr>\n",
       "\t<tr><th></th><th scope=col>&lt;chr&gt;</th><th scope=col>&lt;chr&gt;</th></tr>\n",
       "</thead>\n",
       "<tbody>\n",
       "\t<tr><th scope=row>51</th><td>Influenza (laboratory confirmed)</td><td> 1,872 </td></tr>\n",
       "</tbody>\n",
       "</table>\n"
      ],
      "text/latex": [
       "A data.frame: 1 × 2\n",
       "\\begin{tabular}{r|ll}\n",
       "  & X & X.9\\\\\n",
       "  & <chr> & <chr>\\\\\n",
       "\\hline\n",
       "\t51 & Influenza (laboratory confirmed) &  1,872 \\\\\n",
       "\\end{tabular}\n"
      ],
      "text/markdown": [
       "\n",
       "A data.frame: 1 × 2\n",
       "\n",
       "| <!--/--> | X &lt;chr&gt; | X.9 &lt;chr&gt; |\n",
       "|---|---|---|\n",
       "| 51 | Influenza (laboratory confirmed) |  1,872  |\n",
       "\n"
      ],
      "text/plain": [
       "   X                                X.9    \n",
       "51 Influenza (laboratory confirmed)  1,872 "
      ]
     },
     "metadata": {},
     "output_type": "display_data"
    }
   ],
   "source": [
    "#find the rows that contain the words influenza\n",
    "inf <- df[grep(\"Influenza\", df$X),]\n",
    "head(inf)"
   ]
  },
  {
   "cell_type": "code",
   "execution_count": 4,
   "id": "b9a79415-befd-40c6-b97f-4b58f213355f",
   "metadata": {},
   "outputs": [
    {
     "data": {
      "text/html": [
       "<table class=\"dataframe\">\n",
       "<caption>A data.frame: 1 × 2</caption>\n",
       "<thead>\n",
       "\t<tr><th></th><th scope=col>X</th><th scope=col>X.9</th></tr>\n",
       "\t<tr><th></th><th scope=col>&lt;chr&gt;</th><th scope=col>&lt;chr&gt;</th></tr>\n",
       "</thead>\n",
       "<tbody>\n",
       "\t<tr><th scope=row>24</th><td>COVID-19</td><td> 56,968 </td></tr>\n",
       "</tbody>\n",
       "</table>\n"
      ],
      "text/latex": [
       "A data.frame: 1 × 2\n",
       "\\begin{tabular}{r|ll}\n",
       "  & X & X.9\\\\\n",
       "  & <chr> & <chr>\\\\\n",
       "\\hline\n",
       "\t24 & COVID-19 &  56,968 \\\\\n",
       "\\end{tabular}\n"
      ],
      "text/markdown": [
       "\n",
       "A data.frame: 1 × 2\n",
       "\n",
       "| <!--/--> | X &lt;chr&gt; | X.9 &lt;chr&gt; |\n",
       "|---|---|---|\n",
       "| 24 | COVID-19 |  56,968  |\n",
       "\n"
      ],
      "text/plain": [
       "   X        X.9     \n",
       "24 COVID-19  56,968 "
      ]
     },
     "metadata": {},
     "output_type": "display_data"
    }
   ],
   "source": [
    "covid <-  df[grep(\"COVID\", df$X),]\n",
    "covid"
   ]
  },
  {
   "cell_type": "code",
   "execution_count": 5,
   "id": "79ba5590-b9c1-464e-a5db-166624408baa",
   "metadata": {},
   "outputs": [
    {
     "data": {
      "text/html": [
       "<table class=\"dataframe\">\n",
       "<caption>A data.frame: 2 × 2</caption>\n",
       "<thead>\n",
       "\t<tr><th></th><th scope=col>X</th><th scope=col>X.9</th></tr>\n",
       "\t<tr><th></th><th scope=col>&lt;chr&gt;</th><th scope=col>&lt;chr&gt;</th></tr>\n",
       "</thead>\n",
       "<tbody>\n",
       "\t<tr><th scope=row>51</th><td>Influenza (laboratory confirmed)</td><td> 1,872  </td></tr>\n",
       "\t<tr><th scope=row>24</th><td>COVID-19                        </td><td> 56,968 </td></tr>\n",
       "</tbody>\n",
       "</table>\n"
      ],
      "text/latex": [
       "A data.frame: 2 × 2\n",
       "\\begin{tabular}{r|ll}\n",
       "  & X & X.9\\\\\n",
       "  & <chr> & <chr>\\\\\n",
       "\\hline\n",
       "\t51 & Influenza (laboratory confirmed) &  1,872  \\\\\n",
       "\t24 & COVID-19                         &  56,968 \\\\\n",
       "\\end{tabular}\n"
      ],
      "text/markdown": [
       "\n",
       "A data.frame: 2 × 2\n",
       "\n",
       "| <!--/--> | X &lt;chr&gt; | X.9 &lt;chr&gt; |\n",
       "|---|---|---|\n",
       "| 51 | Influenza (laboratory confirmed) |  1,872   |\n",
       "| 24 | COVID-19                         |  56,968  |\n",
       "\n"
      ],
      "text/plain": [
       "   X                                X.9     \n",
       "51 Influenza (laboratory confirmed)  1,872  \n",
       "24 COVID-19                          56,968 "
      ]
     },
     "metadata": {},
     "output_type": "display_data"
    }
   ],
   "source": [
    "Jan09_Jan22_2023 <- rbind(inf, covid)\n",
    "Jan09_Jan22_2023"
   ]
  },
  {
   "cell_type": "code",
   "execution_count": 6,
   "id": "18793f56-1634-4bd2-9daf-d90199f7f355",
   "metadata": {},
   "outputs": [
    {
     "data": {
      "text/html": [
       "<table class=\"dataframe\">\n",
       "<caption>A data.frame: 2 × 2</caption>\n",
       "<thead>\n",
       "\t<tr><th></th><th scope=col>X</th><th scope=col>X.9</th></tr>\n",
       "\t<tr><th></th><th scope=col>&lt;chr&gt;</th><th scope=col>&lt;dbl&gt;</th></tr>\n",
       "</thead>\n",
       "<tbody>\n",
       "\t<tr><th scope=row>51</th><td>Influenza (laboratory confirmed)</td><td> 1872</td></tr>\n",
       "\t<tr><th scope=row>24</th><td>COVID-19                        </td><td>56968</td></tr>\n",
       "</tbody>\n",
       "</table>\n"
      ],
      "text/latex": [
       "A data.frame: 2 × 2\n",
       "\\begin{tabular}{r|ll}\n",
       "  & X & X.9\\\\\n",
       "  & <chr> & <dbl>\\\\\n",
       "\\hline\n",
       "\t51 & Influenza (laboratory confirmed) &  1872\\\\\n",
       "\t24 & COVID-19                         & 56968\\\\\n",
       "\\end{tabular}\n"
      ],
      "text/markdown": [
       "\n",
       "A data.frame: 2 × 2\n",
       "\n",
       "| <!--/--> | X &lt;chr&gt; | X.9 &lt;dbl&gt; |\n",
       "|---|---|---|\n",
       "| 51 | Influenza (laboratory confirmed) |  1872 |\n",
       "| 24 | COVID-19                         | 56968 |\n",
       "\n"
      ],
      "text/plain": [
       "   X                                X.9  \n",
       "51 Influenza (laboratory confirmed)  1872\n",
       "24 COVID-19                         56968"
      ]
     },
     "metadata": {},
     "output_type": "display_data"
    }
   ],
   "source": [
    "Jan09_Jan22_2023$X.9 <- gsub(\",\", \"\", Jan09_Jan22_2023$X.9)\n",
    "Jan09_Jan22_2023[,2] <- as.numeric(Jan09_Jan22_2023[,2])\n",
    "Jan09_Jan22_2023"
   ]
  },
  {
   "cell_type": "code",
   "execution_count": 7,
   "id": "6ac3ff0a-908e-4250-9c65-2ea7d4b6de10",
   "metadata": {},
   "outputs": [
    {
     "data": {
      "text/html": [
       "<table class=\"dataframe\">\n",
       "<caption>A data.frame: 2 × 2</caption>\n",
       "<thead>\n",
       "\t<tr><th></th><th scope=col>Disease</th><th scope=col>09Jan - 22Jan 2023</th></tr>\n",
       "\t<tr><th></th><th scope=col>&lt;chr&gt;</th><th scope=col>&lt;dbl&gt;</th></tr>\n",
       "</thead>\n",
       "<tbody>\n",
       "\t<tr><th scope=row>51</th><td>Influenza (laboratory confirmed)</td><td> 1872</td></tr>\n",
       "\t<tr><th scope=row>24</th><td>COVID-19                        </td><td>56968</td></tr>\n",
       "</tbody>\n",
       "</table>\n"
      ],
      "text/latex": [
       "A data.frame: 2 × 2\n",
       "\\begin{tabular}{r|ll}\n",
       "  & Disease & 09Jan - 22Jan 2023\\\\\n",
       "  & <chr> & <dbl>\\\\\n",
       "\\hline\n",
       "\t51 & Influenza (laboratory confirmed) &  1872\\\\\n",
       "\t24 & COVID-19                         & 56968\\\\\n",
       "\\end{tabular}\n"
      ],
      "text/markdown": [
       "\n",
       "A data.frame: 2 × 2\n",
       "\n",
       "| <!--/--> | Disease &lt;chr&gt; | 09Jan - 22Jan 2023 &lt;dbl&gt; |\n",
       "|---|---|---|\n",
       "| 51 | Influenza (laboratory confirmed) |  1872 |\n",
       "| 24 | COVID-19                         | 56968 |\n",
       "\n"
      ],
      "text/plain": [
       "   Disease                          09Jan - 22Jan 2023\n",
       "51 Influenza (laboratory confirmed)  1872             \n",
       "24 COVID-19                         56968             "
      ]
     },
     "metadata": {},
     "output_type": "display_data"
    }
   ],
   "source": [
    "colnames(Jan09_Jan22_2023) <- c(\"Disease\", \"09Jan - 22Jan 2023\")\n",
    "Jan09_Jan22_2023"
   ]
  },
  {
   "cell_type": "code",
   "execution_count": 8,
   "id": "94803c4c-9a87-4dac-93ea-f32b3024c819",
   "metadata": {},
   "outputs": [
    {
     "data": {
      "text/html": [
       "<table class=\"dataframe\">\n",
       "<caption>A data.frame: 6 × 23</caption>\n",
       "<thead>\n",
       "\t<tr><th></th><th scope=col>ADT.FN03.2023</th><th scope=col>X</th><th scope=col>X.1</th><th scope=col>Notification.received.date</th><th scope=col>X.2</th><th scope=col>X.3</th><th scope=col>X.4</th><th scope=col>X.5</th><th scope=col>X.6</th><th scope=col>X.7</th><th scope=col>⋯</th><th scope=col>X.11</th><th scope=col>X.12</th><th scope=col>X.13</th><th scope=col>X.14</th><th scope=col>X.15</th><th scope=col>X.16</th><th scope=col>X.17</th><th scope=col>X.18</th><th scope=col>X.19</th><th scope=col>X.20</th></tr>\n",
       "\t<tr><th></th><th scope=col>&lt;chr&gt;</th><th scope=col>&lt;chr&gt;</th><th scope=col>&lt;chr&gt;</th><th scope=col>&lt;chr&gt;</th><th scope=col>&lt;chr&gt;</th><th scope=col>&lt;chr&gt;</th><th scope=col>&lt;chr&gt;</th><th scope=col>&lt;chr&gt;</th><th scope=col>&lt;chr&gt;</th><th scope=col>&lt;chr&gt;</th><th scope=col>⋯</th><th scope=col>&lt;chr&gt;</th><th scope=col>&lt;chr&gt;</th><th scope=col>&lt;chr&gt;</th><th scope=col>&lt;chr&gt;</th><th scope=col>&lt;chr&gt;</th><th scope=col>&lt;chr&gt;</th><th scope=col>&lt;chr&gt;</th><th scope=col>&lt;chr&gt;</th><th scope=col>&lt;chr&gt;</th><th scope=col>&lt;chr&gt;</th></tr>\n",
       "</thead>\n",
       "<tbody>\n",
       "\t<tr><th scope=row>1</th><td>                   </td><td>                            </td><td>            </td><td>State or Territory</td><td>    </td><td>     </td><td>     </td><td>     </td><td>     </td><td>     </td><td>⋯</td><td>                               </td><td>                 </td><td>Historical 90 Day Period</td><td>                               </td><td>                               </td><td>                                       </td><td>Historical Yearly Period</td><td>                            </td><td>                             </td><td>                                    </td></tr>\n",
       "\t<tr><th scope=row>2</th><td>Disease group      </td><td>Disease name                </td><td>Disease code</td><td>ACT^^             </td><td>NSW </td><td>NT   </td><td>Qld  </td><td>SA   </td><td>Tas  </td><td>Vic  </td><td>⋯</td><td>Same reporting period last year</td><td>Current year\n",
       "YTD</td><td>Past Quarter            </td><td>Quarterly rolling \n",
       "5 year mean</td><td>Ratio past quarter/5 year mean*</td><td>Exceeds quarterly rolling mean +2 SD by</td><td>Past Year               </td><td>Yearly rolling \n",
       "5 year mean</td><td>Ratio past  year/5 year mean*</td><td>Exceeds yearly rolling mean +2 SD by</td></tr>\n",
       "\t<tr><th scope=row>3</th><td>                   </td><td>                            </td><td>            </td><td>                  </td><td>    </td><td>     </td><td>     </td><td>     </td><td>     </td><td>     </td><td>⋯</td><td>23/01/2022                     </td><td>01/01/2023       </td><td>08/11/2022              </td><td>                               </td><td>                               </td><td>                                       </td><td>06/02/2022              </td><td>06/02/2017                  </td><td>                             </td><td>                                    </td></tr>\n",
       "\t<tr><th scope=row>4</th><td>                   </td><td>                            </td><td>            </td><td>                  </td><td>    </td><td>     </td><td>     </td><td>     </td><td>     </td><td>     </td><td>⋯</td><td>05/02/2022                     </td><td>05/02/2023       </td><td>05/02/2023              </td><td>                               </td><td>                               </td><td>                                       </td><td>05/02/2023              </td><td>05/02/2022                  </td><td>                             </td><td>                                    </td></tr>\n",
       "\t<tr><th scope=row>5</th><td>Bloodborne diseases</td><td>Hepatitis B (newly acquired)</td><td>039         </td><td> -                </td><td> 1  </td><td> -   </td><td> -   </td><td> -   </td><td> -   </td><td> -   </td><td>⋯</td><td> 2                             </td><td> 9               </td><td> 18                     </td><td> 31.2                          </td><td> 0.6                           </td><td> -                                     </td><td> 67                     </td><td> 132.4                      </td><td> 0.5                         </td><td> -                                  </td></tr>\n",
       "\t<tr><th scope=row>6</th><td>                   </td><td>Hepatitis B (unspecified)   </td><td>052         </td><td> -                </td><td> 67 </td><td> 1   </td><td> 38  </td><td> 2   </td><td> -   </td><td> 50  </td><td>⋯</td><td> 178                           </td><td> 452             </td><td> 1,199                  </td><td> 1,199.4                       </td><td> 1.0                           </td><td> -                                     </td><td> 5,461                  </td><td> 5,366.8                    </td><td> 1.0                         </td><td> -                                  </td></tr>\n",
       "</tbody>\n",
       "</table>\n"
      ],
      "text/latex": [
       "A data.frame: 6 × 23\n",
       "\\begin{tabular}{r|lllllllllllllllllllll}\n",
       "  & ADT.FN03.2023 & X & X.1 & Notification.received.date & X.2 & X.3 & X.4 & X.5 & X.6 & X.7 & ⋯ & X.11 & X.12 & X.13 & X.14 & X.15 & X.16 & X.17 & X.18 & X.19 & X.20\\\\\n",
       "  & <chr> & <chr> & <chr> & <chr> & <chr> & <chr> & <chr> & <chr> & <chr> & <chr> & ⋯ & <chr> & <chr> & <chr> & <chr> & <chr> & <chr> & <chr> & <chr> & <chr> & <chr>\\\\\n",
       "\\hline\n",
       "\t1 &                     &                              &              & State or Territory &      &       &       &       &       &       & ⋯ &                                 &                   & Historical 90 Day Period &                                 &                                 &                                         & Historical Yearly Period &                              &                               &                                     \\\\\n",
       "\t2 & Disease group       & Disease name                 & Disease code & ACT\\textasciicircum{}\\textasciicircum{}              & NSW  & NT    & Qld   & SA    & Tas   & Vic   & ⋯ & Same reporting period last year & Current year\n",
       "YTD & Past Quarter             & Quarterly rolling \n",
       "5 year mean & Ratio past quarter/5 year mean* & Exceeds quarterly rolling mean +2 SD by & Past Year                & Yearly rolling \n",
       "5 year mean & Ratio past  year/5 year mean* & Exceeds yearly rolling mean +2 SD by\\\\\n",
       "\t3 &                     &                              &              &                    &      &       &       &       &       &       & ⋯ & 23/01/2022                      & 01/01/2023        & 08/11/2022               &                                 &                                 &                                         & 06/02/2022               & 06/02/2017                   &                               &                                     \\\\\n",
       "\t4 &                     &                              &              &                    &      &       &       &       &       &       & ⋯ & 05/02/2022                      & 05/02/2023        & 05/02/2023               &                                 &                                 &                                         & 05/02/2023               & 05/02/2022                   &                               &                                     \\\\\n",
       "\t5 & Bloodborne diseases & Hepatitis B (newly acquired) & 039          &  -                 &  1   &  -    &  -    &  -    &  -    &  -    & ⋯ &  2                              &  9                &  18                      &  31.2                           &  0.6                            &  -                                      &  67                      &  132.4                       &  0.5                          &  -                                  \\\\\n",
       "\t6 &                     & Hepatitis B (unspecified)    & 052          &  -                 &  67  &  1    &  38   &  2    &  -    &  50   & ⋯ &  178                            &  452              &  1,199                   &  1,199.4                        &  1.0                            &  -                                      &  5,461                   &  5,366.8                     &  1.0                          &  -                                  \\\\\n",
       "\\end{tabular}\n"
      ],
      "text/markdown": [
       "\n",
       "A data.frame: 6 × 23\n",
       "\n",
       "| <!--/--> | ADT.FN03.2023 &lt;chr&gt; | X &lt;chr&gt; | X.1 &lt;chr&gt; | Notification.received.date &lt;chr&gt; | X.2 &lt;chr&gt; | X.3 &lt;chr&gt; | X.4 &lt;chr&gt; | X.5 &lt;chr&gt; | X.6 &lt;chr&gt; | X.7 &lt;chr&gt; | ⋯ ⋯ | X.11 &lt;chr&gt; | X.12 &lt;chr&gt; | X.13 &lt;chr&gt; | X.14 &lt;chr&gt; | X.15 &lt;chr&gt; | X.16 &lt;chr&gt; | X.17 &lt;chr&gt; | X.18 &lt;chr&gt; | X.19 &lt;chr&gt; | X.20 &lt;chr&gt; |\n",
       "|---|---|---|---|---|---|---|---|---|---|---|---|---|---|---|---|---|---|---|---|---|---|\n",
       "| 1 | <!----> | <!----> | <!----> | State or Territory | <!----> | <!----> | <!----> | <!----> | <!----> | <!----> | ⋯ | <!----> | <!----> | Historical 90 Day Period | <!----> | <!----> | <!----> | Historical Yearly Period | <!----> | <!----> | <!----> |\n",
       "| 2 | Disease group       | Disease name                 | Disease code | ACT^^              | NSW  | NT    | Qld   | SA    | Tas   | Vic   | ⋯ | Same reporting period last year | Current year\n",
       "YTD | Past Quarter             | Quarterly rolling \n",
       "5 year mean | Ratio past quarter/5 year mean* | Exceeds quarterly rolling mean +2 SD by | Past Year                | Yearly rolling \n",
       "5 year mean | Ratio past  year/5 year mean* | Exceeds yearly rolling mean +2 SD by |\n",
       "| 3 | <!----> | <!----> | <!----> | <!----> | <!----> | <!----> | <!----> | <!----> | <!----> | <!----> | ⋯ | 23/01/2022                      | 01/01/2023        | 08/11/2022               | <!----> | <!----> | <!----> | 06/02/2022               | 06/02/2017                   | <!----> | <!----> |\n",
       "| 4 | <!----> | <!----> | <!----> | <!----> | <!----> | <!----> | <!----> | <!----> | <!----> | <!----> | ⋯ | 05/02/2022                      | 05/02/2023        | 05/02/2023               | <!----> | <!----> | <!----> | 05/02/2023               | 05/02/2022                   | <!----> | <!----> |\n",
       "| 5 | Bloodborne diseases | Hepatitis B (newly acquired) | 039          |  -                 |  1   |  -    |  -    |  -    |  -    |  -    | ⋯ |  2                              |  9                |  18                      |  31.2                           |  0.6                            |  -                                      |  67                      |  132.4                       |  0.5                          |  -                                   |\n",
       "| 6 | <!----> | Hepatitis B (unspecified)    | 052          |  -                 |  67  |  1    |  38   |  2    |  -    |  50   | ⋯ |  178                            |  452              |  1,199                   |  1,199.4                        |  1.0                            |  -                                      |  5,461                   |  5,366.8                     |  1.0                          |  -                                   |\n",
       "\n"
      ],
      "text/plain": [
       "  ADT.FN03.2023       X                            X.1         \n",
       "1                                                              \n",
       "2 Disease group       Disease name                 Disease code\n",
       "3                                                              \n",
       "4                                                              \n",
       "5 Bloodborne diseases Hepatitis B (newly acquired) 039         \n",
       "6                     Hepatitis B (unspecified)    052         \n",
       "  Notification.received.date X.2  X.3   X.4   X.5   X.6   X.7   ⋯\n",
       "1 State or Territory                                            ⋯\n",
       "2 ACT^^                      NSW  NT    Qld   SA    Tas   Vic   ⋯\n",
       "3                                                               ⋯\n",
       "4                                                               ⋯\n",
       "5  -                          1    -     -     -     -     -    ⋯\n",
       "6  -                          67   1     38    2     -     50   ⋯\n",
       "  X.11                            X.12              X.13                    \n",
       "1                                                   Historical 90 Day Period\n",
       "2 Same reporting period last year Current year\\nYTD Past Quarter            \n",
       "3 23/01/2022                      01/01/2023        08/11/2022              \n",
       "4 05/02/2022                      05/02/2023        05/02/2023              \n",
       "5  2                               9                 18                     \n",
       "6  178                             452               1,199                  \n",
       "  X.14                            X.15                           \n",
       "1                                                                \n",
       "2 Quarterly rolling \\n5 year mean Ratio past quarter/5 year mean*\n",
       "3                                                                \n",
       "4                                                                \n",
       "5  31.2                            0.6                           \n",
       "6  1,199.4                         1.0                           \n",
       "  X.16                                    X.17                    \n",
       "1                                         Historical Yearly Period\n",
       "2 Exceeds quarterly rolling mean +2 SD by Past Year               \n",
       "3                                         06/02/2022              \n",
       "4                                         05/02/2023              \n",
       "5  -                                       67                     \n",
       "6  -                                       5,461                  \n",
       "  X.18                         X.19                         \n",
       "1                                                           \n",
       "2 Yearly rolling \\n5 year mean Ratio past  year/5 year mean*\n",
       "3 06/02/2017                                                \n",
       "4 05/02/2022                                                \n",
       "5  132.4                        0.5                         \n",
       "6  5,366.8                      1.0                         \n",
       "  X.20                                \n",
       "1                                     \n",
       "2 Exceeds yearly rolling mean +2 SD by\n",
       "3                                     \n",
       "4                                     \n",
       "5  -                                  \n",
       "6  -                                  "
      ]
     },
     "metadata": {},
     "output_type": "display_data"
    }
   ],
   "source": [
    "df2 = read.csv(\"2. 05_february_2023_to_23_jan_2023.csv\", header=TRUE, stringsAsFactors=FALSE)\n",
    "head(df2)"
   ]
  },
  {
   "cell_type": "code",
   "execution_count": 9,
   "id": "4d81ab37-8a60-4186-9a6a-e6267490df89",
   "metadata": {},
   "outputs": [
    {
     "data": {
      "text/html": [
       "<table class=\"dataframe\">\n",
       "<caption>A data.frame: 6 × 2</caption>\n",
       "<thead>\n",
       "\t<tr><th></th><th scope=col>X</th><th scope=col>X.9</th></tr>\n",
       "\t<tr><th></th><th scope=col>&lt;chr&gt;</th><th scope=col>&lt;chr&gt;</th></tr>\n",
       "</thead>\n",
       "<tbody>\n",
       "\t<tr><th scope=row>1</th><td>                            </td><td>Totals for Australia </td></tr>\n",
       "\t<tr><th scope=row>2</th><td>Disease name                </td><td>This reporting period</td></tr>\n",
       "\t<tr><th scope=row>3</th><td>                            </td><td>23/01/2023           </td></tr>\n",
       "\t<tr><th scope=row>4</th><td>                            </td><td>05/02/2023           </td></tr>\n",
       "\t<tr><th scope=row>5</th><td>Hepatitis B (newly acquired)</td><td> 2                   </td></tr>\n",
       "\t<tr><th scope=row>6</th><td>Hepatitis B (unspecified)   </td><td> 173                 </td></tr>\n",
       "</tbody>\n",
       "</table>\n"
      ],
      "text/latex": [
       "A data.frame: 6 × 2\n",
       "\\begin{tabular}{r|ll}\n",
       "  & X & X.9\\\\\n",
       "  & <chr> & <chr>\\\\\n",
       "\\hline\n",
       "\t1 &                              & Totals for Australia \\\\\n",
       "\t2 & Disease name                 & This reporting period\\\\\n",
       "\t3 &                              & 23/01/2023           \\\\\n",
       "\t4 &                              & 05/02/2023           \\\\\n",
       "\t5 & Hepatitis B (newly acquired) &  2                   \\\\\n",
       "\t6 & Hepatitis B (unspecified)    &  173                 \\\\\n",
       "\\end{tabular}\n"
      ],
      "text/markdown": [
       "\n",
       "A data.frame: 6 × 2\n",
       "\n",
       "| <!--/--> | X &lt;chr&gt; | X.9 &lt;chr&gt; |\n",
       "|---|---|---|\n",
       "| 1 | <!----> | Totals for Australia  |\n",
       "| 2 | Disease name                 | This reporting period |\n",
       "| 3 | <!----> | 23/01/2023            |\n",
       "| 4 | <!----> | 05/02/2023            |\n",
       "| 5 | Hepatitis B (newly acquired) |  2                    |\n",
       "| 6 | Hepatitis B (unspecified)    |  173                  |\n",
       "\n"
      ],
      "text/plain": [
       "  X                            X.9                  \n",
       "1                              Totals for Australia \n",
       "2 Disease name                 This reporting period\n",
       "3                              23/01/2023           \n",
       "4                              05/02/2023           \n",
       "5 Hepatitis B (newly acquired)  2                   \n",
       "6 Hepatitis B (unspecified)     173                 "
      ]
     },
     "metadata": {},
     "output_type": "display_data"
    }
   ],
   "source": [
    "df2 <- df2[, -c(1,3:11, 13:23)]\n",
    "head(df2)"
   ]
  },
  {
   "cell_type": "code",
   "execution_count": 10,
   "id": "4c37a6fd-c914-48e5-bca9-e22840d9f282",
   "metadata": {},
   "outputs": [
    {
     "data": {
      "text/html": [
       "<table class=\"dataframe\">\n",
       "<caption>A data.frame: 1 × 2</caption>\n",
       "<thead>\n",
       "\t<tr><th></th><th scope=col>X</th><th scope=col>X.9</th></tr>\n",
       "\t<tr><th></th><th scope=col>&lt;chr&gt;</th><th scope=col>&lt;chr&gt;</th></tr>\n",
       "</thead>\n",
       "<tbody>\n",
       "\t<tr><th scope=row>51</th><td>Influenza (laboratory confirmed)</td><td> 1,588 </td></tr>\n",
       "</tbody>\n",
       "</table>\n"
      ],
      "text/latex": [
       "A data.frame: 1 × 2\n",
       "\\begin{tabular}{r|ll}\n",
       "  & X & X.9\\\\\n",
       "  & <chr> & <chr>\\\\\n",
       "\\hline\n",
       "\t51 & Influenza (laboratory confirmed) &  1,588 \\\\\n",
       "\\end{tabular}\n"
      ],
      "text/markdown": [
       "\n",
       "A data.frame: 1 × 2\n",
       "\n",
       "| <!--/--> | X &lt;chr&gt; | X.9 &lt;chr&gt; |\n",
       "|---|---|---|\n",
       "| 51 | Influenza (laboratory confirmed) |  1,588  |\n",
       "\n"
      ],
      "text/plain": [
       "   X                                X.9    \n",
       "51 Influenza (laboratory confirmed)  1,588 "
      ]
     },
     "metadata": {},
     "output_type": "display_data"
    }
   ],
   "source": [
    "inf <- df2[grep(\"Influenza\", df2$X),]\n",
    "head(inf)"
   ]
  },
  {
   "cell_type": "code",
   "execution_count": 11,
   "id": "27cdbcf5-d511-4cd1-95e8-cddc4fc1ad0e",
   "metadata": {},
   "outputs": [
    {
     "data": {
      "text/html": [
       "<table class=\"dataframe\">\n",
       "<caption>A data.frame: 1 × 2</caption>\n",
       "<thead>\n",
       "\t<tr><th></th><th scope=col>X</th><th scope=col>X.9</th></tr>\n",
       "\t<tr><th></th><th scope=col>&lt;chr&gt;</th><th scope=col>&lt;chr&gt;</th></tr>\n",
       "</thead>\n",
       "<tbody>\n",
       "\t<tr><th scope=row>24</th><td>COVID-19</td><td> 36,885 </td></tr>\n",
       "</tbody>\n",
       "</table>\n"
      ],
      "text/latex": [
       "A data.frame: 1 × 2\n",
       "\\begin{tabular}{r|ll}\n",
       "  & X & X.9\\\\\n",
       "  & <chr> & <chr>\\\\\n",
       "\\hline\n",
       "\t24 & COVID-19 &  36,885 \\\\\n",
       "\\end{tabular}\n"
      ],
      "text/markdown": [
       "\n",
       "A data.frame: 1 × 2\n",
       "\n",
       "| <!--/--> | X &lt;chr&gt; | X.9 &lt;chr&gt; |\n",
       "|---|---|---|\n",
       "| 24 | COVID-19 |  36,885  |\n",
       "\n"
      ],
      "text/plain": [
       "   X        X.9     \n",
       "24 COVID-19  36,885 "
      ]
     },
     "metadata": {},
     "output_type": "display_data"
    }
   ],
   "source": [
    "covid <-  df2[grep(\"COVID\", df2$X),]\n",
    "covid"
   ]
  },
  {
   "cell_type": "code",
   "execution_count": 12,
   "id": "5cf85739-9f93-41db-a418-201cfd1b93ce",
   "metadata": {},
   "outputs": [
    {
     "data": {
      "text/html": [
       "<table class=\"dataframe\">\n",
       "<caption>A data.frame: 2 × 2</caption>\n",
       "<thead>\n",
       "\t<tr><th></th><th scope=col>X</th><th scope=col>X.9</th></tr>\n",
       "\t<tr><th></th><th scope=col>&lt;chr&gt;</th><th scope=col>&lt;chr&gt;</th></tr>\n",
       "</thead>\n",
       "<tbody>\n",
       "\t<tr><th scope=row>51</th><td>Influenza (laboratory confirmed)</td><td> 1,588  </td></tr>\n",
       "\t<tr><th scope=row>24</th><td>COVID-19                        </td><td> 36,885 </td></tr>\n",
       "</tbody>\n",
       "</table>\n"
      ],
      "text/latex": [
       "A data.frame: 2 × 2\n",
       "\\begin{tabular}{r|ll}\n",
       "  & X & X.9\\\\\n",
       "  & <chr> & <chr>\\\\\n",
       "\\hline\n",
       "\t51 & Influenza (laboratory confirmed) &  1,588  \\\\\n",
       "\t24 & COVID-19                         &  36,885 \\\\\n",
       "\\end{tabular}\n"
      ],
      "text/markdown": [
       "\n",
       "A data.frame: 2 × 2\n",
       "\n",
       "| <!--/--> | X &lt;chr&gt; | X.9 &lt;chr&gt; |\n",
       "|---|---|---|\n",
       "| 51 | Influenza (laboratory confirmed) |  1,588   |\n",
       "| 24 | COVID-19                         |  36,885  |\n",
       "\n"
      ],
      "text/plain": [
       "   X                                X.9     \n",
       "51 Influenza (laboratory confirmed)  1,588  \n",
       "24 COVID-19                          36,885 "
      ]
     },
     "metadata": {},
     "output_type": "display_data"
    }
   ],
   "source": [
    "Jan23_Feb05_2023 <- rbind(inf, covid)\n",
    "Jan23_Feb05_2023"
   ]
  },
  {
   "cell_type": "code",
   "execution_count": 13,
   "id": "e9bafea5-cef5-4028-8f5b-1a3d31cd5ffd",
   "metadata": {},
   "outputs": [
    {
     "data": {
      "text/html": [
       "<table class=\"dataframe\">\n",
       "<caption>A data.frame: 2 × 2</caption>\n",
       "<thead>\n",
       "\t<tr><th></th><th scope=col>X</th><th scope=col>X.9</th></tr>\n",
       "\t<tr><th></th><th scope=col>&lt;chr&gt;</th><th scope=col>&lt;dbl&gt;</th></tr>\n",
       "</thead>\n",
       "<tbody>\n",
       "\t<tr><th scope=row>51</th><td>Influenza (laboratory confirmed)</td><td> 1588</td></tr>\n",
       "\t<tr><th scope=row>24</th><td>COVID-19                        </td><td>36885</td></tr>\n",
       "</tbody>\n",
       "</table>\n"
      ],
      "text/latex": [
       "A data.frame: 2 × 2\n",
       "\\begin{tabular}{r|ll}\n",
       "  & X & X.9\\\\\n",
       "  & <chr> & <dbl>\\\\\n",
       "\\hline\n",
       "\t51 & Influenza (laboratory confirmed) &  1588\\\\\n",
       "\t24 & COVID-19                         & 36885\\\\\n",
       "\\end{tabular}\n"
      ],
      "text/markdown": [
       "\n",
       "A data.frame: 2 × 2\n",
       "\n",
       "| <!--/--> | X &lt;chr&gt; | X.9 &lt;dbl&gt; |\n",
       "|---|---|---|\n",
       "| 51 | Influenza (laboratory confirmed) |  1588 |\n",
       "| 24 | COVID-19                         | 36885 |\n",
       "\n"
      ],
      "text/plain": [
       "   X                                X.9  \n",
       "51 Influenza (laboratory confirmed)  1588\n",
       "24 COVID-19                         36885"
      ]
     },
     "metadata": {},
     "output_type": "display_data"
    }
   ],
   "source": [
    "Jan23_Feb05_2023$X.9 <- gsub(\",\", \"\", Jan23_Feb05_2023$X.9)\n",
    "Jan23_Feb05_2023[,2] <- as.numeric(Jan23_Feb05_2023[,2])\n",
    "Jan23_Feb05_2023"
   ]
  },
  {
   "cell_type": "code",
   "execution_count": 14,
   "id": "b0507076-6402-486f-90de-09821a3b308d",
   "metadata": {},
   "outputs": [
    {
     "data": {
      "text/html": [
       "<table class=\"dataframe\">\n",
       "<caption>A data.frame: 2 × 2</caption>\n",
       "<thead>\n",
       "\t<tr><th></th><th scope=col>Disease</th><th scope=col>23Jan - 05Feb 2023</th></tr>\n",
       "\t<tr><th></th><th scope=col>&lt;chr&gt;</th><th scope=col>&lt;dbl&gt;</th></tr>\n",
       "</thead>\n",
       "<tbody>\n",
       "\t<tr><th scope=row>51</th><td>Influenza (laboratory confirmed)</td><td> 1588</td></tr>\n",
       "\t<tr><th scope=row>24</th><td>COVID-19                        </td><td>36885</td></tr>\n",
       "</tbody>\n",
       "</table>\n"
      ],
      "text/latex": [
       "A data.frame: 2 × 2\n",
       "\\begin{tabular}{r|ll}\n",
       "  & Disease & 23Jan - 05Feb 2023\\\\\n",
       "  & <chr> & <dbl>\\\\\n",
       "\\hline\n",
       "\t51 & Influenza (laboratory confirmed) &  1588\\\\\n",
       "\t24 & COVID-19                         & 36885\\\\\n",
       "\\end{tabular}\n"
      ],
      "text/markdown": [
       "\n",
       "A data.frame: 2 × 2\n",
       "\n",
       "| <!--/--> | Disease &lt;chr&gt; | 23Jan - 05Feb 2023 &lt;dbl&gt; |\n",
       "|---|---|---|\n",
       "| 51 | Influenza (laboratory confirmed) |  1588 |\n",
       "| 24 | COVID-19                         | 36885 |\n",
       "\n"
      ],
      "text/plain": [
       "   Disease                          23Jan - 05Feb 2023\n",
       "51 Influenza (laboratory confirmed)  1588             \n",
       "24 COVID-19                         36885             "
      ]
     },
     "metadata": {},
     "output_type": "display_data"
    }
   ],
   "source": [
    "colnames(Jan23_Feb05_2023) <- c(\"Disease\", \"23Jan - 05Feb 2023\")\n",
    "Jan23_Feb05_2023"
   ]
  },
  {
   "cell_type": "code",
   "execution_count": 15,
   "id": "5bb97357-feea-4445-a28b-35db8d539e92",
   "metadata": {},
   "outputs": [
    {
     "data": {
      "text/html": [
       "<table class=\"dataframe\">\n",
       "<caption>A data.frame: 6 × 23</caption>\n",
       "<thead>\n",
       "\t<tr><th></th><th scope=col>ADT.FN04.2023</th><th scope=col>X</th><th scope=col>X.1</th><th scope=col>Notification.received.date</th><th scope=col>X.2</th><th scope=col>X.3</th><th scope=col>X.4</th><th scope=col>X.5</th><th scope=col>X.6</th><th scope=col>X.7</th><th scope=col>⋯</th><th scope=col>X.11</th><th scope=col>X.12</th><th scope=col>X.13</th><th scope=col>X.14</th><th scope=col>X.15</th><th scope=col>X.16</th><th scope=col>X.17</th><th scope=col>X.18</th><th scope=col>X.19</th><th scope=col>X.20</th></tr>\n",
       "\t<tr><th></th><th scope=col>&lt;chr&gt;</th><th scope=col>&lt;chr&gt;</th><th scope=col>&lt;chr&gt;</th><th scope=col>&lt;chr&gt;</th><th scope=col>&lt;chr&gt;</th><th scope=col>&lt;chr&gt;</th><th scope=col>&lt;chr&gt;</th><th scope=col>&lt;chr&gt;</th><th scope=col>&lt;chr&gt;</th><th scope=col>&lt;chr&gt;</th><th scope=col>⋯</th><th scope=col>&lt;chr&gt;</th><th scope=col>&lt;chr&gt;</th><th scope=col>&lt;chr&gt;</th><th scope=col>&lt;chr&gt;</th><th scope=col>&lt;chr&gt;</th><th scope=col>&lt;chr&gt;</th><th scope=col>&lt;chr&gt;</th><th scope=col>&lt;chr&gt;</th><th scope=col>&lt;chr&gt;</th><th scope=col>&lt;chr&gt;</th></tr>\n",
       "</thead>\n",
       "<tbody>\n",
       "\t<tr><th scope=row>1</th><td>                   </td><td>                            </td><td>            </td><td>State or Territory</td><td>     </td><td>     </td><td>    </td><td>     </td><td>     </td><td>     </td><td>⋯</td><td>                               </td><td>                 </td><td>Historical 90 Day Period</td><td>                               </td><td>                               </td><td>                                       </td><td>Historical Yearly Period</td><td>                            </td><td>                             </td><td>                                    </td></tr>\n",
       "\t<tr><th scope=row>2</th><td>Disease group      </td><td>Disease name                </td><td>Disease code</td><td>ACT^^             </td><td>NSW  </td><td>NT   </td><td>Qld </td><td>SA   </td><td>Tas  </td><td>Vic  </td><td>⋯</td><td>Same reporting period last year</td><td>Current year\n",
       "YTD</td><td>Past Quarter            </td><td>Quarterly rolling \n",
       "5 year mean</td><td>Ratio past quarter/5 year mean*</td><td>Exceeds quarterly rolling mean +2 SD by</td><td>Past Year               </td><td>Yearly rolling \n",
       "5 year mean</td><td>Ratio past  year/5 year mean*</td><td>Exceeds yearly rolling mean +2 SD by</td></tr>\n",
       "\t<tr><th scope=row>3</th><td>                   </td><td>                            </td><td>            </td><td>                  </td><td>     </td><td>     </td><td>    </td><td>     </td><td>     </td><td>     </td><td>⋯</td><td>06/02/2022                     </td><td>01/01/2023       </td><td>22/11/2022              </td><td>                               </td><td>                               </td><td>                                       </td><td>20/02/2022              </td><td>20/02/2017                  </td><td>                             </td><td>                                    </td></tr>\n",
       "\t<tr><th scope=row>4</th><td>                   </td><td>                            </td><td>            </td><td>                  </td><td>     </td><td>     </td><td>    </td><td>     </td><td>     </td><td>     </td><td>⋯</td><td>19/02/2022                     </td><td>19/02/2023       </td><td>19/02/2023              </td><td>                               </td><td>                               </td><td>                                       </td><td>19/02/2023              </td><td>19/02/2022                  </td><td>                             </td><td>                                    </td></tr>\n",
       "\t<tr><th scope=row>5</th><td>Bloodborne diseases</td><td>Hepatitis B (newly acquired)</td><td>039         </td><td> -                </td><td> -   </td><td> -   </td><td> 2  </td><td> -   </td><td> -   </td><td> -   </td><td>⋯</td><td> 1                             </td><td> 14              </td><td> 20                     </td><td> 30.2                          </td><td> 0.7                           </td><td> -                                     </td><td> 73                     </td><td> 130.2                      </td><td> 0.6                         </td><td> -                                  </td></tr>\n",
       "\t<tr><th scope=row>6</th><td>                   </td><td>Hepatitis B (unspecified)   </td><td>052         </td><td> -                </td><td> 101 </td><td> -   </td><td> 51 </td><td> 3   </td><td> -   </td><td> 58  </td><td>⋯</td><td> 199                           </td><td> 675             </td><td> 1,195                  </td><td> 1,220.2                       </td><td> 1.0                           </td><td> -                                     </td><td> 5,472                  </td><td> 5,360.2                    </td><td> 1.0                         </td><td> -                                  </td></tr>\n",
       "</tbody>\n",
       "</table>\n"
      ],
      "text/latex": [
       "A data.frame: 6 × 23\n",
       "\\begin{tabular}{r|lllllllllllllllllllll}\n",
       "  & ADT.FN04.2023 & X & X.1 & Notification.received.date & X.2 & X.3 & X.4 & X.5 & X.6 & X.7 & ⋯ & X.11 & X.12 & X.13 & X.14 & X.15 & X.16 & X.17 & X.18 & X.19 & X.20\\\\\n",
       "  & <chr> & <chr> & <chr> & <chr> & <chr> & <chr> & <chr> & <chr> & <chr> & <chr> & ⋯ & <chr> & <chr> & <chr> & <chr> & <chr> & <chr> & <chr> & <chr> & <chr> & <chr>\\\\\n",
       "\\hline\n",
       "\t1 &                     &                              &              & State or Territory &       &       &      &       &       &       & ⋯ &                                 &                   & Historical 90 Day Period &                                 &                                 &                                         & Historical Yearly Period &                              &                               &                                     \\\\\n",
       "\t2 & Disease group       & Disease name                 & Disease code & ACT\\textasciicircum{}\\textasciicircum{}              & NSW   & NT    & Qld  & SA    & Tas   & Vic   & ⋯ & Same reporting period last year & Current year\n",
       "YTD & Past Quarter             & Quarterly rolling \n",
       "5 year mean & Ratio past quarter/5 year mean* & Exceeds quarterly rolling mean +2 SD by & Past Year                & Yearly rolling \n",
       "5 year mean & Ratio past  year/5 year mean* & Exceeds yearly rolling mean +2 SD by\\\\\n",
       "\t3 &                     &                              &              &                    &       &       &      &       &       &       & ⋯ & 06/02/2022                      & 01/01/2023        & 22/11/2022               &                                 &                                 &                                         & 20/02/2022               & 20/02/2017                   &                               &                                     \\\\\n",
       "\t4 &                     &                              &              &                    &       &       &      &       &       &       & ⋯ & 19/02/2022                      & 19/02/2023        & 19/02/2023               &                                 &                                 &                                         & 19/02/2023               & 19/02/2022                   &                               &                                     \\\\\n",
       "\t5 & Bloodborne diseases & Hepatitis B (newly acquired) & 039          &  -                 &  -    &  -    &  2   &  -    &  -    &  -    & ⋯ &  1                              &  14               &  20                      &  30.2                           &  0.7                            &  -                                      &  73                      &  130.2                       &  0.6                          &  -                                  \\\\\n",
       "\t6 &                     & Hepatitis B (unspecified)    & 052          &  -                 &  101  &  -    &  51  &  3    &  -    &  58   & ⋯ &  199                            &  675              &  1,195                   &  1,220.2                        &  1.0                            &  -                                      &  5,472                   &  5,360.2                     &  1.0                          &  -                                  \\\\\n",
       "\\end{tabular}\n"
      ],
      "text/markdown": [
       "\n",
       "A data.frame: 6 × 23\n",
       "\n",
       "| <!--/--> | ADT.FN04.2023 &lt;chr&gt; | X &lt;chr&gt; | X.1 &lt;chr&gt; | Notification.received.date &lt;chr&gt; | X.2 &lt;chr&gt; | X.3 &lt;chr&gt; | X.4 &lt;chr&gt; | X.5 &lt;chr&gt; | X.6 &lt;chr&gt; | X.7 &lt;chr&gt; | ⋯ ⋯ | X.11 &lt;chr&gt; | X.12 &lt;chr&gt; | X.13 &lt;chr&gt; | X.14 &lt;chr&gt; | X.15 &lt;chr&gt; | X.16 &lt;chr&gt; | X.17 &lt;chr&gt; | X.18 &lt;chr&gt; | X.19 &lt;chr&gt; | X.20 &lt;chr&gt; |\n",
       "|---|---|---|---|---|---|---|---|---|---|---|---|---|---|---|---|---|---|---|---|---|---|\n",
       "| 1 | <!----> | <!----> | <!----> | State or Territory | <!----> | <!----> | <!----> | <!----> | <!----> | <!----> | ⋯ | <!----> | <!----> | Historical 90 Day Period | <!----> | <!----> | <!----> | Historical Yearly Period | <!----> | <!----> | <!----> |\n",
       "| 2 | Disease group       | Disease name                 | Disease code | ACT^^              | NSW   | NT    | Qld  | SA    | Tas   | Vic   | ⋯ | Same reporting period last year | Current year\n",
       "YTD | Past Quarter             | Quarterly rolling \n",
       "5 year mean | Ratio past quarter/5 year mean* | Exceeds quarterly rolling mean +2 SD by | Past Year                | Yearly rolling \n",
       "5 year mean | Ratio past  year/5 year mean* | Exceeds yearly rolling mean +2 SD by |\n",
       "| 3 | <!----> | <!----> | <!----> | <!----> | <!----> | <!----> | <!----> | <!----> | <!----> | <!----> | ⋯ | 06/02/2022                      | 01/01/2023        | 22/11/2022               | <!----> | <!----> | <!----> | 20/02/2022               | 20/02/2017                   | <!----> | <!----> |\n",
       "| 4 | <!----> | <!----> | <!----> | <!----> | <!----> | <!----> | <!----> | <!----> | <!----> | <!----> | ⋯ | 19/02/2022                      | 19/02/2023        | 19/02/2023               | <!----> | <!----> | <!----> | 19/02/2023               | 19/02/2022                   | <!----> | <!----> |\n",
       "| 5 | Bloodborne diseases | Hepatitis B (newly acquired) | 039          |  -                 |  -    |  -    |  2   |  -    |  -    |  -    | ⋯ |  1                              |  14               |  20                      |  30.2                           |  0.7                            |  -                                      |  73                      |  130.2                       |  0.6                          |  -                                   |\n",
       "| 6 | <!----> | Hepatitis B (unspecified)    | 052          |  -                 |  101  |  -    |  51  |  3    |  -    |  58   | ⋯ |  199                            |  675              |  1,195                   |  1,220.2                        |  1.0                            |  -                                      |  5,472                   |  5,360.2                     |  1.0                          |  -                                   |\n",
       "\n"
      ],
      "text/plain": [
       "  ADT.FN04.2023       X                            X.1         \n",
       "1                                                              \n",
       "2 Disease group       Disease name                 Disease code\n",
       "3                                                              \n",
       "4                                                              \n",
       "5 Bloodborne diseases Hepatitis B (newly acquired) 039         \n",
       "6                     Hepatitis B (unspecified)    052         \n",
       "  Notification.received.date X.2   X.3   X.4  X.5   X.6   X.7   ⋯\n",
       "1 State or Territory                                            ⋯\n",
       "2 ACT^^                      NSW   NT    Qld  SA    Tas   Vic   ⋯\n",
       "3                                                               ⋯\n",
       "4                                                               ⋯\n",
       "5  -                          -     -     2    -     -     -    ⋯\n",
       "6  -                          101   -     51   3     -     58   ⋯\n",
       "  X.11                            X.12              X.13                    \n",
       "1                                                   Historical 90 Day Period\n",
       "2 Same reporting period last year Current year\\nYTD Past Quarter            \n",
       "3 06/02/2022                      01/01/2023        22/11/2022              \n",
       "4 19/02/2022                      19/02/2023        19/02/2023              \n",
       "5  1                               14                20                     \n",
       "6  199                             675               1,195                  \n",
       "  X.14                            X.15                           \n",
       "1                                                                \n",
       "2 Quarterly rolling \\n5 year mean Ratio past quarter/5 year mean*\n",
       "3                                                                \n",
       "4                                                                \n",
       "5  30.2                            0.7                           \n",
       "6  1,220.2                         1.0                           \n",
       "  X.16                                    X.17                    \n",
       "1                                         Historical Yearly Period\n",
       "2 Exceeds quarterly rolling mean +2 SD by Past Year               \n",
       "3                                         20/02/2022              \n",
       "4                                         19/02/2023              \n",
       "5  -                                       73                     \n",
       "6  -                                       5,472                  \n",
       "  X.18                         X.19                         \n",
       "1                                                           \n",
       "2 Yearly rolling \\n5 year mean Ratio past  year/5 year mean*\n",
       "3 20/02/2017                                                \n",
       "4 19/02/2022                                                \n",
       "5  130.2                        0.6                         \n",
       "6  5,360.2                      1.0                         \n",
       "  X.20                                \n",
       "1                                     \n",
       "2 Exceeds yearly rolling mean +2 SD by\n",
       "3                                     \n",
       "4                                     \n",
       "5  -                                  \n",
       "6  -                                  "
      ]
     },
     "metadata": {},
     "output_type": "display_data"
    }
   ],
   "source": [
    "df3 = read.csv(\"3. 06_february_2023_to_19_february_2023.csv\", header=TRUE, stringsAsFactors=FALSE)\n",
    "head(df3)"
   ]
  },
  {
   "cell_type": "code",
   "execution_count": 16,
   "id": "61ad0714-b4b4-4dc6-b8bc-4016d2f6e123",
   "metadata": {},
   "outputs": [
    {
     "data": {
      "text/html": [
       "<table class=\"dataframe\">\n",
       "<caption>A data.frame: 6 × 2</caption>\n",
       "<thead>\n",
       "\t<tr><th></th><th scope=col>X</th><th scope=col>X.9</th></tr>\n",
       "\t<tr><th></th><th scope=col>&lt;chr&gt;</th><th scope=col>&lt;chr&gt;</th></tr>\n",
       "</thead>\n",
       "<tbody>\n",
       "\t<tr><th scope=row>1</th><td>                            </td><td>Totals for Australia </td></tr>\n",
       "\t<tr><th scope=row>2</th><td>Disease name                </td><td>This reporting period</td></tr>\n",
       "\t<tr><th scope=row>3</th><td>                            </td><td>06/02/2023           </td></tr>\n",
       "\t<tr><th scope=row>4</th><td>                            </td><td>19/02/2023           </td></tr>\n",
       "\t<tr><th scope=row>5</th><td>Hepatitis B (newly acquired)</td><td> 4                   </td></tr>\n",
       "\t<tr><th scope=row>6</th><td>Hepatitis B (unspecified)   </td><td> 230                 </td></tr>\n",
       "</tbody>\n",
       "</table>\n"
      ],
      "text/latex": [
       "A data.frame: 6 × 2\n",
       "\\begin{tabular}{r|ll}\n",
       "  & X & X.9\\\\\n",
       "  & <chr> & <chr>\\\\\n",
       "\\hline\n",
       "\t1 &                              & Totals for Australia \\\\\n",
       "\t2 & Disease name                 & This reporting period\\\\\n",
       "\t3 &                              & 06/02/2023           \\\\\n",
       "\t4 &                              & 19/02/2023           \\\\\n",
       "\t5 & Hepatitis B (newly acquired) &  4                   \\\\\n",
       "\t6 & Hepatitis B (unspecified)    &  230                 \\\\\n",
       "\\end{tabular}\n"
      ],
      "text/markdown": [
       "\n",
       "A data.frame: 6 × 2\n",
       "\n",
       "| <!--/--> | X &lt;chr&gt; | X.9 &lt;chr&gt; |\n",
       "|---|---|---|\n",
       "| 1 | <!----> | Totals for Australia  |\n",
       "| 2 | Disease name                 | This reporting period |\n",
       "| 3 | <!----> | 06/02/2023            |\n",
       "| 4 | <!----> | 19/02/2023            |\n",
       "| 5 | Hepatitis B (newly acquired) |  4                    |\n",
       "| 6 | Hepatitis B (unspecified)    |  230                  |\n",
       "\n"
      ],
      "text/plain": [
       "  X                            X.9                  \n",
       "1                              Totals for Australia \n",
       "2 Disease name                 This reporting period\n",
       "3                              06/02/2023           \n",
       "4                              19/02/2023           \n",
       "5 Hepatitis B (newly acquired)  4                   \n",
       "6 Hepatitis B (unspecified)     230                 "
      ]
     },
     "metadata": {},
     "output_type": "display_data"
    }
   ],
   "source": [
    "df3 <- df3[, -c(1,3:11, 13:23)]\n",
    "head(df3)"
   ]
  },
  {
   "cell_type": "code",
   "execution_count": 17,
   "id": "f97d8e67-9abf-44f8-9cb9-8a1d6ca208c6",
   "metadata": {},
   "outputs": [
    {
     "data": {
      "text/html": [
       "<table class=\"dataframe\">\n",
       "<caption>A data.frame: 1 × 2</caption>\n",
       "<thead>\n",
       "\t<tr><th></th><th scope=col>X</th><th scope=col>X.9</th></tr>\n",
       "\t<tr><th></th><th scope=col>&lt;chr&gt;</th><th scope=col>&lt;chr&gt;</th></tr>\n",
       "</thead>\n",
       "<tbody>\n",
       "\t<tr><th scope=row>51</th><td>Influenza (laboratory confirmed)</td><td> 2,232 </td></tr>\n",
       "</tbody>\n",
       "</table>\n"
      ],
      "text/latex": [
       "A data.frame: 1 × 2\n",
       "\\begin{tabular}{r|ll}\n",
       "  & X & X.9\\\\\n",
       "  & <chr> & <chr>\\\\\n",
       "\\hline\n",
       "\t51 & Influenza (laboratory confirmed) &  2,232 \\\\\n",
       "\\end{tabular}\n"
      ],
      "text/markdown": [
       "\n",
       "A data.frame: 1 × 2\n",
       "\n",
       "| <!--/--> | X &lt;chr&gt; | X.9 &lt;chr&gt; |\n",
       "|---|---|---|\n",
       "| 51 | Influenza (laboratory confirmed) |  2,232  |\n",
       "\n"
      ],
      "text/plain": [
       "   X                                X.9    \n",
       "51 Influenza (laboratory confirmed)  2,232 "
      ]
     },
     "metadata": {},
     "output_type": "display_data"
    }
   ],
   "source": [
    "inf <- df3[grep(\"Influenza\", df3$X),]\n",
    "head(inf)"
   ]
  },
  {
   "cell_type": "code",
   "execution_count": 18,
   "id": "b13bf242-099c-4a70-b4f8-bf2e8037b142",
   "metadata": {},
   "outputs": [
    {
     "data": {
      "text/html": [
       "<table class=\"dataframe\">\n",
       "<caption>A data.frame: 1 × 2</caption>\n",
       "<thead>\n",
       "\t<tr><th></th><th scope=col>X</th><th scope=col>X.9</th></tr>\n",
       "\t<tr><th></th><th scope=col>&lt;chr&gt;</th><th scope=col>&lt;chr&gt;</th></tr>\n",
       "</thead>\n",
       "<tbody>\n",
       "\t<tr><th scope=row>24</th><td>COVID-19</td><td> 36,323 </td></tr>\n",
       "</tbody>\n",
       "</table>\n"
      ],
      "text/latex": [
       "A data.frame: 1 × 2\n",
       "\\begin{tabular}{r|ll}\n",
       "  & X & X.9\\\\\n",
       "  & <chr> & <chr>\\\\\n",
       "\\hline\n",
       "\t24 & COVID-19 &  36,323 \\\\\n",
       "\\end{tabular}\n"
      ],
      "text/markdown": [
       "\n",
       "A data.frame: 1 × 2\n",
       "\n",
       "| <!--/--> | X &lt;chr&gt; | X.9 &lt;chr&gt; |\n",
       "|---|---|---|\n",
       "| 24 | COVID-19 |  36,323  |\n",
       "\n"
      ],
      "text/plain": [
       "   X        X.9     \n",
       "24 COVID-19  36,323 "
      ]
     },
     "metadata": {},
     "output_type": "display_data"
    }
   ],
   "source": [
    "covid <-  df3[grep(\"COVID\", df3$X),]\n",
    "covid"
   ]
  },
  {
   "cell_type": "code",
   "execution_count": 19,
   "id": "e431ad21-aa12-406a-8059-5259770bdb04",
   "metadata": {},
   "outputs": [
    {
     "data": {
      "text/html": [
       "<table class=\"dataframe\">\n",
       "<caption>A data.frame: 2 × 2</caption>\n",
       "<thead>\n",
       "\t<tr><th></th><th scope=col>X</th><th scope=col>X.9</th></tr>\n",
       "\t<tr><th></th><th scope=col>&lt;chr&gt;</th><th scope=col>&lt;chr&gt;</th></tr>\n",
       "</thead>\n",
       "<tbody>\n",
       "\t<tr><th scope=row>51</th><td>Influenza (laboratory confirmed)</td><td> 2,232  </td></tr>\n",
       "\t<tr><th scope=row>24</th><td>COVID-19                        </td><td> 36,323 </td></tr>\n",
       "</tbody>\n",
       "</table>\n"
      ],
      "text/latex": [
       "A data.frame: 2 × 2\n",
       "\\begin{tabular}{r|ll}\n",
       "  & X & X.9\\\\\n",
       "  & <chr> & <chr>\\\\\n",
       "\\hline\n",
       "\t51 & Influenza (laboratory confirmed) &  2,232  \\\\\n",
       "\t24 & COVID-19                         &  36,323 \\\\\n",
       "\\end{tabular}\n"
      ],
      "text/markdown": [
       "\n",
       "A data.frame: 2 × 2\n",
       "\n",
       "| <!--/--> | X &lt;chr&gt; | X.9 &lt;chr&gt; |\n",
       "|---|---|---|\n",
       "| 51 | Influenza (laboratory confirmed) |  2,232   |\n",
       "| 24 | COVID-19                         |  36,323  |\n",
       "\n"
      ],
      "text/plain": [
       "   X                                X.9     \n",
       "51 Influenza (laboratory confirmed)  2,232  \n",
       "24 COVID-19                          36,323 "
      ]
     },
     "metadata": {},
     "output_type": "display_data"
    }
   ],
   "source": [
    "Feb06_Feb19_2023 <- rbind(inf, covid)\n",
    "Feb06_Feb19_2023"
   ]
  },
  {
   "cell_type": "code",
   "execution_count": 20,
   "id": "fa65484b-153b-4ddb-9f57-1bda85a37955",
   "metadata": {},
   "outputs": [
    {
     "data": {
      "text/html": [
       "<table class=\"dataframe\">\n",
       "<caption>A data.frame: 2 × 2</caption>\n",
       "<thead>\n",
       "\t<tr><th></th><th scope=col>X</th><th scope=col>X.9</th></tr>\n",
       "\t<tr><th></th><th scope=col>&lt;chr&gt;</th><th scope=col>&lt;dbl&gt;</th></tr>\n",
       "</thead>\n",
       "<tbody>\n",
       "\t<tr><th scope=row>51</th><td>Influenza (laboratory confirmed)</td><td> 2232</td></tr>\n",
       "\t<tr><th scope=row>24</th><td>COVID-19                        </td><td>36323</td></tr>\n",
       "</tbody>\n",
       "</table>\n"
      ],
      "text/latex": [
       "A data.frame: 2 × 2\n",
       "\\begin{tabular}{r|ll}\n",
       "  & X & X.9\\\\\n",
       "  & <chr> & <dbl>\\\\\n",
       "\\hline\n",
       "\t51 & Influenza (laboratory confirmed) &  2232\\\\\n",
       "\t24 & COVID-19                         & 36323\\\\\n",
       "\\end{tabular}\n"
      ],
      "text/markdown": [
       "\n",
       "A data.frame: 2 × 2\n",
       "\n",
       "| <!--/--> | X &lt;chr&gt; | X.9 &lt;dbl&gt; |\n",
       "|---|---|---|\n",
       "| 51 | Influenza (laboratory confirmed) |  2232 |\n",
       "| 24 | COVID-19                         | 36323 |\n",
       "\n"
      ],
      "text/plain": [
       "   X                                X.9  \n",
       "51 Influenza (laboratory confirmed)  2232\n",
       "24 COVID-19                         36323"
      ]
     },
     "metadata": {},
     "output_type": "display_data"
    }
   ],
   "source": [
    "Feb06_Feb19_2023$X.9 <- gsub(\",\", \"\", Feb06_Feb19_2023$X.9)\n",
    "Feb06_Feb19_2023[,2] <- as.numeric(Feb06_Feb19_2023[,2])\n",
    "Feb06_Feb19_2023"
   ]
  },
  {
   "cell_type": "code",
   "execution_count": 21,
   "id": "231094c1-2a85-42d5-b035-a8a7b5cd923c",
   "metadata": {},
   "outputs": [
    {
     "data": {
      "text/html": [
       "<table class=\"dataframe\">\n",
       "<caption>A data.frame: 2 × 2</caption>\n",
       "<thead>\n",
       "\t<tr><th></th><th scope=col>Disease</th><th scope=col>06Feb - 19Feb 2023</th></tr>\n",
       "\t<tr><th></th><th scope=col>&lt;chr&gt;</th><th scope=col>&lt;dbl&gt;</th></tr>\n",
       "</thead>\n",
       "<tbody>\n",
       "\t<tr><th scope=row>51</th><td>Influenza (laboratory confirmed)</td><td> 2232</td></tr>\n",
       "\t<tr><th scope=row>24</th><td>COVID-19                        </td><td>36323</td></tr>\n",
       "</tbody>\n",
       "</table>\n"
      ],
      "text/latex": [
       "A data.frame: 2 × 2\n",
       "\\begin{tabular}{r|ll}\n",
       "  & Disease & 06Feb - 19Feb 2023\\\\\n",
       "  & <chr> & <dbl>\\\\\n",
       "\\hline\n",
       "\t51 & Influenza (laboratory confirmed) &  2232\\\\\n",
       "\t24 & COVID-19                         & 36323\\\\\n",
       "\\end{tabular}\n"
      ],
      "text/markdown": [
       "\n",
       "A data.frame: 2 × 2\n",
       "\n",
       "| <!--/--> | Disease &lt;chr&gt; | 06Feb - 19Feb 2023 &lt;dbl&gt; |\n",
       "|---|---|---|\n",
       "| 51 | Influenza (laboratory confirmed) |  2232 |\n",
       "| 24 | COVID-19                         | 36323 |\n",
       "\n"
      ],
      "text/plain": [
       "   Disease                          06Feb - 19Feb 2023\n",
       "51 Influenza (laboratory confirmed)  2232             \n",
       "24 COVID-19                         36323             "
      ]
     },
     "metadata": {},
     "output_type": "display_data"
    }
   ],
   "source": [
    "colnames(Feb06_Feb19_2023) <- c(\"Disease\", \"06Feb - 19Feb 2023\")\n",
    "Feb06_Feb19_2023"
   ]
  },
  {
   "cell_type": "code",
   "execution_count": 22,
   "id": "3f7ea502-c4e7-4428-8914-a979f1902621",
   "metadata": {},
   "outputs": [
    {
     "data": {
      "text/html": [
       "<table class=\"dataframe\">\n",
       "<caption>A data.frame: 6 × 23</caption>\n",
       "<thead>\n",
       "\t<tr><th></th><th scope=col>ADT.FN05.2023</th><th scope=col>X</th><th scope=col>X.1</th><th scope=col>Notification.received.date</th><th scope=col>X.2</th><th scope=col>X.3</th><th scope=col>X.4</th><th scope=col>X.5</th><th scope=col>X.6</th><th scope=col>X.7</th><th scope=col>⋯</th><th scope=col>X.11</th><th scope=col>X.12</th><th scope=col>X.13</th><th scope=col>X.14</th><th scope=col>X.15</th><th scope=col>X.16</th><th scope=col>X.17</th><th scope=col>X.18</th><th scope=col>X.19</th><th scope=col>X.20</th></tr>\n",
       "\t<tr><th></th><th scope=col>&lt;chr&gt;</th><th scope=col>&lt;chr&gt;</th><th scope=col>&lt;chr&gt;</th><th scope=col>&lt;chr&gt;</th><th scope=col>&lt;chr&gt;</th><th scope=col>&lt;chr&gt;</th><th scope=col>&lt;chr&gt;</th><th scope=col>&lt;chr&gt;</th><th scope=col>&lt;chr&gt;</th><th scope=col>&lt;chr&gt;</th><th scope=col>⋯</th><th scope=col>&lt;chr&gt;</th><th scope=col>&lt;chr&gt;</th><th scope=col>&lt;chr&gt;</th><th scope=col>&lt;chr&gt;</th><th scope=col>&lt;chr&gt;</th><th scope=col>&lt;chr&gt;</th><th scope=col>&lt;chr&gt;</th><th scope=col>&lt;chr&gt;</th><th scope=col>&lt;chr&gt;</th><th scope=col>&lt;chr&gt;</th></tr>\n",
       "</thead>\n",
       "<tbody>\n",
       "\t<tr><th scope=row>1</th><td>                   </td><td>                            </td><td>            </td><td>State or Territory</td><td>     </td><td>     </td><td>    </td><td>     </td><td>     </td><td>     </td><td>⋯</td><td>                               </td><td>                 </td><td>Historical 90 Day Period</td><td>                               </td><td>                               </td><td>                                       </td><td>Historical Yearly Period</td><td>                            </td><td>                             </td><td>                                    </td></tr>\n",
       "\t<tr><th scope=row>2</th><td>Disease group      </td><td>Disease name                </td><td>Disease code</td><td>ACT^^             </td><td>NSW  </td><td>NT   </td><td>Qld </td><td>SA   </td><td>Tas  </td><td>Vic  </td><td>⋯</td><td>Same reporting period last year</td><td>Current year\n",
       "YTD</td><td>Past Quarter            </td><td>Quarterly rolling \n",
       "5 year mean</td><td>Ratio past quarter/5 year mean*</td><td>Exceeds quarterly rolling mean +2 SD by</td><td>Past Year               </td><td>Yearly rolling \n",
       "5 year mean</td><td>Ratio past  year/5 year mean*</td><td>Exceeds yearly rolling mean +2 SD by</td></tr>\n",
       "\t<tr><th scope=row>3</th><td>                   </td><td>                            </td><td>            </td><td>                  </td><td>     </td><td>     </td><td>    </td><td>     </td><td>     </td><td>     </td><td>⋯</td><td>20/02/2022                     </td><td>01/01/2023       </td><td>06/12/2022              </td><td>                               </td><td>                               </td><td>                                       </td><td>06/03/2022              </td><td>06/03/2017                  </td><td>                             </td><td>                                    </td></tr>\n",
       "\t<tr><th scope=row>4</th><td>                   </td><td>                            </td><td>            </td><td>                  </td><td>     </td><td>     </td><td>    </td><td>     </td><td>     </td><td>     </td><td>⋯</td><td>05/03/2022                     </td><td>05/03/2023       </td><td>05/03/2023              </td><td>                               </td><td>                               </td><td>                                       </td><td>05/03/2023              </td><td>05/03/2022                  </td><td>                             </td><td>                                    </td></tr>\n",
       "\t<tr><th scope=row>5</th><td>Bloodborne diseases</td><td>Hepatitis B (newly acquired)</td><td>039         </td><td> -                </td><td> -   </td><td> -   </td><td> 3  </td><td> -   </td><td> -   </td><td> -   </td><td>⋯</td><td> 1                             </td><td> 17              </td><td> 19                     </td><td> 28.8                          </td><td> 0.7                           </td><td> -                                     </td><td> 75                     </td><td> 129.0                      </td><td> 0.6                         </td><td> -                                  </td></tr>\n",
       "\t<tr><th scope=row>6</th><td>                   </td><td>Hepatitis B (unspecified)   </td><td>052         </td><td> -                </td><td> 93  </td><td> 1   </td><td> 56 </td><td> 4   </td><td> 1   </td><td> 69  </td><td>⋯</td><td> 210                           </td><td> 933             </td><td> 1,243                  </td><td> 1,264.6                       </td><td> 1.0                           </td><td> -                                     </td><td> 5,518                  </td><td> 5,356.8                    </td><td> 1.0                         </td><td> -                                  </td></tr>\n",
       "</tbody>\n",
       "</table>\n"
      ],
      "text/latex": [
       "A data.frame: 6 × 23\n",
       "\\begin{tabular}{r|lllllllllllllllllllll}\n",
       "  & ADT.FN05.2023 & X & X.1 & Notification.received.date & X.2 & X.3 & X.4 & X.5 & X.6 & X.7 & ⋯ & X.11 & X.12 & X.13 & X.14 & X.15 & X.16 & X.17 & X.18 & X.19 & X.20\\\\\n",
       "  & <chr> & <chr> & <chr> & <chr> & <chr> & <chr> & <chr> & <chr> & <chr> & <chr> & ⋯ & <chr> & <chr> & <chr> & <chr> & <chr> & <chr> & <chr> & <chr> & <chr> & <chr>\\\\\n",
       "\\hline\n",
       "\t1 &                     &                              &              & State or Territory &       &       &      &       &       &       & ⋯ &                                 &                   & Historical 90 Day Period &                                 &                                 &                                         & Historical Yearly Period &                              &                               &                                     \\\\\n",
       "\t2 & Disease group       & Disease name                 & Disease code & ACT\\textasciicircum{}\\textasciicircum{}              & NSW   & NT    & Qld  & SA    & Tas   & Vic   & ⋯ & Same reporting period last year & Current year\n",
       "YTD & Past Quarter             & Quarterly rolling \n",
       "5 year mean & Ratio past quarter/5 year mean* & Exceeds quarterly rolling mean +2 SD by & Past Year                & Yearly rolling \n",
       "5 year mean & Ratio past  year/5 year mean* & Exceeds yearly rolling mean +2 SD by\\\\\n",
       "\t3 &                     &                              &              &                    &       &       &      &       &       &       & ⋯ & 20/02/2022                      & 01/01/2023        & 06/12/2022               &                                 &                                 &                                         & 06/03/2022               & 06/03/2017                   &                               &                                     \\\\\n",
       "\t4 &                     &                              &              &                    &       &       &      &       &       &       & ⋯ & 05/03/2022                      & 05/03/2023        & 05/03/2023               &                                 &                                 &                                         & 05/03/2023               & 05/03/2022                   &                               &                                     \\\\\n",
       "\t5 & Bloodborne diseases & Hepatitis B (newly acquired) & 039          &  -                 &  -    &  -    &  3   &  -    &  -    &  -    & ⋯ &  1                              &  17               &  19                      &  28.8                           &  0.7                            &  -                                      &  75                      &  129.0                       &  0.6                          &  -                                  \\\\\n",
       "\t6 &                     & Hepatitis B (unspecified)    & 052          &  -                 &  93   &  1    &  56  &  4    &  1    &  69   & ⋯ &  210                            &  933              &  1,243                   &  1,264.6                        &  1.0                            &  -                                      &  5,518                   &  5,356.8                     &  1.0                          &  -                                  \\\\\n",
       "\\end{tabular}\n"
      ],
      "text/markdown": [
       "\n",
       "A data.frame: 6 × 23\n",
       "\n",
       "| <!--/--> | ADT.FN05.2023 &lt;chr&gt; | X &lt;chr&gt; | X.1 &lt;chr&gt; | Notification.received.date &lt;chr&gt; | X.2 &lt;chr&gt; | X.3 &lt;chr&gt; | X.4 &lt;chr&gt; | X.5 &lt;chr&gt; | X.6 &lt;chr&gt; | X.7 &lt;chr&gt; | ⋯ ⋯ | X.11 &lt;chr&gt; | X.12 &lt;chr&gt; | X.13 &lt;chr&gt; | X.14 &lt;chr&gt; | X.15 &lt;chr&gt; | X.16 &lt;chr&gt; | X.17 &lt;chr&gt; | X.18 &lt;chr&gt; | X.19 &lt;chr&gt; | X.20 &lt;chr&gt; |\n",
       "|---|---|---|---|---|---|---|---|---|---|---|---|---|---|---|---|---|---|---|---|---|---|\n",
       "| 1 | <!----> | <!----> | <!----> | State or Territory | <!----> | <!----> | <!----> | <!----> | <!----> | <!----> | ⋯ | <!----> | <!----> | Historical 90 Day Period | <!----> | <!----> | <!----> | Historical Yearly Period | <!----> | <!----> | <!----> |\n",
       "| 2 | Disease group       | Disease name                 | Disease code | ACT^^              | NSW   | NT    | Qld  | SA    | Tas   | Vic   | ⋯ | Same reporting period last year | Current year\n",
       "YTD | Past Quarter             | Quarterly rolling \n",
       "5 year mean | Ratio past quarter/5 year mean* | Exceeds quarterly rolling mean +2 SD by | Past Year                | Yearly rolling \n",
       "5 year mean | Ratio past  year/5 year mean* | Exceeds yearly rolling mean +2 SD by |\n",
       "| 3 | <!----> | <!----> | <!----> | <!----> | <!----> | <!----> | <!----> | <!----> | <!----> | <!----> | ⋯ | 20/02/2022                      | 01/01/2023        | 06/12/2022               | <!----> | <!----> | <!----> | 06/03/2022               | 06/03/2017                   | <!----> | <!----> |\n",
       "| 4 | <!----> | <!----> | <!----> | <!----> | <!----> | <!----> | <!----> | <!----> | <!----> | <!----> | ⋯ | 05/03/2022                      | 05/03/2023        | 05/03/2023               | <!----> | <!----> | <!----> | 05/03/2023               | 05/03/2022                   | <!----> | <!----> |\n",
       "| 5 | Bloodborne diseases | Hepatitis B (newly acquired) | 039          |  -                 |  -    |  -    |  3   |  -    |  -    |  -    | ⋯ |  1                              |  17               |  19                      |  28.8                           |  0.7                            |  -                                      |  75                      |  129.0                       |  0.6                          |  -                                   |\n",
       "| 6 | <!----> | Hepatitis B (unspecified)    | 052          |  -                 |  93   |  1    |  56  |  4    |  1    |  69   | ⋯ |  210                            |  933              |  1,243                   |  1,264.6                        |  1.0                            |  -                                      |  5,518                   |  5,356.8                     |  1.0                          |  -                                   |\n",
       "\n"
      ],
      "text/plain": [
       "  ADT.FN05.2023       X                            X.1         \n",
       "1                                                              \n",
       "2 Disease group       Disease name                 Disease code\n",
       "3                                                              \n",
       "4                                                              \n",
       "5 Bloodborne diseases Hepatitis B (newly acquired) 039         \n",
       "6                     Hepatitis B (unspecified)    052         \n",
       "  Notification.received.date X.2   X.3   X.4  X.5   X.6   X.7   ⋯\n",
       "1 State or Territory                                            ⋯\n",
       "2 ACT^^                      NSW   NT    Qld  SA    Tas   Vic   ⋯\n",
       "3                                                               ⋯\n",
       "4                                                               ⋯\n",
       "5  -                          -     -     3    -     -     -    ⋯\n",
       "6  -                          93    1     56   4     1     69   ⋯\n",
       "  X.11                            X.12              X.13                    \n",
       "1                                                   Historical 90 Day Period\n",
       "2 Same reporting period last year Current year\\nYTD Past Quarter            \n",
       "3 20/02/2022                      01/01/2023        06/12/2022              \n",
       "4 05/03/2022                      05/03/2023        05/03/2023              \n",
       "5  1                               17                19                     \n",
       "6  210                             933               1,243                  \n",
       "  X.14                            X.15                           \n",
       "1                                                                \n",
       "2 Quarterly rolling \\n5 year mean Ratio past quarter/5 year mean*\n",
       "3                                                                \n",
       "4                                                                \n",
       "5  28.8                            0.7                           \n",
       "6  1,264.6                         1.0                           \n",
       "  X.16                                    X.17                    \n",
       "1                                         Historical Yearly Period\n",
       "2 Exceeds quarterly rolling mean +2 SD by Past Year               \n",
       "3                                         06/03/2022              \n",
       "4                                         05/03/2023              \n",
       "5  -                                       75                     \n",
       "6  -                                       5,518                  \n",
       "  X.18                         X.19                         \n",
       "1                                                           \n",
       "2 Yearly rolling \\n5 year mean Ratio past  year/5 year mean*\n",
       "3 06/03/2017                                                \n",
       "4 05/03/2022                                                \n",
       "5  129.0                        0.6                         \n",
       "6  5,356.8                      1.0                         \n",
       "  X.20                                \n",
       "1                                     \n",
       "2 Exceeds yearly rolling mean +2 SD by\n",
       "3                                     \n",
       "4                                     \n",
       "5  -                                  \n",
       "6  -                                  "
      ]
     },
     "metadata": {},
     "output_type": "display_data"
    }
   ],
   "source": [
    "df4 <- read.csv(\"4. 20_february_2023_to_05_march_2023.csv\", header=TRUE, stringsAsFactors=FALSE)\n",
    "head(df4)"
   ]
  },
  {
   "cell_type": "code",
   "execution_count": 23,
   "id": "cc0b26c4-a85f-453e-b7fb-65316fca70da",
   "metadata": {},
   "outputs": [
    {
     "data": {
      "text/html": [
       "<table class=\"dataframe\">\n",
       "<caption>A data.frame: 6 × 2</caption>\n",
       "<thead>\n",
       "\t<tr><th></th><th scope=col>X</th><th scope=col>X.9</th></tr>\n",
       "\t<tr><th></th><th scope=col>&lt;chr&gt;</th><th scope=col>&lt;chr&gt;</th></tr>\n",
       "</thead>\n",
       "<tbody>\n",
       "\t<tr><th scope=row>1</th><td>                            </td><td>Totals for Australia </td></tr>\n",
       "\t<tr><th scope=row>2</th><td>Disease name                </td><td>This reporting period</td></tr>\n",
       "\t<tr><th scope=row>3</th><td>                            </td><td>20/02/2023           </td></tr>\n",
       "\t<tr><th scope=row>4</th><td>                            </td><td>05/03/2023           </td></tr>\n",
       "\t<tr><th scope=row>5</th><td>Hepatitis B (newly acquired)</td><td> 3                   </td></tr>\n",
       "\t<tr><th scope=row>6</th><td>Hepatitis B (unspecified)   </td><td> 254                 </td></tr>\n",
       "</tbody>\n",
       "</table>\n"
      ],
      "text/latex": [
       "A data.frame: 6 × 2\n",
       "\\begin{tabular}{r|ll}\n",
       "  & X & X.9\\\\\n",
       "  & <chr> & <chr>\\\\\n",
       "\\hline\n",
       "\t1 &                              & Totals for Australia \\\\\n",
       "\t2 & Disease name                 & This reporting period\\\\\n",
       "\t3 &                              & 20/02/2023           \\\\\n",
       "\t4 &                              & 05/03/2023           \\\\\n",
       "\t5 & Hepatitis B (newly acquired) &  3                   \\\\\n",
       "\t6 & Hepatitis B (unspecified)    &  254                 \\\\\n",
       "\\end{tabular}\n"
      ],
      "text/markdown": [
       "\n",
       "A data.frame: 6 × 2\n",
       "\n",
       "| <!--/--> | X &lt;chr&gt; | X.9 &lt;chr&gt; |\n",
       "|---|---|---|\n",
       "| 1 | <!----> | Totals for Australia  |\n",
       "| 2 | Disease name                 | This reporting period |\n",
       "| 3 | <!----> | 20/02/2023            |\n",
       "| 4 | <!----> | 05/03/2023            |\n",
       "| 5 | Hepatitis B (newly acquired) |  3                    |\n",
       "| 6 | Hepatitis B (unspecified)    |  254                  |\n",
       "\n"
      ],
      "text/plain": [
       "  X                            X.9                  \n",
       "1                              Totals for Australia \n",
       "2 Disease name                 This reporting period\n",
       "3                              20/02/2023           \n",
       "4                              05/03/2023           \n",
       "5 Hepatitis B (newly acquired)  3                   \n",
       "6 Hepatitis B (unspecified)     254                 "
      ]
     },
     "metadata": {},
     "output_type": "display_data"
    }
   ],
   "source": [
    "df4 <- df4[, -c(1,3:11, 13:23)]\n",
    "head(df4)"
   ]
  },
  {
   "cell_type": "code",
   "execution_count": 24,
   "id": "1b8af091-c299-4783-87a3-162fcc806e14",
   "metadata": {},
   "outputs": [
    {
     "data": {
      "text/html": [
       "<table class=\"dataframe\">\n",
       "<caption>A data.frame: 1 × 2</caption>\n",
       "<thead>\n",
       "\t<tr><th></th><th scope=col>X</th><th scope=col>X.9</th></tr>\n",
       "\t<tr><th></th><th scope=col>&lt;chr&gt;</th><th scope=col>&lt;chr&gt;</th></tr>\n",
       "</thead>\n",
       "<tbody>\n",
       "\t<tr><th scope=row>51</th><td>Influenza (laboratory confirmed)</td><td> 2,692 </td></tr>\n",
       "</tbody>\n",
       "</table>\n"
      ],
      "text/latex": [
       "A data.frame: 1 × 2\n",
       "\\begin{tabular}{r|ll}\n",
       "  & X & X.9\\\\\n",
       "  & <chr> & <chr>\\\\\n",
       "\\hline\n",
       "\t51 & Influenza (laboratory confirmed) &  2,692 \\\\\n",
       "\\end{tabular}\n"
      ],
      "text/markdown": [
       "\n",
       "A data.frame: 1 × 2\n",
       "\n",
       "| <!--/--> | X &lt;chr&gt; | X.9 &lt;chr&gt; |\n",
       "|---|---|---|\n",
       "| 51 | Influenza (laboratory confirmed) |  2,692  |\n",
       "\n"
      ],
      "text/plain": [
       "   X                                X.9    \n",
       "51 Influenza (laboratory confirmed)  2,692 "
      ]
     },
     "metadata": {},
     "output_type": "display_data"
    }
   ],
   "source": [
    "inf <- df4[grep(\"Influenza\", df4$X),]\n",
    "head(inf)"
   ]
  },
  {
   "cell_type": "code",
   "execution_count": 25,
   "id": "3ceb3eb8-d087-4273-ba3e-c5e60c740511",
   "metadata": {},
   "outputs": [
    {
     "data": {
      "text/html": [
       "<table class=\"dataframe\">\n",
       "<caption>A data.frame: 1 × 2</caption>\n",
       "<thead>\n",
       "\t<tr><th></th><th scope=col>X</th><th scope=col>X.9</th></tr>\n",
       "\t<tr><th></th><th scope=col>&lt;chr&gt;</th><th scope=col>&lt;chr&gt;</th></tr>\n",
       "</thead>\n",
       "<tbody>\n",
       "\t<tr><th scope=row>24</th><td>COVID-19</td><td> 35,725 </td></tr>\n",
       "</tbody>\n",
       "</table>\n"
      ],
      "text/latex": [
       "A data.frame: 1 × 2\n",
       "\\begin{tabular}{r|ll}\n",
       "  & X & X.9\\\\\n",
       "  & <chr> & <chr>\\\\\n",
       "\\hline\n",
       "\t24 & COVID-19 &  35,725 \\\\\n",
       "\\end{tabular}\n"
      ],
      "text/markdown": [
       "\n",
       "A data.frame: 1 × 2\n",
       "\n",
       "| <!--/--> | X &lt;chr&gt; | X.9 &lt;chr&gt; |\n",
       "|---|---|---|\n",
       "| 24 | COVID-19 |  35,725  |\n",
       "\n"
      ],
      "text/plain": [
       "   X        X.9     \n",
       "24 COVID-19  35,725 "
      ]
     },
     "metadata": {},
     "output_type": "display_data"
    }
   ],
   "source": [
    "covid <-  df4[grep(\"COVID\", df4$X),]\n",
    "covid"
   ]
  },
  {
   "cell_type": "code",
   "execution_count": 26,
   "id": "36272afd-24bc-4a73-be92-18cb2cea75a0",
   "metadata": {},
   "outputs": [
    {
     "data": {
      "text/html": [
       "<table class=\"dataframe\">\n",
       "<caption>A data.frame: 2 × 2</caption>\n",
       "<thead>\n",
       "\t<tr><th></th><th scope=col>X</th><th scope=col>X.9</th></tr>\n",
       "\t<tr><th></th><th scope=col>&lt;chr&gt;</th><th scope=col>&lt;chr&gt;</th></tr>\n",
       "</thead>\n",
       "<tbody>\n",
       "\t<tr><th scope=row>51</th><td>Influenza (laboratory confirmed)</td><td> 2,692  </td></tr>\n",
       "\t<tr><th scope=row>24</th><td>COVID-19                        </td><td> 35,725 </td></tr>\n",
       "</tbody>\n",
       "</table>\n"
      ],
      "text/latex": [
       "A data.frame: 2 × 2\n",
       "\\begin{tabular}{r|ll}\n",
       "  & X & X.9\\\\\n",
       "  & <chr> & <chr>\\\\\n",
       "\\hline\n",
       "\t51 & Influenza (laboratory confirmed) &  2,692  \\\\\n",
       "\t24 & COVID-19                         &  35,725 \\\\\n",
       "\\end{tabular}\n"
      ],
      "text/markdown": [
       "\n",
       "A data.frame: 2 × 2\n",
       "\n",
       "| <!--/--> | X &lt;chr&gt; | X.9 &lt;chr&gt; |\n",
       "|---|---|---|\n",
       "| 51 | Influenza (laboratory confirmed) |  2,692   |\n",
       "| 24 | COVID-19                         |  35,725  |\n",
       "\n"
      ],
      "text/plain": [
       "   X                                X.9     \n",
       "51 Influenza (laboratory confirmed)  2,692  \n",
       "24 COVID-19                          35,725 "
      ]
     },
     "metadata": {},
     "output_type": "display_data"
    }
   ],
   "source": [
    "Feb20_Mar05_2023 <- rbind(inf, covid)\n",
    "Feb20_Mar05_2023"
   ]
  },
  {
   "cell_type": "code",
   "execution_count": 27,
   "id": "eba1dfba-295f-49ee-9a3e-3e77bcf6e93b",
   "metadata": {},
   "outputs": [
    {
     "data": {
      "text/html": [
       "<table class=\"dataframe\">\n",
       "<caption>A data.frame: 2 × 2</caption>\n",
       "<thead>\n",
       "\t<tr><th></th><th scope=col>X</th><th scope=col>X.9</th></tr>\n",
       "\t<tr><th></th><th scope=col>&lt;chr&gt;</th><th scope=col>&lt;dbl&gt;</th></tr>\n",
       "</thead>\n",
       "<tbody>\n",
       "\t<tr><th scope=row>51</th><td>Influenza (laboratory confirmed)</td><td> 2692</td></tr>\n",
       "\t<tr><th scope=row>24</th><td>COVID-19                        </td><td>35725</td></tr>\n",
       "</tbody>\n",
       "</table>\n"
      ],
      "text/latex": [
       "A data.frame: 2 × 2\n",
       "\\begin{tabular}{r|ll}\n",
       "  & X & X.9\\\\\n",
       "  & <chr> & <dbl>\\\\\n",
       "\\hline\n",
       "\t51 & Influenza (laboratory confirmed) &  2692\\\\\n",
       "\t24 & COVID-19                         & 35725\\\\\n",
       "\\end{tabular}\n"
      ],
      "text/markdown": [
       "\n",
       "A data.frame: 2 × 2\n",
       "\n",
       "| <!--/--> | X &lt;chr&gt; | X.9 &lt;dbl&gt; |\n",
       "|---|---|---|\n",
       "| 51 | Influenza (laboratory confirmed) |  2692 |\n",
       "| 24 | COVID-19                         | 35725 |\n",
       "\n"
      ],
      "text/plain": [
       "   X                                X.9  \n",
       "51 Influenza (laboratory confirmed)  2692\n",
       "24 COVID-19                         35725"
      ]
     },
     "metadata": {},
     "output_type": "display_data"
    }
   ],
   "source": [
    "Feb20_Mar05_2023$X.9 <- gsub(\",\", \"\", Feb20_Mar05_2023$X.9)\n",
    "Feb20_Mar05_2023[,2] <- as.numeric(Feb20_Mar05_2023[,2])\n",
    "Feb20_Mar05_2023"
   ]
  },
  {
   "cell_type": "code",
   "execution_count": 28,
   "id": "d4aa6e2c-1019-411f-8e0b-4d5bd9620828",
   "metadata": {},
   "outputs": [
    {
     "data": {
      "text/html": [
       "<table class=\"dataframe\">\n",
       "<caption>A data.frame: 2 × 2</caption>\n",
       "<thead>\n",
       "\t<tr><th></th><th scope=col>Disease</th><th scope=col>20Feb - 05Mar 2023</th></tr>\n",
       "\t<tr><th></th><th scope=col>&lt;chr&gt;</th><th scope=col>&lt;dbl&gt;</th></tr>\n",
       "</thead>\n",
       "<tbody>\n",
       "\t<tr><th scope=row>51</th><td>Influenza (laboratory confirmed)</td><td> 2692</td></tr>\n",
       "\t<tr><th scope=row>24</th><td>COVID-19                        </td><td>35725</td></tr>\n",
       "</tbody>\n",
       "</table>\n"
      ],
      "text/latex": [
       "A data.frame: 2 × 2\n",
       "\\begin{tabular}{r|ll}\n",
       "  & Disease & 20Feb - 05Mar 2023\\\\\n",
       "  & <chr> & <dbl>\\\\\n",
       "\\hline\n",
       "\t51 & Influenza (laboratory confirmed) &  2692\\\\\n",
       "\t24 & COVID-19                         & 35725\\\\\n",
       "\\end{tabular}\n"
      ],
      "text/markdown": [
       "\n",
       "A data.frame: 2 × 2\n",
       "\n",
       "| <!--/--> | Disease &lt;chr&gt; | 20Feb - 05Mar 2023 &lt;dbl&gt; |\n",
       "|---|---|---|\n",
       "| 51 | Influenza (laboratory confirmed) |  2692 |\n",
       "| 24 | COVID-19                         | 35725 |\n",
       "\n"
      ],
      "text/plain": [
       "   Disease                          20Feb - 05Mar 2023\n",
       "51 Influenza (laboratory confirmed)  2692             \n",
       "24 COVID-19                         35725             "
      ]
     },
     "metadata": {},
     "output_type": "display_data"
    }
   ],
   "source": [
    "colnames(Feb20_Mar05_2023) <- c(\"Disease\", \"20Feb - 05Mar 2023\")\n",
    "Feb20_Mar05_2023"
   ]
  },
  {
   "cell_type": "code",
   "execution_count": 29,
   "id": "7f0aac3b-2d3e-4c96-9148-8755f57b1e64",
   "metadata": {},
   "outputs": [
    {
     "data": {
      "text/html": [
       "<table class=\"dataframe\">\n",
       "<caption>A data.frame: 6 × 23</caption>\n",
       "<thead>\n",
       "\t<tr><th></th><th scope=col>ADT.FN06.2023</th><th scope=col>X</th><th scope=col>X.1</th><th scope=col>Notification.received.date</th><th scope=col>X.2</th><th scope=col>X.3</th><th scope=col>X.4</th><th scope=col>X.5</th><th scope=col>X.6</th><th scope=col>X.7</th><th scope=col>⋯</th><th scope=col>X.11</th><th scope=col>X.12</th><th scope=col>X.13</th><th scope=col>X.14</th><th scope=col>X.15</th><th scope=col>X.16</th><th scope=col>X.17</th><th scope=col>X.18</th><th scope=col>X.19</th><th scope=col>X.20</th></tr>\n",
       "\t<tr><th></th><th scope=col>&lt;chr&gt;</th><th scope=col>&lt;chr&gt;</th><th scope=col>&lt;chr&gt;</th><th scope=col>&lt;chr&gt;</th><th scope=col>&lt;chr&gt;</th><th scope=col>&lt;chr&gt;</th><th scope=col>&lt;chr&gt;</th><th scope=col>&lt;chr&gt;</th><th scope=col>&lt;chr&gt;</th><th scope=col>&lt;chr&gt;</th><th scope=col>⋯</th><th scope=col>&lt;chr&gt;</th><th scope=col>&lt;chr&gt;</th><th scope=col>&lt;chr&gt;</th><th scope=col>&lt;chr&gt;</th><th scope=col>&lt;chr&gt;</th><th scope=col>&lt;chr&gt;</th><th scope=col>&lt;chr&gt;</th><th scope=col>&lt;chr&gt;</th><th scope=col>&lt;chr&gt;</th><th scope=col>&lt;chr&gt;</th></tr>\n",
       "</thead>\n",
       "<tbody>\n",
       "\t<tr><th scope=row>1</th><td>                   </td><td>                            </td><td>            </td><td>State or Territory</td><td>    </td><td>     </td><td>     </td><td>     </td><td>     </td><td>     </td><td>⋯</td><td>                               </td><td>                 </td><td>Historical 90 Day Period</td><td>                               </td><td>                               </td><td>                                       </td><td>Historical Yearly Period</td><td>                            </td><td>                             </td><td>                                    </td></tr>\n",
       "\t<tr><th scope=row>2</th><td>Disease group      </td><td>Disease name                </td><td>Disease code</td><td>ACT               </td><td>NSW </td><td>NT   </td><td>Qld  </td><td>SA   </td><td>Tas  </td><td>Vic  </td><td>⋯</td><td>Same reporting period last year</td><td>Current year\n",
       "YTD</td><td>Past Quarter            </td><td>Quarterly rolling \n",
       "5 year mean</td><td>Ratio past quarter/5 year mean*</td><td>Exceeds quarterly rolling mean +2 SD by</td><td>Past Year               </td><td>Yearly rolling \n",
       "5 year mean</td><td>Ratio past  year/5 year mean*</td><td>Exceeds yearly rolling mean +2 SD by</td></tr>\n",
       "\t<tr><th scope=row>3</th><td>                   </td><td>                            </td><td>            </td><td>                  </td><td>    </td><td>     </td><td>     </td><td>     </td><td>     </td><td>     </td><td>⋯</td><td>06/03/2022                     </td><td>01/01/2023       </td><td>20/12/2022              </td><td>                               </td><td>                               </td><td>                                       </td><td>20/03/2022              </td><td>20/03/2017                  </td><td>                             </td><td>                                    </td></tr>\n",
       "\t<tr><th scope=row>4</th><td>                   </td><td>                            </td><td>            </td><td>                  </td><td>    </td><td>     </td><td>     </td><td>     </td><td>     </td><td>     </td><td>⋯</td><td>19/03/2022                     </td><td>19/03/2023       </td><td>19/03/2023              </td><td>                               </td><td>                               </td><td>                                       </td><td>19/03/2023              </td><td>19/03/2022                  </td><td>                             </td><td>                                    </td></tr>\n",
       "\t<tr><th scope=row>5</th><td>Bloodborne diseases</td><td>Hepatitis B (newly acquired)</td><td>039         </td><td> -                </td><td> 3  </td><td> 1   </td><td> -   </td><td> -   </td><td> -   </td><td> -   </td><td>⋯</td><td> 1                             </td><td> 20              </td><td> 21                     </td><td> 26.2                          </td><td> 0.8                           </td><td> -                                     </td><td> 77                     </td><td> 127.4                      </td><td> 0.6                         </td><td> -                                  </td></tr>\n",
       "\t<tr><th scope=row>6</th><td>                   </td><td>Hepatitis B (unspecified)   </td><td>052         </td><td> -                </td><td> 80 </td><td> -   </td><td> 34  </td><td> 3   </td><td> 1   </td><td> 50  </td><td>⋯</td><td> 220                           </td><td> 1,126           </td><td> 1,240                  </td><td> 1,275.2                       </td><td> 1.0                           </td><td> -                                     </td><td> 5,487                  </td><td> 5,354.8                    </td><td> 1.0                         </td><td> -                                  </td></tr>\n",
       "</tbody>\n",
       "</table>\n"
      ],
      "text/latex": [
       "A data.frame: 6 × 23\n",
       "\\begin{tabular}{r|lllllllllllllllllllll}\n",
       "  & ADT.FN06.2023 & X & X.1 & Notification.received.date & X.2 & X.3 & X.4 & X.5 & X.6 & X.7 & ⋯ & X.11 & X.12 & X.13 & X.14 & X.15 & X.16 & X.17 & X.18 & X.19 & X.20\\\\\n",
       "  & <chr> & <chr> & <chr> & <chr> & <chr> & <chr> & <chr> & <chr> & <chr> & <chr> & ⋯ & <chr> & <chr> & <chr> & <chr> & <chr> & <chr> & <chr> & <chr> & <chr> & <chr>\\\\\n",
       "\\hline\n",
       "\t1 &                     &                              &              & State or Territory &      &       &       &       &       &       & ⋯ &                                 &                   & Historical 90 Day Period &                                 &                                 &                                         & Historical Yearly Period &                              &                               &                                     \\\\\n",
       "\t2 & Disease group       & Disease name                 & Disease code & ACT                & NSW  & NT    & Qld   & SA    & Tas   & Vic   & ⋯ & Same reporting period last year & Current year\n",
       "YTD & Past Quarter             & Quarterly rolling \n",
       "5 year mean & Ratio past quarter/5 year mean* & Exceeds quarterly rolling mean +2 SD by & Past Year                & Yearly rolling \n",
       "5 year mean & Ratio past  year/5 year mean* & Exceeds yearly rolling mean +2 SD by\\\\\n",
       "\t3 &                     &                              &              &                    &      &       &       &       &       &       & ⋯ & 06/03/2022                      & 01/01/2023        & 20/12/2022               &                                 &                                 &                                         & 20/03/2022               & 20/03/2017                   &                               &                                     \\\\\n",
       "\t4 &                     &                              &              &                    &      &       &       &       &       &       & ⋯ & 19/03/2022                      & 19/03/2023        & 19/03/2023               &                                 &                                 &                                         & 19/03/2023               & 19/03/2022                   &                               &                                     \\\\\n",
       "\t5 & Bloodborne diseases & Hepatitis B (newly acquired) & 039          &  -                 &  3   &  1    &  -    &  -    &  -    &  -    & ⋯ &  1                              &  20               &  21                      &  26.2                           &  0.8                            &  -                                      &  77                      &  127.4                       &  0.6                          &  -                                  \\\\\n",
       "\t6 &                     & Hepatitis B (unspecified)    & 052          &  -                 &  80  &  -    &  34   &  3    &  1    &  50   & ⋯ &  220                            &  1,126            &  1,240                   &  1,275.2                        &  1.0                            &  -                                      &  5,487                   &  5,354.8                     &  1.0                          &  -                                  \\\\\n",
       "\\end{tabular}\n"
      ],
      "text/markdown": [
       "\n",
       "A data.frame: 6 × 23\n",
       "\n",
       "| <!--/--> | ADT.FN06.2023 &lt;chr&gt; | X &lt;chr&gt; | X.1 &lt;chr&gt; | Notification.received.date &lt;chr&gt; | X.2 &lt;chr&gt; | X.3 &lt;chr&gt; | X.4 &lt;chr&gt; | X.5 &lt;chr&gt; | X.6 &lt;chr&gt; | X.7 &lt;chr&gt; | ⋯ ⋯ | X.11 &lt;chr&gt; | X.12 &lt;chr&gt; | X.13 &lt;chr&gt; | X.14 &lt;chr&gt; | X.15 &lt;chr&gt; | X.16 &lt;chr&gt; | X.17 &lt;chr&gt; | X.18 &lt;chr&gt; | X.19 &lt;chr&gt; | X.20 &lt;chr&gt; |\n",
       "|---|---|---|---|---|---|---|---|---|---|---|---|---|---|---|---|---|---|---|---|---|---|\n",
       "| 1 | <!----> | <!----> | <!----> | State or Territory | <!----> | <!----> | <!----> | <!----> | <!----> | <!----> | ⋯ | <!----> | <!----> | Historical 90 Day Period | <!----> | <!----> | <!----> | Historical Yearly Period | <!----> | <!----> | <!----> |\n",
       "| 2 | Disease group       | Disease name                 | Disease code | ACT                | NSW  | NT    | Qld   | SA    | Tas   | Vic   | ⋯ | Same reporting period last year | Current year\n",
       "YTD | Past Quarter             | Quarterly rolling \n",
       "5 year mean | Ratio past quarter/5 year mean* | Exceeds quarterly rolling mean +2 SD by | Past Year                | Yearly rolling \n",
       "5 year mean | Ratio past  year/5 year mean* | Exceeds yearly rolling mean +2 SD by |\n",
       "| 3 | <!----> | <!----> | <!----> | <!----> | <!----> | <!----> | <!----> | <!----> | <!----> | <!----> | ⋯ | 06/03/2022                      | 01/01/2023        | 20/12/2022               | <!----> | <!----> | <!----> | 20/03/2022               | 20/03/2017                   | <!----> | <!----> |\n",
       "| 4 | <!----> | <!----> | <!----> | <!----> | <!----> | <!----> | <!----> | <!----> | <!----> | <!----> | ⋯ | 19/03/2022                      | 19/03/2023        | 19/03/2023               | <!----> | <!----> | <!----> | 19/03/2023               | 19/03/2022                   | <!----> | <!----> |\n",
       "| 5 | Bloodborne diseases | Hepatitis B (newly acquired) | 039          |  -                 |  3   |  1    |  -    |  -    |  -    |  -    | ⋯ |  1                              |  20               |  21                      |  26.2                           |  0.8                            |  -                                      |  77                      |  127.4                       |  0.6                          |  -                                   |\n",
       "| 6 | <!----> | Hepatitis B (unspecified)    | 052          |  -                 |  80  |  -    |  34   |  3    |  1    |  50   | ⋯ |  220                            |  1,126            |  1,240                   |  1,275.2                        |  1.0                            |  -                                      |  5,487                   |  5,354.8                     |  1.0                          |  -                                   |\n",
       "\n"
      ],
      "text/plain": [
       "  ADT.FN06.2023       X                            X.1         \n",
       "1                                                              \n",
       "2 Disease group       Disease name                 Disease code\n",
       "3                                                              \n",
       "4                                                              \n",
       "5 Bloodborne diseases Hepatitis B (newly acquired) 039         \n",
       "6                     Hepatitis B (unspecified)    052         \n",
       "  Notification.received.date X.2  X.3   X.4   X.5   X.6   X.7   ⋯\n",
       "1 State or Territory                                            ⋯\n",
       "2 ACT                        NSW  NT    Qld   SA    Tas   Vic   ⋯\n",
       "3                                                               ⋯\n",
       "4                                                               ⋯\n",
       "5  -                          3    1     -     -     -     -    ⋯\n",
       "6  -                          80   -     34    3     1     50   ⋯\n",
       "  X.11                            X.12              X.13                    \n",
       "1                                                   Historical 90 Day Period\n",
       "2 Same reporting period last year Current year\\nYTD Past Quarter            \n",
       "3 06/03/2022                      01/01/2023        20/12/2022              \n",
       "4 19/03/2022                      19/03/2023        19/03/2023              \n",
       "5  1                               20                21                     \n",
       "6  220                             1,126             1,240                  \n",
       "  X.14                            X.15                           \n",
       "1                                                                \n",
       "2 Quarterly rolling \\n5 year mean Ratio past quarter/5 year mean*\n",
       "3                                                                \n",
       "4                                                                \n",
       "5  26.2                            0.8                           \n",
       "6  1,275.2                         1.0                           \n",
       "  X.16                                    X.17                    \n",
       "1                                         Historical Yearly Period\n",
       "2 Exceeds quarterly rolling mean +2 SD by Past Year               \n",
       "3                                         20/03/2022              \n",
       "4                                         19/03/2023              \n",
       "5  -                                       77                     \n",
       "6  -                                       5,487                  \n",
       "  X.18                         X.19                         \n",
       "1                                                           \n",
       "2 Yearly rolling \\n5 year mean Ratio past  year/5 year mean*\n",
       "3 20/03/2017                                                \n",
       "4 19/03/2022                                                \n",
       "5  127.4                        0.6                         \n",
       "6  5,354.8                      1.0                         \n",
       "  X.20                                \n",
       "1                                     \n",
       "2 Exceeds yearly rolling mean +2 SD by\n",
       "3                                     \n",
       "4                                     \n",
       "5  -                                  \n",
       "6  -                                  "
      ]
     },
     "metadata": {},
     "output_type": "display_data"
    }
   ],
   "source": [
    "df5 <- read.csv(\"5. 06_march_2023_to_19_march_2023.csv\", header=TRUE, stringsAsFactors=FALSE)\n",
    "head(df5)"
   ]
  },
  {
   "cell_type": "code",
   "execution_count": 30,
   "id": "682e4fec-a52e-4957-80ac-e2c349a473a3",
   "metadata": {},
   "outputs": [
    {
     "data": {
      "text/html": [
       "<table class=\"dataframe\">\n",
       "<caption>A data.frame: 6 × 2</caption>\n",
       "<thead>\n",
       "\t<tr><th></th><th scope=col>X</th><th scope=col>X.9</th></tr>\n",
       "\t<tr><th></th><th scope=col>&lt;chr&gt;</th><th scope=col>&lt;chr&gt;</th></tr>\n",
       "</thead>\n",
       "<tbody>\n",
       "\t<tr><th scope=row>1</th><td>                            </td><td>Totals for Australia </td></tr>\n",
       "\t<tr><th scope=row>2</th><td>Disease name                </td><td>This reporting period</td></tr>\n",
       "\t<tr><th scope=row>3</th><td>                            </td><td>06/03/2023           </td></tr>\n",
       "\t<tr><th scope=row>4</th><td>                            </td><td>19/03/2023           </td></tr>\n",
       "\t<tr><th scope=row>5</th><td>Hepatitis B (newly acquired)</td><td> 4                   </td></tr>\n",
       "\t<tr><th scope=row>6</th><td>Hepatitis B (unspecified)   </td><td> 189                 </td></tr>\n",
       "</tbody>\n",
       "</table>\n"
      ],
      "text/latex": [
       "A data.frame: 6 × 2\n",
       "\\begin{tabular}{r|ll}\n",
       "  & X & X.9\\\\\n",
       "  & <chr> & <chr>\\\\\n",
       "\\hline\n",
       "\t1 &                              & Totals for Australia \\\\\n",
       "\t2 & Disease name                 & This reporting period\\\\\n",
       "\t3 &                              & 06/03/2023           \\\\\n",
       "\t4 &                              & 19/03/2023           \\\\\n",
       "\t5 & Hepatitis B (newly acquired) &  4                   \\\\\n",
       "\t6 & Hepatitis B (unspecified)    &  189                 \\\\\n",
       "\\end{tabular}\n"
      ],
      "text/markdown": [
       "\n",
       "A data.frame: 6 × 2\n",
       "\n",
       "| <!--/--> | X &lt;chr&gt; | X.9 &lt;chr&gt; |\n",
       "|---|---|---|\n",
       "| 1 | <!----> | Totals for Australia  |\n",
       "| 2 | Disease name                 | This reporting period |\n",
       "| 3 | <!----> | 06/03/2023            |\n",
       "| 4 | <!----> | 19/03/2023            |\n",
       "| 5 | Hepatitis B (newly acquired) |  4                    |\n",
       "| 6 | Hepatitis B (unspecified)    |  189                  |\n",
       "\n"
      ],
      "text/plain": [
       "  X                            X.9                  \n",
       "1                              Totals for Australia \n",
       "2 Disease name                 This reporting period\n",
       "3                              06/03/2023           \n",
       "4                              19/03/2023           \n",
       "5 Hepatitis B (newly acquired)  4                   \n",
       "6 Hepatitis B (unspecified)     189                 "
      ]
     },
     "metadata": {},
     "output_type": "display_data"
    }
   ],
   "source": [
    "df5 <- df5[, -c(1,3:11, 13:23)]\n",
    "head(df5)"
   ]
  },
  {
   "cell_type": "code",
   "execution_count": 31,
   "id": "edc16295-356c-477a-940e-0a1ed8c5bf27",
   "metadata": {},
   "outputs": [
    {
     "data": {
      "text/html": [
       "<table class=\"dataframe\">\n",
       "<caption>A data.frame: 1 × 2</caption>\n",
       "<thead>\n",
       "\t<tr><th></th><th scope=col>X</th><th scope=col>X.9</th></tr>\n",
       "\t<tr><th></th><th scope=col>&lt;chr&gt;</th><th scope=col>&lt;chr&gt;</th></tr>\n",
       "</thead>\n",
       "<tbody>\n",
       "\t<tr><th scope=row>51</th><td>Influenza (laboratory confirmed)</td><td> 3,730 </td></tr>\n",
       "</tbody>\n",
       "</table>\n"
      ],
      "text/latex": [
       "A data.frame: 1 × 2\n",
       "\\begin{tabular}{r|ll}\n",
       "  & X & X.9\\\\\n",
       "  & <chr> & <chr>\\\\\n",
       "\\hline\n",
       "\t51 & Influenza (laboratory confirmed) &  3,730 \\\\\n",
       "\\end{tabular}\n"
      ],
      "text/markdown": [
       "\n",
       "A data.frame: 1 × 2\n",
       "\n",
       "| <!--/--> | X &lt;chr&gt; | X.9 &lt;chr&gt; |\n",
       "|---|---|---|\n",
       "| 51 | Influenza (laboratory confirmed) |  3,730  |\n",
       "\n"
      ],
      "text/plain": [
       "   X                                X.9    \n",
       "51 Influenza (laboratory confirmed)  3,730 "
      ]
     },
     "metadata": {},
     "output_type": "display_data"
    }
   ],
   "source": [
    "inf <- df5[grep(\"Influenza\", df5$X),]\n",
    "head(inf)"
   ]
  },
  {
   "cell_type": "code",
   "execution_count": 32,
   "id": "0c2f06db-3029-439d-b903-f4634afd79d3",
   "metadata": {},
   "outputs": [
    {
     "data": {
      "text/html": [
       "<table class=\"dataframe\">\n",
       "<caption>A data.frame: 1 × 2</caption>\n",
       "<thead>\n",
       "\t<tr><th></th><th scope=col>X</th><th scope=col>X.9</th></tr>\n",
       "\t<tr><th></th><th scope=col>&lt;chr&gt;</th><th scope=col>&lt;chr&gt;</th></tr>\n",
       "</thead>\n",
       "<tbody>\n",
       "\t<tr><th scope=row>24</th><td>COVID-19</td><td> 44,791 </td></tr>\n",
       "</tbody>\n",
       "</table>\n"
      ],
      "text/latex": [
       "A data.frame: 1 × 2\n",
       "\\begin{tabular}{r|ll}\n",
       "  & X & X.9\\\\\n",
       "  & <chr> & <chr>\\\\\n",
       "\\hline\n",
       "\t24 & COVID-19 &  44,791 \\\\\n",
       "\\end{tabular}\n"
      ],
      "text/markdown": [
       "\n",
       "A data.frame: 1 × 2\n",
       "\n",
       "| <!--/--> | X &lt;chr&gt; | X.9 &lt;chr&gt; |\n",
       "|---|---|---|\n",
       "| 24 | COVID-19 |  44,791  |\n",
       "\n"
      ],
      "text/plain": [
       "   X        X.9     \n",
       "24 COVID-19  44,791 "
      ]
     },
     "metadata": {},
     "output_type": "display_data"
    }
   ],
   "source": [
    "covid <-  df5[grep(\"COVID\", df5$X),]\n",
    "covid"
   ]
  },
  {
   "cell_type": "code",
   "execution_count": 33,
   "id": "e3c1c6f3-232b-45be-ac17-2f576df14c15",
   "metadata": {},
   "outputs": [
    {
     "data": {
      "text/html": [
       "<table class=\"dataframe\">\n",
       "<caption>A data.frame: 2 × 2</caption>\n",
       "<thead>\n",
       "\t<tr><th></th><th scope=col>X</th><th scope=col>X.9</th></tr>\n",
       "\t<tr><th></th><th scope=col>&lt;chr&gt;</th><th scope=col>&lt;chr&gt;</th></tr>\n",
       "</thead>\n",
       "<tbody>\n",
       "\t<tr><th scope=row>51</th><td>Influenza (laboratory confirmed)</td><td> 3,730  </td></tr>\n",
       "\t<tr><th scope=row>24</th><td>COVID-19                        </td><td> 44,791 </td></tr>\n",
       "</tbody>\n",
       "</table>\n"
      ],
      "text/latex": [
       "A data.frame: 2 × 2\n",
       "\\begin{tabular}{r|ll}\n",
       "  & X & X.9\\\\\n",
       "  & <chr> & <chr>\\\\\n",
       "\\hline\n",
       "\t51 & Influenza (laboratory confirmed) &  3,730  \\\\\n",
       "\t24 & COVID-19                         &  44,791 \\\\\n",
       "\\end{tabular}\n"
      ],
      "text/markdown": [
       "\n",
       "A data.frame: 2 × 2\n",
       "\n",
       "| <!--/--> | X &lt;chr&gt; | X.9 &lt;chr&gt; |\n",
       "|---|---|---|\n",
       "| 51 | Influenza (laboratory confirmed) |  3,730   |\n",
       "| 24 | COVID-19                         |  44,791  |\n",
       "\n"
      ],
      "text/plain": [
       "   X                                X.9     \n",
       "51 Influenza (laboratory confirmed)  3,730  \n",
       "24 COVID-19                          44,791 "
      ]
     },
     "metadata": {},
     "output_type": "display_data"
    }
   ],
   "source": [
    "Mar06_Mar19_2023 <- rbind(inf, covid)\n",
    "Mar06_Mar19_2023"
   ]
  },
  {
   "cell_type": "code",
   "execution_count": 34,
   "id": "523040db-52ca-4dc3-bdc3-78922432c818",
   "metadata": {},
   "outputs": [
    {
     "data": {
      "text/html": [
       "<table class=\"dataframe\">\n",
       "<caption>A data.frame: 2 × 2</caption>\n",
       "<thead>\n",
       "\t<tr><th></th><th scope=col>X</th><th scope=col>X.9</th></tr>\n",
       "\t<tr><th></th><th scope=col>&lt;chr&gt;</th><th scope=col>&lt;dbl&gt;</th></tr>\n",
       "</thead>\n",
       "<tbody>\n",
       "\t<tr><th scope=row>51</th><td>Influenza (laboratory confirmed)</td><td> 3730</td></tr>\n",
       "\t<tr><th scope=row>24</th><td>COVID-19                        </td><td>44791</td></tr>\n",
       "</tbody>\n",
       "</table>\n"
      ],
      "text/latex": [
       "A data.frame: 2 × 2\n",
       "\\begin{tabular}{r|ll}\n",
       "  & X & X.9\\\\\n",
       "  & <chr> & <dbl>\\\\\n",
       "\\hline\n",
       "\t51 & Influenza (laboratory confirmed) &  3730\\\\\n",
       "\t24 & COVID-19                         & 44791\\\\\n",
       "\\end{tabular}\n"
      ],
      "text/markdown": [
       "\n",
       "A data.frame: 2 × 2\n",
       "\n",
       "| <!--/--> | X &lt;chr&gt; | X.9 &lt;dbl&gt; |\n",
       "|---|---|---|\n",
       "| 51 | Influenza (laboratory confirmed) |  3730 |\n",
       "| 24 | COVID-19                         | 44791 |\n",
       "\n"
      ],
      "text/plain": [
       "   X                                X.9  \n",
       "51 Influenza (laboratory confirmed)  3730\n",
       "24 COVID-19                         44791"
      ]
     },
     "metadata": {},
     "output_type": "display_data"
    }
   ],
   "source": [
    "Mar06_Mar19_2023$X.9 <- gsub(\",\", \"\", Mar06_Mar19_2023$X.9)\n",
    "Mar06_Mar19_2023[,2] <- as.numeric(Mar06_Mar19_2023[,2])\n",
    "Mar06_Mar19_2023"
   ]
  },
  {
   "cell_type": "code",
   "execution_count": 35,
   "id": "d3c05af1-911c-40c1-a7fb-647017ccda17",
   "metadata": {},
   "outputs": [
    {
     "data": {
      "text/html": [
       "<table class=\"dataframe\">\n",
       "<caption>A data.frame: 2 × 2</caption>\n",
       "<thead>\n",
       "\t<tr><th></th><th scope=col>Disease</th><th scope=col>06Mar - 19Mar 2023</th></tr>\n",
       "\t<tr><th></th><th scope=col>&lt;chr&gt;</th><th scope=col>&lt;dbl&gt;</th></tr>\n",
       "</thead>\n",
       "<tbody>\n",
       "\t<tr><th scope=row>51</th><td>Influenza (laboratory confirmed)</td><td> 3730</td></tr>\n",
       "\t<tr><th scope=row>24</th><td>COVID-19                        </td><td>44791</td></tr>\n",
       "</tbody>\n",
       "</table>\n"
      ],
      "text/latex": [
       "A data.frame: 2 × 2\n",
       "\\begin{tabular}{r|ll}\n",
       "  & Disease & 06Mar - 19Mar 2023\\\\\n",
       "  & <chr> & <dbl>\\\\\n",
       "\\hline\n",
       "\t51 & Influenza (laboratory confirmed) &  3730\\\\\n",
       "\t24 & COVID-19                         & 44791\\\\\n",
       "\\end{tabular}\n"
      ],
      "text/markdown": [
       "\n",
       "A data.frame: 2 × 2\n",
       "\n",
       "| <!--/--> | Disease &lt;chr&gt; | 06Mar - 19Mar 2023 &lt;dbl&gt; |\n",
       "|---|---|---|\n",
       "| 51 | Influenza (laboratory confirmed) |  3730 |\n",
       "| 24 | COVID-19                         | 44791 |\n",
       "\n"
      ],
      "text/plain": [
       "   Disease                          06Mar - 19Mar 2023\n",
       "51 Influenza (laboratory confirmed)  3730             \n",
       "24 COVID-19                         44791             "
      ]
     },
     "metadata": {},
     "output_type": "display_data"
    }
   ],
   "source": [
    "colnames(Mar06_Mar19_2023) <- c(\"Disease\", \"06Mar - 19Mar 2023\")\n",
    "Mar06_Mar19_2023"
   ]
  },
  {
   "cell_type": "code",
   "execution_count": 36,
   "id": "1d2f2277-66c3-4088-b396-8dcbba4f448d",
   "metadata": {},
   "outputs": [
    {
     "data": {
      "text/html": [
       "<table class=\"dataframe\">\n",
       "<caption>A data.frame: 2 × 6</caption>\n",
       "<thead>\n",
       "\t<tr><th></th><th scope=col>Disease</th><th scope=col>09Jan - 22Jan 2023</th><th scope=col>Jan23_Feb05_2023[, 2]</th><th scope=col>Feb06_Feb19_2023[, 2]</th><th scope=col>Feb20_Mar05_2023[, 2]</th><th scope=col>Mar06_Mar19_2023[, 2]</th></tr>\n",
       "\t<tr><th></th><th scope=col>&lt;chr&gt;</th><th scope=col>&lt;dbl&gt;</th><th scope=col>&lt;dbl&gt;</th><th scope=col>&lt;dbl&gt;</th><th scope=col>&lt;dbl&gt;</th><th scope=col>&lt;dbl&gt;</th></tr>\n",
       "</thead>\n",
       "<tbody>\n",
       "\t<tr><th scope=row>51</th><td>Influenza (laboratory confirmed)</td><td> 1872</td><td> 1588</td><td> 2232</td><td> 2692</td><td> 3730</td></tr>\n",
       "\t<tr><th scope=row>24</th><td>COVID-19                        </td><td>56968</td><td>36885</td><td>36323</td><td>35725</td><td>44791</td></tr>\n",
       "</tbody>\n",
       "</table>\n"
      ],
      "text/latex": [
       "A data.frame: 2 × 6\n",
       "\\begin{tabular}{r|llllll}\n",
       "  & Disease & 09Jan - 22Jan 2023 & Jan23\\_Feb05\\_2023{[}, 2{]} & Feb06\\_Feb19\\_2023{[}, 2{]} & Feb20\\_Mar05\\_2023{[}, 2{]} & Mar06\\_Mar19\\_2023{[}, 2{]}\\\\\n",
       "  & <chr> & <dbl> & <dbl> & <dbl> & <dbl> & <dbl>\\\\\n",
       "\\hline\n",
       "\t51 & Influenza (laboratory confirmed) &  1872 &  1588 &  2232 &  2692 &  3730\\\\\n",
       "\t24 & COVID-19                         & 56968 & 36885 & 36323 & 35725 & 44791\\\\\n",
       "\\end{tabular}\n"
      ],
      "text/markdown": [
       "\n",
       "A data.frame: 2 × 6\n",
       "\n",
       "| <!--/--> | Disease &lt;chr&gt; | 09Jan - 22Jan 2023 &lt;dbl&gt; | Jan23_Feb05_2023[, 2] &lt;dbl&gt; | Feb06_Feb19_2023[, 2] &lt;dbl&gt; | Feb20_Mar05_2023[, 2] &lt;dbl&gt; | Mar06_Mar19_2023[, 2] &lt;dbl&gt; |\n",
       "|---|---|---|---|---|---|---|\n",
       "| 51 | Influenza (laboratory confirmed) |  1872 |  1588 |  2232 |  2692 |  3730 |\n",
       "| 24 | COVID-19                         | 56968 | 36885 | 36323 | 35725 | 44791 |\n",
       "\n"
      ],
      "text/plain": [
       "   Disease                          09Jan - 22Jan 2023 Jan23_Feb05_2023[, 2]\n",
       "51 Influenza (laboratory confirmed)  1872               1588                \n",
       "24 COVID-19                         56968              36885                \n",
       "   Feb06_Feb19_2023[, 2] Feb20_Mar05_2023[, 2] Mar06_Mar19_2023[, 2]\n",
       "51  2232                  2692                  3730                \n",
       "24 36323                 35725                 44791                "
      ]
     },
     "metadata": {},
     "output_type": "display_data"
    }
   ],
   "source": [
    "combined_table_2023 <- cbind(Jan09_Jan22_2023, Jan23_Feb05_2023[,2], Feb06_Feb19_2023[,2], Feb20_Mar05_2023[,2], Mar06_Mar19_2023[,2])\n",
    "combined_table_2023"
   ]
  },
  {
   "cell_type": "code",
   "execution_count": 37,
   "id": "c8ddefa0-9189-483b-b951-1c91789565ae",
   "metadata": {},
   "outputs": [
    {
     "data": {
      "text/html": [
       "<table class=\"dataframe\">\n",
       "<caption>A data.frame: 2 × 6</caption>\n",
       "<thead>\n",
       "\t<tr><th></th><th scope=col>Disease</th><th scope=col>09Jan - 22Jan 2023</th><th scope=col>Jan23_Feb05_2023</th><th scope=col>Feb06_Feb19_2023</th><th scope=col>Feb20_Mar05_2023</th><th scope=col>Mar06_Mar19_2023</th></tr>\n",
       "\t<tr><th></th><th scope=col>&lt;chr&gt;</th><th scope=col>&lt;dbl&gt;</th><th scope=col>&lt;dbl&gt;</th><th scope=col>&lt;dbl&gt;</th><th scope=col>&lt;dbl&gt;</th><th scope=col>&lt;dbl&gt;</th></tr>\n",
       "</thead>\n",
       "<tbody>\n",
       "\t<tr><th scope=row>51</th><td>Influenza (laboratory confirmed)</td><td> 1872</td><td> 1588</td><td> 2232</td><td> 2692</td><td> 3730</td></tr>\n",
       "\t<tr><th scope=row>24</th><td>COVID-19                        </td><td>56968</td><td>36885</td><td>36323</td><td>35725</td><td>44791</td></tr>\n",
       "</tbody>\n",
       "</table>\n"
      ],
      "text/latex": [
       "A data.frame: 2 × 6\n",
       "\\begin{tabular}{r|llllll}\n",
       "  & Disease & 09Jan - 22Jan 2023 & Jan23\\_Feb05\\_2023 & Feb06\\_Feb19\\_2023 & Feb20\\_Mar05\\_2023 & Mar06\\_Mar19\\_2023\\\\\n",
       "  & <chr> & <dbl> & <dbl> & <dbl> & <dbl> & <dbl>\\\\\n",
       "\\hline\n",
       "\t51 & Influenza (laboratory confirmed) &  1872 &  1588 &  2232 &  2692 &  3730\\\\\n",
       "\t24 & COVID-19                         & 56968 & 36885 & 36323 & 35725 & 44791\\\\\n",
       "\\end{tabular}\n"
      ],
      "text/markdown": [
       "\n",
       "A data.frame: 2 × 6\n",
       "\n",
       "| <!--/--> | Disease &lt;chr&gt; | 09Jan - 22Jan 2023 &lt;dbl&gt; | Jan23_Feb05_2023 &lt;dbl&gt; | Feb06_Feb19_2023 &lt;dbl&gt; | Feb20_Mar05_2023 &lt;dbl&gt; | Mar06_Mar19_2023 &lt;dbl&gt; |\n",
       "|---|---|---|---|---|---|---|\n",
       "| 51 | Influenza (laboratory confirmed) |  1872 |  1588 |  2232 |  2692 |  3730 |\n",
       "| 24 | COVID-19                         | 56968 | 36885 | 36323 | 35725 | 44791 |\n",
       "\n"
      ],
      "text/plain": [
       "   Disease                          09Jan - 22Jan 2023 Jan23_Feb05_2023\n",
       "51 Influenza (laboratory confirmed)  1872               1588           \n",
       "24 COVID-19                         56968              36885           \n",
       "   Feb06_Feb19_2023 Feb20_Mar05_2023 Mar06_Mar19_2023\n",
       "51  2232             2692             3730           \n",
       "24 36323            35725            44791           "
      ]
     },
     "metadata": {},
     "output_type": "display_data"
    }
   ],
   "source": [
    "colnames(combined_table_2023) <- c(\"Disease\", \"09Jan - 22Jan 2023\", \"Jan23_Feb05_2023\", \"Feb06_Feb19_2023\", \"Feb20_Mar05_2023\", \"Mar06_Mar19_2023\")\n",
    "combined_table_2023"
   ]
  }
 ],
 "metadata": {
  "kernelspec": {
   "display_name": "R (system-wide)",
   "language": "r",
   "name": "ir"
  },
  "language_info": {
   "codemirror_mode": "r",
   "file_extension": ".r",
   "mimetype": "text/x-r-source",
   "name": "R",
   "pygments_lexer": "r",
   "version": "4.2.3"
  }
 },
 "nbformat": 4,
 "nbformat_minor": 5
}

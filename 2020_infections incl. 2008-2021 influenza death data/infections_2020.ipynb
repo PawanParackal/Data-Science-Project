{
 "cells": [
  {
   "cell_type": "code",
   "execution_count": 1,
   "id": "1c3e4803-56d4-4be9-a791-082a240360a2",
   "metadata": {},
   "outputs": [],
   "source": [
    "### Range of Data 1-to-17-january-2020"
   ]
  },
  {
   "cell_type": "code",
   "execution_count": 123,
   "id": "971eeeea-4d28-432a-b870-82e16f62b724",
   "metadata": {},
   "outputs": [
    {
     "data": {
      "text/html": [
       "<table class=\"dataframe\">\n",
       "<caption>A data.frame: 6 × 23</caption>\n",
       "<thead>\n",
       "\t<tr><th></th><th scope=col>ADT.FN01.2020</th><th scope=col>X</th><th scope=col>X.1</th><th scope=col>Notification.received.date</th><th scope=col>X.2</th><th scope=col>X.3</th><th scope=col>X.4</th><th scope=col>X.5</th><th scope=col>X.6</th><th scope=col>X.7</th><th scope=col>⋯</th><th scope=col>X.11</th><th scope=col>X.12</th><th scope=col>X.13</th><th scope=col>X.14</th><th scope=col>X.15</th><th scope=col>X.16</th><th scope=col>X.17</th><th scope=col>X.18</th><th scope=col>X.19</th><th scope=col>X.20</th></tr>\n",
       "\t<tr><th></th><th scope=col>&lt;chr&gt;</th><th scope=col>&lt;chr&gt;</th><th scope=col>&lt;chr&gt;</th><th scope=col>&lt;chr&gt;</th><th scope=col>&lt;chr&gt;</th><th scope=col>&lt;chr&gt;</th><th scope=col>&lt;chr&gt;</th><th scope=col>&lt;chr&gt;</th><th scope=col>&lt;chr&gt;</th><th scope=col>&lt;chr&gt;</th><th scope=col>⋯</th><th scope=col>&lt;chr&gt;</th><th scope=col>&lt;chr&gt;</th><th scope=col>&lt;chr&gt;</th><th scope=col>&lt;chr&gt;</th><th scope=col>&lt;chr&gt;</th><th scope=col>&lt;chr&gt;</th><th scope=col>&lt;chr&gt;</th><th scope=col>&lt;chr&gt;</th><th scope=col>&lt;chr&gt;</th><th scope=col>&lt;chr&gt;</th></tr>\n",
       "</thead>\n",
       "<tbody>\n",
       "\t<tr><th scope=row>1</th><td>                   </td><td>                            </td><td>            </td><td>State or Territory</td><td>     </td><td>     </td><td>    </td><td>     </td><td>     </td><td>     </td><td>⋯</td><td>                               </td><td>                 </td><td>Historical 90 Day Period</td><td>                               </td><td>                               </td><td>                                       </td><td>Historical Yearly Period</td><td>                            </td><td>                             </td><td>                                    </td></tr>\n",
       "\t<tr><th scope=row>2</th><td>Disease group      </td><td>Disease name                </td><td>Disease code</td><td>ACT               </td><td>NSW  </td><td>NT   </td><td>Qld </td><td>SA   </td><td>Tas  </td><td>Vic  </td><td>⋯</td><td>Same reporting period last year</td><td>Current year\n",
       "YTD</td><td>Past Quarter            </td><td>Quarterly rolling \n",
       "5 year mean</td><td>Ratio past quarter/5 year mean*</td><td>Exceeds quarterly rolling mean +2 SD by</td><td>Past Year               </td><td>Yearly rolling \n",
       "5 year mean</td><td>Ratio past  year/5 year mean*</td><td>Exceeds yearly rolling mean +2 SD by</td></tr>\n",
       "\t<tr><th scope=row>3</th><td>                   </td><td>                            </td><td>            </td><td>                  </td><td>     </td><td>     </td><td>    </td><td>     </td><td>     </td><td>     </td><td>⋯</td><td>01/01/2019                     </td><td>01/01/2019       </td><td>20/10/2019              </td><td>                               </td><td>                               </td><td>                                       </td><td>18/01/2019              </td><td>18/01/2014                  </td><td>                             </td><td>                                    </td></tr>\n",
       "\t<tr><th scope=row>4</th><td>                   </td><td>                            </td><td>            </td><td>                  </td><td>     </td><td>     </td><td>    </td><td>     </td><td>     </td><td>     </td><td>⋯</td><td>17/01/2019                     </td><td>17/01/2020       </td><td>17/01/2020              </td><td>                               </td><td>                               </td><td>                                       </td><td>17/01/2020              </td><td>17/01/2019                  </td><td>                             </td><td>                                    </td></tr>\n",
       "\t<tr><th scope=row>5</th><td>Bloodborne diseases</td><td>Hepatitis B (newly acquired)</td><td>039         </td><td> -                </td><td> -   </td><td> -   </td><td> 2  </td><td> -   </td><td> -   </td><td> -   </td><td>⋯</td><td> 10                            </td><td> 2               </td><td> 35                     </td><td> 38.2                          </td><td> 0.9                           </td><td> -                                     </td><td> 158                    </td><td> 159.2                      </td><td> 1.0                         </td><td> -                                  </td></tr>\n",
       "\t<tr><th scope=row>6</th><td>                   </td><td>Hepatitis B (unspecified)   </td><td>052         </td><td> 4                </td><td> 78  </td><td> -   </td><td> 40 </td><td> 1   </td><td> 2   </td><td> 52  </td><td>⋯</td><td> 225                           </td><td> 201             </td><td> 1,172                  </td><td> 1,372.8                       </td><td> 0.9                           </td><td> -                                     </td><td> 5,617                  </td><td> 6,157.0                    </td><td> 0.9                         </td><td> -                                  </td></tr>\n",
       "</tbody>\n",
       "</table>\n"
      ],
      "text/latex": [
       "A data.frame: 6 × 23\n",
       "\\begin{tabular}{r|lllllllllllllllllllll}\n",
       "  & ADT.FN01.2020 & X & X.1 & Notification.received.date & X.2 & X.3 & X.4 & X.5 & X.6 & X.7 & ⋯ & X.11 & X.12 & X.13 & X.14 & X.15 & X.16 & X.17 & X.18 & X.19 & X.20\\\\\n",
       "  & <chr> & <chr> & <chr> & <chr> & <chr> & <chr> & <chr> & <chr> & <chr> & <chr> & ⋯ & <chr> & <chr> & <chr> & <chr> & <chr> & <chr> & <chr> & <chr> & <chr> & <chr>\\\\\n",
       "\\hline\n",
       "\t1 &                     &                              &              & State or Territory &       &       &      &       &       &       & ⋯ &                                 &                   & Historical 90 Day Period &                                 &                                 &                                         & Historical Yearly Period &                              &                               &                                     \\\\\n",
       "\t2 & Disease group       & Disease name                 & Disease code & ACT                & NSW   & NT    & Qld  & SA    & Tas   & Vic   & ⋯ & Same reporting period last year & Current year\n",
       "YTD & Past Quarter             & Quarterly rolling \n",
       "5 year mean & Ratio past quarter/5 year mean* & Exceeds quarterly rolling mean +2 SD by & Past Year                & Yearly rolling \n",
       "5 year mean & Ratio past  year/5 year mean* & Exceeds yearly rolling mean +2 SD by\\\\\n",
       "\t3 &                     &                              &              &                    &       &       &      &       &       &       & ⋯ & 01/01/2019                      & 01/01/2019        & 20/10/2019               &                                 &                                 &                                         & 18/01/2019               & 18/01/2014                   &                               &                                     \\\\\n",
       "\t4 &                     &                              &              &                    &       &       &      &       &       &       & ⋯ & 17/01/2019                      & 17/01/2020        & 17/01/2020               &                                 &                                 &                                         & 17/01/2020               & 17/01/2019                   &                               &                                     \\\\\n",
       "\t5 & Bloodborne diseases & Hepatitis B (newly acquired) & 039          &  -                 &  -    &  -    &  2   &  -    &  -    &  -    & ⋯ &  10                             &  2                &  35                      &  38.2                           &  0.9                            &  -                                      &  158                     &  159.2                       &  1.0                          &  -                                  \\\\\n",
       "\t6 &                     & Hepatitis B (unspecified)    & 052          &  4                 &  78   &  -    &  40  &  1    &  2    &  52   & ⋯ &  225                            &  201              &  1,172                   &  1,372.8                        &  0.9                            &  -                                      &  5,617                   &  6,157.0                     &  0.9                          &  -                                  \\\\\n",
       "\\end{tabular}\n"
      ],
      "text/markdown": [
       "\n",
       "A data.frame: 6 × 23\n",
       "\n",
       "| <!--/--> | ADT.FN01.2020 &lt;chr&gt; | X &lt;chr&gt; | X.1 &lt;chr&gt; | Notification.received.date &lt;chr&gt; | X.2 &lt;chr&gt; | X.3 &lt;chr&gt; | X.4 &lt;chr&gt; | X.5 &lt;chr&gt; | X.6 &lt;chr&gt; | X.7 &lt;chr&gt; | ⋯ ⋯ | X.11 &lt;chr&gt; | X.12 &lt;chr&gt; | X.13 &lt;chr&gt; | X.14 &lt;chr&gt; | X.15 &lt;chr&gt; | X.16 &lt;chr&gt; | X.17 &lt;chr&gt; | X.18 &lt;chr&gt; | X.19 &lt;chr&gt; | X.20 &lt;chr&gt; |\n",
       "|---|---|---|---|---|---|---|---|---|---|---|---|---|---|---|---|---|---|---|---|---|---|\n",
       "| 1 | <!----> | <!----> | <!----> | State or Territory | <!----> | <!----> | <!----> | <!----> | <!----> | <!----> | ⋯ | <!----> | <!----> | Historical 90 Day Period | <!----> | <!----> | <!----> | Historical Yearly Period | <!----> | <!----> | <!----> |\n",
       "| 2 | Disease group       | Disease name                 | Disease code | ACT                | NSW   | NT    | Qld  | SA    | Tas   | Vic   | ⋯ | Same reporting period last year | Current year\n",
       "YTD | Past Quarter             | Quarterly rolling \n",
       "5 year mean | Ratio past quarter/5 year mean* | Exceeds quarterly rolling mean +2 SD by | Past Year                | Yearly rolling \n",
       "5 year mean | Ratio past  year/5 year mean* | Exceeds yearly rolling mean +2 SD by |\n",
       "| 3 | <!----> | <!----> | <!----> | <!----> | <!----> | <!----> | <!----> | <!----> | <!----> | <!----> | ⋯ | 01/01/2019                      | 01/01/2019        | 20/10/2019               | <!----> | <!----> | <!----> | 18/01/2019               | 18/01/2014                   | <!----> | <!----> |\n",
       "| 4 | <!----> | <!----> | <!----> | <!----> | <!----> | <!----> | <!----> | <!----> | <!----> | <!----> | ⋯ | 17/01/2019                      | 17/01/2020        | 17/01/2020               | <!----> | <!----> | <!----> | 17/01/2020               | 17/01/2019                   | <!----> | <!----> |\n",
       "| 5 | Bloodborne diseases | Hepatitis B (newly acquired) | 039          |  -                 |  -    |  -    |  2   |  -    |  -    |  -    | ⋯ |  10                             |  2                |  35                      |  38.2                           |  0.9                            |  -                                      |  158                     |  159.2                       |  1.0                          |  -                                   |\n",
       "| 6 | <!----> | Hepatitis B (unspecified)    | 052          |  4                 |  78   |  -    |  40  |  1    |  2    |  52   | ⋯ |  225                            |  201              |  1,172                   |  1,372.8                        |  0.9                            |  -                                      |  5,617                   |  6,157.0                     |  0.9                          |  -                                   |\n",
       "\n"
      ],
      "text/plain": [
       "  ADT.FN01.2020       X                            X.1         \n",
       "1                                                              \n",
       "2 Disease group       Disease name                 Disease code\n",
       "3                                                              \n",
       "4                                                              \n",
       "5 Bloodborne diseases Hepatitis B (newly acquired) 039         \n",
       "6                     Hepatitis B (unspecified)    052         \n",
       "  Notification.received.date X.2   X.3   X.4  X.5   X.6   X.7   ⋯\n",
       "1 State or Territory                                            ⋯\n",
       "2 ACT                        NSW   NT    Qld  SA    Tas   Vic   ⋯\n",
       "3                                                               ⋯\n",
       "4                                                               ⋯\n",
       "5  -                          -     -     2    -     -     -    ⋯\n",
       "6  4                          78    -     40   1     2     52   ⋯\n",
       "  X.11                            X.12              X.13                    \n",
       "1                                                   Historical 90 Day Period\n",
       "2 Same reporting period last year Current year\\nYTD Past Quarter            \n",
       "3 01/01/2019                      01/01/2019        20/10/2019              \n",
       "4 17/01/2019                      17/01/2020        17/01/2020              \n",
       "5  10                              2                 35                     \n",
       "6  225                             201               1,172                  \n",
       "  X.14                            X.15                           \n",
       "1                                                                \n",
       "2 Quarterly rolling \\n5 year mean Ratio past quarter/5 year mean*\n",
       "3                                                                \n",
       "4                                                                \n",
       "5  38.2                            0.9                           \n",
       "6  1,372.8                         0.9                           \n",
       "  X.16                                    X.17                    \n",
       "1                                         Historical Yearly Period\n",
       "2 Exceeds quarterly rolling mean +2 SD by Past Year               \n",
       "3                                         18/01/2019              \n",
       "4                                         17/01/2020              \n",
       "5  -                                       158                    \n",
       "6  -                                       5,617                  \n",
       "  X.18                         X.19                         \n",
       "1                                                           \n",
       "2 Yearly rolling \\n5 year mean Ratio past  year/5 year mean*\n",
       "3 18/01/2014                                                \n",
       "4 17/01/2019                                                \n",
       "5  159.2                        1.0                         \n",
       "6  6,157.0                      0.9                         \n",
       "  X.20                                \n",
       "1                                     \n",
       "2 Exceeds yearly rolling mean +2 SD by\n",
       "3                                     \n",
       "4                                     \n",
       "5  -                                  \n",
       "6  -                                  "
      ]
     },
     "metadata": {},
     "output_type": "display_data"
    },
    {
     "data": {
      "text/html": [
       "<table class=\"dataframe\">\n",
       "<caption>A data.frame: 6 × 2</caption>\n",
       "<thead>\n",
       "\t<tr><th></th><th scope=col>X</th><th scope=col>X.9</th></tr>\n",
       "\t<tr><th></th><th scope=col>&lt;chr&gt;</th><th scope=col>&lt;chr&gt;</th></tr>\n",
       "</thead>\n",
       "<tbody>\n",
       "\t<tr><th scope=row>1</th><td>                            </td><td>Totals for Australia </td></tr>\n",
       "\t<tr><th scope=row>2</th><td>Disease name                </td><td>This reporting period</td></tr>\n",
       "\t<tr><th scope=row>3</th><td>                            </td><td>01/01/2020           </td></tr>\n",
       "\t<tr><th scope=row>4</th><td>                            </td><td>17/01/2020           </td></tr>\n",
       "\t<tr><th scope=row>5</th><td>Hepatitis B (newly acquired)</td><td> 2                   </td></tr>\n",
       "\t<tr><th scope=row>6</th><td>Hepatitis B (unspecified)   </td><td> 201                 </td></tr>\n",
       "</tbody>\n",
       "</table>\n"
      ],
      "text/latex": [
       "A data.frame: 6 × 2\n",
       "\\begin{tabular}{r|ll}\n",
       "  & X & X.9\\\\\n",
       "  & <chr> & <chr>\\\\\n",
       "\\hline\n",
       "\t1 &                              & Totals for Australia \\\\\n",
       "\t2 & Disease name                 & This reporting period\\\\\n",
       "\t3 &                              & 01/01/2020           \\\\\n",
       "\t4 &                              & 17/01/2020           \\\\\n",
       "\t5 & Hepatitis B (newly acquired) &  2                   \\\\\n",
       "\t6 & Hepatitis B (unspecified)    &  201                 \\\\\n",
       "\\end{tabular}\n"
      ],
      "text/markdown": [
       "\n",
       "A data.frame: 6 × 2\n",
       "\n",
       "| <!--/--> | X &lt;chr&gt; | X.9 &lt;chr&gt; |\n",
       "|---|---|---|\n",
       "| 1 | <!----> | Totals for Australia  |\n",
       "| 2 | Disease name                 | This reporting period |\n",
       "| 3 | <!----> | 01/01/2020            |\n",
       "| 4 | <!----> | 17/01/2020            |\n",
       "| 5 | Hepatitis B (newly acquired) |  2                    |\n",
       "| 6 | Hepatitis B (unspecified)    |  201                  |\n",
       "\n"
      ],
      "text/plain": [
       "  X                            X.9                  \n",
       "1                              Totals for Australia \n",
       "2 Disease name                 This reporting period\n",
       "3                              01/01/2020           \n",
       "4                              17/01/2020           \n",
       "5 Hepatitis B (newly acquired)  2                   \n",
       "6 Hepatitis B (unspecified)     201                 "
      ]
     },
     "metadata": {},
     "output_type": "display_data"
    }
   ],
   "source": [
    "df1Jan = read.csv(\"1-to-17-january-2020-table (2).csv\", header=TRUE, stringsAsFactors=FALSE)\n",
    "head(df1Jan)\n",
    "df1Jan <- df1Jan[, -c(1,3:11, 13:23)]\n",
    "head(df1Jan)"
   ]
  },
  {
   "cell_type": "code",
   "execution_count": 124,
   "id": "9d98f04a-4b28-4530-9492-f67178fe765a",
   "metadata": {},
   "outputs": [
    {
     "data": {
      "text/html": [
       "<table class=\"dataframe\">\n",
       "<caption>A data.frame: 1 × 2</caption>\n",
       "<thead>\n",
       "\t<tr><th></th><th scope=col>X</th><th scope=col>X.9</th></tr>\n",
       "\t<tr><th></th><th scope=col>&lt;chr&gt;</th><th scope=col>&lt;chr&gt;</th></tr>\n",
       "</thead>\n",
       "<tbody>\n",
       "\t<tr><th scope=row>39</th><td>Influenza (laboratory confirmed)</td><td>2829</td></tr>\n",
       "</tbody>\n",
       "</table>\n"
      ],
      "text/latex": [
       "A data.frame: 1 × 2\n",
       "\\begin{tabular}{r|ll}\n",
       "  & X & X.9\\\\\n",
       "  & <chr> & <chr>\\\\\n",
       "\\hline\n",
       "\t39 & Influenza (laboratory confirmed) & 2829\\\\\n",
       "\\end{tabular}\n"
      ],
      "text/markdown": [
       "\n",
       "A data.frame: 1 × 2\n",
       "\n",
       "| <!--/--> | X &lt;chr&gt; | X.9 &lt;chr&gt; |\n",
       "|---|---|---|\n",
       "| 39 | Influenza (laboratory confirmed) | 2829 |\n",
       "\n"
      ],
      "text/plain": [
       "   X                                X.9 \n",
       "39 Influenza (laboratory confirmed) 2829"
      ]
     },
     "metadata": {},
     "output_type": "display_data"
    },
    {
     "data": {
      "text/html": [
       "<table class=\"dataframe\">\n",
       "<caption>A data.frame: 0 × 2</caption>\n",
       "<thead>\n",
       "\t<tr><th scope=col>X</th><th scope=col>X.9</th></tr>\n",
       "\t<tr><th scope=col>&lt;chr&gt;</th><th scope=col>&lt;chr&gt;</th></tr>\n",
       "</thead>\n",
       "<tbody>\n",
       "</tbody>\n",
       "</table>\n"
      ],
      "text/latex": [
       "A data.frame: 0 × 2\n",
       "\\begin{tabular}{ll}\n",
       " X & X.9\\\\\n",
       " <chr> & <chr>\\\\\n",
       "\\hline\n",
       "\\end{tabular}\n"
      ],
      "text/markdown": [
       "\n",
       "A data.frame: 0 × 2\n",
       "\n",
       "| X &lt;chr&gt; | X.9 &lt;chr&gt; |\n",
       "|---|---|\n",
       "\n"
      ],
      "text/plain": [
       "     X X.9"
      ]
     },
     "metadata": {},
     "output_type": "display_data"
    }
   ],
   "source": [
    "#find the rows that contain the words influenza\n",
    "\n",
    "inf1Jan <- df1Jan[grep(\"Influenza\", df1Jan$X),]\n",
    "head(inf1Jan)\n",
    "covid1Jan <-  df1Jan[grep(\"COVID\", df1Jan$X),]\n",
    "covid1Jan ## this show that there are no items under covid which accurate as covid cases had not been detected yet in Aus"
   ]
  },
  {
   "cell_type": "code",
   "execution_count": 126,
   "id": "9e9032c5-9758-4140-87d4-06a9cd466b95",
   "metadata": {},
   "outputs": [
    {
     "data": {
      "text/html": [
       "<table class=\"dataframe\">\n",
       "<caption>A data.frame: 1 × 2</caption>\n",
       "<thead>\n",
       "\t<tr><th></th><th scope=col>X</th><th scope=col>X.9</th></tr>\n",
       "\t<tr><th></th><th scope=col>&lt;chr&gt;</th><th scope=col>&lt;chr&gt;</th></tr>\n",
       "</thead>\n",
       "<tbody>\n",
       "\t<tr><th scope=row>39</th><td>Influenza (laboratory confirmed)</td><td>2829</td></tr>\n",
       "</tbody>\n",
       "</table>\n"
      ],
      "text/latex": [
       "A data.frame: 1 × 2\n",
       "\\begin{tabular}{r|ll}\n",
       "  & X & X.9\\\\\n",
       "  & <chr> & <chr>\\\\\n",
       "\\hline\n",
       "\t39 & Influenza (laboratory confirmed) & 2829\\\\\n",
       "\\end{tabular}\n"
      ],
      "text/markdown": [
       "\n",
       "A data.frame: 1 × 2\n",
       "\n",
       "| <!--/--> | X &lt;chr&gt; | X.9 &lt;chr&gt; |\n",
       "|---|---|---|\n",
       "| 39 | Influenza (laboratory confirmed) | 2829 |\n",
       "\n"
      ],
      "text/plain": [
       "   X                                X.9 \n",
       "39 Influenza (laboratory confirmed) 2829"
      ]
     },
     "metadata": {},
     "output_type": "display_data"
    },
    {
     "data": {
      "text/html": [
       "<table class=\"dataframe\">\n",
       "<caption>A data.frame: 1 × 2</caption>\n",
       "<thead>\n",
       "\t<tr><th></th><th scope=col>Disease</th><th scope=col>01JAN - 17JAN 2020</th></tr>\n",
       "\t<tr><th></th><th scope=col>&lt;chr&gt;</th><th scope=col>&lt;dbl&gt;</th></tr>\n",
       "</thead>\n",
       "<tbody>\n",
       "\t<tr><th scope=row>39</th><td>Influenza (laboratory confirmed)</td><td>2829</td></tr>\n",
       "</tbody>\n",
       "</table>\n"
      ],
      "text/latex": [
       "A data.frame: 1 × 2\n",
       "\\begin{tabular}{r|ll}\n",
       "  & Disease & 01JAN - 17JAN 2020\\\\\n",
       "  & <chr> & <dbl>\\\\\n",
       "\\hline\n",
       "\t39 & Influenza (laboratory confirmed) & 2829\\\\\n",
       "\\end{tabular}\n"
      ],
      "text/markdown": [
       "\n",
       "A data.frame: 1 × 2\n",
       "\n",
       "| <!--/--> | Disease &lt;chr&gt; | 01JAN - 17JAN 2020 &lt;dbl&gt; |\n",
       "|---|---|---|\n",
       "| 39 | Influenza (laboratory confirmed) | 2829 |\n",
       "\n"
      ],
      "text/plain": [
       "   Disease                          01JAN - 17JAN 2020\n",
       "39 Influenza (laboratory confirmed) 2829              "
      ]
     },
     "metadata": {},
     "output_type": "display_data"
    }
   ],
   "source": [
    "Jan1_Jan17_2022 <- inf1Jan\n",
    "Jan1_Jan17_2022\n",
    "Jan1_Jan17_2022[,2] <- as.numeric(Jan1_Jan17_2022[,2])\n",
    "colnames(Jan1_Jan17_2022) <- c(\"Disease\", \"01JAN - 17JAN 2020\")\n",
    "Jan1_Jan17_2022"
   ]
  },
  {
   "cell_type": "code",
   "execution_count": null,
   "id": "2d185cbe-5a76-4b60-8a95-39cc76813c90",
   "metadata": {},
   "outputs": [],
   "source": []
  },
  {
   "cell_type": "code",
   "execution_count": null,
   "id": "a869ff7b-cfe3-44da-a8b2-6cb4bf581182",
   "metadata": {},
   "outputs": [],
   "source": [
    "## Next Dataset from 18-to-31-january-2020-table"
   ]
  },
  {
   "cell_type": "code",
   "execution_count": 146,
   "id": "9c2a8b95-7013-4847-9af1-bca7311b07ef",
   "metadata": {},
   "outputs": [
    {
     "data": {
      "text/html": [
       "<table class=\"dataframe\">\n",
       "<caption>A data.frame: 6 × 23</caption>\n",
       "<thead>\n",
       "\t<tr><th></th><th scope=col>ADT.FN02.2020</th><th scope=col>X</th><th scope=col>X.1</th><th scope=col>Notification.received.date</th><th scope=col>X.2</th><th scope=col>X.3</th><th scope=col>X.4</th><th scope=col>X.5</th><th scope=col>X.6</th><th scope=col>X.7</th><th scope=col>⋯</th><th scope=col>X.11</th><th scope=col>X.12</th><th scope=col>X.13</th><th scope=col>X.14</th><th scope=col>X.15</th><th scope=col>X.16</th><th scope=col>X.17</th><th scope=col>X.18</th><th scope=col>X.19</th><th scope=col>X.20</th></tr>\n",
       "\t<tr><th></th><th scope=col>&lt;chr&gt;</th><th scope=col>&lt;chr&gt;</th><th scope=col>&lt;chr&gt;</th><th scope=col>&lt;chr&gt;</th><th scope=col>&lt;chr&gt;</th><th scope=col>&lt;chr&gt;</th><th scope=col>&lt;chr&gt;</th><th scope=col>&lt;chr&gt;</th><th scope=col>&lt;chr&gt;</th><th scope=col>&lt;chr&gt;</th><th scope=col>⋯</th><th scope=col>&lt;chr&gt;</th><th scope=col>&lt;chr&gt;</th><th scope=col>&lt;chr&gt;</th><th scope=col>&lt;chr&gt;</th><th scope=col>&lt;chr&gt;</th><th scope=col>&lt;chr&gt;</th><th scope=col>&lt;chr&gt;</th><th scope=col>&lt;chr&gt;</th><th scope=col>&lt;chr&gt;</th><th scope=col>&lt;chr&gt;</th></tr>\n",
       "</thead>\n",
       "<tbody>\n",
       "\t<tr><th scope=row>1</th><td>                   </td><td>                            </td><td>            </td><td>State or Territory</td><td>     </td><td>     </td><td>     </td><td>     </td><td>     </td><td>     </td><td>⋯</td><td>                               </td><td>                 </td><td>Historical 90 Day Period</td><td>                               </td><td>                               </td><td>                                       </td><td>Historical Yearly Period</td><td>                            </td><td>                             </td><td>                                    </td></tr>\n",
       "\t<tr><th scope=row>2</th><td>Disease group      </td><td>Disease name                </td><td>Disease code</td><td>ACT               </td><td>NSW  </td><td>NT   </td><td>Qld  </td><td>SA   </td><td>Tas  </td><td>Vic  </td><td>⋯</td><td>Same reporting period last year</td><td>Current year\n",
       "YTD</td><td>Past Quarter            </td><td>Quarterly rolling \n",
       "5 year mean</td><td>Ratio past quarter/5 year mean*</td><td>Exceeds quarterly rolling mean +2 SD by</td><td>Past Year               </td><td>Yearly rolling \n",
       "5 year mean</td><td>Ratio past  year/5 year mean*</td><td>Exceeds yearly rolling mean +2 SD by</td></tr>\n",
       "\t<tr><th scope=row>3</th><td>                   </td><td>                            </td><td>            </td><td>                  </td><td>     </td><td>     </td><td>     </td><td>     </td><td>     </td><td>     </td><td>⋯</td><td>18/01/2019                     </td><td>01/01/2019       </td><td>03/11/2019              </td><td>                               </td><td>                               </td><td>                                       </td><td>01/02/2019              </td><td>01/02/2014                  </td><td>                             </td><td>                                    </td></tr>\n",
       "\t<tr><th scope=row>4</th><td>                   </td><td>                            </td><td>            </td><td>                  </td><td>     </td><td>     </td><td>     </td><td>     </td><td>     </td><td>     </td><td>⋯</td><td>31/01/2019                     </td><td>31/01/2020       </td><td>31/01/2020              </td><td>                               </td><td>                               </td><td>                                       </td><td>31/01/2020              </td><td>31/01/2019                  </td><td>                             </td><td>                                    </td></tr>\n",
       "\t<tr><th scope=row>5</th><td>Bloodborne diseases</td><td>Hepatitis B (newly acquired)</td><td>039         </td><td> -                </td><td> -   </td><td> -   </td><td> -   </td><td> -   </td><td> -   </td><td> -   </td><td>⋯</td><td> 5                             </td><td> 2               </td><td> 31                     </td><td> 37.2                          </td><td> 0.8                           </td><td> -                                     </td><td> 152                    </td><td> 158.6                      </td><td> 1.0                         </td><td> -                                  </td></tr>\n",
       "\t<tr><th scope=row>6</th><td>                   </td><td>Hepatitis B (unspecified)   </td><td>052         </td><td> 5                </td><td> 63  </td><td> -   </td><td> 19  </td><td> 3   </td><td> 2   </td><td> 47  </td><td>⋯</td><td> 209                           </td><td> 382             </td><td> 1,154                  </td><td> 1,340.0                       </td><td> 0.9                           </td><td> -                                     </td><td> 5,591                  </td><td> 6,149.2                    </td><td> 0.9                         </td><td> -                                  </td></tr>\n",
       "</tbody>\n",
       "</table>\n"
      ],
      "text/latex": [
       "A data.frame: 6 × 23\n",
       "\\begin{tabular}{r|lllllllllllllllllllll}\n",
       "  & ADT.FN02.2020 & X & X.1 & Notification.received.date & X.2 & X.3 & X.4 & X.5 & X.6 & X.7 & ⋯ & X.11 & X.12 & X.13 & X.14 & X.15 & X.16 & X.17 & X.18 & X.19 & X.20\\\\\n",
       "  & <chr> & <chr> & <chr> & <chr> & <chr> & <chr> & <chr> & <chr> & <chr> & <chr> & ⋯ & <chr> & <chr> & <chr> & <chr> & <chr> & <chr> & <chr> & <chr> & <chr> & <chr>\\\\\n",
       "\\hline\n",
       "\t1 &                     &                              &              & State or Territory &       &       &       &       &       &       & ⋯ &                                 &                   & Historical 90 Day Period &                                 &                                 &                                         & Historical Yearly Period &                              &                               &                                     \\\\\n",
       "\t2 & Disease group       & Disease name                 & Disease code & ACT                & NSW   & NT    & Qld   & SA    & Tas   & Vic   & ⋯ & Same reporting period last year & Current year\n",
       "YTD & Past Quarter             & Quarterly rolling \n",
       "5 year mean & Ratio past quarter/5 year mean* & Exceeds quarterly rolling mean +2 SD by & Past Year                & Yearly rolling \n",
       "5 year mean & Ratio past  year/5 year mean* & Exceeds yearly rolling mean +2 SD by\\\\\n",
       "\t3 &                     &                              &              &                    &       &       &       &       &       &       & ⋯ & 18/01/2019                      & 01/01/2019        & 03/11/2019               &                                 &                                 &                                         & 01/02/2019               & 01/02/2014                   &                               &                                     \\\\\n",
       "\t4 &                     &                              &              &                    &       &       &       &       &       &       & ⋯ & 31/01/2019                      & 31/01/2020        & 31/01/2020               &                                 &                                 &                                         & 31/01/2020               & 31/01/2019                   &                               &                                     \\\\\n",
       "\t5 & Bloodborne diseases & Hepatitis B (newly acquired) & 039          &  -                 &  -    &  -    &  -    &  -    &  -    &  -    & ⋯ &  5                              &  2                &  31                      &  37.2                           &  0.8                            &  -                                      &  152                     &  158.6                       &  1.0                          &  -                                  \\\\\n",
       "\t6 &                     & Hepatitis B (unspecified)    & 052          &  5                 &  63   &  -    &  19   &  3    &  2    &  47   & ⋯ &  209                            &  382              &  1,154                   &  1,340.0                        &  0.9                            &  -                                      &  5,591                   &  6,149.2                     &  0.9                          &  -                                  \\\\\n",
       "\\end{tabular}\n"
      ],
      "text/markdown": [
       "\n",
       "A data.frame: 6 × 23\n",
       "\n",
       "| <!--/--> | ADT.FN02.2020 &lt;chr&gt; | X &lt;chr&gt; | X.1 &lt;chr&gt; | Notification.received.date &lt;chr&gt; | X.2 &lt;chr&gt; | X.3 &lt;chr&gt; | X.4 &lt;chr&gt; | X.5 &lt;chr&gt; | X.6 &lt;chr&gt; | X.7 &lt;chr&gt; | ⋯ ⋯ | X.11 &lt;chr&gt; | X.12 &lt;chr&gt; | X.13 &lt;chr&gt; | X.14 &lt;chr&gt; | X.15 &lt;chr&gt; | X.16 &lt;chr&gt; | X.17 &lt;chr&gt; | X.18 &lt;chr&gt; | X.19 &lt;chr&gt; | X.20 &lt;chr&gt; |\n",
       "|---|---|---|---|---|---|---|---|---|---|---|---|---|---|---|---|---|---|---|---|---|---|\n",
       "| 1 | <!----> | <!----> | <!----> | State or Territory | <!----> | <!----> | <!----> | <!----> | <!----> | <!----> | ⋯ | <!----> | <!----> | Historical 90 Day Period | <!----> | <!----> | <!----> | Historical Yearly Period | <!----> | <!----> | <!----> |\n",
       "| 2 | Disease group       | Disease name                 | Disease code | ACT                | NSW   | NT    | Qld   | SA    | Tas   | Vic   | ⋯ | Same reporting period last year | Current year\n",
       "YTD | Past Quarter             | Quarterly rolling \n",
       "5 year mean | Ratio past quarter/5 year mean* | Exceeds quarterly rolling mean +2 SD by | Past Year                | Yearly rolling \n",
       "5 year mean | Ratio past  year/5 year mean* | Exceeds yearly rolling mean +2 SD by |\n",
       "| 3 | <!----> | <!----> | <!----> | <!----> | <!----> | <!----> | <!----> | <!----> | <!----> | <!----> | ⋯ | 18/01/2019                      | 01/01/2019        | 03/11/2019               | <!----> | <!----> | <!----> | 01/02/2019               | 01/02/2014                   | <!----> | <!----> |\n",
       "| 4 | <!----> | <!----> | <!----> | <!----> | <!----> | <!----> | <!----> | <!----> | <!----> | <!----> | ⋯ | 31/01/2019                      | 31/01/2020        | 31/01/2020               | <!----> | <!----> | <!----> | 31/01/2020               | 31/01/2019                   | <!----> | <!----> |\n",
       "| 5 | Bloodborne diseases | Hepatitis B (newly acquired) | 039          |  -                 |  -    |  -    |  -    |  -    |  -    |  -    | ⋯ |  5                              |  2                |  31                      |  37.2                           |  0.8                            |  -                                      |  152                     |  158.6                       |  1.0                          |  -                                   |\n",
       "| 6 | <!----> | Hepatitis B (unspecified)    | 052          |  5                 |  63   |  -    |  19   |  3    |  2    |  47   | ⋯ |  209                            |  382              |  1,154                   |  1,340.0                        |  0.9                            |  -                                      |  5,591                   |  6,149.2                     |  0.9                          |  -                                   |\n",
       "\n"
      ],
      "text/plain": [
       "  ADT.FN02.2020       X                            X.1         \n",
       "1                                                              \n",
       "2 Disease group       Disease name                 Disease code\n",
       "3                                                              \n",
       "4                                                              \n",
       "5 Bloodborne diseases Hepatitis B (newly acquired) 039         \n",
       "6                     Hepatitis B (unspecified)    052         \n",
       "  Notification.received.date X.2   X.3   X.4   X.5   X.6   X.7   ⋯\n",
       "1 State or Territory                                             ⋯\n",
       "2 ACT                        NSW   NT    Qld   SA    Tas   Vic   ⋯\n",
       "3                                                                ⋯\n",
       "4                                                                ⋯\n",
       "5  -                          -     -     -     -     -     -    ⋯\n",
       "6  5                          63    -     19    3     2     47   ⋯\n",
       "  X.11                            X.12              X.13                    \n",
       "1                                                   Historical 90 Day Period\n",
       "2 Same reporting period last year Current year\\nYTD Past Quarter            \n",
       "3 18/01/2019                      01/01/2019        03/11/2019              \n",
       "4 31/01/2019                      31/01/2020        31/01/2020              \n",
       "5  5                               2                 31                     \n",
       "6  209                             382               1,154                  \n",
       "  X.14                            X.15                           \n",
       "1                                                                \n",
       "2 Quarterly rolling \\n5 year mean Ratio past quarter/5 year mean*\n",
       "3                                                                \n",
       "4                                                                \n",
       "5  37.2                            0.8                           \n",
       "6  1,340.0                         0.9                           \n",
       "  X.16                                    X.17                    \n",
       "1                                         Historical Yearly Period\n",
       "2 Exceeds quarterly rolling mean +2 SD by Past Year               \n",
       "3                                         01/02/2019              \n",
       "4                                         31/01/2020              \n",
       "5  -                                       152                    \n",
       "6  -                                       5,591                  \n",
       "  X.18                         X.19                         \n",
       "1                                                           \n",
       "2 Yearly rolling \\n5 year mean Ratio past  year/5 year mean*\n",
       "3 01/02/2014                                                \n",
       "4 31/01/2019                                                \n",
       "5  158.6                        1.0                         \n",
       "6  6,149.2                      0.9                         \n",
       "  X.20                                \n",
       "1                                     \n",
       "2 Exceeds yearly rolling mean +2 SD by\n",
       "3                                     \n",
       "4                                     \n",
       "5  -                                  \n",
       "6  -                                  "
      ]
     },
     "metadata": {},
     "output_type": "display_data"
    },
    {
     "data": {
      "text/html": [
       "<table class=\"dataframe\">\n",
       "<caption>A data.frame: 6 × 2</caption>\n",
       "<thead>\n",
       "\t<tr><th></th><th scope=col>X</th><th scope=col>X.9</th></tr>\n",
       "\t<tr><th></th><th scope=col>&lt;chr&gt;</th><th scope=col>&lt;chr&gt;</th></tr>\n",
       "</thead>\n",
       "<tbody>\n",
       "\t<tr><th scope=row>1</th><td>                            </td><td>Totals for Australia </td></tr>\n",
       "\t<tr><th scope=row>2</th><td>Disease name                </td><td>This reporting period</td></tr>\n",
       "\t<tr><th scope=row>3</th><td>                            </td><td>18/01/2020           </td></tr>\n",
       "\t<tr><th scope=row>4</th><td>                            </td><td>31/01/2020           </td></tr>\n",
       "\t<tr><th scope=row>5</th><td>Hepatitis B (newly acquired)</td><td> -                   </td></tr>\n",
       "\t<tr><th scope=row>6</th><td>Hepatitis B (unspecified)   </td><td> 155                 </td></tr>\n",
       "</tbody>\n",
       "</table>\n"
      ],
      "text/latex": [
       "A data.frame: 6 × 2\n",
       "\\begin{tabular}{r|ll}\n",
       "  & X & X.9\\\\\n",
       "  & <chr> & <chr>\\\\\n",
       "\\hline\n",
       "\t1 &                              & Totals for Australia \\\\\n",
       "\t2 & Disease name                 & This reporting period\\\\\n",
       "\t3 &                              & 18/01/2020           \\\\\n",
       "\t4 &                              & 31/01/2020           \\\\\n",
       "\t5 & Hepatitis B (newly acquired) &  -                   \\\\\n",
       "\t6 & Hepatitis B (unspecified)    &  155                 \\\\\n",
       "\\end{tabular}\n"
      ],
      "text/markdown": [
       "\n",
       "A data.frame: 6 × 2\n",
       "\n",
       "| <!--/--> | X &lt;chr&gt; | X.9 &lt;chr&gt; |\n",
       "|---|---|---|\n",
       "| 1 | <!----> | Totals for Australia  |\n",
       "| 2 | Disease name                 | This reporting period |\n",
       "| 3 | <!----> | 18/01/2020            |\n",
       "| 4 | <!----> | 31/01/2020            |\n",
       "| 5 | Hepatitis B (newly acquired) |  -                    |\n",
       "| 6 | Hepatitis B (unspecified)    |  155                  |\n",
       "\n"
      ],
      "text/plain": [
       "  X                            X.9                  \n",
       "1                              Totals for Australia \n",
       "2 Disease name                 This reporting period\n",
       "3                              18/01/2020           \n",
       "4                              31/01/2020           \n",
       "5 Hepatitis B (newly acquired)  -                   \n",
       "6 Hepatitis B (unspecified)     155                 "
      ]
     },
     "metadata": {},
     "output_type": "display_data"
    }
   ],
   "source": [
    "df = read.csv(\"18-to-31-january-2020-table.csv\", header=TRUE, stringsAsFactors=FALSE)\n",
    "head(df)\n",
    "df <- df[, -c(1,3:11, 13:23)]\n",
    "head(df)"
   ]
  },
  {
   "cell_type": "code",
   "execution_count": 147,
   "id": "2fd76f74-cd2b-4fd1-9b6e-3ff7de15948d",
   "metadata": {},
   "outputs": [
    {
     "data": {
      "text/html": [
       "<table class=\"dataframe\">\n",
       "<caption>A data.frame: 1 × 2</caption>\n",
       "<thead>\n",
       "\t<tr><th></th><th scope=col>X</th><th scope=col>X.9</th></tr>\n",
       "\t<tr><th></th><th scope=col>&lt;chr&gt;</th><th scope=col>&lt;chr&gt;</th></tr>\n",
       "</thead>\n",
       "<tbody>\n",
       "\t<tr><th scope=row>39</th><td>Influenza (laboratory confirmed)</td><td>2465</td></tr>\n",
       "</tbody>\n",
       "</table>\n"
      ],
      "text/latex": [
       "A data.frame: 1 × 2\n",
       "\\begin{tabular}{r|ll}\n",
       "  & X & X.9\\\\\n",
       "  & <chr> & <chr>\\\\\n",
       "\\hline\n",
       "\t39 & Influenza (laboratory confirmed) & 2465\\\\\n",
       "\\end{tabular}\n"
      ],
      "text/markdown": [
       "\n",
       "A data.frame: 1 × 2\n",
       "\n",
       "| <!--/--> | X &lt;chr&gt; | X.9 &lt;chr&gt; |\n",
       "|---|---|---|\n",
       "| 39 | Influenza (laboratory confirmed) | 2465 |\n",
       "\n"
      ],
      "text/plain": [
       "   X                                X.9 \n",
       "39 Influenza (laboratory confirmed) 2465"
      ]
     },
     "metadata": {},
     "output_type": "display_data"
    },
    {
     "data": {
      "text/html": [
       "<table class=\"dataframe\">\n",
       "<caption>A data.frame: 0 × 2</caption>\n",
       "<thead>\n",
       "\t<tr><th scope=col>X</th><th scope=col>X.9</th></tr>\n",
       "\t<tr><th scope=col>&lt;chr&gt;</th><th scope=col>&lt;chr&gt;</th></tr>\n",
       "</thead>\n",
       "<tbody>\n",
       "</tbody>\n",
       "</table>\n"
      ],
      "text/latex": [
       "A data.frame: 0 × 2\n",
       "\\begin{tabular}{ll}\n",
       " X & X.9\\\\\n",
       " <chr> & <chr>\\\\\n",
       "\\hline\n",
       "\\end{tabular}\n"
      ],
      "text/markdown": [
       "\n",
       "A data.frame: 0 × 2\n",
       "\n",
       "| X &lt;chr&gt; | X.9 &lt;chr&gt; |\n",
       "|---|---|\n",
       "\n"
      ],
      "text/plain": [
       "     X X.9"
      ]
     },
     "metadata": {},
     "output_type": "display_data"
    },
    {
     "data": {
      "text/html": [
       "<table class=\"dataframe\">\n",
       "<caption>A data.frame: 1 × 2</caption>\n",
       "<thead>\n",
       "\t<tr><th></th><th scope=col>X</th><th scope=col>X.9</th></tr>\n",
       "\t<tr><th></th><th scope=col>&lt;chr&gt;</th><th scope=col>&lt;chr&gt;</th></tr>\n",
       "</thead>\n",
       "<tbody>\n",
       "\t<tr><th scope=row>39</th><td>Influenza (laboratory confirmed)</td><td>2465</td></tr>\n",
       "</tbody>\n",
       "</table>\n"
      ],
      "text/latex": [
       "A data.frame: 1 × 2\n",
       "\\begin{tabular}{r|ll}\n",
       "  & X & X.9\\\\\n",
       "  & <chr> & <chr>\\\\\n",
       "\\hline\n",
       "\t39 & Influenza (laboratory confirmed) & 2465\\\\\n",
       "\\end{tabular}\n"
      ],
      "text/markdown": [
       "\n",
       "A data.frame: 1 × 2\n",
       "\n",
       "| <!--/--> | X &lt;chr&gt; | X.9 &lt;chr&gt; |\n",
       "|---|---|---|\n",
       "| 39 | Influenza (laboratory confirmed) | 2465 |\n",
       "\n"
      ],
      "text/plain": [
       "   X                                X.9 \n",
       "39 Influenza (laboratory confirmed) 2465"
      ]
     },
     "metadata": {},
     "output_type": "display_data"
    },
    {
     "data": {
      "text/html": [
       "<table class=\"dataframe\">\n",
       "<caption>A data.frame: 1 × 2</caption>\n",
       "<thead>\n",
       "\t<tr><th></th><th scope=col>Disease</th><th scope=col>18JAN - 31JAN 2020</th></tr>\n",
       "\t<tr><th></th><th scope=col>&lt;chr&gt;</th><th scope=col>&lt;dbl&gt;</th></tr>\n",
       "</thead>\n",
       "<tbody>\n",
       "\t<tr><th scope=row>39</th><td>Influenza (laboratory confirmed)</td><td>2465</td></tr>\n",
       "</tbody>\n",
       "</table>\n"
      ],
      "text/latex": [
       "A data.frame: 1 × 2\n",
       "\\begin{tabular}{r|ll}\n",
       "  & Disease & 18JAN - 31JAN 2020\\\\\n",
       "  & <chr> & <dbl>\\\\\n",
       "\\hline\n",
       "\t39 & Influenza (laboratory confirmed) & 2465\\\\\n",
       "\\end{tabular}\n"
      ],
      "text/markdown": [
       "\n",
       "A data.frame: 1 × 2\n",
       "\n",
       "| <!--/--> | Disease &lt;chr&gt; | 18JAN - 31JAN 2020 &lt;dbl&gt; |\n",
       "|---|---|---|\n",
       "| 39 | Influenza (laboratory confirmed) | 2465 |\n",
       "\n"
      ],
      "text/plain": [
       "   Disease                          18JAN - 31JAN 2020\n",
       "39 Influenza (laboratory confirmed) 2465              "
      ]
     },
     "metadata": {},
     "output_type": "display_data"
    }
   ],
   "source": [
    "#find the rows that contain the words influenza\n",
    "\n",
    "inf <- df[grep(\"Influenza\", df$X),]\n",
    "head(inf)\n",
    "covid <-  df[grep(\"COVID\", df$X),]\n",
    "covid ## this show that there are no items under covid which accurate as covid cases had not been detected yet in Aus\n",
    "JAN18_JAN31 <- inf\n",
    "JAN18_JAN31\n",
    "JAN18_JAN31[,2] <- as.numeric(JAN18_JAN31[,2])\n",
    "colnames(JAN18_JAN31) <- c(\"Disease\", \"18JAN - 31JAN 2020\")\n",
    "JAN18_JAN31"
   ]
  },
  {
   "cell_type": "code",
   "execution_count": null,
   "id": "597f39e2-845e-42a8-9d4a-0c71f9c5eb1b",
   "metadata": {},
   "outputs": [],
   "source": []
  },
  {
   "cell_type": "code",
   "execution_count": 148,
   "id": "93a17905-6fe3-4599-83ec-6b0b50011019",
   "metadata": {},
   "outputs": [],
   "source": [
    "##Next dataset 1-to-14-february-2020-table"
   ]
  },
  {
   "cell_type": "code",
   "execution_count": 149,
   "id": "7f1345f9-e3b4-4b6f-97c9-7305b265ef6a",
   "metadata": {},
   "outputs": [
    {
     "data": {
      "text/html": [
       "<table class=\"dataframe\">\n",
       "<caption>A data.frame: 6 × 23</caption>\n",
       "<thead>\n",
       "\t<tr><th></th><th scope=col>ADT.FN03.2020</th><th scope=col>X</th><th scope=col>X.1</th><th scope=col>Notification.received.date</th><th scope=col>X.2</th><th scope=col>X.3</th><th scope=col>X.4</th><th scope=col>X.5</th><th scope=col>X.6</th><th scope=col>X.7</th><th scope=col>⋯</th><th scope=col>X.11</th><th scope=col>X.12</th><th scope=col>X.13</th><th scope=col>X.14</th><th scope=col>X.15</th><th scope=col>X.16</th><th scope=col>X.17</th><th scope=col>X.18</th><th scope=col>X.19</th><th scope=col>X.20</th></tr>\n",
       "\t<tr><th></th><th scope=col>&lt;chr&gt;</th><th scope=col>&lt;chr&gt;</th><th scope=col>&lt;chr&gt;</th><th scope=col>&lt;chr&gt;</th><th scope=col>&lt;chr&gt;</th><th scope=col>&lt;chr&gt;</th><th scope=col>&lt;chr&gt;</th><th scope=col>&lt;chr&gt;</th><th scope=col>&lt;chr&gt;</th><th scope=col>&lt;chr&gt;</th><th scope=col>⋯</th><th scope=col>&lt;chr&gt;</th><th scope=col>&lt;chr&gt;</th><th scope=col>&lt;chr&gt;</th><th scope=col>&lt;chr&gt;</th><th scope=col>&lt;chr&gt;</th><th scope=col>&lt;chr&gt;</th><th scope=col>&lt;chr&gt;</th><th scope=col>&lt;chr&gt;</th><th scope=col>&lt;chr&gt;</th><th scope=col>&lt;chr&gt;</th></tr>\n",
       "</thead>\n",
       "<tbody>\n",
       "\t<tr><th scope=row>1</th><td>                   </td><td>                            </td><td>            </td><td>State or Territory</td><td>     </td><td>     </td><td>    </td><td>     </td><td>     </td><td>     </td><td>⋯</td><td>                               </td><td>                 </td><td>Historical 90 Day Period</td><td>                               </td><td>                               </td><td>                                       </td><td>Historical Yearly Period</td><td>                            </td><td>                             </td><td>                                    </td></tr>\n",
       "\t<tr><th scope=row>2</th><td>Disease group      </td><td>Disease name                </td><td>Disease code</td><td>ACT               </td><td>NSW  </td><td>NT   </td><td>Qld </td><td>SA   </td><td>Tas  </td><td>Vic  </td><td>⋯</td><td>Same reporting period last year</td><td>Current year\n",
       "YTD</td><td>Past Quarter            </td><td>Quarterly rolling \n",
       "5 year mean</td><td>Ratio past quarter/5 year mean*</td><td>Exceeds quarterly rolling mean +2 SD by</td><td>Past Year               </td><td>Yearly rolling \n",
       "5 year mean</td><td>Ratio past  year/5 year mean*</td><td>Exceeds yearly rolling mean +2 SD by</td></tr>\n",
       "\t<tr><th scope=row>3</th><td>                   </td><td>                            </td><td>            </td><td>                  </td><td>     </td><td>     </td><td>    </td><td>     </td><td>     </td><td>     </td><td>⋯</td><td>01/02/2019                     </td><td>01/01/2019       </td><td>17/11/2019              </td><td>                               </td><td>                               </td><td>                                       </td><td>15/02/2019              </td><td>15/02/2014                  </td><td>                             </td><td>                                    </td></tr>\n",
       "\t<tr><th scope=row>4</th><td>                   </td><td>                            </td><td>            </td><td>                  </td><td>     </td><td>     </td><td>    </td><td>     </td><td>     </td><td>     </td><td>⋯</td><td>14/02/2019                     </td><td>14/02/2020       </td><td>14/02/2020              </td><td>                               </td><td>                               </td><td>                                       </td><td>14/02/2020              </td><td>14/02/2019                  </td><td>                             </td><td>                                    </td></tr>\n",
       "\t<tr><th scope=row>5</th><td>Bloodborne diseases</td><td>Hepatitis B (newly acquired)</td><td>039         </td><td> -                </td><td> -   </td><td> -   </td><td> 2  </td><td> -   </td><td> -   </td><td> -   </td><td>⋯</td><td> 9                             </td><td> 6               </td><td> 26                     </td><td> 38.2                          </td><td> 0.7                           </td><td> -                                     </td><td> 145                    </td><td> 158.4                      </td><td> 0.9                         </td><td> -                                  </td></tr>\n",
       "\t<tr><th scope=row>6</th><td>                   </td><td>Hepatitis B (unspecified)   </td><td>052         </td><td> 3                </td><td> 68  </td><td> -   </td><td> 44 </td><td> 2   </td><td> 2   </td><td> 71  </td><td>⋯</td><td> 238                           </td><td> 615             </td><td> 1,217                  </td><td> 1,353.4                       </td><td> 0.9                           </td><td> -                                     </td><td> 5,637                  </td><td> 6,141.8                    </td><td> 0.9                         </td><td> -                                  </td></tr>\n",
       "</tbody>\n",
       "</table>\n"
      ],
      "text/latex": [
       "A data.frame: 6 × 23\n",
       "\\begin{tabular}{r|lllllllllllllllllllll}\n",
       "  & ADT.FN03.2020 & X & X.1 & Notification.received.date & X.2 & X.3 & X.4 & X.5 & X.6 & X.7 & ⋯ & X.11 & X.12 & X.13 & X.14 & X.15 & X.16 & X.17 & X.18 & X.19 & X.20\\\\\n",
       "  & <chr> & <chr> & <chr> & <chr> & <chr> & <chr> & <chr> & <chr> & <chr> & <chr> & ⋯ & <chr> & <chr> & <chr> & <chr> & <chr> & <chr> & <chr> & <chr> & <chr> & <chr>\\\\\n",
       "\\hline\n",
       "\t1 &                     &                              &              & State or Territory &       &       &      &       &       &       & ⋯ &                                 &                   & Historical 90 Day Period &                                 &                                 &                                         & Historical Yearly Period &                              &                               &                                     \\\\\n",
       "\t2 & Disease group       & Disease name                 & Disease code & ACT                & NSW   & NT    & Qld  & SA    & Tas   & Vic   & ⋯ & Same reporting period last year & Current year\n",
       "YTD & Past Quarter             & Quarterly rolling \n",
       "5 year mean & Ratio past quarter/5 year mean* & Exceeds quarterly rolling mean +2 SD by & Past Year                & Yearly rolling \n",
       "5 year mean & Ratio past  year/5 year mean* & Exceeds yearly rolling mean +2 SD by\\\\\n",
       "\t3 &                     &                              &              &                    &       &       &      &       &       &       & ⋯ & 01/02/2019                      & 01/01/2019        & 17/11/2019               &                                 &                                 &                                         & 15/02/2019               & 15/02/2014                   &                               &                                     \\\\\n",
       "\t4 &                     &                              &              &                    &       &       &      &       &       &       & ⋯ & 14/02/2019                      & 14/02/2020        & 14/02/2020               &                                 &                                 &                                         & 14/02/2020               & 14/02/2019                   &                               &                                     \\\\\n",
       "\t5 & Bloodborne diseases & Hepatitis B (newly acquired) & 039          &  -                 &  -    &  -    &  2   &  -    &  -    &  -    & ⋯ &  9                              &  6                &  26                      &  38.2                           &  0.7                            &  -                                      &  145                     &  158.4                       &  0.9                          &  -                                  \\\\\n",
       "\t6 &                     & Hepatitis B (unspecified)    & 052          &  3                 &  68   &  -    &  44  &  2    &  2    &  71   & ⋯ &  238                            &  615              &  1,217                   &  1,353.4                        &  0.9                            &  -                                      &  5,637                   &  6,141.8                     &  0.9                          &  -                                  \\\\\n",
       "\\end{tabular}\n"
      ],
      "text/markdown": [
       "\n",
       "A data.frame: 6 × 23\n",
       "\n",
       "| <!--/--> | ADT.FN03.2020 &lt;chr&gt; | X &lt;chr&gt; | X.1 &lt;chr&gt; | Notification.received.date &lt;chr&gt; | X.2 &lt;chr&gt; | X.3 &lt;chr&gt; | X.4 &lt;chr&gt; | X.5 &lt;chr&gt; | X.6 &lt;chr&gt; | X.7 &lt;chr&gt; | ⋯ ⋯ | X.11 &lt;chr&gt; | X.12 &lt;chr&gt; | X.13 &lt;chr&gt; | X.14 &lt;chr&gt; | X.15 &lt;chr&gt; | X.16 &lt;chr&gt; | X.17 &lt;chr&gt; | X.18 &lt;chr&gt; | X.19 &lt;chr&gt; | X.20 &lt;chr&gt; |\n",
       "|---|---|---|---|---|---|---|---|---|---|---|---|---|---|---|---|---|---|---|---|---|---|\n",
       "| 1 | <!----> | <!----> | <!----> | State or Territory | <!----> | <!----> | <!----> | <!----> | <!----> | <!----> | ⋯ | <!----> | <!----> | Historical 90 Day Period | <!----> | <!----> | <!----> | Historical Yearly Period | <!----> | <!----> | <!----> |\n",
       "| 2 | Disease group       | Disease name                 | Disease code | ACT                | NSW   | NT    | Qld  | SA    | Tas   | Vic   | ⋯ | Same reporting period last year | Current year\n",
       "YTD | Past Quarter             | Quarterly rolling \n",
       "5 year mean | Ratio past quarter/5 year mean* | Exceeds quarterly rolling mean +2 SD by | Past Year                | Yearly rolling \n",
       "5 year mean | Ratio past  year/5 year mean* | Exceeds yearly rolling mean +2 SD by |\n",
       "| 3 | <!----> | <!----> | <!----> | <!----> | <!----> | <!----> | <!----> | <!----> | <!----> | <!----> | ⋯ | 01/02/2019                      | 01/01/2019        | 17/11/2019               | <!----> | <!----> | <!----> | 15/02/2019               | 15/02/2014                   | <!----> | <!----> |\n",
       "| 4 | <!----> | <!----> | <!----> | <!----> | <!----> | <!----> | <!----> | <!----> | <!----> | <!----> | ⋯ | 14/02/2019                      | 14/02/2020        | 14/02/2020               | <!----> | <!----> | <!----> | 14/02/2020               | 14/02/2019                   | <!----> | <!----> |\n",
       "| 5 | Bloodborne diseases | Hepatitis B (newly acquired) | 039          |  -                 |  -    |  -    |  2   |  -    |  -    |  -    | ⋯ |  9                              |  6                |  26                      |  38.2                           |  0.7                            |  -                                      |  145                     |  158.4                       |  0.9                          |  -                                   |\n",
       "| 6 | <!----> | Hepatitis B (unspecified)    | 052          |  3                 |  68   |  -    |  44  |  2    |  2    |  71   | ⋯ |  238                            |  615              |  1,217                   |  1,353.4                        |  0.9                            |  -                                      |  5,637                   |  6,141.8                     |  0.9                          |  -                                   |\n",
       "\n"
      ],
      "text/plain": [
       "  ADT.FN03.2020       X                            X.1         \n",
       "1                                                              \n",
       "2 Disease group       Disease name                 Disease code\n",
       "3                                                              \n",
       "4                                                              \n",
       "5 Bloodborne diseases Hepatitis B (newly acquired) 039         \n",
       "6                     Hepatitis B (unspecified)    052         \n",
       "  Notification.received.date X.2   X.3   X.4  X.5   X.6   X.7   ⋯\n",
       "1 State or Territory                                            ⋯\n",
       "2 ACT                        NSW   NT    Qld  SA    Tas   Vic   ⋯\n",
       "3                                                               ⋯\n",
       "4                                                               ⋯\n",
       "5  -                          -     -     2    -     -     -    ⋯\n",
       "6  3                          68    -     44   2     2     71   ⋯\n",
       "  X.11                            X.12              X.13                    \n",
       "1                                                   Historical 90 Day Period\n",
       "2 Same reporting period last year Current year\\nYTD Past Quarter            \n",
       "3 01/02/2019                      01/01/2019        17/11/2019              \n",
       "4 14/02/2019                      14/02/2020        14/02/2020              \n",
       "5  9                               6                 26                     \n",
       "6  238                             615               1,217                  \n",
       "  X.14                            X.15                           \n",
       "1                                                                \n",
       "2 Quarterly rolling \\n5 year mean Ratio past quarter/5 year mean*\n",
       "3                                                                \n",
       "4                                                                \n",
       "5  38.2                            0.7                           \n",
       "6  1,353.4                         0.9                           \n",
       "  X.16                                    X.17                    \n",
       "1                                         Historical Yearly Period\n",
       "2 Exceeds quarterly rolling mean +2 SD by Past Year               \n",
       "3                                         15/02/2019              \n",
       "4                                         14/02/2020              \n",
       "5  -                                       145                    \n",
       "6  -                                       5,637                  \n",
       "  X.18                         X.19                         \n",
       "1                                                           \n",
       "2 Yearly rolling \\n5 year mean Ratio past  year/5 year mean*\n",
       "3 15/02/2014                                                \n",
       "4 14/02/2019                                                \n",
       "5  158.4                        0.9                         \n",
       "6  6,141.8                      0.9                         \n",
       "  X.20                                \n",
       "1                                     \n",
       "2 Exceeds yearly rolling mean +2 SD by\n",
       "3                                     \n",
       "4                                     \n",
       "5  -                                  \n",
       "6  -                                  "
      ]
     },
     "metadata": {},
     "output_type": "display_data"
    },
    {
     "data": {
      "text/html": [
       "<table class=\"dataframe\">\n",
       "<caption>A data.frame: 6 × 2</caption>\n",
       "<thead>\n",
       "\t<tr><th></th><th scope=col>X</th><th scope=col>X.9</th></tr>\n",
       "\t<tr><th></th><th scope=col>&lt;chr&gt;</th><th scope=col>&lt;chr&gt;</th></tr>\n",
       "</thead>\n",
       "<tbody>\n",
       "\t<tr><th scope=row>1</th><td>                            </td><td>Totals for Australia </td></tr>\n",
       "\t<tr><th scope=row>2</th><td>Disease name                </td><td>This reporting period</td></tr>\n",
       "\t<tr><th scope=row>3</th><td>                            </td><td>01/02/2020           </td></tr>\n",
       "\t<tr><th scope=row>4</th><td>                            </td><td>14/02/2020           </td></tr>\n",
       "\t<tr><th scope=row>5</th><td>Hepatitis B (newly acquired)</td><td> 2                   </td></tr>\n",
       "\t<tr><th scope=row>6</th><td>Hepatitis B (unspecified)   </td><td> 210                 </td></tr>\n",
       "</tbody>\n",
       "</table>\n"
      ],
      "text/latex": [
       "A data.frame: 6 × 2\n",
       "\\begin{tabular}{r|ll}\n",
       "  & X & X.9\\\\\n",
       "  & <chr> & <chr>\\\\\n",
       "\\hline\n",
       "\t1 &                              & Totals for Australia \\\\\n",
       "\t2 & Disease name                 & This reporting period\\\\\n",
       "\t3 &                              & 01/02/2020           \\\\\n",
       "\t4 &                              & 14/02/2020           \\\\\n",
       "\t5 & Hepatitis B (newly acquired) &  2                   \\\\\n",
       "\t6 & Hepatitis B (unspecified)    &  210                 \\\\\n",
       "\\end{tabular}\n"
      ],
      "text/markdown": [
       "\n",
       "A data.frame: 6 × 2\n",
       "\n",
       "| <!--/--> | X &lt;chr&gt; | X.9 &lt;chr&gt; |\n",
       "|---|---|---|\n",
       "| 1 | <!----> | Totals for Australia  |\n",
       "| 2 | Disease name                 | This reporting period |\n",
       "| 3 | <!----> | 01/02/2020            |\n",
       "| 4 | <!----> | 14/02/2020            |\n",
       "| 5 | Hepatitis B (newly acquired) |  2                    |\n",
       "| 6 | Hepatitis B (unspecified)    |  210                  |\n",
       "\n"
      ],
      "text/plain": [
       "  X                            X.9                  \n",
       "1                              Totals for Australia \n",
       "2 Disease name                 This reporting period\n",
       "3                              01/02/2020           \n",
       "4                              14/02/2020           \n",
       "5 Hepatitis B (newly acquired)  2                   \n",
       "6 Hepatitis B (unspecified)     210                 "
      ]
     },
     "metadata": {},
     "output_type": "display_data"
    }
   ],
   "source": [
    "df = read.csv(\"1-to-14-february-2020-table.csv\", header=TRUE, stringsAsFactors=FALSE)\n",
    "head(df)\n",
    "df <- df[, -c(1,3:11, 13:23)]\n",
    "head(df)"
   ]
  },
  {
   "cell_type": "code",
   "execution_count": 150,
   "id": "c6cd7024-3abc-4af6-b81b-966640878c21",
   "metadata": {},
   "outputs": [
    {
     "data": {
      "text/html": [
       "<table class=\"dataframe\">\n",
       "<caption>A data.frame: 1 × 2</caption>\n",
       "<thead>\n",
       "\t<tr><th></th><th scope=col>X</th><th scope=col>X.9</th></tr>\n",
       "\t<tr><th></th><th scope=col>&lt;chr&gt;</th><th scope=col>&lt;chr&gt;</th></tr>\n",
       "</thead>\n",
       "<tbody>\n",
       "\t<tr><th scope=row>40</th><td>Influenza (laboratory confirmed)</td><td>2862</td></tr>\n",
       "</tbody>\n",
       "</table>\n"
      ],
      "text/latex": [
       "A data.frame: 1 × 2\n",
       "\\begin{tabular}{r|ll}\n",
       "  & X & X.9\\\\\n",
       "  & <chr> & <chr>\\\\\n",
       "\\hline\n",
       "\t40 & Influenza (laboratory confirmed) & 2862\\\\\n",
       "\\end{tabular}\n"
      ],
      "text/markdown": [
       "\n",
       "A data.frame: 1 × 2\n",
       "\n",
       "| <!--/--> | X &lt;chr&gt; | X.9 &lt;chr&gt; |\n",
       "|---|---|---|\n",
       "| 40 | Influenza (laboratory confirmed) | 2862 |\n",
       "\n"
      ],
      "text/plain": [
       "   X                                X.9 \n",
       "40 Influenza (laboratory confirmed) 2862"
      ]
     },
     "metadata": {},
     "output_type": "display_data"
    },
    {
     "data": {
      "text/html": [
       "<table class=\"dataframe\">\n",
       "<caption>A data.frame: 1 × 2</caption>\n",
       "<thead>\n",
       "\t<tr><th></th><th scope=col>X</th><th scope=col>X.9</th></tr>\n",
       "\t<tr><th></th><th scope=col>&lt;chr&gt;</th><th scope=col>&lt;chr&gt;</th></tr>\n",
       "</thead>\n",
       "<tbody>\n",
       "\t<tr><th scope=row>23</th><td>COVID-19</td><td> 3 </td></tr>\n",
       "</tbody>\n",
       "</table>\n"
      ],
      "text/latex": [
       "A data.frame: 1 × 2\n",
       "\\begin{tabular}{r|ll}\n",
       "  & X & X.9\\\\\n",
       "  & <chr> & <chr>\\\\\n",
       "\\hline\n",
       "\t23 & COVID-19 &  3 \\\\\n",
       "\\end{tabular}\n"
      ],
      "text/markdown": [
       "\n",
       "A data.frame: 1 × 2\n",
       "\n",
       "| <!--/--> | X &lt;chr&gt; | X.9 &lt;chr&gt; |\n",
       "|---|---|---|\n",
       "| 23 | COVID-19 |  3  |\n",
       "\n"
      ],
      "text/plain": [
       "   X        X.9\n",
       "23 COVID-19  3 "
      ]
     },
     "metadata": {},
     "output_type": "display_data"
    },
    {
     "data": {
      "text/html": [
       "<table class=\"dataframe\">\n",
       "<caption>A data.frame: 2 × 2</caption>\n",
       "<thead>\n",
       "\t<tr><th></th><th scope=col>X</th><th scope=col>X.9</th></tr>\n",
       "\t<tr><th></th><th scope=col>&lt;chr&gt;</th><th scope=col>&lt;chr&gt;</th></tr>\n",
       "</thead>\n",
       "<tbody>\n",
       "\t<tr><th scope=row>40</th><td>Influenza (laboratory confirmed)</td><td>2862</td></tr>\n",
       "\t<tr><th scope=row>23</th><td>COVID-19                        </td><td> 3  </td></tr>\n",
       "</tbody>\n",
       "</table>\n"
      ],
      "text/latex": [
       "A data.frame: 2 × 2\n",
       "\\begin{tabular}{r|ll}\n",
       "  & X & X.9\\\\\n",
       "  & <chr> & <chr>\\\\\n",
       "\\hline\n",
       "\t40 & Influenza (laboratory confirmed) & 2862\\\\\n",
       "\t23 & COVID-19                         &  3  \\\\\n",
       "\\end{tabular}\n"
      ],
      "text/markdown": [
       "\n",
       "A data.frame: 2 × 2\n",
       "\n",
       "| <!--/--> | X &lt;chr&gt; | X.9 &lt;chr&gt; |\n",
       "|---|---|---|\n",
       "| 40 | Influenza (laboratory confirmed) | 2862 |\n",
       "| 23 | COVID-19                         |  3   |\n",
       "\n"
      ],
      "text/plain": [
       "   X                                X.9 \n",
       "40 Influenza (laboratory confirmed) 2862\n",
       "23 COVID-19                          3  "
      ]
     },
     "metadata": {},
     "output_type": "display_data"
    },
    {
     "data": {
      "text/html": [
       "<table class=\"dataframe\">\n",
       "<caption>A data.frame: 2 × 2</caption>\n",
       "<thead>\n",
       "\t<tr><th></th><th scope=col>Disease</th><th scope=col>01FEB - 14FEB 2020</th></tr>\n",
       "\t<tr><th></th><th scope=col>&lt;chr&gt;</th><th scope=col>&lt;dbl&gt;</th></tr>\n",
       "</thead>\n",
       "<tbody>\n",
       "\t<tr><th scope=row>40</th><td>Influenza (laboratory confirmed)</td><td>2862</td></tr>\n",
       "\t<tr><th scope=row>23</th><td>COVID-19                        </td><td>   3</td></tr>\n",
       "</tbody>\n",
       "</table>\n"
      ],
      "text/latex": [
       "A data.frame: 2 × 2\n",
       "\\begin{tabular}{r|ll}\n",
       "  & Disease & 01FEB - 14FEB 2020\\\\\n",
       "  & <chr> & <dbl>\\\\\n",
       "\\hline\n",
       "\t40 & Influenza (laboratory confirmed) & 2862\\\\\n",
       "\t23 & COVID-19                         &    3\\\\\n",
       "\\end{tabular}\n"
      ],
      "text/markdown": [
       "\n",
       "A data.frame: 2 × 2\n",
       "\n",
       "| <!--/--> | Disease &lt;chr&gt; | 01FEB - 14FEB 2020 &lt;dbl&gt; |\n",
       "|---|---|---|\n",
       "| 40 | Influenza (laboratory confirmed) | 2862 |\n",
       "| 23 | COVID-19                         |    3 |\n",
       "\n"
      ],
      "text/plain": [
       "   Disease                          01FEB - 14FEB 2020\n",
       "40 Influenza (laboratory confirmed) 2862              \n",
       "23 COVID-19                            3              "
      ]
     },
     "metadata": {},
     "output_type": "display_data"
    }
   ],
   "source": [
    "#find the rows that contain the words influenza\n",
    "\n",
    "inf <- df[grep(\"Influenza\", df$X),]\n",
    "head(inf)\n",
    "covid <-  df[grep(\"COVID\", df$X),]\n",
    "covid ## this show that there are no items under covid which accurate as covid cases had not been detected yet in Aus\n",
    "FEB01_FEB14_2020 <- rbind(inf, covid)\n",
    "FEB01_FEB14_2020\n",
    "FEB01_FEB14_2020[,2] <- as.numeric(FEB01_FEB14_2020[,2])\n",
    "colnames(FEB01_FEB14_2020) <- c(\"Disease\", \"01FEB - 14FEB 2020\")\n",
    "FEB01_FEB14_2020"
   ]
  },
  {
   "cell_type": "code",
   "execution_count": null,
   "id": "2122fd33-4e0a-4a42-a736-3e00faf038ff",
   "metadata": {},
   "outputs": [],
   "source": []
  },
  {
   "cell_type": "code",
   "execution_count": null,
   "id": "539674b7-3b19-456c-b067-3461f5cf03f7",
   "metadata": {},
   "outputs": [],
   "source": [
    "## NEXT DATASET FROM 15-to-28-february-2020-table"
   ]
  },
  {
   "cell_type": "code",
   "execution_count": 152,
   "id": "6e8de998-bf23-40e4-9549-c19d27bde9b3",
   "metadata": {},
   "outputs": [
    {
     "data": {
      "text/html": [
       "<table class=\"dataframe\">\n",
       "<caption>A data.frame: 6 × 23</caption>\n",
       "<thead>\n",
       "\t<tr><th></th><th scope=col>ADT.FN04.2020</th><th scope=col>X</th><th scope=col>X.1</th><th scope=col>Notification.received.date</th><th scope=col>X.2</th><th scope=col>X.3</th><th scope=col>X.4</th><th scope=col>X.5</th><th scope=col>X.6</th><th scope=col>X.7</th><th scope=col>⋯</th><th scope=col>X.11</th><th scope=col>X.12</th><th scope=col>X.13</th><th scope=col>X.14</th><th scope=col>X.15</th><th scope=col>X.16</th><th scope=col>X.17</th><th scope=col>X.18</th><th scope=col>X.19</th><th scope=col>X.20</th></tr>\n",
       "\t<tr><th></th><th scope=col>&lt;chr&gt;</th><th scope=col>&lt;chr&gt;</th><th scope=col>&lt;chr&gt;</th><th scope=col>&lt;chr&gt;</th><th scope=col>&lt;chr&gt;</th><th scope=col>&lt;chr&gt;</th><th scope=col>&lt;chr&gt;</th><th scope=col>&lt;chr&gt;</th><th scope=col>&lt;chr&gt;</th><th scope=col>&lt;chr&gt;</th><th scope=col>⋯</th><th scope=col>&lt;chr&gt;</th><th scope=col>&lt;chr&gt;</th><th scope=col>&lt;chr&gt;</th><th scope=col>&lt;chr&gt;</th><th scope=col>&lt;chr&gt;</th><th scope=col>&lt;chr&gt;</th><th scope=col>&lt;chr&gt;</th><th scope=col>&lt;chr&gt;</th><th scope=col>&lt;chr&gt;</th><th scope=col>&lt;chr&gt;</th></tr>\n",
       "</thead>\n",
       "<tbody>\n",
       "\t<tr><th scope=row>1</th><td>                   </td><td>                            </td><td>            </td><td>State or Territory</td><td>     </td><td>     </td><td>    </td><td>     </td><td>     </td><td>    </td><td>⋯</td><td>                               </td><td>                 </td><td>Historical 90 Day Period</td><td>                               </td><td>                               </td><td>                                       </td><td>Historical Yearly Period</td><td>                            </td><td>                             </td><td>                                    </td></tr>\n",
       "\t<tr><th scope=row>2</th><td>Disease group      </td><td>Disease name                </td><td>Disease code</td><td>ACT               </td><td>NSW  </td><td>NT   </td><td>Qld </td><td>SA   </td><td>Tas  </td><td>Vic </td><td>⋯</td><td>Same reporting period last year</td><td>Current year\n",
       "YTD</td><td>Past Quarter            </td><td>Quarterly rolling \n",
       "5 year mean</td><td>Ratio past quarter/5 year mean*</td><td>Exceeds quarterly rolling mean +2 SD by</td><td>Past Year               </td><td>Yearly rolling \n",
       "5 year mean</td><td>Ratio past  year/5 year mean*</td><td>Exceeds yearly rolling mean +2 SD by</td></tr>\n",
       "\t<tr><th scope=row>3</th><td>                   </td><td>                            </td><td>            </td><td>                  </td><td>     </td><td>     </td><td>    </td><td>     </td><td>     </td><td>    </td><td>⋯</td><td>15/02/2019                     </td><td>01/01/2019       </td><td>01/12/2019              </td><td>                               </td><td>                               </td><td>                                       </td><td>01/03/2019              </td><td>28/02/2014                  </td><td>                             </td><td>                                    </td></tr>\n",
       "\t<tr><th scope=row>4</th><td>                   </td><td>                            </td><td>            </td><td>                  </td><td>     </td><td>     </td><td>    </td><td>     </td><td>     </td><td>    </td><td>⋯</td><td>28/02/2019                     </td><td>28/02/2020       </td><td>28/02/2020              </td><td>                               </td><td>                               </td><td>                                       </td><td>28/02/2020              </td><td>28/02/2019                  </td><td>                             </td><td>                                    </td></tr>\n",
       "\t<tr><th scope=row>5</th><td>Bloodborne diseases</td><td>Hepatitis B (newly acquired)</td><td>039         </td><td> -                </td><td> -   </td><td> -   </td><td> 2  </td><td> -   </td><td> -   </td><td> 2  </td><td>⋯</td><td> 5                             </td><td> 15              </td><td> 30                     </td><td> 38.8                          </td><td> 0.8                           </td><td> -                                     </td><td> 148                    </td><td> 158.0                      </td><td> 0.9                         </td><td> -                                  </td></tr>\n",
       "\t<tr><th scope=row>6</th><td>                   </td><td>Hepatitis B (unspecified)   </td><td>052         </td><td> 1                </td><td> 111 </td><td> -   </td><td> 37 </td><td> 4   </td><td> -   </td><td> 59 </td><td>⋯</td><td> 252                           </td><td> 869             </td><td> 1,249                  </td><td> 1,373.0                       </td><td> 0.9                           </td><td> -                                     </td><td> 5,666                  </td><td> 6,136.6                    </td><td> 0.9                         </td><td> -                                  </td></tr>\n",
       "</tbody>\n",
       "</table>\n"
      ],
      "text/latex": [
       "A data.frame: 6 × 23\n",
       "\\begin{tabular}{r|lllllllllllllllllllll}\n",
       "  & ADT.FN04.2020 & X & X.1 & Notification.received.date & X.2 & X.3 & X.4 & X.5 & X.6 & X.7 & ⋯ & X.11 & X.12 & X.13 & X.14 & X.15 & X.16 & X.17 & X.18 & X.19 & X.20\\\\\n",
       "  & <chr> & <chr> & <chr> & <chr> & <chr> & <chr> & <chr> & <chr> & <chr> & <chr> & ⋯ & <chr> & <chr> & <chr> & <chr> & <chr> & <chr> & <chr> & <chr> & <chr> & <chr>\\\\\n",
       "\\hline\n",
       "\t1 &                     &                              &              & State or Territory &       &       &      &       &       &      & ⋯ &                                 &                   & Historical 90 Day Period &                                 &                                 &                                         & Historical Yearly Period &                              &                               &                                     \\\\\n",
       "\t2 & Disease group       & Disease name                 & Disease code & ACT                & NSW   & NT    & Qld  & SA    & Tas   & Vic  & ⋯ & Same reporting period last year & Current year\n",
       "YTD & Past Quarter             & Quarterly rolling \n",
       "5 year mean & Ratio past quarter/5 year mean* & Exceeds quarterly rolling mean +2 SD by & Past Year                & Yearly rolling \n",
       "5 year mean & Ratio past  year/5 year mean* & Exceeds yearly rolling mean +2 SD by\\\\\n",
       "\t3 &                     &                              &              &                    &       &       &      &       &       &      & ⋯ & 15/02/2019                      & 01/01/2019        & 01/12/2019               &                                 &                                 &                                         & 01/03/2019               & 28/02/2014                   &                               &                                     \\\\\n",
       "\t4 &                     &                              &              &                    &       &       &      &       &       &      & ⋯ & 28/02/2019                      & 28/02/2020        & 28/02/2020               &                                 &                                 &                                         & 28/02/2020               & 28/02/2019                   &                               &                                     \\\\\n",
       "\t5 & Bloodborne diseases & Hepatitis B (newly acquired) & 039          &  -                 &  -    &  -    &  2   &  -    &  -    &  2   & ⋯ &  5                              &  15               &  30                      &  38.8                           &  0.8                            &  -                                      &  148                     &  158.0                       &  0.9                          &  -                                  \\\\\n",
       "\t6 &                     & Hepatitis B (unspecified)    & 052          &  1                 &  111  &  -    &  37  &  4    &  -    &  59  & ⋯ &  252                            &  869              &  1,249                   &  1,373.0                        &  0.9                            &  -                                      &  5,666                   &  6,136.6                     &  0.9                          &  -                                  \\\\\n",
       "\\end{tabular}\n"
      ],
      "text/markdown": [
       "\n",
       "A data.frame: 6 × 23\n",
       "\n",
       "| <!--/--> | ADT.FN04.2020 &lt;chr&gt; | X &lt;chr&gt; | X.1 &lt;chr&gt; | Notification.received.date &lt;chr&gt; | X.2 &lt;chr&gt; | X.3 &lt;chr&gt; | X.4 &lt;chr&gt; | X.5 &lt;chr&gt; | X.6 &lt;chr&gt; | X.7 &lt;chr&gt; | ⋯ ⋯ | X.11 &lt;chr&gt; | X.12 &lt;chr&gt; | X.13 &lt;chr&gt; | X.14 &lt;chr&gt; | X.15 &lt;chr&gt; | X.16 &lt;chr&gt; | X.17 &lt;chr&gt; | X.18 &lt;chr&gt; | X.19 &lt;chr&gt; | X.20 &lt;chr&gt; |\n",
       "|---|---|---|---|---|---|---|---|---|---|---|---|---|---|---|---|---|---|---|---|---|---|\n",
       "| 1 | <!----> | <!----> | <!----> | State or Territory | <!----> | <!----> | <!----> | <!----> | <!----> | <!----> | ⋯ | <!----> | <!----> | Historical 90 Day Period | <!----> | <!----> | <!----> | Historical Yearly Period | <!----> | <!----> | <!----> |\n",
       "| 2 | Disease group       | Disease name                 | Disease code | ACT                | NSW   | NT    | Qld  | SA    | Tas   | Vic  | ⋯ | Same reporting period last year | Current year\n",
       "YTD | Past Quarter             | Quarterly rolling \n",
       "5 year mean | Ratio past quarter/5 year mean* | Exceeds quarterly rolling mean +2 SD by | Past Year                | Yearly rolling \n",
       "5 year mean | Ratio past  year/5 year mean* | Exceeds yearly rolling mean +2 SD by |\n",
       "| 3 | <!----> | <!----> | <!----> | <!----> | <!----> | <!----> | <!----> | <!----> | <!----> | <!----> | ⋯ | 15/02/2019                      | 01/01/2019        | 01/12/2019               | <!----> | <!----> | <!----> | 01/03/2019               | 28/02/2014                   | <!----> | <!----> |\n",
       "| 4 | <!----> | <!----> | <!----> | <!----> | <!----> | <!----> | <!----> | <!----> | <!----> | <!----> | ⋯ | 28/02/2019                      | 28/02/2020        | 28/02/2020               | <!----> | <!----> | <!----> | 28/02/2020               | 28/02/2019                   | <!----> | <!----> |\n",
       "| 5 | Bloodborne diseases | Hepatitis B (newly acquired) | 039          |  -                 |  -    |  -    |  2   |  -    |  -    |  2   | ⋯ |  5                              |  15               |  30                      |  38.8                           |  0.8                            |  -                                      |  148                     |  158.0                       |  0.9                          |  -                                   |\n",
       "| 6 | <!----> | Hepatitis B (unspecified)    | 052          |  1                 |  111  |  -    |  37  |  4    |  -    |  59  | ⋯ |  252                            |  869              |  1,249                   |  1,373.0                        |  0.9                            |  -                                      |  5,666                   |  6,136.6                     |  0.9                          |  -                                   |\n",
       "\n"
      ],
      "text/plain": [
       "  ADT.FN04.2020       X                            X.1         \n",
       "1                                                              \n",
       "2 Disease group       Disease name                 Disease code\n",
       "3                                                              \n",
       "4                                                              \n",
       "5 Bloodborne diseases Hepatitis B (newly acquired) 039         \n",
       "6                     Hepatitis B (unspecified)    052         \n",
       "  Notification.received.date X.2   X.3   X.4  X.5   X.6   X.7  ⋯\n",
       "1 State or Territory                                           ⋯\n",
       "2 ACT                        NSW   NT    Qld  SA    Tas   Vic  ⋯\n",
       "3                                                              ⋯\n",
       "4                                                              ⋯\n",
       "5  -                          -     -     2    -     -     2   ⋯\n",
       "6  1                          111   -     37   4     -     59  ⋯\n",
       "  X.11                            X.12              X.13                    \n",
       "1                                                   Historical 90 Day Period\n",
       "2 Same reporting period last year Current year\\nYTD Past Quarter            \n",
       "3 15/02/2019                      01/01/2019        01/12/2019              \n",
       "4 28/02/2019                      28/02/2020        28/02/2020              \n",
       "5  5                               15                30                     \n",
       "6  252                             869               1,249                  \n",
       "  X.14                            X.15                           \n",
       "1                                                                \n",
       "2 Quarterly rolling \\n5 year mean Ratio past quarter/5 year mean*\n",
       "3                                                                \n",
       "4                                                                \n",
       "5  38.8                            0.8                           \n",
       "6  1,373.0                         0.9                           \n",
       "  X.16                                    X.17                    \n",
       "1                                         Historical Yearly Period\n",
       "2 Exceeds quarterly rolling mean +2 SD by Past Year               \n",
       "3                                         01/03/2019              \n",
       "4                                         28/02/2020              \n",
       "5  -                                       148                    \n",
       "6  -                                       5,666                  \n",
       "  X.18                         X.19                         \n",
       "1                                                           \n",
       "2 Yearly rolling \\n5 year mean Ratio past  year/5 year mean*\n",
       "3 28/02/2014                                                \n",
       "4 28/02/2019                                                \n",
       "5  158.0                        0.9                         \n",
       "6  6,136.6                      0.9                         \n",
       "  X.20                                \n",
       "1                                     \n",
       "2 Exceeds yearly rolling mean +2 SD by\n",
       "3                                     \n",
       "4                                     \n",
       "5  -                                  \n",
       "6  -                                  "
      ]
     },
     "metadata": {},
     "output_type": "display_data"
    },
    {
     "data": {
      "text/html": [
       "<table class=\"dataframe\">\n",
       "<caption>A data.frame: 6 × 2</caption>\n",
       "<thead>\n",
       "\t<tr><th></th><th scope=col>X</th><th scope=col>X.9</th></tr>\n",
       "\t<tr><th></th><th scope=col>&lt;chr&gt;</th><th scope=col>&lt;chr&gt;</th></tr>\n",
       "</thead>\n",
       "<tbody>\n",
       "\t<tr><th scope=row>1</th><td>                            </td><td>Totals for Australia </td></tr>\n",
       "\t<tr><th scope=row>2</th><td>Disease name                </td><td>This reporting period</td></tr>\n",
       "\t<tr><th scope=row>3</th><td>                            </td><td>15/02/2020           </td></tr>\n",
       "\t<tr><th scope=row>4</th><td>                            </td><td>28/02/2020           </td></tr>\n",
       "\t<tr><th scope=row>5</th><td>Hepatitis B (newly acquired)</td><td> 4                   </td></tr>\n",
       "\t<tr><th scope=row>6</th><td>Hepatitis B (unspecified)   </td><td> 231                 </td></tr>\n",
       "</tbody>\n",
       "</table>\n"
      ],
      "text/latex": [
       "A data.frame: 6 × 2\n",
       "\\begin{tabular}{r|ll}\n",
       "  & X & X.9\\\\\n",
       "  & <chr> & <chr>\\\\\n",
       "\\hline\n",
       "\t1 &                              & Totals for Australia \\\\\n",
       "\t2 & Disease name                 & This reporting period\\\\\n",
       "\t3 &                              & 15/02/2020           \\\\\n",
       "\t4 &                              & 28/02/2020           \\\\\n",
       "\t5 & Hepatitis B (newly acquired) &  4                   \\\\\n",
       "\t6 & Hepatitis B (unspecified)    &  231                 \\\\\n",
       "\\end{tabular}\n"
      ],
      "text/markdown": [
       "\n",
       "A data.frame: 6 × 2\n",
       "\n",
       "| <!--/--> | X &lt;chr&gt; | X.9 &lt;chr&gt; |\n",
       "|---|---|---|\n",
       "| 1 | <!----> | Totals for Australia  |\n",
       "| 2 | Disease name                 | This reporting period |\n",
       "| 3 | <!----> | 15/02/2020            |\n",
       "| 4 | <!----> | 28/02/2020            |\n",
       "| 5 | Hepatitis B (newly acquired) |  4                    |\n",
       "| 6 | Hepatitis B (unspecified)    |  231                  |\n",
       "\n"
      ],
      "text/plain": [
       "  X                            X.9                  \n",
       "1                              Totals for Australia \n",
       "2 Disease name                 This reporting period\n",
       "3                              15/02/2020           \n",
       "4                              28/02/2020           \n",
       "5 Hepatitis B (newly acquired)  4                   \n",
       "6 Hepatitis B (unspecified)     231                 "
      ]
     },
     "metadata": {},
     "output_type": "display_data"
    }
   ],
   "source": [
    "df = read.csv(\"15-to-28-february-2020-table.csv\", header=TRUE, stringsAsFactors=FALSE)\n",
    "head(df)\n",
    "df <- df[, -c(1,3:11, 13:23)]\n",
    "head(df)"
   ]
  },
  {
   "cell_type": "code",
   "execution_count": 153,
   "id": "e4d5bb2c-9cb7-4234-bc20-28da09d70116",
   "metadata": {},
   "outputs": [
    {
     "data": {
      "text/html": [
       "<table class=\"dataframe\">\n",
       "<caption>A data.frame: 1 × 2</caption>\n",
       "<thead>\n",
       "\t<tr><th></th><th scope=col>X</th><th scope=col>X.9</th></tr>\n",
       "\t<tr><th></th><th scope=col>&lt;chr&gt;</th><th scope=col>&lt;chr&gt;</th></tr>\n",
       "</thead>\n",
       "<tbody>\n",
       "\t<tr><th scope=row>40</th><td>Influenza (laboratory confirmed)</td><td>3117</td></tr>\n",
       "</tbody>\n",
       "</table>\n"
      ],
      "text/latex": [
       "A data.frame: 1 × 2\n",
       "\\begin{tabular}{r|ll}\n",
       "  & X & X.9\\\\\n",
       "  & <chr> & <chr>\\\\\n",
       "\\hline\n",
       "\t40 & Influenza (laboratory confirmed) & 3117\\\\\n",
       "\\end{tabular}\n"
      ],
      "text/markdown": [
       "\n",
       "A data.frame: 1 × 2\n",
       "\n",
       "| <!--/--> | X &lt;chr&gt; | X.9 &lt;chr&gt; |\n",
       "|---|---|---|\n",
       "| 40 | Influenza (laboratory confirmed) | 3117 |\n",
       "\n"
      ],
      "text/plain": [
       "   X                                X.9 \n",
       "40 Influenza (laboratory confirmed) 3117"
      ]
     },
     "metadata": {},
     "output_type": "display_data"
    },
    {
     "data": {
      "text/html": [
       "<table class=\"dataframe\">\n",
       "<caption>A data.frame: 1 × 2</caption>\n",
       "<thead>\n",
       "\t<tr><th></th><th scope=col>X</th><th scope=col>X.9</th></tr>\n",
       "\t<tr><th></th><th scope=col>&lt;chr&gt;</th><th scope=col>&lt;chr&gt;</th></tr>\n",
       "</thead>\n",
       "<tbody>\n",
       "\t<tr><th scope=row>23</th><td>COVID-19</td><td> 10 </td></tr>\n",
       "</tbody>\n",
       "</table>\n"
      ],
      "text/latex": [
       "A data.frame: 1 × 2\n",
       "\\begin{tabular}{r|ll}\n",
       "  & X & X.9\\\\\n",
       "  & <chr> & <chr>\\\\\n",
       "\\hline\n",
       "\t23 & COVID-19 &  10 \\\\\n",
       "\\end{tabular}\n"
      ],
      "text/markdown": [
       "\n",
       "A data.frame: 1 × 2\n",
       "\n",
       "| <!--/--> | X &lt;chr&gt; | X.9 &lt;chr&gt; |\n",
       "|---|---|---|\n",
       "| 23 | COVID-19 |  10  |\n",
       "\n"
      ],
      "text/plain": [
       "   X        X.9 \n",
       "23 COVID-19  10 "
      ]
     },
     "metadata": {},
     "output_type": "display_data"
    },
    {
     "data": {
      "text/html": [
       "<table class=\"dataframe\">\n",
       "<caption>A data.frame: 2 × 2</caption>\n",
       "<thead>\n",
       "\t<tr><th></th><th scope=col>X</th><th scope=col>X.9</th></tr>\n",
       "\t<tr><th></th><th scope=col>&lt;chr&gt;</th><th scope=col>&lt;chr&gt;</th></tr>\n",
       "</thead>\n",
       "<tbody>\n",
       "\t<tr><th scope=row>40</th><td>Influenza (laboratory confirmed)</td><td>3117</td></tr>\n",
       "\t<tr><th scope=row>23</th><td>COVID-19                        </td><td> 10 </td></tr>\n",
       "</tbody>\n",
       "</table>\n"
      ],
      "text/latex": [
       "A data.frame: 2 × 2\n",
       "\\begin{tabular}{r|ll}\n",
       "  & X & X.9\\\\\n",
       "  & <chr> & <chr>\\\\\n",
       "\\hline\n",
       "\t40 & Influenza (laboratory confirmed) & 3117\\\\\n",
       "\t23 & COVID-19                         &  10 \\\\\n",
       "\\end{tabular}\n"
      ],
      "text/markdown": [
       "\n",
       "A data.frame: 2 × 2\n",
       "\n",
       "| <!--/--> | X &lt;chr&gt; | X.9 &lt;chr&gt; |\n",
       "|---|---|---|\n",
       "| 40 | Influenza (laboratory confirmed) | 3117 |\n",
       "| 23 | COVID-19                         |  10  |\n",
       "\n"
      ],
      "text/plain": [
       "   X                                X.9 \n",
       "40 Influenza (laboratory confirmed) 3117\n",
       "23 COVID-19                          10 "
      ]
     },
     "metadata": {},
     "output_type": "display_data"
    },
    {
     "data": {
      "text/html": [
       "<table class=\"dataframe\">\n",
       "<caption>A data.frame: 2 × 2</caption>\n",
       "<thead>\n",
       "\t<tr><th></th><th scope=col>Disease</th><th scope=col>15FEB - 28FEB 2020</th></tr>\n",
       "\t<tr><th></th><th scope=col>&lt;chr&gt;</th><th scope=col>&lt;dbl&gt;</th></tr>\n",
       "</thead>\n",
       "<tbody>\n",
       "\t<tr><th scope=row>40</th><td>Influenza (laboratory confirmed)</td><td>3117</td></tr>\n",
       "\t<tr><th scope=row>23</th><td>COVID-19                        </td><td>  10</td></tr>\n",
       "</tbody>\n",
       "</table>\n"
      ],
      "text/latex": [
       "A data.frame: 2 × 2\n",
       "\\begin{tabular}{r|ll}\n",
       "  & Disease & 15FEB - 28FEB 2020\\\\\n",
       "  & <chr> & <dbl>\\\\\n",
       "\\hline\n",
       "\t40 & Influenza (laboratory confirmed) & 3117\\\\\n",
       "\t23 & COVID-19                         &   10\\\\\n",
       "\\end{tabular}\n"
      ],
      "text/markdown": [
       "\n",
       "A data.frame: 2 × 2\n",
       "\n",
       "| <!--/--> | Disease &lt;chr&gt; | 15FEB - 28FEB 2020 &lt;dbl&gt; |\n",
       "|---|---|---|\n",
       "| 40 | Influenza (laboratory confirmed) | 3117 |\n",
       "| 23 | COVID-19                         |   10 |\n",
       "\n"
      ],
      "text/plain": [
       "   Disease                          15FEB - 28FEB 2020\n",
       "40 Influenza (laboratory confirmed) 3117              \n",
       "23 COVID-19                           10              "
      ]
     },
     "metadata": {},
     "output_type": "display_data"
    }
   ],
   "source": [
    "#find the rows that contain the words influenza\n",
    "\n",
    "inf <- df[grep(\"Influenza\", df$X),]\n",
    "head(inf)\n",
    "covid <-  df[grep(\"COVID\", df$X),]\n",
    "covid ## this show that there are no items under covid which accurate as covid cases had not been detected yet in Aus\n",
    "FEB15_FEB28_2020 <- rbind(inf, covid)\n",
    "FEB15_FEB28_2020\n",
    "FEB15_FEB28_2020[,2] <- as.numeric(FEB15_FEB28_2020[,2])\n",
    "colnames(FEB15_FEB28_2020) <- c(\"Disease\", \"15FEB - 28FEB 2020\")\n",
    "FEB15_FEB28_2020"
   ]
  },
  {
   "cell_type": "code",
   "execution_count": null,
   "id": "99d1a13e-d537-4950-b3de-9cbc1eb37fdd",
   "metadata": {},
   "outputs": [],
   "source": []
  },
  {
   "cell_type": "code",
   "execution_count": 9,
   "id": "5e83466e-2560-4b64-ba90-57494c7746af",
   "metadata": {},
   "outputs": [],
   "source": [
    "### Range of Data 29-february-to-13-march-2020"
   ]
  },
  {
   "cell_type": "code",
   "execution_count": 10,
   "id": "e9eeda27-c67b-4ec5-a22e-ed0d1ff61166",
   "metadata": {},
   "outputs": [],
   "source": [
    "df = read.csv(\"29-february-to-13-march-2020.csv\", header=TRUE, stringsAsFactors=FALSE)"
   ]
  },
  {
   "cell_type": "code",
   "execution_count": 11,
   "id": "bcee3e7e-dbb9-4093-aa12-672540c0acbb",
   "metadata": {},
   "outputs": [
    {
     "data": {
      "text/html": [
       "<table class=\"dataframe\">\n",
       "<caption>A data.frame: 6 × 23</caption>\n",
       "<thead>\n",
       "\t<tr><th></th><th scope=col>ADT.FN05.2020</th><th scope=col>X</th><th scope=col>X.1</th><th scope=col>Notification.received.date</th><th scope=col>X.2</th><th scope=col>X.3</th><th scope=col>X.4</th><th scope=col>X.5</th><th scope=col>X.6</th><th scope=col>X.7</th><th scope=col>⋯</th><th scope=col>X.11</th><th scope=col>X.12</th><th scope=col>X.13</th><th scope=col>X.14</th><th scope=col>X.15</th><th scope=col>X.16</th><th scope=col>X.17</th><th scope=col>X.18</th><th scope=col>X.19</th><th scope=col>X.20</th></tr>\n",
       "\t<tr><th></th><th scope=col>&lt;chr&gt;</th><th scope=col>&lt;chr&gt;</th><th scope=col>&lt;chr&gt;</th><th scope=col>&lt;chr&gt;</th><th scope=col>&lt;chr&gt;</th><th scope=col>&lt;chr&gt;</th><th scope=col>&lt;chr&gt;</th><th scope=col>&lt;chr&gt;</th><th scope=col>&lt;chr&gt;</th><th scope=col>&lt;chr&gt;</th><th scope=col>⋯</th><th scope=col>&lt;chr&gt;</th><th scope=col>&lt;chr&gt;</th><th scope=col>&lt;chr&gt;</th><th scope=col>&lt;chr&gt;</th><th scope=col>&lt;chr&gt;</th><th scope=col>&lt;chr&gt;</th><th scope=col>&lt;chr&gt;</th><th scope=col>&lt;chr&gt;</th><th scope=col>&lt;chr&gt;</th><th scope=col>&lt;chr&gt;</th></tr>\n",
       "</thead>\n",
       "<tbody>\n",
       "\t<tr><th scope=row>1</th><td>                   </td><td>                            </td><td>            </td><td>State or Territory</td><td>    </td><td>     </td><td>    </td><td>     </td><td>     </td><td>     </td><td>⋯</td><td>                               </td><td>                 </td><td>Historical 90 Day Period</td><td>                               </td><td>                               </td><td>                                       </td><td>Historical Yearly Period</td><td>                            </td><td>                             </td><td>                                    </td></tr>\n",
       "\t<tr><th scope=row>2</th><td>Disease group      </td><td>Disease name                </td><td>Disease code</td><td>ACT               </td><td>NSW </td><td>NT   </td><td>Qld </td><td>SA   </td><td>Tas  </td><td>Vic  </td><td>⋯</td><td>Same reporting period last year</td><td>Current year\n",
       "YTD</td><td>Past Quarter            </td><td>Quarterly rolling \n",
       "5 year mean</td><td>Ratio past quarter/5 year mean*</td><td>Exceeds quarterly rolling mean +2 SD by</td><td>Past Year               </td><td>Yearly rolling \n",
       "5 year mean</td><td>Ratio past  year/5 year mean*</td><td>Exceeds yearly rolling mean +2 SD by</td></tr>\n",
       "\t<tr><th scope=row>3</th><td>                   </td><td>                            </td><td>            </td><td>                  </td><td>    </td><td>     </td><td>    </td><td>     </td><td>     </td><td>     </td><td>⋯</td><td>01/03/2019                     </td><td>01/01/2019       </td><td>15/12/2019              </td><td>                               </td><td>                               </td><td>                                       </td><td>14/03/2019              </td><td>14/03/2014                  </td><td>                             </td><td>                                    </td></tr>\n",
       "\t<tr><th scope=row>4</th><td>                   </td><td>                            </td><td>            </td><td>                  </td><td>    </td><td>     </td><td>    </td><td>     </td><td>     </td><td>     </td><td>⋯</td><td>13/03/2019                     </td><td>13/03/2020       </td><td>13/03/2020              </td><td>                               </td><td>                               </td><td>                                       </td><td>13/03/2020              </td><td>13/03/2019                  </td><td>                             </td><td>                                    </td></tr>\n",
       "\t<tr><th scope=row>5</th><td>Bloodborne diseases</td><td>Hepatitis B (newly acquired)</td><td>039         </td><td> -                </td><td> 1  </td><td> -   </td><td> 3  </td><td> -   </td><td> -   </td><td> -   </td><td>⋯</td><td> 3                             </td><td> 19              </td><td> 28                     </td><td> 39.6                          </td><td> 0.7                           </td><td> -                                     </td><td> 149                    </td><td> 157.0                      </td><td> 0.9                         </td><td> -                                  </td></tr>\n",
       "\t<tr><th scope=row>6</th><td>                   </td><td>Hepatitis B (unspecified)   </td><td>052         </td><td> 1                </td><td> 74 </td><td> -   </td><td> 41 </td><td> 2   </td><td> 5   </td><td> 1   </td><td>⋯</td><td> 232                           </td><td> 1,026           </td><td> 1,198                  </td><td> 1,369.8                       </td><td> 0.9                           </td><td> -                                     </td><td> 5,589                  </td><td> 6,132.4                    </td><td> 0.9                         </td><td> -                                  </td></tr>\n",
       "</tbody>\n",
       "</table>\n"
      ],
      "text/latex": [
       "A data.frame: 6 × 23\n",
       "\\begin{tabular}{r|lllllllllllllllllllll}\n",
       "  & ADT.FN05.2020 & X & X.1 & Notification.received.date & X.2 & X.3 & X.4 & X.5 & X.6 & X.7 & ⋯ & X.11 & X.12 & X.13 & X.14 & X.15 & X.16 & X.17 & X.18 & X.19 & X.20\\\\\n",
       "  & <chr> & <chr> & <chr> & <chr> & <chr> & <chr> & <chr> & <chr> & <chr> & <chr> & ⋯ & <chr> & <chr> & <chr> & <chr> & <chr> & <chr> & <chr> & <chr> & <chr> & <chr>\\\\\n",
       "\\hline\n",
       "\t1 &                     &                              &              & State or Territory &      &       &      &       &       &       & ⋯ &                                 &                   & Historical 90 Day Period &                                 &                                 &                                         & Historical Yearly Period &                              &                               &                                     \\\\\n",
       "\t2 & Disease group       & Disease name                 & Disease code & ACT                & NSW  & NT    & Qld  & SA    & Tas   & Vic   & ⋯ & Same reporting period last year & Current year\n",
       "YTD & Past Quarter             & Quarterly rolling \n",
       "5 year mean & Ratio past quarter/5 year mean* & Exceeds quarterly rolling mean +2 SD by & Past Year                & Yearly rolling \n",
       "5 year mean & Ratio past  year/5 year mean* & Exceeds yearly rolling mean +2 SD by\\\\\n",
       "\t3 &                     &                              &              &                    &      &       &      &       &       &       & ⋯ & 01/03/2019                      & 01/01/2019        & 15/12/2019               &                                 &                                 &                                         & 14/03/2019               & 14/03/2014                   &                               &                                     \\\\\n",
       "\t4 &                     &                              &              &                    &      &       &      &       &       &       & ⋯ & 13/03/2019                      & 13/03/2020        & 13/03/2020               &                                 &                                 &                                         & 13/03/2020               & 13/03/2019                   &                               &                                     \\\\\n",
       "\t5 & Bloodborne diseases & Hepatitis B (newly acquired) & 039          &  -                 &  1   &  -    &  3   &  -    &  -    &  -    & ⋯ &  3                              &  19               &  28                      &  39.6                           &  0.7                            &  -                                      &  149                     &  157.0                       &  0.9                          &  -                                  \\\\\n",
       "\t6 &                     & Hepatitis B (unspecified)    & 052          &  1                 &  74  &  -    &  41  &  2    &  5    &  1    & ⋯ &  232                            &  1,026            &  1,198                   &  1,369.8                        &  0.9                            &  -                                      &  5,589                   &  6,132.4                     &  0.9                          &  -                                  \\\\\n",
       "\\end{tabular}\n"
      ],
      "text/markdown": [
       "\n",
       "A data.frame: 6 × 23\n",
       "\n",
       "| <!--/--> | ADT.FN05.2020 &lt;chr&gt; | X &lt;chr&gt; | X.1 &lt;chr&gt; | Notification.received.date &lt;chr&gt; | X.2 &lt;chr&gt; | X.3 &lt;chr&gt; | X.4 &lt;chr&gt; | X.5 &lt;chr&gt; | X.6 &lt;chr&gt; | X.7 &lt;chr&gt; | ⋯ ⋯ | X.11 &lt;chr&gt; | X.12 &lt;chr&gt; | X.13 &lt;chr&gt; | X.14 &lt;chr&gt; | X.15 &lt;chr&gt; | X.16 &lt;chr&gt; | X.17 &lt;chr&gt; | X.18 &lt;chr&gt; | X.19 &lt;chr&gt; | X.20 &lt;chr&gt; |\n",
       "|---|---|---|---|---|---|---|---|---|---|---|---|---|---|---|---|---|---|---|---|---|---|\n",
       "| 1 | <!----> | <!----> | <!----> | State or Territory | <!----> | <!----> | <!----> | <!----> | <!----> | <!----> | ⋯ | <!----> | <!----> | Historical 90 Day Period | <!----> | <!----> | <!----> | Historical Yearly Period | <!----> | <!----> | <!----> |\n",
       "| 2 | Disease group       | Disease name                 | Disease code | ACT                | NSW  | NT    | Qld  | SA    | Tas   | Vic   | ⋯ | Same reporting period last year | Current year\n",
       "YTD | Past Quarter             | Quarterly rolling \n",
       "5 year mean | Ratio past quarter/5 year mean* | Exceeds quarterly rolling mean +2 SD by | Past Year                | Yearly rolling \n",
       "5 year mean | Ratio past  year/5 year mean* | Exceeds yearly rolling mean +2 SD by |\n",
       "| 3 | <!----> | <!----> | <!----> | <!----> | <!----> | <!----> | <!----> | <!----> | <!----> | <!----> | ⋯ | 01/03/2019                      | 01/01/2019        | 15/12/2019               | <!----> | <!----> | <!----> | 14/03/2019               | 14/03/2014                   | <!----> | <!----> |\n",
       "| 4 | <!----> | <!----> | <!----> | <!----> | <!----> | <!----> | <!----> | <!----> | <!----> | <!----> | ⋯ | 13/03/2019                      | 13/03/2020        | 13/03/2020               | <!----> | <!----> | <!----> | 13/03/2020               | 13/03/2019                   | <!----> | <!----> |\n",
       "| 5 | Bloodborne diseases | Hepatitis B (newly acquired) | 039          |  -                 |  1   |  -    |  3   |  -    |  -    |  -    | ⋯ |  3                              |  19               |  28                      |  39.6                           |  0.7                            |  -                                      |  149                     |  157.0                       |  0.9                          |  -                                   |\n",
       "| 6 | <!----> | Hepatitis B (unspecified)    | 052          |  1                 |  74  |  -    |  41  |  2    |  5    |  1    | ⋯ |  232                            |  1,026            |  1,198                   |  1,369.8                        |  0.9                            |  -                                      |  5,589                   |  6,132.4                     |  0.9                          |  -                                   |\n",
       "\n"
      ],
      "text/plain": [
       "  ADT.FN05.2020       X                            X.1         \n",
       "1                                                              \n",
       "2 Disease group       Disease name                 Disease code\n",
       "3                                                              \n",
       "4                                                              \n",
       "5 Bloodborne diseases Hepatitis B (newly acquired) 039         \n",
       "6                     Hepatitis B (unspecified)    052         \n",
       "  Notification.received.date X.2  X.3   X.4  X.5   X.6   X.7   ⋯\n",
       "1 State or Territory                                           ⋯\n",
       "2 ACT                        NSW  NT    Qld  SA    Tas   Vic   ⋯\n",
       "3                                                              ⋯\n",
       "4                                                              ⋯\n",
       "5  -                          1    -     3    -     -     -    ⋯\n",
       "6  1                          74   -     41   2     5     1    ⋯\n",
       "  X.11                            X.12              X.13                    \n",
       "1                                                   Historical 90 Day Period\n",
       "2 Same reporting period last year Current year\\nYTD Past Quarter            \n",
       "3 01/03/2019                      01/01/2019        15/12/2019              \n",
       "4 13/03/2019                      13/03/2020        13/03/2020              \n",
       "5  3                               19                28                     \n",
       "6  232                             1,026             1,198                  \n",
       "  X.14                            X.15                           \n",
       "1                                                                \n",
       "2 Quarterly rolling \\n5 year mean Ratio past quarter/5 year mean*\n",
       "3                                                                \n",
       "4                                                                \n",
       "5  39.6                            0.7                           \n",
       "6  1,369.8                         0.9                           \n",
       "  X.16                                    X.17                    \n",
       "1                                         Historical Yearly Period\n",
       "2 Exceeds quarterly rolling mean +2 SD by Past Year               \n",
       "3                                         14/03/2019              \n",
       "4                                         13/03/2020              \n",
       "5  -                                       149                    \n",
       "6  -                                       5,589                  \n",
       "  X.18                         X.19                         \n",
       "1                                                           \n",
       "2 Yearly rolling \\n5 year mean Ratio past  year/5 year mean*\n",
       "3 14/03/2014                                                \n",
       "4 13/03/2019                                                \n",
       "5  157.0                        0.9                         \n",
       "6  6,132.4                      0.9                         \n",
       "  X.20                                \n",
       "1                                     \n",
       "2 Exceeds yearly rolling mean +2 SD by\n",
       "3                                     \n",
       "4                                     \n",
       "5  -                                  \n",
       "6  -                                  "
      ]
     },
     "metadata": {},
     "output_type": "display_data"
    }
   ],
   "source": [
    "head(df)"
   ]
  },
  {
   "cell_type": "code",
   "execution_count": 12,
   "id": "435e195d-c3db-4fcf-8525-af43057ca89b",
   "metadata": {},
   "outputs": [
    {
     "data": {
      "text/html": [
       "<table class=\"dataframe\">\n",
       "<caption>A data.frame: 6 × 2</caption>\n",
       "<thead>\n",
       "\t<tr><th></th><th scope=col>X</th><th scope=col>X.9</th></tr>\n",
       "\t<tr><th></th><th scope=col>&lt;chr&gt;</th><th scope=col>&lt;chr&gt;</th></tr>\n",
       "</thead>\n",
       "<tbody>\n",
       "\t<tr><th scope=row>1</th><td>                            </td><td>Totals for Australia </td></tr>\n",
       "\t<tr><th scope=row>2</th><td>Disease name                </td><td>This reporting period</td></tr>\n",
       "\t<tr><th scope=row>3</th><td>                            </td><td>29/02/2020           </td></tr>\n",
       "\t<tr><th scope=row>4</th><td>                            </td><td>13/03/2020           </td></tr>\n",
       "\t<tr><th scope=row>5</th><td>Hepatitis B (newly acquired)</td><td> 4                   </td></tr>\n",
       "\t<tr><th scope=row>6</th><td>Hepatitis B (unspecified)   </td><td> 140                 </td></tr>\n",
       "</tbody>\n",
       "</table>\n"
      ],
      "text/latex": [
       "A data.frame: 6 × 2\n",
       "\\begin{tabular}{r|ll}\n",
       "  & X & X.9\\\\\n",
       "  & <chr> & <chr>\\\\\n",
       "\\hline\n",
       "\t1 &                              & Totals for Australia \\\\\n",
       "\t2 & Disease name                 & This reporting period\\\\\n",
       "\t3 &                              & 29/02/2020           \\\\\n",
       "\t4 &                              & 13/03/2020           \\\\\n",
       "\t5 & Hepatitis B (newly acquired) &  4                   \\\\\n",
       "\t6 & Hepatitis B (unspecified)    &  140                 \\\\\n",
       "\\end{tabular}\n"
      ],
      "text/markdown": [
       "\n",
       "A data.frame: 6 × 2\n",
       "\n",
       "| <!--/--> | X &lt;chr&gt; | X.9 &lt;chr&gt; |\n",
       "|---|---|---|\n",
       "| 1 | <!----> | Totals for Australia  |\n",
       "| 2 | Disease name                 | This reporting period |\n",
       "| 3 | <!----> | 29/02/2020            |\n",
       "| 4 | <!----> | 13/03/2020            |\n",
       "| 5 | Hepatitis B (newly acquired) |  4                    |\n",
       "| 6 | Hepatitis B (unspecified)    |  140                  |\n",
       "\n"
      ],
      "text/plain": [
       "  X                            X.9                  \n",
       "1                              Totals for Australia \n",
       "2 Disease name                 This reporting period\n",
       "3                              29/02/2020           \n",
       "4                              13/03/2020           \n",
       "5 Hepatitis B (newly acquired)  4                   \n",
       "6 Hepatitis B (unspecified)     140                 "
      ]
     },
     "metadata": {},
     "output_type": "display_data"
    }
   ],
   "source": [
    "df <- df[, -c(1,3:11, 13:23)]\n",
    "head(df)"
   ]
  },
  {
   "cell_type": "code",
   "execution_count": 13,
   "id": "bc8161ee-a6a3-425c-8a2c-599b3a045734",
   "metadata": {},
   "outputs": [
    {
     "data": {
      "text/html": [
       "<table class=\"dataframe\">\n",
       "<caption>A data.frame: 1 × 2</caption>\n",
       "<thead>\n",
       "\t<tr><th></th><th scope=col>X</th><th scope=col>X.9</th></tr>\n",
       "\t<tr><th></th><th scope=col>&lt;chr&gt;</th><th scope=col>&lt;chr&gt;</th></tr>\n",
       "</thead>\n",
       "<tbody>\n",
       "\t<tr><th scope=row>40</th><td>Influenza (laboratory confirmed)</td><td>3294</td></tr>\n",
       "</tbody>\n",
       "</table>\n"
      ],
      "text/latex": [
       "A data.frame: 1 × 2\n",
       "\\begin{tabular}{r|ll}\n",
       "  & X & X.9\\\\\n",
       "  & <chr> & <chr>\\\\\n",
       "\\hline\n",
       "\t40 & Influenza (laboratory confirmed) & 3294\\\\\n",
       "\\end{tabular}\n"
      ],
      "text/markdown": [
       "\n",
       "A data.frame: 1 × 2\n",
       "\n",
       "| <!--/--> | X &lt;chr&gt; | X.9 &lt;chr&gt; |\n",
       "|---|---|---|\n",
       "| 40 | Influenza (laboratory confirmed) | 3294 |\n",
       "\n"
      ],
      "text/plain": [
       "   X                                X.9 \n",
       "40 Influenza (laboratory confirmed) 3294"
      ]
     },
     "metadata": {},
     "output_type": "display_data"
    }
   ],
   "source": [
    "#find the rows that contain the words influenza\n",
    "\n",
    "inf <- df[grep(\"Influenza\", df$X),]\n",
    "head(inf)"
   ]
  },
  {
   "cell_type": "code",
   "execution_count": 14,
   "id": "ba804de9-8a42-4cb8-81ce-5244f6689a5d",
   "metadata": {},
   "outputs": [
    {
     "data": {
      "text/html": [
       "<table class=\"dataframe\">\n",
       "<caption>A data.frame: 1 × 2</caption>\n",
       "<thead>\n",
       "\t<tr><th></th><th scope=col>X</th><th scope=col>X.9</th></tr>\n",
       "\t<tr><th></th><th scope=col>&lt;chr&gt;</th><th scope=col>&lt;chr&gt;</th></tr>\n",
       "</thead>\n",
       "<tbody>\n",
       "\t<tr><th scope=row>23</th><td>COVID-19</td><td> 237 </td></tr>\n",
       "</tbody>\n",
       "</table>\n"
      ],
      "text/latex": [
       "A data.frame: 1 × 2\n",
       "\\begin{tabular}{r|ll}\n",
       "  & X & X.9\\\\\n",
       "  & <chr> & <chr>\\\\\n",
       "\\hline\n",
       "\t23 & COVID-19 &  237 \\\\\n",
       "\\end{tabular}\n"
      ],
      "text/markdown": [
       "\n",
       "A data.frame: 1 × 2\n",
       "\n",
       "| <!--/--> | X &lt;chr&gt; | X.9 &lt;chr&gt; |\n",
       "|---|---|---|\n",
       "| 23 | COVID-19 |  237  |\n",
       "\n"
      ],
      "text/plain": [
       "   X        X.9  \n",
       "23 COVID-19  237 "
      ]
     },
     "metadata": {},
     "output_type": "display_data"
    }
   ],
   "source": [
    "covid <-  df[grep(\"COVID\", df$X),]\n",
    "covid"
   ]
  },
  {
   "cell_type": "code",
   "execution_count": 15,
   "id": "808c6385-da9a-4d3b-b054-375e7126b355",
   "metadata": {},
   "outputs": [
    {
     "data": {
      "text/html": [
       "<table class=\"dataframe\">\n",
       "<caption>A data.frame: 2 × 2</caption>\n",
       "<thead>\n",
       "\t<tr><th></th><th scope=col>X</th><th scope=col>X.9</th></tr>\n",
       "\t<tr><th></th><th scope=col>&lt;chr&gt;</th><th scope=col>&lt;chr&gt;</th></tr>\n",
       "</thead>\n",
       "<tbody>\n",
       "\t<tr><th scope=row>40</th><td>Influenza (laboratory confirmed)</td><td>3294 </td></tr>\n",
       "\t<tr><th scope=row>23</th><td>COVID-19                        </td><td> 237 </td></tr>\n",
       "</tbody>\n",
       "</table>\n"
      ],
      "text/latex": [
       "A data.frame: 2 × 2\n",
       "\\begin{tabular}{r|ll}\n",
       "  & X & X.9\\\\\n",
       "  & <chr> & <chr>\\\\\n",
       "\\hline\n",
       "\t40 & Influenza (laboratory confirmed) & 3294 \\\\\n",
       "\t23 & COVID-19                         &  237 \\\\\n",
       "\\end{tabular}\n"
      ],
      "text/markdown": [
       "\n",
       "A data.frame: 2 × 2\n",
       "\n",
       "| <!--/--> | X &lt;chr&gt; | X.9 &lt;chr&gt; |\n",
       "|---|---|---|\n",
       "| 40 | Influenza (laboratory confirmed) | 3294  |\n",
       "| 23 | COVID-19                         |  237  |\n",
       "\n"
      ],
      "text/plain": [
       "   X                                X.9  \n",
       "40 Influenza (laboratory confirmed) 3294 \n",
       "23 COVID-19                          237 "
      ]
     },
     "metadata": {},
     "output_type": "display_data"
    }
   ],
   "source": [
    "Feb29_MAR13_2020 <- rbind(inf, covid)\n",
    "Feb29_MAR13_2020"
   ]
  },
  {
   "cell_type": "code",
   "execution_count": null,
   "id": "f31d6ecc-6d40-4c20-85f5-2b5890ca0905",
   "metadata": {},
   "outputs": [],
   "source": []
  },
  {
   "cell_type": "code",
   "execution_count": 16,
   "id": "3115467b-54e2-4a3d-975e-2e9c408f8a56",
   "metadata": {},
   "outputs": [
    {
     "data": {
      "text/html": [
       "<table class=\"dataframe\">\n",
       "<caption>A data.frame: 2 × 2</caption>\n",
       "<thead>\n",
       "\t<tr><th></th><th scope=col>X</th><th scope=col>X.9</th></tr>\n",
       "\t<tr><th></th><th scope=col>&lt;chr&gt;</th><th scope=col>&lt;dbl&gt;</th></tr>\n",
       "</thead>\n",
       "<tbody>\n",
       "\t<tr><th scope=row>40</th><td>Influenza (laboratory confirmed)</td><td>3294</td></tr>\n",
       "\t<tr><th scope=row>23</th><td>COVID-19                        </td><td> 237</td></tr>\n",
       "</tbody>\n",
       "</table>\n"
      ],
      "text/latex": [
       "A data.frame: 2 × 2\n",
       "\\begin{tabular}{r|ll}\n",
       "  & X & X.9\\\\\n",
       "  & <chr> & <dbl>\\\\\n",
       "\\hline\n",
       "\t40 & Influenza (laboratory confirmed) & 3294\\\\\n",
       "\t23 & COVID-19                         &  237\\\\\n",
       "\\end{tabular}\n"
      ],
      "text/markdown": [
       "\n",
       "A data.frame: 2 × 2\n",
       "\n",
       "| <!--/--> | X &lt;chr&gt; | X.9 &lt;dbl&gt; |\n",
       "|---|---|---|\n",
       "| 40 | Influenza (laboratory confirmed) | 3294 |\n",
       "| 23 | COVID-19                         |  237 |\n",
       "\n"
      ],
      "text/plain": [
       "   X                                X.9 \n",
       "40 Influenza (laboratory confirmed) 3294\n",
       "23 COVID-19                          237"
      ]
     },
     "metadata": {},
     "output_type": "display_data"
    }
   ],
   "source": [
    "Feb29_MAR13_2020[,2] <- as.numeric(Feb29_MAR13_2020[,2])\n",
    "Feb29_MAR13_2020"
   ]
  },
  {
   "cell_type": "code",
   "execution_count": 17,
   "id": "b8682361-7558-4eb0-8726-29c6f2bd2e76",
   "metadata": {},
   "outputs": [
    {
     "data": {
      "text/html": [
       "<table class=\"dataframe\">\n",
       "<caption>A data.frame: 2 × 2</caption>\n",
       "<thead>\n",
       "\t<tr><th></th><th scope=col>Disease</th><th scope=col>29Feb - 13Mar 2020</th></tr>\n",
       "\t<tr><th></th><th scope=col>&lt;chr&gt;</th><th scope=col>&lt;dbl&gt;</th></tr>\n",
       "</thead>\n",
       "<tbody>\n",
       "\t<tr><th scope=row>40</th><td>Influenza (laboratory confirmed)</td><td>3294</td></tr>\n",
       "\t<tr><th scope=row>23</th><td>COVID-19                        </td><td> 237</td></tr>\n",
       "</tbody>\n",
       "</table>\n"
      ],
      "text/latex": [
       "A data.frame: 2 × 2\n",
       "\\begin{tabular}{r|ll}\n",
       "  & Disease & 29Feb - 13Mar 2020\\\\\n",
       "  & <chr> & <dbl>\\\\\n",
       "\\hline\n",
       "\t40 & Influenza (laboratory confirmed) & 3294\\\\\n",
       "\t23 & COVID-19                         &  237\\\\\n",
       "\\end{tabular}\n"
      ],
      "text/markdown": [
       "\n",
       "A data.frame: 2 × 2\n",
       "\n",
       "| <!--/--> | Disease &lt;chr&gt; | 29Feb - 13Mar 2020 &lt;dbl&gt; |\n",
       "|---|---|---|\n",
       "| 40 | Influenza (laboratory confirmed) | 3294 |\n",
       "| 23 | COVID-19                         |  237 |\n",
       "\n"
      ],
      "text/plain": [
       "   Disease                          29Feb - 13Mar 2020\n",
       "40 Influenza (laboratory confirmed) 3294              \n",
       "23 COVID-19                          237              "
      ]
     },
     "metadata": {},
     "output_type": "display_data"
    }
   ],
   "source": [
    "colnames(Feb29_MAR13_2020) <- c(\"Disease\", \"29Feb - 13Mar 2020\")\n",
    "\n",
    "\n",
    "\n",
    "Feb29_MAR13_2020"
   ]
  },
  {
   "cell_type": "code",
   "execution_count": 18,
   "id": "bd4f2146-4b34-4f3d-9b2f-d88ec7c3eb30",
   "metadata": {},
   "outputs": [],
   "source": [
    "### "
   ]
  },
  {
   "cell_type": "code",
   "execution_count": null,
   "id": "9c7cbd84-4dea-4190-9988-ab31e7be9664",
   "metadata": {},
   "outputs": [],
   "source": [
    "### Data from 14-to-27-march-2020-table (3)"
   ]
  },
  {
   "cell_type": "code",
   "execution_count": 25,
   "id": "4fc48747-b225-4a2e-bebe-0143e8e2818e",
   "metadata": {},
   "outputs": [],
   "source": [
    "df = read.csv(\"14-to-27-march-2020-table (2).csv\", header=TRUE, stringsAsFactors=FALSE)"
   ]
  },
  {
   "cell_type": "code",
   "execution_count": 26,
   "id": "86040eb6-bce9-4dcf-8583-05110ebb5dfb",
   "metadata": {},
   "outputs": [
    {
     "data": {
      "text/html": [
       "<table class=\"dataframe\">\n",
       "<caption>A data.frame: 6 × 23</caption>\n",
       "<thead>\n",
       "\t<tr><th></th><th scope=col>ADT.FN06.2020</th><th scope=col>X</th><th scope=col>X.1</th><th scope=col>Notification.received.date</th><th scope=col>X.2</th><th scope=col>X.3</th><th scope=col>X.4</th><th scope=col>X.5</th><th scope=col>X.6</th><th scope=col>X.7</th><th scope=col>⋯</th><th scope=col>X.11</th><th scope=col>X.12</th><th scope=col>X.13</th><th scope=col>X.14</th><th scope=col>X.15</th><th scope=col>X.16</th><th scope=col>X.17</th><th scope=col>X.18</th><th scope=col>X.19</th><th scope=col>X.20</th></tr>\n",
       "\t<tr><th></th><th scope=col>&lt;chr&gt;</th><th scope=col>&lt;chr&gt;</th><th scope=col>&lt;chr&gt;</th><th scope=col>&lt;chr&gt;</th><th scope=col>&lt;chr&gt;</th><th scope=col>&lt;chr&gt;</th><th scope=col>&lt;chr&gt;</th><th scope=col>&lt;chr&gt;</th><th scope=col>&lt;chr&gt;</th><th scope=col>&lt;chr&gt;</th><th scope=col>⋯</th><th scope=col>&lt;chr&gt;</th><th scope=col>&lt;chr&gt;</th><th scope=col>&lt;chr&gt;</th><th scope=col>&lt;chr&gt;</th><th scope=col>&lt;chr&gt;</th><th scope=col>&lt;chr&gt;</th><th scope=col>&lt;chr&gt;</th><th scope=col>&lt;chr&gt;</th><th scope=col>&lt;chr&gt;</th><th scope=col>&lt;chr&gt;</th></tr>\n",
       "</thead>\n",
       "<tbody>\n",
       "\t<tr><th scope=row>1</th><td>                   </td><td>                            </td><td>            </td><td>State or Territory</td><td>     </td><td>     </td><td>    </td><td>     </td><td>     </td><td>     </td><td>⋯</td><td>                               </td><td>                 </td><td>Historical 90 Day Period</td><td>                               </td><td>                               </td><td>                                       </td><td>Historical Yearly Period</td><td>                            </td><td>                             </td><td>                                    </td></tr>\n",
       "\t<tr><th scope=row>2</th><td>Disease group      </td><td>Disease name                </td><td>Disease code</td><td>ACT               </td><td>NSW  </td><td>NT   </td><td>Qld </td><td>SA   </td><td>Tas  </td><td>Vic  </td><td>⋯</td><td>Same reporting period last year</td><td>Current year\n",
       "YTD</td><td>Past Quarter            </td><td>Quarterly rolling \n",
       "5 year mean</td><td>Ratio past quarter/5 year mean*</td><td>Exceeds quarterly rolling mean +2 SD by</td><td>Past Year               </td><td>Yearly rolling \n",
       "5 year mean</td><td>Ratio past  year/5 year mean*</td><td>Exceeds yearly rolling mean +2 SD by</td></tr>\n",
       "\t<tr><th scope=row>3</th><td>                   </td><td>                            </td><td>            </td><td>                  </td><td>     </td><td>     </td><td>    </td><td>     </td><td>     </td><td>     </td><td>⋯</td><td>14/03/2019                     </td><td>01/01/2019       </td><td>29/12/2019              </td><td>                               </td><td>                               </td><td>                                       </td><td>28/03/2019              </td><td>28/03/2014                  </td><td>                             </td><td>                                    </td></tr>\n",
       "\t<tr><th scope=row>4</th><td>                   </td><td>                            </td><td>            </td><td>                  </td><td>     </td><td>     </td><td>    </td><td>     </td><td>     </td><td>     </td><td>⋯</td><td>27/03/2019                     </td><td>27/03/2020       </td><td>27/03/2020              </td><td>                               </td><td>                               </td><td>                                       </td><td>27/03/2020              </td><td>27/03/2019                  </td><td>                             </td><td>                                    </td></tr>\n",
       "\t<tr><th scope=row>5</th><td>Bloodborne diseases</td><td>Hepatitis B (newly acquired)</td><td>039         </td><td> -                </td><td> -   </td><td> -   </td><td> 4  </td><td> -   </td><td> -   </td><td> -   </td><td>⋯</td><td> 9                             </td><td> 26              </td><td> 29                     </td><td> 39.4                          </td><td> 0.7                           </td><td> -                                     </td><td> 146                    </td><td> 156.6                      </td><td> 0.9                         </td><td> -                                  </td></tr>\n",
       "\t<tr><th scope=row>6</th><td>                   </td><td>Hepatitis B (unspecified)   </td><td>052         </td><td> 6                </td><td> 68  </td><td> -   </td><td> 28 </td><td> -   </td><td> -   </td><td> -   </td><td>⋯</td><td> 286                           </td><td> 1,167           </td><td> 1,188                  </td><td> 1,459.8                       </td><td> 0.8                           </td><td> -                                     </td><td> 5,446                  </td><td> 6,125.0                    </td><td> 0.9                         </td><td> -                                  </td></tr>\n",
       "</tbody>\n",
       "</table>\n"
      ],
      "text/latex": [
       "A data.frame: 6 × 23\n",
       "\\begin{tabular}{r|lllllllllllllllllllll}\n",
       "  & ADT.FN06.2020 & X & X.1 & Notification.received.date & X.2 & X.3 & X.4 & X.5 & X.6 & X.7 & ⋯ & X.11 & X.12 & X.13 & X.14 & X.15 & X.16 & X.17 & X.18 & X.19 & X.20\\\\\n",
       "  & <chr> & <chr> & <chr> & <chr> & <chr> & <chr> & <chr> & <chr> & <chr> & <chr> & ⋯ & <chr> & <chr> & <chr> & <chr> & <chr> & <chr> & <chr> & <chr> & <chr> & <chr>\\\\\n",
       "\\hline\n",
       "\t1 &                     &                              &              & State or Territory &       &       &      &       &       &       & ⋯ &                                 &                   & Historical 90 Day Period &                                 &                                 &                                         & Historical Yearly Period &                              &                               &                                     \\\\\n",
       "\t2 & Disease group       & Disease name                 & Disease code & ACT                & NSW   & NT    & Qld  & SA    & Tas   & Vic   & ⋯ & Same reporting period last year & Current year\n",
       "YTD & Past Quarter             & Quarterly rolling \n",
       "5 year mean & Ratio past quarter/5 year mean* & Exceeds quarterly rolling mean +2 SD by & Past Year                & Yearly rolling \n",
       "5 year mean & Ratio past  year/5 year mean* & Exceeds yearly rolling mean +2 SD by\\\\\n",
       "\t3 &                     &                              &              &                    &       &       &      &       &       &       & ⋯ & 14/03/2019                      & 01/01/2019        & 29/12/2019               &                                 &                                 &                                         & 28/03/2019               & 28/03/2014                   &                               &                                     \\\\\n",
       "\t4 &                     &                              &              &                    &       &       &      &       &       &       & ⋯ & 27/03/2019                      & 27/03/2020        & 27/03/2020               &                                 &                                 &                                         & 27/03/2020               & 27/03/2019                   &                               &                                     \\\\\n",
       "\t5 & Bloodborne diseases & Hepatitis B (newly acquired) & 039          &  -                 &  -    &  -    &  4   &  -    &  -    &  -    & ⋯ &  9                              &  26               &  29                      &  39.4                           &  0.7                            &  -                                      &  146                     &  156.6                       &  0.9                          &  -                                  \\\\\n",
       "\t6 &                     & Hepatitis B (unspecified)    & 052          &  6                 &  68   &  -    &  28  &  -    &  -    &  -    & ⋯ &  286                            &  1,167            &  1,188                   &  1,459.8                        &  0.8                            &  -                                      &  5,446                   &  6,125.0                     &  0.9                          &  -                                  \\\\\n",
       "\\end{tabular}\n"
      ],
      "text/markdown": [
       "\n",
       "A data.frame: 6 × 23\n",
       "\n",
       "| <!--/--> | ADT.FN06.2020 &lt;chr&gt; | X &lt;chr&gt; | X.1 &lt;chr&gt; | Notification.received.date &lt;chr&gt; | X.2 &lt;chr&gt; | X.3 &lt;chr&gt; | X.4 &lt;chr&gt; | X.5 &lt;chr&gt; | X.6 &lt;chr&gt; | X.7 &lt;chr&gt; | ⋯ ⋯ | X.11 &lt;chr&gt; | X.12 &lt;chr&gt; | X.13 &lt;chr&gt; | X.14 &lt;chr&gt; | X.15 &lt;chr&gt; | X.16 &lt;chr&gt; | X.17 &lt;chr&gt; | X.18 &lt;chr&gt; | X.19 &lt;chr&gt; | X.20 &lt;chr&gt; |\n",
       "|---|---|---|---|---|---|---|---|---|---|---|---|---|---|---|---|---|---|---|---|---|---|\n",
       "| 1 | <!----> | <!----> | <!----> | State or Territory | <!----> | <!----> | <!----> | <!----> | <!----> | <!----> | ⋯ | <!----> | <!----> | Historical 90 Day Period | <!----> | <!----> | <!----> | Historical Yearly Period | <!----> | <!----> | <!----> |\n",
       "| 2 | Disease group       | Disease name                 | Disease code | ACT                | NSW   | NT    | Qld  | SA    | Tas   | Vic   | ⋯ | Same reporting period last year | Current year\n",
       "YTD | Past Quarter             | Quarterly rolling \n",
       "5 year mean | Ratio past quarter/5 year mean* | Exceeds quarterly rolling mean +2 SD by | Past Year                | Yearly rolling \n",
       "5 year mean | Ratio past  year/5 year mean* | Exceeds yearly rolling mean +2 SD by |\n",
       "| 3 | <!----> | <!----> | <!----> | <!----> | <!----> | <!----> | <!----> | <!----> | <!----> | <!----> | ⋯ | 14/03/2019                      | 01/01/2019        | 29/12/2019               | <!----> | <!----> | <!----> | 28/03/2019               | 28/03/2014                   | <!----> | <!----> |\n",
       "| 4 | <!----> | <!----> | <!----> | <!----> | <!----> | <!----> | <!----> | <!----> | <!----> | <!----> | ⋯ | 27/03/2019                      | 27/03/2020        | 27/03/2020               | <!----> | <!----> | <!----> | 27/03/2020               | 27/03/2019                   | <!----> | <!----> |\n",
       "| 5 | Bloodborne diseases | Hepatitis B (newly acquired) | 039          |  -                 |  -    |  -    |  4   |  -    |  -    |  -    | ⋯ |  9                              |  26               |  29                      |  39.4                           |  0.7                            |  -                                      |  146                     |  156.6                       |  0.9                          |  -                                   |\n",
       "| 6 | <!----> | Hepatitis B (unspecified)    | 052          |  6                 |  68   |  -    |  28  |  -    |  -    |  -    | ⋯ |  286                            |  1,167            |  1,188                   |  1,459.8                        |  0.8                            |  -                                      |  5,446                   |  6,125.0                     |  0.9                          |  -                                   |\n",
       "\n"
      ],
      "text/plain": [
       "  ADT.FN06.2020       X                            X.1         \n",
       "1                                                              \n",
       "2 Disease group       Disease name                 Disease code\n",
       "3                                                              \n",
       "4                                                              \n",
       "5 Bloodborne diseases Hepatitis B (newly acquired) 039         \n",
       "6                     Hepatitis B (unspecified)    052         \n",
       "  Notification.received.date X.2   X.3   X.4  X.5   X.6   X.7   ⋯\n",
       "1 State or Territory                                            ⋯\n",
       "2 ACT                        NSW   NT    Qld  SA    Tas   Vic   ⋯\n",
       "3                                                               ⋯\n",
       "4                                                               ⋯\n",
       "5  -                          -     -     4    -     -     -    ⋯\n",
       "6  6                          68    -     28   -     -     -    ⋯\n",
       "  X.11                            X.12              X.13                    \n",
       "1                                                   Historical 90 Day Period\n",
       "2 Same reporting period last year Current year\\nYTD Past Quarter            \n",
       "3 14/03/2019                      01/01/2019        29/12/2019              \n",
       "4 27/03/2019                      27/03/2020        27/03/2020              \n",
       "5  9                               26                29                     \n",
       "6  286                             1,167             1,188                  \n",
       "  X.14                            X.15                           \n",
       "1                                                                \n",
       "2 Quarterly rolling \\n5 year mean Ratio past quarter/5 year mean*\n",
       "3                                                                \n",
       "4                                                                \n",
       "5  39.4                            0.7                           \n",
       "6  1,459.8                         0.8                           \n",
       "  X.16                                    X.17                    \n",
       "1                                         Historical Yearly Period\n",
       "2 Exceeds quarterly rolling mean +2 SD by Past Year               \n",
       "3                                         28/03/2019              \n",
       "4                                         27/03/2020              \n",
       "5  -                                       146                    \n",
       "6  -                                       5,446                  \n",
       "  X.18                         X.19                         \n",
       "1                                                           \n",
       "2 Yearly rolling \\n5 year mean Ratio past  year/5 year mean*\n",
       "3 28/03/2014                                                \n",
       "4 27/03/2019                                                \n",
       "5  156.6                        0.9                         \n",
       "6  6,125.0                      0.9                         \n",
       "  X.20                                \n",
       "1                                     \n",
       "2 Exceeds yearly rolling mean +2 SD by\n",
       "3                                     \n",
       "4                                     \n",
       "5  -                                  \n",
       "6  -                                  "
      ]
     },
     "metadata": {},
     "output_type": "display_data"
    }
   ],
   "source": [
    "head(df)"
   ]
  },
  {
   "cell_type": "code",
   "execution_count": 27,
   "id": "36480fb8-a923-4019-b8e4-af02a8048be0",
   "metadata": {},
   "outputs": [
    {
     "data": {
      "text/html": [
       "<table class=\"dataframe\">\n",
       "<caption>A data.frame: 6 × 2</caption>\n",
       "<thead>\n",
       "\t<tr><th></th><th scope=col>X</th><th scope=col>X.9</th></tr>\n",
       "\t<tr><th></th><th scope=col>&lt;chr&gt;</th><th scope=col>&lt;chr&gt;</th></tr>\n",
       "</thead>\n",
       "<tbody>\n",
       "\t<tr><th scope=row>1</th><td>                            </td><td>Totals for Australia </td></tr>\n",
       "\t<tr><th scope=row>2</th><td>Disease name                </td><td>This reporting period</td></tr>\n",
       "\t<tr><th scope=row>3</th><td>                            </td><td>14/03/2020           </td></tr>\n",
       "\t<tr><th scope=row>4</th><td>                            </td><td>27/03/2020           </td></tr>\n",
       "\t<tr><th scope=row>5</th><td>Hepatitis B (newly acquired)</td><td> 6                   </td></tr>\n",
       "\t<tr><th scope=row>6</th><td>Hepatitis B (unspecified)   </td><td> 125                 </td></tr>\n",
       "</tbody>\n",
       "</table>\n"
      ],
      "text/latex": [
       "A data.frame: 6 × 2\n",
       "\\begin{tabular}{r|ll}\n",
       "  & X & X.9\\\\\n",
       "  & <chr> & <chr>\\\\\n",
       "\\hline\n",
       "\t1 &                              & Totals for Australia \\\\\n",
       "\t2 & Disease name                 & This reporting period\\\\\n",
       "\t3 &                              & 14/03/2020           \\\\\n",
       "\t4 &                              & 27/03/2020           \\\\\n",
       "\t5 & Hepatitis B (newly acquired) &  6                   \\\\\n",
       "\t6 & Hepatitis B (unspecified)    &  125                 \\\\\n",
       "\\end{tabular}\n"
      ],
      "text/markdown": [
       "\n",
       "A data.frame: 6 × 2\n",
       "\n",
       "| <!--/--> | X &lt;chr&gt; | X.9 &lt;chr&gt; |\n",
       "|---|---|---|\n",
       "| 1 | <!----> | Totals for Australia  |\n",
       "| 2 | Disease name                 | This reporting period |\n",
       "| 3 | <!----> | 14/03/2020            |\n",
       "| 4 | <!----> | 27/03/2020            |\n",
       "| 5 | Hepatitis B (newly acquired) |  6                    |\n",
       "| 6 | Hepatitis B (unspecified)    |  125                  |\n",
       "\n"
      ],
      "text/plain": [
       "  X                            X.9                  \n",
       "1                              Totals for Australia \n",
       "2 Disease name                 This reporting period\n",
       "3                              14/03/2020           \n",
       "4                              27/03/2020           \n",
       "5 Hepatitis B (newly acquired)  6                   \n",
       "6 Hepatitis B (unspecified)     125                 "
      ]
     },
     "metadata": {},
     "output_type": "display_data"
    }
   ],
   "source": [
    "df <- df[, -c(1,3:11, 13:23)]\n",
    "head(df)"
   ]
  },
  {
   "cell_type": "code",
   "execution_count": 28,
   "id": "966f95ee-b576-413a-ab8a-a983b4b02e04",
   "metadata": {},
   "outputs": [
    {
     "data": {
      "text/html": [
       "<table class=\"dataframe\">\n",
       "<caption>A data.frame: 1 × 2</caption>\n",
       "<thead>\n",
       "\t<tr><th></th><th scope=col>X</th><th scope=col>X.9</th></tr>\n",
       "\t<tr><th></th><th scope=col>&lt;chr&gt;</th><th scope=col>&lt;chr&gt;</th></tr>\n",
       "</thead>\n",
       "<tbody>\n",
       "\t<tr><th scope=row>40</th><td>Influenza (laboratory confirmed)</td><td>2087</td></tr>\n",
       "</tbody>\n",
       "</table>\n"
      ],
      "text/latex": [
       "A data.frame: 1 × 2\n",
       "\\begin{tabular}{r|ll}\n",
       "  & X & X.9\\\\\n",
       "  & <chr> & <chr>\\\\\n",
       "\\hline\n",
       "\t40 & Influenza (laboratory confirmed) & 2087\\\\\n",
       "\\end{tabular}\n"
      ],
      "text/markdown": [
       "\n",
       "A data.frame: 1 × 2\n",
       "\n",
       "| <!--/--> | X &lt;chr&gt; | X.9 &lt;chr&gt; |\n",
       "|---|---|---|\n",
       "| 40 | Influenza (laboratory confirmed) | 2087 |\n",
       "\n"
      ],
      "text/plain": [
       "   X                                X.9 \n",
       "40 Influenza (laboratory confirmed) 2087"
      ]
     },
     "metadata": {},
     "output_type": "display_data"
    }
   ],
   "source": [
    "#find the rows that contain the words influenza\n",
    "\n",
    "inf <- df[grep(\"Influenza\", df$X),]\n",
    "head(inf)"
   ]
  },
  {
   "cell_type": "code",
   "execution_count": 29,
   "id": "c87e24c0-94a7-4423-b028-f3066d52a5a5",
   "metadata": {},
   "outputs": [
    {
     "data": {
      "text/html": [
       "<table class=\"dataframe\">\n",
       "<caption>A data.frame: 1 × 2</caption>\n",
       "<thead>\n",
       "\t<tr><th></th><th scope=col>X</th><th scope=col>X.9</th></tr>\n",
       "\t<tr><th></th><th scope=col>&lt;chr&gt;</th><th scope=col>&lt;chr&gt;</th></tr>\n",
       "</thead>\n",
       "<tbody>\n",
       "\t<tr><th scope=row>23</th><td>COVID-19</td><td>3445</td></tr>\n",
       "</tbody>\n",
       "</table>\n"
      ],
      "text/latex": [
       "A data.frame: 1 × 2\n",
       "\\begin{tabular}{r|ll}\n",
       "  & X & X.9\\\\\n",
       "  & <chr> & <chr>\\\\\n",
       "\\hline\n",
       "\t23 & COVID-19 & 3445\\\\\n",
       "\\end{tabular}\n"
      ],
      "text/markdown": [
       "\n",
       "A data.frame: 1 × 2\n",
       "\n",
       "| <!--/--> | X &lt;chr&gt; | X.9 &lt;chr&gt; |\n",
       "|---|---|---|\n",
       "| 23 | COVID-19 | 3445 |\n",
       "\n"
      ],
      "text/plain": [
       "   X        X.9 \n",
       "23 COVID-19 3445"
      ]
     },
     "metadata": {},
     "output_type": "display_data"
    }
   ],
   "source": [
    "covid <-  df[grep(\"COVID\", df$X),]\n",
    "covid"
   ]
  },
  {
   "cell_type": "code",
   "execution_count": 30,
   "id": "c80864e3-d052-45aa-a52c-f9c306262b65",
   "metadata": {},
   "outputs": [
    {
     "data": {
      "text/html": [
       "<table class=\"dataframe\">\n",
       "<caption>A data.frame: 2 × 2</caption>\n",
       "<thead>\n",
       "\t<tr><th></th><th scope=col>X</th><th scope=col>X.9</th></tr>\n",
       "\t<tr><th></th><th scope=col>&lt;chr&gt;</th><th scope=col>&lt;chr&gt;</th></tr>\n",
       "</thead>\n",
       "<tbody>\n",
       "\t<tr><th scope=row>40</th><td>Influenza (laboratory confirmed)</td><td>2087</td></tr>\n",
       "\t<tr><th scope=row>23</th><td>COVID-19                        </td><td>3445</td></tr>\n",
       "</tbody>\n",
       "</table>\n"
      ],
      "text/latex": [
       "A data.frame: 2 × 2\n",
       "\\begin{tabular}{r|ll}\n",
       "  & X & X.9\\\\\n",
       "  & <chr> & <chr>\\\\\n",
       "\\hline\n",
       "\t40 & Influenza (laboratory confirmed) & 2087\\\\\n",
       "\t23 & COVID-19                         & 3445\\\\\n",
       "\\end{tabular}\n"
      ],
      "text/markdown": [
       "\n",
       "A data.frame: 2 × 2\n",
       "\n",
       "| <!--/--> | X &lt;chr&gt; | X.9 &lt;chr&gt; |\n",
       "|---|---|---|\n",
       "| 40 | Influenza (laboratory confirmed) | 2087 |\n",
       "| 23 | COVID-19                         | 3445 |\n",
       "\n"
      ],
      "text/plain": [
       "   X                                X.9 \n",
       "40 Influenza (laboratory confirmed) 2087\n",
       "23 COVID-19                         3445"
      ]
     },
     "metadata": {},
     "output_type": "display_data"
    }
   ],
   "source": [
    "MAR14_MAR27_2020 <- rbind(inf, covid)\n",
    "MAR14_MAR27_2020"
   ]
  },
  {
   "cell_type": "code",
   "execution_count": 33,
   "id": "989f6698-8305-4ff3-8322-d423978b00e0",
   "metadata": {},
   "outputs": [],
   "source": [
    "MAR14_MAR27_2020[,2] <- as.numeric(MAR14_MAR27_2020[,2])"
   ]
  },
  {
   "cell_type": "code",
   "execution_count": 34,
   "id": "2d150277-a85e-4e58-a983-99027992ef49",
   "metadata": {},
   "outputs": [
    {
     "data": {
      "text/html": [
       "<table class=\"dataframe\">\n",
       "<caption>A data.frame: 2 × 2</caption>\n",
       "<thead>\n",
       "\t<tr><th></th><th scope=col>Disease</th><th scope=col>14Mar - 27Mar 2020</th></tr>\n",
       "\t<tr><th></th><th scope=col>&lt;chr&gt;</th><th scope=col>&lt;dbl&gt;</th></tr>\n",
       "</thead>\n",
       "<tbody>\n",
       "\t<tr><th scope=row>40</th><td>Influenza (laboratory confirmed)</td><td>2087</td></tr>\n",
       "\t<tr><th scope=row>23</th><td>COVID-19                        </td><td>3445</td></tr>\n",
       "</tbody>\n",
       "</table>\n"
      ],
      "text/latex": [
       "A data.frame: 2 × 2\n",
       "\\begin{tabular}{r|ll}\n",
       "  & Disease & 14Mar - 27Mar 2020\\\\\n",
       "  & <chr> & <dbl>\\\\\n",
       "\\hline\n",
       "\t40 & Influenza (laboratory confirmed) & 2087\\\\\n",
       "\t23 & COVID-19                         & 3445\\\\\n",
       "\\end{tabular}\n"
      ],
      "text/markdown": [
       "\n",
       "A data.frame: 2 × 2\n",
       "\n",
       "| <!--/--> | Disease &lt;chr&gt; | 14Mar - 27Mar 2020 &lt;dbl&gt; |\n",
       "|---|---|---|\n",
       "| 40 | Influenza (laboratory confirmed) | 2087 |\n",
       "| 23 | COVID-19                         | 3445 |\n",
       "\n"
      ],
      "text/plain": [
       "   Disease                          14Mar - 27Mar 2020\n",
       "40 Influenza (laboratory confirmed) 2087              \n",
       "23 COVID-19                         3445              "
      ]
     },
     "metadata": {},
     "output_type": "display_data"
    }
   ],
   "source": [
    "colnames(MAR14_MAR27_2020) <- c(\"Disease\", \"14Mar - 27Mar 2020\")\n",
    "MAR14_MAR27_2020"
   ]
  },
  {
   "cell_type": "code",
   "execution_count": null,
   "id": "fbc3f664-3db6-4007-81e0-75fcaeba140b",
   "metadata": {},
   "outputs": [],
   "source": []
  },
  {
   "cell_type": "code",
   "execution_count": null,
   "id": "c8e7a173-3cf3-4d6a-82f2-bea60f91533e",
   "metadata": {},
   "outputs": [],
   "source": [
    "## next dataset from 28-march-to-10-april-2020-table"
   ]
  },
  {
   "cell_type": "code",
   "execution_count": 35,
   "id": "f6e9580d-819f-4a03-be1f-ed7406ac3553",
   "metadata": {},
   "outputs": [
    {
     "data": {
      "text/html": [
       "<table class=\"dataframe\">\n",
       "<caption>A data.frame: 6 × 23</caption>\n",
       "<thead>\n",
       "\t<tr><th></th><th scope=col>ADT.FN07.2020</th><th scope=col>X</th><th scope=col>X.1</th><th scope=col>Notification.received.date</th><th scope=col>X.2</th><th scope=col>X.3</th><th scope=col>X.4</th><th scope=col>X.5</th><th scope=col>X.6</th><th scope=col>X.7</th><th scope=col>⋯</th><th scope=col>X.11</th><th scope=col>X.12</th><th scope=col>X.13</th><th scope=col>X.14</th><th scope=col>X.15</th><th scope=col>X.16</th><th scope=col>X.17</th><th scope=col>X.18</th><th scope=col>X.19</th><th scope=col>X.20</th></tr>\n",
       "\t<tr><th></th><th scope=col>&lt;chr&gt;</th><th scope=col>&lt;chr&gt;</th><th scope=col>&lt;chr&gt;</th><th scope=col>&lt;chr&gt;</th><th scope=col>&lt;chr&gt;</th><th scope=col>&lt;chr&gt;</th><th scope=col>&lt;chr&gt;</th><th scope=col>&lt;chr&gt;</th><th scope=col>&lt;chr&gt;</th><th scope=col>&lt;chr&gt;</th><th scope=col>⋯</th><th scope=col>&lt;chr&gt;</th><th scope=col>&lt;chr&gt;</th><th scope=col>&lt;chr&gt;</th><th scope=col>&lt;chr&gt;</th><th scope=col>&lt;chr&gt;</th><th scope=col>&lt;chr&gt;</th><th scope=col>&lt;chr&gt;</th><th scope=col>&lt;chr&gt;</th><th scope=col>&lt;chr&gt;</th><th scope=col>&lt;chr&gt;</th></tr>\n",
       "</thead>\n",
       "<tbody>\n",
       "\t<tr><th scope=row>1</th><td>                   </td><td>                            </td><td>            </td><td>State or Territory</td><td>     </td><td>     </td><td>    </td><td>     </td><td>   </td><td>     </td><td>⋯</td><td>                               </td><td>                 </td><td>Historical 90 Day Period</td><td>                               </td><td>                               </td><td>                                       </td><td>Historical Yearly Period</td><td>                            </td><td>                             </td><td>                                    </td></tr>\n",
       "\t<tr><th scope=row>2</th><td>Disease group      </td><td>Disease name                </td><td>Disease code</td><td>ACT               </td><td>NSW  </td><td>NT   </td><td>Qld </td><td>SA   </td><td>Tas</td><td>Vic  </td><td>⋯</td><td>Same reporting period last year</td><td>Current year\n",
       "YTD</td><td>Past Quarter            </td><td>Quarterly rolling \n",
       "5 year mean</td><td>Ratio past quarter/5 year mean*</td><td>Exceeds quarterly rolling mean +2 SD by</td><td>Past Year               </td><td>Yearly rolling \n",
       "5 year mean</td><td>Ratio past  year/5 year mean*</td><td>Exceeds yearly rolling mean +2 SD by</td></tr>\n",
       "\t<tr><th scope=row>3</th><td>                   </td><td>                            </td><td>            </td><td>                  </td><td>     </td><td>     </td><td>    </td><td>     </td><td>   </td><td>     </td><td>⋯</td><td>28/03/2019                     </td><td>01/01/2019       </td><td>12/01/2020              </td><td>                               </td><td>                               </td><td>                                       </td><td>11/04/2019              </td><td>11/04/2014                  </td><td>                             </td><td>                                    </td></tr>\n",
       "\t<tr><th scope=row>4</th><td>                   </td><td>                            </td><td>            </td><td>                  </td><td>     </td><td>     </td><td>    </td><td>     </td><td>   </td><td>     </td><td>⋯</td><td>10/04/2019                     </td><td>10/04/2020       </td><td>10/04/2020              </td><td>                               </td><td>                               </td><td>                                       </td><td>10/04/2020              </td><td>10/04/2019                  </td><td>                             </td><td>                                    </td></tr>\n",
       "\t<tr><th scope=row>5</th><td>Bloodborne diseases</td><td>Hepatitis B (newly acquired)</td><td>039         </td><td> -                </td><td> -   </td><td> -   </td><td> 2  </td><td> -   </td><td> 1 </td><td> -   </td><td>⋯</td><td> 7                             </td><td> 29              </td><td> 26                     </td><td> 39.4                          </td><td> 0.7                           </td><td> -                                     </td><td> 140                    </td><td> 156.2                      </td><td> 0.9                         </td><td> -                                  </td></tr>\n",
       "\t<tr><th scope=row>6</th><td>                   </td><td>Hepatitis B (unspecified)   </td><td>052         </td><td> 4                </td><td> 43  </td><td> -   </td><td> 24 </td><td> 5   </td><td> 2 </td><td> -   </td><td>⋯</td><td> 249                           </td><td> 1,291           </td><td> 1,154                  </td><td> 1,530.0                       </td><td> 0.8                           </td><td> -                                     </td><td> 5,324                  </td><td> 6,130.4                    </td><td> 0.9                         </td><td> -                                  </td></tr>\n",
       "</tbody>\n",
       "</table>\n"
      ],
      "text/latex": [
       "A data.frame: 6 × 23\n",
       "\\begin{tabular}{r|lllllllllllllllllllll}\n",
       "  & ADT.FN07.2020 & X & X.1 & Notification.received.date & X.2 & X.3 & X.4 & X.5 & X.6 & X.7 & ⋯ & X.11 & X.12 & X.13 & X.14 & X.15 & X.16 & X.17 & X.18 & X.19 & X.20\\\\\n",
       "  & <chr> & <chr> & <chr> & <chr> & <chr> & <chr> & <chr> & <chr> & <chr> & <chr> & ⋯ & <chr> & <chr> & <chr> & <chr> & <chr> & <chr> & <chr> & <chr> & <chr> & <chr>\\\\\n",
       "\\hline\n",
       "\t1 &                     &                              &              & State or Territory &       &       &      &       &     &       & ⋯ &                                 &                   & Historical 90 Day Period &                                 &                                 &                                         & Historical Yearly Period &                              &                               &                                     \\\\\n",
       "\t2 & Disease group       & Disease name                 & Disease code & ACT                & NSW   & NT    & Qld  & SA    & Tas & Vic   & ⋯ & Same reporting period last year & Current year\n",
       "YTD & Past Quarter             & Quarterly rolling \n",
       "5 year mean & Ratio past quarter/5 year mean* & Exceeds quarterly rolling mean +2 SD by & Past Year                & Yearly rolling \n",
       "5 year mean & Ratio past  year/5 year mean* & Exceeds yearly rolling mean +2 SD by\\\\\n",
       "\t3 &                     &                              &              &                    &       &       &      &       &     &       & ⋯ & 28/03/2019                      & 01/01/2019        & 12/01/2020               &                                 &                                 &                                         & 11/04/2019               & 11/04/2014                   &                               &                                     \\\\\n",
       "\t4 &                     &                              &              &                    &       &       &      &       &     &       & ⋯ & 10/04/2019                      & 10/04/2020        & 10/04/2020               &                                 &                                 &                                         & 10/04/2020               & 10/04/2019                   &                               &                                     \\\\\n",
       "\t5 & Bloodborne diseases & Hepatitis B (newly acquired) & 039          &  -                 &  -    &  -    &  2   &  -    &  1  &  -    & ⋯ &  7                              &  29               &  26                      &  39.4                           &  0.7                            &  -                                      &  140                     &  156.2                       &  0.9                          &  -                                  \\\\\n",
       "\t6 &                     & Hepatitis B (unspecified)    & 052          &  4                 &  43   &  -    &  24  &  5    &  2  &  -    & ⋯ &  249                            &  1,291            &  1,154                   &  1,530.0                        &  0.8                            &  -                                      &  5,324                   &  6,130.4                     &  0.9                          &  -                                  \\\\\n",
       "\\end{tabular}\n"
      ],
      "text/markdown": [
       "\n",
       "A data.frame: 6 × 23\n",
       "\n",
       "| <!--/--> | ADT.FN07.2020 &lt;chr&gt; | X &lt;chr&gt; | X.1 &lt;chr&gt; | Notification.received.date &lt;chr&gt; | X.2 &lt;chr&gt; | X.3 &lt;chr&gt; | X.4 &lt;chr&gt; | X.5 &lt;chr&gt; | X.6 &lt;chr&gt; | X.7 &lt;chr&gt; | ⋯ ⋯ | X.11 &lt;chr&gt; | X.12 &lt;chr&gt; | X.13 &lt;chr&gt; | X.14 &lt;chr&gt; | X.15 &lt;chr&gt; | X.16 &lt;chr&gt; | X.17 &lt;chr&gt; | X.18 &lt;chr&gt; | X.19 &lt;chr&gt; | X.20 &lt;chr&gt; |\n",
       "|---|---|---|---|---|---|---|---|---|---|---|---|---|---|---|---|---|---|---|---|---|---|\n",
       "| 1 | <!----> | <!----> | <!----> | State or Territory | <!----> | <!----> | <!----> | <!----> | <!----> | <!----> | ⋯ | <!----> | <!----> | Historical 90 Day Period | <!----> | <!----> | <!----> | Historical Yearly Period | <!----> | <!----> | <!----> |\n",
       "| 2 | Disease group       | Disease name                 | Disease code | ACT                | NSW   | NT    | Qld  | SA    | Tas | Vic   | ⋯ | Same reporting period last year | Current year\n",
       "YTD | Past Quarter             | Quarterly rolling \n",
       "5 year mean | Ratio past quarter/5 year mean* | Exceeds quarterly rolling mean +2 SD by | Past Year                | Yearly rolling \n",
       "5 year mean | Ratio past  year/5 year mean* | Exceeds yearly rolling mean +2 SD by |\n",
       "| 3 | <!----> | <!----> | <!----> | <!----> | <!----> | <!----> | <!----> | <!----> | <!----> | <!----> | ⋯ | 28/03/2019                      | 01/01/2019        | 12/01/2020               | <!----> | <!----> | <!----> | 11/04/2019               | 11/04/2014                   | <!----> | <!----> |\n",
       "| 4 | <!----> | <!----> | <!----> | <!----> | <!----> | <!----> | <!----> | <!----> | <!----> | <!----> | ⋯ | 10/04/2019                      | 10/04/2020        | 10/04/2020               | <!----> | <!----> | <!----> | 10/04/2020               | 10/04/2019                   | <!----> | <!----> |\n",
       "| 5 | Bloodborne diseases | Hepatitis B (newly acquired) | 039          |  -                 |  -    |  -    |  2   |  -    |  1  |  -    | ⋯ |  7                              |  29               |  26                      |  39.4                           |  0.7                            |  -                                      |  140                     |  156.2                       |  0.9                          |  -                                   |\n",
       "| 6 | <!----> | Hepatitis B (unspecified)    | 052          |  4                 |  43   |  -    |  24  |  5    |  2  |  -    | ⋯ |  249                            |  1,291            |  1,154                   |  1,530.0                        |  0.8                            |  -                                      |  5,324                   |  6,130.4                     |  0.9                          |  -                                   |\n",
       "\n"
      ],
      "text/plain": [
       "  ADT.FN07.2020       X                            X.1         \n",
       "1                                                              \n",
       "2 Disease group       Disease name                 Disease code\n",
       "3                                                              \n",
       "4                                                              \n",
       "5 Bloodborne diseases Hepatitis B (newly acquired) 039         \n",
       "6                     Hepatitis B (unspecified)    052         \n",
       "  Notification.received.date X.2   X.3   X.4  X.5   X.6 X.7   ⋯\n",
       "1 State or Territory                                          ⋯\n",
       "2 ACT                        NSW   NT    Qld  SA    Tas Vic   ⋯\n",
       "3                                                             ⋯\n",
       "4                                                             ⋯\n",
       "5  -                          -     -     2    -     1   -    ⋯\n",
       "6  4                          43    -     24   5     2   -    ⋯\n",
       "  X.11                            X.12              X.13                    \n",
       "1                                                   Historical 90 Day Period\n",
       "2 Same reporting period last year Current year\\nYTD Past Quarter            \n",
       "3 28/03/2019                      01/01/2019        12/01/2020              \n",
       "4 10/04/2019                      10/04/2020        10/04/2020              \n",
       "5  7                               29                26                     \n",
       "6  249                             1,291             1,154                  \n",
       "  X.14                            X.15                           \n",
       "1                                                                \n",
       "2 Quarterly rolling \\n5 year mean Ratio past quarter/5 year mean*\n",
       "3                                                                \n",
       "4                                                                \n",
       "5  39.4                            0.7                           \n",
       "6  1,530.0                         0.8                           \n",
       "  X.16                                    X.17                    \n",
       "1                                         Historical Yearly Period\n",
       "2 Exceeds quarterly rolling mean +2 SD by Past Year               \n",
       "3                                         11/04/2019              \n",
       "4                                         10/04/2020              \n",
       "5  -                                       140                    \n",
       "6  -                                       5,324                  \n",
       "  X.18                         X.19                         \n",
       "1                                                           \n",
       "2 Yearly rolling \\n5 year mean Ratio past  year/5 year mean*\n",
       "3 11/04/2014                                                \n",
       "4 10/04/2019                                                \n",
       "5  156.2                        0.9                         \n",
       "6  6,130.4                      0.9                         \n",
       "  X.20                                \n",
       "1                                     \n",
       "2 Exceeds yearly rolling mean +2 SD by\n",
       "3                                     \n",
       "4                                     \n",
       "5  -                                  \n",
       "6  -                                  "
      ]
     },
     "metadata": {},
     "output_type": "display_data"
    }
   ],
   "source": [
    "df = read.csv(\"28-march-to-10-april-2020-table.csv\", header=TRUE, stringsAsFactors=FALSE)\n",
    "head(df)"
   ]
  },
  {
   "cell_type": "code",
   "execution_count": 36,
   "id": "5435a5da-41e0-4569-ac59-d1ee8217cf69",
   "metadata": {},
   "outputs": [
    {
     "data": {
      "text/html": [
       "<table class=\"dataframe\">\n",
       "<caption>A data.frame: 6 × 2</caption>\n",
       "<thead>\n",
       "\t<tr><th></th><th scope=col>X</th><th scope=col>X.9</th></tr>\n",
       "\t<tr><th></th><th scope=col>&lt;chr&gt;</th><th scope=col>&lt;chr&gt;</th></tr>\n",
       "</thead>\n",
       "<tbody>\n",
       "\t<tr><th scope=row>1</th><td>                            </td><td>Totals for Australia </td></tr>\n",
       "\t<tr><th scope=row>2</th><td>Disease name                </td><td>This reporting period</td></tr>\n",
       "\t<tr><th scope=row>3</th><td>                            </td><td>28/03/2020           </td></tr>\n",
       "\t<tr><th scope=row>4</th><td>                            </td><td>10/04/2020           </td></tr>\n",
       "\t<tr><th scope=row>5</th><td>Hepatitis B (newly acquired)</td><td> 3                   </td></tr>\n",
       "\t<tr><th scope=row>6</th><td>Hepatitis B (unspecified)   </td><td> 95                  </td></tr>\n",
       "</tbody>\n",
       "</table>\n"
      ],
      "text/latex": [
       "A data.frame: 6 × 2\n",
       "\\begin{tabular}{r|ll}\n",
       "  & X & X.9\\\\\n",
       "  & <chr> & <chr>\\\\\n",
       "\\hline\n",
       "\t1 &                              & Totals for Australia \\\\\n",
       "\t2 & Disease name                 & This reporting period\\\\\n",
       "\t3 &                              & 28/03/2020           \\\\\n",
       "\t4 &                              & 10/04/2020           \\\\\n",
       "\t5 & Hepatitis B (newly acquired) &  3                   \\\\\n",
       "\t6 & Hepatitis B (unspecified)    &  95                  \\\\\n",
       "\\end{tabular}\n"
      ],
      "text/markdown": [
       "\n",
       "A data.frame: 6 × 2\n",
       "\n",
       "| <!--/--> | X &lt;chr&gt; | X.9 &lt;chr&gt; |\n",
       "|---|---|---|\n",
       "| 1 | <!----> | Totals for Australia  |\n",
       "| 2 | Disease name                 | This reporting period |\n",
       "| 3 | <!----> | 28/03/2020            |\n",
       "| 4 | <!----> | 10/04/2020            |\n",
       "| 5 | Hepatitis B (newly acquired) |  3                    |\n",
       "| 6 | Hepatitis B (unspecified)    |  95                   |\n",
       "\n"
      ],
      "text/plain": [
       "  X                            X.9                  \n",
       "1                              Totals for Australia \n",
       "2 Disease name                 This reporting period\n",
       "3                              28/03/2020           \n",
       "4                              10/04/2020           \n",
       "5 Hepatitis B (newly acquired)  3                   \n",
       "6 Hepatitis B (unspecified)     95                  "
      ]
     },
     "metadata": {},
     "output_type": "display_data"
    }
   ],
   "source": [
    "df <- df[, -c(1,3:11, 13:23)]\n",
    "head(df)"
   ]
  },
  {
   "cell_type": "code",
   "execution_count": 37,
   "id": "04e8428d-41eb-4a9c-9f15-2f3e3962f72c",
   "metadata": {},
   "outputs": [
    {
     "data": {
      "text/html": [
       "<table class=\"dataframe\">\n",
       "<caption>A data.frame: 1 × 2</caption>\n",
       "<thead>\n",
       "\t<tr><th></th><th scope=col>X</th><th scope=col>X.9</th></tr>\n",
       "\t<tr><th></th><th scope=col>&lt;chr&gt;</th><th scope=col>&lt;chr&gt;</th></tr>\n",
       "</thead>\n",
       "<tbody>\n",
       "\t<tr><th scope=row>40</th><td>Influenza (laboratory confirmed)</td><td> 244 </td></tr>\n",
       "</tbody>\n",
       "</table>\n"
      ],
      "text/latex": [
       "A data.frame: 1 × 2\n",
       "\\begin{tabular}{r|ll}\n",
       "  & X & X.9\\\\\n",
       "  & <chr> & <chr>\\\\\n",
       "\\hline\n",
       "\t40 & Influenza (laboratory confirmed) &  244 \\\\\n",
       "\\end{tabular}\n"
      ],
      "text/markdown": [
       "\n",
       "A data.frame: 1 × 2\n",
       "\n",
       "| <!--/--> | X &lt;chr&gt; | X.9 &lt;chr&gt; |\n",
       "|---|---|---|\n",
       "| 40 | Influenza (laboratory confirmed) |  244  |\n",
       "\n"
      ],
      "text/plain": [
       "   X                                X.9  \n",
       "40 Influenza (laboratory confirmed)  244 "
      ]
     },
     "metadata": {},
     "output_type": "display_data"
    },
    {
     "data": {
      "text/html": [
       "<table class=\"dataframe\">\n",
       "<caption>A data.frame: 1 × 2</caption>\n",
       "<thead>\n",
       "\t<tr><th></th><th scope=col>X</th><th scope=col>X.9</th></tr>\n",
       "\t<tr><th></th><th scope=col>&lt;chr&gt;</th><th scope=col>&lt;chr&gt;</th></tr>\n",
       "</thead>\n",
       "<tbody>\n",
       "\t<tr><th scope=row>23</th><td>COVID-19</td><td>2331</td></tr>\n",
       "</tbody>\n",
       "</table>\n"
      ],
      "text/latex": [
       "A data.frame: 1 × 2\n",
       "\\begin{tabular}{r|ll}\n",
       "  & X & X.9\\\\\n",
       "  & <chr> & <chr>\\\\\n",
       "\\hline\n",
       "\t23 & COVID-19 & 2331\\\\\n",
       "\\end{tabular}\n"
      ],
      "text/markdown": [
       "\n",
       "A data.frame: 1 × 2\n",
       "\n",
       "| <!--/--> | X &lt;chr&gt; | X.9 &lt;chr&gt; |\n",
       "|---|---|---|\n",
       "| 23 | COVID-19 | 2331 |\n",
       "\n"
      ],
      "text/plain": [
       "   X        X.9 \n",
       "23 COVID-19 2331"
      ]
     },
     "metadata": {},
     "output_type": "display_data"
    },
    {
     "data": {
      "text/html": [
       "<table class=\"dataframe\">\n",
       "<caption>A data.frame: 2 × 2</caption>\n",
       "<thead>\n",
       "\t<tr><th></th><th scope=col>X</th><th scope=col>X.9</th></tr>\n",
       "\t<tr><th></th><th scope=col>&lt;chr&gt;</th><th scope=col>&lt;chr&gt;</th></tr>\n",
       "</thead>\n",
       "<tbody>\n",
       "\t<tr><th scope=row>40</th><td>Influenza (laboratory confirmed)</td><td> 244 </td></tr>\n",
       "\t<tr><th scope=row>23</th><td>COVID-19                        </td><td>2331 </td></tr>\n",
       "</tbody>\n",
       "</table>\n"
      ],
      "text/latex": [
       "A data.frame: 2 × 2\n",
       "\\begin{tabular}{r|ll}\n",
       "  & X & X.9\\\\\n",
       "  & <chr> & <chr>\\\\\n",
       "\\hline\n",
       "\t40 & Influenza (laboratory confirmed) &  244 \\\\\n",
       "\t23 & COVID-19                         & 2331 \\\\\n",
       "\\end{tabular}\n"
      ],
      "text/markdown": [
       "\n",
       "A data.frame: 2 × 2\n",
       "\n",
       "| <!--/--> | X &lt;chr&gt; | X.9 &lt;chr&gt; |\n",
       "|---|---|---|\n",
       "| 40 | Influenza (laboratory confirmed) |  244  |\n",
       "| 23 | COVID-19                         | 2331  |\n",
       "\n"
      ],
      "text/plain": [
       "   X                                X.9  \n",
       "40 Influenza (laboratory confirmed)  244 \n",
       "23 COVID-19                         2331 "
      ]
     },
     "metadata": {},
     "output_type": "display_data"
    }
   ],
   "source": [
    "#find the rows that contain the words influenza\n",
    "\n",
    "inf <- df[grep(\"Influenza\", df$X),]\n",
    "head(inf)\n",
    "covid <-  df[grep(\"COVID\", df$X),]\n",
    "covid\n",
    "MAR28_APR10_2020 <- rbind(inf, covid)\n",
    "MAR28_APR10_2020"
   ]
  },
  {
   "cell_type": "code",
   "execution_count": 38,
   "id": "98cd3640-fed8-4989-a26c-94edc47a6858",
   "metadata": {},
   "outputs": [
    {
     "data": {
      "text/html": [
       "<table class=\"dataframe\">\n",
       "<caption>A data.frame: 2 × 2</caption>\n",
       "<thead>\n",
       "\t<tr><th></th><th scope=col>Disease</th><th scope=col>14Mar - 27Mar 2020</th></tr>\n",
       "\t<tr><th></th><th scope=col>&lt;chr&gt;</th><th scope=col>&lt;dbl&gt;</th></tr>\n",
       "</thead>\n",
       "<tbody>\n",
       "\t<tr><th scope=row>40</th><td>Influenza (laboratory confirmed)</td><td> 244</td></tr>\n",
       "\t<tr><th scope=row>23</th><td>COVID-19                        </td><td>2331</td></tr>\n",
       "</tbody>\n",
       "</table>\n"
      ],
      "text/latex": [
       "A data.frame: 2 × 2\n",
       "\\begin{tabular}{r|ll}\n",
       "  & Disease & 14Mar - 27Mar 2020\\\\\n",
       "  & <chr> & <dbl>\\\\\n",
       "\\hline\n",
       "\t40 & Influenza (laboratory confirmed) &  244\\\\\n",
       "\t23 & COVID-19                         & 2331\\\\\n",
       "\\end{tabular}\n"
      ],
      "text/markdown": [
       "\n",
       "A data.frame: 2 × 2\n",
       "\n",
       "| <!--/--> | Disease &lt;chr&gt; | 14Mar - 27Mar 2020 &lt;dbl&gt; |\n",
       "|---|---|---|\n",
       "| 40 | Influenza (laboratory confirmed) |  244 |\n",
       "| 23 | COVID-19                         | 2331 |\n",
       "\n"
      ],
      "text/plain": [
       "   Disease                          14Mar - 27Mar 2020\n",
       "40 Influenza (laboratory confirmed)  244              \n",
       "23 COVID-19                         2331              "
      ]
     },
     "metadata": {},
     "output_type": "display_data"
    }
   ],
   "source": [
    "MAR28_APR10_2020[,2] <- as.numeric(MAR28_APR10_2020[,2])\n",
    "colnames(MAR28_APR10_2020) <- c(\"Disease\", \"14Mar - 27Mar 2020\")\n",
    "MAR28_APR10_2020"
   ]
  },
  {
   "cell_type": "code",
   "execution_count": null,
   "id": "2638867a-ebfb-4150-9a2d-d2d613a05c34",
   "metadata": {},
   "outputs": [],
   "source": []
  },
  {
   "cell_type": "code",
   "execution_count": null,
   "id": "5157e6e3-53dc-4908-8f36-482b22ca56ca",
   "metadata": {},
   "outputs": [],
   "source": [
    "### Next dataset from11-to-24-april-2020-table"
   ]
  },
  {
   "cell_type": "code",
   "execution_count": 39,
   "id": "1ac5c243-4d9d-43dd-97cc-ce57bcb9c62c",
   "metadata": {},
   "outputs": [
    {
     "data": {
      "text/html": [
       "<table class=\"dataframe\">\n",
       "<caption>A data.frame: 6 × 23</caption>\n",
       "<thead>\n",
       "\t<tr><th></th><th scope=col>ADT.FN08.2020</th><th scope=col>X</th><th scope=col>X.1</th><th scope=col>Notification.received.date</th><th scope=col>X.2</th><th scope=col>X.3</th><th scope=col>X.4</th><th scope=col>X.5</th><th scope=col>X.6</th><th scope=col>X.7</th><th scope=col>⋯</th><th scope=col>X.11</th><th scope=col>X.12</th><th scope=col>X.13</th><th scope=col>X.14</th><th scope=col>X.15</th><th scope=col>X.16</th><th scope=col>X.17</th><th scope=col>X.18</th><th scope=col>X.19</th><th scope=col>X.20</th></tr>\n",
       "\t<tr><th></th><th scope=col>&lt;chr&gt;</th><th scope=col>&lt;chr&gt;</th><th scope=col>&lt;chr&gt;</th><th scope=col>&lt;chr&gt;</th><th scope=col>&lt;chr&gt;</th><th scope=col>&lt;chr&gt;</th><th scope=col>&lt;chr&gt;</th><th scope=col>&lt;chr&gt;</th><th scope=col>&lt;chr&gt;</th><th scope=col>&lt;chr&gt;</th><th scope=col>⋯</th><th scope=col>&lt;chr&gt;</th><th scope=col>&lt;chr&gt;</th><th scope=col>&lt;chr&gt;</th><th scope=col>&lt;chr&gt;</th><th scope=col>&lt;chr&gt;</th><th scope=col>&lt;chr&gt;</th><th scope=col>&lt;chr&gt;</th><th scope=col>&lt;chr&gt;</th><th scope=col>&lt;chr&gt;</th><th scope=col>&lt;chr&gt;</th></tr>\n",
       "</thead>\n",
       "<tbody>\n",
       "\t<tr><th scope=row>1</th><td>                   </td><td>                            </td><td>            </td><td>State or Territory</td><td>    </td><td>     </td><td>    </td><td>     </td><td>     </td><td>     </td><td>⋯</td><td>                               </td><td>                 </td><td>Historical 90 Day Period</td><td>                               </td><td>                               </td><td>                                       </td><td>Historical Yearly Period</td><td>                            </td><td>                             </td><td>                                    </td></tr>\n",
       "\t<tr><th scope=row>2</th><td>Disease group      </td><td>Disease name                </td><td>Disease code</td><td>ACT               </td><td>NSW </td><td>NT   </td><td>Qld </td><td>SA   </td><td>Tas  </td><td>Vic  </td><td>⋯</td><td>Same reporting period last year</td><td>Current year\n",
       "YTD</td><td>Past Quarter            </td><td>Quarterly rolling \n",
       "5 year mean</td><td>Ratio past quarter/5 year mean*</td><td>Exceeds quarterly rolling mean +2 SD by</td><td>Past Year               </td><td>Yearly rolling \n",
       "5 year mean</td><td>Ratio past  year/5 year mean*</td><td>Exceeds yearly rolling mean +2 SD by</td></tr>\n",
       "\t<tr><th scope=row>3</th><td>                   </td><td>                            </td><td>            </td><td>                  </td><td>    </td><td>     </td><td>    </td><td>     </td><td>     </td><td>     </td><td>⋯</td><td>11/04/2019                     </td><td>01/01/2019       </td><td>26/01/2020              </td><td>                               </td><td>                               </td><td>                                       </td><td>25/04/2019              </td><td>25/04/2014                  </td><td>                             </td><td>                                    </td></tr>\n",
       "\t<tr><th scope=row>4</th><td>                   </td><td>                            </td><td>            </td><td>                  </td><td>    </td><td>     </td><td>    </td><td>     </td><td>     </td><td>     </td><td>⋯</td><td>24/04/2019                     </td><td>24/04/2020       </td><td>24/04/2020              </td><td>                               </td><td>                               </td><td>                                       </td><td>24/04/2020              </td><td>24/04/2019                  </td><td>                             </td><td>                                    </td></tr>\n",
       "\t<tr><th scope=row>5</th><td>Bloodborne diseases</td><td>Hepatitis B (newly acquired)</td><td>039         </td><td> -                </td><td> 2  </td><td> -   </td><td> 2  </td><td> -   </td><td> -   </td><td> -   </td><td>⋯</td><td> 9                             </td><td> 38              </td><td> 33                     </td><td> 38.0                          </td><td> 0.9                           </td><td> -                                     </td><td> 144                    </td><td> 156.8                      </td><td> 0.9                         </td><td> -                                  </td></tr>\n",
       "\t<tr><th scope=row>6</th><td>                   </td><td>Hepatitis B (unspecified)   </td><td>052         </td><td> 4                </td><td> 54 </td><td> -   </td><td> 22 </td><td> 2   </td><td> 3   </td><td> 1   </td><td>⋯</td><td> 196                           </td><td> 1,471           </td><td> 1,142                  </td><td> 1,526.6                       </td><td> 0.7                           </td><td> -                                     </td><td> 5,306                  </td><td> 6,111.0                    </td><td> 0.9                         </td><td> -                                  </td></tr>\n",
       "</tbody>\n",
       "</table>\n"
      ],
      "text/latex": [
       "A data.frame: 6 × 23\n",
       "\\begin{tabular}{r|lllllllllllllllllllll}\n",
       "  & ADT.FN08.2020 & X & X.1 & Notification.received.date & X.2 & X.3 & X.4 & X.5 & X.6 & X.7 & ⋯ & X.11 & X.12 & X.13 & X.14 & X.15 & X.16 & X.17 & X.18 & X.19 & X.20\\\\\n",
       "  & <chr> & <chr> & <chr> & <chr> & <chr> & <chr> & <chr> & <chr> & <chr> & <chr> & ⋯ & <chr> & <chr> & <chr> & <chr> & <chr> & <chr> & <chr> & <chr> & <chr> & <chr>\\\\\n",
       "\\hline\n",
       "\t1 &                     &                              &              & State or Territory &      &       &      &       &       &       & ⋯ &                                 &                   & Historical 90 Day Period &                                 &                                 &                                         & Historical Yearly Period &                              &                               &                                     \\\\\n",
       "\t2 & Disease group       & Disease name                 & Disease code & ACT                & NSW  & NT    & Qld  & SA    & Tas   & Vic   & ⋯ & Same reporting period last year & Current year\n",
       "YTD & Past Quarter             & Quarterly rolling \n",
       "5 year mean & Ratio past quarter/5 year mean* & Exceeds quarterly rolling mean +2 SD by & Past Year                & Yearly rolling \n",
       "5 year mean & Ratio past  year/5 year mean* & Exceeds yearly rolling mean +2 SD by\\\\\n",
       "\t3 &                     &                              &              &                    &      &       &      &       &       &       & ⋯ & 11/04/2019                      & 01/01/2019        & 26/01/2020               &                                 &                                 &                                         & 25/04/2019               & 25/04/2014                   &                               &                                     \\\\\n",
       "\t4 &                     &                              &              &                    &      &       &      &       &       &       & ⋯ & 24/04/2019                      & 24/04/2020        & 24/04/2020               &                                 &                                 &                                         & 24/04/2020               & 24/04/2019                   &                               &                                     \\\\\n",
       "\t5 & Bloodborne diseases & Hepatitis B (newly acquired) & 039          &  -                 &  2   &  -    &  2   &  -    &  -    &  -    & ⋯ &  9                              &  38               &  33                      &  38.0                           &  0.9                            &  -                                      &  144                     &  156.8                       &  0.9                          &  -                                  \\\\\n",
       "\t6 &                     & Hepatitis B (unspecified)    & 052          &  4                 &  54  &  -    &  22  &  2    &  3    &  1    & ⋯ &  196                            &  1,471            &  1,142                   &  1,526.6                        &  0.7                            &  -                                      &  5,306                   &  6,111.0                     &  0.9                          &  -                                  \\\\\n",
       "\\end{tabular}\n"
      ],
      "text/markdown": [
       "\n",
       "A data.frame: 6 × 23\n",
       "\n",
       "| <!--/--> | ADT.FN08.2020 &lt;chr&gt; | X &lt;chr&gt; | X.1 &lt;chr&gt; | Notification.received.date &lt;chr&gt; | X.2 &lt;chr&gt; | X.3 &lt;chr&gt; | X.4 &lt;chr&gt; | X.5 &lt;chr&gt; | X.6 &lt;chr&gt; | X.7 &lt;chr&gt; | ⋯ ⋯ | X.11 &lt;chr&gt; | X.12 &lt;chr&gt; | X.13 &lt;chr&gt; | X.14 &lt;chr&gt; | X.15 &lt;chr&gt; | X.16 &lt;chr&gt; | X.17 &lt;chr&gt; | X.18 &lt;chr&gt; | X.19 &lt;chr&gt; | X.20 &lt;chr&gt; |\n",
       "|---|---|---|---|---|---|---|---|---|---|---|---|---|---|---|---|---|---|---|---|---|---|\n",
       "| 1 | <!----> | <!----> | <!----> | State or Territory | <!----> | <!----> | <!----> | <!----> | <!----> | <!----> | ⋯ | <!----> | <!----> | Historical 90 Day Period | <!----> | <!----> | <!----> | Historical Yearly Period | <!----> | <!----> | <!----> |\n",
       "| 2 | Disease group       | Disease name                 | Disease code | ACT                | NSW  | NT    | Qld  | SA    | Tas   | Vic   | ⋯ | Same reporting period last year | Current year\n",
       "YTD | Past Quarter             | Quarterly rolling \n",
       "5 year mean | Ratio past quarter/5 year mean* | Exceeds quarterly rolling mean +2 SD by | Past Year                | Yearly rolling \n",
       "5 year mean | Ratio past  year/5 year mean* | Exceeds yearly rolling mean +2 SD by |\n",
       "| 3 | <!----> | <!----> | <!----> | <!----> | <!----> | <!----> | <!----> | <!----> | <!----> | <!----> | ⋯ | 11/04/2019                      | 01/01/2019        | 26/01/2020               | <!----> | <!----> | <!----> | 25/04/2019               | 25/04/2014                   | <!----> | <!----> |\n",
       "| 4 | <!----> | <!----> | <!----> | <!----> | <!----> | <!----> | <!----> | <!----> | <!----> | <!----> | ⋯ | 24/04/2019                      | 24/04/2020        | 24/04/2020               | <!----> | <!----> | <!----> | 24/04/2020               | 24/04/2019                   | <!----> | <!----> |\n",
       "| 5 | Bloodborne diseases | Hepatitis B (newly acquired) | 039          |  -                 |  2   |  -    |  2   |  -    |  -    |  -    | ⋯ |  9                              |  38               |  33                      |  38.0                           |  0.9                            |  -                                      |  144                     |  156.8                       |  0.9                          |  -                                   |\n",
       "| 6 | <!----> | Hepatitis B (unspecified)    | 052          |  4                 |  54  |  -    |  22  |  2    |  3    |  1    | ⋯ |  196                            |  1,471            |  1,142                   |  1,526.6                        |  0.7                            |  -                                      |  5,306                   |  6,111.0                     |  0.9                          |  -                                   |\n",
       "\n"
      ],
      "text/plain": [
       "  ADT.FN08.2020       X                            X.1         \n",
       "1                                                              \n",
       "2 Disease group       Disease name                 Disease code\n",
       "3                                                              \n",
       "4                                                              \n",
       "5 Bloodborne diseases Hepatitis B (newly acquired) 039         \n",
       "6                     Hepatitis B (unspecified)    052         \n",
       "  Notification.received.date X.2  X.3   X.4  X.5   X.6   X.7   ⋯\n",
       "1 State or Territory                                           ⋯\n",
       "2 ACT                        NSW  NT    Qld  SA    Tas   Vic   ⋯\n",
       "3                                                              ⋯\n",
       "4                                                              ⋯\n",
       "5  -                          2    -     2    -     -     -    ⋯\n",
       "6  4                          54   -     22   2     3     1    ⋯\n",
       "  X.11                            X.12              X.13                    \n",
       "1                                                   Historical 90 Day Period\n",
       "2 Same reporting period last year Current year\\nYTD Past Quarter            \n",
       "3 11/04/2019                      01/01/2019        26/01/2020              \n",
       "4 24/04/2019                      24/04/2020        24/04/2020              \n",
       "5  9                               38                33                     \n",
       "6  196                             1,471             1,142                  \n",
       "  X.14                            X.15                           \n",
       "1                                                                \n",
       "2 Quarterly rolling \\n5 year mean Ratio past quarter/5 year mean*\n",
       "3                                                                \n",
       "4                                                                \n",
       "5  38.0                            0.9                           \n",
       "6  1,526.6                         0.7                           \n",
       "  X.16                                    X.17                    \n",
       "1                                         Historical Yearly Period\n",
       "2 Exceeds quarterly rolling mean +2 SD by Past Year               \n",
       "3                                         25/04/2019              \n",
       "4                                         24/04/2020              \n",
       "5  -                                       144                    \n",
       "6  -                                       5,306                  \n",
       "  X.18                         X.19                         \n",
       "1                                                           \n",
       "2 Yearly rolling \\n5 year mean Ratio past  year/5 year mean*\n",
       "3 25/04/2014                                                \n",
       "4 24/04/2019                                                \n",
       "5  156.8                        0.9                         \n",
       "6  6,111.0                      0.9                         \n",
       "  X.20                                \n",
       "1                                     \n",
       "2 Exceeds yearly rolling mean +2 SD by\n",
       "3                                     \n",
       "4                                     \n",
       "5  -                                  \n",
       "6  -                                  "
      ]
     },
     "metadata": {},
     "output_type": "display_data"
    }
   ],
   "source": [
    "df = read.csv(\"11-to-24-april-2020-table.csv\", header=TRUE, stringsAsFactors=FALSE)\n",
    "head(df)"
   ]
  },
  {
   "cell_type": "code",
   "execution_count": 40,
   "id": "e6ec46fd-1ed4-4cda-8ec9-df3c341ddf70",
   "metadata": {},
   "outputs": [
    {
     "data": {
      "text/html": [
       "<table class=\"dataframe\">\n",
       "<caption>A data.frame: 6 × 2</caption>\n",
       "<thead>\n",
       "\t<tr><th></th><th scope=col>X</th><th scope=col>X.9</th></tr>\n",
       "\t<tr><th></th><th scope=col>&lt;chr&gt;</th><th scope=col>&lt;chr&gt;</th></tr>\n",
       "</thead>\n",
       "<tbody>\n",
       "\t<tr><th scope=row>1</th><td>                            </td><td>Totals for Australia </td></tr>\n",
       "\t<tr><th scope=row>2</th><td>Disease name                </td><td>This reporting period</td></tr>\n",
       "\t<tr><th scope=row>3</th><td>                            </td><td>11/04/2020           </td></tr>\n",
       "\t<tr><th scope=row>4</th><td>                            </td><td>24/04/2020           </td></tr>\n",
       "\t<tr><th scope=row>5</th><td>Hepatitis B (newly acquired)</td><td> 5                   </td></tr>\n",
       "\t<tr><th scope=row>6</th><td>Hepatitis B (unspecified)   </td><td> 99                  </td></tr>\n",
       "</tbody>\n",
       "</table>\n"
      ],
      "text/latex": [
       "A data.frame: 6 × 2\n",
       "\\begin{tabular}{r|ll}\n",
       "  & X & X.9\\\\\n",
       "  & <chr> & <chr>\\\\\n",
       "\\hline\n",
       "\t1 &                              & Totals for Australia \\\\\n",
       "\t2 & Disease name                 & This reporting period\\\\\n",
       "\t3 &                              & 11/04/2020           \\\\\n",
       "\t4 &                              & 24/04/2020           \\\\\n",
       "\t5 & Hepatitis B (newly acquired) &  5                   \\\\\n",
       "\t6 & Hepatitis B (unspecified)    &  99                  \\\\\n",
       "\\end{tabular}\n"
      ],
      "text/markdown": [
       "\n",
       "A data.frame: 6 × 2\n",
       "\n",
       "| <!--/--> | X &lt;chr&gt; | X.9 &lt;chr&gt; |\n",
       "|---|---|---|\n",
       "| 1 | <!----> | Totals for Australia  |\n",
       "| 2 | Disease name                 | This reporting period |\n",
       "| 3 | <!----> | 11/04/2020            |\n",
       "| 4 | <!----> | 24/04/2020            |\n",
       "| 5 | Hepatitis B (newly acquired) |  5                    |\n",
       "| 6 | Hepatitis B (unspecified)    |  99                   |\n",
       "\n"
      ],
      "text/plain": [
       "  X                            X.9                  \n",
       "1                              Totals for Australia \n",
       "2 Disease name                 This reporting period\n",
       "3                              11/04/2020           \n",
       "4                              24/04/2020           \n",
       "5 Hepatitis B (newly acquired)  5                   \n",
       "6 Hepatitis B (unspecified)     99                  "
      ]
     },
     "metadata": {},
     "output_type": "display_data"
    }
   ],
   "source": [
    "df <- df[, -c(1,3:11, 13:23)]\n",
    "head(df)"
   ]
  },
  {
   "cell_type": "code",
   "execution_count": 41,
   "id": "3dd839ad-f3c4-420f-bfb2-818c9d377110",
   "metadata": {},
   "outputs": [
    {
     "data": {
      "text/html": [
       "<table class=\"dataframe\">\n",
       "<caption>A data.frame: 1 × 2</caption>\n",
       "<thead>\n",
       "\t<tr><th></th><th scope=col>X</th><th scope=col>X.9</th></tr>\n",
       "\t<tr><th></th><th scope=col>&lt;chr&gt;</th><th scope=col>&lt;chr&gt;</th></tr>\n",
       "</thead>\n",
       "<tbody>\n",
       "\t<tr><th scope=row>40</th><td>Influenza (laboratory confirmed)</td><td> 150 </td></tr>\n",
       "</tbody>\n",
       "</table>\n"
      ],
      "text/latex": [
       "A data.frame: 1 × 2\n",
       "\\begin{tabular}{r|ll}\n",
       "  & X & X.9\\\\\n",
       "  & <chr> & <chr>\\\\\n",
       "\\hline\n",
       "\t40 & Influenza (laboratory confirmed) &  150 \\\\\n",
       "\\end{tabular}\n"
      ],
      "text/markdown": [
       "\n",
       "A data.frame: 1 × 2\n",
       "\n",
       "| <!--/--> | X &lt;chr&gt; | X.9 &lt;chr&gt; |\n",
       "|---|---|---|\n",
       "| 40 | Influenza (laboratory confirmed) |  150  |\n",
       "\n"
      ],
      "text/plain": [
       "   X                                X.9  \n",
       "40 Influenza (laboratory confirmed)  150 "
      ]
     },
     "metadata": {},
     "output_type": "display_data"
    },
    {
     "data": {
      "text/html": [
       "<table class=\"dataframe\">\n",
       "<caption>A data.frame: 1 × 2</caption>\n",
       "<thead>\n",
       "\t<tr><th></th><th scope=col>X</th><th scope=col>X.9</th></tr>\n",
       "\t<tr><th></th><th scope=col>&lt;chr&gt;</th><th scope=col>&lt;chr&gt;</th></tr>\n",
       "</thead>\n",
       "<tbody>\n",
       "\t<tr><th scope=row>23</th><td>COVID-19</td><td> 386 </td></tr>\n",
       "</tbody>\n",
       "</table>\n"
      ],
      "text/latex": [
       "A data.frame: 1 × 2\n",
       "\\begin{tabular}{r|ll}\n",
       "  & X & X.9\\\\\n",
       "  & <chr> & <chr>\\\\\n",
       "\\hline\n",
       "\t23 & COVID-19 &  386 \\\\\n",
       "\\end{tabular}\n"
      ],
      "text/markdown": [
       "\n",
       "A data.frame: 1 × 2\n",
       "\n",
       "| <!--/--> | X &lt;chr&gt; | X.9 &lt;chr&gt; |\n",
       "|---|---|---|\n",
       "| 23 | COVID-19 |  386  |\n",
       "\n"
      ],
      "text/plain": [
       "   X        X.9  \n",
       "23 COVID-19  386 "
      ]
     },
     "metadata": {},
     "output_type": "display_data"
    },
    {
     "data": {
      "text/html": [
       "<table class=\"dataframe\">\n",
       "<caption>A data.frame: 2 × 2</caption>\n",
       "<thead>\n",
       "\t<tr><th></th><th scope=col>X</th><th scope=col>X.9</th></tr>\n",
       "\t<tr><th></th><th scope=col>&lt;chr&gt;</th><th scope=col>&lt;chr&gt;</th></tr>\n",
       "</thead>\n",
       "<tbody>\n",
       "\t<tr><th scope=row>40</th><td>Influenza (laboratory confirmed)</td><td> 150 </td></tr>\n",
       "\t<tr><th scope=row>23</th><td>COVID-19                        </td><td> 386 </td></tr>\n",
       "</tbody>\n",
       "</table>\n"
      ],
      "text/latex": [
       "A data.frame: 2 × 2\n",
       "\\begin{tabular}{r|ll}\n",
       "  & X & X.9\\\\\n",
       "  & <chr> & <chr>\\\\\n",
       "\\hline\n",
       "\t40 & Influenza (laboratory confirmed) &  150 \\\\\n",
       "\t23 & COVID-19                         &  386 \\\\\n",
       "\\end{tabular}\n"
      ],
      "text/markdown": [
       "\n",
       "A data.frame: 2 × 2\n",
       "\n",
       "| <!--/--> | X &lt;chr&gt; | X.9 &lt;chr&gt; |\n",
       "|---|---|---|\n",
       "| 40 | Influenza (laboratory confirmed) |  150  |\n",
       "| 23 | COVID-19                         |  386  |\n",
       "\n"
      ],
      "text/plain": [
       "   X                                X.9  \n",
       "40 Influenza (laboratory confirmed)  150 \n",
       "23 COVID-19                          386 "
      ]
     },
     "metadata": {},
     "output_type": "display_data"
    }
   ],
   "source": [
    "#find the rows that contain the words influenza\n",
    "\n",
    "inf <- df[grep(\"Influenza\", df$X),]\n",
    "head(inf)\n",
    "covid <-  df[grep(\"COVID\", df$X),]\n",
    "covid\n",
    "APR11_APR24_2020 <- rbind(inf, covid)\n",
    "APR11_APR24_2020"
   ]
  },
  {
   "cell_type": "code",
   "execution_count": 43,
   "id": "3af71151-57c4-414a-ba4a-22b33c6161e1",
   "metadata": {},
   "outputs": [
    {
     "data": {
      "text/html": [
       "<table class=\"dataframe\">\n",
       "<caption>A data.frame: 2 × 2</caption>\n",
       "<thead>\n",
       "\t<tr><th></th><th scope=col>Disease</th><th scope=col>11Apr - 24APR 2020</th></tr>\n",
       "\t<tr><th></th><th scope=col>&lt;chr&gt;</th><th scope=col>&lt;dbl&gt;</th></tr>\n",
       "</thead>\n",
       "<tbody>\n",
       "\t<tr><th scope=row>40</th><td>Influenza (laboratory confirmed)</td><td>150</td></tr>\n",
       "\t<tr><th scope=row>23</th><td>COVID-19                        </td><td>386</td></tr>\n",
       "</tbody>\n",
       "</table>\n"
      ],
      "text/latex": [
       "A data.frame: 2 × 2\n",
       "\\begin{tabular}{r|ll}\n",
       "  & Disease & 11Apr - 24APR 2020\\\\\n",
       "  & <chr> & <dbl>\\\\\n",
       "\\hline\n",
       "\t40 & Influenza (laboratory confirmed) & 150\\\\\n",
       "\t23 & COVID-19                         & 386\\\\\n",
       "\\end{tabular}\n"
      ],
      "text/markdown": [
       "\n",
       "A data.frame: 2 × 2\n",
       "\n",
       "| <!--/--> | Disease &lt;chr&gt; | 11Apr - 24APR 2020 &lt;dbl&gt; |\n",
       "|---|---|---|\n",
       "| 40 | Influenza (laboratory confirmed) | 150 |\n",
       "| 23 | COVID-19                         | 386 |\n",
       "\n"
      ],
      "text/plain": [
       "   Disease                          11Apr - 24APR 2020\n",
       "40 Influenza (laboratory confirmed) 150               \n",
       "23 COVID-19                         386               "
      ]
     },
     "metadata": {},
     "output_type": "display_data"
    }
   ],
   "source": [
    "APR11_APR24_2020[,2] <- as.numeric(APR11_APR24_2020[,2])\n",
    "colnames(APR11_APR24_2020) <- c(\"Disease\", \"11Apr - 24APR 2020\")\n",
    "APR11_APR24_2020"
   ]
  },
  {
   "cell_type": "code",
   "execution_count": null,
   "id": "ad0bfa47-1948-4904-ac38-5cde3bd01af4",
   "metadata": {},
   "outputs": [],
   "source": []
  },
  {
   "cell_type": "code",
   "execution_count": null,
   "id": "e95354a1-1897-431e-84e6-d88577d5848a",
   "metadata": {},
   "outputs": [],
   "source": [
    "## Next Dataset from 25-april-to-8-may-2020-table"
   ]
  },
  {
   "cell_type": "code",
   "execution_count": 44,
   "id": "dfb46a8f-9e4d-4ce2-a617-8c19aa888f5e",
   "metadata": {},
   "outputs": [
    {
     "data": {
      "text/html": [
       "<table class=\"dataframe\">\n",
       "<caption>A data.frame: 6 × 23</caption>\n",
       "<thead>\n",
       "\t<tr><th></th><th scope=col>ADT.FN09.2020</th><th scope=col>X</th><th scope=col>X.1</th><th scope=col>Notification.received.date</th><th scope=col>X.2</th><th scope=col>X.3</th><th scope=col>X.4</th><th scope=col>X.5</th><th scope=col>X.6</th><th scope=col>X.7</th><th scope=col>⋯</th><th scope=col>X.11</th><th scope=col>X.12</th><th scope=col>X.13</th><th scope=col>X.14</th><th scope=col>X.15</th><th scope=col>X.16</th><th scope=col>X.17</th><th scope=col>X.18</th><th scope=col>X.19</th><th scope=col>X.20</th></tr>\n",
       "\t<tr><th></th><th scope=col>&lt;chr&gt;</th><th scope=col>&lt;chr&gt;</th><th scope=col>&lt;chr&gt;</th><th scope=col>&lt;chr&gt;</th><th scope=col>&lt;chr&gt;</th><th scope=col>&lt;chr&gt;</th><th scope=col>&lt;chr&gt;</th><th scope=col>&lt;chr&gt;</th><th scope=col>&lt;chr&gt;</th><th scope=col>&lt;chr&gt;</th><th scope=col>⋯</th><th scope=col>&lt;chr&gt;</th><th scope=col>&lt;chr&gt;</th><th scope=col>&lt;chr&gt;</th><th scope=col>&lt;chr&gt;</th><th scope=col>&lt;chr&gt;</th><th scope=col>&lt;chr&gt;</th><th scope=col>&lt;chr&gt;</th><th scope=col>&lt;chr&gt;</th><th scope=col>&lt;chr&gt;</th><th scope=col>&lt;chr&gt;</th></tr>\n",
       "</thead>\n",
       "<tbody>\n",
       "\t<tr><th scope=row>1</th><td>                   </td><td>                            </td><td>            </td><td>State or Territory</td><td>     </td><td>     </td><td>    </td><td>     </td><td>     </td><td>     </td><td>⋯</td><td>                               </td><td>                 </td><td>Historical 90 Day Period</td><td>                               </td><td>                               </td><td>                                       </td><td>Historical Yearly Period</td><td>                            </td><td>                             </td><td>                                    </td></tr>\n",
       "\t<tr><th scope=row>2</th><td>Disease group      </td><td>Disease name                </td><td>Disease code</td><td>ACT               </td><td>NSW  </td><td>NT   </td><td>Qld </td><td>SA   </td><td>Tas  </td><td>Vic  </td><td>⋯</td><td>Same reporting period last year</td><td>Current year\n",
       "YTD</td><td>Past Quarter            </td><td>Quarterly rolling \n",
       "5 year mean</td><td>Ratio past quarter/5 year mean*</td><td>Exceeds quarterly rolling mean +2 SD by</td><td>Past Year               </td><td>Yearly rolling \n",
       "5 year mean</td><td>Ratio past  year/5 year mean*</td><td>Exceeds yearly rolling mean +2 SD by</td></tr>\n",
       "\t<tr><th scope=row>3</th><td>                   </td><td>                            </td><td>            </td><td>                  </td><td>     </td><td>     </td><td>    </td><td>     </td><td>     </td><td>     </td><td>⋯</td><td>25/04/2019                     </td><td>01/01/2019       </td><td>09/02/2020              </td><td>                               </td><td>                               </td><td>                                       </td><td>09/05/2019              </td><td>09/05/2014                  </td><td>                             </td><td>                                    </td></tr>\n",
       "\t<tr><th scope=row>4</th><td>                   </td><td>                            </td><td>            </td><td>                  </td><td>     </td><td>     </td><td>    </td><td>     </td><td>     </td><td>     </td><td>⋯</td><td>08/05/2019                     </td><td>08/05/2020       </td><td>08/05/2020              </td><td>                               </td><td>                               </td><td>                                       </td><td>08/05/2020              </td><td>08/05/2019                  </td><td>                             </td><td>                                    </td></tr>\n",
       "\t<tr><th scope=row>5</th><td>Bloodborne diseases</td><td>Hepatitis B (newly acquired)</td><td>039         </td><td> -                </td><td> -   </td><td> -   </td><td> 5  </td><td> -   </td><td> -   </td><td> -   </td><td>⋯</td><td> 2                             </td><td> 40              </td><td> 31                     </td><td> 40.8                          </td><td> 0.8                           </td><td> -                                     </td><td> 144                    </td><td> 154.6                      </td><td> 0.9                         </td><td> -                                  </td></tr>\n",
       "\t<tr><th scope=row>6</th><td>                   </td><td>Hepatitis B (unspecified)   </td><td>052         </td><td> 2                </td><td> 70  </td><td> -   </td><td> 24 </td><td> 1   </td><td> 1   </td><td> -   </td><td>⋯</td><td> 209                           </td><td> 1,695           </td><td> 1,149                  </td><td> 1,540.4                       </td><td> 0.7                           </td><td> -                                     </td><td> 5,321                  </td><td> 6,115.4                    </td><td> 0.9                         </td><td> -                                  </td></tr>\n",
       "</tbody>\n",
       "</table>\n"
      ],
      "text/latex": [
       "A data.frame: 6 × 23\n",
       "\\begin{tabular}{r|lllllllllllllllllllll}\n",
       "  & ADT.FN09.2020 & X & X.1 & Notification.received.date & X.2 & X.3 & X.4 & X.5 & X.6 & X.7 & ⋯ & X.11 & X.12 & X.13 & X.14 & X.15 & X.16 & X.17 & X.18 & X.19 & X.20\\\\\n",
       "  & <chr> & <chr> & <chr> & <chr> & <chr> & <chr> & <chr> & <chr> & <chr> & <chr> & ⋯ & <chr> & <chr> & <chr> & <chr> & <chr> & <chr> & <chr> & <chr> & <chr> & <chr>\\\\\n",
       "\\hline\n",
       "\t1 &                     &                              &              & State or Territory &       &       &      &       &       &       & ⋯ &                                 &                   & Historical 90 Day Period &                                 &                                 &                                         & Historical Yearly Period &                              &                               &                                     \\\\\n",
       "\t2 & Disease group       & Disease name                 & Disease code & ACT                & NSW   & NT    & Qld  & SA    & Tas   & Vic   & ⋯ & Same reporting period last year & Current year\n",
       "YTD & Past Quarter             & Quarterly rolling \n",
       "5 year mean & Ratio past quarter/5 year mean* & Exceeds quarterly rolling mean +2 SD by & Past Year                & Yearly rolling \n",
       "5 year mean & Ratio past  year/5 year mean* & Exceeds yearly rolling mean +2 SD by\\\\\n",
       "\t3 &                     &                              &              &                    &       &       &      &       &       &       & ⋯ & 25/04/2019                      & 01/01/2019        & 09/02/2020               &                                 &                                 &                                         & 09/05/2019               & 09/05/2014                   &                               &                                     \\\\\n",
       "\t4 &                     &                              &              &                    &       &       &      &       &       &       & ⋯ & 08/05/2019                      & 08/05/2020        & 08/05/2020               &                                 &                                 &                                         & 08/05/2020               & 08/05/2019                   &                               &                                     \\\\\n",
       "\t5 & Bloodborne diseases & Hepatitis B (newly acquired) & 039          &  -                 &  -    &  -    &  5   &  -    &  -    &  -    & ⋯ &  2                              &  40               &  31                      &  40.8                           &  0.8                            &  -                                      &  144                     &  154.6                       &  0.9                          &  -                                  \\\\\n",
       "\t6 &                     & Hepatitis B (unspecified)    & 052          &  2                 &  70   &  -    &  24  &  1    &  1    &  -    & ⋯ &  209                            &  1,695            &  1,149                   &  1,540.4                        &  0.7                            &  -                                      &  5,321                   &  6,115.4                     &  0.9                          &  -                                  \\\\\n",
       "\\end{tabular}\n"
      ],
      "text/markdown": [
       "\n",
       "A data.frame: 6 × 23\n",
       "\n",
       "| <!--/--> | ADT.FN09.2020 &lt;chr&gt; | X &lt;chr&gt; | X.1 &lt;chr&gt; | Notification.received.date &lt;chr&gt; | X.2 &lt;chr&gt; | X.3 &lt;chr&gt; | X.4 &lt;chr&gt; | X.5 &lt;chr&gt; | X.6 &lt;chr&gt; | X.7 &lt;chr&gt; | ⋯ ⋯ | X.11 &lt;chr&gt; | X.12 &lt;chr&gt; | X.13 &lt;chr&gt; | X.14 &lt;chr&gt; | X.15 &lt;chr&gt; | X.16 &lt;chr&gt; | X.17 &lt;chr&gt; | X.18 &lt;chr&gt; | X.19 &lt;chr&gt; | X.20 &lt;chr&gt; |\n",
       "|---|---|---|---|---|---|---|---|---|---|---|---|---|---|---|---|---|---|---|---|---|---|\n",
       "| 1 | <!----> | <!----> | <!----> | State or Territory | <!----> | <!----> | <!----> | <!----> | <!----> | <!----> | ⋯ | <!----> | <!----> | Historical 90 Day Period | <!----> | <!----> | <!----> | Historical Yearly Period | <!----> | <!----> | <!----> |\n",
       "| 2 | Disease group       | Disease name                 | Disease code | ACT                | NSW   | NT    | Qld  | SA    | Tas   | Vic   | ⋯ | Same reporting period last year | Current year\n",
       "YTD | Past Quarter             | Quarterly rolling \n",
       "5 year mean | Ratio past quarter/5 year mean* | Exceeds quarterly rolling mean +2 SD by | Past Year                | Yearly rolling \n",
       "5 year mean | Ratio past  year/5 year mean* | Exceeds yearly rolling mean +2 SD by |\n",
       "| 3 | <!----> | <!----> | <!----> | <!----> | <!----> | <!----> | <!----> | <!----> | <!----> | <!----> | ⋯ | 25/04/2019                      | 01/01/2019        | 09/02/2020               | <!----> | <!----> | <!----> | 09/05/2019               | 09/05/2014                   | <!----> | <!----> |\n",
       "| 4 | <!----> | <!----> | <!----> | <!----> | <!----> | <!----> | <!----> | <!----> | <!----> | <!----> | ⋯ | 08/05/2019                      | 08/05/2020        | 08/05/2020               | <!----> | <!----> | <!----> | 08/05/2020               | 08/05/2019                   | <!----> | <!----> |\n",
       "| 5 | Bloodborne diseases | Hepatitis B (newly acquired) | 039          |  -                 |  -    |  -    |  5   |  -    |  -    |  -    | ⋯ |  2                              |  40               |  31                      |  40.8                           |  0.8                            |  -                                      |  144                     |  154.6                       |  0.9                          |  -                                   |\n",
       "| 6 | <!----> | Hepatitis B (unspecified)    | 052          |  2                 |  70   |  -    |  24  |  1    |  1    |  -    | ⋯ |  209                            |  1,695            |  1,149                   |  1,540.4                        |  0.7                            |  -                                      |  5,321                   |  6,115.4                     |  0.9                          |  -                                   |\n",
       "\n"
      ],
      "text/plain": [
       "  ADT.FN09.2020       X                            X.1         \n",
       "1                                                              \n",
       "2 Disease group       Disease name                 Disease code\n",
       "3                                                              \n",
       "4                                                              \n",
       "5 Bloodborne diseases Hepatitis B (newly acquired) 039         \n",
       "6                     Hepatitis B (unspecified)    052         \n",
       "  Notification.received.date X.2   X.3   X.4  X.5   X.6   X.7   ⋯\n",
       "1 State or Territory                                            ⋯\n",
       "2 ACT                        NSW   NT    Qld  SA    Tas   Vic   ⋯\n",
       "3                                                               ⋯\n",
       "4                                                               ⋯\n",
       "5  -                          -     -     5    -     -     -    ⋯\n",
       "6  2                          70    -     24   1     1     -    ⋯\n",
       "  X.11                            X.12              X.13                    \n",
       "1                                                   Historical 90 Day Period\n",
       "2 Same reporting period last year Current year\\nYTD Past Quarter            \n",
       "3 25/04/2019                      01/01/2019        09/02/2020              \n",
       "4 08/05/2019                      08/05/2020        08/05/2020              \n",
       "5  2                               40                31                     \n",
       "6  209                             1,695             1,149                  \n",
       "  X.14                            X.15                           \n",
       "1                                                                \n",
       "2 Quarterly rolling \\n5 year mean Ratio past quarter/5 year mean*\n",
       "3                                                                \n",
       "4                                                                \n",
       "5  40.8                            0.8                           \n",
       "6  1,540.4                         0.7                           \n",
       "  X.16                                    X.17                    \n",
       "1                                         Historical Yearly Period\n",
       "2 Exceeds quarterly rolling mean +2 SD by Past Year               \n",
       "3                                         09/05/2019              \n",
       "4                                         08/05/2020              \n",
       "5  -                                       144                    \n",
       "6  -                                       5,321                  \n",
       "  X.18                         X.19                         \n",
       "1                                                           \n",
       "2 Yearly rolling \\n5 year mean Ratio past  year/5 year mean*\n",
       "3 09/05/2014                                                \n",
       "4 08/05/2019                                                \n",
       "5  154.6                        0.9                         \n",
       "6  6,115.4                      0.9                         \n",
       "  X.20                                \n",
       "1                                     \n",
       "2 Exceeds yearly rolling mean +2 SD by\n",
       "3                                     \n",
       "4                                     \n",
       "5  -                                  \n",
       "6  -                                  "
      ]
     },
     "metadata": {},
     "output_type": "display_data"
    }
   ],
   "source": [
    "df = read.csv(\"25-april-to-8-may-2020-table.csv\", header=TRUE, stringsAsFactors=FALSE)\n",
    "head(df)"
   ]
  },
  {
   "cell_type": "code",
   "execution_count": 45,
   "id": "f4ca4629-2f6c-4e53-b674-fb423b4c7466",
   "metadata": {},
   "outputs": [
    {
     "data": {
      "text/html": [
       "<table class=\"dataframe\">\n",
       "<caption>A data.frame: 6 × 2</caption>\n",
       "<thead>\n",
       "\t<tr><th></th><th scope=col>X</th><th scope=col>X.9</th></tr>\n",
       "\t<tr><th></th><th scope=col>&lt;chr&gt;</th><th scope=col>&lt;chr&gt;</th></tr>\n",
       "</thead>\n",
       "<tbody>\n",
       "\t<tr><th scope=row>1</th><td>                            </td><td>Totals for Australia </td></tr>\n",
       "\t<tr><th scope=row>2</th><td>Disease name                </td><td>This reporting period</td></tr>\n",
       "\t<tr><th scope=row>3</th><td>                            </td><td>25/04/2020           </td></tr>\n",
       "\t<tr><th scope=row>4</th><td>                            </td><td>08/05/2020           </td></tr>\n",
       "\t<tr><th scope=row>5</th><td>Hepatitis B (newly acquired)</td><td> 5                   </td></tr>\n",
       "\t<tr><th scope=row>6</th><td>Hepatitis B (unspecified)   </td><td> 112                 </td></tr>\n",
       "</tbody>\n",
       "</table>\n"
      ],
      "text/latex": [
       "A data.frame: 6 × 2\n",
       "\\begin{tabular}{r|ll}\n",
       "  & X & X.9\\\\\n",
       "  & <chr> & <chr>\\\\\n",
       "\\hline\n",
       "\t1 &                              & Totals for Australia \\\\\n",
       "\t2 & Disease name                 & This reporting period\\\\\n",
       "\t3 &                              & 25/04/2020           \\\\\n",
       "\t4 &                              & 08/05/2020           \\\\\n",
       "\t5 & Hepatitis B (newly acquired) &  5                   \\\\\n",
       "\t6 & Hepatitis B (unspecified)    &  112                 \\\\\n",
       "\\end{tabular}\n"
      ],
      "text/markdown": [
       "\n",
       "A data.frame: 6 × 2\n",
       "\n",
       "| <!--/--> | X &lt;chr&gt; | X.9 &lt;chr&gt; |\n",
       "|---|---|---|\n",
       "| 1 | <!----> | Totals for Australia  |\n",
       "| 2 | Disease name                 | This reporting period |\n",
       "| 3 | <!----> | 25/04/2020            |\n",
       "| 4 | <!----> | 08/05/2020            |\n",
       "| 5 | Hepatitis B (newly acquired) |  5                    |\n",
       "| 6 | Hepatitis B (unspecified)    |  112                  |\n",
       "\n"
      ],
      "text/plain": [
       "  X                            X.9                  \n",
       "1                              Totals for Australia \n",
       "2 Disease name                 This reporting period\n",
       "3                              25/04/2020           \n",
       "4                              08/05/2020           \n",
       "5 Hepatitis B (newly acquired)  5                   \n",
       "6 Hepatitis B (unspecified)     112                 "
      ]
     },
     "metadata": {},
     "output_type": "display_data"
    }
   ],
   "source": [
    "df <- df[, -c(1,3:11, 13:23)]\n",
    "head(df)"
   ]
  },
  {
   "cell_type": "code",
   "execution_count": 46,
   "id": "ca42b775-cd6e-4008-9463-855fa7eb16fd",
   "metadata": {},
   "outputs": [
    {
     "data": {
      "text/html": [
       "<table class=\"dataframe\">\n",
       "<caption>A data.frame: 1 × 2</caption>\n",
       "<thead>\n",
       "\t<tr><th></th><th scope=col>X</th><th scope=col>X.9</th></tr>\n",
       "\t<tr><th></th><th scope=col>&lt;chr&gt;</th><th scope=col>&lt;chr&gt;</th></tr>\n",
       "</thead>\n",
       "<tbody>\n",
       "\t<tr><th scope=row>40</th><td>Influenza (laboratory confirmed)</td><td> 156 </td></tr>\n",
       "</tbody>\n",
       "</table>\n"
      ],
      "text/latex": [
       "A data.frame: 1 × 2\n",
       "\\begin{tabular}{r|ll}\n",
       "  & X & X.9\\\\\n",
       "  & <chr> & <chr>\\\\\n",
       "\\hline\n",
       "\t40 & Influenza (laboratory confirmed) &  156 \\\\\n",
       "\\end{tabular}\n"
      ],
      "text/markdown": [
       "\n",
       "A data.frame: 1 × 2\n",
       "\n",
       "| <!--/--> | X &lt;chr&gt; | X.9 &lt;chr&gt; |\n",
       "|---|---|---|\n",
       "| 40 | Influenza (laboratory confirmed) |  156  |\n",
       "\n"
      ],
      "text/plain": [
       "   X                                X.9  \n",
       "40 Influenza (laboratory confirmed)  156 "
      ]
     },
     "metadata": {},
     "output_type": "display_data"
    },
    {
     "data": {
      "text/html": [
       "<table class=\"dataframe\">\n",
       "<caption>A data.frame: 1 × 2</caption>\n",
       "<thead>\n",
       "\t<tr><th></th><th scope=col>X</th><th scope=col>X.9</th></tr>\n",
       "\t<tr><th></th><th scope=col>&lt;chr&gt;</th><th scope=col>&lt;chr&gt;</th></tr>\n",
       "</thead>\n",
       "<tbody>\n",
       "\t<tr><th scope=row>23</th><td>COVID-19</td><td> 238 </td></tr>\n",
       "</tbody>\n",
       "</table>\n"
      ],
      "text/latex": [
       "A data.frame: 1 × 2\n",
       "\\begin{tabular}{r|ll}\n",
       "  & X & X.9\\\\\n",
       "  & <chr> & <chr>\\\\\n",
       "\\hline\n",
       "\t23 & COVID-19 &  238 \\\\\n",
       "\\end{tabular}\n"
      ],
      "text/markdown": [
       "\n",
       "A data.frame: 1 × 2\n",
       "\n",
       "| <!--/--> | X &lt;chr&gt; | X.9 &lt;chr&gt; |\n",
       "|---|---|---|\n",
       "| 23 | COVID-19 |  238  |\n",
       "\n"
      ],
      "text/plain": [
       "   X        X.9  \n",
       "23 COVID-19  238 "
      ]
     },
     "metadata": {},
     "output_type": "display_data"
    },
    {
     "data": {
      "text/html": [
       "<table class=\"dataframe\">\n",
       "<caption>A data.frame: 2 × 2</caption>\n",
       "<thead>\n",
       "\t<tr><th></th><th scope=col>X</th><th scope=col>X.9</th></tr>\n",
       "\t<tr><th></th><th scope=col>&lt;chr&gt;</th><th scope=col>&lt;chr&gt;</th></tr>\n",
       "</thead>\n",
       "<tbody>\n",
       "\t<tr><th scope=row>40</th><td>Influenza (laboratory confirmed)</td><td> 156 </td></tr>\n",
       "\t<tr><th scope=row>23</th><td>COVID-19                        </td><td> 238 </td></tr>\n",
       "</tbody>\n",
       "</table>\n"
      ],
      "text/latex": [
       "A data.frame: 2 × 2\n",
       "\\begin{tabular}{r|ll}\n",
       "  & X & X.9\\\\\n",
       "  & <chr> & <chr>\\\\\n",
       "\\hline\n",
       "\t40 & Influenza (laboratory confirmed) &  156 \\\\\n",
       "\t23 & COVID-19                         &  238 \\\\\n",
       "\\end{tabular}\n"
      ],
      "text/markdown": [
       "\n",
       "A data.frame: 2 × 2\n",
       "\n",
       "| <!--/--> | X &lt;chr&gt; | X.9 &lt;chr&gt; |\n",
       "|---|---|---|\n",
       "| 40 | Influenza (laboratory confirmed) |  156  |\n",
       "| 23 | COVID-19                         |  238  |\n",
       "\n"
      ],
      "text/plain": [
       "   X                                X.9  \n",
       "40 Influenza (laboratory confirmed)  156 \n",
       "23 COVID-19                          238 "
      ]
     },
     "metadata": {},
     "output_type": "display_data"
    }
   ],
   "source": [
    "#find the rows that contain the words influenza\n",
    "\n",
    "inf <- df[grep(\"Influenza\", df$X),]\n",
    "head(inf)\n",
    "covid <-  df[grep(\"COVID\", df$X),]\n",
    "covid\n",
    "APR25_MAY08_2020 <- rbind(inf, covid)\n",
    "APR25_MAY08_2020"
   ]
  },
  {
   "cell_type": "code",
   "execution_count": 47,
   "id": "e3dc2903-c961-432a-aa11-0bd100cbc7a3",
   "metadata": {},
   "outputs": [
    {
     "data": {
      "text/html": [
       "<table class=\"dataframe\">\n",
       "<caption>A data.frame: 2 × 2</caption>\n",
       "<thead>\n",
       "\t<tr><th></th><th scope=col>Disease</th><th scope=col>25Apr - 08MAY 2020</th></tr>\n",
       "\t<tr><th></th><th scope=col>&lt;chr&gt;</th><th scope=col>&lt;dbl&gt;</th></tr>\n",
       "</thead>\n",
       "<tbody>\n",
       "\t<tr><th scope=row>40</th><td>Influenza (laboratory confirmed)</td><td>156</td></tr>\n",
       "\t<tr><th scope=row>23</th><td>COVID-19                        </td><td>238</td></tr>\n",
       "</tbody>\n",
       "</table>\n"
      ],
      "text/latex": [
       "A data.frame: 2 × 2\n",
       "\\begin{tabular}{r|ll}\n",
       "  & Disease & 25Apr - 08MAY 2020\\\\\n",
       "  & <chr> & <dbl>\\\\\n",
       "\\hline\n",
       "\t40 & Influenza (laboratory confirmed) & 156\\\\\n",
       "\t23 & COVID-19                         & 238\\\\\n",
       "\\end{tabular}\n"
      ],
      "text/markdown": [
       "\n",
       "A data.frame: 2 × 2\n",
       "\n",
       "| <!--/--> | Disease &lt;chr&gt; | 25Apr - 08MAY 2020 &lt;dbl&gt; |\n",
       "|---|---|---|\n",
       "| 40 | Influenza (laboratory confirmed) | 156 |\n",
       "| 23 | COVID-19                         | 238 |\n",
       "\n"
      ],
      "text/plain": [
       "   Disease                          25Apr - 08MAY 2020\n",
       "40 Influenza (laboratory confirmed) 156               \n",
       "23 COVID-19                         238               "
      ]
     },
     "metadata": {},
     "output_type": "display_data"
    }
   ],
   "source": [
    "APR25_MAY08_2020[,2] <- as.numeric(APR25_MAY08_2020[,2])\n",
    "colnames(APR25_MAY08_2020) <- c(\"Disease\", \"25Apr - 08MAY 2020\")\n",
    "APR25_MAY08_2020"
   ]
  },
  {
   "cell_type": "code",
   "execution_count": null,
   "id": "3ee6866d-16c8-4aab-8d50-b849ef844548",
   "metadata": {},
   "outputs": [],
   "source": []
  },
  {
   "cell_type": "code",
   "execution_count": null,
   "id": "19e80e79-0b4c-4540-9631-b55432253d26",
   "metadata": {},
   "outputs": [],
   "source": [
    "## Next DataSet is from 9-to-22-may-2020-table"
   ]
  },
  {
   "cell_type": "code",
   "execution_count": 48,
   "id": "aa376856-cd5e-4f69-8ba7-587682a4dd7d",
   "metadata": {},
   "outputs": [
    {
     "data": {
      "text/html": [
       "<table class=\"dataframe\">\n",
       "<caption>A data.frame: 6 × 23</caption>\n",
       "<thead>\n",
       "\t<tr><th></th><th scope=col>ADT.FN10.2020</th><th scope=col>X</th><th scope=col>X.1</th><th scope=col>Notification.received.date</th><th scope=col>X.2</th><th scope=col>X.3</th><th scope=col>X.4</th><th scope=col>X.5</th><th scope=col>X.6</th><th scope=col>X.7</th><th scope=col>⋯</th><th scope=col>X.11</th><th scope=col>X.12</th><th scope=col>X.13</th><th scope=col>X.14</th><th scope=col>X.15</th><th scope=col>X.16</th><th scope=col>X.17</th><th scope=col>X.18</th><th scope=col>X.19</th><th scope=col>X.20</th></tr>\n",
       "\t<tr><th></th><th scope=col>&lt;chr&gt;</th><th scope=col>&lt;chr&gt;</th><th scope=col>&lt;chr&gt;</th><th scope=col>&lt;chr&gt;</th><th scope=col>&lt;chr&gt;</th><th scope=col>&lt;chr&gt;</th><th scope=col>&lt;chr&gt;</th><th scope=col>&lt;chr&gt;</th><th scope=col>&lt;chr&gt;</th><th scope=col>&lt;chr&gt;</th><th scope=col>⋯</th><th scope=col>&lt;chr&gt;</th><th scope=col>&lt;chr&gt;</th><th scope=col>&lt;chr&gt;</th><th scope=col>&lt;chr&gt;</th><th scope=col>&lt;chr&gt;</th><th scope=col>&lt;chr&gt;</th><th scope=col>&lt;chr&gt;</th><th scope=col>&lt;chr&gt;</th><th scope=col>&lt;chr&gt;</th><th scope=col>&lt;chr&gt;</th></tr>\n",
       "</thead>\n",
       "<tbody>\n",
       "\t<tr><th scope=row>1</th><td>                   </td><td>                            </td><td>            </td><td>State or Territory</td><td>    </td><td>     </td><td>    </td><td>     </td><td>     </td><td>     </td><td>⋯</td><td>                               </td><td>                 </td><td>Historical 90 Day Period</td><td>                               </td><td>                               </td><td>                                       </td><td>Historical Yearly Period</td><td>                            </td><td>                             </td><td>                                    </td></tr>\n",
       "\t<tr><th scope=row>2</th><td>Disease group      </td><td>Disease name                </td><td>Disease code</td><td>ACT               </td><td>NSW </td><td>NT   </td><td>Qld </td><td>SA   </td><td>Tas  </td><td>Vic  </td><td>⋯</td><td>Same reporting period last year</td><td>Current year\n",
       "YTD</td><td>Past Quarter            </td><td>Quarterly rolling \n",
       "5 year mean</td><td>Ratio past quarter/5 year mean*</td><td>Exceeds quarterly rolling mean +2 SD by</td><td>Past Year               </td><td>Yearly rolling \n",
       "5 year mean</td><td>Ratio past  year/5 year mean*</td><td>Exceeds yearly rolling mean +2 SD by</td></tr>\n",
       "\t<tr><th scope=row>3</th><td>                   </td><td>                            </td><td>            </td><td>                  </td><td>    </td><td>     </td><td>    </td><td>     </td><td>     </td><td>     </td><td>⋯</td><td>09/05/2019                     </td><td>01/01/2020       </td><td>23/02/2020              </td><td>                               </td><td>                               </td><td>                                       </td><td>23/05/2019              </td><td>23/05/2014                  </td><td>                             </td><td>                                    </td></tr>\n",
       "\t<tr><th scope=row>4</th><td>                   </td><td>                            </td><td>            </td><td>                  </td><td>    </td><td>     </td><td>    </td><td>     </td><td>     </td><td>     </td><td>⋯</td><td>22/05/2019                     </td><td>22/05/2020       </td><td>22/05/2020              </td><td>                               </td><td>                               </td><td>                                       </td><td>22/05/2020              </td><td>22/05/2019                  </td><td>                             </td><td>                                    </td></tr>\n",
       "\t<tr><th scope=row>5</th><td>Bloodborne diseases</td><td>Hepatitis B (newly acquired)</td><td>039         </td><td> -                </td><td> 1  </td><td> -   </td><td> 3  </td><td> -   </td><td> -   </td><td> -   </td><td>⋯</td><td> 4                             </td><td> 46              </td><td> 34                     </td><td> 38.6                          </td><td> 0.9                           </td><td> -                                     </td><td> 144                    </td><td> 153.4                      </td><td> 0.9                         </td><td> -                                  </td></tr>\n",
       "\t<tr><th scope=row>6</th><td>                   </td><td>Hepatitis B (unspecified)   </td><td>052         </td><td> 3                </td><td> 59 </td><td> 1   </td><td> 34 </td><td> 1   </td><td> -   </td><td> 21  </td><td>⋯</td><td> 233                           </td><td> 1,902           </td><td> 1,095                  </td><td> 1,538.8                       </td><td> 0.7                           </td><td> -                                     </td><td> 5,297                  </td><td> 6,121.2                    </td><td> 0.9                         </td><td> -                                  </td></tr>\n",
       "</tbody>\n",
       "</table>\n"
      ],
      "text/latex": [
       "A data.frame: 6 × 23\n",
       "\\begin{tabular}{r|lllllllllllllllllllll}\n",
       "  & ADT.FN10.2020 & X & X.1 & Notification.received.date & X.2 & X.3 & X.4 & X.5 & X.6 & X.7 & ⋯ & X.11 & X.12 & X.13 & X.14 & X.15 & X.16 & X.17 & X.18 & X.19 & X.20\\\\\n",
       "  & <chr> & <chr> & <chr> & <chr> & <chr> & <chr> & <chr> & <chr> & <chr> & <chr> & ⋯ & <chr> & <chr> & <chr> & <chr> & <chr> & <chr> & <chr> & <chr> & <chr> & <chr>\\\\\n",
       "\\hline\n",
       "\t1 &                     &                              &              & State or Territory &      &       &      &       &       &       & ⋯ &                                 &                   & Historical 90 Day Period &                                 &                                 &                                         & Historical Yearly Period &                              &                               &                                     \\\\\n",
       "\t2 & Disease group       & Disease name                 & Disease code & ACT                & NSW  & NT    & Qld  & SA    & Tas   & Vic   & ⋯ & Same reporting period last year & Current year\n",
       "YTD & Past Quarter             & Quarterly rolling \n",
       "5 year mean & Ratio past quarter/5 year mean* & Exceeds quarterly rolling mean +2 SD by & Past Year                & Yearly rolling \n",
       "5 year mean & Ratio past  year/5 year mean* & Exceeds yearly rolling mean +2 SD by\\\\\n",
       "\t3 &                     &                              &              &                    &      &       &      &       &       &       & ⋯ & 09/05/2019                      & 01/01/2020        & 23/02/2020               &                                 &                                 &                                         & 23/05/2019               & 23/05/2014                   &                               &                                     \\\\\n",
       "\t4 &                     &                              &              &                    &      &       &      &       &       &       & ⋯ & 22/05/2019                      & 22/05/2020        & 22/05/2020               &                                 &                                 &                                         & 22/05/2020               & 22/05/2019                   &                               &                                     \\\\\n",
       "\t5 & Bloodborne diseases & Hepatitis B (newly acquired) & 039          &  -                 &  1   &  -    &  3   &  -    &  -    &  -    & ⋯ &  4                              &  46               &  34                      &  38.6                           &  0.9                            &  -                                      &  144                     &  153.4                       &  0.9                          &  -                                  \\\\\n",
       "\t6 &                     & Hepatitis B (unspecified)    & 052          &  3                 &  59  &  1    &  34  &  1    &  -    &  21   & ⋯ &  233                            &  1,902            &  1,095                   &  1,538.8                        &  0.7                            &  -                                      &  5,297                   &  6,121.2                     &  0.9                          &  -                                  \\\\\n",
       "\\end{tabular}\n"
      ],
      "text/markdown": [
       "\n",
       "A data.frame: 6 × 23\n",
       "\n",
       "| <!--/--> | ADT.FN10.2020 &lt;chr&gt; | X &lt;chr&gt; | X.1 &lt;chr&gt; | Notification.received.date &lt;chr&gt; | X.2 &lt;chr&gt; | X.3 &lt;chr&gt; | X.4 &lt;chr&gt; | X.5 &lt;chr&gt; | X.6 &lt;chr&gt; | X.7 &lt;chr&gt; | ⋯ ⋯ | X.11 &lt;chr&gt; | X.12 &lt;chr&gt; | X.13 &lt;chr&gt; | X.14 &lt;chr&gt; | X.15 &lt;chr&gt; | X.16 &lt;chr&gt; | X.17 &lt;chr&gt; | X.18 &lt;chr&gt; | X.19 &lt;chr&gt; | X.20 &lt;chr&gt; |\n",
       "|---|---|---|---|---|---|---|---|---|---|---|---|---|---|---|---|---|---|---|---|---|---|\n",
       "| 1 | <!----> | <!----> | <!----> | State or Territory | <!----> | <!----> | <!----> | <!----> | <!----> | <!----> | ⋯ | <!----> | <!----> | Historical 90 Day Period | <!----> | <!----> | <!----> | Historical Yearly Period | <!----> | <!----> | <!----> |\n",
       "| 2 | Disease group       | Disease name                 | Disease code | ACT                | NSW  | NT    | Qld  | SA    | Tas   | Vic   | ⋯ | Same reporting period last year | Current year\n",
       "YTD | Past Quarter             | Quarterly rolling \n",
       "5 year mean | Ratio past quarter/5 year mean* | Exceeds quarterly rolling mean +2 SD by | Past Year                | Yearly rolling \n",
       "5 year mean | Ratio past  year/5 year mean* | Exceeds yearly rolling mean +2 SD by |\n",
       "| 3 | <!----> | <!----> | <!----> | <!----> | <!----> | <!----> | <!----> | <!----> | <!----> | <!----> | ⋯ | 09/05/2019                      | 01/01/2020        | 23/02/2020               | <!----> | <!----> | <!----> | 23/05/2019               | 23/05/2014                   | <!----> | <!----> |\n",
       "| 4 | <!----> | <!----> | <!----> | <!----> | <!----> | <!----> | <!----> | <!----> | <!----> | <!----> | ⋯ | 22/05/2019                      | 22/05/2020        | 22/05/2020               | <!----> | <!----> | <!----> | 22/05/2020               | 22/05/2019                   | <!----> | <!----> |\n",
       "| 5 | Bloodborne diseases | Hepatitis B (newly acquired) | 039          |  -                 |  1   |  -    |  3   |  -    |  -    |  -    | ⋯ |  4                              |  46               |  34                      |  38.6                           |  0.9                            |  -                                      |  144                     |  153.4                       |  0.9                          |  -                                   |\n",
       "| 6 | <!----> | Hepatitis B (unspecified)    | 052          |  3                 |  59  |  1    |  34  |  1    |  -    |  21   | ⋯ |  233                            |  1,902            |  1,095                   |  1,538.8                        |  0.7                            |  -                                      |  5,297                   |  6,121.2                     |  0.9                          |  -                                   |\n",
       "\n"
      ],
      "text/plain": [
       "  ADT.FN10.2020       X                            X.1         \n",
       "1                                                              \n",
       "2 Disease group       Disease name                 Disease code\n",
       "3                                                              \n",
       "4                                                              \n",
       "5 Bloodborne diseases Hepatitis B (newly acquired) 039         \n",
       "6                     Hepatitis B (unspecified)    052         \n",
       "  Notification.received.date X.2  X.3   X.4  X.5   X.6   X.7   ⋯\n",
       "1 State or Territory                                           ⋯\n",
       "2 ACT                        NSW  NT    Qld  SA    Tas   Vic   ⋯\n",
       "3                                                              ⋯\n",
       "4                                                              ⋯\n",
       "5  -                          1    -     3    -     -     -    ⋯\n",
       "6  3                          59   1     34   1     -     21   ⋯\n",
       "  X.11                            X.12              X.13                    \n",
       "1                                                   Historical 90 Day Period\n",
       "2 Same reporting period last year Current year\\nYTD Past Quarter            \n",
       "3 09/05/2019                      01/01/2020        23/02/2020              \n",
       "4 22/05/2019                      22/05/2020        22/05/2020              \n",
       "5  4                               46                34                     \n",
       "6  233                             1,902             1,095                  \n",
       "  X.14                            X.15                           \n",
       "1                                                                \n",
       "2 Quarterly rolling \\n5 year mean Ratio past quarter/5 year mean*\n",
       "3                                                                \n",
       "4                                                                \n",
       "5  38.6                            0.9                           \n",
       "6  1,538.8                         0.7                           \n",
       "  X.16                                    X.17                    \n",
       "1                                         Historical Yearly Period\n",
       "2 Exceeds quarterly rolling mean +2 SD by Past Year               \n",
       "3                                         23/05/2019              \n",
       "4                                         22/05/2020              \n",
       "5  -                                       144                    \n",
       "6  -                                       5,297                  \n",
       "  X.18                         X.19                         \n",
       "1                                                           \n",
       "2 Yearly rolling \\n5 year mean Ratio past  year/5 year mean*\n",
       "3 23/05/2014                                                \n",
       "4 22/05/2019                                                \n",
       "5  153.4                        0.9                         \n",
       "6  6,121.2                      0.9                         \n",
       "  X.20                                \n",
       "1                                     \n",
       "2 Exceeds yearly rolling mean +2 SD by\n",
       "3                                     \n",
       "4                                     \n",
       "5  -                                  \n",
       "6  -                                  "
      ]
     },
     "metadata": {},
     "output_type": "display_data"
    }
   ],
   "source": [
    "df = read.csv(\"9-to-22-may-2020-table.csv\", header=TRUE, stringsAsFactors=FALSE)\n",
    "head(df)"
   ]
  },
  {
   "cell_type": "code",
   "execution_count": 49,
   "id": "e91861f4-54a4-4294-bc54-699d42ac7c88",
   "metadata": {},
   "outputs": [
    {
     "data": {
      "text/html": [
       "<table class=\"dataframe\">\n",
       "<caption>A data.frame: 6 × 2</caption>\n",
       "<thead>\n",
       "\t<tr><th></th><th scope=col>X</th><th scope=col>X.9</th></tr>\n",
       "\t<tr><th></th><th scope=col>&lt;chr&gt;</th><th scope=col>&lt;chr&gt;</th></tr>\n",
       "</thead>\n",
       "<tbody>\n",
       "\t<tr><th scope=row>1</th><td>                            </td><td>Totals for Australia </td></tr>\n",
       "\t<tr><th scope=row>2</th><td>Disease name                </td><td>This reporting period</td></tr>\n",
       "\t<tr><th scope=row>3</th><td>                            </td><td>09/05/2020           </td></tr>\n",
       "\t<tr><th scope=row>4</th><td>                            </td><td>22/05/2020           </td></tr>\n",
       "\t<tr><th scope=row>5</th><td>Hepatitis B (newly acquired)</td><td> 5                   </td></tr>\n",
       "\t<tr><th scope=row>6</th><td>Hepatitis B (unspecified)   </td><td> 136                 </td></tr>\n",
       "</tbody>\n",
       "</table>\n"
      ],
      "text/latex": [
       "A data.frame: 6 × 2\n",
       "\\begin{tabular}{r|ll}\n",
       "  & X & X.9\\\\\n",
       "  & <chr> & <chr>\\\\\n",
       "\\hline\n",
       "\t1 &                              & Totals for Australia \\\\\n",
       "\t2 & Disease name                 & This reporting period\\\\\n",
       "\t3 &                              & 09/05/2020           \\\\\n",
       "\t4 &                              & 22/05/2020           \\\\\n",
       "\t5 & Hepatitis B (newly acquired) &  5                   \\\\\n",
       "\t6 & Hepatitis B (unspecified)    &  136                 \\\\\n",
       "\\end{tabular}\n"
      ],
      "text/markdown": [
       "\n",
       "A data.frame: 6 × 2\n",
       "\n",
       "| <!--/--> | X &lt;chr&gt; | X.9 &lt;chr&gt; |\n",
       "|---|---|---|\n",
       "| 1 | <!----> | Totals for Australia  |\n",
       "| 2 | Disease name                 | This reporting period |\n",
       "| 3 | <!----> | 09/05/2020            |\n",
       "| 4 | <!----> | 22/05/2020            |\n",
       "| 5 | Hepatitis B (newly acquired) |  5                    |\n",
       "| 6 | Hepatitis B (unspecified)    |  136                  |\n",
       "\n"
      ],
      "text/plain": [
       "  X                            X.9                  \n",
       "1                              Totals for Australia \n",
       "2 Disease name                 This reporting period\n",
       "3                              09/05/2020           \n",
       "4                              22/05/2020           \n",
       "5 Hepatitis B (newly acquired)  5                   \n",
       "6 Hepatitis B (unspecified)     136                 "
      ]
     },
     "metadata": {},
     "output_type": "display_data"
    }
   ],
   "source": [
    "df <- df[, -c(1,3:11, 13:23)]\n",
    "head(df)"
   ]
  },
  {
   "cell_type": "code",
   "execution_count": 51,
   "id": "9f6226a4-7ab1-4ab8-bfe1-5eceb7b8a922",
   "metadata": {},
   "outputs": [
    {
     "data": {
      "text/html": [
       "<table class=\"dataframe\">\n",
       "<caption>A data.frame: 1 × 2</caption>\n",
       "<thead>\n",
       "\t<tr><th></th><th scope=col>X</th><th scope=col>X.9</th></tr>\n",
       "\t<tr><th></th><th scope=col>&lt;chr&gt;</th><th scope=col>&lt;chr&gt;</th></tr>\n",
       "</thead>\n",
       "<tbody>\n",
       "\t<tr><th scope=row>40</th><td>Influenza (laboratory confirmed)</td><td> 138 </td></tr>\n",
       "</tbody>\n",
       "</table>\n"
      ],
      "text/latex": [
       "A data.frame: 1 × 2\n",
       "\\begin{tabular}{r|ll}\n",
       "  & X & X.9\\\\\n",
       "  & <chr> & <chr>\\\\\n",
       "\\hline\n",
       "\t40 & Influenza (laboratory confirmed) &  138 \\\\\n",
       "\\end{tabular}\n"
      ],
      "text/markdown": [
       "\n",
       "A data.frame: 1 × 2\n",
       "\n",
       "| <!--/--> | X &lt;chr&gt; | X.9 &lt;chr&gt; |\n",
       "|---|---|---|\n",
       "| 40 | Influenza (laboratory confirmed) |  138  |\n",
       "\n"
      ],
      "text/plain": [
       "   X                                X.9  \n",
       "40 Influenza (laboratory confirmed)  138 "
      ]
     },
     "metadata": {},
     "output_type": "display_data"
    },
    {
     "data": {
      "text/html": [
       "<table class=\"dataframe\">\n",
       "<caption>A data.frame: 1 × 2</caption>\n",
       "<thead>\n",
       "\t<tr><th></th><th scope=col>X</th><th scope=col>X.9</th></tr>\n",
       "\t<tr><th></th><th scope=col>&lt;chr&gt;</th><th scope=col>&lt;chr&gt;</th></tr>\n",
       "</thead>\n",
       "<tbody>\n",
       "\t<tr><th scope=row>23</th><td>COVID-19</td><td> 136 </td></tr>\n",
       "</tbody>\n",
       "</table>\n"
      ],
      "text/latex": [
       "A data.frame: 1 × 2\n",
       "\\begin{tabular}{r|ll}\n",
       "  & X & X.9\\\\\n",
       "  & <chr> & <chr>\\\\\n",
       "\\hline\n",
       "\t23 & COVID-19 &  136 \\\\\n",
       "\\end{tabular}\n"
      ],
      "text/markdown": [
       "\n",
       "A data.frame: 1 × 2\n",
       "\n",
       "| <!--/--> | X &lt;chr&gt; | X.9 &lt;chr&gt; |\n",
       "|---|---|---|\n",
       "| 23 | COVID-19 |  136  |\n",
       "\n"
      ],
      "text/plain": [
       "   X        X.9  \n",
       "23 COVID-19  136 "
      ]
     },
     "metadata": {},
     "output_type": "display_data"
    },
    {
     "data": {
      "text/html": [
       "<table class=\"dataframe\">\n",
       "<caption>A data.frame: 2 × 2</caption>\n",
       "<thead>\n",
       "\t<tr><th></th><th scope=col>X</th><th scope=col>X.9</th></tr>\n",
       "\t<tr><th></th><th scope=col>&lt;chr&gt;</th><th scope=col>&lt;chr&gt;</th></tr>\n",
       "</thead>\n",
       "<tbody>\n",
       "\t<tr><th scope=row>40</th><td>Influenza (laboratory confirmed)</td><td> 138 </td></tr>\n",
       "\t<tr><th scope=row>23</th><td>COVID-19                        </td><td> 136 </td></tr>\n",
       "</tbody>\n",
       "</table>\n"
      ],
      "text/latex": [
       "A data.frame: 2 × 2\n",
       "\\begin{tabular}{r|ll}\n",
       "  & X & X.9\\\\\n",
       "  & <chr> & <chr>\\\\\n",
       "\\hline\n",
       "\t40 & Influenza (laboratory confirmed) &  138 \\\\\n",
       "\t23 & COVID-19                         &  136 \\\\\n",
       "\\end{tabular}\n"
      ],
      "text/markdown": [
       "\n",
       "A data.frame: 2 × 2\n",
       "\n",
       "| <!--/--> | X &lt;chr&gt; | X.9 &lt;chr&gt; |\n",
       "|---|---|---|\n",
       "| 40 | Influenza (laboratory confirmed) |  138  |\n",
       "| 23 | COVID-19                         |  136  |\n",
       "\n"
      ],
      "text/plain": [
       "   X                                X.9  \n",
       "40 Influenza (laboratory confirmed)  138 \n",
       "23 COVID-19                          136 "
      ]
     },
     "metadata": {},
     "output_type": "display_data"
    }
   ],
   "source": [
    "#find the rows that contain the words influenza\n",
    "\n",
    "inf <- df[grep(\"Influenza\", df$X),]\n",
    "head(inf)\n",
    "covid <-  df[grep(\"COVID\", df$X),]\n",
    "covid\n",
    "MAY09_MAY22_2020 <- rbind(inf, covid)\n",
    "MAY09_MAY22_2020"
   ]
  },
  {
   "cell_type": "code",
   "execution_count": 52,
   "id": "1a87d2ee-35cf-4acc-be85-f884b9c7a004",
   "metadata": {},
   "outputs": [
    {
     "data": {
      "text/html": [
       "<table class=\"dataframe\">\n",
       "<caption>A data.frame: 2 × 2</caption>\n",
       "<thead>\n",
       "\t<tr><th></th><th scope=col>Disease</th><th scope=col>09May- 22MAY-2020</th></tr>\n",
       "\t<tr><th></th><th scope=col>&lt;chr&gt;</th><th scope=col>&lt;dbl&gt;</th></tr>\n",
       "</thead>\n",
       "<tbody>\n",
       "\t<tr><th scope=row>40</th><td>Influenza (laboratory confirmed)</td><td>138</td></tr>\n",
       "\t<tr><th scope=row>23</th><td>COVID-19                        </td><td>136</td></tr>\n",
       "</tbody>\n",
       "</table>\n"
      ],
      "text/latex": [
       "A data.frame: 2 × 2\n",
       "\\begin{tabular}{r|ll}\n",
       "  & Disease & 09May- 22MAY-2020\\\\\n",
       "  & <chr> & <dbl>\\\\\n",
       "\\hline\n",
       "\t40 & Influenza (laboratory confirmed) & 138\\\\\n",
       "\t23 & COVID-19                         & 136\\\\\n",
       "\\end{tabular}\n"
      ],
      "text/markdown": [
       "\n",
       "A data.frame: 2 × 2\n",
       "\n",
       "| <!--/--> | Disease &lt;chr&gt; | 09May- 22MAY-2020 &lt;dbl&gt; |\n",
       "|---|---|---|\n",
       "| 40 | Influenza (laboratory confirmed) | 138 |\n",
       "| 23 | COVID-19                         | 136 |\n",
       "\n"
      ],
      "text/plain": [
       "   Disease                          09May- 22MAY-2020\n",
       "40 Influenza (laboratory confirmed) 138              \n",
       "23 COVID-19                         136              "
      ]
     },
     "metadata": {},
     "output_type": "display_data"
    }
   ],
   "source": [
    "MAY09_MAY22_2020[,2] <- as.numeric(MAY09_MAY22_2020[,2])\n",
    "colnames(MAY09_MAY22_2020) <- c(\"Disease\", \"09May- 22MAY-2020\")\n",
    "MAY09_MAY22_2020"
   ]
  },
  {
   "cell_type": "code",
   "execution_count": null,
   "id": "1c1abd62-74a4-402c-ac1a-12c4917badf6",
   "metadata": {},
   "outputs": [],
   "source": []
  },
  {
   "cell_type": "code",
   "execution_count": null,
   "id": "63a9da7a-8008-4dd3-bcf3-c57d6575e699",
   "metadata": {},
   "outputs": [],
   "source": [
    "## Next data set from 23-may-to-5-june-2020-table"
   ]
  },
  {
   "cell_type": "code",
   "execution_count": 53,
   "id": "2a61ce3e-51fb-4f6c-b1be-be5e9aadee60",
   "metadata": {},
   "outputs": [
    {
     "data": {
      "text/html": [
       "<table class=\"dataframe\">\n",
       "<caption>A data.frame: 6 × 23</caption>\n",
       "<thead>\n",
       "\t<tr><th></th><th scope=col>ADT.FN11.2020</th><th scope=col>X</th><th scope=col>X.1</th><th scope=col>Notification.received.date</th><th scope=col>X.2</th><th scope=col>X.3</th><th scope=col>X.4</th><th scope=col>X.5</th><th scope=col>X.6</th><th scope=col>X.7</th><th scope=col>⋯</th><th scope=col>X.11</th><th scope=col>X.12</th><th scope=col>X.13</th><th scope=col>X.14</th><th scope=col>X.15</th><th scope=col>X.16</th><th scope=col>X.17</th><th scope=col>X.18</th><th scope=col>X.19</th><th scope=col>X.20</th></tr>\n",
       "\t<tr><th></th><th scope=col>&lt;chr&gt;</th><th scope=col>&lt;chr&gt;</th><th scope=col>&lt;chr&gt;</th><th scope=col>&lt;chr&gt;</th><th scope=col>&lt;chr&gt;</th><th scope=col>&lt;chr&gt;</th><th scope=col>&lt;chr&gt;</th><th scope=col>&lt;chr&gt;</th><th scope=col>&lt;chr&gt;</th><th scope=col>&lt;chr&gt;</th><th scope=col>⋯</th><th scope=col>&lt;chr&gt;</th><th scope=col>&lt;chr&gt;</th><th scope=col>&lt;chr&gt;</th><th scope=col>&lt;chr&gt;</th><th scope=col>&lt;chr&gt;</th><th scope=col>&lt;chr&gt;</th><th scope=col>&lt;chr&gt;</th><th scope=col>&lt;chr&gt;</th><th scope=col>&lt;chr&gt;</th><th scope=col>&lt;chr&gt;</th></tr>\n",
       "</thead>\n",
       "<tbody>\n",
       "\t<tr><th scope=row>1</th><td>                   </td><td>                            </td><td>            </td><td>State or Territory</td><td>    </td><td>     </td><td>    </td><td>     </td><td>     </td><td>     </td><td>⋯</td><td>                               </td><td>                 </td><td>Historical 90 Day Period</td><td>                               </td><td>                               </td><td>                                       </td><td>Historical Yearly Period</td><td>                            </td><td>                             </td><td>                                    </td></tr>\n",
       "\t<tr><th scope=row>2</th><td>Disease group      </td><td>Disease name                </td><td>Disease code</td><td>ACT               </td><td>NSW </td><td>NT   </td><td>Qld </td><td>SA   </td><td>Tas  </td><td>Vic  </td><td>⋯</td><td>Same reporting period last year</td><td>Current year\n",
       "YTD</td><td>Past Quarter            </td><td>Quarterly rolling \n",
       "5 year mean</td><td>Ratio past quarter/5 year mean*</td><td>Exceeds quarterly rolling mean +2 SD by</td><td>Past Year               </td><td>Yearly rolling \n",
       "5 year mean</td><td>Ratio past  year/5 year mean*</td><td>Exceeds yearly rolling mean +2 SD by</td></tr>\n",
       "\t<tr><th scope=row>3</th><td>                   </td><td>                            </td><td>            </td><td>                  </td><td>    </td><td>     </td><td>    </td><td>     </td><td>     </td><td>     </td><td>⋯</td><td>23/05/2019                     </td><td>01/01/2020       </td><td>08/03/2020              </td><td>                               </td><td>                               </td><td>                                       </td><td>06/06/2019              </td><td>06/06/2014                  </td><td>                             </td><td>                                    </td></tr>\n",
       "\t<tr><th scope=row>4</th><td>                   </td><td>                            </td><td>            </td><td>                  </td><td>    </td><td>     </td><td>    </td><td>     </td><td>     </td><td>     </td><td>⋯</td><td>05/06/2019                     </td><td>05/06/2020       </td><td>05/06/2020              </td><td>                               </td><td>                               </td><td>                                       </td><td>05/06/2020              </td><td>05/06/2019                  </td><td>                             </td><td>                                    </td></tr>\n",
       "\t<tr><th scope=row>5</th><td>Bloodborne diseases</td><td>Hepatitis B (newly acquired)</td><td>039         </td><td> -                </td><td> 1  </td><td> -   </td><td> 1  </td><td> -   </td><td> -   </td><td> -   </td><td>⋯</td><td> 8                             </td><td> 51              </td><td> 30                     </td><td> 39.6                          </td><td> 0.8                           </td><td> -                                     </td><td> 141                    </td><td> 153.4                      </td><td> 0.9                         </td><td> -                                  </td></tr>\n",
       "\t<tr><th scope=row>6</th><td>                   </td><td>Hepatitis B (unspecified)   </td><td>052         </td><td> 2                </td><td> 87 </td><td> 3   </td><td> 34 </td><td> 2   </td><td> 4   </td><td> 60  </td><td>⋯</td><td> 234                           </td><td> 2,166           </td><td> 1,119                  </td><td> 1,556.4                       </td><td> 0.7                           </td><td> -                                     </td><td> 5,324                  </td><td> 6,111.4                    </td><td> 0.9                         </td><td> -                                  </td></tr>\n",
       "</tbody>\n",
       "</table>\n"
      ],
      "text/latex": [
       "A data.frame: 6 × 23\n",
       "\\begin{tabular}{r|lllllllllllllllllllll}\n",
       "  & ADT.FN11.2020 & X & X.1 & Notification.received.date & X.2 & X.3 & X.4 & X.5 & X.6 & X.7 & ⋯ & X.11 & X.12 & X.13 & X.14 & X.15 & X.16 & X.17 & X.18 & X.19 & X.20\\\\\n",
       "  & <chr> & <chr> & <chr> & <chr> & <chr> & <chr> & <chr> & <chr> & <chr> & <chr> & ⋯ & <chr> & <chr> & <chr> & <chr> & <chr> & <chr> & <chr> & <chr> & <chr> & <chr>\\\\\n",
       "\\hline\n",
       "\t1 &                     &                              &              & State or Territory &      &       &      &       &       &       & ⋯ &                                 &                   & Historical 90 Day Period &                                 &                                 &                                         & Historical Yearly Period &                              &                               &                                     \\\\\n",
       "\t2 & Disease group       & Disease name                 & Disease code & ACT                & NSW  & NT    & Qld  & SA    & Tas   & Vic   & ⋯ & Same reporting period last year & Current year\n",
       "YTD & Past Quarter             & Quarterly rolling \n",
       "5 year mean & Ratio past quarter/5 year mean* & Exceeds quarterly rolling mean +2 SD by & Past Year                & Yearly rolling \n",
       "5 year mean & Ratio past  year/5 year mean* & Exceeds yearly rolling mean +2 SD by\\\\\n",
       "\t3 &                     &                              &              &                    &      &       &      &       &       &       & ⋯ & 23/05/2019                      & 01/01/2020        & 08/03/2020               &                                 &                                 &                                         & 06/06/2019               & 06/06/2014                   &                               &                                     \\\\\n",
       "\t4 &                     &                              &              &                    &      &       &      &       &       &       & ⋯ & 05/06/2019                      & 05/06/2020        & 05/06/2020               &                                 &                                 &                                         & 05/06/2020               & 05/06/2019                   &                               &                                     \\\\\n",
       "\t5 & Bloodborne diseases & Hepatitis B (newly acquired) & 039          &  -                 &  1   &  -    &  1   &  -    &  -    &  -    & ⋯ &  8                              &  51               &  30                      &  39.6                           &  0.8                            &  -                                      &  141                     &  153.4                       &  0.9                          &  -                                  \\\\\n",
       "\t6 &                     & Hepatitis B (unspecified)    & 052          &  2                 &  87  &  3    &  34  &  2    &  4    &  60   & ⋯ &  234                            &  2,166            &  1,119                   &  1,556.4                        &  0.7                            &  -                                      &  5,324                   &  6,111.4                     &  0.9                          &  -                                  \\\\\n",
       "\\end{tabular}\n"
      ],
      "text/markdown": [
       "\n",
       "A data.frame: 6 × 23\n",
       "\n",
       "| <!--/--> | ADT.FN11.2020 &lt;chr&gt; | X &lt;chr&gt; | X.1 &lt;chr&gt; | Notification.received.date &lt;chr&gt; | X.2 &lt;chr&gt; | X.3 &lt;chr&gt; | X.4 &lt;chr&gt; | X.5 &lt;chr&gt; | X.6 &lt;chr&gt; | X.7 &lt;chr&gt; | ⋯ ⋯ | X.11 &lt;chr&gt; | X.12 &lt;chr&gt; | X.13 &lt;chr&gt; | X.14 &lt;chr&gt; | X.15 &lt;chr&gt; | X.16 &lt;chr&gt; | X.17 &lt;chr&gt; | X.18 &lt;chr&gt; | X.19 &lt;chr&gt; | X.20 &lt;chr&gt; |\n",
       "|---|---|---|---|---|---|---|---|---|---|---|---|---|---|---|---|---|---|---|---|---|---|\n",
       "| 1 | <!----> | <!----> | <!----> | State or Territory | <!----> | <!----> | <!----> | <!----> | <!----> | <!----> | ⋯ | <!----> | <!----> | Historical 90 Day Period | <!----> | <!----> | <!----> | Historical Yearly Period | <!----> | <!----> | <!----> |\n",
       "| 2 | Disease group       | Disease name                 | Disease code | ACT                | NSW  | NT    | Qld  | SA    | Tas   | Vic   | ⋯ | Same reporting period last year | Current year\n",
       "YTD | Past Quarter             | Quarterly rolling \n",
       "5 year mean | Ratio past quarter/5 year mean* | Exceeds quarterly rolling mean +2 SD by | Past Year                | Yearly rolling \n",
       "5 year mean | Ratio past  year/5 year mean* | Exceeds yearly rolling mean +2 SD by |\n",
       "| 3 | <!----> | <!----> | <!----> | <!----> | <!----> | <!----> | <!----> | <!----> | <!----> | <!----> | ⋯ | 23/05/2019                      | 01/01/2020        | 08/03/2020               | <!----> | <!----> | <!----> | 06/06/2019               | 06/06/2014                   | <!----> | <!----> |\n",
       "| 4 | <!----> | <!----> | <!----> | <!----> | <!----> | <!----> | <!----> | <!----> | <!----> | <!----> | ⋯ | 05/06/2019                      | 05/06/2020        | 05/06/2020               | <!----> | <!----> | <!----> | 05/06/2020               | 05/06/2019                   | <!----> | <!----> |\n",
       "| 5 | Bloodborne diseases | Hepatitis B (newly acquired) | 039          |  -                 |  1   |  -    |  1   |  -    |  -    |  -    | ⋯ |  8                              |  51               |  30                      |  39.6                           |  0.8                            |  -                                      |  141                     |  153.4                       |  0.9                          |  -                                   |\n",
       "| 6 | <!----> | Hepatitis B (unspecified)    | 052          |  2                 |  87  |  3    |  34  |  2    |  4    |  60   | ⋯ |  234                            |  2,166            |  1,119                   |  1,556.4                        |  0.7                            |  -                                      |  5,324                   |  6,111.4                     |  0.9                          |  -                                   |\n",
       "\n"
      ],
      "text/plain": [
       "  ADT.FN11.2020       X                            X.1         \n",
       "1                                                              \n",
       "2 Disease group       Disease name                 Disease code\n",
       "3                                                              \n",
       "4                                                              \n",
       "5 Bloodborne diseases Hepatitis B (newly acquired) 039         \n",
       "6                     Hepatitis B (unspecified)    052         \n",
       "  Notification.received.date X.2  X.3   X.4  X.5   X.6   X.7   ⋯\n",
       "1 State or Territory                                           ⋯\n",
       "2 ACT                        NSW  NT    Qld  SA    Tas   Vic   ⋯\n",
       "3                                                              ⋯\n",
       "4                                                              ⋯\n",
       "5  -                          1    -     1    -     -     -    ⋯\n",
       "6  2                          87   3     34   2     4     60   ⋯\n",
       "  X.11                            X.12              X.13                    \n",
       "1                                                   Historical 90 Day Period\n",
       "2 Same reporting period last year Current year\\nYTD Past Quarter            \n",
       "3 23/05/2019                      01/01/2020        08/03/2020              \n",
       "4 05/06/2019                      05/06/2020        05/06/2020              \n",
       "5  8                               51                30                     \n",
       "6  234                             2,166             1,119                  \n",
       "  X.14                            X.15                           \n",
       "1                                                                \n",
       "2 Quarterly rolling \\n5 year mean Ratio past quarter/5 year mean*\n",
       "3                                                                \n",
       "4                                                                \n",
       "5  39.6                            0.8                           \n",
       "6  1,556.4                         0.7                           \n",
       "  X.16                                    X.17                    \n",
       "1                                         Historical Yearly Period\n",
       "2 Exceeds quarterly rolling mean +2 SD by Past Year               \n",
       "3                                         06/06/2019              \n",
       "4                                         05/06/2020              \n",
       "5  -                                       141                    \n",
       "6  -                                       5,324                  \n",
       "  X.18                         X.19                         \n",
       "1                                                           \n",
       "2 Yearly rolling \\n5 year mean Ratio past  year/5 year mean*\n",
       "3 06/06/2014                                                \n",
       "4 05/06/2019                                                \n",
       "5  153.4                        0.9                         \n",
       "6  6,111.4                      0.9                         \n",
       "  X.20                                \n",
       "1                                     \n",
       "2 Exceeds yearly rolling mean +2 SD by\n",
       "3                                     \n",
       "4                                     \n",
       "5  -                                  \n",
       "6  -                                  "
      ]
     },
     "metadata": {},
     "output_type": "display_data"
    }
   ],
   "source": [
    "df = read.csv(\"23-may-to-5-june-2020-table.csv\", header=TRUE, stringsAsFactors=FALSE)\n",
    "head(df)"
   ]
  },
  {
   "cell_type": "code",
   "execution_count": 54,
   "id": "ae1c8bd7-f6ff-4155-ba6d-b607034adc99",
   "metadata": {},
   "outputs": [
    {
     "data": {
      "text/html": [
       "<table class=\"dataframe\">\n",
       "<caption>A data.frame: 6 × 2</caption>\n",
       "<thead>\n",
       "\t<tr><th></th><th scope=col>X</th><th scope=col>X.9</th></tr>\n",
       "\t<tr><th></th><th scope=col>&lt;chr&gt;</th><th scope=col>&lt;chr&gt;</th></tr>\n",
       "</thead>\n",
       "<tbody>\n",
       "\t<tr><th scope=row>1</th><td>                            </td><td>Totals for Australia </td></tr>\n",
       "\t<tr><th scope=row>2</th><td>Disease name                </td><td>This reporting period</td></tr>\n",
       "\t<tr><th scope=row>3</th><td>                            </td><td>23/05/2020           </td></tr>\n",
       "\t<tr><th scope=row>4</th><td>                            </td><td>05/06/2020           </td></tr>\n",
       "\t<tr><th scope=row>5</th><td>Hepatitis B (newly acquired)</td><td> 3                   </td></tr>\n",
       "\t<tr><th scope=row>6</th><td>Hepatitis B (unspecified)   </td><td> 214                 </td></tr>\n",
       "</tbody>\n",
       "</table>\n"
      ],
      "text/latex": [
       "A data.frame: 6 × 2\n",
       "\\begin{tabular}{r|ll}\n",
       "  & X & X.9\\\\\n",
       "  & <chr> & <chr>\\\\\n",
       "\\hline\n",
       "\t1 &                              & Totals for Australia \\\\\n",
       "\t2 & Disease name                 & This reporting period\\\\\n",
       "\t3 &                              & 23/05/2020           \\\\\n",
       "\t4 &                              & 05/06/2020           \\\\\n",
       "\t5 & Hepatitis B (newly acquired) &  3                   \\\\\n",
       "\t6 & Hepatitis B (unspecified)    &  214                 \\\\\n",
       "\\end{tabular}\n"
      ],
      "text/markdown": [
       "\n",
       "A data.frame: 6 × 2\n",
       "\n",
       "| <!--/--> | X &lt;chr&gt; | X.9 &lt;chr&gt; |\n",
       "|---|---|---|\n",
       "| 1 | <!----> | Totals for Australia  |\n",
       "| 2 | Disease name                 | This reporting period |\n",
       "| 3 | <!----> | 23/05/2020            |\n",
       "| 4 | <!----> | 05/06/2020            |\n",
       "| 5 | Hepatitis B (newly acquired) |  3                    |\n",
       "| 6 | Hepatitis B (unspecified)    |  214                  |\n",
       "\n"
      ],
      "text/plain": [
       "  X                            X.9                  \n",
       "1                              Totals for Australia \n",
       "2 Disease name                 This reporting period\n",
       "3                              23/05/2020           \n",
       "4                              05/06/2020           \n",
       "5 Hepatitis B (newly acquired)  3                   \n",
       "6 Hepatitis B (unspecified)     214                 "
      ]
     },
     "metadata": {},
     "output_type": "display_data"
    }
   ],
   "source": [
    "df <- df[, -c(1,3:11, 13:23)]\n",
    "head(df)"
   ]
  },
  {
   "cell_type": "code",
   "execution_count": 55,
   "id": "93b7a5a5-d63d-4f34-ab02-2462ad328267",
   "metadata": {},
   "outputs": [
    {
     "data": {
      "text/html": [
       "<table class=\"dataframe\">\n",
       "<caption>A data.frame: 1 × 2</caption>\n",
       "<thead>\n",
       "\t<tr><th></th><th scope=col>X</th><th scope=col>X.9</th></tr>\n",
       "\t<tr><th></th><th scope=col>&lt;chr&gt;</th><th scope=col>&lt;chr&gt;</th></tr>\n",
       "</thead>\n",
       "<tbody>\n",
       "\t<tr><th scope=row>40</th><td>Influenza (laboratory confirmed)</td><td> 102 </td></tr>\n",
       "</tbody>\n",
       "</table>\n"
      ],
      "text/latex": [
       "A data.frame: 1 × 2\n",
       "\\begin{tabular}{r|ll}\n",
       "  & X & X.9\\\\\n",
       "  & <chr> & <chr>\\\\\n",
       "\\hline\n",
       "\t40 & Influenza (laboratory confirmed) &  102 \\\\\n",
       "\\end{tabular}\n"
      ],
      "text/markdown": [
       "\n",
       "A data.frame: 1 × 2\n",
       "\n",
       "| <!--/--> | X &lt;chr&gt; | X.9 &lt;chr&gt; |\n",
       "|---|---|---|\n",
       "| 40 | Influenza (laboratory confirmed) |  102  |\n",
       "\n"
      ],
      "text/plain": [
       "   X                                X.9  \n",
       "40 Influenza (laboratory confirmed)  102 "
      ]
     },
     "metadata": {},
     "output_type": "display_data"
    },
    {
     "data": {
      "text/html": [
       "<table class=\"dataframe\">\n",
       "<caption>A data.frame: 1 × 2</caption>\n",
       "<thead>\n",
       "\t<tr><th></th><th scope=col>X</th><th scope=col>X.9</th></tr>\n",
       "\t<tr><th></th><th scope=col>&lt;chr&gt;</th><th scope=col>&lt;chr&gt;</th></tr>\n",
       "</thead>\n",
       "<tbody>\n",
       "\t<tr><th scope=row>23</th><td>COVID-19</td><td> 151 </td></tr>\n",
       "</tbody>\n",
       "</table>\n"
      ],
      "text/latex": [
       "A data.frame: 1 × 2\n",
       "\\begin{tabular}{r|ll}\n",
       "  & X & X.9\\\\\n",
       "  & <chr> & <chr>\\\\\n",
       "\\hline\n",
       "\t23 & COVID-19 &  151 \\\\\n",
       "\\end{tabular}\n"
      ],
      "text/markdown": [
       "\n",
       "A data.frame: 1 × 2\n",
       "\n",
       "| <!--/--> | X &lt;chr&gt; | X.9 &lt;chr&gt; |\n",
       "|---|---|---|\n",
       "| 23 | COVID-19 |  151  |\n",
       "\n"
      ],
      "text/plain": [
       "   X        X.9  \n",
       "23 COVID-19  151 "
      ]
     },
     "metadata": {},
     "output_type": "display_data"
    },
    {
     "data": {
      "text/html": [
       "<table class=\"dataframe\">\n",
       "<caption>A data.frame: 2 × 2</caption>\n",
       "<thead>\n",
       "\t<tr><th></th><th scope=col>X</th><th scope=col>X.9</th></tr>\n",
       "\t<tr><th></th><th scope=col>&lt;chr&gt;</th><th scope=col>&lt;chr&gt;</th></tr>\n",
       "</thead>\n",
       "<tbody>\n",
       "\t<tr><th scope=row>40</th><td>Influenza (laboratory confirmed)</td><td> 102 </td></tr>\n",
       "\t<tr><th scope=row>23</th><td>COVID-19                        </td><td> 151 </td></tr>\n",
       "</tbody>\n",
       "</table>\n"
      ],
      "text/latex": [
       "A data.frame: 2 × 2\n",
       "\\begin{tabular}{r|ll}\n",
       "  & X & X.9\\\\\n",
       "  & <chr> & <chr>\\\\\n",
       "\\hline\n",
       "\t40 & Influenza (laboratory confirmed) &  102 \\\\\n",
       "\t23 & COVID-19                         &  151 \\\\\n",
       "\\end{tabular}\n"
      ],
      "text/markdown": [
       "\n",
       "A data.frame: 2 × 2\n",
       "\n",
       "| <!--/--> | X &lt;chr&gt; | X.9 &lt;chr&gt; |\n",
       "|---|---|---|\n",
       "| 40 | Influenza (laboratory confirmed) |  102  |\n",
       "| 23 | COVID-19                         |  151  |\n",
       "\n"
      ],
      "text/plain": [
       "   X                                X.9  \n",
       "40 Influenza (laboratory confirmed)  102 \n",
       "23 COVID-19                          151 "
      ]
     },
     "metadata": {},
     "output_type": "display_data"
    }
   ],
   "source": [
    "#find the rows that contain the words influenza\n",
    "\n",
    "inf <- df[grep(\"Influenza\", df$X),]\n",
    "head(inf)\n",
    "covid <-  df[grep(\"COVID\", df$X),]\n",
    "covid\n",
    "MAY23_JUN05_2020 <- rbind(inf, covid)\n",
    "MAY23_JUN05_2020"
   ]
  },
  {
   "cell_type": "code",
   "execution_count": 56,
   "id": "ada25ed8-944b-4a10-b1de-cff76650af68",
   "metadata": {},
   "outputs": [
    {
     "data": {
      "text/html": [
       "<table class=\"dataframe\">\n",
       "<caption>A data.frame: 2 × 2</caption>\n",
       "<thead>\n",
       "\t<tr><th></th><th scope=col>Disease</th><th scope=col>23May- 05JUN-2020</th></tr>\n",
       "\t<tr><th></th><th scope=col>&lt;chr&gt;</th><th scope=col>&lt;dbl&gt;</th></tr>\n",
       "</thead>\n",
       "<tbody>\n",
       "\t<tr><th scope=row>40</th><td>Influenza (laboratory confirmed)</td><td>102</td></tr>\n",
       "\t<tr><th scope=row>23</th><td>COVID-19                        </td><td>151</td></tr>\n",
       "</tbody>\n",
       "</table>\n"
      ],
      "text/latex": [
       "A data.frame: 2 × 2\n",
       "\\begin{tabular}{r|ll}\n",
       "  & Disease & 23May- 05JUN-2020\\\\\n",
       "  & <chr> & <dbl>\\\\\n",
       "\\hline\n",
       "\t40 & Influenza (laboratory confirmed) & 102\\\\\n",
       "\t23 & COVID-19                         & 151\\\\\n",
       "\\end{tabular}\n"
      ],
      "text/markdown": [
       "\n",
       "A data.frame: 2 × 2\n",
       "\n",
       "| <!--/--> | Disease &lt;chr&gt; | 23May- 05JUN-2020 &lt;dbl&gt; |\n",
       "|---|---|---|\n",
       "| 40 | Influenza (laboratory confirmed) | 102 |\n",
       "| 23 | COVID-19                         | 151 |\n",
       "\n"
      ],
      "text/plain": [
       "   Disease                          23May- 05JUN-2020\n",
       "40 Influenza (laboratory confirmed) 102              \n",
       "23 COVID-19                         151              "
      ]
     },
     "metadata": {},
     "output_type": "display_data"
    }
   ],
   "source": [
    "MAY23_JUN05_2020[,2] <- as.numeric(MAY23_JUN05_2020[,2])\n",
    "colnames(MAY23_JUN05_2020) <- c(\"Disease\", \"23May- 05JUN-2020\")\n",
    "MAY23_JUN05_2020"
   ]
  },
  {
   "cell_type": "code",
   "execution_count": null,
   "id": "080af508-c302-426c-8d13-ebc237ae2459",
   "metadata": {},
   "outputs": [],
   "source": []
  },
  {
   "cell_type": "code",
   "execution_count": null,
   "id": "3abe5915-ed85-4d4a-8267-695416081ad1",
   "metadata": {},
   "outputs": [],
   "source": [
    "## Next DataSet 6-to-19-june-2020-table (1)"
   ]
  },
  {
   "cell_type": "code",
   "execution_count": 57,
   "id": "5cf70d0b-08e9-4713-a727-82b03571a671",
   "metadata": {},
   "outputs": [
    {
     "data": {
      "text/html": [
       "<table class=\"dataframe\">\n",
       "<caption>A data.frame: 6 × 23</caption>\n",
       "<thead>\n",
       "\t<tr><th></th><th scope=col>ADT.FN12.2020</th><th scope=col>X</th><th scope=col>X.1</th><th scope=col>Notification.received.date</th><th scope=col>X.2</th><th scope=col>X.3</th><th scope=col>X.4</th><th scope=col>X.5</th><th scope=col>X.6</th><th scope=col>X.7</th><th scope=col>⋯</th><th scope=col>X.11</th><th scope=col>X.12</th><th scope=col>X.13</th><th scope=col>X.14</th><th scope=col>X.15</th><th scope=col>X.16</th><th scope=col>X.17</th><th scope=col>X.18</th><th scope=col>X.19</th><th scope=col>X.20</th></tr>\n",
       "\t<tr><th></th><th scope=col>&lt;chr&gt;</th><th scope=col>&lt;chr&gt;</th><th scope=col>&lt;chr&gt;</th><th scope=col>&lt;chr&gt;</th><th scope=col>&lt;chr&gt;</th><th scope=col>&lt;chr&gt;</th><th scope=col>&lt;chr&gt;</th><th scope=col>&lt;chr&gt;</th><th scope=col>&lt;chr&gt;</th><th scope=col>&lt;chr&gt;</th><th scope=col>⋯</th><th scope=col>&lt;chr&gt;</th><th scope=col>&lt;chr&gt;</th><th scope=col>&lt;chr&gt;</th><th scope=col>&lt;chr&gt;</th><th scope=col>&lt;chr&gt;</th><th scope=col>&lt;chr&gt;</th><th scope=col>&lt;chr&gt;</th><th scope=col>&lt;chr&gt;</th><th scope=col>&lt;chr&gt;</th><th scope=col>&lt;chr&gt;</th></tr>\n",
       "</thead>\n",
       "<tbody>\n",
       "\t<tr><th scope=row>1</th><td>                   </td><td>                            </td><td>            </td><td>State or Territory</td><td>     </td><td>     </td><td>    </td><td>     </td><td>     </td><td>     </td><td>⋯</td><td>                               </td><td>                 </td><td>Historical 90 Day Period</td><td>                               </td><td>                               </td><td>                                       </td><td>Historical Yearly Period</td><td>                            </td><td>                             </td><td>                                    </td></tr>\n",
       "\t<tr><th scope=row>2</th><td>Disease group      </td><td>Disease name                </td><td>Disease code</td><td>ACT               </td><td>NSW  </td><td>NT   </td><td>Qld </td><td>SA   </td><td>Tas  </td><td>Vic  </td><td>⋯</td><td>Same reporting period last year</td><td>Current year\n",
       "YTD</td><td>Past Quarter            </td><td>Quarterly rolling \n",
       "5 year mean</td><td>Ratio past quarter/5 year mean*</td><td>Exceeds quarterly rolling mean +2 SD by</td><td>Past Year               </td><td>Yearly rolling \n",
       "5 year mean</td><td>Ratio past  year/5 year mean*</td><td>Exceeds yearly rolling mean +2 SD by</td></tr>\n",
       "\t<tr><th scope=row>3</th><td>                   </td><td>                            </td><td>            </td><td>                  </td><td>     </td><td>     </td><td>    </td><td>     </td><td>     </td><td>     </td><td>⋯</td><td>06/06/2019                     </td><td>01/01/2020       </td><td>22/03/2020              </td><td>                               </td><td>                               </td><td>                                       </td><td>20/06/2019              </td><td>20/06/2014                  </td><td>                             </td><td>                                    </td></tr>\n",
       "\t<tr><th scope=row>4</th><td>                   </td><td>                            </td><td>            </td><td>                  </td><td>     </td><td>     </td><td>    </td><td>     </td><td>     </td><td>     </td><td>⋯</td><td>19/06/2019                     </td><td>19/06/2020       </td><td>19/06/2020              </td><td>                               </td><td>                               </td><td>                                       </td><td>19/06/2020              </td><td>19/06/2019                  </td><td>                             </td><td>                                    </td></tr>\n",
       "\t<tr><th scope=row>5</th><td>Bloodborne diseases</td><td>Hepatitis B (newly acquired)</td><td>039         </td><td> -                </td><td> -   </td><td> -   </td><td> 2  </td><td> -   </td><td> -   </td><td> -   </td><td>⋯</td><td> 6                             </td><td> 55              </td><td> 29                     </td><td> 38.8                          </td><td> 0.7                           </td><td> -                                     </td><td> 139                    </td><td> 153.0                      </td><td> 0.9                         </td><td> -                                  </td></tr>\n",
       "\t<tr><th scope=row>6</th><td>                   </td><td>Hepatitis B (unspecified)   </td><td>052         </td><td> 6                </td><td> 74  </td><td> -   </td><td> 30 </td><td> 2   </td><td> 4   </td><td> 51  </td><td>⋯</td><td> 203                           </td><td> 2,368           </td><td> 1,111                  </td><td> 1,526.2                       </td><td> 0.7                           </td><td> -                                     </td><td> 5,322                  </td><td> 6,103.8                    </td><td> 0.9                         </td><td> -                                  </td></tr>\n",
       "</tbody>\n",
       "</table>\n"
      ],
      "text/latex": [
       "A data.frame: 6 × 23\n",
       "\\begin{tabular}{r|lllllllllllllllllllll}\n",
       "  & ADT.FN12.2020 & X & X.1 & Notification.received.date & X.2 & X.3 & X.4 & X.5 & X.6 & X.7 & ⋯ & X.11 & X.12 & X.13 & X.14 & X.15 & X.16 & X.17 & X.18 & X.19 & X.20\\\\\n",
       "  & <chr> & <chr> & <chr> & <chr> & <chr> & <chr> & <chr> & <chr> & <chr> & <chr> & ⋯ & <chr> & <chr> & <chr> & <chr> & <chr> & <chr> & <chr> & <chr> & <chr> & <chr>\\\\\n",
       "\\hline\n",
       "\t1 &                     &                              &              & State or Territory &       &       &      &       &       &       & ⋯ &                                 &                   & Historical 90 Day Period &                                 &                                 &                                         & Historical Yearly Period &                              &                               &                                     \\\\\n",
       "\t2 & Disease group       & Disease name                 & Disease code & ACT                & NSW   & NT    & Qld  & SA    & Tas   & Vic   & ⋯ & Same reporting period last year & Current year\n",
       "YTD & Past Quarter             & Quarterly rolling \n",
       "5 year mean & Ratio past quarter/5 year mean* & Exceeds quarterly rolling mean +2 SD by & Past Year                & Yearly rolling \n",
       "5 year mean & Ratio past  year/5 year mean* & Exceeds yearly rolling mean +2 SD by\\\\\n",
       "\t3 &                     &                              &              &                    &       &       &      &       &       &       & ⋯ & 06/06/2019                      & 01/01/2020        & 22/03/2020               &                                 &                                 &                                         & 20/06/2019               & 20/06/2014                   &                               &                                     \\\\\n",
       "\t4 &                     &                              &              &                    &       &       &      &       &       &       & ⋯ & 19/06/2019                      & 19/06/2020        & 19/06/2020               &                                 &                                 &                                         & 19/06/2020               & 19/06/2019                   &                               &                                     \\\\\n",
       "\t5 & Bloodborne diseases & Hepatitis B (newly acquired) & 039          &  -                 &  -    &  -    &  2   &  -    &  -    &  -    & ⋯ &  6                              &  55               &  29                      &  38.8                           &  0.7                            &  -                                      &  139                     &  153.0                       &  0.9                          &  -                                  \\\\\n",
       "\t6 &                     & Hepatitis B (unspecified)    & 052          &  6                 &  74   &  -    &  30  &  2    &  4    &  51   & ⋯ &  203                            &  2,368            &  1,111                   &  1,526.2                        &  0.7                            &  -                                      &  5,322                   &  6,103.8                     &  0.9                          &  -                                  \\\\\n",
       "\\end{tabular}\n"
      ],
      "text/markdown": [
       "\n",
       "A data.frame: 6 × 23\n",
       "\n",
       "| <!--/--> | ADT.FN12.2020 &lt;chr&gt; | X &lt;chr&gt; | X.1 &lt;chr&gt; | Notification.received.date &lt;chr&gt; | X.2 &lt;chr&gt; | X.3 &lt;chr&gt; | X.4 &lt;chr&gt; | X.5 &lt;chr&gt; | X.6 &lt;chr&gt; | X.7 &lt;chr&gt; | ⋯ ⋯ | X.11 &lt;chr&gt; | X.12 &lt;chr&gt; | X.13 &lt;chr&gt; | X.14 &lt;chr&gt; | X.15 &lt;chr&gt; | X.16 &lt;chr&gt; | X.17 &lt;chr&gt; | X.18 &lt;chr&gt; | X.19 &lt;chr&gt; | X.20 &lt;chr&gt; |\n",
       "|---|---|---|---|---|---|---|---|---|---|---|---|---|---|---|---|---|---|---|---|---|---|\n",
       "| 1 | <!----> | <!----> | <!----> | State or Territory | <!----> | <!----> | <!----> | <!----> | <!----> | <!----> | ⋯ | <!----> | <!----> | Historical 90 Day Period | <!----> | <!----> | <!----> | Historical Yearly Period | <!----> | <!----> | <!----> |\n",
       "| 2 | Disease group       | Disease name                 | Disease code | ACT                | NSW   | NT    | Qld  | SA    | Tas   | Vic   | ⋯ | Same reporting period last year | Current year\n",
       "YTD | Past Quarter             | Quarterly rolling \n",
       "5 year mean | Ratio past quarter/5 year mean* | Exceeds quarterly rolling mean +2 SD by | Past Year                | Yearly rolling \n",
       "5 year mean | Ratio past  year/5 year mean* | Exceeds yearly rolling mean +2 SD by |\n",
       "| 3 | <!----> | <!----> | <!----> | <!----> | <!----> | <!----> | <!----> | <!----> | <!----> | <!----> | ⋯ | 06/06/2019                      | 01/01/2020        | 22/03/2020               | <!----> | <!----> | <!----> | 20/06/2019               | 20/06/2014                   | <!----> | <!----> |\n",
       "| 4 | <!----> | <!----> | <!----> | <!----> | <!----> | <!----> | <!----> | <!----> | <!----> | <!----> | ⋯ | 19/06/2019                      | 19/06/2020        | 19/06/2020               | <!----> | <!----> | <!----> | 19/06/2020               | 19/06/2019                   | <!----> | <!----> |\n",
       "| 5 | Bloodborne diseases | Hepatitis B (newly acquired) | 039          |  -                 |  -    |  -    |  2   |  -    |  -    |  -    | ⋯ |  6                              |  55               |  29                      |  38.8                           |  0.7                            |  -                                      |  139                     |  153.0                       |  0.9                          |  -                                   |\n",
       "| 6 | <!----> | Hepatitis B (unspecified)    | 052          |  6                 |  74   |  -    |  30  |  2    |  4    |  51   | ⋯ |  203                            |  2,368            |  1,111                   |  1,526.2                        |  0.7                            |  -                                      |  5,322                   |  6,103.8                     |  0.9                          |  -                                   |\n",
       "\n"
      ],
      "text/plain": [
       "  ADT.FN12.2020       X                            X.1         \n",
       "1                                                              \n",
       "2 Disease group       Disease name                 Disease code\n",
       "3                                                              \n",
       "4                                                              \n",
       "5 Bloodborne diseases Hepatitis B (newly acquired) 039         \n",
       "6                     Hepatitis B (unspecified)    052         \n",
       "  Notification.received.date X.2   X.3   X.4  X.5   X.6   X.7   ⋯\n",
       "1 State or Territory                                            ⋯\n",
       "2 ACT                        NSW   NT    Qld  SA    Tas   Vic   ⋯\n",
       "3                                                               ⋯\n",
       "4                                                               ⋯\n",
       "5  -                          -     -     2    -     -     -    ⋯\n",
       "6  6                          74    -     30   2     4     51   ⋯\n",
       "  X.11                            X.12              X.13                    \n",
       "1                                                   Historical 90 Day Period\n",
       "2 Same reporting period last year Current year\\nYTD Past Quarter            \n",
       "3 06/06/2019                      01/01/2020        22/03/2020              \n",
       "4 19/06/2019                      19/06/2020        19/06/2020              \n",
       "5  6                               55                29                     \n",
       "6  203                             2,368             1,111                  \n",
       "  X.14                            X.15                           \n",
       "1                                                                \n",
       "2 Quarterly rolling \\n5 year mean Ratio past quarter/5 year mean*\n",
       "3                                                                \n",
       "4                                                                \n",
       "5  38.8                            0.7                           \n",
       "6  1,526.2                         0.7                           \n",
       "  X.16                                    X.17                    \n",
       "1                                         Historical Yearly Period\n",
       "2 Exceeds quarterly rolling mean +2 SD by Past Year               \n",
       "3                                         20/06/2019              \n",
       "4                                         19/06/2020              \n",
       "5  -                                       139                    \n",
       "6  -                                       5,322                  \n",
       "  X.18                         X.19                         \n",
       "1                                                           \n",
       "2 Yearly rolling \\n5 year mean Ratio past  year/5 year mean*\n",
       "3 20/06/2014                                                \n",
       "4 19/06/2019                                                \n",
       "5  153.0                        0.9                         \n",
       "6  6,103.8                      0.9                         \n",
       "  X.20                                \n",
       "1                                     \n",
       "2 Exceeds yearly rolling mean +2 SD by\n",
       "3                                     \n",
       "4                                     \n",
       "5  -                                  \n",
       "6  -                                  "
      ]
     },
     "metadata": {},
     "output_type": "display_data"
    }
   ],
   "source": [
    "df = read.csv(\"6-to-19-june-2020-table (1).csv\", header=TRUE, stringsAsFactors=FALSE)\n",
    "head(df)"
   ]
  },
  {
   "cell_type": "code",
   "execution_count": 58,
   "id": "6769ddd6-737b-469c-af6c-c1fd5ca555ec",
   "metadata": {},
   "outputs": [
    {
     "data": {
      "text/html": [
       "<table class=\"dataframe\">\n",
       "<caption>A data.frame: 6 × 2</caption>\n",
       "<thead>\n",
       "\t<tr><th></th><th scope=col>X</th><th scope=col>X.9</th></tr>\n",
       "\t<tr><th></th><th scope=col>&lt;chr&gt;</th><th scope=col>&lt;chr&gt;</th></tr>\n",
       "</thead>\n",
       "<tbody>\n",
       "\t<tr><th scope=row>1</th><td>                            </td><td>Totals for Australia </td></tr>\n",
       "\t<tr><th scope=row>2</th><td>Disease name                </td><td>This reporting period</td></tr>\n",
       "\t<tr><th scope=row>3</th><td>                            </td><td>06/06/2020           </td></tr>\n",
       "\t<tr><th scope=row>4</th><td>                            </td><td>19/06/2020           </td></tr>\n",
       "\t<tr><th scope=row>5</th><td>Hepatitis B (newly acquired)</td><td> 2                   </td></tr>\n",
       "\t<tr><th scope=row>6</th><td>Hepatitis B (unspecified)   </td><td> 193                 </td></tr>\n",
       "</tbody>\n",
       "</table>\n"
      ],
      "text/latex": [
       "A data.frame: 6 × 2\n",
       "\\begin{tabular}{r|ll}\n",
       "  & X & X.9\\\\\n",
       "  & <chr> & <chr>\\\\\n",
       "\\hline\n",
       "\t1 &                              & Totals for Australia \\\\\n",
       "\t2 & Disease name                 & This reporting period\\\\\n",
       "\t3 &                              & 06/06/2020           \\\\\n",
       "\t4 &                              & 19/06/2020           \\\\\n",
       "\t5 & Hepatitis B (newly acquired) &  2                   \\\\\n",
       "\t6 & Hepatitis B (unspecified)    &  193                 \\\\\n",
       "\\end{tabular}\n"
      ],
      "text/markdown": [
       "\n",
       "A data.frame: 6 × 2\n",
       "\n",
       "| <!--/--> | X &lt;chr&gt; | X.9 &lt;chr&gt; |\n",
       "|---|---|---|\n",
       "| 1 | <!----> | Totals for Australia  |\n",
       "| 2 | Disease name                 | This reporting period |\n",
       "| 3 | <!----> | 06/06/2020            |\n",
       "| 4 | <!----> | 19/06/2020            |\n",
       "| 5 | Hepatitis B (newly acquired) |  2                    |\n",
       "| 6 | Hepatitis B (unspecified)    |  193                  |\n",
       "\n"
      ],
      "text/plain": [
       "  X                            X.9                  \n",
       "1                              Totals for Australia \n",
       "2 Disease name                 This reporting period\n",
       "3                              06/06/2020           \n",
       "4                              19/06/2020           \n",
       "5 Hepatitis B (newly acquired)  2                   \n",
       "6 Hepatitis B (unspecified)     193                 "
      ]
     },
     "metadata": {},
     "output_type": "display_data"
    }
   ],
   "source": [
    "df <- df[, -c(1,3:11, 13:23)]\n",
    "head(df)"
   ]
  },
  {
   "cell_type": "code",
   "execution_count": 59,
   "id": "0d6ca3f2-d8d3-4796-b66f-0ca07fec2113",
   "metadata": {},
   "outputs": [
    {
     "data": {
      "text/html": [
       "<table class=\"dataframe\">\n",
       "<caption>A data.frame: 1 × 2</caption>\n",
       "<thead>\n",
       "\t<tr><th></th><th scope=col>X</th><th scope=col>X.9</th></tr>\n",
       "\t<tr><th></th><th scope=col>&lt;chr&gt;</th><th scope=col>&lt;chr&gt;</th></tr>\n",
       "</thead>\n",
       "<tbody>\n",
       "\t<tr><th scope=row>40</th><td>Influenza (laboratory confirmed)</td><td> 80 </td></tr>\n",
       "</tbody>\n",
       "</table>\n"
      ],
      "text/latex": [
       "A data.frame: 1 × 2\n",
       "\\begin{tabular}{r|ll}\n",
       "  & X & X.9\\\\\n",
       "  & <chr> & <chr>\\\\\n",
       "\\hline\n",
       "\t40 & Influenza (laboratory confirmed) &  80 \\\\\n",
       "\\end{tabular}\n"
      ],
      "text/markdown": [
       "\n",
       "A data.frame: 1 × 2\n",
       "\n",
       "| <!--/--> | X &lt;chr&gt; | X.9 &lt;chr&gt; |\n",
       "|---|---|---|\n",
       "| 40 | Influenza (laboratory confirmed) |  80  |\n",
       "\n"
      ],
      "text/plain": [
       "   X                                X.9 \n",
       "40 Influenza (laboratory confirmed)  80 "
      ]
     },
     "metadata": {},
     "output_type": "display_data"
    },
    {
     "data": {
      "text/html": [
       "<table class=\"dataframe\">\n",
       "<caption>A data.frame: 1 × 2</caption>\n",
       "<thead>\n",
       "\t<tr><th></th><th scope=col>X</th><th scope=col>X.9</th></tr>\n",
       "\t<tr><th></th><th scope=col>&lt;chr&gt;</th><th scope=col>&lt;chr&gt;</th></tr>\n",
       "</thead>\n",
       "<tbody>\n",
       "\t<tr><th scope=row>23</th><td>COVID-19</td><td> 195 </td></tr>\n",
       "</tbody>\n",
       "</table>\n"
      ],
      "text/latex": [
       "A data.frame: 1 × 2\n",
       "\\begin{tabular}{r|ll}\n",
       "  & X & X.9\\\\\n",
       "  & <chr> & <chr>\\\\\n",
       "\\hline\n",
       "\t23 & COVID-19 &  195 \\\\\n",
       "\\end{tabular}\n"
      ],
      "text/markdown": [
       "\n",
       "A data.frame: 1 × 2\n",
       "\n",
       "| <!--/--> | X &lt;chr&gt; | X.9 &lt;chr&gt; |\n",
       "|---|---|---|\n",
       "| 23 | COVID-19 |  195  |\n",
       "\n"
      ],
      "text/plain": [
       "   X        X.9  \n",
       "23 COVID-19  195 "
      ]
     },
     "metadata": {},
     "output_type": "display_data"
    },
    {
     "data": {
      "text/html": [
       "<table class=\"dataframe\">\n",
       "<caption>A data.frame: 2 × 2</caption>\n",
       "<thead>\n",
       "\t<tr><th></th><th scope=col>X</th><th scope=col>X.9</th></tr>\n",
       "\t<tr><th></th><th scope=col>&lt;chr&gt;</th><th scope=col>&lt;chr&gt;</th></tr>\n",
       "</thead>\n",
       "<tbody>\n",
       "\t<tr><th scope=row>40</th><td>Influenza (laboratory confirmed)</td><td> 80  </td></tr>\n",
       "\t<tr><th scope=row>23</th><td>COVID-19                        </td><td> 195 </td></tr>\n",
       "</tbody>\n",
       "</table>\n"
      ],
      "text/latex": [
       "A data.frame: 2 × 2\n",
       "\\begin{tabular}{r|ll}\n",
       "  & X & X.9\\\\\n",
       "  & <chr> & <chr>\\\\\n",
       "\\hline\n",
       "\t40 & Influenza (laboratory confirmed) &  80  \\\\\n",
       "\t23 & COVID-19                         &  195 \\\\\n",
       "\\end{tabular}\n"
      ],
      "text/markdown": [
       "\n",
       "A data.frame: 2 × 2\n",
       "\n",
       "| <!--/--> | X &lt;chr&gt; | X.9 &lt;chr&gt; |\n",
       "|---|---|---|\n",
       "| 40 | Influenza (laboratory confirmed) |  80   |\n",
       "| 23 | COVID-19                         |  195  |\n",
       "\n"
      ],
      "text/plain": [
       "   X                                X.9  \n",
       "40 Influenza (laboratory confirmed)  80  \n",
       "23 COVID-19                          195 "
      ]
     },
     "metadata": {},
     "output_type": "display_data"
    }
   ],
   "source": [
    "#find the rows that contain the words influenza\n",
    "\n",
    "inf <- df[grep(\"Influenza\", df$X),]\n",
    "head(inf)\n",
    "covid <-  df[grep(\"COVID\", df$X),]\n",
    "covid\n",
    "JUN06_JUN19_2020 <- rbind(inf, covid)\n",
    "JUN06_JUN19_2020"
   ]
  },
  {
   "cell_type": "code",
   "execution_count": 60,
   "id": "0e364f8d-bfd6-4a18-af33-d097a6b7d502",
   "metadata": {},
   "outputs": [
    {
     "data": {
      "text/html": [
       "<table class=\"dataframe\">\n",
       "<caption>A data.frame: 2 × 2</caption>\n",
       "<thead>\n",
       "\t<tr><th></th><th scope=col>Disease</th><th scope=col>06JUN- 19JUN-2020</th></tr>\n",
       "\t<tr><th></th><th scope=col>&lt;chr&gt;</th><th scope=col>&lt;dbl&gt;</th></tr>\n",
       "</thead>\n",
       "<tbody>\n",
       "\t<tr><th scope=row>40</th><td>Influenza (laboratory confirmed)</td><td> 80</td></tr>\n",
       "\t<tr><th scope=row>23</th><td>COVID-19                        </td><td>195</td></tr>\n",
       "</tbody>\n",
       "</table>\n"
      ],
      "text/latex": [
       "A data.frame: 2 × 2\n",
       "\\begin{tabular}{r|ll}\n",
       "  & Disease & 06JUN- 19JUN-2020\\\\\n",
       "  & <chr> & <dbl>\\\\\n",
       "\\hline\n",
       "\t40 & Influenza (laboratory confirmed) &  80\\\\\n",
       "\t23 & COVID-19                         & 195\\\\\n",
       "\\end{tabular}\n"
      ],
      "text/markdown": [
       "\n",
       "A data.frame: 2 × 2\n",
       "\n",
       "| <!--/--> | Disease &lt;chr&gt; | 06JUN- 19JUN-2020 &lt;dbl&gt; |\n",
       "|---|---|---|\n",
       "| 40 | Influenza (laboratory confirmed) |  80 |\n",
       "| 23 | COVID-19                         | 195 |\n",
       "\n"
      ],
      "text/plain": [
       "   Disease                          06JUN- 19JUN-2020\n",
       "40 Influenza (laboratory confirmed)  80              \n",
       "23 COVID-19                         195              "
      ]
     },
     "metadata": {},
     "output_type": "display_data"
    }
   ],
   "source": [
    "JUN06_JUN19_2020[,2] <- as.numeric(JUN06_JUN19_2020[,2])\n",
    "colnames(JUN06_JUN19_2020) <- c(\"Disease\", \"06JUN- 19JUN-2020\")\n",
    "JUN06_JUN19_2020"
   ]
  },
  {
   "cell_type": "code",
   "execution_count": null,
   "id": "b5991a91-4c86-41b0-9763-e8d95bc8de57",
   "metadata": {},
   "outputs": [],
   "source": []
  },
  {
   "cell_type": "code",
   "execution_count": null,
   "id": "ead38499-94de-487a-9172-29391eee3c41",
   "metadata": {},
   "outputs": [],
   "source": [
    "# NExt Dataset is from 20-june-to-3-july-2020-table"
   ]
  },
  {
   "cell_type": "code",
   "execution_count": 61,
   "id": "4b983597-710a-4842-9008-8a81c2df1446",
   "metadata": {},
   "outputs": [
    {
     "data": {
      "text/html": [
       "<table class=\"dataframe\">\n",
       "<caption>A data.frame: 6 × 23</caption>\n",
       "<thead>\n",
       "\t<tr><th></th><th scope=col>ADT.FN13.2020</th><th scope=col>X</th><th scope=col>X.1</th><th scope=col>Notification.received.date</th><th scope=col>X.2</th><th scope=col>X.3</th><th scope=col>X.4</th><th scope=col>X.5</th><th scope=col>X.6</th><th scope=col>X.7</th><th scope=col>⋯</th><th scope=col>X.11</th><th scope=col>X.12</th><th scope=col>X.13</th><th scope=col>X.14</th><th scope=col>X.15</th><th scope=col>X.16</th><th scope=col>X.17</th><th scope=col>X.18</th><th scope=col>X.19</th><th scope=col>X.20</th></tr>\n",
       "\t<tr><th></th><th scope=col>&lt;chr&gt;</th><th scope=col>&lt;chr&gt;</th><th scope=col>&lt;chr&gt;</th><th scope=col>&lt;chr&gt;</th><th scope=col>&lt;chr&gt;</th><th scope=col>&lt;chr&gt;</th><th scope=col>&lt;chr&gt;</th><th scope=col>&lt;chr&gt;</th><th scope=col>&lt;chr&gt;</th><th scope=col>&lt;chr&gt;</th><th scope=col>⋯</th><th scope=col>&lt;chr&gt;</th><th scope=col>&lt;chr&gt;</th><th scope=col>&lt;chr&gt;</th><th scope=col>&lt;chr&gt;</th><th scope=col>&lt;chr&gt;</th><th scope=col>&lt;chr&gt;</th><th scope=col>&lt;chr&gt;</th><th scope=col>&lt;chr&gt;</th><th scope=col>&lt;chr&gt;</th><th scope=col>&lt;chr&gt;</th></tr>\n",
       "</thead>\n",
       "<tbody>\n",
       "\t<tr><th scope=row>1</th><td>                   </td><td>                            </td><td>            </td><td>State or Territory</td><td>    </td><td>     </td><td>    </td><td>     </td><td>     </td><td>     </td><td>⋯</td><td>                               </td><td>                 </td><td>Historical 90 Day Period</td><td>                               </td><td>                               </td><td>                                       </td><td>Historical Yearly Period</td><td>                            </td><td>                             </td><td>                                    </td></tr>\n",
       "\t<tr><th scope=row>2</th><td>Disease group      </td><td>Disease name                </td><td>Disease code</td><td>ACT               </td><td>NSW </td><td>NT   </td><td>Qld </td><td>SA   </td><td>Tas  </td><td>Vic  </td><td>⋯</td><td>Same reporting period last year</td><td>Current year\n",
       "YTD</td><td>Past Quarter            </td><td>Quarterly rolling \n",
       "5 year mean</td><td>Ratio past quarter/5 year mean*</td><td>Exceeds quarterly rolling mean +2 SD by</td><td>Past Year               </td><td>Yearly rolling \n",
       "5 year mean</td><td>Ratio past  year/5 year mean*</td><td>Exceeds yearly rolling mean +2 SD by</td></tr>\n",
       "\t<tr><th scope=row>3</th><td>                   </td><td>                            </td><td>            </td><td>                  </td><td>    </td><td>     </td><td>    </td><td>     </td><td>     </td><td>     </td><td>⋯</td><td>20/06/2019                     </td><td>01/01/2020       </td><td>05/04/2020              </td><td>                               </td><td>                               </td><td>                                       </td><td>04/07/2019              </td><td>04/07/2014                  </td><td>                             </td><td>                                    </td></tr>\n",
       "\t<tr><th scope=row>4</th><td>                   </td><td>                            </td><td>            </td><td>                  </td><td>    </td><td>     </td><td>    </td><td>     </td><td>     </td><td>     </td><td>⋯</td><td>03/07/2019                     </td><td>03/07/2020       </td><td>03/07/2020              </td><td>                               </td><td>                               </td><td>                                       </td><td>03/07/2020              </td><td>03/07/2019                  </td><td>                             </td><td>                                    </td></tr>\n",
       "\t<tr><th scope=row>5</th><td>Bloodborne diseases</td><td>Hepatitis B (newly acquired)</td><td>039         </td><td> -                </td><td> 1  </td><td> -   </td><td> 4  </td><td> -   </td><td> -   </td><td> -   </td><td>⋯</td><td> 8                             </td><td> 61              </td><td> 32                     </td><td> 39.8                          </td><td> 0.8                           </td><td> -                                     </td><td> 137                    </td><td> 152.8                      </td><td> 0.9                         </td><td> -                                  </td></tr>\n",
       "\t<tr><th scope=row>6</th><td>                   </td><td>Hepatitis B (unspecified)   </td><td>052         </td><td> 3                </td><td> 78 </td><td> -   </td><td> 38 </td><td> 1   </td><td> 1   </td><td> 44  </td><td>⋯</td><td> 232                           </td><td> 2,590           </td><td> 1,166                  </td><td> 1,524.0                       </td><td> 0.8                           </td><td> -                                     </td><td> 5,312                  </td><td> 6,095.0                    </td><td> 0.9                         </td><td> -                                  </td></tr>\n",
       "</tbody>\n",
       "</table>\n"
      ],
      "text/latex": [
       "A data.frame: 6 × 23\n",
       "\\begin{tabular}{r|lllllllllllllllllllll}\n",
       "  & ADT.FN13.2020 & X & X.1 & Notification.received.date & X.2 & X.3 & X.4 & X.5 & X.6 & X.7 & ⋯ & X.11 & X.12 & X.13 & X.14 & X.15 & X.16 & X.17 & X.18 & X.19 & X.20\\\\\n",
       "  & <chr> & <chr> & <chr> & <chr> & <chr> & <chr> & <chr> & <chr> & <chr> & <chr> & ⋯ & <chr> & <chr> & <chr> & <chr> & <chr> & <chr> & <chr> & <chr> & <chr> & <chr>\\\\\n",
       "\\hline\n",
       "\t1 &                     &                              &              & State or Territory &      &       &      &       &       &       & ⋯ &                                 &                   & Historical 90 Day Period &                                 &                                 &                                         & Historical Yearly Period &                              &                               &                                     \\\\\n",
       "\t2 & Disease group       & Disease name                 & Disease code & ACT                & NSW  & NT    & Qld  & SA    & Tas   & Vic   & ⋯ & Same reporting period last year & Current year\n",
       "YTD & Past Quarter             & Quarterly rolling \n",
       "5 year mean & Ratio past quarter/5 year mean* & Exceeds quarterly rolling mean +2 SD by & Past Year                & Yearly rolling \n",
       "5 year mean & Ratio past  year/5 year mean* & Exceeds yearly rolling mean +2 SD by\\\\\n",
       "\t3 &                     &                              &              &                    &      &       &      &       &       &       & ⋯ & 20/06/2019                      & 01/01/2020        & 05/04/2020               &                                 &                                 &                                         & 04/07/2019               & 04/07/2014                   &                               &                                     \\\\\n",
       "\t4 &                     &                              &              &                    &      &       &      &       &       &       & ⋯ & 03/07/2019                      & 03/07/2020        & 03/07/2020               &                                 &                                 &                                         & 03/07/2020               & 03/07/2019                   &                               &                                     \\\\\n",
       "\t5 & Bloodborne diseases & Hepatitis B (newly acquired) & 039          &  -                 &  1   &  -    &  4   &  -    &  -    &  -    & ⋯ &  8                              &  61               &  32                      &  39.8                           &  0.8                            &  -                                      &  137                     &  152.8                       &  0.9                          &  -                                  \\\\\n",
       "\t6 &                     & Hepatitis B (unspecified)    & 052          &  3                 &  78  &  -    &  38  &  1    &  1    &  44   & ⋯ &  232                            &  2,590            &  1,166                   &  1,524.0                        &  0.8                            &  -                                      &  5,312                   &  6,095.0                     &  0.9                          &  -                                  \\\\\n",
       "\\end{tabular}\n"
      ],
      "text/markdown": [
       "\n",
       "A data.frame: 6 × 23\n",
       "\n",
       "| <!--/--> | ADT.FN13.2020 &lt;chr&gt; | X &lt;chr&gt; | X.1 &lt;chr&gt; | Notification.received.date &lt;chr&gt; | X.2 &lt;chr&gt; | X.3 &lt;chr&gt; | X.4 &lt;chr&gt; | X.5 &lt;chr&gt; | X.6 &lt;chr&gt; | X.7 &lt;chr&gt; | ⋯ ⋯ | X.11 &lt;chr&gt; | X.12 &lt;chr&gt; | X.13 &lt;chr&gt; | X.14 &lt;chr&gt; | X.15 &lt;chr&gt; | X.16 &lt;chr&gt; | X.17 &lt;chr&gt; | X.18 &lt;chr&gt; | X.19 &lt;chr&gt; | X.20 &lt;chr&gt; |\n",
       "|---|---|---|---|---|---|---|---|---|---|---|---|---|---|---|---|---|---|---|---|---|---|\n",
       "| 1 | <!----> | <!----> | <!----> | State or Territory | <!----> | <!----> | <!----> | <!----> | <!----> | <!----> | ⋯ | <!----> | <!----> | Historical 90 Day Period | <!----> | <!----> | <!----> | Historical Yearly Period | <!----> | <!----> | <!----> |\n",
       "| 2 | Disease group       | Disease name                 | Disease code | ACT                | NSW  | NT    | Qld  | SA    | Tas   | Vic   | ⋯ | Same reporting period last year | Current year\n",
       "YTD | Past Quarter             | Quarterly rolling \n",
       "5 year mean | Ratio past quarter/5 year mean* | Exceeds quarterly rolling mean +2 SD by | Past Year                | Yearly rolling \n",
       "5 year mean | Ratio past  year/5 year mean* | Exceeds yearly rolling mean +2 SD by |\n",
       "| 3 | <!----> | <!----> | <!----> | <!----> | <!----> | <!----> | <!----> | <!----> | <!----> | <!----> | ⋯ | 20/06/2019                      | 01/01/2020        | 05/04/2020               | <!----> | <!----> | <!----> | 04/07/2019               | 04/07/2014                   | <!----> | <!----> |\n",
       "| 4 | <!----> | <!----> | <!----> | <!----> | <!----> | <!----> | <!----> | <!----> | <!----> | <!----> | ⋯ | 03/07/2019                      | 03/07/2020        | 03/07/2020               | <!----> | <!----> | <!----> | 03/07/2020               | 03/07/2019                   | <!----> | <!----> |\n",
       "| 5 | Bloodborne diseases | Hepatitis B (newly acquired) | 039          |  -                 |  1   |  -    |  4   |  -    |  -    |  -    | ⋯ |  8                              |  61               |  32                      |  39.8                           |  0.8                            |  -                                      |  137                     |  152.8                       |  0.9                          |  -                                   |\n",
       "| 6 | <!----> | Hepatitis B (unspecified)    | 052          |  3                 |  78  |  -    |  38  |  1    |  1    |  44   | ⋯ |  232                            |  2,590            |  1,166                   |  1,524.0                        |  0.8                            |  -                                      |  5,312                   |  6,095.0                     |  0.9                          |  -                                   |\n",
       "\n"
      ],
      "text/plain": [
       "  ADT.FN13.2020       X                            X.1         \n",
       "1                                                              \n",
       "2 Disease group       Disease name                 Disease code\n",
       "3                                                              \n",
       "4                                                              \n",
       "5 Bloodborne diseases Hepatitis B (newly acquired) 039         \n",
       "6                     Hepatitis B (unspecified)    052         \n",
       "  Notification.received.date X.2  X.3   X.4  X.5   X.6   X.7   ⋯\n",
       "1 State or Territory                                           ⋯\n",
       "2 ACT                        NSW  NT    Qld  SA    Tas   Vic   ⋯\n",
       "3                                                              ⋯\n",
       "4                                                              ⋯\n",
       "5  -                          1    -     4    -     -     -    ⋯\n",
       "6  3                          78   -     38   1     1     44   ⋯\n",
       "  X.11                            X.12              X.13                    \n",
       "1                                                   Historical 90 Day Period\n",
       "2 Same reporting period last year Current year\\nYTD Past Quarter            \n",
       "3 20/06/2019                      01/01/2020        05/04/2020              \n",
       "4 03/07/2019                      03/07/2020        03/07/2020              \n",
       "5  8                               61                32                     \n",
       "6  232                             2,590             1,166                  \n",
       "  X.14                            X.15                           \n",
       "1                                                                \n",
       "2 Quarterly rolling \\n5 year mean Ratio past quarter/5 year mean*\n",
       "3                                                                \n",
       "4                                                                \n",
       "5  39.8                            0.8                           \n",
       "6  1,524.0                         0.8                           \n",
       "  X.16                                    X.17                    \n",
       "1                                         Historical Yearly Period\n",
       "2 Exceeds quarterly rolling mean +2 SD by Past Year               \n",
       "3                                         04/07/2019              \n",
       "4                                         03/07/2020              \n",
       "5  -                                       137                    \n",
       "6  -                                       5,312                  \n",
       "  X.18                         X.19                         \n",
       "1                                                           \n",
       "2 Yearly rolling \\n5 year mean Ratio past  year/5 year mean*\n",
       "3 04/07/2014                                                \n",
       "4 03/07/2019                                                \n",
       "5  152.8                        0.9                         \n",
       "6  6,095.0                      0.9                         \n",
       "  X.20                                \n",
       "1                                     \n",
       "2 Exceeds yearly rolling mean +2 SD by\n",
       "3                                     \n",
       "4                                     \n",
       "5  -                                  \n",
       "6  -                                  "
      ]
     },
     "metadata": {},
     "output_type": "display_data"
    }
   ],
   "source": [
    "df = read.csv(\"20-june-to-3-july-2020-table.csv\", header=TRUE, stringsAsFactors=FALSE)\n",
    "head(df)"
   ]
  },
  {
   "cell_type": "code",
   "execution_count": 62,
   "id": "c1762586-4cb4-46f8-8256-59109bea2edd",
   "metadata": {},
   "outputs": [
    {
     "data": {
      "text/html": [
       "<table class=\"dataframe\">\n",
       "<caption>A data.frame: 6 × 2</caption>\n",
       "<thead>\n",
       "\t<tr><th></th><th scope=col>X</th><th scope=col>X.9</th></tr>\n",
       "\t<tr><th></th><th scope=col>&lt;chr&gt;</th><th scope=col>&lt;chr&gt;</th></tr>\n",
       "</thead>\n",
       "<tbody>\n",
       "\t<tr><th scope=row>1</th><td>                            </td><td>Totals for Australia </td></tr>\n",
       "\t<tr><th scope=row>2</th><td>Disease name                </td><td>This reporting period</td></tr>\n",
       "\t<tr><th scope=row>3</th><td>                            </td><td>20/06/2020           </td></tr>\n",
       "\t<tr><th scope=row>4</th><td>                            </td><td>03/07/2020           </td></tr>\n",
       "\t<tr><th scope=row>5</th><td>Hepatitis B (newly acquired)</td><td> 6                   </td></tr>\n",
       "\t<tr><th scope=row>6</th><td>Hepatitis B (unspecified)   </td><td> 200                 </td></tr>\n",
       "</tbody>\n",
       "</table>\n"
      ],
      "text/latex": [
       "A data.frame: 6 × 2\n",
       "\\begin{tabular}{r|ll}\n",
       "  & X & X.9\\\\\n",
       "  & <chr> & <chr>\\\\\n",
       "\\hline\n",
       "\t1 &                              & Totals for Australia \\\\\n",
       "\t2 & Disease name                 & This reporting period\\\\\n",
       "\t3 &                              & 20/06/2020           \\\\\n",
       "\t4 &                              & 03/07/2020           \\\\\n",
       "\t5 & Hepatitis B (newly acquired) &  6                   \\\\\n",
       "\t6 & Hepatitis B (unspecified)    &  200                 \\\\\n",
       "\\end{tabular}\n"
      ],
      "text/markdown": [
       "\n",
       "A data.frame: 6 × 2\n",
       "\n",
       "| <!--/--> | X &lt;chr&gt; | X.9 &lt;chr&gt; |\n",
       "|---|---|---|\n",
       "| 1 | <!----> | Totals for Australia  |\n",
       "| 2 | Disease name                 | This reporting period |\n",
       "| 3 | <!----> | 20/06/2020            |\n",
       "| 4 | <!----> | 03/07/2020            |\n",
       "| 5 | Hepatitis B (newly acquired) |  6                    |\n",
       "| 6 | Hepatitis B (unspecified)    |  200                  |\n",
       "\n"
      ],
      "text/plain": [
       "  X                            X.9                  \n",
       "1                              Totals for Australia \n",
       "2 Disease name                 This reporting period\n",
       "3                              20/06/2020           \n",
       "4                              03/07/2020           \n",
       "5 Hepatitis B (newly acquired)  6                   \n",
       "6 Hepatitis B (unspecified)     200                 "
      ]
     },
     "metadata": {},
     "output_type": "display_data"
    }
   ],
   "source": [
    "df <- df[, -c(1,3:11, 13:23)]\n",
    "head(df)"
   ]
  },
  {
   "cell_type": "code",
   "execution_count": 63,
   "id": "0c77ccb8-c5ac-4293-a585-6d3ae6d82ffe",
   "metadata": {},
   "outputs": [
    {
     "data": {
      "text/html": [
       "<table class=\"dataframe\">\n",
       "<caption>A data.frame: 1 × 2</caption>\n",
       "<thead>\n",
       "\t<tr><th></th><th scope=col>X</th><th scope=col>X.9</th></tr>\n",
       "\t<tr><th></th><th scope=col>&lt;chr&gt;</th><th scope=col>&lt;chr&gt;</th></tr>\n",
       "</thead>\n",
       "<tbody>\n",
       "\t<tr><th scope=row>40</th><td>Influenza (laboratory confirmed)</td><td> 114 </td></tr>\n",
       "</tbody>\n",
       "</table>\n"
      ],
      "text/latex": [
       "A data.frame: 1 × 2\n",
       "\\begin{tabular}{r|ll}\n",
       "  & X & X.9\\\\\n",
       "  & <chr> & <chr>\\\\\n",
       "\\hline\n",
       "\t40 & Influenza (laboratory confirmed) &  114 \\\\\n",
       "\\end{tabular}\n"
      ],
      "text/markdown": [
       "\n",
       "A data.frame: 1 × 2\n",
       "\n",
       "| <!--/--> | X &lt;chr&gt; | X.9 &lt;chr&gt; |\n",
       "|---|---|---|\n",
       "| 40 | Influenza (laboratory confirmed) |  114  |\n",
       "\n"
      ],
      "text/plain": [
       "   X                                X.9  \n",
       "40 Influenza (laboratory confirmed)  114 "
      ]
     },
     "metadata": {},
     "output_type": "display_data"
    },
    {
     "data": {
      "text/html": [
       "<table class=\"dataframe\">\n",
       "<caption>A data.frame: 1 × 2</caption>\n",
       "<thead>\n",
       "\t<tr><th></th><th scope=col>X</th><th scope=col>X.9</th></tr>\n",
       "\t<tr><th></th><th scope=col>&lt;chr&gt;</th><th scope=col>&lt;chr&gt;</th></tr>\n",
       "</thead>\n",
       "<tbody>\n",
       "\t<tr><th scope=row>23</th><td>COVID-19</td><td> 751 </td></tr>\n",
       "</tbody>\n",
       "</table>\n"
      ],
      "text/latex": [
       "A data.frame: 1 × 2\n",
       "\\begin{tabular}{r|ll}\n",
       "  & X & X.9\\\\\n",
       "  & <chr> & <chr>\\\\\n",
       "\\hline\n",
       "\t23 & COVID-19 &  751 \\\\\n",
       "\\end{tabular}\n"
      ],
      "text/markdown": [
       "\n",
       "A data.frame: 1 × 2\n",
       "\n",
       "| <!--/--> | X &lt;chr&gt; | X.9 &lt;chr&gt; |\n",
       "|---|---|---|\n",
       "| 23 | COVID-19 |  751  |\n",
       "\n"
      ],
      "text/plain": [
       "   X        X.9  \n",
       "23 COVID-19  751 "
      ]
     },
     "metadata": {},
     "output_type": "display_data"
    },
    {
     "data": {
      "text/html": [
       "<table class=\"dataframe\">\n",
       "<caption>A data.frame: 2 × 2</caption>\n",
       "<thead>\n",
       "\t<tr><th></th><th scope=col>X</th><th scope=col>X.9</th></tr>\n",
       "\t<tr><th></th><th scope=col>&lt;chr&gt;</th><th scope=col>&lt;chr&gt;</th></tr>\n",
       "</thead>\n",
       "<tbody>\n",
       "\t<tr><th scope=row>40</th><td>Influenza (laboratory confirmed)</td><td> 114 </td></tr>\n",
       "\t<tr><th scope=row>23</th><td>COVID-19                        </td><td> 751 </td></tr>\n",
       "</tbody>\n",
       "</table>\n"
      ],
      "text/latex": [
       "A data.frame: 2 × 2\n",
       "\\begin{tabular}{r|ll}\n",
       "  & X & X.9\\\\\n",
       "  & <chr> & <chr>\\\\\n",
       "\\hline\n",
       "\t40 & Influenza (laboratory confirmed) &  114 \\\\\n",
       "\t23 & COVID-19                         &  751 \\\\\n",
       "\\end{tabular}\n"
      ],
      "text/markdown": [
       "\n",
       "A data.frame: 2 × 2\n",
       "\n",
       "| <!--/--> | X &lt;chr&gt; | X.9 &lt;chr&gt; |\n",
       "|---|---|---|\n",
       "| 40 | Influenza (laboratory confirmed) |  114  |\n",
       "| 23 | COVID-19                         |  751  |\n",
       "\n"
      ],
      "text/plain": [
       "   X                                X.9  \n",
       "40 Influenza (laboratory confirmed)  114 \n",
       "23 COVID-19                          751 "
      ]
     },
     "metadata": {},
     "output_type": "display_data"
    }
   ],
   "source": [
    "#find the rows that contain the words influenza\n",
    "\n",
    "inf <- df[grep(\"Influenza\", df$X),]\n",
    "head(inf)\n",
    "covid <-  df[grep(\"COVID\", df$X),]\n",
    "covid\n",
    "JUN20_JUL03_2020 <- rbind(inf, covid)\n",
    "JUN20_JUL03_2020"
   ]
  },
  {
   "cell_type": "code",
   "execution_count": 64,
   "id": "4d75a22b-12dc-482e-9ba6-a05d402ea21c",
   "metadata": {},
   "outputs": [
    {
     "data": {
      "text/html": [
       "<table class=\"dataframe\">\n",
       "<caption>A data.frame: 2 × 2</caption>\n",
       "<thead>\n",
       "\t<tr><th></th><th scope=col>Disease</th><th scope=col>20JUN-03JUL-2020</th></tr>\n",
       "\t<tr><th></th><th scope=col>&lt;chr&gt;</th><th scope=col>&lt;dbl&gt;</th></tr>\n",
       "</thead>\n",
       "<tbody>\n",
       "\t<tr><th scope=row>40</th><td>Influenza (laboratory confirmed)</td><td>114</td></tr>\n",
       "\t<tr><th scope=row>23</th><td>COVID-19                        </td><td>751</td></tr>\n",
       "</tbody>\n",
       "</table>\n"
      ],
      "text/latex": [
       "A data.frame: 2 × 2\n",
       "\\begin{tabular}{r|ll}\n",
       "  & Disease & 20JUN-03JUL-2020\\\\\n",
       "  & <chr> & <dbl>\\\\\n",
       "\\hline\n",
       "\t40 & Influenza (laboratory confirmed) & 114\\\\\n",
       "\t23 & COVID-19                         & 751\\\\\n",
       "\\end{tabular}\n"
      ],
      "text/markdown": [
       "\n",
       "A data.frame: 2 × 2\n",
       "\n",
       "| <!--/--> | Disease &lt;chr&gt; | 20JUN-03JUL-2020 &lt;dbl&gt; |\n",
       "|---|---|---|\n",
       "| 40 | Influenza (laboratory confirmed) | 114 |\n",
       "| 23 | COVID-19                         | 751 |\n",
       "\n"
      ],
      "text/plain": [
       "   Disease                          20JUN-03JUL-2020\n",
       "40 Influenza (laboratory confirmed) 114             \n",
       "23 COVID-19                         751             "
      ]
     },
     "metadata": {},
     "output_type": "display_data"
    }
   ],
   "source": [
    "JUN20_JUL03_2020[,2] <- as.numeric(JUN20_JUL03_2020[,2])\n",
    "colnames(JUN20_JUL03_2020) <- c(\"Disease\", \"20JUN-03JUL-2020\")\n",
    "JUN20_JUL03_2020"
   ]
  },
  {
   "cell_type": "code",
   "execution_count": null,
   "id": "b93fdaa5-fa38-43cf-a1cd-74f80f14a28c",
   "metadata": {},
   "outputs": [],
   "source": []
  },
  {
   "cell_type": "code",
   "execution_count": null,
   "id": "63d0f1d1-e2ae-4ea0-bb2e-84023c74f0b3",
   "metadata": {},
   "outputs": [],
   "source": [
    "#Next Dataset from 4-to-17-july-2020-table"
   ]
  },
  {
   "cell_type": "code",
   "execution_count": 65,
   "id": "1771a07e-11ec-42e0-87fe-2a902d480301",
   "metadata": {},
   "outputs": [
    {
     "data": {
      "text/html": [
       "<table class=\"dataframe\">\n",
       "<caption>A data.frame: 6 × 23</caption>\n",
       "<thead>\n",
       "\t<tr><th></th><th scope=col>ADT.FN14.2020</th><th scope=col>X</th><th scope=col>X.1</th><th scope=col>Notification.received.date</th><th scope=col>X.2</th><th scope=col>X.3</th><th scope=col>X.4</th><th scope=col>X.5</th><th scope=col>X.6</th><th scope=col>X.7</th><th scope=col>⋯</th><th scope=col>X.11</th><th scope=col>X.12</th><th scope=col>X.13</th><th scope=col>X.14</th><th scope=col>X.15</th><th scope=col>X.16</th><th scope=col>X.17</th><th scope=col>X.18</th><th scope=col>X.19</th><th scope=col>X.20</th></tr>\n",
       "\t<tr><th></th><th scope=col>&lt;chr&gt;</th><th scope=col>&lt;chr&gt;</th><th scope=col>&lt;chr&gt;</th><th scope=col>&lt;chr&gt;</th><th scope=col>&lt;chr&gt;</th><th scope=col>&lt;chr&gt;</th><th scope=col>&lt;chr&gt;</th><th scope=col>&lt;chr&gt;</th><th scope=col>&lt;chr&gt;</th><th scope=col>&lt;chr&gt;</th><th scope=col>⋯</th><th scope=col>&lt;chr&gt;</th><th scope=col>&lt;chr&gt;</th><th scope=col>&lt;chr&gt;</th><th scope=col>&lt;chr&gt;</th><th scope=col>&lt;chr&gt;</th><th scope=col>&lt;chr&gt;</th><th scope=col>&lt;chr&gt;</th><th scope=col>&lt;chr&gt;</th><th scope=col>&lt;chr&gt;</th><th scope=col>&lt;chr&gt;</th></tr>\n",
       "</thead>\n",
       "<tbody>\n",
       "\t<tr><th scope=row>1</th><td>                   </td><td>                            </td><td>            </td><td>State or Territory</td><td>     </td><td>     </td><td>    </td><td>     </td><td>     </td><td>     </td><td>⋯</td><td>                               </td><td>                 </td><td>Historical 90 Day Period</td><td>                               </td><td>                               </td><td>                                       </td><td>Historical Yearly Period</td><td>                            </td><td>                             </td><td>                                    </td></tr>\n",
       "\t<tr><th scope=row>2</th><td>Disease group      </td><td>Disease name                </td><td>Disease code</td><td>ACT               </td><td>NSW  </td><td>NT   </td><td>Qld </td><td>SA   </td><td>Tas  </td><td>Vic  </td><td>⋯</td><td>Same reporting period last year</td><td>Current year\n",
       "YTD</td><td>Past Quarter            </td><td>Quarterly rolling \n",
       "5 year mean</td><td>Ratio past quarter/5 year mean*</td><td>Exceeds quarterly rolling mean +2 SD by</td><td>Past Year               </td><td>Yearly rolling \n",
       "5 year mean</td><td>Ratio past  year/5 year mean*</td><td>Exceeds yearly rolling mean +2 SD by</td></tr>\n",
       "\t<tr><th scope=row>3</th><td>                   </td><td>                            </td><td>            </td><td>                  </td><td>     </td><td>     </td><td>    </td><td>     </td><td>     </td><td>     </td><td>⋯</td><td>04/07/2019                     </td><td>01/01/2020       </td><td>19/04/2020              </td><td>                               </td><td>                               </td><td>                                       </td><td>18/07/2019              </td><td>18/07/2014                  </td><td>                             </td><td>                                    </td></tr>\n",
       "\t<tr><th scope=row>4</th><td>                   </td><td>                            </td><td>            </td><td>                  </td><td>     </td><td>     </td><td>    </td><td>     </td><td>     </td><td>     </td><td>⋯</td><td>17/07/2019                     </td><td>17/07/2020       </td><td>17/07/2020              </td><td>                               </td><td>                               </td><td>                                       </td><td>17/07/2020              </td><td>17/07/2019                  </td><td>                             </td><td>                                    </td></tr>\n",
       "\t<tr><th scope=row>5</th><td>Bloodborne diseases</td><td>Hepatitis B (newly acquired)</td><td>039         </td><td> -                </td><td> -   </td><td> -   </td><td> 1  </td><td> -   </td><td> -   </td><td> -   </td><td>⋯</td><td> 3                             </td><td> 66              </td><td> 31                     </td><td> 39.2                          </td><td> 0.8                           </td><td> -                                     </td><td> 137                    </td><td> 153.4                      </td><td> 0.9                         </td><td> -                                  </td></tr>\n",
       "\t<tr><th scope=row>6</th><td>                   </td><td>Hepatitis B (unspecified)   </td><td>052         </td><td> 3                </td><td> 94  </td><td> -   </td><td> 25 </td><td> 2   </td><td> 3   </td><td> 45  </td><td>⋯</td><td> 236                           </td><td> 2,807           </td><td> 1,270                  </td><td> 1,521.8                       </td><td> 0.8                           </td><td> -                                     </td><td> 5,293                  </td><td> 6,089.6                    </td><td> 0.9                         </td><td> -                                  </td></tr>\n",
       "</tbody>\n",
       "</table>\n"
      ],
      "text/latex": [
       "A data.frame: 6 × 23\n",
       "\\begin{tabular}{r|lllllllllllllllllllll}\n",
       "  & ADT.FN14.2020 & X & X.1 & Notification.received.date & X.2 & X.3 & X.4 & X.5 & X.6 & X.7 & ⋯ & X.11 & X.12 & X.13 & X.14 & X.15 & X.16 & X.17 & X.18 & X.19 & X.20\\\\\n",
       "  & <chr> & <chr> & <chr> & <chr> & <chr> & <chr> & <chr> & <chr> & <chr> & <chr> & ⋯ & <chr> & <chr> & <chr> & <chr> & <chr> & <chr> & <chr> & <chr> & <chr> & <chr>\\\\\n",
       "\\hline\n",
       "\t1 &                     &                              &              & State or Territory &       &       &      &       &       &       & ⋯ &                                 &                   & Historical 90 Day Period &                                 &                                 &                                         & Historical Yearly Period &                              &                               &                                     \\\\\n",
       "\t2 & Disease group       & Disease name                 & Disease code & ACT                & NSW   & NT    & Qld  & SA    & Tas   & Vic   & ⋯ & Same reporting period last year & Current year\n",
       "YTD & Past Quarter             & Quarterly rolling \n",
       "5 year mean & Ratio past quarter/5 year mean* & Exceeds quarterly rolling mean +2 SD by & Past Year                & Yearly rolling \n",
       "5 year mean & Ratio past  year/5 year mean* & Exceeds yearly rolling mean +2 SD by\\\\\n",
       "\t3 &                     &                              &              &                    &       &       &      &       &       &       & ⋯ & 04/07/2019                      & 01/01/2020        & 19/04/2020               &                                 &                                 &                                         & 18/07/2019               & 18/07/2014                   &                               &                                     \\\\\n",
       "\t4 &                     &                              &              &                    &       &       &      &       &       &       & ⋯ & 17/07/2019                      & 17/07/2020        & 17/07/2020               &                                 &                                 &                                         & 17/07/2020               & 17/07/2019                   &                               &                                     \\\\\n",
       "\t5 & Bloodborne diseases & Hepatitis B (newly acquired) & 039          &  -                 &  -    &  -    &  1   &  -    &  -    &  -    & ⋯ &  3                              &  66               &  31                      &  39.2                           &  0.8                            &  -                                      &  137                     &  153.4                       &  0.9                          &  -                                  \\\\\n",
       "\t6 &                     & Hepatitis B (unspecified)    & 052          &  3                 &  94   &  -    &  25  &  2    &  3    &  45   & ⋯ &  236                            &  2,807            &  1,270                   &  1,521.8                        &  0.8                            &  -                                      &  5,293                   &  6,089.6                     &  0.9                          &  -                                  \\\\\n",
       "\\end{tabular}\n"
      ],
      "text/markdown": [
       "\n",
       "A data.frame: 6 × 23\n",
       "\n",
       "| <!--/--> | ADT.FN14.2020 &lt;chr&gt; | X &lt;chr&gt; | X.1 &lt;chr&gt; | Notification.received.date &lt;chr&gt; | X.2 &lt;chr&gt; | X.3 &lt;chr&gt; | X.4 &lt;chr&gt; | X.5 &lt;chr&gt; | X.6 &lt;chr&gt; | X.7 &lt;chr&gt; | ⋯ ⋯ | X.11 &lt;chr&gt; | X.12 &lt;chr&gt; | X.13 &lt;chr&gt; | X.14 &lt;chr&gt; | X.15 &lt;chr&gt; | X.16 &lt;chr&gt; | X.17 &lt;chr&gt; | X.18 &lt;chr&gt; | X.19 &lt;chr&gt; | X.20 &lt;chr&gt; |\n",
       "|---|---|---|---|---|---|---|---|---|---|---|---|---|---|---|---|---|---|---|---|---|---|\n",
       "| 1 | <!----> | <!----> | <!----> | State or Territory | <!----> | <!----> | <!----> | <!----> | <!----> | <!----> | ⋯ | <!----> | <!----> | Historical 90 Day Period | <!----> | <!----> | <!----> | Historical Yearly Period | <!----> | <!----> | <!----> |\n",
       "| 2 | Disease group       | Disease name                 | Disease code | ACT                | NSW   | NT    | Qld  | SA    | Tas   | Vic   | ⋯ | Same reporting period last year | Current year\n",
       "YTD | Past Quarter             | Quarterly rolling \n",
       "5 year mean | Ratio past quarter/5 year mean* | Exceeds quarterly rolling mean +2 SD by | Past Year                | Yearly rolling \n",
       "5 year mean | Ratio past  year/5 year mean* | Exceeds yearly rolling mean +2 SD by |\n",
       "| 3 | <!----> | <!----> | <!----> | <!----> | <!----> | <!----> | <!----> | <!----> | <!----> | <!----> | ⋯ | 04/07/2019                      | 01/01/2020        | 19/04/2020               | <!----> | <!----> | <!----> | 18/07/2019               | 18/07/2014                   | <!----> | <!----> |\n",
       "| 4 | <!----> | <!----> | <!----> | <!----> | <!----> | <!----> | <!----> | <!----> | <!----> | <!----> | ⋯ | 17/07/2019                      | 17/07/2020        | 17/07/2020               | <!----> | <!----> | <!----> | 17/07/2020               | 17/07/2019                   | <!----> | <!----> |\n",
       "| 5 | Bloodborne diseases | Hepatitis B (newly acquired) | 039          |  -                 |  -    |  -    |  1   |  -    |  -    |  -    | ⋯ |  3                              |  66               |  31                      |  39.2                           |  0.8                            |  -                                      |  137                     |  153.4                       |  0.9                          |  -                                   |\n",
       "| 6 | <!----> | Hepatitis B (unspecified)    | 052          |  3                 |  94   |  -    |  25  |  2    |  3    |  45   | ⋯ |  236                            |  2,807            |  1,270                   |  1,521.8                        |  0.8                            |  -                                      |  5,293                   |  6,089.6                     |  0.9                          |  -                                   |\n",
       "\n"
      ],
      "text/plain": [
       "  ADT.FN14.2020       X                            X.1         \n",
       "1                                                              \n",
       "2 Disease group       Disease name                 Disease code\n",
       "3                                                              \n",
       "4                                                              \n",
       "5 Bloodborne diseases Hepatitis B (newly acquired) 039         \n",
       "6                     Hepatitis B (unspecified)    052         \n",
       "  Notification.received.date X.2   X.3   X.4  X.5   X.6   X.7   ⋯\n",
       "1 State or Territory                                            ⋯\n",
       "2 ACT                        NSW   NT    Qld  SA    Tas   Vic   ⋯\n",
       "3                                                               ⋯\n",
       "4                                                               ⋯\n",
       "5  -                          -     -     1    -     -     -    ⋯\n",
       "6  3                          94    -     25   2     3     45   ⋯\n",
       "  X.11                            X.12              X.13                    \n",
       "1                                                   Historical 90 Day Period\n",
       "2 Same reporting period last year Current year\\nYTD Past Quarter            \n",
       "3 04/07/2019                      01/01/2020        19/04/2020              \n",
       "4 17/07/2019                      17/07/2020        17/07/2020              \n",
       "5  3                               66                31                     \n",
       "6  236                             2,807             1,270                  \n",
       "  X.14                            X.15                           \n",
       "1                                                                \n",
       "2 Quarterly rolling \\n5 year mean Ratio past quarter/5 year mean*\n",
       "3                                                                \n",
       "4                                                                \n",
       "5  39.2                            0.8                           \n",
       "6  1,521.8                         0.8                           \n",
       "  X.16                                    X.17                    \n",
       "1                                         Historical Yearly Period\n",
       "2 Exceeds quarterly rolling mean +2 SD by Past Year               \n",
       "3                                         18/07/2019              \n",
       "4                                         17/07/2020              \n",
       "5  -                                       137                    \n",
       "6  -                                       5,293                  \n",
       "  X.18                         X.19                         \n",
       "1                                                           \n",
       "2 Yearly rolling \\n5 year mean Ratio past  year/5 year mean*\n",
       "3 18/07/2014                                                \n",
       "4 17/07/2019                                                \n",
       "5  153.4                        0.9                         \n",
       "6  6,089.6                      0.9                         \n",
       "  X.20                                \n",
       "1                                     \n",
       "2 Exceeds yearly rolling mean +2 SD by\n",
       "3                                     \n",
       "4                                     \n",
       "5  -                                  \n",
       "6  -                                  "
      ]
     },
     "metadata": {},
     "output_type": "display_data"
    }
   ],
   "source": [
    "df = read.csv(\"4-to-17-july-2020-table (1).csv\", header=TRUE, stringsAsFactors=FALSE)\n",
    "head(df)"
   ]
  },
  {
   "cell_type": "code",
   "execution_count": 66,
   "id": "9bc47c35-595a-4f85-b836-21152e1618c4",
   "metadata": {},
   "outputs": [
    {
     "data": {
      "text/html": [
       "<table class=\"dataframe\">\n",
       "<caption>A data.frame: 6 × 2</caption>\n",
       "<thead>\n",
       "\t<tr><th></th><th scope=col>X</th><th scope=col>X.9</th></tr>\n",
       "\t<tr><th></th><th scope=col>&lt;chr&gt;</th><th scope=col>&lt;chr&gt;</th></tr>\n",
       "</thead>\n",
       "<tbody>\n",
       "\t<tr><th scope=row>1</th><td>                            </td><td>Totals for Australia </td></tr>\n",
       "\t<tr><th scope=row>2</th><td>Disease name                </td><td>This reporting period</td></tr>\n",
       "\t<tr><th scope=row>3</th><td>                            </td><td>04/07/2020           </td></tr>\n",
       "\t<tr><th scope=row>4</th><td>                            </td><td>17/07/2020           </td></tr>\n",
       "\t<tr><th scope=row>5</th><td>Hepatitis B (newly acquired)</td><td> 2                   </td></tr>\n",
       "\t<tr><th scope=row>6</th><td>Hepatitis B (unspecified)   </td><td> 194                 </td></tr>\n",
       "</tbody>\n",
       "</table>\n"
      ],
      "text/latex": [
       "A data.frame: 6 × 2\n",
       "\\begin{tabular}{r|ll}\n",
       "  & X & X.9\\\\\n",
       "  & <chr> & <chr>\\\\\n",
       "\\hline\n",
       "\t1 &                              & Totals for Australia \\\\\n",
       "\t2 & Disease name                 & This reporting period\\\\\n",
       "\t3 &                              & 04/07/2020           \\\\\n",
       "\t4 &                              & 17/07/2020           \\\\\n",
       "\t5 & Hepatitis B (newly acquired) &  2                   \\\\\n",
       "\t6 & Hepatitis B (unspecified)    &  194                 \\\\\n",
       "\\end{tabular}\n"
      ],
      "text/markdown": [
       "\n",
       "A data.frame: 6 × 2\n",
       "\n",
       "| <!--/--> | X &lt;chr&gt; | X.9 &lt;chr&gt; |\n",
       "|---|---|---|\n",
       "| 1 | <!----> | Totals for Australia  |\n",
       "| 2 | Disease name                 | This reporting period |\n",
       "| 3 | <!----> | 04/07/2020            |\n",
       "| 4 | <!----> | 17/07/2020            |\n",
       "| 5 | Hepatitis B (newly acquired) |  2                    |\n",
       "| 6 | Hepatitis B (unspecified)    |  194                  |\n",
       "\n"
      ],
      "text/plain": [
       "  X                            X.9                  \n",
       "1                              Totals for Australia \n",
       "2 Disease name                 This reporting period\n",
       "3                              04/07/2020           \n",
       "4                              17/07/2020           \n",
       "5 Hepatitis B (newly acquired)  2                   \n",
       "6 Hepatitis B (unspecified)     194                 "
      ]
     },
     "metadata": {},
     "output_type": "display_data"
    }
   ],
   "source": [
    "df <- df[, -c(1,3:11, 13:23)]\n",
    "head(df)"
   ]
  },
  {
   "cell_type": "code",
   "execution_count": 67,
   "id": "9e1e5f86-ac91-4f91-8de0-4c96690e9a49",
   "metadata": {},
   "outputs": [
    {
     "data": {
      "text/html": [
       "<table class=\"dataframe\">\n",
       "<caption>A data.frame: 1 × 2</caption>\n",
       "<thead>\n",
       "\t<tr><th></th><th scope=col>X</th><th scope=col>X.9</th></tr>\n",
       "\t<tr><th></th><th scope=col>&lt;chr&gt;</th><th scope=col>&lt;chr&gt;</th></tr>\n",
       "</thead>\n",
       "<tbody>\n",
       "\t<tr><th scope=row>40</th><td>Influenza (laboratory confirmed)</td><td> 92 </td></tr>\n",
       "</tbody>\n",
       "</table>\n"
      ],
      "text/latex": [
       "A data.frame: 1 × 2\n",
       "\\begin{tabular}{r|ll}\n",
       "  & X & X.9\\\\\n",
       "  & <chr> & <chr>\\\\\n",
       "\\hline\n",
       "\t40 & Influenza (laboratory confirmed) &  92 \\\\\n",
       "\\end{tabular}\n"
      ],
      "text/markdown": [
       "\n",
       "A data.frame: 1 × 2\n",
       "\n",
       "| <!--/--> | X &lt;chr&gt; | X.9 &lt;chr&gt; |\n",
       "|---|---|---|\n",
       "| 40 | Influenza (laboratory confirmed) |  92  |\n",
       "\n"
      ],
      "text/plain": [
       "   X                                X.9 \n",
       "40 Influenza (laboratory confirmed)  92 "
      ]
     },
     "metadata": {},
     "output_type": "display_data"
    },
    {
     "data": {
      "text/html": [
       "<table class=\"dataframe\">\n",
       "<caption>A data.frame: 1 × 2</caption>\n",
       "<thead>\n",
       "\t<tr><th></th><th scope=col>X</th><th scope=col>X.9</th></tr>\n",
       "\t<tr><th></th><th scope=col>&lt;chr&gt;</th><th scope=col>&lt;chr&gt;</th></tr>\n",
       "</thead>\n",
       "<tbody>\n",
       "\t<tr><th scope=row>23</th><td>COVID-19</td><td>3087</td></tr>\n",
       "</tbody>\n",
       "</table>\n"
      ],
      "text/latex": [
       "A data.frame: 1 × 2\n",
       "\\begin{tabular}{r|ll}\n",
       "  & X & X.9\\\\\n",
       "  & <chr> & <chr>\\\\\n",
       "\\hline\n",
       "\t23 & COVID-19 & 3087\\\\\n",
       "\\end{tabular}\n"
      ],
      "text/markdown": [
       "\n",
       "A data.frame: 1 × 2\n",
       "\n",
       "| <!--/--> | X &lt;chr&gt; | X.9 &lt;chr&gt; |\n",
       "|---|---|---|\n",
       "| 23 | COVID-19 | 3087 |\n",
       "\n"
      ],
      "text/plain": [
       "   X        X.9 \n",
       "23 COVID-19 3087"
      ]
     },
     "metadata": {},
     "output_type": "display_data"
    },
    {
     "data": {
      "text/html": [
       "<table class=\"dataframe\">\n",
       "<caption>A data.frame: 2 × 2</caption>\n",
       "<thead>\n",
       "\t<tr><th></th><th scope=col>X</th><th scope=col>X.9</th></tr>\n",
       "\t<tr><th></th><th scope=col>&lt;chr&gt;</th><th scope=col>&lt;chr&gt;</th></tr>\n",
       "</thead>\n",
       "<tbody>\n",
       "\t<tr><th scope=row>40</th><td>Influenza (laboratory confirmed)</td><td> 92 </td></tr>\n",
       "\t<tr><th scope=row>23</th><td>COVID-19                        </td><td>3087</td></tr>\n",
       "</tbody>\n",
       "</table>\n"
      ],
      "text/latex": [
       "A data.frame: 2 × 2\n",
       "\\begin{tabular}{r|ll}\n",
       "  & X & X.9\\\\\n",
       "  & <chr> & <chr>\\\\\n",
       "\\hline\n",
       "\t40 & Influenza (laboratory confirmed) &  92 \\\\\n",
       "\t23 & COVID-19                         & 3087\\\\\n",
       "\\end{tabular}\n"
      ],
      "text/markdown": [
       "\n",
       "A data.frame: 2 × 2\n",
       "\n",
       "| <!--/--> | X &lt;chr&gt; | X.9 &lt;chr&gt; |\n",
       "|---|---|---|\n",
       "| 40 | Influenza (laboratory confirmed) |  92  |\n",
       "| 23 | COVID-19                         | 3087 |\n",
       "\n"
      ],
      "text/plain": [
       "   X                                X.9 \n",
       "40 Influenza (laboratory confirmed)  92 \n",
       "23 COVID-19                         3087"
      ]
     },
     "metadata": {},
     "output_type": "display_data"
    }
   ],
   "source": [
    "#find the rows that contain the words influenza\n",
    "\n",
    "inf <- df[grep(\"Influenza\", df$X),]\n",
    "head(inf)\n",
    "covid <-  df[grep(\"COVID\", df$X),]\n",
    "covid\n",
    "JUL04_JUL17_2020 <- rbind(inf, covid)\n",
    "JUL04_JUL17_2020"
   ]
  },
  {
   "cell_type": "code",
   "execution_count": 68,
   "id": "5709e7ea-3c78-4bce-acf3-40d3cafda6f5",
   "metadata": {},
   "outputs": [
    {
     "data": {
      "text/html": [
       "<table class=\"dataframe\">\n",
       "<caption>A data.frame: 2 × 2</caption>\n",
       "<thead>\n",
       "\t<tr><th></th><th scope=col>Disease</th><th scope=col>04JUL-17JUL-2020</th></tr>\n",
       "\t<tr><th></th><th scope=col>&lt;chr&gt;</th><th scope=col>&lt;dbl&gt;</th></tr>\n",
       "</thead>\n",
       "<tbody>\n",
       "\t<tr><th scope=row>40</th><td>Influenza (laboratory confirmed)</td><td>  92</td></tr>\n",
       "\t<tr><th scope=row>23</th><td>COVID-19                        </td><td>3087</td></tr>\n",
       "</tbody>\n",
       "</table>\n"
      ],
      "text/latex": [
       "A data.frame: 2 × 2\n",
       "\\begin{tabular}{r|ll}\n",
       "  & Disease & 04JUL-17JUL-2020\\\\\n",
       "  & <chr> & <dbl>\\\\\n",
       "\\hline\n",
       "\t40 & Influenza (laboratory confirmed) &   92\\\\\n",
       "\t23 & COVID-19                         & 3087\\\\\n",
       "\\end{tabular}\n"
      ],
      "text/markdown": [
       "\n",
       "A data.frame: 2 × 2\n",
       "\n",
       "| <!--/--> | Disease &lt;chr&gt; | 04JUL-17JUL-2020 &lt;dbl&gt; |\n",
       "|---|---|---|\n",
       "| 40 | Influenza (laboratory confirmed) |   92 |\n",
       "| 23 | COVID-19                         | 3087 |\n",
       "\n"
      ],
      "text/plain": [
       "   Disease                          04JUL-17JUL-2020\n",
       "40 Influenza (laboratory confirmed)   92            \n",
       "23 COVID-19                         3087            "
      ]
     },
     "metadata": {},
     "output_type": "display_data"
    }
   ],
   "source": [
    "JUL04_JUL17_2020[,2] <- as.numeric(JUL04_JUL17_2020[,2])\n",
    "colnames(JUL04_JUL17_2020) <- c(\"Disease\", \"04JUL-17JUL-2020\")\n",
    "JUL04_JUL17_2020"
   ]
  },
  {
   "cell_type": "code",
   "execution_count": null,
   "id": "932f36f4-1146-4c54-886e-c541cb61d619",
   "metadata": {},
   "outputs": [],
   "source": []
  },
  {
   "cell_type": "code",
   "execution_count": null,
   "id": "6450a0e5-5389-412b-b3e7-63e2c8095644",
   "metadata": {},
   "outputs": [],
   "source": [
    "#Next Dataset from 18JUL"
   ]
  },
  {
   "cell_type": "code",
   "execution_count": 69,
   "id": "e785178c-6920-4cb0-b9fe-2f070860da83",
   "metadata": {},
   "outputs": [
    {
     "data": {
      "text/html": [
       "<table class=\"dataframe\">\n",
       "<caption>A data.frame: 6 × 23</caption>\n",
       "<thead>\n",
       "\t<tr><th></th><th scope=col>ADT.FN15.2020</th><th scope=col>X</th><th scope=col>X.1</th><th scope=col>Notification.received.date</th><th scope=col>X.2</th><th scope=col>X.3</th><th scope=col>X.4</th><th scope=col>X.5</th><th scope=col>X.6</th><th scope=col>X.7</th><th scope=col>⋯</th><th scope=col>X.11</th><th scope=col>X.12</th><th scope=col>X.13</th><th scope=col>X.14</th><th scope=col>X.15</th><th scope=col>X.16</th><th scope=col>X.17</th><th scope=col>X.18</th><th scope=col>X.19</th><th scope=col>X.20</th></tr>\n",
       "\t<tr><th></th><th scope=col>&lt;chr&gt;</th><th scope=col>&lt;chr&gt;</th><th scope=col>&lt;chr&gt;</th><th scope=col>&lt;chr&gt;</th><th scope=col>&lt;chr&gt;</th><th scope=col>&lt;chr&gt;</th><th scope=col>&lt;chr&gt;</th><th scope=col>&lt;chr&gt;</th><th scope=col>&lt;chr&gt;</th><th scope=col>&lt;chr&gt;</th><th scope=col>⋯</th><th scope=col>&lt;chr&gt;</th><th scope=col>&lt;chr&gt;</th><th scope=col>&lt;chr&gt;</th><th scope=col>&lt;chr&gt;</th><th scope=col>&lt;chr&gt;</th><th scope=col>&lt;chr&gt;</th><th scope=col>&lt;chr&gt;</th><th scope=col>&lt;chr&gt;</th><th scope=col>&lt;chr&gt;</th><th scope=col>&lt;chr&gt;</th></tr>\n",
       "</thead>\n",
       "<tbody>\n",
       "\t<tr><th scope=row>1</th><td>                   </td><td>                            </td><td>            </td><td>State or Territory</td><td>     </td><td>     </td><td>    </td><td>     </td><td>     </td><td>     </td><td>⋯</td><td>                               </td><td>                 </td><td>Historical 90 Day Period</td><td>                               </td><td>                               </td><td>                                       </td><td>Historical Yearly Period</td><td>                            </td><td>                             </td><td>                                    </td></tr>\n",
       "\t<tr><th scope=row>2</th><td>Disease group      </td><td>Disease name                </td><td>Disease code</td><td>ACT               </td><td>NSW  </td><td>NT   </td><td>Qld </td><td>SA   </td><td>Tas  </td><td>Vic  </td><td>⋯</td><td>Same reporting period last year</td><td>Current year\n",
       "YTD</td><td>Past Quarter            </td><td>Quarterly rolling \n",
       "5 year mean</td><td>Ratio past quarter/5 year mean*</td><td>Exceeds quarterly rolling mean +2 SD by</td><td>Past Year               </td><td>Yearly rolling \n",
       "5 year mean</td><td>Ratio past  year/5 year mean*</td><td>Exceeds yearly rolling mean +2 SD by</td></tr>\n",
       "\t<tr><th scope=row>3</th><td>                   </td><td>                            </td><td>            </td><td>                  </td><td>     </td><td>     </td><td>    </td><td>     </td><td>     </td><td>     </td><td>⋯</td><td>18/07/2019                     </td><td>01/01/2020       </td><td>03/05/2020              </td><td>                               </td><td>                               </td><td>                                       </td><td>01/08/2019              </td><td>01/08/2014                  </td><td>                             </td><td>                                    </td></tr>\n",
       "\t<tr><th scope=row>4</th><td>                   </td><td>                            </td><td>            </td><td>                  </td><td>     </td><td>     </td><td>    </td><td>     </td><td>     </td><td>     </td><td>⋯</td><td>31/07/2019                     </td><td>31/07/2020       </td><td>31/07/2020              </td><td>                               </td><td>                               </td><td>                                       </td><td>31/07/2020              </td><td>31/07/2019                  </td><td>                             </td><td>                                    </td></tr>\n",
       "\t<tr><th scope=row>5</th><td>Bloodborne diseases</td><td>Hepatitis B (newly acquired)</td><td>039         </td><td> -                </td><td> -   </td><td> -   </td><td> 3  </td><td> -   </td><td> -   </td><td> -   </td><td>⋯</td><td> 8                             </td><td> 71              </td><td> 28                     </td><td> 37.8                          </td><td> 0.7                           </td><td> -                                     </td><td> 135                    </td><td> 154.2                      </td><td> 0.9                         </td><td> -                                  </td></tr>\n",
       "\t<tr><th scope=row>6</th><td>                   </td><td>Hepatitis B (unspecified)   </td><td>052         </td><td> 2                </td><td> 76  </td><td> -   </td><td> 35 </td><td> 3   </td><td> 3   </td><td> 30  </td><td>⋯</td><td> 205                           </td><td> 2,999           </td><td> 1,300                  </td><td> 1,529.0                       </td><td> 0.9                           </td><td> -                                     </td><td> 5,279                  </td><td> 6,081.0                    </td><td> 0.9                         </td><td> -                                  </td></tr>\n",
       "</tbody>\n",
       "</table>\n"
      ],
      "text/latex": [
       "A data.frame: 6 × 23\n",
       "\\begin{tabular}{r|lllllllllllllllllllll}\n",
       "  & ADT.FN15.2020 & X & X.1 & Notification.received.date & X.2 & X.3 & X.4 & X.5 & X.6 & X.7 & ⋯ & X.11 & X.12 & X.13 & X.14 & X.15 & X.16 & X.17 & X.18 & X.19 & X.20\\\\\n",
       "  & <chr> & <chr> & <chr> & <chr> & <chr> & <chr> & <chr> & <chr> & <chr> & <chr> & ⋯ & <chr> & <chr> & <chr> & <chr> & <chr> & <chr> & <chr> & <chr> & <chr> & <chr>\\\\\n",
       "\\hline\n",
       "\t1 &                     &                              &              & State or Territory &       &       &      &       &       &       & ⋯ &                                 &                   & Historical 90 Day Period &                                 &                                 &                                         & Historical Yearly Period &                              &                               &                                     \\\\\n",
       "\t2 & Disease group       & Disease name                 & Disease code & ACT                & NSW   & NT    & Qld  & SA    & Tas   & Vic   & ⋯ & Same reporting period last year & Current year\n",
       "YTD & Past Quarter             & Quarterly rolling \n",
       "5 year mean & Ratio past quarter/5 year mean* & Exceeds quarterly rolling mean +2 SD by & Past Year                & Yearly rolling \n",
       "5 year mean & Ratio past  year/5 year mean* & Exceeds yearly rolling mean +2 SD by\\\\\n",
       "\t3 &                     &                              &              &                    &       &       &      &       &       &       & ⋯ & 18/07/2019                      & 01/01/2020        & 03/05/2020               &                                 &                                 &                                         & 01/08/2019               & 01/08/2014                   &                               &                                     \\\\\n",
       "\t4 &                     &                              &              &                    &       &       &      &       &       &       & ⋯ & 31/07/2019                      & 31/07/2020        & 31/07/2020               &                                 &                                 &                                         & 31/07/2020               & 31/07/2019                   &                               &                                     \\\\\n",
       "\t5 & Bloodborne diseases & Hepatitis B (newly acquired) & 039          &  -                 &  -    &  -    &  3   &  -    &  -    &  -    & ⋯ &  8                              &  71               &  28                      &  37.8                           &  0.7                            &  -                                      &  135                     &  154.2                       &  0.9                          &  -                                  \\\\\n",
       "\t6 &                     & Hepatitis B (unspecified)    & 052          &  2                 &  76   &  -    &  35  &  3    &  3    &  30   & ⋯ &  205                            &  2,999            &  1,300                   &  1,529.0                        &  0.9                            &  -                                      &  5,279                   &  6,081.0                     &  0.9                          &  -                                  \\\\\n",
       "\\end{tabular}\n"
      ],
      "text/markdown": [
       "\n",
       "A data.frame: 6 × 23\n",
       "\n",
       "| <!--/--> | ADT.FN15.2020 &lt;chr&gt; | X &lt;chr&gt; | X.1 &lt;chr&gt; | Notification.received.date &lt;chr&gt; | X.2 &lt;chr&gt; | X.3 &lt;chr&gt; | X.4 &lt;chr&gt; | X.5 &lt;chr&gt; | X.6 &lt;chr&gt; | X.7 &lt;chr&gt; | ⋯ ⋯ | X.11 &lt;chr&gt; | X.12 &lt;chr&gt; | X.13 &lt;chr&gt; | X.14 &lt;chr&gt; | X.15 &lt;chr&gt; | X.16 &lt;chr&gt; | X.17 &lt;chr&gt; | X.18 &lt;chr&gt; | X.19 &lt;chr&gt; | X.20 &lt;chr&gt; |\n",
       "|---|---|---|---|---|---|---|---|---|---|---|---|---|---|---|---|---|---|---|---|---|---|\n",
       "| 1 | <!----> | <!----> | <!----> | State or Territory | <!----> | <!----> | <!----> | <!----> | <!----> | <!----> | ⋯ | <!----> | <!----> | Historical 90 Day Period | <!----> | <!----> | <!----> | Historical Yearly Period | <!----> | <!----> | <!----> |\n",
       "| 2 | Disease group       | Disease name                 | Disease code | ACT                | NSW   | NT    | Qld  | SA    | Tas   | Vic   | ⋯ | Same reporting period last year | Current year\n",
       "YTD | Past Quarter             | Quarterly rolling \n",
       "5 year mean | Ratio past quarter/5 year mean* | Exceeds quarterly rolling mean +2 SD by | Past Year                | Yearly rolling \n",
       "5 year mean | Ratio past  year/5 year mean* | Exceeds yearly rolling mean +2 SD by |\n",
       "| 3 | <!----> | <!----> | <!----> | <!----> | <!----> | <!----> | <!----> | <!----> | <!----> | <!----> | ⋯ | 18/07/2019                      | 01/01/2020        | 03/05/2020               | <!----> | <!----> | <!----> | 01/08/2019               | 01/08/2014                   | <!----> | <!----> |\n",
       "| 4 | <!----> | <!----> | <!----> | <!----> | <!----> | <!----> | <!----> | <!----> | <!----> | <!----> | ⋯ | 31/07/2019                      | 31/07/2020        | 31/07/2020               | <!----> | <!----> | <!----> | 31/07/2020               | 31/07/2019                   | <!----> | <!----> |\n",
       "| 5 | Bloodborne diseases | Hepatitis B (newly acquired) | 039          |  -                 |  -    |  -    |  3   |  -    |  -    |  -    | ⋯ |  8                              |  71               |  28                      |  37.8                           |  0.7                            |  -                                      |  135                     |  154.2                       |  0.9                          |  -                                   |\n",
       "| 6 | <!----> | Hepatitis B (unspecified)    | 052          |  2                 |  76   |  -    |  35  |  3    |  3    |  30   | ⋯ |  205                            |  2,999            |  1,300                   |  1,529.0                        |  0.9                            |  -                                      |  5,279                   |  6,081.0                     |  0.9                          |  -                                   |\n",
       "\n"
      ],
      "text/plain": [
       "  ADT.FN15.2020       X                            X.1         \n",
       "1                                                              \n",
       "2 Disease group       Disease name                 Disease code\n",
       "3                                                              \n",
       "4                                                              \n",
       "5 Bloodborne diseases Hepatitis B (newly acquired) 039         \n",
       "6                     Hepatitis B (unspecified)    052         \n",
       "  Notification.received.date X.2   X.3   X.4  X.5   X.6   X.7   ⋯\n",
       "1 State or Territory                                            ⋯\n",
       "2 ACT                        NSW   NT    Qld  SA    Tas   Vic   ⋯\n",
       "3                                                               ⋯\n",
       "4                                                               ⋯\n",
       "5  -                          -     -     3    -     -     -    ⋯\n",
       "6  2                          76    -     35   3     3     30   ⋯\n",
       "  X.11                            X.12              X.13                    \n",
       "1                                                   Historical 90 Day Period\n",
       "2 Same reporting period last year Current year\\nYTD Past Quarter            \n",
       "3 18/07/2019                      01/01/2020        03/05/2020              \n",
       "4 31/07/2019                      31/07/2020        31/07/2020              \n",
       "5  8                               71                28                     \n",
       "6  205                             2,999             1,300                  \n",
       "  X.14                            X.15                           \n",
       "1                                                                \n",
       "2 Quarterly rolling \\n5 year mean Ratio past quarter/5 year mean*\n",
       "3                                                                \n",
       "4                                                                \n",
       "5  37.8                            0.7                           \n",
       "6  1,529.0                         0.9                           \n",
       "  X.16                                    X.17                    \n",
       "1                                         Historical Yearly Period\n",
       "2 Exceeds quarterly rolling mean +2 SD by Past Year               \n",
       "3                                         01/08/2019              \n",
       "4                                         31/07/2020              \n",
       "5  -                                       135                    \n",
       "6  -                                       5,279                  \n",
       "  X.18                         X.19                         \n",
       "1                                                           \n",
       "2 Yearly rolling \\n5 year mean Ratio past  year/5 year mean*\n",
       "3 01/08/2014                                                \n",
       "4 31/07/2019                                                \n",
       "5  154.2                        0.9                         \n",
       "6  6,081.0                      0.9                         \n",
       "  X.20                                \n",
       "1                                     \n",
       "2 Exceeds yearly rolling mean +2 SD by\n",
       "3                                     \n",
       "4                                     \n",
       "5  -                                  \n",
       "6  -                                  "
      ]
     },
     "metadata": {},
     "output_type": "display_data"
    }
   ],
   "source": [
    "df = read.csv(\"18-to-31-july-2020-table.csv\", header=TRUE, stringsAsFactors=FALSE)\n",
    "head(df)"
   ]
  },
  {
   "cell_type": "code",
   "execution_count": 70,
   "id": "ddf7dc7f-b7a6-4591-8151-b90219f25e6b",
   "metadata": {},
   "outputs": [
    {
     "data": {
      "text/html": [
       "<table class=\"dataframe\">\n",
       "<caption>A data.frame: 6 × 2</caption>\n",
       "<thead>\n",
       "\t<tr><th></th><th scope=col>X</th><th scope=col>X.9</th></tr>\n",
       "\t<tr><th></th><th scope=col>&lt;chr&gt;</th><th scope=col>&lt;chr&gt;</th></tr>\n",
       "</thead>\n",
       "<tbody>\n",
       "\t<tr><th scope=row>1</th><td>                            </td><td>Totals for Australia </td></tr>\n",
       "\t<tr><th scope=row>2</th><td>Disease name                </td><td>This reporting period</td></tr>\n",
       "\t<tr><th scope=row>3</th><td>                            </td><td>18/07/2020           </td></tr>\n",
       "\t<tr><th scope=row>4</th><td>                            </td><td>31/07/2020           </td></tr>\n",
       "\t<tr><th scope=row>5</th><td>Hepatitis B (newly acquired)</td><td> 3                   </td></tr>\n",
       "\t<tr><th scope=row>6</th><td>Hepatitis B (unspecified)   </td><td> 177                 </td></tr>\n",
       "</tbody>\n",
       "</table>\n"
      ],
      "text/latex": [
       "A data.frame: 6 × 2\n",
       "\\begin{tabular}{r|ll}\n",
       "  & X & X.9\\\\\n",
       "  & <chr> & <chr>\\\\\n",
       "\\hline\n",
       "\t1 &                              & Totals for Australia \\\\\n",
       "\t2 & Disease name                 & This reporting period\\\\\n",
       "\t3 &                              & 18/07/2020           \\\\\n",
       "\t4 &                              & 31/07/2020           \\\\\n",
       "\t5 & Hepatitis B (newly acquired) &  3                   \\\\\n",
       "\t6 & Hepatitis B (unspecified)    &  177                 \\\\\n",
       "\\end{tabular}\n"
      ],
      "text/markdown": [
       "\n",
       "A data.frame: 6 × 2\n",
       "\n",
       "| <!--/--> | X &lt;chr&gt; | X.9 &lt;chr&gt; |\n",
       "|---|---|---|\n",
       "| 1 | <!----> | Totals for Australia  |\n",
       "| 2 | Disease name                 | This reporting period |\n",
       "| 3 | <!----> | 18/07/2020            |\n",
       "| 4 | <!----> | 31/07/2020            |\n",
       "| 5 | Hepatitis B (newly acquired) |  3                    |\n",
       "| 6 | Hepatitis B (unspecified)    |  177                  |\n",
       "\n"
      ],
      "text/plain": [
       "  X                            X.9                  \n",
       "1                              Totals for Australia \n",
       "2 Disease name                 This reporting period\n",
       "3                              18/07/2020           \n",
       "4                              31/07/2020           \n",
       "5 Hepatitis B (newly acquired)  3                   \n",
       "6 Hepatitis B (unspecified)     177                 "
      ]
     },
     "metadata": {},
     "output_type": "display_data"
    }
   ],
   "source": [
    "df <- df[, -c(1,3:11, 13:23)]\n",
    "head(df)"
   ]
  },
  {
   "cell_type": "code",
   "execution_count": 71,
   "id": "50af78d8-6226-4885-93aa-0fe9bc2ff7e1",
   "metadata": {},
   "outputs": [
    {
     "data": {
      "text/html": [
       "<table class=\"dataframe\">\n",
       "<caption>A data.frame: 1 × 2</caption>\n",
       "<thead>\n",
       "\t<tr><th></th><th scope=col>X</th><th scope=col>X.9</th></tr>\n",
       "\t<tr><th></th><th scope=col>&lt;chr&gt;</th><th scope=col>&lt;chr&gt;</th></tr>\n",
       "</thead>\n",
       "<tbody>\n",
       "\t<tr><th scope=row>40</th><td>Influenza (laboratory confirmed)</td><td> 75 </td></tr>\n",
       "</tbody>\n",
       "</table>\n"
      ],
      "text/latex": [
       "A data.frame: 1 × 2\n",
       "\\begin{tabular}{r|ll}\n",
       "  & X & X.9\\\\\n",
       "  & <chr> & <chr>\\\\\n",
       "\\hline\n",
       "\t40 & Influenza (laboratory confirmed) &  75 \\\\\n",
       "\\end{tabular}\n"
      ],
      "text/markdown": [
       "\n",
       "A data.frame: 1 × 2\n",
       "\n",
       "| <!--/--> | X &lt;chr&gt; | X.9 &lt;chr&gt; |\n",
       "|---|---|---|\n",
       "| 40 | Influenza (laboratory confirmed) |  75  |\n",
       "\n"
      ],
      "text/plain": [
       "   X                                X.9 \n",
       "40 Influenza (laboratory confirmed)  75 "
      ]
     },
     "metadata": {},
     "output_type": "display_data"
    },
    {
     "data": {
      "text/html": [
       "<table class=\"dataframe\">\n",
       "<caption>A data.frame: 1 × 2</caption>\n",
       "<thead>\n",
       "\t<tr><th></th><th scope=col>X</th><th scope=col>X.9</th></tr>\n",
       "\t<tr><th></th><th scope=col>&lt;chr&gt;</th><th scope=col>&lt;chr&gt;</th></tr>\n",
       "</thead>\n",
       "<tbody>\n",
       "\t<tr><th scope=row>23</th><td>COVID-19</td><td>4793</td></tr>\n",
       "</tbody>\n",
       "</table>\n"
      ],
      "text/latex": [
       "A data.frame: 1 × 2\n",
       "\\begin{tabular}{r|ll}\n",
       "  & X & X.9\\\\\n",
       "  & <chr> & <chr>\\\\\n",
       "\\hline\n",
       "\t23 & COVID-19 & 4793\\\\\n",
       "\\end{tabular}\n"
      ],
      "text/markdown": [
       "\n",
       "A data.frame: 1 × 2\n",
       "\n",
       "| <!--/--> | X &lt;chr&gt; | X.9 &lt;chr&gt; |\n",
       "|---|---|---|\n",
       "| 23 | COVID-19 | 4793 |\n",
       "\n"
      ],
      "text/plain": [
       "   X        X.9 \n",
       "23 COVID-19 4793"
      ]
     },
     "metadata": {},
     "output_type": "display_data"
    },
    {
     "data": {
      "text/html": [
       "<table class=\"dataframe\">\n",
       "<caption>A data.frame: 2 × 2</caption>\n",
       "<thead>\n",
       "\t<tr><th></th><th scope=col>X</th><th scope=col>X.9</th></tr>\n",
       "\t<tr><th></th><th scope=col>&lt;chr&gt;</th><th scope=col>&lt;chr&gt;</th></tr>\n",
       "</thead>\n",
       "<tbody>\n",
       "\t<tr><th scope=row>40</th><td>Influenza (laboratory confirmed)</td><td> 75 </td></tr>\n",
       "\t<tr><th scope=row>23</th><td>COVID-19                        </td><td>4793</td></tr>\n",
       "</tbody>\n",
       "</table>\n"
      ],
      "text/latex": [
       "A data.frame: 2 × 2\n",
       "\\begin{tabular}{r|ll}\n",
       "  & X & X.9\\\\\n",
       "  & <chr> & <chr>\\\\\n",
       "\\hline\n",
       "\t40 & Influenza (laboratory confirmed) &  75 \\\\\n",
       "\t23 & COVID-19                         & 4793\\\\\n",
       "\\end{tabular}\n"
      ],
      "text/markdown": [
       "\n",
       "A data.frame: 2 × 2\n",
       "\n",
       "| <!--/--> | X &lt;chr&gt; | X.9 &lt;chr&gt; |\n",
       "|---|---|---|\n",
       "| 40 | Influenza (laboratory confirmed) |  75  |\n",
       "| 23 | COVID-19                         | 4793 |\n",
       "\n"
      ],
      "text/plain": [
       "   X                                X.9 \n",
       "40 Influenza (laboratory confirmed)  75 \n",
       "23 COVID-19                         4793"
      ]
     },
     "metadata": {},
     "output_type": "display_data"
    }
   ],
   "source": [
    "#find the rows that contain the words influenza\n",
    "\n",
    "inf <- df[grep(\"Influenza\", df$X),]\n",
    "head(inf)\n",
    "covid <-  df[grep(\"COVID\", df$X),]\n",
    "covid\n",
    "JUL18_JUL31_2020 <- rbind(inf, covid)\n",
    "JUL18_JUL31_2020"
   ]
  },
  {
   "cell_type": "code",
   "execution_count": 72,
   "id": "3fdf539b-6e21-4695-92d1-709523c60a86",
   "metadata": {},
   "outputs": [
    {
     "data": {
      "text/html": [
       "<table class=\"dataframe\">\n",
       "<caption>A data.frame: 2 × 2</caption>\n",
       "<thead>\n",
       "\t<tr><th></th><th scope=col>Disease</th><th scope=col>18JUL-31JUL-2020</th></tr>\n",
       "\t<tr><th></th><th scope=col>&lt;chr&gt;</th><th scope=col>&lt;dbl&gt;</th></tr>\n",
       "</thead>\n",
       "<tbody>\n",
       "\t<tr><th scope=row>40</th><td>Influenza (laboratory confirmed)</td><td>  75</td></tr>\n",
       "\t<tr><th scope=row>23</th><td>COVID-19                        </td><td>4793</td></tr>\n",
       "</tbody>\n",
       "</table>\n"
      ],
      "text/latex": [
       "A data.frame: 2 × 2\n",
       "\\begin{tabular}{r|ll}\n",
       "  & Disease & 18JUL-31JUL-2020\\\\\n",
       "  & <chr> & <dbl>\\\\\n",
       "\\hline\n",
       "\t40 & Influenza (laboratory confirmed) &   75\\\\\n",
       "\t23 & COVID-19                         & 4793\\\\\n",
       "\\end{tabular}\n"
      ],
      "text/markdown": [
       "\n",
       "A data.frame: 2 × 2\n",
       "\n",
       "| <!--/--> | Disease &lt;chr&gt; | 18JUL-31JUL-2020 &lt;dbl&gt; |\n",
       "|---|---|---|\n",
       "| 40 | Influenza (laboratory confirmed) |   75 |\n",
       "| 23 | COVID-19                         | 4793 |\n",
       "\n"
      ],
      "text/plain": [
       "   Disease                          18JUL-31JUL-2020\n",
       "40 Influenza (laboratory confirmed)   75            \n",
       "23 COVID-19                         4793            "
      ]
     },
     "metadata": {},
     "output_type": "display_data"
    }
   ],
   "source": [
    "JUL18_JUL31_2020[,2] <- as.numeric(JUL18_JUL31_2020[,2])\n",
    "colnames(JUL18_JUL31_2020) <- c(\"Disease\", \"18JUL-31JUL-2020\")\n",
    "JUL18_JUL31_2020"
   ]
  },
  {
   "cell_type": "code",
   "execution_count": null,
   "id": "3be06402-45d5-4003-b74c-9980d7590412",
   "metadata": {},
   "outputs": [],
   "source": []
  },
  {
   "cell_type": "code",
   "execution_count": null,
   "id": "4f1f9a27-2ee4-4f2f-8a63-4049c2be5f15",
   "metadata": {},
   "outputs": [],
   "source": [
    "#Next dataset 1-to-14-august-2020-table"
   ]
  },
  {
   "cell_type": "code",
   "execution_count": 73,
   "id": "7f269400-a970-45bd-abe3-b0cdd1dffa2b",
   "metadata": {},
   "outputs": [
    {
     "data": {
      "text/html": [
       "<table class=\"dataframe\">\n",
       "<caption>A data.frame: 6 × 23</caption>\n",
       "<thead>\n",
       "\t<tr><th></th><th scope=col>ADT.FN16.2020</th><th scope=col>X</th><th scope=col>X.1</th><th scope=col>Notification.received.date</th><th scope=col>X.2</th><th scope=col>X.3</th><th scope=col>X.4</th><th scope=col>X.5</th><th scope=col>X.6</th><th scope=col>X.7</th><th scope=col>⋯</th><th scope=col>X.11</th><th scope=col>X.12</th><th scope=col>X.13</th><th scope=col>X.14</th><th scope=col>X.15</th><th scope=col>X.16</th><th scope=col>X.17</th><th scope=col>X.18</th><th scope=col>X.19</th><th scope=col>X.20</th></tr>\n",
       "\t<tr><th></th><th scope=col>&lt;chr&gt;</th><th scope=col>&lt;chr&gt;</th><th scope=col>&lt;chr&gt;</th><th scope=col>&lt;chr&gt;</th><th scope=col>&lt;chr&gt;</th><th scope=col>&lt;chr&gt;</th><th scope=col>&lt;chr&gt;</th><th scope=col>&lt;chr&gt;</th><th scope=col>&lt;chr&gt;</th><th scope=col>&lt;chr&gt;</th><th scope=col>⋯</th><th scope=col>&lt;chr&gt;</th><th scope=col>&lt;chr&gt;</th><th scope=col>&lt;chr&gt;</th><th scope=col>&lt;chr&gt;</th><th scope=col>&lt;chr&gt;</th><th scope=col>&lt;chr&gt;</th><th scope=col>&lt;chr&gt;</th><th scope=col>&lt;chr&gt;</th><th scope=col>&lt;chr&gt;</th><th scope=col>&lt;chr&gt;</th></tr>\n",
       "</thead>\n",
       "<tbody>\n",
       "\t<tr><th scope=row>1</th><td>                   </td><td>                            </td><td>            </td><td>State or Territory</td><td>     </td><td>     </td><td>     </td><td>   </td><td>     </td><td>     </td><td>⋯</td><td>                               </td><td>                 </td><td>Historical 90 Day Period</td><td>                               </td><td>                               </td><td>                                       </td><td>Historical Yearly Period</td><td>                            </td><td>                             </td><td>                                    </td></tr>\n",
       "\t<tr><th scope=row>2</th><td>Disease group      </td><td>Disease name                </td><td>Disease code</td><td>ACT               </td><td>NSW  </td><td>NT   </td><td>Qld  </td><td>SA </td><td>Tas# </td><td>Vic  </td><td>⋯</td><td>Same reporting period last year</td><td>Current year\n",
       "YTD</td><td>Past Quarter            </td><td>Quarterly rolling \n",
       "5 year mean</td><td>Ratio past quarter/5 year mean*</td><td>Exceeds quarterly rolling mean +2 SD by</td><td>Past Year               </td><td>Yearly rolling \n",
       "5 year mean</td><td>Ratio past  year/5 year mean*</td><td>Exceeds yearly rolling mean +2 SD by</td></tr>\n",
       "\t<tr><th scope=row>3</th><td>                   </td><td>                            </td><td>            </td><td>                  </td><td>     </td><td>     </td><td>     </td><td>   </td><td>     </td><td>     </td><td>⋯</td><td>01/08/2019                     </td><td>01/01/2020       </td><td>17/05/2020              </td><td>                               </td><td>                               </td><td>                                       </td><td>15/08/2019              </td><td>15/08/2014                  </td><td>                             </td><td>                                    </td></tr>\n",
       "\t<tr><th scope=row>4</th><td>                   </td><td>                            </td><td>            </td><td>                  </td><td>     </td><td>     </td><td>     </td><td>   </td><td>     </td><td>     </td><td>⋯</td><td>14/08/2019                     </td><td>14/08/2020       </td><td>14/08/2020              </td><td>                               </td><td>                               </td><td>                                       </td><td>14/08/2020              </td><td>14/08/2019                  </td><td>                             </td><td>                                    </td></tr>\n",
       "\t<tr><th scope=row>5</th><td>Bloodborne diseases</td><td>Hepatitis B (newly acquired)</td><td>039         </td><td> -                </td><td> -   </td><td> -   </td><td> -   </td><td> 1 </td><td> -   </td><td> -   </td><td>⋯</td><td> 8                             </td><td> 73              </td><td> 22                     </td><td> 40.2                          </td><td> 0.5                           </td><td> -                                     </td><td> 129                    </td><td> 154.6                      </td><td> 0.8                         </td><td> -                                  </td></tr>\n",
       "\t<tr><th scope=row>6</th><td>                   </td><td>Hepatitis B (unspecified)   </td><td>052         </td><td> 2                </td><td> 88  </td><td> -   </td><td> 27  </td><td> 1 </td><td> 1   </td><td> 37  </td><td>⋯</td><td> 220                           </td><td> 3,175           </td><td> 1,304                  </td><td> 1,504.4                       </td><td> 0.9                           </td><td> -                                     </td><td> 5,235                  </td><td> 6,073.4                    </td><td> 0.9                         </td><td> -                                  </td></tr>\n",
       "</tbody>\n",
       "</table>\n"
      ],
      "text/latex": [
       "A data.frame: 6 × 23\n",
       "\\begin{tabular}{r|lllllllllllllllllllll}\n",
       "  & ADT.FN16.2020 & X & X.1 & Notification.received.date & X.2 & X.3 & X.4 & X.5 & X.6 & X.7 & ⋯ & X.11 & X.12 & X.13 & X.14 & X.15 & X.16 & X.17 & X.18 & X.19 & X.20\\\\\n",
       "  & <chr> & <chr> & <chr> & <chr> & <chr> & <chr> & <chr> & <chr> & <chr> & <chr> & ⋯ & <chr> & <chr> & <chr> & <chr> & <chr> & <chr> & <chr> & <chr> & <chr> & <chr>\\\\\n",
       "\\hline\n",
       "\t1 &                     &                              &              & State or Territory &       &       &       &     &       &       & ⋯ &                                 &                   & Historical 90 Day Period &                                 &                                 &                                         & Historical Yearly Period &                              &                               &                                     \\\\\n",
       "\t2 & Disease group       & Disease name                 & Disease code & ACT                & NSW   & NT    & Qld   & SA  & Tas\\#  & Vic   & ⋯ & Same reporting period last year & Current year\n",
       "YTD & Past Quarter             & Quarterly rolling \n",
       "5 year mean & Ratio past quarter/5 year mean* & Exceeds quarterly rolling mean +2 SD by & Past Year                & Yearly rolling \n",
       "5 year mean & Ratio past  year/5 year mean* & Exceeds yearly rolling mean +2 SD by\\\\\n",
       "\t3 &                     &                              &              &                    &       &       &       &     &       &       & ⋯ & 01/08/2019                      & 01/01/2020        & 17/05/2020               &                                 &                                 &                                         & 15/08/2019               & 15/08/2014                   &                               &                                     \\\\\n",
       "\t4 &                     &                              &              &                    &       &       &       &     &       &       & ⋯ & 14/08/2019                      & 14/08/2020        & 14/08/2020               &                                 &                                 &                                         & 14/08/2020               & 14/08/2019                   &                               &                                     \\\\\n",
       "\t5 & Bloodborne diseases & Hepatitis B (newly acquired) & 039          &  -                 &  -    &  -    &  -    &  1  &  -    &  -    & ⋯ &  8                              &  73               &  22                      &  40.2                           &  0.5                            &  -                                      &  129                     &  154.6                       &  0.8                          &  -                                  \\\\\n",
       "\t6 &                     & Hepatitis B (unspecified)    & 052          &  2                 &  88   &  -    &  27   &  1  &  1    &  37   & ⋯ &  220                            &  3,175            &  1,304                   &  1,504.4                        &  0.9                            &  -                                      &  5,235                   &  6,073.4                     &  0.9                          &  -                                  \\\\\n",
       "\\end{tabular}\n"
      ],
      "text/markdown": [
       "\n",
       "A data.frame: 6 × 23\n",
       "\n",
       "| <!--/--> | ADT.FN16.2020 &lt;chr&gt; | X &lt;chr&gt; | X.1 &lt;chr&gt; | Notification.received.date &lt;chr&gt; | X.2 &lt;chr&gt; | X.3 &lt;chr&gt; | X.4 &lt;chr&gt; | X.5 &lt;chr&gt; | X.6 &lt;chr&gt; | X.7 &lt;chr&gt; | ⋯ ⋯ | X.11 &lt;chr&gt; | X.12 &lt;chr&gt; | X.13 &lt;chr&gt; | X.14 &lt;chr&gt; | X.15 &lt;chr&gt; | X.16 &lt;chr&gt; | X.17 &lt;chr&gt; | X.18 &lt;chr&gt; | X.19 &lt;chr&gt; | X.20 &lt;chr&gt; |\n",
       "|---|---|---|---|---|---|---|---|---|---|---|---|---|---|---|---|---|---|---|---|---|---|\n",
       "| 1 | <!----> | <!----> | <!----> | State or Territory | <!----> | <!----> | <!----> | <!----> | <!----> | <!----> | ⋯ | <!----> | <!----> | Historical 90 Day Period | <!----> | <!----> | <!----> | Historical Yearly Period | <!----> | <!----> | <!----> |\n",
       "| 2 | Disease group       | Disease name                 | Disease code | ACT                | NSW   | NT    | Qld   | SA  | Tas#  | Vic   | ⋯ | Same reporting period last year | Current year\n",
       "YTD | Past Quarter             | Quarterly rolling \n",
       "5 year mean | Ratio past quarter/5 year mean* | Exceeds quarterly rolling mean +2 SD by | Past Year                | Yearly rolling \n",
       "5 year mean | Ratio past  year/5 year mean* | Exceeds yearly rolling mean +2 SD by |\n",
       "| 3 | <!----> | <!----> | <!----> | <!----> | <!----> | <!----> | <!----> | <!----> | <!----> | <!----> | ⋯ | 01/08/2019                      | 01/01/2020        | 17/05/2020               | <!----> | <!----> | <!----> | 15/08/2019               | 15/08/2014                   | <!----> | <!----> |\n",
       "| 4 | <!----> | <!----> | <!----> | <!----> | <!----> | <!----> | <!----> | <!----> | <!----> | <!----> | ⋯ | 14/08/2019                      | 14/08/2020        | 14/08/2020               | <!----> | <!----> | <!----> | 14/08/2020               | 14/08/2019                   | <!----> | <!----> |\n",
       "| 5 | Bloodborne diseases | Hepatitis B (newly acquired) | 039          |  -                 |  -    |  -    |  -    |  1  |  -    |  -    | ⋯ |  8                              |  73               |  22                      |  40.2                           |  0.5                            |  -                                      |  129                     |  154.6                       |  0.8                          |  -                                   |\n",
       "| 6 | <!----> | Hepatitis B (unspecified)    | 052          |  2                 |  88   |  -    |  27   |  1  |  1    |  37   | ⋯ |  220                            |  3,175            |  1,304                   |  1,504.4                        |  0.9                            |  -                                      |  5,235                   |  6,073.4                     |  0.9                          |  -                                   |\n",
       "\n"
      ],
      "text/plain": [
       "  ADT.FN16.2020       X                            X.1         \n",
       "1                                                              \n",
       "2 Disease group       Disease name                 Disease code\n",
       "3                                                              \n",
       "4                                                              \n",
       "5 Bloodborne diseases Hepatitis B (newly acquired) 039         \n",
       "6                     Hepatitis B (unspecified)    052         \n",
       "  Notification.received.date X.2   X.3   X.4   X.5 X.6   X.7   ⋯\n",
       "1 State or Territory                                           ⋯\n",
       "2 ACT                        NSW   NT    Qld   SA  Tas#  Vic   ⋯\n",
       "3                                                              ⋯\n",
       "4                                                              ⋯\n",
       "5  -                          -     -     -     1   -     -    ⋯\n",
       "6  2                          88    -     27    1   1     37   ⋯\n",
       "  X.11                            X.12              X.13                    \n",
       "1                                                   Historical 90 Day Period\n",
       "2 Same reporting period last year Current year\\nYTD Past Quarter            \n",
       "3 01/08/2019                      01/01/2020        17/05/2020              \n",
       "4 14/08/2019                      14/08/2020        14/08/2020              \n",
       "5  8                               73                22                     \n",
       "6  220                             3,175             1,304                  \n",
       "  X.14                            X.15                           \n",
       "1                                                                \n",
       "2 Quarterly rolling \\n5 year mean Ratio past quarter/5 year mean*\n",
       "3                                                                \n",
       "4                                                                \n",
       "5  40.2                            0.5                           \n",
       "6  1,504.4                         0.9                           \n",
       "  X.16                                    X.17                    \n",
       "1                                         Historical Yearly Period\n",
       "2 Exceeds quarterly rolling mean +2 SD by Past Year               \n",
       "3                                         15/08/2019              \n",
       "4                                         14/08/2020              \n",
       "5  -                                       129                    \n",
       "6  -                                       5,235                  \n",
       "  X.18                         X.19                         \n",
       "1                                                           \n",
       "2 Yearly rolling \\n5 year mean Ratio past  year/5 year mean*\n",
       "3 15/08/2014                                                \n",
       "4 14/08/2019                                                \n",
       "5  154.6                        0.8                         \n",
       "6  6,073.4                      0.9                         \n",
       "  X.20                                \n",
       "1                                     \n",
       "2 Exceeds yearly rolling mean +2 SD by\n",
       "3                                     \n",
       "4                                     \n",
       "5  -                                  \n",
       "6  -                                  "
      ]
     },
     "metadata": {},
     "output_type": "display_data"
    },
    {
     "data": {
      "text/html": [
       "<table class=\"dataframe\">\n",
       "<caption>A data.frame: 6 × 2</caption>\n",
       "<thead>\n",
       "\t<tr><th></th><th scope=col>X</th><th scope=col>X.9</th></tr>\n",
       "\t<tr><th></th><th scope=col>&lt;chr&gt;</th><th scope=col>&lt;chr&gt;</th></tr>\n",
       "</thead>\n",
       "<tbody>\n",
       "\t<tr><th scope=row>1</th><td>                            </td><td>Totals for Australia </td></tr>\n",
       "\t<tr><th scope=row>2</th><td>Disease name                </td><td>This reporting period</td></tr>\n",
       "\t<tr><th scope=row>3</th><td>                            </td><td>01/08/2020           </td></tr>\n",
       "\t<tr><th scope=row>4</th><td>                            </td><td>14/08/2020           </td></tr>\n",
       "\t<tr><th scope=row>5</th><td>Hepatitis B (newly acquired)</td><td> 2                   </td></tr>\n",
       "\t<tr><th scope=row>6</th><td>Hepatitis B (unspecified)   </td><td> 173                 </td></tr>\n",
       "</tbody>\n",
       "</table>\n"
      ],
      "text/latex": [
       "A data.frame: 6 × 2\n",
       "\\begin{tabular}{r|ll}\n",
       "  & X & X.9\\\\\n",
       "  & <chr> & <chr>\\\\\n",
       "\\hline\n",
       "\t1 &                              & Totals for Australia \\\\\n",
       "\t2 & Disease name                 & This reporting period\\\\\n",
       "\t3 &                              & 01/08/2020           \\\\\n",
       "\t4 &                              & 14/08/2020           \\\\\n",
       "\t5 & Hepatitis B (newly acquired) &  2                   \\\\\n",
       "\t6 & Hepatitis B (unspecified)    &  173                 \\\\\n",
       "\\end{tabular}\n"
      ],
      "text/markdown": [
       "\n",
       "A data.frame: 6 × 2\n",
       "\n",
       "| <!--/--> | X &lt;chr&gt; | X.9 &lt;chr&gt; |\n",
       "|---|---|---|\n",
       "| 1 | <!----> | Totals for Australia  |\n",
       "| 2 | Disease name                 | This reporting period |\n",
       "| 3 | <!----> | 01/08/2020            |\n",
       "| 4 | <!----> | 14/08/2020            |\n",
       "| 5 | Hepatitis B (newly acquired) |  2                    |\n",
       "| 6 | Hepatitis B (unspecified)    |  173                  |\n",
       "\n"
      ],
      "text/plain": [
       "  X                            X.9                  \n",
       "1                              Totals for Australia \n",
       "2 Disease name                 This reporting period\n",
       "3                              01/08/2020           \n",
       "4                              14/08/2020           \n",
       "5 Hepatitis B (newly acquired)  2                   \n",
       "6 Hepatitis B (unspecified)     173                 "
      ]
     },
     "metadata": {},
     "output_type": "display_data"
    }
   ],
   "source": [
    "df = read.csv(\"1-to-14-august-2020-table.csv\", header=TRUE, stringsAsFactors=FALSE)\n",
    "head(df)\n",
    "\n",
    "df <- df[, -c(1,3:11, 13:23)]\n",
    "head(df)"
   ]
  },
  {
   "cell_type": "code",
   "execution_count": 74,
   "id": "8e81294f-cd8f-4e3c-9191-835a4971e3b2",
   "metadata": {},
   "outputs": [
    {
     "data": {
      "text/html": [
       "<table class=\"dataframe\">\n",
       "<caption>A data.frame: 1 × 2</caption>\n",
       "<thead>\n",
       "\t<tr><th></th><th scope=col>X</th><th scope=col>X.9</th></tr>\n",
       "\t<tr><th></th><th scope=col>&lt;chr&gt;</th><th scope=col>&lt;chr&gt;</th></tr>\n",
       "</thead>\n",
       "<tbody>\n",
       "\t<tr><th scope=row>40</th><td>Influenza (laboratory confirmed)</td><td> 80 </td></tr>\n",
       "</tbody>\n",
       "</table>\n"
      ],
      "text/latex": [
       "A data.frame: 1 × 2\n",
       "\\begin{tabular}{r|ll}\n",
       "  & X & X.9\\\\\n",
       "  & <chr> & <chr>\\\\\n",
       "\\hline\n",
       "\t40 & Influenza (laboratory confirmed) &  80 \\\\\n",
       "\\end{tabular}\n"
      ],
      "text/markdown": [
       "\n",
       "A data.frame: 1 × 2\n",
       "\n",
       "| <!--/--> | X &lt;chr&gt; | X.9 &lt;chr&gt; |\n",
       "|---|---|---|\n",
       "| 40 | Influenza (laboratory confirmed) |  80  |\n",
       "\n"
      ],
      "text/plain": [
       "   X                                X.9 \n",
       "40 Influenza (laboratory confirmed)  80 "
      ]
     },
     "metadata": {},
     "output_type": "display_data"
    },
    {
     "data": {
      "text/html": [
       "<table class=\"dataframe\">\n",
       "<caption>A data.frame: 1 × 2</caption>\n",
       "<thead>\n",
       "\t<tr><th></th><th scope=col>X</th><th scope=col>X.9</th></tr>\n",
       "\t<tr><th></th><th scope=col>&lt;chr&gt;</th><th scope=col>&lt;chr&gt;</th></tr>\n",
       "</thead>\n",
       "<tbody>\n",
       "\t<tr><th scope=row>23</th><td>COVID-19</td><td>5853</td></tr>\n",
       "</tbody>\n",
       "</table>\n"
      ],
      "text/latex": [
       "A data.frame: 1 × 2\n",
       "\\begin{tabular}{r|ll}\n",
       "  & X & X.9\\\\\n",
       "  & <chr> & <chr>\\\\\n",
       "\\hline\n",
       "\t23 & COVID-19 & 5853\\\\\n",
       "\\end{tabular}\n"
      ],
      "text/markdown": [
       "\n",
       "A data.frame: 1 × 2\n",
       "\n",
       "| <!--/--> | X &lt;chr&gt; | X.9 &lt;chr&gt; |\n",
       "|---|---|---|\n",
       "| 23 | COVID-19 | 5853 |\n",
       "\n"
      ],
      "text/plain": [
       "   X        X.9 \n",
       "23 COVID-19 5853"
      ]
     },
     "metadata": {},
     "output_type": "display_data"
    },
    {
     "data": {
      "text/html": [
       "<table class=\"dataframe\">\n",
       "<caption>A data.frame: 2 × 2</caption>\n",
       "<thead>\n",
       "\t<tr><th></th><th scope=col>X</th><th scope=col>X.9</th></tr>\n",
       "\t<tr><th></th><th scope=col>&lt;chr&gt;</th><th scope=col>&lt;chr&gt;</th></tr>\n",
       "</thead>\n",
       "<tbody>\n",
       "\t<tr><th scope=row>40</th><td>Influenza (laboratory confirmed)</td><td> 80 </td></tr>\n",
       "\t<tr><th scope=row>23</th><td>COVID-19                        </td><td>5853</td></tr>\n",
       "</tbody>\n",
       "</table>\n"
      ],
      "text/latex": [
       "A data.frame: 2 × 2\n",
       "\\begin{tabular}{r|ll}\n",
       "  & X & X.9\\\\\n",
       "  & <chr> & <chr>\\\\\n",
       "\\hline\n",
       "\t40 & Influenza (laboratory confirmed) &  80 \\\\\n",
       "\t23 & COVID-19                         & 5853\\\\\n",
       "\\end{tabular}\n"
      ],
      "text/markdown": [
       "\n",
       "A data.frame: 2 × 2\n",
       "\n",
       "| <!--/--> | X &lt;chr&gt; | X.9 &lt;chr&gt; |\n",
       "|---|---|---|\n",
       "| 40 | Influenza (laboratory confirmed) |  80  |\n",
       "| 23 | COVID-19                         | 5853 |\n",
       "\n"
      ],
      "text/plain": [
       "   X                                X.9 \n",
       "40 Influenza (laboratory confirmed)  80 \n",
       "23 COVID-19                         5853"
      ]
     },
     "metadata": {},
     "output_type": "display_data"
    }
   ],
   "source": [
    "#find the rows that contain the words influenza\n",
    "\n",
    "inf <- df[grep(\"Influenza\", df$X),]\n",
    "head(inf)\n",
    "covid <-  df[grep(\"COVID\", df$X),]\n",
    "covid\n",
    "AUG01_AUG14_2020 <- rbind(inf, covid)\n",
    "AUG01_AUG14_2020"
   ]
  },
  {
   "cell_type": "code",
   "execution_count": 75,
   "id": "a648b519-4eb8-4141-b697-fec92f79b33d",
   "metadata": {},
   "outputs": [
    {
     "data": {
      "text/html": [
       "<table class=\"dataframe\">\n",
       "<caption>A data.frame: 2 × 2</caption>\n",
       "<thead>\n",
       "\t<tr><th></th><th scope=col>Disease</th><th scope=col>01AUG-14AUG-2020</th></tr>\n",
       "\t<tr><th></th><th scope=col>&lt;chr&gt;</th><th scope=col>&lt;dbl&gt;</th></tr>\n",
       "</thead>\n",
       "<tbody>\n",
       "\t<tr><th scope=row>40</th><td>Influenza (laboratory confirmed)</td><td>  80</td></tr>\n",
       "\t<tr><th scope=row>23</th><td>COVID-19                        </td><td>5853</td></tr>\n",
       "</tbody>\n",
       "</table>\n"
      ],
      "text/latex": [
       "A data.frame: 2 × 2\n",
       "\\begin{tabular}{r|ll}\n",
       "  & Disease & 01AUG-14AUG-2020\\\\\n",
       "  & <chr> & <dbl>\\\\\n",
       "\\hline\n",
       "\t40 & Influenza (laboratory confirmed) &   80\\\\\n",
       "\t23 & COVID-19                         & 5853\\\\\n",
       "\\end{tabular}\n"
      ],
      "text/markdown": [
       "\n",
       "A data.frame: 2 × 2\n",
       "\n",
       "| <!--/--> | Disease &lt;chr&gt; | 01AUG-14AUG-2020 &lt;dbl&gt; |\n",
       "|---|---|---|\n",
       "| 40 | Influenza (laboratory confirmed) |   80 |\n",
       "| 23 | COVID-19                         | 5853 |\n",
       "\n"
      ],
      "text/plain": [
       "   Disease                          01AUG-14AUG-2020\n",
       "40 Influenza (laboratory confirmed)   80            \n",
       "23 COVID-19                         5853            "
      ]
     },
     "metadata": {},
     "output_type": "display_data"
    }
   ],
   "source": [
    "AUG01_AUG14_2020[,2] <- as.numeric(AUG01_AUG14_2020[,2])\n",
    "colnames(AUG01_AUG14_2020) <- c(\"Disease\", \"01AUG-14AUG-2020\")\n",
    "AUG01_AUG14_2020"
   ]
  },
  {
   "cell_type": "code",
   "execution_count": null,
   "id": "2b9b36ad-cf77-42fd-a04f-d7e05e0bc6d7",
   "metadata": {},
   "outputs": [],
   "source": []
  },
  {
   "cell_type": "code",
   "execution_count": null,
   "id": "8b212a90-2c5d-4ef6-9027-c5e0c1810302",
   "metadata": {},
   "outputs": [],
   "source": [
    "# Next dataset 15-to-28-august-2020-table"
   ]
  },
  {
   "cell_type": "code",
   "execution_count": 76,
   "id": "e6396638-94ce-4bcd-9195-79f5ee978aeb",
   "metadata": {},
   "outputs": [
    {
     "data": {
      "text/html": [
       "<table class=\"dataframe\">\n",
       "<caption>A data.frame: 6 × 23</caption>\n",
       "<thead>\n",
       "\t<tr><th></th><th scope=col>ADT.FN17.2020</th><th scope=col>X</th><th scope=col>X.1</th><th scope=col>Notification.received.date</th><th scope=col>X.2</th><th scope=col>X.3</th><th scope=col>X.4</th><th scope=col>X.5</th><th scope=col>X.6</th><th scope=col>X.7</th><th scope=col>⋯</th><th scope=col>X.11</th><th scope=col>X.12</th><th scope=col>X.13</th><th scope=col>X.14</th><th scope=col>X.15</th><th scope=col>X.16</th><th scope=col>X.17</th><th scope=col>X.18</th><th scope=col>X.19</th><th scope=col>X.20</th></tr>\n",
       "\t<tr><th></th><th scope=col>&lt;chr&gt;</th><th scope=col>&lt;chr&gt;</th><th scope=col>&lt;chr&gt;</th><th scope=col>&lt;chr&gt;</th><th scope=col>&lt;chr&gt;</th><th scope=col>&lt;chr&gt;</th><th scope=col>&lt;chr&gt;</th><th scope=col>&lt;chr&gt;</th><th scope=col>&lt;chr&gt;</th><th scope=col>&lt;chr&gt;</th><th scope=col>⋯</th><th scope=col>&lt;chr&gt;</th><th scope=col>&lt;chr&gt;</th><th scope=col>&lt;chr&gt;</th><th scope=col>&lt;chr&gt;</th><th scope=col>&lt;chr&gt;</th><th scope=col>&lt;chr&gt;</th><th scope=col>&lt;chr&gt;</th><th scope=col>&lt;chr&gt;</th><th scope=col>&lt;chr&gt;</th><th scope=col>&lt;chr&gt;</th></tr>\n",
       "</thead>\n",
       "<tbody>\n",
       "\t<tr><th scope=row>1</th><td>                   </td><td>                            </td><td>            </td><td>State or Territory</td><td>     </td><td>     </td><td>    </td><td>     </td><td>     </td><td>     </td><td>⋯</td><td>                               </td><td>                 </td><td>Historical 90 Day Period</td><td>                               </td><td>                               </td><td>                                       </td><td>Historical Yearly Period</td><td>                            </td><td>                             </td><td>                                    </td></tr>\n",
       "\t<tr><th scope=row>2</th><td>Disease group      </td><td>Disease name                </td><td>Disease code</td><td>ACT               </td><td>NSW  </td><td>NT   </td><td>Qld </td><td>SA   </td><td>Tas  </td><td>Vic  </td><td>⋯</td><td>Same reporting period last year</td><td>Current year\n",
       "YTD</td><td>Past Quarter            </td><td>Quarterly rolling \n",
       "5 year mean</td><td>Ratio past quarter/5 year mean*</td><td>Exceeds quarterly rolling mean +2 SD by</td><td>Past Year               </td><td>Yearly rolling \n",
       "5 year mean</td><td>Ratio past  year/5 year mean*</td><td>Exceeds yearly rolling mean +2 SD by</td></tr>\n",
       "\t<tr><th scope=row>3</th><td>                   </td><td>                            </td><td>            </td><td>                  </td><td>     </td><td>     </td><td>    </td><td>     </td><td>     </td><td>     </td><td>⋯</td><td>15/08/2019                     </td><td>01/01/2020       </td><td>31/05/2020              </td><td>                               </td><td>                               </td><td>                                       </td><td>29/08/2019              </td><td>29/08/2014                  </td><td>                             </td><td>                                    </td></tr>\n",
       "\t<tr><th scope=row>4</th><td>                   </td><td>                            </td><td>            </td><td>                  </td><td>     </td><td>     </td><td>    </td><td>     </td><td>     </td><td>     </td><td>⋯</td><td>28/08/2019                     </td><td>28/08/2020       </td><td>28/08/2020              </td><td>                               </td><td>                               </td><td>                                       </td><td>28/08/2020              </td><td>28/08/2019                  </td><td>                             </td><td>                                    </td></tr>\n",
       "\t<tr><th scope=row>5</th><td>Bloodborne diseases</td><td>Hepatitis B (newly acquired)</td><td>039         </td><td> -                </td><td> -   </td><td> -   </td><td> 1  </td><td> -   </td><td> -   </td><td> -   </td><td>⋯</td><td> 4                             </td><td> 77              </td><td> 22                     </td><td> 38.2                          </td><td> 0.6                           </td><td> -                                     </td><td> 129                    </td><td> 154.4                      </td><td> 0.8                         </td><td> -                                  </td></tr>\n",
       "\t<tr><th scope=row>6</th><td>                   </td><td>Hepatitis B (unspecified)   </td><td>052         </td><td> 5                </td><td> 88  </td><td> 1   </td><td> 39 </td><td> -   </td><td> 2   </td><td> 34  </td><td>⋯</td><td> 240                           </td><td> 3,394           </td><td> 1,326                  </td><td> 1,503.0                       </td><td> 0.9                           </td><td> -                                     </td><td> 5,215                  </td><td> 6,076.6                    </td><td> 0.9                         </td><td> -                                  </td></tr>\n",
       "</tbody>\n",
       "</table>\n"
      ],
      "text/latex": [
       "A data.frame: 6 × 23\n",
       "\\begin{tabular}{r|lllllllllllllllllllll}\n",
       "  & ADT.FN17.2020 & X & X.1 & Notification.received.date & X.2 & X.3 & X.4 & X.5 & X.6 & X.7 & ⋯ & X.11 & X.12 & X.13 & X.14 & X.15 & X.16 & X.17 & X.18 & X.19 & X.20\\\\\n",
       "  & <chr> & <chr> & <chr> & <chr> & <chr> & <chr> & <chr> & <chr> & <chr> & <chr> & ⋯ & <chr> & <chr> & <chr> & <chr> & <chr> & <chr> & <chr> & <chr> & <chr> & <chr>\\\\\n",
       "\\hline\n",
       "\t1 &                     &                              &              & State or Territory &       &       &      &       &       &       & ⋯ &                                 &                   & Historical 90 Day Period &                                 &                                 &                                         & Historical Yearly Period &                              &                               &                                     \\\\\n",
       "\t2 & Disease group       & Disease name                 & Disease code & ACT                & NSW   & NT    & Qld  & SA    & Tas   & Vic   & ⋯ & Same reporting period last year & Current year\n",
       "YTD & Past Quarter             & Quarterly rolling \n",
       "5 year mean & Ratio past quarter/5 year mean* & Exceeds quarterly rolling mean +2 SD by & Past Year                & Yearly rolling \n",
       "5 year mean & Ratio past  year/5 year mean* & Exceeds yearly rolling mean +2 SD by\\\\\n",
       "\t3 &                     &                              &              &                    &       &       &      &       &       &       & ⋯ & 15/08/2019                      & 01/01/2020        & 31/05/2020               &                                 &                                 &                                         & 29/08/2019               & 29/08/2014                   &                               &                                     \\\\\n",
       "\t4 &                     &                              &              &                    &       &       &      &       &       &       & ⋯ & 28/08/2019                      & 28/08/2020        & 28/08/2020               &                                 &                                 &                                         & 28/08/2020               & 28/08/2019                   &                               &                                     \\\\\n",
       "\t5 & Bloodborne diseases & Hepatitis B (newly acquired) & 039          &  -                 &  -    &  -    &  1   &  -    &  -    &  -    & ⋯ &  4                              &  77               &  22                      &  38.2                           &  0.6                            &  -                                      &  129                     &  154.4                       &  0.8                          &  -                                  \\\\\n",
       "\t6 &                     & Hepatitis B (unspecified)    & 052          &  5                 &  88   &  1    &  39  &  -    &  2    &  34   & ⋯ &  240                            &  3,394            &  1,326                   &  1,503.0                        &  0.9                            &  -                                      &  5,215                   &  6,076.6                     &  0.9                          &  -                                  \\\\\n",
       "\\end{tabular}\n"
      ],
      "text/markdown": [
       "\n",
       "A data.frame: 6 × 23\n",
       "\n",
       "| <!--/--> | ADT.FN17.2020 &lt;chr&gt; | X &lt;chr&gt; | X.1 &lt;chr&gt; | Notification.received.date &lt;chr&gt; | X.2 &lt;chr&gt; | X.3 &lt;chr&gt; | X.4 &lt;chr&gt; | X.5 &lt;chr&gt; | X.6 &lt;chr&gt; | X.7 &lt;chr&gt; | ⋯ ⋯ | X.11 &lt;chr&gt; | X.12 &lt;chr&gt; | X.13 &lt;chr&gt; | X.14 &lt;chr&gt; | X.15 &lt;chr&gt; | X.16 &lt;chr&gt; | X.17 &lt;chr&gt; | X.18 &lt;chr&gt; | X.19 &lt;chr&gt; | X.20 &lt;chr&gt; |\n",
       "|---|---|---|---|---|---|---|---|---|---|---|---|---|---|---|---|---|---|---|---|---|---|\n",
       "| 1 | <!----> | <!----> | <!----> | State or Territory | <!----> | <!----> | <!----> | <!----> | <!----> | <!----> | ⋯ | <!----> | <!----> | Historical 90 Day Period | <!----> | <!----> | <!----> | Historical Yearly Period | <!----> | <!----> | <!----> |\n",
       "| 2 | Disease group       | Disease name                 | Disease code | ACT                | NSW   | NT    | Qld  | SA    | Tas   | Vic   | ⋯ | Same reporting period last year | Current year\n",
       "YTD | Past Quarter             | Quarterly rolling \n",
       "5 year mean | Ratio past quarter/5 year mean* | Exceeds quarterly rolling mean +2 SD by | Past Year                | Yearly rolling \n",
       "5 year mean | Ratio past  year/5 year mean* | Exceeds yearly rolling mean +2 SD by |\n",
       "| 3 | <!----> | <!----> | <!----> | <!----> | <!----> | <!----> | <!----> | <!----> | <!----> | <!----> | ⋯ | 15/08/2019                      | 01/01/2020        | 31/05/2020               | <!----> | <!----> | <!----> | 29/08/2019               | 29/08/2014                   | <!----> | <!----> |\n",
       "| 4 | <!----> | <!----> | <!----> | <!----> | <!----> | <!----> | <!----> | <!----> | <!----> | <!----> | ⋯ | 28/08/2019                      | 28/08/2020        | 28/08/2020               | <!----> | <!----> | <!----> | 28/08/2020               | 28/08/2019                   | <!----> | <!----> |\n",
       "| 5 | Bloodborne diseases | Hepatitis B (newly acquired) | 039          |  -                 |  -    |  -    |  1   |  -    |  -    |  -    | ⋯ |  4                              |  77               |  22                      |  38.2                           |  0.6                            |  -                                      |  129                     |  154.4                       |  0.8                          |  -                                   |\n",
       "| 6 | <!----> | Hepatitis B (unspecified)    | 052          |  5                 |  88   |  1    |  39  |  -    |  2    |  34   | ⋯ |  240                            |  3,394            |  1,326                   |  1,503.0                        |  0.9                            |  -                                      |  5,215                   |  6,076.6                     |  0.9                          |  -                                   |\n",
       "\n"
      ],
      "text/plain": [
       "  ADT.FN17.2020       X                            X.1         \n",
       "1                                                              \n",
       "2 Disease group       Disease name                 Disease code\n",
       "3                                                              \n",
       "4                                                              \n",
       "5 Bloodborne diseases Hepatitis B (newly acquired) 039         \n",
       "6                     Hepatitis B (unspecified)    052         \n",
       "  Notification.received.date X.2   X.3   X.4  X.5   X.6   X.7   ⋯\n",
       "1 State or Territory                                            ⋯\n",
       "2 ACT                        NSW   NT    Qld  SA    Tas   Vic   ⋯\n",
       "3                                                               ⋯\n",
       "4                                                               ⋯\n",
       "5  -                          -     -     1    -     -     -    ⋯\n",
       "6  5                          88    1     39   -     2     34   ⋯\n",
       "  X.11                            X.12              X.13                    \n",
       "1                                                   Historical 90 Day Period\n",
       "2 Same reporting period last year Current year\\nYTD Past Quarter            \n",
       "3 15/08/2019                      01/01/2020        31/05/2020              \n",
       "4 28/08/2019                      28/08/2020        28/08/2020              \n",
       "5  4                               77                22                     \n",
       "6  240                             3,394             1,326                  \n",
       "  X.14                            X.15                           \n",
       "1                                                                \n",
       "2 Quarterly rolling \\n5 year mean Ratio past quarter/5 year mean*\n",
       "3                                                                \n",
       "4                                                                \n",
       "5  38.2                            0.6                           \n",
       "6  1,503.0                         0.9                           \n",
       "  X.16                                    X.17                    \n",
       "1                                         Historical Yearly Period\n",
       "2 Exceeds quarterly rolling mean +2 SD by Past Year               \n",
       "3                                         29/08/2019              \n",
       "4                                         28/08/2020              \n",
       "5  -                                       129                    \n",
       "6  -                                       5,215                  \n",
       "  X.18                         X.19                         \n",
       "1                                                           \n",
       "2 Yearly rolling \\n5 year mean Ratio past  year/5 year mean*\n",
       "3 29/08/2014                                                \n",
       "4 28/08/2019                                                \n",
       "5  154.4                        0.8                         \n",
       "6  6,076.6                      0.9                         \n",
       "  X.20                                \n",
       "1                                     \n",
       "2 Exceeds yearly rolling mean +2 SD by\n",
       "3                                     \n",
       "4                                     \n",
       "5  -                                  \n",
       "6  -                                  "
      ]
     },
     "metadata": {},
     "output_type": "display_data"
    },
    {
     "data": {
      "text/html": [
       "<table class=\"dataframe\">\n",
       "<caption>A data.frame: 6 × 2</caption>\n",
       "<thead>\n",
       "\t<tr><th></th><th scope=col>X</th><th scope=col>X.9</th></tr>\n",
       "\t<tr><th></th><th scope=col>&lt;chr&gt;</th><th scope=col>&lt;chr&gt;</th></tr>\n",
       "</thead>\n",
       "<tbody>\n",
       "\t<tr><th scope=row>1</th><td>                            </td><td>Totals for Australia </td></tr>\n",
       "\t<tr><th scope=row>2</th><td>Disease name                </td><td>This reporting period</td></tr>\n",
       "\t<tr><th scope=row>3</th><td>                            </td><td>15/08/2020           </td></tr>\n",
       "\t<tr><th scope=row>4</th><td>                            </td><td>28/08/2020           </td></tr>\n",
       "\t<tr><th scope=row>5</th><td>Hepatitis B (newly acquired)</td><td> 2                   </td></tr>\n",
       "\t<tr><th scope=row>6</th><td>Hepatitis B (unspecified)   </td><td> 195                 </td></tr>\n",
       "</tbody>\n",
       "</table>\n"
      ],
      "text/latex": [
       "A data.frame: 6 × 2\n",
       "\\begin{tabular}{r|ll}\n",
       "  & X & X.9\\\\\n",
       "  & <chr> & <chr>\\\\\n",
       "\\hline\n",
       "\t1 &                              & Totals for Australia \\\\\n",
       "\t2 & Disease name                 & This reporting period\\\\\n",
       "\t3 &                              & 15/08/2020           \\\\\n",
       "\t4 &                              & 28/08/2020           \\\\\n",
       "\t5 & Hepatitis B (newly acquired) &  2                   \\\\\n",
       "\t6 & Hepatitis B (unspecified)    &  195                 \\\\\n",
       "\\end{tabular}\n"
      ],
      "text/markdown": [
       "\n",
       "A data.frame: 6 × 2\n",
       "\n",
       "| <!--/--> | X &lt;chr&gt; | X.9 &lt;chr&gt; |\n",
       "|---|---|---|\n",
       "| 1 | <!----> | Totals for Australia  |\n",
       "| 2 | Disease name                 | This reporting period |\n",
       "| 3 | <!----> | 15/08/2020            |\n",
       "| 4 | <!----> | 28/08/2020            |\n",
       "| 5 | Hepatitis B (newly acquired) |  2                    |\n",
       "| 6 | Hepatitis B (unspecified)    |  195                  |\n",
       "\n"
      ],
      "text/plain": [
       "  X                            X.9                  \n",
       "1                              Totals for Australia \n",
       "2 Disease name                 This reporting period\n",
       "3                              15/08/2020           \n",
       "4                              28/08/2020           \n",
       "5 Hepatitis B (newly acquired)  2                   \n",
       "6 Hepatitis B (unspecified)     195                 "
      ]
     },
     "metadata": {},
     "output_type": "display_data"
    }
   ],
   "source": [
    "df = read.csv(\"15-to-28-august-2020-table.csv\", header=TRUE, stringsAsFactors=FALSE)\n",
    "head(df)\n",
    "\n",
    "df <- df[, -c(1,3:11, 13:23)]\n",
    "head(df)"
   ]
  },
  {
   "cell_type": "code",
   "execution_count": 77,
   "id": "2dcfede8-33a3-4df1-a749-dba5758559d0",
   "metadata": {},
   "outputs": [
    {
     "data": {
      "text/html": [
       "<table class=\"dataframe\">\n",
       "<caption>A data.frame: 1 × 2</caption>\n",
       "<thead>\n",
       "\t<tr><th></th><th scope=col>X</th><th scope=col>X.9</th></tr>\n",
       "\t<tr><th></th><th scope=col>&lt;chr&gt;</th><th scope=col>&lt;chr&gt;</th></tr>\n",
       "</thead>\n",
       "<tbody>\n",
       "\t<tr><th scope=row>40</th><td>Influenza (laboratory confirmed)</td><td> 61 </td></tr>\n",
       "</tbody>\n",
       "</table>\n"
      ],
      "text/latex": [
       "A data.frame: 1 × 2\n",
       "\\begin{tabular}{r|ll}\n",
       "  & X & X.9\\\\\n",
       "  & <chr> & <chr>\\\\\n",
       "\\hline\n",
       "\t40 & Influenza (laboratory confirmed) &  61 \\\\\n",
       "\\end{tabular}\n"
      ],
      "text/markdown": [
       "\n",
       "A data.frame: 1 × 2\n",
       "\n",
       "| <!--/--> | X &lt;chr&gt; | X.9 &lt;chr&gt; |\n",
       "|---|---|---|\n",
       "| 40 | Influenza (laboratory confirmed) |  61  |\n",
       "\n"
      ],
      "text/plain": [
       "   X                                X.9 \n",
       "40 Influenza (laboratory confirmed)  61 "
      ]
     },
     "metadata": {},
     "output_type": "display_data"
    },
    {
     "data": {
      "text/html": [
       "<table class=\"dataframe\">\n",
       "<caption>A data.frame: 1 × 2</caption>\n",
       "<thead>\n",
       "\t<tr><th></th><th scope=col>X</th><th scope=col>X.9</th></tr>\n",
       "\t<tr><th></th><th scope=col>&lt;chr&gt;</th><th scope=col>&lt;chr&gt;</th></tr>\n",
       "</thead>\n",
       "<tbody>\n",
       "\t<tr><th scope=row>23</th><td>COVID-19</td><td>2581</td></tr>\n",
       "</tbody>\n",
       "</table>\n"
      ],
      "text/latex": [
       "A data.frame: 1 × 2\n",
       "\\begin{tabular}{r|ll}\n",
       "  & X & X.9\\\\\n",
       "  & <chr> & <chr>\\\\\n",
       "\\hline\n",
       "\t23 & COVID-19 & 2581\\\\\n",
       "\\end{tabular}\n"
      ],
      "text/markdown": [
       "\n",
       "A data.frame: 1 × 2\n",
       "\n",
       "| <!--/--> | X &lt;chr&gt; | X.9 &lt;chr&gt; |\n",
       "|---|---|---|\n",
       "| 23 | COVID-19 | 2581 |\n",
       "\n"
      ],
      "text/plain": [
       "   X        X.9 \n",
       "23 COVID-19 2581"
      ]
     },
     "metadata": {},
     "output_type": "display_data"
    },
    {
     "data": {
      "text/html": [
       "<table class=\"dataframe\">\n",
       "<caption>A data.frame: 2 × 2</caption>\n",
       "<thead>\n",
       "\t<tr><th></th><th scope=col>X</th><th scope=col>X.9</th></tr>\n",
       "\t<tr><th></th><th scope=col>&lt;chr&gt;</th><th scope=col>&lt;chr&gt;</th></tr>\n",
       "</thead>\n",
       "<tbody>\n",
       "\t<tr><th scope=row>40</th><td>Influenza (laboratory confirmed)</td><td> 61 </td></tr>\n",
       "\t<tr><th scope=row>23</th><td>COVID-19                        </td><td>2581</td></tr>\n",
       "</tbody>\n",
       "</table>\n"
      ],
      "text/latex": [
       "A data.frame: 2 × 2\n",
       "\\begin{tabular}{r|ll}\n",
       "  & X & X.9\\\\\n",
       "  & <chr> & <chr>\\\\\n",
       "\\hline\n",
       "\t40 & Influenza (laboratory confirmed) &  61 \\\\\n",
       "\t23 & COVID-19                         & 2581\\\\\n",
       "\\end{tabular}\n"
      ],
      "text/markdown": [
       "\n",
       "A data.frame: 2 × 2\n",
       "\n",
       "| <!--/--> | X &lt;chr&gt; | X.9 &lt;chr&gt; |\n",
       "|---|---|---|\n",
       "| 40 | Influenza (laboratory confirmed) |  61  |\n",
       "| 23 | COVID-19                         | 2581 |\n",
       "\n"
      ],
      "text/plain": [
       "   X                                X.9 \n",
       "40 Influenza (laboratory confirmed)  61 \n",
       "23 COVID-19                         2581"
      ]
     },
     "metadata": {},
     "output_type": "display_data"
    }
   ],
   "source": [
    "#find the rows that contain the words influenza\n",
    "\n",
    "inf <- df[grep(\"Influenza\", df$X),]\n",
    "head(inf)\n",
    "covid <-  df[grep(\"COVID\", df$X),]\n",
    "covid\n",
    "AUG15_AUG28_2020 <- rbind(inf, covid)\n",
    "AUG15_AUG28_2020"
   ]
  },
  {
   "cell_type": "code",
   "execution_count": 78,
   "id": "b5b2ccf4-8abb-4b8e-938c-459cba105348",
   "metadata": {},
   "outputs": [
    {
     "data": {
      "text/html": [
       "<table class=\"dataframe\">\n",
       "<caption>A data.frame: 2 × 2</caption>\n",
       "<thead>\n",
       "\t<tr><th></th><th scope=col>Disease</th><th scope=col>15AUG-28AUG-2020</th></tr>\n",
       "\t<tr><th></th><th scope=col>&lt;chr&gt;</th><th scope=col>&lt;dbl&gt;</th></tr>\n",
       "</thead>\n",
       "<tbody>\n",
       "\t<tr><th scope=row>40</th><td>Influenza (laboratory confirmed)</td><td>  61</td></tr>\n",
       "\t<tr><th scope=row>23</th><td>COVID-19                        </td><td>2581</td></tr>\n",
       "</tbody>\n",
       "</table>\n"
      ],
      "text/latex": [
       "A data.frame: 2 × 2\n",
       "\\begin{tabular}{r|ll}\n",
       "  & Disease & 15AUG-28AUG-2020\\\\\n",
       "  & <chr> & <dbl>\\\\\n",
       "\\hline\n",
       "\t40 & Influenza (laboratory confirmed) &   61\\\\\n",
       "\t23 & COVID-19                         & 2581\\\\\n",
       "\\end{tabular}\n"
      ],
      "text/markdown": [
       "\n",
       "A data.frame: 2 × 2\n",
       "\n",
       "| <!--/--> | Disease &lt;chr&gt; | 15AUG-28AUG-2020 &lt;dbl&gt; |\n",
       "|---|---|---|\n",
       "| 40 | Influenza (laboratory confirmed) |   61 |\n",
       "| 23 | COVID-19                         | 2581 |\n",
       "\n"
      ],
      "text/plain": [
       "   Disease                          15AUG-28AUG-2020\n",
       "40 Influenza (laboratory confirmed)   61            \n",
       "23 COVID-19                         2581            "
      ]
     },
     "metadata": {},
     "output_type": "display_data"
    }
   ],
   "source": [
    "AUG15_AUG28_2020[,2] <- as.numeric(AUG15_AUG28_2020[,2])\n",
    "colnames(AUG15_AUG28_2020) <- c(\"Disease\", \"15AUG-28AUG-2020\")\n",
    "AUG15_AUG28_2020"
   ]
  },
  {
   "cell_type": "code",
   "execution_count": null,
   "id": "e5207ed2-cd7c-4d32-9f8f-dee8761b6f2e",
   "metadata": {},
   "outputs": [],
   "source": []
  },
  {
   "cell_type": "code",
   "execution_count": null,
   "id": "d72e3d8d-4a3f-4254-bedd-856376ff507b",
   "metadata": {},
   "outputs": [],
   "source": [
    "# next data set 29-august-to-11-september-2020-table"
   ]
  },
  {
   "cell_type": "code",
   "execution_count": 79,
   "id": "9a428794-ae7c-4427-95bd-984f69ca9983",
   "metadata": {},
   "outputs": [
    {
     "data": {
      "text/html": [
       "<table class=\"dataframe\">\n",
       "<caption>A data.frame: 6 × 23</caption>\n",
       "<thead>\n",
       "\t<tr><th></th><th scope=col>ADT.FN18.2020</th><th scope=col>X</th><th scope=col>X.1</th><th scope=col>Notification.received.date</th><th scope=col>X.2</th><th scope=col>X.3</th><th scope=col>X.4</th><th scope=col>X.5</th><th scope=col>X.6</th><th scope=col>X.7</th><th scope=col>⋯</th><th scope=col>X.11</th><th scope=col>X.12</th><th scope=col>X.13</th><th scope=col>X.14</th><th scope=col>X.15</th><th scope=col>X.16</th><th scope=col>X.17</th><th scope=col>X.18</th><th scope=col>X.19</th><th scope=col>X.20</th></tr>\n",
       "\t<tr><th></th><th scope=col>&lt;chr&gt;</th><th scope=col>&lt;chr&gt;</th><th scope=col>&lt;chr&gt;</th><th scope=col>&lt;chr&gt;</th><th scope=col>&lt;chr&gt;</th><th scope=col>&lt;chr&gt;</th><th scope=col>&lt;chr&gt;</th><th scope=col>&lt;chr&gt;</th><th scope=col>&lt;chr&gt;</th><th scope=col>&lt;chr&gt;</th><th scope=col>⋯</th><th scope=col>&lt;chr&gt;</th><th scope=col>&lt;chr&gt;</th><th scope=col>&lt;chr&gt;</th><th scope=col>&lt;chr&gt;</th><th scope=col>&lt;chr&gt;</th><th scope=col>&lt;chr&gt;</th><th scope=col>&lt;chr&gt;</th><th scope=col>&lt;chr&gt;</th><th scope=col>&lt;chr&gt;</th><th scope=col>&lt;chr&gt;</th></tr>\n",
       "</thead>\n",
       "<tbody>\n",
       "\t<tr><th scope=row>1</th><td>                   </td><td>                            </td><td>            </td><td>State or Territory</td><td>    </td><td>     </td><td>    </td><td>     </td><td>     </td><td>     </td><td>⋯</td><td>                               </td><td>                 </td><td>Historical 90 Day Period</td><td>                               </td><td>                               </td><td>                                       </td><td>Historical Yearly Period</td><td>                            </td><td>                             </td><td>                                    </td></tr>\n",
       "\t<tr><th scope=row>2</th><td>Disease group      </td><td>Disease name                </td><td>Disease code</td><td>ACT               </td><td>NSW </td><td>NT   </td><td>Qld </td><td>SA   </td><td>Tas  </td><td>Vic  </td><td>⋯</td><td>Same reporting period last year</td><td>Current year\n",
       "YTD</td><td>Past Quarter            </td><td>Quarterly rolling \n",
       "5 year mean</td><td>Ratio past quarter/5 year mean*</td><td>Exceeds quarterly rolling mean +2 SD by</td><td>Past Year               </td><td>Yearly rolling \n",
       "5 year mean</td><td>Ratio past  year/5 year mean*</td><td>Exceeds yearly rolling mean +2 SD by</td></tr>\n",
       "\t<tr><th scope=row>3</th><td>                   </td><td>                            </td><td>            </td><td>                  </td><td>    </td><td>     </td><td>    </td><td>     </td><td>     </td><td>     </td><td>⋯</td><td>29/08/2019                     </td><td>01/01/2020       </td><td>14/06/2020              </td><td>                               </td><td>                               </td><td>                                       </td><td>12/09/2019              </td><td>12/09/2014                  </td><td>                             </td><td>                                    </td></tr>\n",
       "\t<tr><th scope=row>4</th><td>                   </td><td>                            </td><td>            </td><td>                  </td><td>    </td><td>     </td><td>    </td><td>     </td><td>     </td><td>     </td><td>⋯</td><td>11/09/2019                     </td><td>11/09/2020       </td><td>11/09/2020              </td><td>                               </td><td>                               </td><td>                                       </td><td>11/09/2020              </td><td>11/09/2019                  </td><td>                             </td><td>                                    </td></tr>\n",
       "\t<tr><th scope=row>5</th><td>Bloodborne diseases</td><td>Hepatitis B (newly acquired)</td><td>039         </td><td> -                </td><td> 1  </td><td> -   </td><td> 1  </td><td> -   </td><td> -   </td><td> -   </td><td>⋯</td><td> 5                             </td><td> 78              </td><td> 22                     </td><td> 38.8                          </td><td> 0.6                           </td><td> -                                     </td><td> 125                    </td><td> 153.6                      </td><td> 0.8                         </td><td> -                                  </td></tr>\n",
       "\t<tr><th scope=row>6</th><td>                   </td><td>Hepatitis B (unspecified)   </td><td>052         </td><td> 4                </td><td> 79 </td><td> -   </td><td> 33 </td><td> 1   </td><td> 2   </td><td> 14  </td><td>⋯</td><td> 205                           </td><td> 3,577           </td><td> 1,298                  </td><td> 1,532.0                       </td><td> 0.8                           </td><td> -                                     </td><td> 5,193                  </td><td> 6,057.8                    </td><td> 0.9                         </td><td> -                                  </td></tr>\n",
       "</tbody>\n",
       "</table>\n"
      ],
      "text/latex": [
       "A data.frame: 6 × 23\n",
       "\\begin{tabular}{r|lllllllllllllllllllll}\n",
       "  & ADT.FN18.2020 & X & X.1 & Notification.received.date & X.2 & X.3 & X.4 & X.5 & X.6 & X.7 & ⋯ & X.11 & X.12 & X.13 & X.14 & X.15 & X.16 & X.17 & X.18 & X.19 & X.20\\\\\n",
       "  & <chr> & <chr> & <chr> & <chr> & <chr> & <chr> & <chr> & <chr> & <chr> & <chr> & ⋯ & <chr> & <chr> & <chr> & <chr> & <chr> & <chr> & <chr> & <chr> & <chr> & <chr>\\\\\n",
       "\\hline\n",
       "\t1 &                     &                              &              & State or Territory &      &       &      &       &       &       & ⋯ &                                 &                   & Historical 90 Day Period &                                 &                                 &                                         & Historical Yearly Period &                              &                               &                                     \\\\\n",
       "\t2 & Disease group       & Disease name                 & Disease code & ACT                & NSW  & NT    & Qld  & SA    & Tas   & Vic   & ⋯ & Same reporting period last year & Current year\n",
       "YTD & Past Quarter             & Quarterly rolling \n",
       "5 year mean & Ratio past quarter/5 year mean* & Exceeds quarterly rolling mean +2 SD by & Past Year                & Yearly rolling \n",
       "5 year mean & Ratio past  year/5 year mean* & Exceeds yearly rolling mean +2 SD by\\\\\n",
       "\t3 &                     &                              &              &                    &      &       &      &       &       &       & ⋯ & 29/08/2019                      & 01/01/2020        & 14/06/2020               &                                 &                                 &                                         & 12/09/2019               & 12/09/2014                   &                               &                                     \\\\\n",
       "\t4 &                     &                              &              &                    &      &       &      &       &       &       & ⋯ & 11/09/2019                      & 11/09/2020        & 11/09/2020               &                                 &                                 &                                         & 11/09/2020               & 11/09/2019                   &                               &                                     \\\\\n",
       "\t5 & Bloodborne diseases & Hepatitis B (newly acquired) & 039          &  -                 &  1   &  -    &  1   &  -    &  -    &  -    & ⋯ &  5                              &  78               &  22                      &  38.8                           &  0.6                            &  -                                      &  125                     &  153.6                       &  0.8                          &  -                                  \\\\\n",
       "\t6 &                     & Hepatitis B (unspecified)    & 052          &  4                 &  79  &  -    &  33  &  1    &  2    &  14   & ⋯ &  205                            &  3,577            &  1,298                   &  1,532.0                        &  0.8                            &  -                                      &  5,193                   &  6,057.8                     &  0.9                          &  -                                  \\\\\n",
       "\\end{tabular}\n"
      ],
      "text/markdown": [
       "\n",
       "A data.frame: 6 × 23\n",
       "\n",
       "| <!--/--> | ADT.FN18.2020 &lt;chr&gt; | X &lt;chr&gt; | X.1 &lt;chr&gt; | Notification.received.date &lt;chr&gt; | X.2 &lt;chr&gt; | X.3 &lt;chr&gt; | X.4 &lt;chr&gt; | X.5 &lt;chr&gt; | X.6 &lt;chr&gt; | X.7 &lt;chr&gt; | ⋯ ⋯ | X.11 &lt;chr&gt; | X.12 &lt;chr&gt; | X.13 &lt;chr&gt; | X.14 &lt;chr&gt; | X.15 &lt;chr&gt; | X.16 &lt;chr&gt; | X.17 &lt;chr&gt; | X.18 &lt;chr&gt; | X.19 &lt;chr&gt; | X.20 &lt;chr&gt; |\n",
       "|---|---|---|---|---|---|---|---|---|---|---|---|---|---|---|---|---|---|---|---|---|---|\n",
       "| 1 | <!----> | <!----> | <!----> | State or Territory | <!----> | <!----> | <!----> | <!----> | <!----> | <!----> | ⋯ | <!----> | <!----> | Historical 90 Day Period | <!----> | <!----> | <!----> | Historical Yearly Period | <!----> | <!----> | <!----> |\n",
       "| 2 | Disease group       | Disease name                 | Disease code | ACT                | NSW  | NT    | Qld  | SA    | Tas   | Vic   | ⋯ | Same reporting period last year | Current year\n",
       "YTD | Past Quarter             | Quarterly rolling \n",
       "5 year mean | Ratio past quarter/5 year mean* | Exceeds quarterly rolling mean +2 SD by | Past Year                | Yearly rolling \n",
       "5 year mean | Ratio past  year/5 year mean* | Exceeds yearly rolling mean +2 SD by |\n",
       "| 3 | <!----> | <!----> | <!----> | <!----> | <!----> | <!----> | <!----> | <!----> | <!----> | <!----> | ⋯ | 29/08/2019                      | 01/01/2020        | 14/06/2020               | <!----> | <!----> | <!----> | 12/09/2019               | 12/09/2014                   | <!----> | <!----> |\n",
       "| 4 | <!----> | <!----> | <!----> | <!----> | <!----> | <!----> | <!----> | <!----> | <!----> | <!----> | ⋯ | 11/09/2019                      | 11/09/2020        | 11/09/2020               | <!----> | <!----> | <!----> | 11/09/2020               | 11/09/2019                   | <!----> | <!----> |\n",
       "| 5 | Bloodborne diseases | Hepatitis B (newly acquired) | 039          |  -                 |  1   |  -    |  1   |  -    |  -    |  -    | ⋯ |  5                              |  78               |  22                      |  38.8                           |  0.6                            |  -                                      |  125                     |  153.6                       |  0.8                          |  -                                   |\n",
       "| 6 | <!----> | Hepatitis B (unspecified)    | 052          |  4                 |  79  |  -    |  33  |  1    |  2    |  14   | ⋯ |  205                            |  3,577            |  1,298                   |  1,532.0                        |  0.8                            |  -                                      |  5,193                   |  6,057.8                     |  0.9                          |  -                                   |\n",
       "\n"
      ],
      "text/plain": [
       "  ADT.FN18.2020       X                            X.1         \n",
       "1                                                              \n",
       "2 Disease group       Disease name                 Disease code\n",
       "3                                                              \n",
       "4                                                              \n",
       "5 Bloodborne diseases Hepatitis B (newly acquired) 039         \n",
       "6                     Hepatitis B (unspecified)    052         \n",
       "  Notification.received.date X.2  X.3   X.4  X.5   X.6   X.7   ⋯\n",
       "1 State or Territory                                           ⋯\n",
       "2 ACT                        NSW  NT    Qld  SA    Tas   Vic   ⋯\n",
       "3                                                              ⋯\n",
       "4                                                              ⋯\n",
       "5  -                          1    -     1    -     -     -    ⋯\n",
       "6  4                          79   -     33   1     2     14   ⋯\n",
       "  X.11                            X.12              X.13                    \n",
       "1                                                   Historical 90 Day Period\n",
       "2 Same reporting period last year Current year\\nYTD Past Quarter            \n",
       "3 29/08/2019                      01/01/2020        14/06/2020              \n",
       "4 11/09/2019                      11/09/2020        11/09/2020              \n",
       "5  5                               78                22                     \n",
       "6  205                             3,577             1,298                  \n",
       "  X.14                            X.15                           \n",
       "1                                                                \n",
       "2 Quarterly rolling \\n5 year mean Ratio past quarter/5 year mean*\n",
       "3                                                                \n",
       "4                                                                \n",
       "5  38.8                            0.6                           \n",
       "6  1,532.0                         0.8                           \n",
       "  X.16                                    X.17                    \n",
       "1                                         Historical Yearly Period\n",
       "2 Exceeds quarterly rolling mean +2 SD by Past Year               \n",
       "3                                         12/09/2019              \n",
       "4                                         11/09/2020              \n",
       "5  -                                       125                    \n",
       "6  -                                       5,193                  \n",
       "  X.18                         X.19                         \n",
       "1                                                           \n",
       "2 Yearly rolling \\n5 year mean Ratio past  year/5 year mean*\n",
       "3 12/09/2014                                                \n",
       "4 11/09/2019                                                \n",
       "5  153.6                        0.8                         \n",
       "6  6,057.8                      0.9                         \n",
       "  X.20                                \n",
       "1                                     \n",
       "2 Exceeds yearly rolling mean +2 SD by\n",
       "3                                     \n",
       "4                                     \n",
       "5  -                                  \n",
       "6  -                                  "
      ]
     },
     "metadata": {},
     "output_type": "display_data"
    },
    {
     "data": {
      "text/html": [
       "<table class=\"dataframe\">\n",
       "<caption>A data.frame: 6 × 2</caption>\n",
       "<thead>\n",
       "\t<tr><th></th><th scope=col>X</th><th scope=col>X.9</th></tr>\n",
       "\t<tr><th></th><th scope=col>&lt;chr&gt;</th><th scope=col>&lt;chr&gt;</th></tr>\n",
       "</thead>\n",
       "<tbody>\n",
       "\t<tr><th scope=row>1</th><td>                            </td><td>Totals for Australia </td></tr>\n",
       "\t<tr><th scope=row>2</th><td>Disease name                </td><td>This reporting period</td></tr>\n",
       "\t<tr><th scope=row>3</th><td>                            </td><td>29/08/2020           </td></tr>\n",
       "\t<tr><th scope=row>4</th><td>                            </td><td>11/09/2020           </td></tr>\n",
       "\t<tr><th scope=row>5</th><td>Hepatitis B (newly acquired)</td><td> 2                   </td></tr>\n",
       "\t<tr><th scope=row>6</th><td>Hepatitis B (unspecified)   </td><td> 151                 </td></tr>\n",
       "</tbody>\n",
       "</table>\n"
      ],
      "text/latex": [
       "A data.frame: 6 × 2\n",
       "\\begin{tabular}{r|ll}\n",
       "  & X & X.9\\\\\n",
       "  & <chr> & <chr>\\\\\n",
       "\\hline\n",
       "\t1 &                              & Totals for Australia \\\\\n",
       "\t2 & Disease name                 & This reporting period\\\\\n",
       "\t3 &                              & 29/08/2020           \\\\\n",
       "\t4 &                              & 11/09/2020           \\\\\n",
       "\t5 & Hepatitis B (newly acquired) &  2                   \\\\\n",
       "\t6 & Hepatitis B (unspecified)    &  151                 \\\\\n",
       "\\end{tabular}\n"
      ],
      "text/markdown": [
       "\n",
       "A data.frame: 6 × 2\n",
       "\n",
       "| <!--/--> | X &lt;chr&gt; | X.9 &lt;chr&gt; |\n",
       "|---|---|---|\n",
       "| 1 | <!----> | Totals for Australia  |\n",
       "| 2 | Disease name                 | This reporting period |\n",
       "| 3 | <!----> | 29/08/2020            |\n",
       "| 4 | <!----> | 11/09/2020            |\n",
       "| 5 | Hepatitis B (newly acquired) |  2                    |\n",
       "| 6 | Hepatitis B (unspecified)    |  151                  |\n",
       "\n"
      ],
      "text/plain": [
       "  X                            X.9                  \n",
       "1                              Totals for Australia \n",
       "2 Disease name                 This reporting period\n",
       "3                              29/08/2020           \n",
       "4                              11/09/2020           \n",
       "5 Hepatitis B (newly acquired)  2                   \n",
       "6 Hepatitis B (unspecified)     151                 "
      ]
     },
     "metadata": {},
     "output_type": "display_data"
    }
   ],
   "source": [
    "df = read.csv(\"29-august-to-11-september-2020-table.csv\", header=TRUE, stringsAsFactors=FALSE)\n",
    "head(df)\n",
    "\n",
    "df <- df[, -c(1,3:11, 13:23)]\n",
    "head(df)"
   ]
  },
  {
   "cell_type": "code",
   "execution_count": 80,
   "id": "0dfef4e1-8e34-4a3e-b967-a149009e99e6",
   "metadata": {},
   "outputs": [
    {
     "data": {
      "text/html": [
       "<table class=\"dataframe\">\n",
       "<caption>A data.frame: 1 × 2</caption>\n",
       "<thead>\n",
       "\t<tr><th></th><th scope=col>X</th><th scope=col>X.9</th></tr>\n",
       "\t<tr><th></th><th scope=col>&lt;chr&gt;</th><th scope=col>&lt;chr&gt;</th></tr>\n",
       "</thead>\n",
       "<tbody>\n",
       "\t<tr><th scope=row>40</th><td>Influenza (laboratory confirmed)</td><td> 37 </td></tr>\n",
       "</tbody>\n",
       "</table>\n"
      ],
      "text/latex": [
       "A data.frame: 1 × 2\n",
       "\\begin{tabular}{r|ll}\n",
       "  & X & X.9\\\\\n",
       "  & <chr> & <chr>\\\\\n",
       "\\hline\n",
       "\t40 & Influenza (laboratory confirmed) &  37 \\\\\n",
       "\\end{tabular}\n"
      ],
      "text/markdown": [
       "\n",
       "A data.frame: 1 × 2\n",
       "\n",
       "| <!--/--> | X &lt;chr&gt; | X.9 &lt;chr&gt; |\n",
       "|---|---|---|\n",
       "| 40 | Influenza (laboratory confirmed) |  37  |\n",
       "\n"
      ],
      "text/plain": [
       "   X                                X.9 \n",
       "40 Influenza (laboratory confirmed)  37 "
      ]
     },
     "metadata": {},
     "output_type": "display_data"
    },
    {
     "data": {
      "text/html": [
       "<table class=\"dataframe\">\n",
       "<caption>A data.frame: 1 × 2</caption>\n",
       "<thead>\n",
       "\t<tr><th></th><th scope=col>X</th><th scope=col>X.9</th></tr>\n",
       "\t<tr><th></th><th scope=col>&lt;chr&gt;</th><th scope=col>&lt;chr&gt;</th></tr>\n",
       "</thead>\n",
       "<tbody>\n",
       "\t<tr><th scope=row>23</th><td>COVID-19</td><td>1095</td></tr>\n",
       "</tbody>\n",
       "</table>\n"
      ],
      "text/latex": [
       "A data.frame: 1 × 2\n",
       "\\begin{tabular}{r|ll}\n",
       "  & X & X.9\\\\\n",
       "  & <chr> & <chr>\\\\\n",
       "\\hline\n",
       "\t23 & COVID-19 & 1095\\\\\n",
       "\\end{tabular}\n"
      ],
      "text/markdown": [
       "\n",
       "A data.frame: 1 × 2\n",
       "\n",
       "| <!--/--> | X &lt;chr&gt; | X.9 &lt;chr&gt; |\n",
       "|---|---|---|\n",
       "| 23 | COVID-19 | 1095 |\n",
       "\n"
      ],
      "text/plain": [
       "   X        X.9 \n",
       "23 COVID-19 1095"
      ]
     },
     "metadata": {},
     "output_type": "display_data"
    },
    {
     "data": {
      "text/html": [
       "<table class=\"dataframe\">\n",
       "<caption>A data.frame: 2 × 2</caption>\n",
       "<thead>\n",
       "\t<tr><th></th><th scope=col>X</th><th scope=col>X.9</th></tr>\n",
       "\t<tr><th></th><th scope=col>&lt;chr&gt;</th><th scope=col>&lt;chr&gt;</th></tr>\n",
       "</thead>\n",
       "<tbody>\n",
       "\t<tr><th scope=row>40</th><td>Influenza (laboratory confirmed)</td><td> 37 </td></tr>\n",
       "\t<tr><th scope=row>23</th><td>COVID-19                        </td><td>1095</td></tr>\n",
       "</tbody>\n",
       "</table>\n"
      ],
      "text/latex": [
       "A data.frame: 2 × 2\n",
       "\\begin{tabular}{r|ll}\n",
       "  & X & X.9\\\\\n",
       "  & <chr> & <chr>\\\\\n",
       "\\hline\n",
       "\t40 & Influenza (laboratory confirmed) &  37 \\\\\n",
       "\t23 & COVID-19                         & 1095\\\\\n",
       "\\end{tabular}\n"
      ],
      "text/markdown": [
       "\n",
       "A data.frame: 2 × 2\n",
       "\n",
       "| <!--/--> | X &lt;chr&gt; | X.9 &lt;chr&gt; |\n",
       "|---|---|---|\n",
       "| 40 | Influenza (laboratory confirmed) |  37  |\n",
       "| 23 | COVID-19                         | 1095 |\n",
       "\n"
      ],
      "text/plain": [
       "   X                                X.9 \n",
       "40 Influenza (laboratory confirmed)  37 \n",
       "23 COVID-19                         1095"
      ]
     },
     "metadata": {},
     "output_type": "display_data"
    }
   ],
   "source": [
    "#find the rows that contain the words influenza\n",
    "\n",
    "inf <- df[grep(\"Influenza\", df$X),]\n",
    "head(inf)\n",
    "covid <-  df[grep(\"COVID\", df$X),]\n",
    "covid\n",
    "AUG29_SEP11_2020 <- rbind(inf, covid)\n",
    "AUG29_SEP11_2020"
   ]
  },
  {
   "cell_type": "code",
   "execution_count": 81,
   "id": "b469337d-bb15-4417-9d03-b506d01449c8",
   "metadata": {},
   "outputs": [
    {
     "data": {
      "text/html": [
       "<table class=\"dataframe\">\n",
       "<caption>A data.frame: 2 × 2</caption>\n",
       "<thead>\n",
       "\t<tr><th></th><th scope=col>Disease</th><th scope=col>29AUG-11SEP-2020</th></tr>\n",
       "\t<tr><th></th><th scope=col>&lt;chr&gt;</th><th scope=col>&lt;dbl&gt;</th></tr>\n",
       "</thead>\n",
       "<tbody>\n",
       "\t<tr><th scope=row>40</th><td>Influenza (laboratory confirmed)</td><td>  37</td></tr>\n",
       "\t<tr><th scope=row>23</th><td>COVID-19                        </td><td>1095</td></tr>\n",
       "</tbody>\n",
       "</table>\n"
      ],
      "text/latex": [
       "A data.frame: 2 × 2\n",
       "\\begin{tabular}{r|ll}\n",
       "  & Disease & 29AUG-11SEP-2020\\\\\n",
       "  & <chr> & <dbl>\\\\\n",
       "\\hline\n",
       "\t40 & Influenza (laboratory confirmed) &   37\\\\\n",
       "\t23 & COVID-19                         & 1095\\\\\n",
       "\\end{tabular}\n"
      ],
      "text/markdown": [
       "\n",
       "A data.frame: 2 × 2\n",
       "\n",
       "| <!--/--> | Disease &lt;chr&gt; | 29AUG-11SEP-2020 &lt;dbl&gt; |\n",
       "|---|---|---|\n",
       "| 40 | Influenza (laboratory confirmed) |   37 |\n",
       "| 23 | COVID-19                         | 1095 |\n",
       "\n"
      ],
      "text/plain": [
       "   Disease                          29AUG-11SEP-2020\n",
       "40 Influenza (laboratory confirmed)   37            \n",
       "23 COVID-19                         1095            "
      ]
     },
     "metadata": {},
     "output_type": "display_data"
    }
   ],
   "source": [
    "AUG29_SEP11_2020[,2] <- as.numeric(AUG29_SEP11_2020[,2])\n",
    "colnames(AUG29_SEP11_2020) <- c(\"Disease\", \"29AUG-11SEP-2020\")\n",
    "AUG29_SEP11_2020"
   ]
  },
  {
   "cell_type": "code",
   "execution_count": null,
   "id": "b98e5bc5-5d9e-40d6-a917-dcd49221325a",
   "metadata": {},
   "outputs": [],
   "source": []
  },
  {
   "cell_type": "code",
   "execution_count": null,
   "id": "896fd59a-8459-4acf-8668-03e79bcca0b6",
   "metadata": {},
   "outputs": [],
   "source": [
    "#Next dataset 12-to-25-september-2020-table"
   ]
  },
  {
   "cell_type": "code",
   "execution_count": 82,
   "id": "fcf63355-eb2d-4b3c-82d8-ea6dcba1a039",
   "metadata": {},
   "outputs": [
    {
     "data": {
      "text/html": [
       "<table class=\"dataframe\">\n",
       "<caption>A data.frame: 6 × 23</caption>\n",
       "<thead>\n",
       "\t<tr><th></th><th scope=col>ADT.FN17.2020</th><th scope=col>X</th><th scope=col>X.1</th><th scope=col>Notification.received.date</th><th scope=col>X.2</th><th scope=col>X.3</th><th scope=col>X.4</th><th scope=col>X.5</th><th scope=col>X.6</th><th scope=col>X.7</th><th scope=col>⋯</th><th scope=col>X.11</th><th scope=col>X.12</th><th scope=col>X.13</th><th scope=col>X.14</th><th scope=col>X.15</th><th scope=col>X.16</th><th scope=col>X.17</th><th scope=col>X.18</th><th scope=col>X.19</th><th scope=col>X.20</th></tr>\n",
       "\t<tr><th></th><th scope=col>&lt;chr&gt;</th><th scope=col>&lt;chr&gt;</th><th scope=col>&lt;chr&gt;</th><th scope=col>&lt;chr&gt;</th><th scope=col>&lt;chr&gt;</th><th scope=col>&lt;chr&gt;</th><th scope=col>&lt;chr&gt;</th><th scope=col>&lt;chr&gt;</th><th scope=col>&lt;chr&gt;</th><th scope=col>&lt;chr&gt;</th><th scope=col>⋯</th><th scope=col>&lt;chr&gt;</th><th scope=col>&lt;chr&gt;</th><th scope=col>&lt;chr&gt;</th><th scope=col>&lt;chr&gt;</th><th scope=col>&lt;chr&gt;</th><th scope=col>&lt;chr&gt;</th><th scope=col>&lt;chr&gt;</th><th scope=col>&lt;chr&gt;</th><th scope=col>&lt;chr&gt;</th><th scope=col>&lt;chr&gt;</th></tr>\n",
       "</thead>\n",
       "<tbody>\n",
       "\t<tr><th scope=row>1</th><td>                   </td><td>                            </td><td>            </td><td>State or Territory</td><td>     </td><td>     </td><td>    </td><td>     </td><td>     </td><td>     </td><td>⋯</td><td>                               </td><td>                 </td><td>Historical 90 Day Period</td><td>                               </td><td>                               </td><td>                                       </td><td>Historical Yearly Period</td><td>                            </td><td>                             </td><td>                                    </td></tr>\n",
       "\t<tr><th scope=row>2</th><td>Disease group      </td><td>Disease name                </td><td>Disease code</td><td>ACT               </td><td>NSW  </td><td>NT   </td><td>Qld </td><td>SA   </td><td>Tas  </td><td>Vic  </td><td>⋯</td><td>Same reporting period last year</td><td>Current year\n",
       "YTD</td><td>Past Quarter            </td><td>Quarterly rolling \n",
       "5 year mean</td><td>Ratio past quarter/5 year mean*</td><td>Exceeds quarterly rolling mean +2 SD by</td><td>Past Year               </td><td>Yearly rolling \n",
       "5 year mean</td><td>Ratio past  year/5 year mean*</td><td>Exceeds yearly rolling mean +2 SD by</td></tr>\n",
       "\t<tr><th scope=row>3</th><td>                   </td><td>                            </td><td>            </td><td>                  </td><td>     </td><td>     </td><td>    </td><td>     </td><td>     </td><td>     </td><td>⋯</td><td>15/08/2019                     </td><td>01/01/2020       </td><td>31/05/2020              </td><td>                               </td><td>                               </td><td>                                       </td><td>29/08/2019              </td><td>29/08/2014                  </td><td>                             </td><td>                                    </td></tr>\n",
       "\t<tr><th scope=row>4</th><td>                   </td><td>                            </td><td>            </td><td>                  </td><td>     </td><td>     </td><td>    </td><td>     </td><td>     </td><td>     </td><td>⋯</td><td>28/08/2019                     </td><td>28/08/2020       </td><td>28/08/2020              </td><td>                               </td><td>                               </td><td>                                       </td><td>28/08/2020              </td><td>28/08/2019                  </td><td>                             </td><td>                                    </td></tr>\n",
       "\t<tr><th scope=row>5</th><td>Bloodborne diseases</td><td>Hepatitis B (newly acquired)</td><td>039         </td><td> -                </td><td> -   </td><td> -   </td><td> 1  </td><td> -   </td><td> -   </td><td> -   </td><td>⋯</td><td> 4                             </td><td> 77              </td><td> 22                     </td><td> 38.2                          </td><td> 0.6                           </td><td> -                                     </td><td> 129                    </td><td> 154.4                      </td><td> 0.8                         </td><td> -                                  </td></tr>\n",
       "\t<tr><th scope=row>6</th><td>                   </td><td>Hepatitis B (unspecified)   </td><td>052         </td><td> 5                </td><td> 88  </td><td> 1   </td><td> 39 </td><td> -   </td><td> 2   </td><td> 34  </td><td>⋯</td><td> 240                           </td><td> 3,394           </td><td> 1,326                  </td><td> 1,503.0                       </td><td> 0.9                           </td><td> -                                     </td><td> 5,215                  </td><td> 6,076.6                    </td><td> 0.9                         </td><td> -                                  </td></tr>\n",
       "</tbody>\n",
       "</table>\n"
      ],
      "text/latex": [
       "A data.frame: 6 × 23\n",
       "\\begin{tabular}{r|lllllllllllllllllllll}\n",
       "  & ADT.FN17.2020 & X & X.1 & Notification.received.date & X.2 & X.3 & X.4 & X.5 & X.6 & X.7 & ⋯ & X.11 & X.12 & X.13 & X.14 & X.15 & X.16 & X.17 & X.18 & X.19 & X.20\\\\\n",
       "  & <chr> & <chr> & <chr> & <chr> & <chr> & <chr> & <chr> & <chr> & <chr> & <chr> & ⋯ & <chr> & <chr> & <chr> & <chr> & <chr> & <chr> & <chr> & <chr> & <chr> & <chr>\\\\\n",
       "\\hline\n",
       "\t1 &                     &                              &              & State or Territory &       &       &      &       &       &       & ⋯ &                                 &                   & Historical 90 Day Period &                                 &                                 &                                         & Historical Yearly Period &                              &                               &                                     \\\\\n",
       "\t2 & Disease group       & Disease name                 & Disease code & ACT                & NSW   & NT    & Qld  & SA    & Tas   & Vic   & ⋯ & Same reporting period last year & Current year\n",
       "YTD & Past Quarter             & Quarterly rolling \n",
       "5 year mean & Ratio past quarter/5 year mean* & Exceeds quarterly rolling mean +2 SD by & Past Year                & Yearly rolling \n",
       "5 year mean & Ratio past  year/5 year mean* & Exceeds yearly rolling mean +2 SD by\\\\\n",
       "\t3 &                     &                              &              &                    &       &       &      &       &       &       & ⋯ & 15/08/2019                      & 01/01/2020        & 31/05/2020               &                                 &                                 &                                         & 29/08/2019               & 29/08/2014                   &                               &                                     \\\\\n",
       "\t4 &                     &                              &              &                    &       &       &      &       &       &       & ⋯ & 28/08/2019                      & 28/08/2020        & 28/08/2020               &                                 &                                 &                                         & 28/08/2020               & 28/08/2019                   &                               &                                     \\\\\n",
       "\t5 & Bloodborne diseases & Hepatitis B (newly acquired) & 039          &  -                 &  -    &  -    &  1   &  -    &  -    &  -    & ⋯ &  4                              &  77               &  22                      &  38.2                           &  0.6                            &  -                                      &  129                     &  154.4                       &  0.8                          &  -                                  \\\\\n",
       "\t6 &                     & Hepatitis B (unspecified)    & 052          &  5                 &  88   &  1    &  39  &  -    &  2    &  34   & ⋯ &  240                            &  3,394            &  1,326                   &  1,503.0                        &  0.9                            &  -                                      &  5,215                   &  6,076.6                     &  0.9                          &  -                                  \\\\\n",
       "\\end{tabular}\n"
      ],
      "text/markdown": [
       "\n",
       "A data.frame: 6 × 23\n",
       "\n",
       "| <!--/--> | ADT.FN17.2020 &lt;chr&gt; | X &lt;chr&gt; | X.1 &lt;chr&gt; | Notification.received.date &lt;chr&gt; | X.2 &lt;chr&gt; | X.3 &lt;chr&gt; | X.4 &lt;chr&gt; | X.5 &lt;chr&gt; | X.6 &lt;chr&gt; | X.7 &lt;chr&gt; | ⋯ ⋯ | X.11 &lt;chr&gt; | X.12 &lt;chr&gt; | X.13 &lt;chr&gt; | X.14 &lt;chr&gt; | X.15 &lt;chr&gt; | X.16 &lt;chr&gt; | X.17 &lt;chr&gt; | X.18 &lt;chr&gt; | X.19 &lt;chr&gt; | X.20 &lt;chr&gt; |\n",
       "|---|---|---|---|---|---|---|---|---|---|---|---|---|---|---|---|---|---|---|---|---|---|\n",
       "| 1 | <!----> | <!----> | <!----> | State or Territory | <!----> | <!----> | <!----> | <!----> | <!----> | <!----> | ⋯ | <!----> | <!----> | Historical 90 Day Period | <!----> | <!----> | <!----> | Historical Yearly Period | <!----> | <!----> | <!----> |\n",
       "| 2 | Disease group       | Disease name                 | Disease code | ACT                | NSW   | NT    | Qld  | SA    | Tas   | Vic   | ⋯ | Same reporting period last year | Current year\n",
       "YTD | Past Quarter             | Quarterly rolling \n",
       "5 year mean | Ratio past quarter/5 year mean* | Exceeds quarterly rolling mean +2 SD by | Past Year                | Yearly rolling \n",
       "5 year mean | Ratio past  year/5 year mean* | Exceeds yearly rolling mean +2 SD by |\n",
       "| 3 | <!----> | <!----> | <!----> | <!----> | <!----> | <!----> | <!----> | <!----> | <!----> | <!----> | ⋯ | 15/08/2019                      | 01/01/2020        | 31/05/2020               | <!----> | <!----> | <!----> | 29/08/2019               | 29/08/2014                   | <!----> | <!----> |\n",
       "| 4 | <!----> | <!----> | <!----> | <!----> | <!----> | <!----> | <!----> | <!----> | <!----> | <!----> | ⋯ | 28/08/2019                      | 28/08/2020        | 28/08/2020               | <!----> | <!----> | <!----> | 28/08/2020               | 28/08/2019                   | <!----> | <!----> |\n",
       "| 5 | Bloodborne diseases | Hepatitis B (newly acquired) | 039          |  -                 |  -    |  -    |  1   |  -    |  -    |  -    | ⋯ |  4                              |  77               |  22                      |  38.2                           |  0.6                            |  -                                      |  129                     |  154.4                       |  0.8                          |  -                                   |\n",
       "| 6 | <!----> | Hepatitis B (unspecified)    | 052          |  5                 |  88   |  1    |  39  |  -    |  2    |  34   | ⋯ |  240                            |  3,394            |  1,326                   |  1,503.0                        |  0.9                            |  -                                      |  5,215                   |  6,076.6                     |  0.9                          |  -                                   |\n",
       "\n"
      ],
      "text/plain": [
       "  ADT.FN17.2020       X                            X.1         \n",
       "1                                                              \n",
       "2 Disease group       Disease name                 Disease code\n",
       "3                                                              \n",
       "4                                                              \n",
       "5 Bloodborne diseases Hepatitis B (newly acquired) 039         \n",
       "6                     Hepatitis B (unspecified)    052         \n",
       "  Notification.received.date X.2   X.3   X.4  X.5   X.6   X.7   ⋯\n",
       "1 State or Territory                                            ⋯\n",
       "2 ACT                        NSW   NT    Qld  SA    Tas   Vic   ⋯\n",
       "3                                                               ⋯\n",
       "4                                                               ⋯\n",
       "5  -                          -     -     1    -     -     -    ⋯\n",
       "6  5                          88    1     39   -     2     34   ⋯\n",
       "  X.11                            X.12              X.13                    \n",
       "1                                                   Historical 90 Day Period\n",
       "2 Same reporting period last year Current year\\nYTD Past Quarter            \n",
       "3 15/08/2019                      01/01/2020        31/05/2020              \n",
       "4 28/08/2019                      28/08/2020        28/08/2020              \n",
       "5  4                               77                22                     \n",
       "6  240                             3,394             1,326                  \n",
       "  X.14                            X.15                           \n",
       "1                                                                \n",
       "2 Quarterly rolling \\n5 year mean Ratio past quarter/5 year mean*\n",
       "3                                                                \n",
       "4                                                                \n",
       "5  38.2                            0.6                           \n",
       "6  1,503.0                         0.9                           \n",
       "  X.16                                    X.17                    \n",
       "1                                         Historical Yearly Period\n",
       "2 Exceeds quarterly rolling mean +2 SD by Past Year               \n",
       "3                                         29/08/2019              \n",
       "4                                         28/08/2020              \n",
       "5  -                                       129                    \n",
       "6  -                                       5,215                  \n",
       "  X.18                         X.19                         \n",
       "1                                                           \n",
       "2 Yearly rolling \\n5 year mean Ratio past  year/5 year mean*\n",
       "3 29/08/2014                                                \n",
       "4 28/08/2019                                                \n",
       "5  154.4                        0.8                         \n",
       "6  6,076.6                      0.9                         \n",
       "  X.20                                \n",
       "1                                     \n",
       "2 Exceeds yearly rolling mean +2 SD by\n",
       "3                                     \n",
       "4                                     \n",
       "5  -                                  \n",
       "6  -                                  "
      ]
     },
     "metadata": {},
     "output_type": "display_data"
    },
    {
     "data": {
      "text/html": [
       "<table class=\"dataframe\">\n",
       "<caption>A data.frame: 6 × 2</caption>\n",
       "<thead>\n",
       "\t<tr><th></th><th scope=col>X</th><th scope=col>X.9</th></tr>\n",
       "\t<tr><th></th><th scope=col>&lt;chr&gt;</th><th scope=col>&lt;chr&gt;</th></tr>\n",
       "</thead>\n",
       "<tbody>\n",
       "\t<tr><th scope=row>1</th><td>                            </td><td>Totals for Australia </td></tr>\n",
       "\t<tr><th scope=row>2</th><td>Disease name                </td><td>This reporting period</td></tr>\n",
       "\t<tr><th scope=row>3</th><td>                            </td><td>12/09/2020           </td></tr>\n",
       "\t<tr><th scope=row>4</th><td>                            </td><td>25/09/2020           </td></tr>\n",
       "\t<tr><th scope=row>5</th><td>Hepatitis B (newly acquired)</td><td> 2                   </td></tr>\n",
       "\t<tr><th scope=row>6</th><td>Hepatitis B (unspecified)   </td><td> 195                 </td></tr>\n",
       "</tbody>\n",
       "</table>\n"
      ],
      "text/latex": [
       "A data.frame: 6 × 2\n",
       "\\begin{tabular}{r|ll}\n",
       "  & X & X.9\\\\\n",
       "  & <chr> & <chr>\\\\\n",
       "\\hline\n",
       "\t1 &                              & Totals for Australia \\\\\n",
       "\t2 & Disease name                 & This reporting period\\\\\n",
       "\t3 &                              & 12/09/2020           \\\\\n",
       "\t4 &                              & 25/09/2020           \\\\\n",
       "\t5 & Hepatitis B (newly acquired) &  2                   \\\\\n",
       "\t6 & Hepatitis B (unspecified)    &  195                 \\\\\n",
       "\\end{tabular}\n"
      ],
      "text/markdown": [
       "\n",
       "A data.frame: 6 × 2\n",
       "\n",
       "| <!--/--> | X &lt;chr&gt; | X.9 &lt;chr&gt; |\n",
       "|---|---|---|\n",
       "| 1 | <!----> | Totals for Australia  |\n",
       "| 2 | Disease name                 | This reporting period |\n",
       "| 3 | <!----> | 12/09/2020            |\n",
       "| 4 | <!----> | 25/09/2020            |\n",
       "| 5 | Hepatitis B (newly acquired) |  2                    |\n",
       "| 6 | Hepatitis B (unspecified)    |  195                  |\n",
       "\n"
      ],
      "text/plain": [
       "  X                            X.9                  \n",
       "1                              Totals for Australia \n",
       "2 Disease name                 This reporting period\n",
       "3                              12/09/2020           \n",
       "4                              25/09/2020           \n",
       "5 Hepatitis B (newly acquired)  2                   \n",
       "6 Hepatitis B (unspecified)     195                 "
      ]
     },
     "metadata": {},
     "output_type": "display_data"
    }
   ],
   "source": [
    "df = read.csv(\"12-to-25-september-2020-table.csv\", header=TRUE, stringsAsFactors=FALSE)\n",
    "head(df)\n",
    "\n",
    "df <- df[, -c(1,3:11, 13:23)]\n",
    "head(df)"
   ]
  },
  {
   "cell_type": "code",
   "execution_count": 83,
   "id": "17a9e6fe-1bbe-44e8-9ec0-1f362f13b2ad",
   "metadata": {},
   "outputs": [
    {
     "data": {
      "text/html": [
       "<table class=\"dataframe\">\n",
       "<caption>A data.frame: 1 × 2</caption>\n",
       "<thead>\n",
       "\t<tr><th></th><th scope=col>X</th><th scope=col>X.9</th></tr>\n",
       "\t<tr><th></th><th scope=col>&lt;chr&gt;</th><th scope=col>&lt;chr&gt;</th></tr>\n",
       "</thead>\n",
       "<tbody>\n",
       "\t<tr><th scope=row>40</th><td>Influenza (laboratory confirmed)</td><td> 39 </td></tr>\n",
       "</tbody>\n",
       "</table>\n"
      ],
      "text/latex": [
       "A data.frame: 1 × 2\n",
       "\\begin{tabular}{r|ll}\n",
       "  & X & X.9\\\\\n",
       "  & <chr> & <chr>\\\\\n",
       "\\hline\n",
       "\t40 & Influenza (laboratory confirmed) &  39 \\\\\n",
       "\\end{tabular}\n"
      ],
      "text/markdown": [
       "\n",
       "A data.frame: 1 × 2\n",
       "\n",
       "| <!--/--> | X &lt;chr&gt; | X.9 &lt;chr&gt; |\n",
       "|---|---|---|\n",
       "| 40 | Influenza (laboratory confirmed) |  39  |\n",
       "\n"
      ],
      "text/plain": [
       "   X                                X.9 \n",
       "40 Influenza (laboratory confirmed)  39 "
      ]
     },
     "metadata": {},
     "output_type": "display_data"
    },
    {
     "data": {
      "text/html": [
       "<table class=\"dataframe\">\n",
       "<caption>A data.frame: 1 × 2</caption>\n",
       "<thead>\n",
       "\t<tr><th></th><th scope=col>X</th><th scope=col>X.9</th></tr>\n",
       "\t<tr><th></th><th scope=col>&lt;chr&gt;</th><th scope=col>&lt;chr&gt;</th></tr>\n",
       "</thead>\n",
       "<tbody>\n",
       "\t<tr><th scope=row>23</th><td>COVID-19</td><td>420</td></tr>\n",
       "</tbody>\n",
       "</table>\n"
      ],
      "text/latex": [
       "A data.frame: 1 × 2\n",
       "\\begin{tabular}{r|ll}\n",
       "  & X & X.9\\\\\n",
       "  & <chr> & <chr>\\\\\n",
       "\\hline\n",
       "\t23 & COVID-19 & 420\\\\\n",
       "\\end{tabular}\n"
      ],
      "text/markdown": [
       "\n",
       "A data.frame: 1 × 2\n",
       "\n",
       "| <!--/--> | X &lt;chr&gt; | X.9 &lt;chr&gt; |\n",
       "|---|---|---|\n",
       "| 23 | COVID-19 | 420 |\n",
       "\n"
      ],
      "text/plain": [
       "   X        X.9\n",
       "23 COVID-19 420"
      ]
     },
     "metadata": {},
     "output_type": "display_data"
    },
    {
     "data": {
      "text/html": [
       "<table class=\"dataframe\">\n",
       "<caption>A data.frame: 2 × 2</caption>\n",
       "<thead>\n",
       "\t<tr><th></th><th scope=col>X</th><th scope=col>X.9</th></tr>\n",
       "\t<tr><th></th><th scope=col>&lt;chr&gt;</th><th scope=col>&lt;chr&gt;</th></tr>\n",
       "</thead>\n",
       "<tbody>\n",
       "\t<tr><th scope=row>40</th><td>Influenza (laboratory confirmed)</td><td> 39 </td></tr>\n",
       "\t<tr><th scope=row>23</th><td>COVID-19                        </td><td>420 </td></tr>\n",
       "</tbody>\n",
       "</table>\n"
      ],
      "text/latex": [
       "A data.frame: 2 × 2\n",
       "\\begin{tabular}{r|ll}\n",
       "  & X & X.9\\\\\n",
       "  & <chr> & <chr>\\\\\n",
       "\\hline\n",
       "\t40 & Influenza (laboratory confirmed) &  39 \\\\\n",
       "\t23 & COVID-19                         & 420 \\\\\n",
       "\\end{tabular}\n"
      ],
      "text/markdown": [
       "\n",
       "A data.frame: 2 × 2\n",
       "\n",
       "| <!--/--> | X &lt;chr&gt; | X.9 &lt;chr&gt; |\n",
       "|---|---|---|\n",
       "| 40 | Influenza (laboratory confirmed) |  39  |\n",
       "| 23 | COVID-19                         | 420  |\n",
       "\n"
      ],
      "text/plain": [
       "   X                                X.9 \n",
       "40 Influenza (laboratory confirmed)  39 \n",
       "23 COVID-19                         420 "
      ]
     },
     "metadata": {},
     "output_type": "display_data"
    }
   ],
   "source": [
    "#find the rows that contain the words influenza\n",
    "\n",
    "inf <- df[grep(\"Influenza\", df$X),]\n",
    "head(inf)\n",
    "covid <-  df[grep(\"COVID\", df$X),]\n",
    "covid\n",
    "SEP12_SEP25_2020 <- rbind(inf, covid)\n",
    "SEP12_SEP25_2020"
   ]
  },
  {
   "cell_type": "code",
   "execution_count": 84,
   "id": "c14f01ed-3743-419f-a9b1-967fdbad29f2",
   "metadata": {},
   "outputs": [
    {
     "data": {
      "text/html": [
       "<table class=\"dataframe\">\n",
       "<caption>A data.frame: 2 × 2</caption>\n",
       "<thead>\n",
       "\t<tr><th></th><th scope=col>Disease</th><th scope=col>12SEP-25SEP-2020</th></tr>\n",
       "\t<tr><th></th><th scope=col>&lt;chr&gt;</th><th scope=col>&lt;dbl&gt;</th></tr>\n",
       "</thead>\n",
       "<tbody>\n",
       "\t<tr><th scope=row>40</th><td>Influenza (laboratory confirmed)</td><td> 39</td></tr>\n",
       "\t<tr><th scope=row>23</th><td>COVID-19                        </td><td>420</td></tr>\n",
       "</tbody>\n",
       "</table>\n"
      ],
      "text/latex": [
       "A data.frame: 2 × 2\n",
       "\\begin{tabular}{r|ll}\n",
       "  & Disease & 12SEP-25SEP-2020\\\\\n",
       "  & <chr> & <dbl>\\\\\n",
       "\\hline\n",
       "\t40 & Influenza (laboratory confirmed) &  39\\\\\n",
       "\t23 & COVID-19                         & 420\\\\\n",
       "\\end{tabular}\n"
      ],
      "text/markdown": [
       "\n",
       "A data.frame: 2 × 2\n",
       "\n",
       "| <!--/--> | Disease &lt;chr&gt; | 12SEP-25SEP-2020 &lt;dbl&gt; |\n",
       "|---|---|---|\n",
       "| 40 | Influenza (laboratory confirmed) |  39 |\n",
       "| 23 | COVID-19                         | 420 |\n",
       "\n"
      ],
      "text/plain": [
       "   Disease                          12SEP-25SEP-2020\n",
       "40 Influenza (laboratory confirmed)  39             \n",
       "23 COVID-19                         420             "
      ]
     },
     "metadata": {},
     "output_type": "display_data"
    }
   ],
   "source": [
    "SEP12_SEP25_2020[,2] <- as.numeric(SEP12_SEP25_2020[,2])\n",
    "colnames(SEP12_SEP25_2020) <- c(\"Disease\", \"12SEP-25SEP-2020\")\n",
    "SEP12_SEP25_2020"
   ]
  },
  {
   "cell_type": "code",
   "execution_count": null,
   "id": "642ab25e-161a-4c8e-8b3a-65f87e8f163a",
   "metadata": {},
   "outputs": [],
   "source": []
  },
  {
   "cell_type": "code",
   "execution_count": null,
   "id": "05ef7d8d-4ce7-498d-8964-6cb5a78d719c",
   "metadata": {},
   "outputs": [],
   "source": [
    "#Next dataset 26-september-to-9-october-2020-table"
   ]
  },
  {
   "cell_type": "code",
   "execution_count": 85,
   "id": "35963a52-0fe5-4a01-a04b-ca7893b1449d",
   "metadata": {},
   "outputs": [
    {
     "data": {
      "text/html": [
       "<table class=\"dataframe\">\n",
       "<caption>A data.frame: 6 × 23</caption>\n",
       "<thead>\n",
       "\t<tr><th></th><th scope=col>ADT.FN20.2020</th><th scope=col>X</th><th scope=col>X.1</th><th scope=col>Notification.received.date</th><th scope=col>X.2</th><th scope=col>X.3</th><th scope=col>X.4</th><th scope=col>X.5</th><th scope=col>X.6</th><th scope=col>X.7</th><th scope=col>⋯</th><th scope=col>X.11</th><th scope=col>X.12</th><th scope=col>X.13</th><th scope=col>X.14</th><th scope=col>X.15</th><th scope=col>X.16</th><th scope=col>X.17</th><th scope=col>X.18</th><th scope=col>X.19</th><th scope=col>X.20</th></tr>\n",
       "\t<tr><th></th><th scope=col>&lt;chr&gt;</th><th scope=col>&lt;chr&gt;</th><th scope=col>&lt;chr&gt;</th><th scope=col>&lt;chr&gt;</th><th scope=col>&lt;chr&gt;</th><th scope=col>&lt;chr&gt;</th><th scope=col>&lt;chr&gt;</th><th scope=col>&lt;chr&gt;</th><th scope=col>&lt;chr&gt;</th><th scope=col>&lt;chr&gt;</th><th scope=col>⋯</th><th scope=col>&lt;chr&gt;</th><th scope=col>&lt;chr&gt;</th><th scope=col>&lt;chr&gt;</th><th scope=col>&lt;chr&gt;</th><th scope=col>&lt;chr&gt;</th><th scope=col>&lt;chr&gt;</th><th scope=col>&lt;chr&gt;</th><th scope=col>&lt;chr&gt;</th><th scope=col>&lt;chr&gt;</th><th scope=col>&lt;chr&gt;</th></tr>\n",
       "</thead>\n",
       "<tbody>\n",
       "\t<tr><th scope=row>1</th><td>                   </td><td>                            </td><td>            </td><td>State or Territory</td><td>     </td><td>     </td><td>    </td><td>     </td><td>   </td><td>     </td><td>⋯</td><td>                               </td><td>                 </td><td>Historical 90 Day Period</td><td>                               </td><td>                               </td><td>                                       </td><td>Historical Yearly Period</td><td>                            </td><td>                             </td><td>                                    </td></tr>\n",
       "\t<tr><th scope=row>2</th><td>Disease group      </td><td>Disease name                </td><td>Disease code</td><td>ACT               </td><td>NSW  </td><td>NT   </td><td>Qld </td><td>SA   </td><td>Tas</td><td>Vic  </td><td>⋯</td><td>Same reporting period last year</td><td>Current year\n",
       "YTD</td><td>Past Quarter            </td><td>Quarterly rolling \n",
       "5 year mean</td><td>Ratio past quarter/5 year mean*</td><td>Exceeds quarterly rolling mean +2 SD by</td><td>Past Year               </td><td>Yearly rolling \n",
       "5 year mean</td><td>Ratio past  year/5 year mean*</td><td>Exceeds yearly rolling mean +2 SD by</td></tr>\n",
       "\t<tr><th scope=row>3</th><td>                   </td><td>                            </td><td>            </td><td>                  </td><td>     </td><td>     </td><td>    </td><td>     </td><td>   </td><td>     </td><td>⋯</td><td>26/09/2019                     </td><td>01/01/2020       </td><td>12/07/2020              </td><td>                               </td><td>                               </td><td>                                       </td><td>10/10/2019              </td><td>10/10/2014                  </td><td>                             </td><td>                                    </td></tr>\n",
       "\t<tr><th scope=row>4</th><td>                   </td><td>                            </td><td>            </td><td>                  </td><td>     </td><td>     </td><td>    </td><td>     </td><td>   </td><td>     </td><td>⋯</td><td>09/10/2019                     </td><td>09/10/2020       </td><td>09/10/2020              </td><td>                               </td><td>                               </td><td>                                       </td><td>09/10/2020              </td><td>09/10/2019                  </td><td>                             </td><td>                                    </td></tr>\n",
       "\t<tr><th scope=row>5</th><td>Bloodborne diseases</td><td>Hepatitis B (newly acquired)</td><td>039         </td><td> -                </td><td> -   </td><td> -   </td><td> 1  </td><td> -   </td><td> 1 </td><td> -   </td><td>⋯</td><td> 5                             </td><td> 84              </td><td> 19                     </td><td> 35.2                          </td><td> 0.5                           </td><td> -                                     </td><td> 120                    </td><td> 152.8                      </td><td> 0.8                         </td><td> -                                  </td></tr>\n",
       "\t<tr><th scope=row>6</th><td>                   </td><td>Hepatitis B (unspecified)   </td><td>052         </td><td> -                </td><td> 53  </td><td> 4   </td><td> 21 </td><td> 4   </td><td> 2 </td><td> 31  </td><td>⋯</td><td> 204                           </td><td> 3,893           </td><td> 1,181                  </td><td> 1,505.2                       </td><td> 0.8                           </td><td> -                                     </td><td> 5,077                  </td><td> 6,040.6                    </td><td> 0.8                         </td><td> -                                  </td></tr>\n",
       "</tbody>\n",
       "</table>\n"
      ],
      "text/latex": [
       "A data.frame: 6 × 23\n",
       "\\begin{tabular}{r|lllllllllllllllllllll}\n",
       "  & ADT.FN20.2020 & X & X.1 & Notification.received.date & X.2 & X.3 & X.4 & X.5 & X.6 & X.7 & ⋯ & X.11 & X.12 & X.13 & X.14 & X.15 & X.16 & X.17 & X.18 & X.19 & X.20\\\\\n",
       "  & <chr> & <chr> & <chr> & <chr> & <chr> & <chr> & <chr> & <chr> & <chr> & <chr> & ⋯ & <chr> & <chr> & <chr> & <chr> & <chr> & <chr> & <chr> & <chr> & <chr> & <chr>\\\\\n",
       "\\hline\n",
       "\t1 &                     &                              &              & State or Territory &       &       &      &       &     &       & ⋯ &                                 &                   & Historical 90 Day Period &                                 &                                 &                                         & Historical Yearly Period &                              &                               &                                     \\\\\n",
       "\t2 & Disease group       & Disease name                 & Disease code & ACT                & NSW   & NT    & Qld  & SA    & Tas & Vic   & ⋯ & Same reporting period last year & Current year\n",
       "YTD & Past Quarter             & Quarterly rolling \n",
       "5 year mean & Ratio past quarter/5 year mean* & Exceeds quarterly rolling mean +2 SD by & Past Year                & Yearly rolling \n",
       "5 year mean & Ratio past  year/5 year mean* & Exceeds yearly rolling mean +2 SD by\\\\\n",
       "\t3 &                     &                              &              &                    &       &       &      &       &     &       & ⋯ & 26/09/2019                      & 01/01/2020        & 12/07/2020               &                                 &                                 &                                         & 10/10/2019               & 10/10/2014                   &                               &                                     \\\\\n",
       "\t4 &                     &                              &              &                    &       &       &      &       &     &       & ⋯ & 09/10/2019                      & 09/10/2020        & 09/10/2020               &                                 &                                 &                                         & 09/10/2020               & 09/10/2019                   &                               &                                     \\\\\n",
       "\t5 & Bloodborne diseases & Hepatitis B (newly acquired) & 039          &  -                 &  -    &  -    &  1   &  -    &  1  &  -    & ⋯ &  5                              &  84               &  19                      &  35.2                           &  0.5                            &  -                                      &  120                     &  152.8                       &  0.8                          &  -                                  \\\\\n",
       "\t6 &                     & Hepatitis B (unspecified)    & 052          &  -                 &  53   &  4    &  21  &  4    &  2  &  31   & ⋯ &  204                            &  3,893            &  1,181                   &  1,505.2                        &  0.8                            &  -                                      &  5,077                   &  6,040.6                     &  0.8                          &  -                                  \\\\\n",
       "\\end{tabular}\n"
      ],
      "text/markdown": [
       "\n",
       "A data.frame: 6 × 23\n",
       "\n",
       "| <!--/--> | ADT.FN20.2020 &lt;chr&gt; | X &lt;chr&gt; | X.1 &lt;chr&gt; | Notification.received.date &lt;chr&gt; | X.2 &lt;chr&gt; | X.3 &lt;chr&gt; | X.4 &lt;chr&gt; | X.5 &lt;chr&gt; | X.6 &lt;chr&gt; | X.7 &lt;chr&gt; | ⋯ ⋯ | X.11 &lt;chr&gt; | X.12 &lt;chr&gt; | X.13 &lt;chr&gt; | X.14 &lt;chr&gt; | X.15 &lt;chr&gt; | X.16 &lt;chr&gt; | X.17 &lt;chr&gt; | X.18 &lt;chr&gt; | X.19 &lt;chr&gt; | X.20 &lt;chr&gt; |\n",
       "|---|---|---|---|---|---|---|---|---|---|---|---|---|---|---|---|---|---|---|---|---|---|\n",
       "| 1 | <!----> | <!----> | <!----> | State or Territory | <!----> | <!----> | <!----> | <!----> | <!----> | <!----> | ⋯ | <!----> | <!----> | Historical 90 Day Period | <!----> | <!----> | <!----> | Historical Yearly Period | <!----> | <!----> | <!----> |\n",
       "| 2 | Disease group       | Disease name                 | Disease code | ACT                | NSW   | NT    | Qld  | SA    | Tas | Vic   | ⋯ | Same reporting period last year | Current year\n",
       "YTD | Past Quarter             | Quarterly rolling \n",
       "5 year mean | Ratio past quarter/5 year mean* | Exceeds quarterly rolling mean +2 SD by | Past Year                | Yearly rolling \n",
       "5 year mean | Ratio past  year/5 year mean* | Exceeds yearly rolling mean +2 SD by |\n",
       "| 3 | <!----> | <!----> | <!----> | <!----> | <!----> | <!----> | <!----> | <!----> | <!----> | <!----> | ⋯ | 26/09/2019                      | 01/01/2020        | 12/07/2020               | <!----> | <!----> | <!----> | 10/10/2019               | 10/10/2014                   | <!----> | <!----> |\n",
       "| 4 | <!----> | <!----> | <!----> | <!----> | <!----> | <!----> | <!----> | <!----> | <!----> | <!----> | ⋯ | 09/10/2019                      | 09/10/2020        | 09/10/2020               | <!----> | <!----> | <!----> | 09/10/2020               | 09/10/2019                   | <!----> | <!----> |\n",
       "| 5 | Bloodborne diseases | Hepatitis B (newly acquired) | 039          |  -                 |  -    |  -    |  1   |  -    |  1  |  -    | ⋯ |  5                              |  84               |  19                      |  35.2                           |  0.5                            |  -                                      |  120                     |  152.8                       |  0.8                          |  -                                   |\n",
       "| 6 | <!----> | Hepatitis B (unspecified)    | 052          |  -                 |  53   |  4    |  21  |  4    |  2  |  31   | ⋯ |  204                            |  3,893            |  1,181                   |  1,505.2                        |  0.8                            |  -                                      |  5,077                   |  6,040.6                     |  0.8                          |  -                                   |\n",
       "\n"
      ],
      "text/plain": [
       "  ADT.FN20.2020       X                            X.1         \n",
       "1                                                              \n",
       "2 Disease group       Disease name                 Disease code\n",
       "3                                                              \n",
       "4                                                              \n",
       "5 Bloodborne diseases Hepatitis B (newly acquired) 039         \n",
       "6                     Hepatitis B (unspecified)    052         \n",
       "  Notification.received.date X.2   X.3   X.4  X.5   X.6 X.7   ⋯\n",
       "1 State or Territory                                          ⋯\n",
       "2 ACT                        NSW   NT    Qld  SA    Tas Vic   ⋯\n",
       "3                                                             ⋯\n",
       "4                                                             ⋯\n",
       "5  -                          -     -     1    -     1   -    ⋯\n",
       "6  -                          53    4     21   4     2   31   ⋯\n",
       "  X.11                            X.12              X.13                    \n",
       "1                                                   Historical 90 Day Period\n",
       "2 Same reporting period last year Current year\\nYTD Past Quarter            \n",
       "3 26/09/2019                      01/01/2020        12/07/2020              \n",
       "4 09/10/2019                      09/10/2020        09/10/2020              \n",
       "5  5                               84                19                     \n",
       "6  204                             3,893             1,181                  \n",
       "  X.14                            X.15                           \n",
       "1                                                                \n",
       "2 Quarterly rolling \\n5 year mean Ratio past quarter/5 year mean*\n",
       "3                                                                \n",
       "4                                                                \n",
       "5  35.2                            0.5                           \n",
       "6  1,505.2                         0.8                           \n",
       "  X.16                                    X.17                    \n",
       "1                                         Historical Yearly Period\n",
       "2 Exceeds quarterly rolling mean +2 SD by Past Year               \n",
       "3                                         10/10/2019              \n",
       "4                                         09/10/2020              \n",
       "5  -                                       120                    \n",
       "6  -                                       5,077                  \n",
       "  X.18                         X.19                         \n",
       "1                                                           \n",
       "2 Yearly rolling \\n5 year mean Ratio past  year/5 year mean*\n",
       "3 10/10/2014                                                \n",
       "4 09/10/2019                                                \n",
       "5  152.8                        0.8                         \n",
       "6  6,040.6                      0.8                         \n",
       "  X.20                                \n",
       "1                                     \n",
       "2 Exceeds yearly rolling mean +2 SD by\n",
       "3                                     \n",
       "4                                     \n",
       "5  -                                  \n",
       "6  -                                  "
      ]
     },
     "metadata": {},
     "output_type": "display_data"
    },
    {
     "data": {
      "text/html": [
       "<table class=\"dataframe\">\n",
       "<caption>A data.frame: 6 × 2</caption>\n",
       "<thead>\n",
       "\t<tr><th></th><th scope=col>X</th><th scope=col>X.9</th></tr>\n",
       "\t<tr><th></th><th scope=col>&lt;chr&gt;</th><th scope=col>&lt;chr&gt;</th></tr>\n",
       "</thead>\n",
       "<tbody>\n",
       "\t<tr><th scope=row>1</th><td>                            </td><td>Totals for Australia </td></tr>\n",
       "\t<tr><th scope=row>2</th><td>Disease name                </td><td>This reporting period</td></tr>\n",
       "\t<tr><th scope=row>3</th><td>                            </td><td>26/09/2020           </td></tr>\n",
       "\t<tr><th scope=row>4</th><td>                            </td><td>09/10/2020           </td></tr>\n",
       "\t<tr><th scope=row>5</th><td>Hepatitis B (newly acquired)</td><td> 2                   </td></tr>\n",
       "\t<tr><th scope=row>6</th><td>Hepatitis B (unspecified)   </td><td> 136                 </td></tr>\n",
       "</tbody>\n",
       "</table>\n"
      ],
      "text/latex": [
       "A data.frame: 6 × 2\n",
       "\\begin{tabular}{r|ll}\n",
       "  & X & X.9\\\\\n",
       "  & <chr> & <chr>\\\\\n",
       "\\hline\n",
       "\t1 &                              & Totals for Australia \\\\\n",
       "\t2 & Disease name                 & This reporting period\\\\\n",
       "\t3 &                              & 26/09/2020           \\\\\n",
       "\t4 &                              & 09/10/2020           \\\\\n",
       "\t5 & Hepatitis B (newly acquired) &  2                   \\\\\n",
       "\t6 & Hepatitis B (unspecified)    &  136                 \\\\\n",
       "\\end{tabular}\n"
      ],
      "text/markdown": [
       "\n",
       "A data.frame: 6 × 2\n",
       "\n",
       "| <!--/--> | X &lt;chr&gt; | X.9 &lt;chr&gt; |\n",
       "|---|---|---|\n",
       "| 1 | <!----> | Totals for Australia  |\n",
       "| 2 | Disease name                 | This reporting period |\n",
       "| 3 | <!----> | 26/09/2020            |\n",
       "| 4 | <!----> | 09/10/2020            |\n",
       "| 5 | Hepatitis B (newly acquired) |  2                    |\n",
       "| 6 | Hepatitis B (unspecified)    |  136                  |\n",
       "\n"
      ],
      "text/plain": [
       "  X                            X.9                  \n",
       "1                              Totals for Australia \n",
       "2 Disease name                 This reporting period\n",
       "3                              26/09/2020           \n",
       "4                              09/10/2020           \n",
       "5 Hepatitis B (newly acquired)  2                   \n",
       "6 Hepatitis B (unspecified)     136                 "
      ]
     },
     "metadata": {},
     "output_type": "display_data"
    }
   ],
   "source": [
    "df = read.csv(\"26-september-to-9-october-2020-table.csv\", header=TRUE, stringsAsFactors=FALSE)\n",
    "head(df)\n",
    "\n",
    "df <- df[, -c(1,3:11, 13:23)]\n",
    "head(df)"
   ]
  },
  {
   "cell_type": "code",
   "execution_count": 86,
   "id": "36d28f6e-4a72-42ee-9e6e-6e6da64edfe8",
   "metadata": {},
   "outputs": [
    {
     "data": {
      "text/html": [
       "<table class=\"dataframe\">\n",
       "<caption>A data.frame: 1 × 2</caption>\n",
       "<thead>\n",
       "\t<tr><th></th><th scope=col>X</th><th scope=col>X.9</th></tr>\n",
       "\t<tr><th></th><th scope=col>&lt;chr&gt;</th><th scope=col>&lt;chr&gt;</th></tr>\n",
       "</thead>\n",
       "<tbody>\n",
       "\t<tr><th scope=row>40</th><td>Influenza (laboratory confirmed)</td><td> 22 </td></tr>\n",
       "</tbody>\n",
       "</table>\n"
      ],
      "text/latex": [
       "A data.frame: 1 × 2\n",
       "\\begin{tabular}{r|ll}\n",
       "  & X & X.9\\\\\n",
       "  & <chr> & <chr>\\\\\n",
       "\\hline\n",
       "\t40 & Influenza (laboratory confirmed) &  22 \\\\\n",
       "\\end{tabular}\n"
      ],
      "text/markdown": [
       "\n",
       "A data.frame: 1 × 2\n",
       "\n",
       "| <!--/--> | X &lt;chr&gt; | X.9 &lt;chr&gt; |\n",
       "|---|---|---|\n",
       "| 40 | Influenza (laboratory confirmed) |  22  |\n",
       "\n"
      ],
      "text/plain": [
       "   X                                X.9 \n",
       "40 Influenza (laboratory confirmed)  22 "
      ]
     },
     "metadata": {},
     "output_type": "display_data"
    },
    {
     "data": {
      "text/html": [
       "<table class=\"dataframe\">\n",
       "<caption>A data.frame: 1 × 2</caption>\n",
       "<thead>\n",
       "\t<tr><th></th><th scope=col>X</th><th scope=col>X.9</th></tr>\n",
       "\t<tr><th></th><th scope=col>&lt;chr&gt;</th><th scope=col>&lt;chr&gt;</th></tr>\n",
       "</thead>\n",
       "<tbody>\n",
       "\t<tr><th scope=row>23</th><td>COVID-19</td><td> 228 </td></tr>\n",
       "</tbody>\n",
       "</table>\n"
      ],
      "text/latex": [
       "A data.frame: 1 × 2\n",
       "\\begin{tabular}{r|ll}\n",
       "  & X & X.9\\\\\n",
       "  & <chr> & <chr>\\\\\n",
       "\\hline\n",
       "\t23 & COVID-19 &  228 \\\\\n",
       "\\end{tabular}\n"
      ],
      "text/markdown": [
       "\n",
       "A data.frame: 1 × 2\n",
       "\n",
       "| <!--/--> | X &lt;chr&gt; | X.9 &lt;chr&gt; |\n",
       "|---|---|---|\n",
       "| 23 | COVID-19 |  228  |\n",
       "\n"
      ],
      "text/plain": [
       "   X        X.9  \n",
       "23 COVID-19  228 "
      ]
     },
     "metadata": {},
     "output_type": "display_data"
    },
    {
     "data": {
      "text/html": [
       "<table class=\"dataframe\">\n",
       "<caption>A data.frame: 2 × 2</caption>\n",
       "<thead>\n",
       "\t<tr><th></th><th scope=col>X</th><th scope=col>X.9</th></tr>\n",
       "\t<tr><th></th><th scope=col>&lt;chr&gt;</th><th scope=col>&lt;chr&gt;</th></tr>\n",
       "</thead>\n",
       "<tbody>\n",
       "\t<tr><th scope=row>40</th><td>Influenza (laboratory confirmed)</td><td> 22  </td></tr>\n",
       "\t<tr><th scope=row>23</th><td>COVID-19                        </td><td> 228 </td></tr>\n",
       "</tbody>\n",
       "</table>\n"
      ],
      "text/latex": [
       "A data.frame: 2 × 2\n",
       "\\begin{tabular}{r|ll}\n",
       "  & X & X.9\\\\\n",
       "  & <chr> & <chr>\\\\\n",
       "\\hline\n",
       "\t40 & Influenza (laboratory confirmed) &  22  \\\\\n",
       "\t23 & COVID-19                         &  228 \\\\\n",
       "\\end{tabular}\n"
      ],
      "text/markdown": [
       "\n",
       "A data.frame: 2 × 2\n",
       "\n",
       "| <!--/--> | X &lt;chr&gt; | X.9 &lt;chr&gt; |\n",
       "|---|---|---|\n",
       "| 40 | Influenza (laboratory confirmed) |  22   |\n",
       "| 23 | COVID-19                         |  228  |\n",
       "\n"
      ],
      "text/plain": [
       "   X                                X.9  \n",
       "40 Influenza (laboratory confirmed)  22  \n",
       "23 COVID-19                          228 "
      ]
     },
     "metadata": {},
     "output_type": "display_data"
    }
   ],
   "source": [
    "#find the rows that contain the words influenza\n",
    "\n",
    "inf <- df[grep(\"Influenza\", df$X),]\n",
    "head(inf)\n",
    "covid <-  df[grep(\"COVID\", df$X),]\n",
    "covid\n",
    "SEP26_OCT09_2020 <- rbind(inf, covid)\n",
    "SEP26_OCT09_2020"
   ]
  },
  {
   "cell_type": "code",
   "execution_count": 87,
   "id": "ed050d65-003b-4f46-8c23-e122208c8905",
   "metadata": {},
   "outputs": [
    {
     "data": {
      "text/html": [
       "<table class=\"dataframe\">\n",
       "<caption>A data.frame: 2 × 2</caption>\n",
       "<thead>\n",
       "\t<tr><th></th><th scope=col>Disease</th><th scope=col>26SEP-09OCT-2020</th></tr>\n",
       "\t<tr><th></th><th scope=col>&lt;chr&gt;</th><th scope=col>&lt;dbl&gt;</th></tr>\n",
       "</thead>\n",
       "<tbody>\n",
       "\t<tr><th scope=row>40</th><td>Influenza (laboratory confirmed)</td><td> 22</td></tr>\n",
       "\t<tr><th scope=row>23</th><td>COVID-19                        </td><td>228</td></tr>\n",
       "</tbody>\n",
       "</table>\n"
      ],
      "text/latex": [
       "A data.frame: 2 × 2\n",
       "\\begin{tabular}{r|ll}\n",
       "  & Disease & 26SEP-09OCT-2020\\\\\n",
       "  & <chr> & <dbl>\\\\\n",
       "\\hline\n",
       "\t40 & Influenza (laboratory confirmed) &  22\\\\\n",
       "\t23 & COVID-19                         & 228\\\\\n",
       "\\end{tabular}\n"
      ],
      "text/markdown": [
       "\n",
       "A data.frame: 2 × 2\n",
       "\n",
       "| <!--/--> | Disease &lt;chr&gt; | 26SEP-09OCT-2020 &lt;dbl&gt; |\n",
       "|---|---|---|\n",
       "| 40 | Influenza (laboratory confirmed) |  22 |\n",
       "| 23 | COVID-19                         | 228 |\n",
       "\n"
      ],
      "text/plain": [
       "   Disease                          26SEP-09OCT-2020\n",
       "40 Influenza (laboratory confirmed)  22             \n",
       "23 COVID-19                         228             "
      ]
     },
     "metadata": {},
     "output_type": "display_data"
    }
   ],
   "source": [
    "SEP26_OCT09_2020[,2] <- as.numeric(SEP26_OCT09_2020[,2])\n",
    "colnames(SEP26_OCT09_2020) <- c(\"Disease\", \"26SEP-09OCT-2020\")\n",
    "SEP26_OCT09_2020"
   ]
  },
  {
   "cell_type": "code",
   "execution_count": null,
   "id": "cc29bf6a-190f-40eb-91dd-4c152e6a5cf0",
   "metadata": {},
   "outputs": [],
   "source": []
  },
  {
   "cell_type": "code",
   "execution_count": null,
   "id": "94f32632-0d69-403c-91fb-87724495fb4d",
   "metadata": {},
   "outputs": [],
   "source": [
    "#Next Dataset 10-to-25-october-2020-table"
   ]
  },
  {
   "cell_type": "code",
   "execution_count": 88,
   "id": "ee75107e-bfd6-4bcf-acf9-e607780b6573",
   "metadata": {},
   "outputs": [
    {
     "data": {
      "text/html": [
       "<table class=\"dataframe\">\n",
       "<caption>A data.frame: 6 × 23</caption>\n",
       "<thead>\n",
       "\t<tr><th></th><th scope=col>ADT.FN21.2020</th><th scope=col>X</th><th scope=col>X.1</th><th scope=col>Notification.received.date</th><th scope=col>X.2</th><th scope=col>X.3</th><th scope=col>X.4</th><th scope=col>X.5</th><th scope=col>X.6</th><th scope=col>X.7</th><th scope=col>⋯</th><th scope=col>X.11</th><th scope=col>X.12</th><th scope=col>X.13</th><th scope=col>X.14</th><th scope=col>X.15</th><th scope=col>X.16</th><th scope=col>X.17</th><th scope=col>X.18</th><th scope=col>X.19</th><th scope=col>X.20</th></tr>\n",
       "\t<tr><th></th><th scope=col>&lt;chr&gt;</th><th scope=col>&lt;chr&gt;</th><th scope=col>&lt;chr&gt;</th><th scope=col>&lt;chr&gt;</th><th scope=col>&lt;chr&gt;</th><th scope=col>&lt;chr&gt;</th><th scope=col>&lt;chr&gt;</th><th scope=col>&lt;chr&gt;</th><th scope=col>&lt;chr&gt;</th><th scope=col>&lt;chr&gt;</th><th scope=col>⋯</th><th scope=col>&lt;chr&gt;</th><th scope=col>&lt;chr&gt;</th><th scope=col>&lt;chr&gt;</th><th scope=col>&lt;chr&gt;</th><th scope=col>&lt;chr&gt;</th><th scope=col>&lt;chr&gt;</th><th scope=col>&lt;chr&gt;</th><th scope=col>&lt;chr&gt;</th><th scope=col>&lt;chr&gt;</th><th scope=col>&lt;chr&gt;</th></tr>\n",
       "</thead>\n",
       "<tbody>\n",
       "\t<tr><th scope=row>1</th><td>                   </td><td>                            </td><td>            </td><td>State or Territory</td><td>     </td><td>     </td><td>    </td><td>     </td><td>     </td><td>     </td><td>⋯</td><td>                               </td><td>                 </td><td>Historical 90 Day Period</td><td>                               </td><td>                               </td><td>                                       </td><td>Historical Yearly Period</td><td>                            </td><td>                             </td><td>                                    </td></tr>\n",
       "\t<tr><th scope=row>2</th><td>Disease group      </td><td>Disease name                </td><td>Disease code</td><td>ACT               </td><td>NSW  </td><td>NT   </td><td>Qld </td><td>SA   </td><td>Tas  </td><td>Vic  </td><td>⋯</td><td>Same reporting period last year</td><td>Current year\n",
       "YTD</td><td>Past Quarter            </td><td>Quarterly rolling \n",
       "5 year mean</td><td>Ratio past quarter/5 year mean*</td><td>Exceeds quarterly rolling mean +2 SD by</td><td>Past Year               </td><td>Yearly rolling \n",
       "5 year mean</td><td>Ratio past  year/5 year mean*</td><td>Exceeds yearly rolling mean +2 SD by</td></tr>\n",
       "\t<tr><th scope=row>3</th><td>                   </td><td>                            </td><td>            </td><td>                  </td><td>     </td><td>     </td><td>    </td><td>     </td><td>     </td><td>     </td><td>⋯</td><td>10/10/2019                     </td><td>01/01/2020       </td><td>28/07/2020              </td><td>                               </td><td>                               </td><td>                                       </td><td>26/10/2019              </td><td>26/10/2014                  </td><td>                             </td><td>                                    </td></tr>\n",
       "\t<tr><th scope=row>4</th><td>                   </td><td>                            </td><td>            </td><td>                  </td><td>     </td><td>     </td><td>    </td><td>     </td><td>     </td><td>     </td><td>⋯</td><td>25/10/2019                     </td><td>25/10/2020       </td><td>25/10/2020              </td><td>                               </td><td>                               </td><td>                                       </td><td>25/10/2020              </td><td>25/10/2019                  </td><td>                             </td><td>                                    </td></tr>\n",
       "\t<tr><th scope=row>5</th><td>Bloodborne diseases</td><td>Hepatitis B (newly acquired)</td><td>039         </td><td> -                </td><td> -   </td><td> -   </td><td> 1  </td><td> -   </td><td> -   </td><td> -   </td><td>⋯</td><td> 9                             </td><td> 85              </td><td> 15                     </td><td> 35.8                          </td><td> 0.4                           </td><td> -                                     </td><td> 112                    </td><td> 152.8                      </td><td> 0.7                         </td><td> -                                  </td></tr>\n",
       "\t<tr><th scope=row>6</th><td>                   </td><td>Hepatitis B (unspecified)   </td><td>052         </td><td> 3                </td><td> 78  </td><td> -   </td><td> 33 </td><td> 3   </td><td> -   </td><td> 27  </td><td>⋯</td><td> 288                           </td><td> 4,100           </td><td> 1,174                  </td><td> 1,516.6                       </td><td> 0.8                           </td><td> -                                     </td><td> 4,996                  </td><td> 6,042.8                    </td><td> 0.8                         </td><td> -                                  </td></tr>\n",
       "</tbody>\n",
       "</table>\n"
      ],
      "text/latex": [
       "A data.frame: 6 × 23\n",
       "\\begin{tabular}{r|lllllllllllllllllllll}\n",
       "  & ADT.FN21.2020 & X & X.1 & Notification.received.date & X.2 & X.3 & X.4 & X.5 & X.6 & X.7 & ⋯ & X.11 & X.12 & X.13 & X.14 & X.15 & X.16 & X.17 & X.18 & X.19 & X.20\\\\\n",
       "  & <chr> & <chr> & <chr> & <chr> & <chr> & <chr> & <chr> & <chr> & <chr> & <chr> & ⋯ & <chr> & <chr> & <chr> & <chr> & <chr> & <chr> & <chr> & <chr> & <chr> & <chr>\\\\\n",
       "\\hline\n",
       "\t1 &                     &                              &              & State or Territory &       &       &      &       &       &       & ⋯ &                                 &                   & Historical 90 Day Period &                                 &                                 &                                         & Historical Yearly Period &                              &                               &                                     \\\\\n",
       "\t2 & Disease group       & Disease name                 & Disease code & ACT                & NSW   & NT    & Qld  & SA    & Tas   & Vic   & ⋯ & Same reporting period last year & Current year\n",
       "YTD & Past Quarter             & Quarterly rolling \n",
       "5 year mean & Ratio past quarter/5 year mean* & Exceeds quarterly rolling mean +2 SD by & Past Year                & Yearly rolling \n",
       "5 year mean & Ratio past  year/5 year mean* & Exceeds yearly rolling mean +2 SD by\\\\\n",
       "\t3 &                     &                              &              &                    &       &       &      &       &       &       & ⋯ & 10/10/2019                      & 01/01/2020        & 28/07/2020               &                                 &                                 &                                         & 26/10/2019               & 26/10/2014                   &                               &                                     \\\\\n",
       "\t4 &                     &                              &              &                    &       &       &      &       &       &       & ⋯ & 25/10/2019                      & 25/10/2020        & 25/10/2020               &                                 &                                 &                                         & 25/10/2020               & 25/10/2019                   &                               &                                     \\\\\n",
       "\t5 & Bloodborne diseases & Hepatitis B (newly acquired) & 039          &  -                 &  -    &  -    &  1   &  -    &  -    &  -    & ⋯ &  9                              &  85               &  15                      &  35.8                           &  0.4                            &  -                                      &  112                     &  152.8                       &  0.7                          &  -                                  \\\\\n",
       "\t6 &                     & Hepatitis B (unspecified)    & 052          &  3                 &  78   &  -    &  33  &  3    &  -    &  27   & ⋯ &  288                            &  4,100            &  1,174                   &  1,516.6                        &  0.8                            &  -                                      &  4,996                   &  6,042.8                     &  0.8                          &  -                                  \\\\\n",
       "\\end{tabular}\n"
      ],
      "text/markdown": [
       "\n",
       "A data.frame: 6 × 23\n",
       "\n",
       "| <!--/--> | ADT.FN21.2020 &lt;chr&gt; | X &lt;chr&gt; | X.1 &lt;chr&gt; | Notification.received.date &lt;chr&gt; | X.2 &lt;chr&gt; | X.3 &lt;chr&gt; | X.4 &lt;chr&gt; | X.5 &lt;chr&gt; | X.6 &lt;chr&gt; | X.7 &lt;chr&gt; | ⋯ ⋯ | X.11 &lt;chr&gt; | X.12 &lt;chr&gt; | X.13 &lt;chr&gt; | X.14 &lt;chr&gt; | X.15 &lt;chr&gt; | X.16 &lt;chr&gt; | X.17 &lt;chr&gt; | X.18 &lt;chr&gt; | X.19 &lt;chr&gt; | X.20 &lt;chr&gt; |\n",
       "|---|---|---|---|---|---|---|---|---|---|---|---|---|---|---|---|---|---|---|---|---|---|\n",
       "| 1 | <!----> | <!----> | <!----> | State or Territory | <!----> | <!----> | <!----> | <!----> | <!----> | <!----> | ⋯ | <!----> | <!----> | Historical 90 Day Period | <!----> | <!----> | <!----> | Historical Yearly Period | <!----> | <!----> | <!----> |\n",
       "| 2 | Disease group       | Disease name                 | Disease code | ACT                | NSW   | NT    | Qld  | SA    | Tas   | Vic   | ⋯ | Same reporting period last year | Current year\n",
       "YTD | Past Quarter             | Quarterly rolling \n",
       "5 year mean | Ratio past quarter/5 year mean* | Exceeds quarterly rolling mean +2 SD by | Past Year                | Yearly rolling \n",
       "5 year mean | Ratio past  year/5 year mean* | Exceeds yearly rolling mean +2 SD by |\n",
       "| 3 | <!----> | <!----> | <!----> | <!----> | <!----> | <!----> | <!----> | <!----> | <!----> | <!----> | ⋯ | 10/10/2019                      | 01/01/2020        | 28/07/2020               | <!----> | <!----> | <!----> | 26/10/2019               | 26/10/2014                   | <!----> | <!----> |\n",
       "| 4 | <!----> | <!----> | <!----> | <!----> | <!----> | <!----> | <!----> | <!----> | <!----> | <!----> | ⋯ | 25/10/2019                      | 25/10/2020        | 25/10/2020               | <!----> | <!----> | <!----> | 25/10/2020               | 25/10/2019                   | <!----> | <!----> |\n",
       "| 5 | Bloodborne diseases | Hepatitis B (newly acquired) | 039          |  -                 |  -    |  -    |  1   |  -    |  -    |  -    | ⋯ |  9                              |  85               |  15                      |  35.8                           |  0.4                            |  -                                      |  112                     |  152.8                       |  0.7                          |  -                                   |\n",
       "| 6 | <!----> | Hepatitis B (unspecified)    | 052          |  3                 |  78   |  -    |  33  |  3    |  -    |  27   | ⋯ |  288                            |  4,100            |  1,174                   |  1,516.6                        |  0.8                            |  -                                      |  4,996                   |  6,042.8                     |  0.8                          |  -                                   |\n",
       "\n"
      ],
      "text/plain": [
       "  ADT.FN21.2020       X                            X.1         \n",
       "1                                                              \n",
       "2 Disease group       Disease name                 Disease code\n",
       "3                                                              \n",
       "4                                                              \n",
       "5 Bloodborne diseases Hepatitis B (newly acquired) 039         \n",
       "6                     Hepatitis B (unspecified)    052         \n",
       "  Notification.received.date X.2   X.3   X.4  X.5   X.6   X.7   ⋯\n",
       "1 State or Territory                                            ⋯\n",
       "2 ACT                        NSW   NT    Qld  SA    Tas   Vic   ⋯\n",
       "3                                                               ⋯\n",
       "4                                                               ⋯\n",
       "5  -                          -     -     1    -     -     -    ⋯\n",
       "6  3                          78    -     33   3     -     27   ⋯\n",
       "  X.11                            X.12              X.13                    \n",
       "1                                                   Historical 90 Day Period\n",
       "2 Same reporting period last year Current year\\nYTD Past Quarter            \n",
       "3 10/10/2019                      01/01/2020        28/07/2020              \n",
       "4 25/10/2019                      25/10/2020        25/10/2020              \n",
       "5  9                               85                15                     \n",
       "6  288                             4,100             1,174                  \n",
       "  X.14                            X.15                           \n",
       "1                                                                \n",
       "2 Quarterly rolling \\n5 year mean Ratio past quarter/5 year mean*\n",
       "3                                                                \n",
       "4                                                                \n",
       "5  35.8                            0.4                           \n",
       "6  1,516.6                         0.8                           \n",
       "  X.16                                    X.17                    \n",
       "1                                         Historical Yearly Period\n",
       "2 Exceeds quarterly rolling mean +2 SD by Past Year               \n",
       "3                                         26/10/2019              \n",
       "4                                         25/10/2020              \n",
       "5  -                                       112                    \n",
       "6  -                                       4,996                  \n",
       "  X.18                         X.19                         \n",
       "1                                                           \n",
       "2 Yearly rolling \\n5 year mean Ratio past  year/5 year mean*\n",
       "3 26/10/2014                                                \n",
       "4 25/10/2019                                                \n",
       "5  152.8                        0.7                         \n",
       "6  6,042.8                      0.8                         \n",
       "  X.20                                \n",
       "1                                     \n",
       "2 Exceeds yearly rolling mean +2 SD by\n",
       "3                                     \n",
       "4                                     \n",
       "5  -                                  \n",
       "6  -                                  "
      ]
     },
     "metadata": {},
     "output_type": "display_data"
    },
    {
     "data": {
      "text/html": [
       "<table class=\"dataframe\">\n",
       "<caption>A data.frame: 6 × 2</caption>\n",
       "<thead>\n",
       "\t<tr><th></th><th scope=col>X</th><th scope=col>X.9</th></tr>\n",
       "\t<tr><th></th><th scope=col>&lt;chr&gt;</th><th scope=col>&lt;chr&gt;</th></tr>\n",
       "</thead>\n",
       "<tbody>\n",
       "\t<tr><th scope=row>1</th><td>                            </td><td>Totals for Australia </td></tr>\n",
       "\t<tr><th scope=row>2</th><td>Disease name                </td><td>This reporting period</td></tr>\n",
       "\t<tr><th scope=row>3</th><td>                            </td><td>10/10/2020           </td></tr>\n",
       "\t<tr><th scope=row>4</th><td>                            </td><td>25/10/2020           </td></tr>\n",
       "\t<tr><th scope=row>5</th><td>Hepatitis B (newly acquired)</td><td> 1                   </td></tr>\n",
       "\t<tr><th scope=row>6</th><td>Hepatitis B (unspecified)   </td><td> 174                 </td></tr>\n",
       "</tbody>\n",
       "</table>\n"
      ],
      "text/latex": [
       "A data.frame: 6 × 2\n",
       "\\begin{tabular}{r|ll}\n",
       "  & X & X.9\\\\\n",
       "  & <chr> & <chr>\\\\\n",
       "\\hline\n",
       "\t1 &                              & Totals for Australia \\\\\n",
       "\t2 & Disease name                 & This reporting period\\\\\n",
       "\t3 &                              & 10/10/2020           \\\\\n",
       "\t4 &                              & 25/10/2020           \\\\\n",
       "\t5 & Hepatitis B (newly acquired) &  1                   \\\\\n",
       "\t6 & Hepatitis B (unspecified)    &  174                 \\\\\n",
       "\\end{tabular}\n"
      ],
      "text/markdown": [
       "\n",
       "A data.frame: 6 × 2\n",
       "\n",
       "| <!--/--> | X &lt;chr&gt; | X.9 &lt;chr&gt; |\n",
       "|---|---|---|\n",
       "| 1 | <!----> | Totals for Australia  |\n",
       "| 2 | Disease name                 | This reporting period |\n",
       "| 3 | <!----> | 10/10/2020            |\n",
       "| 4 | <!----> | 25/10/2020            |\n",
       "| 5 | Hepatitis B (newly acquired) |  1                    |\n",
       "| 6 | Hepatitis B (unspecified)    |  174                  |\n",
       "\n"
      ],
      "text/plain": [
       "  X                            X.9                  \n",
       "1                              Totals for Australia \n",
       "2 Disease name                 This reporting period\n",
       "3                              10/10/2020           \n",
       "4                              25/10/2020           \n",
       "5 Hepatitis B (newly acquired)  1                   \n",
       "6 Hepatitis B (unspecified)     174                 "
      ]
     },
     "metadata": {},
     "output_type": "display_data"
    }
   ],
   "source": [
    "df = read.csv(\"10-to-25-october-2020-table.csv\", header=TRUE, stringsAsFactors=FALSE)\n",
    "head(df)\n",
    "\n",
    "df <- df[, -c(1,3:11, 13:23)]\n",
    "head(df)"
   ]
  },
  {
   "cell_type": "code",
   "execution_count": 89,
   "id": "39f07b1a-e807-49d0-a18c-84049dd7e4cc",
   "metadata": {},
   "outputs": [
    {
     "data": {
      "text/html": [
       "<table class=\"dataframe\">\n",
       "<caption>A data.frame: 1 × 2</caption>\n",
       "<thead>\n",
       "\t<tr><th></th><th scope=col>X</th><th scope=col>X.9</th></tr>\n",
       "\t<tr><th></th><th scope=col>&lt;chr&gt;</th><th scope=col>&lt;chr&gt;</th></tr>\n",
       "</thead>\n",
       "<tbody>\n",
       "\t<tr><th scope=row>40</th><td>Influenza (laboratory confirmed)</td><td> 11 </td></tr>\n",
       "</tbody>\n",
       "</table>\n"
      ],
      "text/latex": [
       "A data.frame: 1 × 2\n",
       "\\begin{tabular}{r|ll}\n",
       "  & X & X.9\\\\\n",
       "  & <chr> & <chr>\\\\\n",
       "\\hline\n",
       "\t40 & Influenza (laboratory confirmed) &  11 \\\\\n",
       "\\end{tabular}\n"
      ],
      "text/markdown": [
       "\n",
       "A data.frame: 1 × 2\n",
       "\n",
       "| <!--/--> | X &lt;chr&gt; | X.9 &lt;chr&gt; |\n",
       "|---|---|---|\n",
       "| 40 | Influenza (laboratory confirmed) |  11  |\n",
       "\n"
      ],
      "text/plain": [
       "   X                                X.9 \n",
       "40 Influenza (laboratory confirmed)  11 "
      ]
     },
     "metadata": {},
     "output_type": "display_data"
    },
    {
     "data": {
      "text/html": [
       "<table class=\"dataframe\">\n",
       "<caption>A data.frame: 1 × 2</caption>\n",
       "<thead>\n",
       "\t<tr><th></th><th scope=col>X</th><th scope=col>X.9</th></tr>\n",
       "\t<tr><th></th><th scope=col>&lt;chr&gt;</th><th scope=col>&lt;chr&gt;</th></tr>\n",
       "</thead>\n",
       "<tbody>\n",
       "\t<tr><th scope=row>23</th><td>COVID-19</td><td> 283 </td></tr>\n",
       "</tbody>\n",
       "</table>\n"
      ],
      "text/latex": [
       "A data.frame: 1 × 2\n",
       "\\begin{tabular}{r|ll}\n",
       "  & X & X.9\\\\\n",
       "  & <chr> & <chr>\\\\\n",
       "\\hline\n",
       "\t23 & COVID-19 &  283 \\\\\n",
       "\\end{tabular}\n"
      ],
      "text/markdown": [
       "\n",
       "A data.frame: 1 × 2\n",
       "\n",
       "| <!--/--> | X &lt;chr&gt; | X.9 &lt;chr&gt; |\n",
       "|---|---|---|\n",
       "| 23 | COVID-19 |  283  |\n",
       "\n"
      ],
      "text/plain": [
       "   X        X.9  \n",
       "23 COVID-19  283 "
      ]
     },
     "metadata": {},
     "output_type": "display_data"
    },
    {
     "data": {
      "text/html": [
       "<table class=\"dataframe\">\n",
       "<caption>A data.frame: 2 × 2</caption>\n",
       "<thead>\n",
       "\t<tr><th></th><th scope=col>X</th><th scope=col>X.9</th></tr>\n",
       "\t<tr><th></th><th scope=col>&lt;chr&gt;</th><th scope=col>&lt;chr&gt;</th></tr>\n",
       "</thead>\n",
       "<tbody>\n",
       "\t<tr><th scope=row>40</th><td>Influenza (laboratory confirmed)</td><td> 11  </td></tr>\n",
       "\t<tr><th scope=row>23</th><td>COVID-19                        </td><td> 283 </td></tr>\n",
       "</tbody>\n",
       "</table>\n"
      ],
      "text/latex": [
       "A data.frame: 2 × 2\n",
       "\\begin{tabular}{r|ll}\n",
       "  & X & X.9\\\\\n",
       "  & <chr> & <chr>\\\\\n",
       "\\hline\n",
       "\t40 & Influenza (laboratory confirmed) &  11  \\\\\n",
       "\t23 & COVID-19                         &  283 \\\\\n",
       "\\end{tabular}\n"
      ],
      "text/markdown": [
       "\n",
       "A data.frame: 2 × 2\n",
       "\n",
       "| <!--/--> | X &lt;chr&gt; | X.9 &lt;chr&gt; |\n",
       "|---|---|---|\n",
       "| 40 | Influenza (laboratory confirmed) |  11   |\n",
       "| 23 | COVID-19                         |  283  |\n",
       "\n"
      ],
      "text/plain": [
       "   X                                X.9  \n",
       "40 Influenza (laboratory confirmed)  11  \n",
       "23 COVID-19                          283 "
      ]
     },
     "metadata": {},
     "output_type": "display_data"
    }
   ],
   "source": [
    "#find the rows that contain the words influenza\n",
    "\n",
    "inf <- df[grep(\"Influenza\", df$X),]\n",
    "head(inf)\n",
    "covid <-  df[grep(\"COVID\", df$X),]\n",
    "covid\n",
    "OCT10_OCT25_2020 <- rbind(inf, covid)\n",
    "OCT10_OCT25_2020"
   ]
  },
  {
   "cell_type": "code",
   "execution_count": 90,
   "id": "b3226b5a-4416-4859-80e4-b12108d1665b",
   "metadata": {},
   "outputs": [
    {
     "data": {
      "text/html": [
       "<table class=\"dataframe\">\n",
       "<caption>A data.frame: 2 × 2</caption>\n",
       "<thead>\n",
       "\t<tr><th></th><th scope=col>Disease</th><th scope=col>10OCT-25OCT-2020</th></tr>\n",
       "\t<tr><th></th><th scope=col>&lt;chr&gt;</th><th scope=col>&lt;dbl&gt;</th></tr>\n",
       "</thead>\n",
       "<tbody>\n",
       "\t<tr><th scope=row>40</th><td>Influenza (laboratory confirmed)</td><td> 11</td></tr>\n",
       "\t<tr><th scope=row>23</th><td>COVID-19                        </td><td>283</td></tr>\n",
       "</tbody>\n",
       "</table>\n"
      ],
      "text/latex": [
       "A data.frame: 2 × 2\n",
       "\\begin{tabular}{r|ll}\n",
       "  & Disease & 10OCT-25OCT-2020\\\\\n",
       "  & <chr> & <dbl>\\\\\n",
       "\\hline\n",
       "\t40 & Influenza (laboratory confirmed) &  11\\\\\n",
       "\t23 & COVID-19                         & 283\\\\\n",
       "\\end{tabular}\n"
      ],
      "text/markdown": [
       "\n",
       "A data.frame: 2 × 2\n",
       "\n",
       "| <!--/--> | Disease &lt;chr&gt; | 10OCT-25OCT-2020 &lt;dbl&gt; |\n",
       "|---|---|---|\n",
       "| 40 | Influenza (laboratory confirmed) |  11 |\n",
       "| 23 | COVID-19                         | 283 |\n",
       "\n"
      ],
      "text/plain": [
       "   Disease                          10OCT-25OCT-2020\n",
       "40 Influenza (laboratory confirmed)  11             \n",
       "23 COVID-19                         283             "
      ]
     },
     "metadata": {},
     "output_type": "display_data"
    }
   ],
   "source": [
    "OCT10_OCT25_2020[,2] <- as.numeric(OCT10_OCT25_2020[,2])\n",
    "colnames(OCT10_OCT25_2020) <- c(\"Disease\", \"10OCT-25OCT-2020\")\n",
    "OCT10_OCT25_2020"
   ]
  },
  {
   "cell_type": "code",
   "execution_count": null,
   "id": "950699ce-a1c7-4c1b-978f-58bd761a0e21",
   "metadata": {},
   "outputs": [],
   "source": []
  },
  {
   "cell_type": "code",
   "execution_count": null,
   "id": "b455f854-986b-4759-aa08-916bb08f517d",
   "metadata": {},
   "outputs": [],
   "source": [
    "#Next dataset 26-october-to-8-november-2020-table"
   ]
  },
  {
   "cell_type": "code",
   "execution_count": 91,
   "id": "b3f837bb-2608-4960-bd4d-222c4881eecc",
   "metadata": {},
   "outputs": [
    {
     "data": {
      "text/html": [
       "<table class=\"dataframe\">\n",
       "<caption>A data.frame: 6 × 23</caption>\n",
       "<thead>\n",
       "\t<tr><th></th><th scope=col>ADT.FN22.2020</th><th scope=col>X</th><th scope=col>X.1</th><th scope=col>Notification.received.date</th><th scope=col>X.2</th><th scope=col>X.3</th><th scope=col>X.4</th><th scope=col>X.5</th><th scope=col>X.6</th><th scope=col>X.7</th><th scope=col>⋯</th><th scope=col>X.11</th><th scope=col>X.12</th><th scope=col>X.13</th><th scope=col>X.14</th><th scope=col>X.15</th><th scope=col>X.16</th><th scope=col>X.17</th><th scope=col>X.18</th><th scope=col>X.19</th><th scope=col>X.20</th></tr>\n",
       "\t<tr><th></th><th scope=col>&lt;chr&gt;</th><th scope=col>&lt;chr&gt;</th><th scope=col>&lt;chr&gt;</th><th scope=col>&lt;chr&gt;</th><th scope=col>&lt;chr&gt;</th><th scope=col>&lt;chr&gt;</th><th scope=col>&lt;chr&gt;</th><th scope=col>&lt;chr&gt;</th><th scope=col>&lt;chr&gt;</th><th scope=col>&lt;chr&gt;</th><th scope=col>⋯</th><th scope=col>&lt;chr&gt;</th><th scope=col>&lt;chr&gt;</th><th scope=col>&lt;chr&gt;</th><th scope=col>&lt;chr&gt;</th><th scope=col>&lt;chr&gt;</th><th scope=col>&lt;chr&gt;</th><th scope=col>&lt;chr&gt;</th><th scope=col>&lt;chr&gt;</th><th scope=col>&lt;chr&gt;</th><th scope=col>&lt;chr&gt;</th></tr>\n",
       "</thead>\n",
       "<tbody>\n",
       "\t<tr><th scope=row>1</th><td>                   </td><td>                            </td><td>            </td><td>State or Territory</td><td>     </td><td>     </td><td>     </td><td>     </td><td>     </td><td>     </td><td>⋯</td><td>                               </td><td>                 </td><td>Historical 90 Day Period</td><td>                               </td><td>                               </td><td>                                       </td><td>Historical Yearly Period</td><td>                            </td><td>                             </td><td>                                    </td></tr>\n",
       "\t<tr><th scope=row>2</th><td>Disease group      </td><td>Disease name                </td><td>Disease code</td><td>ACT               </td><td>NSW  </td><td>NT   </td><td>Qld  </td><td>SA   </td><td>Tas  </td><td>Vic  </td><td>⋯</td><td>Same reporting period last year</td><td>Current year\n",
       "YTD</td><td>Past Quarter            </td><td>Quarterly rolling \n",
       "5 year mean</td><td>Ratio past quarter/5 year mean*</td><td>Exceeds quarterly rolling mean +2 SD by</td><td>Past Year               </td><td>Yearly rolling \n",
       "5 year mean</td><td>Ratio past  year/5 year mean*</td><td>Exceeds yearly rolling mean +2 SD by</td></tr>\n",
       "\t<tr><th scope=row>3</th><td>                   </td><td>                            </td><td>            </td><td>                  </td><td>     </td><td>     </td><td>     </td><td>     </td><td>     </td><td>     </td><td>⋯</td><td>26/10/2019                     </td><td>01/01/2020       </td><td>11/08/2020              </td><td>                               </td><td>                               </td><td>                                       </td><td>09/11/2019              </td><td>09/11/2014                  </td><td>                             </td><td>                                    </td></tr>\n",
       "\t<tr><th scope=row>4</th><td>                   </td><td>                            </td><td>            </td><td>                  </td><td>     </td><td>     </td><td>     </td><td>     </td><td>     </td><td>     </td><td>⋯</td><td>08/11/2019                     </td><td>08/11/2020       </td><td>08/11/2020              </td><td>                               </td><td>                               </td><td>                                       </td><td>08/11/2020              </td><td>08/11/2019                  </td><td>                             </td><td>                                    </td></tr>\n",
       "\t<tr><th scope=row>5</th><td>Bloodborne diseases</td><td>Hepatitis B (newly acquired)</td><td>039         </td><td> -                </td><td> -   </td><td> -   </td><td> -   </td><td> -   </td><td> -   </td><td> -   </td><td>⋯</td><td> 8                             </td><td> 90              </td><td> 15                     </td><td> 35.6                          </td><td> 0.4                           </td><td> -                                     </td><td> 109                    </td><td> 153.6                      </td><td> 0.7                         </td><td> -                                  </td></tr>\n",
       "\t<tr><th scope=row>6</th><td>                   </td><td>Hepatitis B (unspecified)   </td><td>052         </td><td> 6                </td><td> 75  </td><td> 2   </td><td> 35  </td><td> 3   </td><td> 1   </td><td> 42  </td><td>⋯</td><td> 176                           </td><td> 4,307           </td><td> 1,177                  </td><td> 1,507.0                       </td><td> 0.8                           </td><td> -                                     </td><td> 5,027                  </td><td> 6,016.6                    </td><td> 0.8                         </td><td> -                                  </td></tr>\n",
       "</tbody>\n",
       "</table>\n"
      ],
      "text/latex": [
       "A data.frame: 6 × 23\n",
       "\\begin{tabular}{r|lllllllllllllllllllll}\n",
       "  & ADT.FN22.2020 & X & X.1 & Notification.received.date & X.2 & X.3 & X.4 & X.5 & X.6 & X.7 & ⋯ & X.11 & X.12 & X.13 & X.14 & X.15 & X.16 & X.17 & X.18 & X.19 & X.20\\\\\n",
       "  & <chr> & <chr> & <chr> & <chr> & <chr> & <chr> & <chr> & <chr> & <chr> & <chr> & ⋯ & <chr> & <chr> & <chr> & <chr> & <chr> & <chr> & <chr> & <chr> & <chr> & <chr>\\\\\n",
       "\\hline\n",
       "\t1 &                     &                              &              & State or Territory &       &       &       &       &       &       & ⋯ &                                 &                   & Historical 90 Day Period &                                 &                                 &                                         & Historical Yearly Period &                              &                               &                                     \\\\\n",
       "\t2 & Disease group       & Disease name                 & Disease code & ACT                & NSW   & NT    & Qld   & SA    & Tas   & Vic   & ⋯ & Same reporting period last year & Current year\n",
       "YTD & Past Quarter             & Quarterly rolling \n",
       "5 year mean & Ratio past quarter/5 year mean* & Exceeds quarterly rolling mean +2 SD by & Past Year                & Yearly rolling \n",
       "5 year mean & Ratio past  year/5 year mean* & Exceeds yearly rolling mean +2 SD by\\\\\n",
       "\t3 &                     &                              &              &                    &       &       &       &       &       &       & ⋯ & 26/10/2019                      & 01/01/2020        & 11/08/2020               &                                 &                                 &                                         & 09/11/2019               & 09/11/2014                   &                               &                                     \\\\\n",
       "\t4 &                     &                              &              &                    &       &       &       &       &       &       & ⋯ & 08/11/2019                      & 08/11/2020        & 08/11/2020               &                                 &                                 &                                         & 08/11/2020               & 08/11/2019                   &                               &                                     \\\\\n",
       "\t5 & Bloodborne diseases & Hepatitis B (newly acquired) & 039          &  -                 &  -    &  -    &  -    &  -    &  -    &  -    & ⋯ &  8                              &  90               &  15                      &  35.6                           &  0.4                            &  -                                      &  109                     &  153.6                       &  0.7                          &  -                                  \\\\\n",
       "\t6 &                     & Hepatitis B (unspecified)    & 052          &  6                 &  75   &  2    &  35   &  3    &  1    &  42   & ⋯ &  176                            &  4,307            &  1,177                   &  1,507.0                        &  0.8                            &  -                                      &  5,027                   &  6,016.6                     &  0.8                          &  -                                  \\\\\n",
       "\\end{tabular}\n"
      ],
      "text/markdown": [
       "\n",
       "A data.frame: 6 × 23\n",
       "\n",
       "| <!--/--> | ADT.FN22.2020 &lt;chr&gt; | X &lt;chr&gt; | X.1 &lt;chr&gt; | Notification.received.date &lt;chr&gt; | X.2 &lt;chr&gt; | X.3 &lt;chr&gt; | X.4 &lt;chr&gt; | X.5 &lt;chr&gt; | X.6 &lt;chr&gt; | X.7 &lt;chr&gt; | ⋯ ⋯ | X.11 &lt;chr&gt; | X.12 &lt;chr&gt; | X.13 &lt;chr&gt; | X.14 &lt;chr&gt; | X.15 &lt;chr&gt; | X.16 &lt;chr&gt; | X.17 &lt;chr&gt; | X.18 &lt;chr&gt; | X.19 &lt;chr&gt; | X.20 &lt;chr&gt; |\n",
       "|---|---|---|---|---|---|---|---|---|---|---|---|---|---|---|---|---|---|---|---|---|---|\n",
       "| 1 | <!----> | <!----> | <!----> | State or Territory | <!----> | <!----> | <!----> | <!----> | <!----> | <!----> | ⋯ | <!----> | <!----> | Historical 90 Day Period | <!----> | <!----> | <!----> | Historical Yearly Period | <!----> | <!----> | <!----> |\n",
       "| 2 | Disease group       | Disease name                 | Disease code | ACT                | NSW   | NT    | Qld   | SA    | Tas   | Vic   | ⋯ | Same reporting period last year | Current year\n",
       "YTD | Past Quarter             | Quarterly rolling \n",
       "5 year mean | Ratio past quarter/5 year mean* | Exceeds quarterly rolling mean +2 SD by | Past Year                | Yearly rolling \n",
       "5 year mean | Ratio past  year/5 year mean* | Exceeds yearly rolling mean +2 SD by |\n",
       "| 3 | <!----> | <!----> | <!----> | <!----> | <!----> | <!----> | <!----> | <!----> | <!----> | <!----> | ⋯ | 26/10/2019                      | 01/01/2020        | 11/08/2020               | <!----> | <!----> | <!----> | 09/11/2019               | 09/11/2014                   | <!----> | <!----> |\n",
       "| 4 | <!----> | <!----> | <!----> | <!----> | <!----> | <!----> | <!----> | <!----> | <!----> | <!----> | ⋯ | 08/11/2019                      | 08/11/2020        | 08/11/2020               | <!----> | <!----> | <!----> | 08/11/2020               | 08/11/2019                   | <!----> | <!----> |\n",
       "| 5 | Bloodborne diseases | Hepatitis B (newly acquired) | 039          |  -                 |  -    |  -    |  -    |  -    |  -    |  -    | ⋯ |  8                              |  90               |  15                      |  35.6                           |  0.4                            |  -                                      |  109                     |  153.6                       |  0.7                          |  -                                   |\n",
       "| 6 | <!----> | Hepatitis B (unspecified)    | 052          |  6                 |  75   |  2    |  35   |  3    |  1    |  42   | ⋯ |  176                            |  4,307            |  1,177                   |  1,507.0                        |  0.8                            |  -                                      |  5,027                   |  6,016.6                     |  0.8                          |  -                                   |\n",
       "\n"
      ],
      "text/plain": [
       "  ADT.FN22.2020       X                            X.1         \n",
       "1                                                              \n",
       "2 Disease group       Disease name                 Disease code\n",
       "3                                                              \n",
       "4                                                              \n",
       "5 Bloodborne diseases Hepatitis B (newly acquired) 039         \n",
       "6                     Hepatitis B (unspecified)    052         \n",
       "  Notification.received.date X.2   X.3   X.4   X.5   X.6   X.7   ⋯\n",
       "1 State or Territory                                             ⋯\n",
       "2 ACT                        NSW   NT    Qld   SA    Tas   Vic   ⋯\n",
       "3                                                                ⋯\n",
       "4                                                                ⋯\n",
       "5  -                          -     -     -     -     -     -    ⋯\n",
       "6  6                          75    2     35    3     1     42   ⋯\n",
       "  X.11                            X.12              X.13                    \n",
       "1                                                   Historical 90 Day Period\n",
       "2 Same reporting period last year Current year\\nYTD Past Quarter            \n",
       "3 26/10/2019                      01/01/2020        11/08/2020              \n",
       "4 08/11/2019                      08/11/2020        08/11/2020              \n",
       "5  8                               90                15                     \n",
       "6  176                             4,307             1,177                  \n",
       "  X.14                            X.15                           \n",
       "1                                                                \n",
       "2 Quarterly rolling \\n5 year mean Ratio past quarter/5 year mean*\n",
       "3                                                                \n",
       "4                                                                \n",
       "5  35.6                            0.4                           \n",
       "6  1,507.0                         0.8                           \n",
       "  X.16                                    X.17                    \n",
       "1                                         Historical Yearly Period\n",
       "2 Exceeds quarterly rolling mean +2 SD by Past Year               \n",
       "3                                         09/11/2019              \n",
       "4                                         08/11/2020              \n",
       "5  -                                       109                    \n",
       "6  -                                       5,027                  \n",
       "  X.18                         X.19                         \n",
       "1                                                           \n",
       "2 Yearly rolling \\n5 year mean Ratio past  year/5 year mean*\n",
       "3 09/11/2014                                                \n",
       "4 08/11/2019                                                \n",
       "5  153.6                        0.7                         \n",
       "6  6,016.6                      0.8                         \n",
       "  X.20                                \n",
       "1                                     \n",
       "2 Exceeds yearly rolling mean +2 SD by\n",
       "3                                     \n",
       "4                                     \n",
       "5  -                                  \n",
       "6  -                                  "
      ]
     },
     "metadata": {},
     "output_type": "display_data"
    },
    {
     "data": {
      "text/html": [
       "<table class=\"dataframe\">\n",
       "<caption>A data.frame: 6 × 2</caption>\n",
       "<thead>\n",
       "\t<tr><th></th><th scope=col>X</th><th scope=col>X.9</th></tr>\n",
       "\t<tr><th></th><th scope=col>&lt;chr&gt;</th><th scope=col>&lt;chr&gt;</th></tr>\n",
       "</thead>\n",
       "<tbody>\n",
       "\t<tr><th scope=row>1</th><td>                            </td><td>Totals for Australia </td></tr>\n",
       "\t<tr><th scope=row>2</th><td>Disease name                </td><td>This reporting period</td></tr>\n",
       "\t<tr><th scope=row>3</th><td>                            </td><td>26/10/2020           </td></tr>\n",
       "\t<tr><th scope=row>4</th><td>                            </td><td>08/11/2020           </td></tr>\n",
       "\t<tr><th scope=row>5</th><td>Hepatitis B (newly acquired)</td><td> -                   </td></tr>\n",
       "\t<tr><th scope=row>6</th><td>Hepatitis B (unspecified)   </td><td> 185                 </td></tr>\n",
       "</tbody>\n",
       "</table>\n"
      ],
      "text/latex": [
       "A data.frame: 6 × 2\n",
       "\\begin{tabular}{r|ll}\n",
       "  & X & X.9\\\\\n",
       "  & <chr> & <chr>\\\\\n",
       "\\hline\n",
       "\t1 &                              & Totals for Australia \\\\\n",
       "\t2 & Disease name                 & This reporting period\\\\\n",
       "\t3 &                              & 26/10/2020           \\\\\n",
       "\t4 &                              & 08/11/2020           \\\\\n",
       "\t5 & Hepatitis B (newly acquired) &  -                   \\\\\n",
       "\t6 & Hepatitis B (unspecified)    &  185                 \\\\\n",
       "\\end{tabular}\n"
      ],
      "text/markdown": [
       "\n",
       "A data.frame: 6 × 2\n",
       "\n",
       "| <!--/--> | X &lt;chr&gt; | X.9 &lt;chr&gt; |\n",
       "|---|---|---|\n",
       "| 1 | <!----> | Totals for Australia  |\n",
       "| 2 | Disease name                 | This reporting period |\n",
       "| 3 | <!----> | 26/10/2020            |\n",
       "| 4 | <!----> | 08/11/2020            |\n",
       "| 5 | Hepatitis B (newly acquired) |  -                    |\n",
       "| 6 | Hepatitis B (unspecified)    |  185                  |\n",
       "\n"
      ],
      "text/plain": [
       "  X                            X.9                  \n",
       "1                              Totals for Australia \n",
       "2 Disease name                 This reporting period\n",
       "3                              26/10/2020           \n",
       "4                              08/11/2020           \n",
       "5 Hepatitis B (newly acquired)  -                   \n",
       "6 Hepatitis B (unspecified)     185                 "
      ]
     },
     "metadata": {},
     "output_type": "display_data"
    }
   ],
   "source": [
    "df = read.csv(\"26-october-to-8-november-2020-table.csv\", header=TRUE, stringsAsFactors=FALSE)\n",
    "head(df)\n",
    "\n",
    "df <- df[, -c(1,3:11, 13:23)]\n",
    "head(df)"
   ]
  },
  {
   "cell_type": "code",
   "execution_count": 93,
   "id": "76615d32-de8d-4460-95a0-279cf0f60476",
   "metadata": {},
   "outputs": [
    {
     "data": {
      "text/html": [
       "<table class=\"dataframe\">\n",
       "<caption>A data.frame: 1 × 2</caption>\n",
       "<thead>\n",
       "\t<tr><th></th><th scope=col>X</th><th scope=col>X.9</th></tr>\n",
       "\t<tr><th></th><th scope=col>&lt;chr&gt;</th><th scope=col>&lt;chr&gt;</th></tr>\n",
       "</thead>\n",
       "<tbody>\n",
       "\t<tr><th scope=row>40</th><td>Influenza (laboratory confirmed)</td><td> 21 </td></tr>\n",
       "</tbody>\n",
       "</table>\n"
      ],
      "text/latex": [
       "A data.frame: 1 × 2\n",
       "\\begin{tabular}{r|ll}\n",
       "  & X & X.9\\\\\n",
       "  & <chr> & <chr>\\\\\n",
       "\\hline\n",
       "\t40 & Influenza (laboratory confirmed) &  21 \\\\\n",
       "\\end{tabular}\n"
      ],
      "text/markdown": [
       "\n",
       "A data.frame: 1 × 2\n",
       "\n",
       "| <!--/--> | X &lt;chr&gt; | X.9 &lt;chr&gt; |\n",
       "|---|---|---|\n",
       "| 40 | Influenza (laboratory confirmed) |  21  |\n",
       "\n"
      ],
      "text/plain": [
       "   X                                X.9 \n",
       "40 Influenza (laboratory confirmed)  21 "
      ]
     },
     "metadata": {},
     "output_type": "display_data"
    },
    {
     "data": {
      "text/html": [
       "<table class=\"dataframe\">\n",
       "<caption>A data.frame: 1 × 2</caption>\n",
       "<thead>\n",
       "\t<tr><th></th><th scope=col>X</th><th scope=col>X.9</th></tr>\n",
       "\t<tr><th></th><th scope=col>&lt;chr&gt;</th><th scope=col>&lt;chr&gt;</th></tr>\n",
       "</thead>\n",
       "<tbody>\n",
       "\t<tr><th scope=row>23</th><td>COVID-19</td><td> 151 </td></tr>\n",
       "</tbody>\n",
       "</table>\n"
      ],
      "text/latex": [
       "A data.frame: 1 × 2\n",
       "\\begin{tabular}{r|ll}\n",
       "  & X & X.9\\\\\n",
       "  & <chr> & <chr>\\\\\n",
       "\\hline\n",
       "\t23 & COVID-19 &  151 \\\\\n",
       "\\end{tabular}\n"
      ],
      "text/markdown": [
       "\n",
       "A data.frame: 1 × 2\n",
       "\n",
       "| <!--/--> | X &lt;chr&gt; | X.9 &lt;chr&gt; |\n",
       "|---|---|---|\n",
       "| 23 | COVID-19 |  151  |\n",
       "\n"
      ],
      "text/plain": [
       "   X        X.9  \n",
       "23 COVID-19  151 "
      ]
     },
     "metadata": {},
     "output_type": "display_data"
    },
    {
     "data": {
      "text/html": [
       "<table class=\"dataframe\">\n",
       "<caption>A data.frame: 2 × 2</caption>\n",
       "<thead>\n",
       "\t<tr><th></th><th scope=col>X</th><th scope=col>X.9</th></tr>\n",
       "\t<tr><th></th><th scope=col>&lt;chr&gt;</th><th scope=col>&lt;chr&gt;</th></tr>\n",
       "</thead>\n",
       "<tbody>\n",
       "\t<tr><th scope=row>40</th><td>Influenza (laboratory confirmed)</td><td> 21  </td></tr>\n",
       "\t<tr><th scope=row>23</th><td>COVID-19                        </td><td> 151 </td></tr>\n",
       "</tbody>\n",
       "</table>\n"
      ],
      "text/latex": [
       "A data.frame: 2 × 2\n",
       "\\begin{tabular}{r|ll}\n",
       "  & X & X.9\\\\\n",
       "  & <chr> & <chr>\\\\\n",
       "\\hline\n",
       "\t40 & Influenza (laboratory confirmed) &  21  \\\\\n",
       "\t23 & COVID-19                         &  151 \\\\\n",
       "\\end{tabular}\n"
      ],
      "text/markdown": [
       "\n",
       "A data.frame: 2 × 2\n",
       "\n",
       "| <!--/--> | X &lt;chr&gt; | X.9 &lt;chr&gt; |\n",
       "|---|---|---|\n",
       "| 40 | Influenza (laboratory confirmed) |  21   |\n",
       "| 23 | COVID-19                         |  151  |\n",
       "\n"
      ],
      "text/plain": [
       "   X                                X.9  \n",
       "40 Influenza (laboratory confirmed)  21  \n",
       "23 COVID-19                          151 "
      ]
     },
     "metadata": {},
     "output_type": "display_data"
    }
   ],
   "source": [
    "#find the rows that contain the words influenza\n",
    "\n",
    "inf <- df[grep(\"Influenza\", df$X),]\n",
    "head(inf)\n",
    "covid <-  df[grep(\"COVID\", df$X),]\n",
    "covid\n",
    "OCT26_NOV08_2020 <- rbind(inf, covid)\n",
    "OCT26_NOV08_2020"
   ]
  },
  {
   "cell_type": "code",
   "execution_count": 94,
   "id": "71ee828a-b586-4a96-94bc-0dc439cb745c",
   "metadata": {},
   "outputs": [
    {
     "data": {
      "text/html": [
       "<table class=\"dataframe\">\n",
       "<caption>A data.frame: 2 × 2</caption>\n",
       "<thead>\n",
       "\t<tr><th></th><th scope=col>Disease</th><th scope=col>26OCT-08NOV-2020</th></tr>\n",
       "\t<tr><th></th><th scope=col>&lt;chr&gt;</th><th scope=col>&lt;dbl&gt;</th></tr>\n",
       "</thead>\n",
       "<tbody>\n",
       "\t<tr><th scope=row>40</th><td>Influenza (laboratory confirmed)</td><td> 21</td></tr>\n",
       "\t<tr><th scope=row>23</th><td>COVID-19                        </td><td>151</td></tr>\n",
       "</tbody>\n",
       "</table>\n"
      ],
      "text/latex": [
       "A data.frame: 2 × 2\n",
       "\\begin{tabular}{r|ll}\n",
       "  & Disease & 26OCT-08NOV-2020\\\\\n",
       "  & <chr> & <dbl>\\\\\n",
       "\\hline\n",
       "\t40 & Influenza (laboratory confirmed) &  21\\\\\n",
       "\t23 & COVID-19                         & 151\\\\\n",
       "\\end{tabular}\n"
      ],
      "text/markdown": [
       "\n",
       "A data.frame: 2 × 2\n",
       "\n",
       "| <!--/--> | Disease &lt;chr&gt; | 26OCT-08NOV-2020 &lt;dbl&gt; |\n",
       "|---|---|---|\n",
       "| 40 | Influenza (laboratory confirmed) |  21 |\n",
       "| 23 | COVID-19                         | 151 |\n",
       "\n"
      ],
      "text/plain": [
       "   Disease                          26OCT-08NOV-2020\n",
       "40 Influenza (laboratory confirmed)  21             \n",
       "23 COVID-19                         151             "
      ]
     },
     "metadata": {},
     "output_type": "display_data"
    }
   ],
   "source": [
    "OCT26_NOV08_2020[,2] <- as.numeric(OCT26_NOV08_2020[,2])\n",
    "colnames(OCT26_NOV08_2020) <- c(\"Disease\", \"26OCT-08NOV-2020\")\n",
    "OCT26_NOV08_2020"
   ]
  },
  {
   "cell_type": "code",
   "execution_count": null,
   "id": "559c7766-037d-41d8-8ef0-1b7daf01e784",
   "metadata": {},
   "outputs": [],
   "source": []
  },
  {
   "cell_type": "code",
   "execution_count": null,
   "id": "c97d491e-d8bd-45ad-8357-ebd7c0be98d2",
   "metadata": {},
   "outputs": [],
   "source": [
    "#next dataset 9-to-22-november-2020-table"
   ]
  },
  {
   "cell_type": "code",
   "execution_count": 95,
   "id": "5ab03883-b9d0-47ce-be5f-bfb4b08dab87",
   "metadata": {},
   "outputs": [
    {
     "data": {
      "text/html": [
       "<table class=\"dataframe\">\n",
       "<caption>A data.frame: 6 × 23</caption>\n",
       "<thead>\n",
       "\t<tr><th></th><th scope=col>ADT.FN23.2020</th><th scope=col>X</th><th scope=col>X.1</th><th scope=col>Notification.received.date</th><th scope=col>X.2</th><th scope=col>X.3</th><th scope=col>X.4</th><th scope=col>X.5</th><th scope=col>X.6</th><th scope=col>X.7</th><th scope=col>⋯</th><th scope=col>X.11</th><th scope=col>X.12</th><th scope=col>X.13</th><th scope=col>X.14</th><th scope=col>X.15</th><th scope=col>X.16</th><th scope=col>X.17</th><th scope=col>X.18</th><th scope=col>X.19</th><th scope=col>X.20</th></tr>\n",
       "\t<tr><th></th><th scope=col>&lt;chr&gt;</th><th scope=col>&lt;chr&gt;</th><th scope=col>&lt;chr&gt;</th><th scope=col>&lt;chr&gt;</th><th scope=col>&lt;chr&gt;</th><th scope=col>&lt;chr&gt;</th><th scope=col>&lt;chr&gt;</th><th scope=col>&lt;chr&gt;</th><th scope=col>&lt;chr&gt;</th><th scope=col>&lt;chr&gt;</th><th scope=col>⋯</th><th scope=col>&lt;chr&gt;</th><th scope=col>&lt;chr&gt;</th><th scope=col>&lt;chr&gt;</th><th scope=col>&lt;chr&gt;</th><th scope=col>&lt;chr&gt;</th><th scope=col>&lt;chr&gt;</th><th scope=col>&lt;chr&gt;</th><th scope=col>&lt;chr&gt;</th><th scope=col>&lt;chr&gt;</th><th scope=col>&lt;chr&gt;</th></tr>\n",
       "</thead>\n",
       "<tbody>\n",
       "\t<tr><th scope=row>1</th><td>                   </td><td>                            </td><td>            </td><td>State or Territory</td><td>     </td><td>     </td><td>    </td><td>     </td><td>     </td><td>    </td><td>⋯</td><td>                               </td><td>                 </td><td>Historical 90 Day Period</td><td>                               </td><td>                               </td><td>                                       </td><td>Historical Yearly Period</td><td>                            </td><td>                             </td><td>                                    </td></tr>\n",
       "\t<tr><th scope=row>2</th><td>Disease group      </td><td>Disease name                </td><td>Disease code</td><td>ACT               </td><td>NSW  </td><td>NT   </td><td>Qld </td><td>SA   </td><td>Tas  </td><td>Vic </td><td>⋯</td><td>Same reporting period last year</td><td>Current year\n",
       "YTD</td><td>Past Quarter            </td><td>Quarterly rolling \n",
       "5 year mean</td><td>Ratio past quarter/5 year mean*</td><td>Exceeds quarterly rolling mean +2 SD by</td><td>Past Year               </td><td>Yearly rolling \n",
       "5 year mean</td><td>Ratio past  year/5 year mean*</td><td>Exceeds yearly rolling mean +2 SD by</td></tr>\n",
       "\t<tr><th scope=row>3</th><td>                   </td><td>                            </td><td>            </td><td>                  </td><td>     </td><td>     </td><td>    </td><td>     </td><td>     </td><td>    </td><td>⋯</td><td>09/11/2019                     </td><td>01/01/2020       </td><td>25/08/2020              </td><td>                               </td><td>                               </td><td>                                       </td><td>23/11/2019              </td><td>23/11/2014                  </td><td>                             </td><td>                                    </td></tr>\n",
       "\t<tr><th scope=row>4</th><td>                   </td><td>                            </td><td>            </td><td>                  </td><td>     </td><td>     </td><td>    </td><td>     </td><td>     </td><td>    </td><td>⋯</td><td>22/11/2019                     </td><td>22/11/2020       </td><td>22/11/2020              </td><td>                               </td><td>                               </td><td>                                       </td><td>22/11/2020              </td><td>22/11/2019                  </td><td>                             </td><td>                                    </td></tr>\n",
       "\t<tr><th scope=row>5</th><td>Bloodborne diseases</td><td>Hepatitis B (newly acquired)</td><td>039         </td><td> -                </td><td> -   </td><td> -   </td><td> 3  </td><td> -   </td><td> -   </td><td> 2  </td><td>⋯</td><td> 2                             </td><td> 98              </td><td> 22                     </td><td> 34.6                          </td><td> 0.6                           </td><td> -                                     </td><td> 115                    </td><td> 153.4                      </td><td> 0.7                         </td><td> -                                  </td></tr>\n",
       "\t<tr><th scope=row>6</th><td>                   </td><td>Hepatitis B (unspecified)   </td><td>052         </td><td> 4                </td><td> 96  </td><td> -   </td><td> 27 </td><td> 3   </td><td> 2   </td><td> 46 </td><td>⋯</td><td> 224                           </td><td> 4,512           </td><td> 1,168                  </td><td> 1,482.2                       </td><td> 0.8                           </td><td> -                                     </td><td> 5,008                  </td><td> 6,012.2                    </td><td> 0.8                         </td><td> -                                  </td></tr>\n",
       "</tbody>\n",
       "</table>\n"
      ],
      "text/latex": [
       "A data.frame: 6 × 23\n",
       "\\begin{tabular}{r|lllllllllllllllllllll}\n",
       "  & ADT.FN23.2020 & X & X.1 & Notification.received.date & X.2 & X.3 & X.4 & X.5 & X.6 & X.7 & ⋯ & X.11 & X.12 & X.13 & X.14 & X.15 & X.16 & X.17 & X.18 & X.19 & X.20\\\\\n",
       "  & <chr> & <chr> & <chr> & <chr> & <chr> & <chr> & <chr> & <chr> & <chr> & <chr> & ⋯ & <chr> & <chr> & <chr> & <chr> & <chr> & <chr> & <chr> & <chr> & <chr> & <chr>\\\\\n",
       "\\hline\n",
       "\t1 &                     &                              &              & State or Territory &       &       &      &       &       &      & ⋯ &                                 &                   & Historical 90 Day Period &                                 &                                 &                                         & Historical Yearly Period &                              &                               &                                     \\\\\n",
       "\t2 & Disease group       & Disease name                 & Disease code & ACT                & NSW   & NT    & Qld  & SA    & Tas   & Vic  & ⋯ & Same reporting period last year & Current year\n",
       "YTD & Past Quarter             & Quarterly rolling \n",
       "5 year mean & Ratio past quarter/5 year mean* & Exceeds quarterly rolling mean +2 SD by & Past Year                & Yearly rolling \n",
       "5 year mean & Ratio past  year/5 year mean* & Exceeds yearly rolling mean +2 SD by\\\\\n",
       "\t3 &                     &                              &              &                    &       &       &      &       &       &      & ⋯ & 09/11/2019                      & 01/01/2020        & 25/08/2020               &                                 &                                 &                                         & 23/11/2019               & 23/11/2014                   &                               &                                     \\\\\n",
       "\t4 &                     &                              &              &                    &       &       &      &       &       &      & ⋯ & 22/11/2019                      & 22/11/2020        & 22/11/2020               &                                 &                                 &                                         & 22/11/2020               & 22/11/2019                   &                               &                                     \\\\\n",
       "\t5 & Bloodborne diseases & Hepatitis B (newly acquired) & 039          &  -                 &  -    &  -    &  3   &  -    &  -    &  2   & ⋯ &  2                              &  98               &  22                      &  34.6                           &  0.6                            &  -                                      &  115                     &  153.4                       &  0.7                          &  -                                  \\\\\n",
       "\t6 &                     & Hepatitis B (unspecified)    & 052          &  4                 &  96   &  -    &  27  &  3    &  2    &  46  & ⋯ &  224                            &  4,512            &  1,168                   &  1,482.2                        &  0.8                            &  -                                      &  5,008                   &  6,012.2                     &  0.8                          &  -                                  \\\\\n",
       "\\end{tabular}\n"
      ],
      "text/markdown": [
       "\n",
       "A data.frame: 6 × 23\n",
       "\n",
       "| <!--/--> | ADT.FN23.2020 &lt;chr&gt; | X &lt;chr&gt; | X.1 &lt;chr&gt; | Notification.received.date &lt;chr&gt; | X.2 &lt;chr&gt; | X.3 &lt;chr&gt; | X.4 &lt;chr&gt; | X.5 &lt;chr&gt; | X.6 &lt;chr&gt; | X.7 &lt;chr&gt; | ⋯ ⋯ | X.11 &lt;chr&gt; | X.12 &lt;chr&gt; | X.13 &lt;chr&gt; | X.14 &lt;chr&gt; | X.15 &lt;chr&gt; | X.16 &lt;chr&gt; | X.17 &lt;chr&gt; | X.18 &lt;chr&gt; | X.19 &lt;chr&gt; | X.20 &lt;chr&gt; |\n",
       "|---|---|---|---|---|---|---|---|---|---|---|---|---|---|---|---|---|---|---|---|---|---|\n",
       "| 1 | <!----> | <!----> | <!----> | State or Territory | <!----> | <!----> | <!----> | <!----> | <!----> | <!----> | ⋯ | <!----> | <!----> | Historical 90 Day Period | <!----> | <!----> | <!----> | Historical Yearly Period | <!----> | <!----> | <!----> |\n",
       "| 2 | Disease group       | Disease name                 | Disease code | ACT                | NSW   | NT    | Qld  | SA    | Tas   | Vic  | ⋯ | Same reporting period last year | Current year\n",
       "YTD | Past Quarter             | Quarterly rolling \n",
       "5 year mean | Ratio past quarter/5 year mean* | Exceeds quarterly rolling mean +2 SD by | Past Year                | Yearly rolling \n",
       "5 year mean | Ratio past  year/5 year mean* | Exceeds yearly rolling mean +2 SD by |\n",
       "| 3 | <!----> | <!----> | <!----> | <!----> | <!----> | <!----> | <!----> | <!----> | <!----> | <!----> | ⋯ | 09/11/2019                      | 01/01/2020        | 25/08/2020               | <!----> | <!----> | <!----> | 23/11/2019               | 23/11/2014                   | <!----> | <!----> |\n",
       "| 4 | <!----> | <!----> | <!----> | <!----> | <!----> | <!----> | <!----> | <!----> | <!----> | <!----> | ⋯ | 22/11/2019                      | 22/11/2020        | 22/11/2020               | <!----> | <!----> | <!----> | 22/11/2020               | 22/11/2019                   | <!----> | <!----> |\n",
       "| 5 | Bloodborne diseases | Hepatitis B (newly acquired) | 039          |  -                 |  -    |  -    |  3   |  -    |  -    |  2   | ⋯ |  2                              |  98               |  22                      |  34.6                           |  0.6                            |  -                                      |  115                     |  153.4                       |  0.7                          |  -                                   |\n",
       "| 6 | <!----> | Hepatitis B (unspecified)    | 052          |  4                 |  96   |  -    |  27  |  3    |  2    |  46  | ⋯ |  224                            |  4,512            |  1,168                   |  1,482.2                        |  0.8                            |  -                                      |  5,008                   |  6,012.2                     |  0.8                          |  -                                   |\n",
       "\n"
      ],
      "text/plain": [
       "  ADT.FN23.2020       X                            X.1         \n",
       "1                                                              \n",
       "2 Disease group       Disease name                 Disease code\n",
       "3                                                              \n",
       "4                                                              \n",
       "5 Bloodborne diseases Hepatitis B (newly acquired) 039         \n",
       "6                     Hepatitis B (unspecified)    052         \n",
       "  Notification.received.date X.2   X.3   X.4  X.5   X.6   X.7  ⋯\n",
       "1 State or Territory                                           ⋯\n",
       "2 ACT                        NSW   NT    Qld  SA    Tas   Vic  ⋯\n",
       "3                                                              ⋯\n",
       "4                                                              ⋯\n",
       "5  -                          -     -     3    -     -     2   ⋯\n",
       "6  4                          96    -     27   3     2     46  ⋯\n",
       "  X.11                            X.12              X.13                    \n",
       "1                                                   Historical 90 Day Period\n",
       "2 Same reporting period last year Current year\\nYTD Past Quarter            \n",
       "3 09/11/2019                      01/01/2020        25/08/2020              \n",
       "4 22/11/2019                      22/11/2020        22/11/2020              \n",
       "5  2                               98                22                     \n",
       "6  224                             4,512             1,168                  \n",
       "  X.14                            X.15                           \n",
       "1                                                                \n",
       "2 Quarterly rolling \\n5 year mean Ratio past quarter/5 year mean*\n",
       "3                                                                \n",
       "4                                                                \n",
       "5  34.6                            0.6                           \n",
       "6  1,482.2                         0.8                           \n",
       "  X.16                                    X.17                    \n",
       "1                                         Historical Yearly Period\n",
       "2 Exceeds quarterly rolling mean +2 SD by Past Year               \n",
       "3                                         23/11/2019              \n",
       "4                                         22/11/2020              \n",
       "5  -                                       115                    \n",
       "6  -                                       5,008                  \n",
       "  X.18                         X.19                         \n",
       "1                                                           \n",
       "2 Yearly rolling \\n5 year mean Ratio past  year/5 year mean*\n",
       "3 23/11/2014                                                \n",
       "4 22/11/2019                                                \n",
       "5  153.4                        0.7                         \n",
       "6  6,012.2                      0.8                         \n",
       "  X.20                                \n",
       "1                                     \n",
       "2 Exceeds yearly rolling mean +2 SD by\n",
       "3                                     \n",
       "4                                     \n",
       "5  -                                  \n",
       "6  -                                  "
      ]
     },
     "metadata": {},
     "output_type": "display_data"
    },
    {
     "data": {
      "text/html": [
       "<table class=\"dataframe\">\n",
       "<caption>A data.frame: 6 × 2</caption>\n",
       "<thead>\n",
       "\t<tr><th></th><th scope=col>X</th><th scope=col>X.9</th></tr>\n",
       "\t<tr><th></th><th scope=col>&lt;chr&gt;</th><th scope=col>&lt;chr&gt;</th></tr>\n",
       "</thead>\n",
       "<tbody>\n",
       "\t<tr><th scope=row>1</th><td>                            </td><td>Totals for Australia </td></tr>\n",
       "\t<tr><th scope=row>2</th><td>Disease name                </td><td>This reporting period</td></tr>\n",
       "\t<tr><th scope=row>3</th><td>                            </td><td>09/11/2020           </td></tr>\n",
       "\t<tr><th scope=row>4</th><td>                            </td><td>22/11/2020           </td></tr>\n",
       "\t<tr><th scope=row>5</th><td>Hepatitis B (newly acquired)</td><td> 9                   </td></tr>\n",
       "\t<tr><th scope=row>6</th><td>Hepatitis B (unspecified)   </td><td> 195                 </td></tr>\n",
       "</tbody>\n",
       "</table>\n"
      ],
      "text/latex": [
       "A data.frame: 6 × 2\n",
       "\\begin{tabular}{r|ll}\n",
       "  & X & X.9\\\\\n",
       "  & <chr> & <chr>\\\\\n",
       "\\hline\n",
       "\t1 &                              & Totals for Australia \\\\\n",
       "\t2 & Disease name                 & This reporting period\\\\\n",
       "\t3 &                              & 09/11/2020           \\\\\n",
       "\t4 &                              & 22/11/2020           \\\\\n",
       "\t5 & Hepatitis B (newly acquired) &  9                   \\\\\n",
       "\t6 & Hepatitis B (unspecified)    &  195                 \\\\\n",
       "\\end{tabular}\n"
      ],
      "text/markdown": [
       "\n",
       "A data.frame: 6 × 2\n",
       "\n",
       "| <!--/--> | X &lt;chr&gt; | X.9 &lt;chr&gt; |\n",
       "|---|---|---|\n",
       "| 1 | <!----> | Totals for Australia  |\n",
       "| 2 | Disease name                 | This reporting period |\n",
       "| 3 | <!----> | 09/11/2020            |\n",
       "| 4 | <!----> | 22/11/2020            |\n",
       "| 5 | Hepatitis B (newly acquired) |  9                    |\n",
       "| 6 | Hepatitis B (unspecified)    |  195                  |\n",
       "\n"
      ],
      "text/plain": [
       "  X                            X.9                  \n",
       "1                              Totals for Australia \n",
       "2 Disease name                 This reporting period\n",
       "3                              09/11/2020           \n",
       "4                              22/11/2020           \n",
       "5 Hepatitis B (newly acquired)  9                   \n",
       "6 Hepatitis B (unspecified)     195                 "
      ]
     },
     "metadata": {},
     "output_type": "display_data"
    }
   ],
   "source": [
    "df = read.csv(\"9-to-22-november-2020-table.csv\", header=TRUE, stringsAsFactors=FALSE)\n",
    "head(df)\n",
    "\n",
    "df <- df[, -c(1,3:11, 13:23)]\n",
    "head(df)"
   ]
  },
  {
   "cell_type": "code",
   "execution_count": 96,
   "id": "6ae6c00e-b1d3-4d72-a24c-d69496be2b29",
   "metadata": {},
   "outputs": [
    {
     "data": {
      "text/html": [
       "<table class=\"dataframe\">\n",
       "<caption>A data.frame: 1 × 2</caption>\n",
       "<thead>\n",
       "\t<tr><th></th><th scope=col>X</th><th scope=col>X.9</th></tr>\n",
       "\t<tr><th></th><th scope=col>&lt;chr&gt;</th><th scope=col>&lt;chr&gt;</th></tr>\n",
       "</thead>\n",
       "<tbody>\n",
       "\t<tr><th scope=row>40</th><td>Influenza (laboratory confirmed)</td><td> 36 </td></tr>\n",
       "</tbody>\n",
       "</table>\n"
      ],
      "text/latex": [
       "A data.frame: 1 × 2\n",
       "\\begin{tabular}{r|ll}\n",
       "  & X & X.9\\\\\n",
       "  & <chr> & <chr>\\\\\n",
       "\\hline\n",
       "\t40 & Influenza (laboratory confirmed) &  36 \\\\\n",
       "\\end{tabular}\n"
      ],
      "text/markdown": [
       "\n",
       "A data.frame: 1 × 2\n",
       "\n",
       "| <!--/--> | X &lt;chr&gt; | X.9 &lt;chr&gt; |\n",
       "|---|---|---|\n",
       "| 40 | Influenza (laboratory confirmed) |  36  |\n",
       "\n"
      ],
      "text/plain": [
       "   X                                X.9 \n",
       "40 Influenza (laboratory confirmed)  36 "
      ]
     },
     "metadata": {},
     "output_type": "display_data"
    },
    {
     "data": {
      "text/html": [
       "<table class=\"dataframe\">\n",
       "<caption>A data.frame: 1 × 2</caption>\n",
       "<thead>\n",
       "\t<tr><th></th><th scope=col>X</th><th scope=col>X.9</th></tr>\n",
       "\t<tr><th></th><th scope=col>&lt;chr&gt;</th><th scope=col>&lt;chr&gt;</th></tr>\n",
       "</thead>\n",
       "<tbody>\n",
       "\t<tr><th scope=row>23</th><td>COVID-19</td><td> 150 </td></tr>\n",
       "</tbody>\n",
       "</table>\n"
      ],
      "text/latex": [
       "A data.frame: 1 × 2\n",
       "\\begin{tabular}{r|ll}\n",
       "  & X & X.9\\\\\n",
       "  & <chr> & <chr>\\\\\n",
       "\\hline\n",
       "\t23 & COVID-19 &  150 \\\\\n",
       "\\end{tabular}\n"
      ],
      "text/markdown": [
       "\n",
       "A data.frame: 1 × 2\n",
       "\n",
       "| <!--/--> | X &lt;chr&gt; | X.9 &lt;chr&gt; |\n",
       "|---|---|---|\n",
       "| 23 | COVID-19 |  150  |\n",
       "\n"
      ],
      "text/plain": [
       "   X        X.9  \n",
       "23 COVID-19  150 "
      ]
     },
     "metadata": {},
     "output_type": "display_data"
    },
    {
     "data": {
      "text/html": [
       "<table class=\"dataframe\">\n",
       "<caption>A data.frame: 2 × 2</caption>\n",
       "<thead>\n",
       "\t<tr><th></th><th scope=col>X</th><th scope=col>X.9</th></tr>\n",
       "\t<tr><th></th><th scope=col>&lt;chr&gt;</th><th scope=col>&lt;chr&gt;</th></tr>\n",
       "</thead>\n",
       "<tbody>\n",
       "\t<tr><th scope=row>40</th><td>Influenza (laboratory confirmed)</td><td> 36  </td></tr>\n",
       "\t<tr><th scope=row>23</th><td>COVID-19                        </td><td> 150 </td></tr>\n",
       "</tbody>\n",
       "</table>\n"
      ],
      "text/latex": [
       "A data.frame: 2 × 2\n",
       "\\begin{tabular}{r|ll}\n",
       "  & X & X.9\\\\\n",
       "  & <chr> & <chr>\\\\\n",
       "\\hline\n",
       "\t40 & Influenza (laboratory confirmed) &  36  \\\\\n",
       "\t23 & COVID-19                         &  150 \\\\\n",
       "\\end{tabular}\n"
      ],
      "text/markdown": [
       "\n",
       "A data.frame: 2 × 2\n",
       "\n",
       "| <!--/--> | X &lt;chr&gt; | X.9 &lt;chr&gt; |\n",
       "|---|---|---|\n",
       "| 40 | Influenza (laboratory confirmed) |  36   |\n",
       "| 23 | COVID-19                         |  150  |\n",
       "\n"
      ],
      "text/plain": [
       "   X                                X.9  \n",
       "40 Influenza (laboratory confirmed)  36  \n",
       "23 COVID-19                          150 "
      ]
     },
     "metadata": {},
     "output_type": "display_data"
    }
   ],
   "source": [
    "#find the rows that contain the words influenza\n",
    "\n",
    "inf <- df[grep(\"Influenza\", df$X),]\n",
    "head(inf)\n",
    "covid <-  df[grep(\"COVID\", df$X),]\n",
    "covid\n",
    "NOV09_NOV22_2020 <- rbind(inf, covid)\n",
    "NOV09_NOV22_2020"
   ]
  },
  {
   "cell_type": "code",
   "execution_count": 97,
   "id": "55e58098-c394-4e6d-a305-6096fdc998d4",
   "metadata": {},
   "outputs": [
    {
     "data": {
      "text/html": [
       "<table class=\"dataframe\">\n",
       "<caption>A data.frame: 2 × 2</caption>\n",
       "<thead>\n",
       "\t<tr><th></th><th scope=col>Disease</th><th scope=col>09NOV- 22NOV-2020</th></tr>\n",
       "\t<tr><th></th><th scope=col>&lt;chr&gt;</th><th scope=col>&lt;dbl&gt;</th></tr>\n",
       "</thead>\n",
       "<tbody>\n",
       "\t<tr><th scope=row>40</th><td>Influenza (laboratory confirmed)</td><td> 36</td></tr>\n",
       "\t<tr><th scope=row>23</th><td>COVID-19                        </td><td>150</td></tr>\n",
       "</tbody>\n",
       "</table>\n"
      ],
      "text/latex": [
       "A data.frame: 2 × 2\n",
       "\\begin{tabular}{r|ll}\n",
       "  & Disease & 09NOV- 22NOV-2020\\\\\n",
       "  & <chr> & <dbl>\\\\\n",
       "\\hline\n",
       "\t40 & Influenza (laboratory confirmed) &  36\\\\\n",
       "\t23 & COVID-19                         & 150\\\\\n",
       "\\end{tabular}\n"
      ],
      "text/markdown": [
       "\n",
       "A data.frame: 2 × 2\n",
       "\n",
       "| <!--/--> | Disease &lt;chr&gt; | 09NOV- 22NOV-2020 &lt;dbl&gt; |\n",
       "|---|---|---|\n",
       "| 40 | Influenza (laboratory confirmed) |  36 |\n",
       "| 23 | COVID-19                         | 150 |\n",
       "\n"
      ],
      "text/plain": [
       "   Disease                          09NOV- 22NOV-2020\n",
       "40 Influenza (laboratory confirmed)  36              \n",
       "23 COVID-19                         150              "
      ]
     },
     "metadata": {},
     "output_type": "display_data"
    }
   ],
   "source": [
    "NOV09_NOV22_2020[,2] <- as.numeric(NOV09_NOV22_2020[,2])\n",
    "colnames(NOV09_NOV22_2020) <- c(\"Disease\", \"09NOV- 22NOV-2020\")\n",
    "NOV09_NOV22_2020"
   ]
  },
  {
   "cell_type": "code",
   "execution_count": null,
   "id": "1de755b7-da25-4288-94b5-886b5a503c68",
   "metadata": {},
   "outputs": [],
   "source": []
  },
  {
   "cell_type": "code",
   "execution_count": null,
   "id": "58647fe0-00cd-4c8c-9f9a-cdbec1b6b331",
   "metadata": {},
   "outputs": [],
   "source": [
    "#Next dataset 23-november-to-6-december-2020-table"
   ]
  },
  {
   "cell_type": "code",
   "execution_count": 98,
   "id": "333660bc-3f3c-4226-902f-9a9fc58ce865",
   "metadata": {},
   "outputs": [
    {
     "data": {
      "text/html": [
       "<table class=\"dataframe\">\n",
       "<caption>A data.frame: 6 × 23</caption>\n",
       "<thead>\n",
       "\t<tr><th></th><th scope=col>ADT.FN24.2020</th><th scope=col>X</th><th scope=col>X.1</th><th scope=col>Notification.received.date</th><th scope=col>X.2</th><th scope=col>X.3</th><th scope=col>X.4</th><th scope=col>X.5</th><th scope=col>X.6</th><th scope=col>X.7</th><th scope=col>⋯</th><th scope=col>X.11</th><th scope=col>X.12</th><th scope=col>X.13</th><th scope=col>X.14</th><th scope=col>X.15</th><th scope=col>X.16</th><th scope=col>X.17</th><th scope=col>X.18</th><th scope=col>X.19</th><th scope=col>X.20</th></tr>\n",
       "\t<tr><th></th><th scope=col>&lt;chr&gt;</th><th scope=col>&lt;chr&gt;</th><th scope=col>&lt;chr&gt;</th><th scope=col>&lt;chr&gt;</th><th scope=col>&lt;chr&gt;</th><th scope=col>&lt;chr&gt;</th><th scope=col>&lt;chr&gt;</th><th scope=col>&lt;chr&gt;</th><th scope=col>&lt;chr&gt;</th><th scope=col>&lt;chr&gt;</th><th scope=col>⋯</th><th scope=col>&lt;chr&gt;</th><th scope=col>&lt;chr&gt;</th><th scope=col>&lt;chr&gt;</th><th scope=col>&lt;chr&gt;</th><th scope=col>&lt;chr&gt;</th><th scope=col>&lt;chr&gt;</th><th scope=col>&lt;chr&gt;</th><th scope=col>&lt;chr&gt;</th><th scope=col>&lt;chr&gt;</th><th scope=col>&lt;chr&gt;</th></tr>\n",
       "</thead>\n",
       "<tbody>\n",
       "\t<tr><th scope=row>1</th><td>                   </td><td>                            </td><td>            </td><td>State or Territory</td><td>     </td><td>     </td><td>    </td><td>     </td><td>     </td><td>    </td><td>⋯</td><td>                               </td><td>                 </td><td>Historical 90 Day Period</td><td>                               </td><td>                               </td><td>                                       </td><td>Historical Yearly Period</td><td>                            </td><td>                             </td><td>                                    </td></tr>\n",
       "\t<tr><th scope=row>2</th><td>Disease group      </td><td>Disease name                </td><td>Disease code</td><td>ACT               </td><td>NSW  </td><td>NT   </td><td>Qld </td><td>SA   </td><td>Tas  </td><td>Vic </td><td>⋯</td><td>Same reporting period last year</td><td>Current year\n",
       "YTD</td><td>Past Quarter            </td><td>Quarterly rolling \n",
       "5 year mean</td><td>Ratio past quarter/5 year mean*</td><td>Exceeds quarterly rolling mean +2 SD by</td><td>Past Year               </td><td>Yearly rolling \n",
       "5 year mean</td><td>Ratio past  year/5 year mean*</td><td>Exceeds yearly rolling mean +2 SD by</td></tr>\n",
       "\t<tr><th scope=row>3</th><td>                   </td><td>                            </td><td>            </td><td>                  </td><td>     </td><td>     </td><td>    </td><td>     </td><td>     </td><td>    </td><td>⋯</td><td>23/11/2019                     </td><td>01/01/2020       </td><td>08/09/2020              </td><td>                               </td><td>                               </td><td>                                       </td><td>07/12/2019              </td><td>07/12/2014                  </td><td>                             </td><td>                                    </td></tr>\n",
       "\t<tr><th scope=row>4</th><td>                   </td><td>                            </td><td>            </td><td>                  </td><td>     </td><td>     </td><td>    </td><td>     </td><td>     </td><td>    </td><td>⋯</td><td>06/12/2019                     </td><td>06/12/2020       </td><td>06/12/2020              </td><td>                               </td><td>                               </td><td>                                       </td><td>06/12/2020              </td><td>06/12/2019                  </td><td>                             </td><td>                                    </td></tr>\n",
       "\t<tr><th scope=row>5</th><td>Bloodborne diseases</td><td>Hepatitis B (newly acquired)</td><td>039         </td><td> -                </td><td> -   </td><td> 1   </td><td> 2  </td><td> -   </td><td> -   </td><td> 1  </td><td>⋯</td><td> 6                             </td><td> 104             </td><td> 25                     </td><td> 33.6                          </td><td> 0.7                           </td><td> -                                     </td><td> 115                    </td><td> 153.4                      </td><td> 0.7                         </td><td> -                                  </td></tr>\n",
       "\t<tr><th scope=row>6</th><td>                   </td><td>Hepatitis B (unspecified)   </td><td>052         </td><td> 1                </td><td> 83  </td><td> -   </td><td> 27 </td><td> 3   </td><td> 1   </td><td> 42 </td><td>⋯</td><td> 208                           </td><td> 4,691           </td><td> 1,172                  </td><td> 1,477.4                       </td><td> 0.8                           </td><td> -                                     </td><td> 4,979                  </td><td> 6,007.6                    </td><td> 0.8                         </td><td> -                                  </td></tr>\n",
       "</tbody>\n",
       "</table>\n"
      ],
      "text/latex": [
       "A data.frame: 6 × 23\n",
       "\\begin{tabular}{r|lllllllllllllllllllll}\n",
       "  & ADT.FN24.2020 & X & X.1 & Notification.received.date & X.2 & X.3 & X.4 & X.5 & X.6 & X.7 & ⋯ & X.11 & X.12 & X.13 & X.14 & X.15 & X.16 & X.17 & X.18 & X.19 & X.20\\\\\n",
       "  & <chr> & <chr> & <chr> & <chr> & <chr> & <chr> & <chr> & <chr> & <chr> & <chr> & ⋯ & <chr> & <chr> & <chr> & <chr> & <chr> & <chr> & <chr> & <chr> & <chr> & <chr>\\\\\n",
       "\\hline\n",
       "\t1 &                     &                              &              & State or Territory &       &       &      &       &       &      & ⋯ &                                 &                   & Historical 90 Day Period &                                 &                                 &                                         & Historical Yearly Period &                              &                               &                                     \\\\\n",
       "\t2 & Disease group       & Disease name                 & Disease code & ACT                & NSW   & NT    & Qld  & SA    & Tas   & Vic  & ⋯ & Same reporting period last year & Current year\n",
       "YTD & Past Quarter             & Quarterly rolling \n",
       "5 year mean & Ratio past quarter/5 year mean* & Exceeds quarterly rolling mean +2 SD by & Past Year                & Yearly rolling \n",
       "5 year mean & Ratio past  year/5 year mean* & Exceeds yearly rolling mean +2 SD by\\\\\n",
       "\t3 &                     &                              &              &                    &       &       &      &       &       &      & ⋯ & 23/11/2019                      & 01/01/2020        & 08/09/2020               &                                 &                                 &                                         & 07/12/2019               & 07/12/2014                   &                               &                                     \\\\\n",
       "\t4 &                     &                              &              &                    &       &       &      &       &       &      & ⋯ & 06/12/2019                      & 06/12/2020        & 06/12/2020               &                                 &                                 &                                         & 06/12/2020               & 06/12/2019                   &                               &                                     \\\\\n",
       "\t5 & Bloodborne diseases & Hepatitis B (newly acquired) & 039          &  -                 &  -    &  1    &  2   &  -    &  -    &  1   & ⋯ &  6                              &  104              &  25                      &  33.6                           &  0.7                            &  -                                      &  115                     &  153.4                       &  0.7                          &  -                                  \\\\\n",
       "\t6 &                     & Hepatitis B (unspecified)    & 052          &  1                 &  83   &  -    &  27  &  3    &  1    &  42  & ⋯ &  208                            &  4,691            &  1,172                   &  1,477.4                        &  0.8                            &  -                                      &  4,979                   &  6,007.6                     &  0.8                          &  -                                  \\\\\n",
       "\\end{tabular}\n"
      ],
      "text/markdown": [
       "\n",
       "A data.frame: 6 × 23\n",
       "\n",
       "| <!--/--> | ADT.FN24.2020 &lt;chr&gt; | X &lt;chr&gt; | X.1 &lt;chr&gt; | Notification.received.date &lt;chr&gt; | X.2 &lt;chr&gt; | X.3 &lt;chr&gt; | X.4 &lt;chr&gt; | X.5 &lt;chr&gt; | X.6 &lt;chr&gt; | X.7 &lt;chr&gt; | ⋯ ⋯ | X.11 &lt;chr&gt; | X.12 &lt;chr&gt; | X.13 &lt;chr&gt; | X.14 &lt;chr&gt; | X.15 &lt;chr&gt; | X.16 &lt;chr&gt; | X.17 &lt;chr&gt; | X.18 &lt;chr&gt; | X.19 &lt;chr&gt; | X.20 &lt;chr&gt; |\n",
       "|---|---|---|---|---|---|---|---|---|---|---|---|---|---|---|---|---|---|---|---|---|---|\n",
       "| 1 | <!----> | <!----> | <!----> | State or Territory | <!----> | <!----> | <!----> | <!----> | <!----> | <!----> | ⋯ | <!----> | <!----> | Historical 90 Day Period | <!----> | <!----> | <!----> | Historical Yearly Period | <!----> | <!----> | <!----> |\n",
       "| 2 | Disease group       | Disease name                 | Disease code | ACT                | NSW   | NT    | Qld  | SA    | Tas   | Vic  | ⋯ | Same reporting period last year | Current year\n",
       "YTD | Past Quarter             | Quarterly rolling \n",
       "5 year mean | Ratio past quarter/5 year mean* | Exceeds quarterly rolling mean +2 SD by | Past Year                | Yearly rolling \n",
       "5 year mean | Ratio past  year/5 year mean* | Exceeds yearly rolling mean +2 SD by |\n",
       "| 3 | <!----> | <!----> | <!----> | <!----> | <!----> | <!----> | <!----> | <!----> | <!----> | <!----> | ⋯ | 23/11/2019                      | 01/01/2020        | 08/09/2020               | <!----> | <!----> | <!----> | 07/12/2019               | 07/12/2014                   | <!----> | <!----> |\n",
       "| 4 | <!----> | <!----> | <!----> | <!----> | <!----> | <!----> | <!----> | <!----> | <!----> | <!----> | ⋯ | 06/12/2019                      | 06/12/2020        | 06/12/2020               | <!----> | <!----> | <!----> | 06/12/2020               | 06/12/2019                   | <!----> | <!----> |\n",
       "| 5 | Bloodborne diseases | Hepatitis B (newly acquired) | 039          |  -                 |  -    |  1    |  2   |  -    |  -    |  1   | ⋯ |  6                              |  104              |  25                      |  33.6                           |  0.7                            |  -                                      |  115                     |  153.4                       |  0.7                          |  -                                   |\n",
       "| 6 | <!----> | Hepatitis B (unspecified)    | 052          |  1                 |  83   |  -    |  27  |  3    |  1    |  42  | ⋯ |  208                            |  4,691            |  1,172                   |  1,477.4                        |  0.8                            |  -                                      |  4,979                   |  6,007.6                     |  0.8                          |  -                                   |\n",
       "\n"
      ],
      "text/plain": [
       "  ADT.FN24.2020       X                            X.1         \n",
       "1                                                              \n",
       "2 Disease group       Disease name                 Disease code\n",
       "3                                                              \n",
       "4                                                              \n",
       "5 Bloodborne diseases Hepatitis B (newly acquired) 039         \n",
       "6                     Hepatitis B (unspecified)    052         \n",
       "  Notification.received.date X.2   X.3   X.4  X.5   X.6   X.7  ⋯\n",
       "1 State or Territory                                           ⋯\n",
       "2 ACT                        NSW   NT    Qld  SA    Tas   Vic  ⋯\n",
       "3                                                              ⋯\n",
       "4                                                              ⋯\n",
       "5  -                          -     1     2    -     -     1   ⋯\n",
       "6  1                          83    -     27   3     1     42  ⋯\n",
       "  X.11                            X.12              X.13                    \n",
       "1                                                   Historical 90 Day Period\n",
       "2 Same reporting period last year Current year\\nYTD Past Quarter            \n",
       "3 23/11/2019                      01/01/2020        08/09/2020              \n",
       "4 06/12/2019                      06/12/2020        06/12/2020              \n",
       "5  6                               104               25                     \n",
       "6  208                             4,691             1,172                  \n",
       "  X.14                            X.15                           \n",
       "1                                                                \n",
       "2 Quarterly rolling \\n5 year mean Ratio past quarter/5 year mean*\n",
       "3                                                                \n",
       "4                                                                \n",
       "5  33.6                            0.7                           \n",
       "6  1,477.4                         0.8                           \n",
       "  X.16                                    X.17                    \n",
       "1                                         Historical Yearly Period\n",
       "2 Exceeds quarterly rolling mean +2 SD by Past Year               \n",
       "3                                         07/12/2019              \n",
       "4                                         06/12/2020              \n",
       "5  -                                       115                    \n",
       "6  -                                       4,979                  \n",
       "  X.18                         X.19                         \n",
       "1                                                           \n",
       "2 Yearly rolling \\n5 year mean Ratio past  year/5 year mean*\n",
       "3 07/12/2014                                                \n",
       "4 06/12/2019                                                \n",
       "5  153.4                        0.7                         \n",
       "6  6,007.6                      0.8                         \n",
       "  X.20                                \n",
       "1                                     \n",
       "2 Exceeds yearly rolling mean +2 SD by\n",
       "3                                     \n",
       "4                                     \n",
       "5  -                                  \n",
       "6  -                                  "
      ]
     },
     "metadata": {},
     "output_type": "display_data"
    },
    {
     "data": {
      "text/html": [
       "<table class=\"dataframe\">\n",
       "<caption>A data.frame: 6 × 2</caption>\n",
       "<thead>\n",
       "\t<tr><th></th><th scope=col>X</th><th scope=col>X.9</th></tr>\n",
       "\t<tr><th></th><th scope=col>&lt;chr&gt;</th><th scope=col>&lt;chr&gt;</th></tr>\n",
       "</thead>\n",
       "<tbody>\n",
       "\t<tr><th scope=row>1</th><td>                            </td><td>Totals for Australia </td></tr>\n",
       "\t<tr><th scope=row>2</th><td>Disease name                </td><td>This reporting period</td></tr>\n",
       "\t<tr><th scope=row>3</th><td>                            </td><td>23/11/2020           </td></tr>\n",
       "\t<tr><th scope=row>4</th><td>                            </td><td>06/12/2020           </td></tr>\n",
       "\t<tr><th scope=row>5</th><td>Hepatitis B (newly acquired)</td><td> 4                   </td></tr>\n",
       "\t<tr><th scope=row>6</th><td>Hepatitis B (unspecified)   </td><td> 171                 </td></tr>\n",
       "</tbody>\n",
       "</table>\n"
      ],
      "text/latex": [
       "A data.frame: 6 × 2\n",
       "\\begin{tabular}{r|ll}\n",
       "  & X & X.9\\\\\n",
       "  & <chr> & <chr>\\\\\n",
       "\\hline\n",
       "\t1 &                              & Totals for Australia \\\\\n",
       "\t2 & Disease name                 & This reporting period\\\\\n",
       "\t3 &                              & 23/11/2020           \\\\\n",
       "\t4 &                              & 06/12/2020           \\\\\n",
       "\t5 & Hepatitis B (newly acquired) &  4                   \\\\\n",
       "\t6 & Hepatitis B (unspecified)    &  171                 \\\\\n",
       "\\end{tabular}\n"
      ],
      "text/markdown": [
       "\n",
       "A data.frame: 6 × 2\n",
       "\n",
       "| <!--/--> | X &lt;chr&gt; | X.9 &lt;chr&gt; |\n",
       "|---|---|---|\n",
       "| 1 | <!----> | Totals for Australia  |\n",
       "| 2 | Disease name                 | This reporting period |\n",
       "| 3 | <!----> | 23/11/2020            |\n",
       "| 4 | <!----> | 06/12/2020            |\n",
       "| 5 | Hepatitis B (newly acquired) |  4                    |\n",
       "| 6 | Hepatitis B (unspecified)    |  171                  |\n",
       "\n"
      ],
      "text/plain": [
       "  X                            X.9                  \n",
       "1                              Totals for Australia \n",
       "2 Disease name                 This reporting period\n",
       "3                              23/11/2020           \n",
       "4                              06/12/2020           \n",
       "5 Hepatitis B (newly acquired)  4                   \n",
       "6 Hepatitis B (unspecified)     171                 "
      ]
     },
     "metadata": {},
     "output_type": "display_data"
    }
   ],
   "source": [
    "df = read.csv(\"23-november-to-6-december-2020-table.csv\", header=TRUE, stringsAsFactors=FALSE)\n",
    "head(df)\n",
    "\n",
    "df <- df[, -c(1,3:11, 13:23)]\n",
    "head(df)"
   ]
  },
  {
   "cell_type": "code",
   "execution_count": 99,
   "id": "04c61eb6-cb29-4fe0-90f3-d69fcd80bf46",
   "metadata": {},
   "outputs": [
    {
     "data": {
      "text/html": [
       "<table class=\"dataframe\">\n",
       "<caption>A data.frame: 1 × 2</caption>\n",
       "<thead>\n",
       "\t<tr><th></th><th scope=col>X</th><th scope=col>X.9</th></tr>\n",
       "\t<tr><th></th><th scope=col>&lt;chr&gt;</th><th scope=col>&lt;chr&gt;</th></tr>\n",
       "</thead>\n",
       "<tbody>\n",
       "\t<tr><th scope=row>40</th><td>Influenza (laboratory confirmed)</td><td> 36 </td></tr>\n",
       "</tbody>\n",
       "</table>\n"
      ],
      "text/latex": [
       "A data.frame: 1 × 2\n",
       "\\begin{tabular}{r|ll}\n",
       "  & X & X.9\\\\\n",
       "  & <chr> & <chr>\\\\\n",
       "\\hline\n",
       "\t40 & Influenza (laboratory confirmed) &  36 \\\\\n",
       "\\end{tabular}\n"
      ],
      "text/markdown": [
       "\n",
       "A data.frame: 1 × 2\n",
       "\n",
       "| <!--/--> | X &lt;chr&gt; | X.9 &lt;chr&gt; |\n",
       "|---|---|---|\n",
       "| 40 | Influenza (laboratory confirmed) |  36  |\n",
       "\n"
      ],
      "text/plain": [
       "   X                                X.9 \n",
       "40 Influenza (laboratory confirmed)  36 "
      ]
     },
     "metadata": {},
     "output_type": "display_data"
    },
    {
     "data": {
      "text/html": [
       "<table class=\"dataframe\">\n",
       "<caption>A data.frame: 1 × 2</caption>\n",
       "<thead>\n",
       "\t<tr><th></th><th scope=col>X</th><th scope=col>X.9</th></tr>\n",
       "\t<tr><th></th><th scope=col>&lt;chr&gt;</th><th scope=col>&lt;chr&gt;</th></tr>\n",
       "</thead>\n",
       "<tbody>\n",
       "\t<tr><th scope=row>23</th><td>COVID-19</td><td> 145 </td></tr>\n",
       "</tbody>\n",
       "</table>\n"
      ],
      "text/latex": [
       "A data.frame: 1 × 2\n",
       "\\begin{tabular}{r|ll}\n",
       "  & X & X.9\\\\\n",
       "  & <chr> & <chr>\\\\\n",
       "\\hline\n",
       "\t23 & COVID-19 &  145 \\\\\n",
       "\\end{tabular}\n"
      ],
      "text/markdown": [
       "\n",
       "A data.frame: 1 × 2\n",
       "\n",
       "| <!--/--> | X &lt;chr&gt; | X.9 &lt;chr&gt; |\n",
       "|---|---|---|\n",
       "| 23 | COVID-19 |  145  |\n",
       "\n"
      ],
      "text/plain": [
       "   X        X.9  \n",
       "23 COVID-19  145 "
      ]
     },
     "metadata": {},
     "output_type": "display_data"
    },
    {
     "data": {
      "text/html": [
       "<table class=\"dataframe\">\n",
       "<caption>A data.frame: 2 × 2</caption>\n",
       "<thead>\n",
       "\t<tr><th></th><th scope=col>X</th><th scope=col>X.9</th></tr>\n",
       "\t<tr><th></th><th scope=col>&lt;chr&gt;</th><th scope=col>&lt;chr&gt;</th></tr>\n",
       "</thead>\n",
       "<tbody>\n",
       "\t<tr><th scope=row>40</th><td>Influenza (laboratory confirmed)</td><td> 36  </td></tr>\n",
       "\t<tr><th scope=row>23</th><td>COVID-19                        </td><td> 145 </td></tr>\n",
       "</tbody>\n",
       "</table>\n"
      ],
      "text/latex": [
       "A data.frame: 2 × 2\n",
       "\\begin{tabular}{r|ll}\n",
       "  & X & X.9\\\\\n",
       "  & <chr> & <chr>\\\\\n",
       "\\hline\n",
       "\t40 & Influenza (laboratory confirmed) &  36  \\\\\n",
       "\t23 & COVID-19                         &  145 \\\\\n",
       "\\end{tabular}\n"
      ],
      "text/markdown": [
       "\n",
       "A data.frame: 2 × 2\n",
       "\n",
       "| <!--/--> | X &lt;chr&gt; | X.9 &lt;chr&gt; |\n",
       "|---|---|---|\n",
       "| 40 | Influenza (laboratory confirmed) |  36   |\n",
       "| 23 | COVID-19                         |  145  |\n",
       "\n"
      ],
      "text/plain": [
       "   X                                X.9  \n",
       "40 Influenza (laboratory confirmed)  36  \n",
       "23 COVID-19                          145 "
      ]
     },
     "metadata": {},
     "output_type": "display_data"
    }
   ],
   "source": [
    "#find the rows that contain the words influenza\n",
    "\n",
    "inf <- df[grep(\"Influenza\", df$X),]\n",
    "head(inf)\n",
    "covid <-  df[grep(\"COVID\", df$X),]\n",
    "covid\n",
    "NOvV23_DEC06_2020 <- rbind(inf, covid)\n",
    "NOvV23_DEC06_2020"
   ]
  },
  {
   "cell_type": "code",
   "execution_count": 100,
   "id": "c34b0090-8f0f-49a5-857a-62639a31ecf5",
   "metadata": {},
   "outputs": [
    {
     "data": {
      "text/html": [
       "<table class=\"dataframe\">\n",
       "<caption>A data.frame: 2 × 2</caption>\n",
       "<thead>\n",
       "\t<tr><th></th><th scope=col>Disease</th><th scope=col>23NOV- 06DEC-2020</th></tr>\n",
       "\t<tr><th></th><th scope=col>&lt;chr&gt;</th><th scope=col>&lt;dbl&gt;</th></tr>\n",
       "</thead>\n",
       "<tbody>\n",
       "\t<tr><th scope=row>40</th><td>Influenza (laboratory confirmed)</td><td> 36</td></tr>\n",
       "\t<tr><th scope=row>23</th><td>COVID-19                        </td><td>145</td></tr>\n",
       "</tbody>\n",
       "</table>\n"
      ],
      "text/latex": [
       "A data.frame: 2 × 2\n",
       "\\begin{tabular}{r|ll}\n",
       "  & Disease & 23NOV- 06DEC-2020\\\\\n",
       "  & <chr> & <dbl>\\\\\n",
       "\\hline\n",
       "\t40 & Influenza (laboratory confirmed) &  36\\\\\n",
       "\t23 & COVID-19                         & 145\\\\\n",
       "\\end{tabular}\n"
      ],
      "text/markdown": [
       "\n",
       "A data.frame: 2 × 2\n",
       "\n",
       "| <!--/--> | Disease &lt;chr&gt; | 23NOV- 06DEC-2020 &lt;dbl&gt; |\n",
       "|---|---|---|\n",
       "| 40 | Influenza (laboratory confirmed) |  36 |\n",
       "| 23 | COVID-19                         | 145 |\n",
       "\n"
      ],
      "text/plain": [
       "   Disease                          23NOV- 06DEC-2020\n",
       "40 Influenza (laboratory confirmed)  36              \n",
       "23 COVID-19                         145              "
      ]
     },
     "metadata": {},
     "output_type": "display_data"
    }
   ],
   "source": [
    "NOvV23_DEC06_2020[,2] <- as.numeric(NOvV23_DEC06_2020[,2])\n",
    "colnames(NOvV23_DEC06_2020) <- c(\"Disease\", \"23NOV- 06DEC-2020\")\n",
    "NOvV23_DEC06_2020"
   ]
  },
  {
   "cell_type": "code",
   "execution_count": null,
   "id": "0c2f93e1-5baa-43b1-9cea-f96b3ddf730e",
   "metadata": {},
   "outputs": [],
   "source": []
  },
  {
   "cell_type": "code",
   "execution_count": 101,
   "id": "4faa45bf-6554-44c3-ae21-6aa73259c4b8",
   "metadata": {},
   "outputs": [],
   "source": [
    "#next dataset 7-to-20-december-2020-table"
   ]
  },
  {
   "cell_type": "code",
   "execution_count": 102,
   "id": "dff1d71e-56a4-4a88-8bb7-b25f1dac6fb8",
   "metadata": {},
   "outputs": [
    {
     "data": {
      "text/html": [
       "<table class=\"dataframe\">\n",
       "<caption>A data.frame: 6 × 23</caption>\n",
       "<thead>\n",
       "\t<tr><th></th><th scope=col>ADT.FN25.2020</th><th scope=col>X</th><th scope=col>X.1</th><th scope=col>Notification.received.date</th><th scope=col>X.2</th><th scope=col>X.3</th><th scope=col>X.4</th><th scope=col>X.5</th><th scope=col>X.6</th><th scope=col>X.7</th><th scope=col>⋯</th><th scope=col>X.11</th><th scope=col>X.12</th><th scope=col>X.13</th><th scope=col>X.14</th><th scope=col>X.15</th><th scope=col>X.16</th><th scope=col>X.17</th><th scope=col>X.18</th><th scope=col>X.19</th><th scope=col>X.20</th></tr>\n",
       "\t<tr><th></th><th scope=col>&lt;chr&gt;</th><th scope=col>&lt;chr&gt;</th><th scope=col>&lt;chr&gt;</th><th scope=col>&lt;chr&gt;</th><th scope=col>&lt;chr&gt;</th><th scope=col>&lt;chr&gt;</th><th scope=col>&lt;chr&gt;</th><th scope=col>&lt;chr&gt;</th><th scope=col>&lt;chr&gt;</th><th scope=col>&lt;chr&gt;</th><th scope=col>⋯</th><th scope=col>&lt;chr&gt;</th><th scope=col>&lt;chr&gt;</th><th scope=col>&lt;chr&gt;</th><th scope=col>&lt;chr&gt;</th><th scope=col>&lt;chr&gt;</th><th scope=col>&lt;chr&gt;</th><th scope=col>&lt;chr&gt;</th><th scope=col>&lt;chr&gt;</th><th scope=col>&lt;chr&gt;</th><th scope=col>&lt;chr&gt;</th></tr>\n",
       "</thead>\n",
       "<tbody>\n",
       "\t<tr><th scope=row>1</th><td>                   </td><td>                            </td><td>            </td><td>State or Territory</td><td>     </td><td>     </td><td>    </td><td>     </td><td>     </td><td>     </td><td>⋯</td><td>                               </td><td>                 </td><td>Historical 90 Day Period</td><td>                               </td><td>                               </td><td>                                       </td><td>Historical Yearly Period</td><td>                            </td><td>                             </td><td>                                    </td></tr>\n",
       "\t<tr><th scope=row>2</th><td>Disease group      </td><td>Disease name                </td><td>Disease code</td><td>ACT               </td><td>NSW  </td><td>NT   </td><td>Qld </td><td>SA   </td><td>Tas  </td><td>Vic  </td><td>⋯</td><td>Same reporting period last year</td><td>Current year\n",
       "YTD</td><td>Past Quarter            </td><td>Quarterly rolling \n",
       "5 year mean</td><td>Ratio past quarter/5 year mean*</td><td>Exceeds quarterly rolling mean +2 SD by</td><td>Past Year               </td><td>Yearly rolling \n",
       "5 year mean</td><td>Ratio past  year/5 year mean*</td><td>Exceeds yearly rolling mean +2 SD by</td></tr>\n",
       "\t<tr><th scope=row>3</th><td>                   </td><td>                            </td><td>            </td><td>                  </td><td>     </td><td>     </td><td>    </td><td>     </td><td>     </td><td>     </td><td>⋯</td><td>07/12/2019                     </td><td>01/01/2020       </td><td>22/09/2020              </td><td>                               </td><td>                               </td><td>                                       </td><td>21/12/2019              </td><td>21/12/2014                  </td><td>                             </td><td>                                    </td></tr>\n",
       "\t<tr><th scope=row>4</th><td>                   </td><td>                            </td><td>            </td><td>                  </td><td>     </td><td>     </td><td>    </td><td>     </td><td>     </td><td>     </td><td>⋯</td><td>20/12/2019                     </td><td>20/12/2020       </td><td>20/12/2020              </td><td>                               </td><td>                               </td><td>                                       </td><td>20/12/2020              </td><td>20/12/2019                  </td><td>                             </td><td>                                    </td></tr>\n",
       "\t<tr><th scope=row>5</th><td>Bloodborne diseases</td><td>Hepatitis B (newly acquired)</td><td>039         </td><td> -                </td><td> -   </td><td> -   </td><td> 2  </td><td> -   </td><td> -   </td><td> -   </td><td>⋯</td><td> 6                             </td><td> 109             </td><td> 25                     </td><td> 34.4                          </td><td> 0.7                           </td><td> -                                     </td><td> 114                    </td><td> 152.8                      </td><td> 0.7                         </td><td> -                                  </td></tr>\n",
       "\t<tr><th scope=row>6</th><td>                   </td><td>Hepatitis B (unspecified)   </td><td>052         </td><td> 3                </td><td> 67  </td><td> 1   </td><td> 23 </td><td> 4   </td><td> -   </td><td> 57  </td><td>⋯</td><td> 207                           </td><td> 4,882           </td><td> 1,171                  </td><td> 1,445.6                       </td><td> 0.8                           </td><td> -                                     </td><td> 4,963                  </td><td> 5,994.4                    </td><td> 0.8                         </td><td> -                                  </td></tr>\n",
       "</tbody>\n",
       "</table>\n"
      ],
      "text/latex": [
       "A data.frame: 6 × 23\n",
       "\\begin{tabular}{r|lllllllllllllllllllll}\n",
       "  & ADT.FN25.2020 & X & X.1 & Notification.received.date & X.2 & X.3 & X.4 & X.5 & X.6 & X.7 & ⋯ & X.11 & X.12 & X.13 & X.14 & X.15 & X.16 & X.17 & X.18 & X.19 & X.20\\\\\n",
       "  & <chr> & <chr> & <chr> & <chr> & <chr> & <chr> & <chr> & <chr> & <chr> & <chr> & ⋯ & <chr> & <chr> & <chr> & <chr> & <chr> & <chr> & <chr> & <chr> & <chr> & <chr>\\\\\n",
       "\\hline\n",
       "\t1 &                     &                              &              & State or Territory &       &       &      &       &       &       & ⋯ &                                 &                   & Historical 90 Day Period &                                 &                                 &                                         & Historical Yearly Period &                              &                               &                                     \\\\\n",
       "\t2 & Disease group       & Disease name                 & Disease code & ACT                & NSW   & NT    & Qld  & SA    & Tas   & Vic   & ⋯ & Same reporting period last year & Current year\n",
       "YTD & Past Quarter             & Quarterly rolling \n",
       "5 year mean & Ratio past quarter/5 year mean* & Exceeds quarterly rolling mean +2 SD by & Past Year                & Yearly rolling \n",
       "5 year mean & Ratio past  year/5 year mean* & Exceeds yearly rolling mean +2 SD by\\\\\n",
       "\t3 &                     &                              &              &                    &       &       &      &       &       &       & ⋯ & 07/12/2019                      & 01/01/2020        & 22/09/2020               &                                 &                                 &                                         & 21/12/2019               & 21/12/2014                   &                               &                                     \\\\\n",
       "\t4 &                     &                              &              &                    &       &       &      &       &       &       & ⋯ & 20/12/2019                      & 20/12/2020        & 20/12/2020               &                                 &                                 &                                         & 20/12/2020               & 20/12/2019                   &                               &                                     \\\\\n",
       "\t5 & Bloodborne diseases & Hepatitis B (newly acquired) & 039          &  -                 &  -    &  -    &  2   &  -    &  -    &  -    & ⋯ &  6                              &  109              &  25                      &  34.4                           &  0.7                            &  -                                      &  114                     &  152.8                       &  0.7                          &  -                                  \\\\\n",
       "\t6 &                     & Hepatitis B (unspecified)    & 052          &  3                 &  67   &  1    &  23  &  4    &  -    &  57   & ⋯ &  207                            &  4,882            &  1,171                   &  1,445.6                        &  0.8                            &  -                                      &  4,963                   &  5,994.4                     &  0.8                          &  -                                  \\\\\n",
       "\\end{tabular}\n"
      ],
      "text/markdown": [
       "\n",
       "A data.frame: 6 × 23\n",
       "\n",
       "| <!--/--> | ADT.FN25.2020 &lt;chr&gt; | X &lt;chr&gt; | X.1 &lt;chr&gt; | Notification.received.date &lt;chr&gt; | X.2 &lt;chr&gt; | X.3 &lt;chr&gt; | X.4 &lt;chr&gt; | X.5 &lt;chr&gt; | X.6 &lt;chr&gt; | X.7 &lt;chr&gt; | ⋯ ⋯ | X.11 &lt;chr&gt; | X.12 &lt;chr&gt; | X.13 &lt;chr&gt; | X.14 &lt;chr&gt; | X.15 &lt;chr&gt; | X.16 &lt;chr&gt; | X.17 &lt;chr&gt; | X.18 &lt;chr&gt; | X.19 &lt;chr&gt; | X.20 &lt;chr&gt; |\n",
       "|---|---|---|---|---|---|---|---|---|---|---|---|---|---|---|---|---|---|---|---|---|---|\n",
       "| 1 | <!----> | <!----> | <!----> | State or Territory | <!----> | <!----> | <!----> | <!----> | <!----> | <!----> | ⋯ | <!----> | <!----> | Historical 90 Day Period | <!----> | <!----> | <!----> | Historical Yearly Period | <!----> | <!----> | <!----> |\n",
       "| 2 | Disease group       | Disease name                 | Disease code | ACT                | NSW   | NT    | Qld  | SA    | Tas   | Vic   | ⋯ | Same reporting period last year | Current year\n",
       "YTD | Past Quarter             | Quarterly rolling \n",
       "5 year mean | Ratio past quarter/5 year mean* | Exceeds quarterly rolling mean +2 SD by | Past Year                | Yearly rolling \n",
       "5 year mean | Ratio past  year/5 year mean* | Exceeds yearly rolling mean +2 SD by |\n",
       "| 3 | <!----> | <!----> | <!----> | <!----> | <!----> | <!----> | <!----> | <!----> | <!----> | <!----> | ⋯ | 07/12/2019                      | 01/01/2020        | 22/09/2020               | <!----> | <!----> | <!----> | 21/12/2019               | 21/12/2014                   | <!----> | <!----> |\n",
       "| 4 | <!----> | <!----> | <!----> | <!----> | <!----> | <!----> | <!----> | <!----> | <!----> | <!----> | ⋯ | 20/12/2019                      | 20/12/2020        | 20/12/2020               | <!----> | <!----> | <!----> | 20/12/2020               | 20/12/2019                   | <!----> | <!----> |\n",
       "| 5 | Bloodborne diseases | Hepatitis B (newly acquired) | 039          |  -                 |  -    |  -    |  2   |  -    |  -    |  -    | ⋯ |  6                              |  109              |  25                      |  34.4                           |  0.7                            |  -                                      |  114                     |  152.8                       |  0.7                          |  -                                   |\n",
       "| 6 | <!----> | Hepatitis B (unspecified)    | 052          |  3                 |  67   |  1    |  23  |  4    |  -    |  57   | ⋯ |  207                            |  4,882            |  1,171                   |  1,445.6                        |  0.8                            |  -                                      |  4,963                   |  5,994.4                     |  0.8                          |  -                                   |\n",
       "\n"
      ],
      "text/plain": [
       "  ADT.FN25.2020       X                            X.1         \n",
       "1                                                              \n",
       "2 Disease group       Disease name                 Disease code\n",
       "3                                                              \n",
       "4                                                              \n",
       "5 Bloodborne diseases Hepatitis B (newly acquired) 039         \n",
       "6                     Hepatitis B (unspecified)    052         \n",
       "  Notification.received.date X.2   X.3   X.4  X.5   X.6   X.7   ⋯\n",
       "1 State or Territory                                            ⋯\n",
       "2 ACT                        NSW   NT    Qld  SA    Tas   Vic   ⋯\n",
       "3                                                               ⋯\n",
       "4                                                               ⋯\n",
       "5  -                          -     -     2    -     -     -    ⋯\n",
       "6  3                          67    1     23   4     -     57   ⋯\n",
       "  X.11                            X.12              X.13                    \n",
       "1                                                   Historical 90 Day Period\n",
       "2 Same reporting period last year Current year\\nYTD Past Quarter            \n",
       "3 07/12/2019                      01/01/2020        22/09/2020              \n",
       "4 20/12/2019                      20/12/2020        20/12/2020              \n",
       "5  6                               109               25                     \n",
       "6  207                             4,882             1,171                  \n",
       "  X.14                            X.15                           \n",
       "1                                                                \n",
       "2 Quarterly rolling \\n5 year mean Ratio past quarter/5 year mean*\n",
       "3                                                                \n",
       "4                                                                \n",
       "5  34.4                            0.7                           \n",
       "6  1,445.6                         0.8                           \n",
       "  X.16                                    X.17                    \n",
       "1                                         Historical Yearly Period\n",
       "2 Exceeds quarterly rolling mean +2 SD by Past Year               \n",
       "3                                         21/12/2019              \n",
       "4                                         20/12/2020              \n",
       "5  -                                       114                    \n",
       "6  -                                       4,963                  \n",
       "  X.18                         X.19                         \n",
       "1                                                           \n",
       "2 Yearly rolling \\n5 year mean Ratio past  year/5 year mean*\n",
       "3 21/12/2014                                                \n",
       "4 20/12/2019                                                \n",
       "5  152.8                        0.7                         \n",
       "6  5,994.4                      0.8                         \n",
       "  X.20                                \n",
       "1                                     \n",
       "2 Exceeds yearly rolling mean +2 SD by\n",
       "3                                     \n",
       "4                                     \n",
       "5  -                                  \n",
       "6  -                                  "
      ]
     },
     "metadata": {},
     "output_type": "display_data"
    },
    {
     "data": {
      "text/html": [
       "<table class=\"dataframe\">\n",
       "<caption>A data.frame: 6 × 2</caption>\n",
       "<thead>\n",
       "\t<tr><th></th><th scope=col>X</th><th scope=col>X.9</th></tr>\n",
       "\t<tr><th></th><th scope=col>&lt;chr&gt;</th><th scope=col>&lt;chr&gt;</th></tr>\n",
       "</thead>\n",
       "<tbody>\n",
       "\t<tr><th scope=row>1</th><td>                            </td><td>Totals for Australia </td></tr>\n",
       "\t<tr><th scope=row>2</th><td>Disease name                </td><td>This reporting period</td></tr>\n",
       "\t<tr><th scope=row>3</th><td>                            </td><td>07/12/2020           </td></tr>\n",
       "\t<tr><th scope=row>4</th><td>                            </td><td>20/12/2020           </td></tr>\n",
       "\t<tr><th scope=row>5</th><td>Hepatitis B (newly acquired)</td><td> 2                   </td></tr>\n",
       "\t<tr><th scope=row>6</th><td>Hepatitis B (unspecified)   </td><td> 180                 </td></tr>\n",
       "</tbody>\n",
       "</table>\n"
      ],
      "text/latex": [
       "A data.frame: 6 × 2\n",
       "\\begin{tabular}{r|ll}\n",
       "  & X & X.9\\\\\n",
       "  & <chr> & <chr>\\\\\n",
       "\\hline\n",
       "\t1 &                              & Totals for Australia \\\\\n",
       "\t2 & Disease name                 & This reporting period\\\\\n",
       "\t3 &                              & 07/12/2020           \\\\\n",
       "\t4 &                              & 20/12/2020           \\\\\n",
       "\t5 & Hepatitis B (newly acquired) &  2                   \\\\\n",
       "\t6 & Hepatitis B (unspecified)    &  180                 \\\\\n",
       "\\end{tabular}\n"
      ],
      "text/markdown": [
       "\n",
       "A data.frame: 6 × 2\n",
       "\n",
       "| <!--/--> | X &lt;chr&gt; | X.9 &lt;chr&gt; |\n",
       "|---|---|---|\n",
       "| 1 | <!----> | Totals for Australia  |\n",
       "| 2 | Disease name                 | This reporting period |\n",
       "| 3 | <!----> | 07/12/2020            |\n",
       "| 4 | <!----> | 20/12/2020            |\n",
       "| 5 | Hepatitis B (newly acquired) |  2                    |\n",
       "| 6 | Hepatitis B (unspecified)    |  180                  |\n",
       "\n"
      ],
      "text/plain": [
       "  X                            X.9                  \n",
       "1                              Totals for Australia \n",
       "2 Disease name                 This reporting period\n",
       "3                              07/12/2020           \n",
       "4                              20/12/2020           \n",
       "5 Hepatitis B (newly acquired)  2                   \n",
       "6 Hepatitis B (unspecified)     180                 "
      ]
     },
     "metadata": {},
     "output_type": "display_data"
    }
   ],
   "source": [
    "df = read.csv(\"7-to-20-december-2020-table.csv\", header=TRUE, stringsAsFactors=FALSE)\n",
    "head(df)\n",
    "\n",
    "df <- df[, -c(1,3:11, 13:23)]\n",
    "head(df)"
   ]
  },
  {
   "cell_type": "code",
   "execution_count": 103,
   "id": "dd1e30bf-6f22-4528-b95f-c791d7bb0fc4",
   "metadata": {},
   "outputs": [
    {
     "data": {
      "text/html": [
       "<table class=\"dataframe\">\n",
       "<caption>A data.frame: 1 × 2</caption>\n",
       "<thead>\n",
       "\t<tr><th></th><th scope=col>X</th><th scope=col>X.9</th></tr>\n",
       "\t<tr><th></th><th scope=col>&lt;chr&gt;</th><th scope=col>&lt;chr&gt;</th></tr>\n",
       "</thead>\n",
       "<tbody>\n",
       "\t<tr><th scope=row>40</th><td>Influenza (laboratory confirmed)</td><td> 28 </td></tr>\n",
       "</tbody>\n",
       "</table>\n"
      ],
      "text/latex": [
       "A data.frame: 1 × 2\n",
       "\\begin{tabular}{r|ll}\n",
       "  & X & X.9\\\\\n",
       "  & <chr> & <chr>\\\\\n",
       "\\hline\n",
       "\t40 & Influenza (laboratory confirmed) &  28 \\\\\n",
       "\\end{tabular}\n"
      ],
      "text/markdown": [
       "\n",
       "A data.frame: 1 × 2\n",
       "\n",
       "| <!--/--> | X &lt;chr&gt; | X.9 &lt;chr&gt; |\n",
       "|---|---|---|\n",
       "| 40 | Influenza (laboratory confirmed) |  28  |\n",
       "\n"
      ],
      "text/plain": [
       "   X                                X.9 \n",
       "40 Influenza (laboratory confirmed)  28 "
      ]
     },
     "metadata": {},
     "output_type": "display_data"
    },
    {
     "data": {
      "text/html": [
       "<table class=\"dataframe\">\n",
       "<caption>A data.frame: 1 × 2</caption>\n",
       "<thead>\n",
       "\t<tr><th></th><th scope=col>X</th><th scope=col>X.9</th></tr>\n",
       "\t<tr><th></th><th scope=col>&lt;chr&gt;</th><th scope=col>&lt;chr&gt;</th></tr>\n",
       "</thead>\n",
       "<tbody>\n",
       "\t<tr><th scope=row>23</th><td>COVID-19</td><td> 233 </td></tr>\n",
       "</tbody>\n",
       "</table>\n"
      ],
      "text/latex": [
       "A data.frame: 1 × 2\n",
       "\\begin{tabular}{r|ll}\n",
       "  & X & X.9\\\\\n",
       "  & <chr> & <chr>\\\\\n",
       "\\hline\n",
       "\t23 & COVID-19 &  233 \\\\\n",
       "\\end{tabular}\n"
      ],
      "text/markdown": [
       "\n",
       "A data.frame: 1 × 2\n",
       "\n",
       "| <!--/--> | X &lt;chr&gt; | X.9 &lt;chr&gt; |\n",
       "|---|---|---|\n",
       "| 23 | COVID-19 |  233  |\n",
       "\n"
      ],
      "text/plain": [
       "   X        X.9  \n",
       "23 COVID-19  233 "
      ]
     },
     "metadata": {},
     "output_type": "display_data"
    },
    {
     "data": {
      "text/html": [
       "<table class=\"dataframe\">\n",
       "<caption>A data.frame: 2 × 2</caption>\n",
       "<thead>\n",
       "\t<tr><th></th><th scope=col>X</th><th scope=col>X.9</th></tr>\n",
       "\t<tr><th></th><th scope=col>&lt;chr&gt;</th><th scope=col>&lt;chr&gt;</th></tr>\n",
       "</thead>\n",
       "<tbody>\n",
       "\t<tr><th scope=row>40</th><td>Influenza (laboratory confirmed)</td><td> 28  </td></tr>\n",
       "\t<tr><th scope=row>23</th><td>COVID-19                        </td><td> 233 </td></tr>\n",
       "</tbody>\n",
       "</table>\n"
      ],
      "text/latex": [
       "A data.frame: 2 × 2\n",
       "\\begin{tabular}{r|ll}\n",
       "  & X & X.9\\\\\n",
       "  & <chr> & <chr>\\\\\n",
       "\\hline\n",
       "\t40 & Influenza (laboratory confirmed) &  28  \\\\\n",
       "\t23 & COVID-19                         &  233 \\\\\n",
       "\\end{tabular}\n"
      ],
      "text/markdown": [
       "\n",
       "A data.frame: 2 × 2\n",
       "\n",
       "| <!--/--> | X &lt;chr&gt; | X.9 &lt;chr&gt; |\n",
       "|---|---|---|\n",
       "| 40 | Influenza (laboratory confirmed) |  28   |\n",
       "| 23 | COVID-19                         |  233  |\n",
       "\n"
      ],
      "text/plain": [
       "   X                                X.9  \n",
       "40 Influenza (laboratory confirmed)  28  \n",
       "23 COVID-19                          233 "
      ]
     },
     "metadata": {},
     "output_type": "display_data"
    }
   ],
   "source": [
    "#find the rows that contain the words influenza\n",
    "\n",
    "inf <- df[grep(\"Influenza\", df$X),]\n",
    "head(inf)\n",
    "covid <-  df[grep(\"COVID\", df$X),]\n",
    "covid\n",
    "DEC07_DEC20_2020 <- rbind(inf, covid)\n",
    "DEC07_DEC20_2020"
   ]
  },
  {
   "cell_type": "code",
   "execution_count": 104,
   "id": "5711ab32-b99c-4f78-8521-66cad1962cff",
   "metadata": {},
   "outputs": [
    {
     "data": {
      "text/html": [
       "<table class=\"dataframe\">\n",
       "<caption>A data.frame: 2 × 2</caption>\n",
       "<thead>\n",
       "\t<tr><th></th><th scope=col>Disease</th><th scope=col>07DEC- 20DEC-2020</th></tr>\n",
       "\t<tr><th></th><th scope=col>&lt;chr&gt;</th><th scope=col>&lt;dbl&gt;</th></tr>\n",
       "</thead>\n",
       "<tbody>\n",
       "\t<tr><th scope=row>40</th><td>Influenza (laboratory confirmed)</td><td> 28</td></tr>\n",
       "\t<tr><th scope=row>23</th><td>COVID-19                        </td><td>233</td></tr>\n",
       "</tbody>\n",
       "</table>\n"
      ],
      "text/latex": [
       "A data.frame: 2 × 2\n",
       "\\begin{tabular}{r|ll}\n",
       "  & Disease & 07DEC- 20DEC-2020\\\\\n",
       "  & <chr> & <dbl>\\\\\n",
       "\\hline\n",
       "\t40 & Influenza (laboratory confirmed) &  28\\\\\n",
       "\t23 & COVID-19                         & 233\\\\\n",
       "\\end{tabular}\n"
      ],
      "text/markdown": [
       "\n",
       "A data.frame: 2 × 2\n",
       "\n",
       "| <!--/--> | Disease &lt;chr&gt; | 07DEC- 20DEC-2020 &lt;dbl&gt; |\n",
       "|---|---|---|\n",
       "| 40 | Influenza (laboratory confirmed) |  28 |\n",
       "| 23 | COVID-19                         | 233 |\n",
       "\n"
      ],
      "text/plain": [
       "   Disease                          07DEC- 20DEC-2020\n",
       "40 Influenza (laboratory confirmed)  28              \n",
       "23 COVID-19                         233              "
      ]
     },
     "metadata": {},
     "output_type": "display_data"
    }
   ],
   "source": [
    "DEC07_DEC20_2020[,2] <- as.numeric(DEC07_DEC20_2020[,2])\n",
    "colnames(DEC07_DEC20_2020) <- c(\"Disease\", \"07DEC- 20DEC-2020\")\n",
    "DEC07_DEC20_2020"
   ]
  },
  {
   "cell_type": "code",
   "execution_count": null,
   "id": "ce40c2d4-5b81-493f-809b-5fc4652561a8",
   "metadata": {},
   "outputs": [],
   "source": []
  },
  {
   "cell_type": "code",
   "execution_count": 105,
   "id": "5dd532d8-e18e-487c-aaf8-42f3cffca6a9",
   "metadata": {},
   "outputs": [],
   "source": [
    "#Next dataset 21-december-2020-to-3-january-2021-table"
   ]
  },
  {
   "cell_type": "code",
   "execution_count": 106,
   "id": "86862fc4-a681-4502-9278-2e350d03aec1",
   "metadata": {},
   "outputs": [
    {
     "data": {
      "text/html": [
       "<table class=\"dataframe\">\n",
       "<caption>A data.frame: 6 × 23</caption>\n",
       "<thead>\n",
       "\t<tr><th></th><th scope=col>ADT.FN26.2020.2021</th><th scope=col>X</th><th scope=col>X.1</th><th scope=col>Notification.received.date</th><th scope=col>X.2</th><th scope=col>X.3</th><th scope=col>X.4</th><th scope=col>X.5</th><th scope=col>X.6</th><th scope=col>X.7</th><th scope=col>⋯</th><th scope=col>X.11</th><th scope=col>X.12</th><th scope=col>X.13</th><th scope=col>X.14</th><th scope=col>X.15</th><th scope=col>X.16</th><th scope=col>X.17</th><th scope=col>X.18</th><th scope=col>X.19</th><th scope=col>X.20</th></tr>\n",
       "\t<tr><th></th><th scope=col>&lt;chr&gt;</th><th scope=col>&lt;chr&gt;</th><th scope=col>&lt;chr&gt;</th><th scope=col>&lt;chr&gt;</th><th scope=col>&lt;chr&gt;</th><th scope=col>&lt;chr&gt;</th><th scope=col>&lt;chr&gt;</th><th scope=col>&lt;chr&gt;</th><th scope=col>&lt;chr&gt;</th><th scope=col>&lt;chr&gt;</th><th scope=col>⋯</th><th scope=col>&lt;chr&gt;</th><th scope=col>&lt;chr&gt;</th><th scope=col>&lt;chr&gt;</th><th scope=col>&lt;chr&gt;</th><th scope=col>&lt;chr&gt;</th><th scope=col>&lt;chr&gt;</th><th scope=col>&lt;chr&gt;</th><th scope=col>&lt;chr&gt;</th><th scope=col>&lt;chr&gt;</th><th scope=col>&lt;chr&gt;</th></tr>\n",
       "</thead>\n",
       "<tbody>\n",
       "\t<tr><th scope=row>1</th><td>                   </td><td>                            </td><td>            </td><td>State or Territory</td><td>     </td><td>     </td><td>     </td><td>     </td><td>     </td><td>     </td><td>⋯</td><td>                               </td><td>                 </td><td>Historical 90 Day Period</td><td>                               </td><td>                               </td><td>                                       </td><td>Historical Yearly Period</td><td>                            </td><td>                             </td><td>                                    </td></tr>\n",
       "\t<tr><th scope=row>2</th><td>Disease group      </td><td>Disease name                </td><td>Disease code</td><td>ACT               </td><td>NSW  </td><td>NT   </td><td>Qld  </td><td>SA   </td><td>Tas  </td><td>Vic  </td><td>⋯</td><td>Same reporting period last year</td><td>Current year\n",
       "YTD</td><td>Past Quarter            </td><td>Quarterly rolling \n",
       "5 year mean</td><td>Ratio past quarter/5 year mean*</td><td>Exceeds quarterly rolling mean +2 SD by</td><td>Past Year               </td><td>Yearly rolling \n",
       "5 year mean</td><td>Ratio past  year/5 year mean*</td><td>Exceeds yearly rolling mean +2 SD by</td></tr>\n",
       "\t<tr><th scope=row>3</th><td>                   </td><td>                            </td><td>            </td><td>                  </td><td>     </td><td>     </td><td>     </td><td>     </td><td>     </td><td>     </td><td>⋯</td><td>21/12/2019                     </td><td>01/01/2021       </td><td>06/10/2020              </td><td>                               </td><td>                               </td><td>                                       </td><td>04/01/2020              </td><td>04/01/2015                  </td><td>                             </td><td>                                    </td></tr>\n",
       "\t<tr><th scope=row>4</th><td>                   </td><td>                            </td><td>            </td><td>                  </td><td>     </td><td>     </td><td>     </td><td>     </td><td>     </td><td>     </td><td>⋯</td><td>03/01/2020                     </td><td>03/01/2021       </td><td>03/01/2021              </td><td>                               </td><td>                               </td><td>                                       </td><td>03/01/2021              </td><td>03/01/2020                  </td><td>                             </td><td>                                    </td></tr>\n",
       "\t<tr><th scope=row>5</th><td>Bloodborne diseases</td><td>Hepatitis B (newly acquired)</td><td>039         </td><td> -                </td><td> -   </td><td> 1   </td><td> -   </td><td> 1   </td><td> -   </td><td> -   </td><td>⋯</td><td> 5                             </td><td> -               </td><td> 24                     </td><td> 35.6                          </td><td> 0.7                           </td><td> -                                     </td><td> 113                    </td><td> 152.6                      </td><td> 0.7                         </td><td> -                                  </td></tr>\n",
       "\t<tr><th scope=row>6</th><td>                   </td><td>Hepatitis B (unspecified)   </td><td>052         </td><td> 3                </td><td> 32  </td><td> -   </td><td> 18  </td><td> -   </td><td> -   </td><td> -   </td><td>⋯</td><td> 106                           </td><td> 1               </td><td> 1,101                  </td><td> 1,342.8                       </td><td> 0.8                           </td><td> -                                     </td><td> 4,946                  </td><td> 5,988.8                    </td><td> 0.8                         </td><td> -                                  </td></tr>\n",
       "</tbody>\n",
       "</table>\n"
      ],
      "text/latex": [
       "A data.frame: 6 × 23\n",
       "\\begin{tabular}{r|lllllllllllllllllllll}\n",
       "  & ADT.FN26.2020.2021 & X & X.1 & Notification.received.date & X.2 & X.3 & X.4 & X.5 & X.6 & X.7 & ⋯ & X.11 & X.12 & X.13 & X.14 & X.15 & X.16 & X.17 & X.18 & X.19 & X.20\\\\\n",
       "  & <chr> & <chr> & <chr> & <chr> & <chr> & <chr> & <chr> & <chr> & <chr> & <chr> & ⋯ & <chr> & <chr> & <chr> & <chr> & <chr> & <chr> & <chr> & <chr> & <chr> & <chr>\\\\\n",
       "\\hline\n",
       "\t1 &                     &                              &              & State or Territory &       &       &       &       &       &       & ⋯ &                                 &                   & Historical 90 Day Period &                                 &                                 &                                         & Historical Yearly Period &                              &                               &                                     \\\\\n",
       "\t2 & Disease group       & Disease name                 & Disease code & ACT                & NSW   & NT    & Qld   & SA    & Tas   & Vic   & ⋯ & Same reporting period last year & Current year\n",
       "YTD & Past Quarter             & Quarterly rolling \n",
       "5 year mean & Ratio past quarter/5 year mean* & Exceeds quarterly rolling mean +2 SD by & Past Year                & Yearly rolling \n",
       "5 year mean & Ratio past  year/5 year mean* & Exceeds yearly rolling mean +2 SD by\\\\\n",
       "\t3 &                     &                              &              &                    &       &       &       &       &       &       & ⋯ & 21/12/2019                      & 01/01/2021        & 06/10/2020               &                                 &                                 &                                         & 04/01/2020               & 04/01/2015                   &                               &                                     \\\\\n",
       "\t4 &                     &                              &              &                    &       &       &       &       &       &       & ⋯ & 03/01/2020                      & 03/01/2021        & 03/01/2021               &                                 &                                 &                                         & 03/01/2021               & 03/01/2020                   &                               &                                     \\\\\n",
       "\t5 & Bloodborne diseases & Hepatitis B (newly acquired) & 039          &  -                 &  -    &  1    &  -    &  1    &  -    &  -    & ⋯ &  5                              &  -                &  24                      &  35.6                           &  0.7                            &  -                                      &  113                     &  152.6                       &  0.7                          &  -                                  \\\\\n",
       "\t6 &                     & Hepatitis B (unspecified)    & 052          &  3                 &  32   &  -    &  18   &  -    &  -    &  -    & ⋯ &  106                            &  1                &  1,101                   &  1,342.8                        &  0.8                            &  -                                      &  4,946                   &  5,988.8                     &  0.8                          &  -                                  \\\\\n",
       "\\end{tabular}\n"
      ],
      "text/markdown": [
       "\n",
       "A data.frame: 6 × 23\n",
       "\n",
       "| <!--/--> | ADT.FN26.2020.2021 &lt;chr&gt; | X &lt;chr&gt; | X.1 &lt;chr&gt; | Notification.received.date &lt;chr&gt; | X.2 &lt;chr&gt; | X.3 &lt;chr&gt; | X.4 &lt;chr&gt; | X.5 &lt;chr&gt; | X.6 &lt;chr&gt; | X.7 &lt;chr&gt; | ⋯ ⋯ | X.11 &lt;chr&gt; | X.12 &lt;chr&gt; | X.13 &lt;chr&gt; | X.14 &lt;chr&gt; | X.15 &lt;chr&gt; | X.16 &lt;chr&gt; | X.17 &lt;chr&gt; | X.18 &lt;chr&gt; | X.19 &lt;chr&gt; | X.20 &lt;chr&gt; |\n",
       "|---|---|---|---|---|---|---|---|---|---|---|---|---|---|---|---|---|---|---|---|---|---|\n",
       "| 1 | <!----> | <!----> | <!----> | State or Territory | <!----> | <!----> | <!----> | <!----> | <!----> | <!----> | ⋯ | <!----> | <!----> | Historical 90 Day Period | <!----> | <!----> | <!----> | Historical Yearly Period | <!----> | <!----> | <!----> |\n",
       "| 2 | Disease group       | Disease name                 | Disease code | ACT                | NSW   | NT    | Qld   | SA    | Tas   | Vic   | ⋯ | Same reporting period last year | Current year\n",
       "YTD | Past Quarter             | Quarterly rolling \n",
       "5 year mean | Ratio past quarter/5 year mean* | Exceeds quarterly rolling mean +2 SD by | Past Year                | Yearly rolling \n",
       "5 year mean | Ratio past  year/5 year mean* | Exceeds yearly rolling mean +2 SD by |\n",
       "| 3 | <!----> | <!----> | <!----> | <!----> | <!----> | <!----> | <!----> | <!----> | <!----> | <!----> | ⋯ | 21/12/2019                      | 01/01/2021        | 06/10/2020               | <!----> | <!----> | <!----> | 04/01/2020               | 04/01/2015                   | <!----> | <!----> |\n",
       "| 4 | <!----> | <!----> | <!----> | <!----> | <!----> | <!----> | <!----> | <!----> | <!----> | <!----> | ⋯ | 03/01/2020                      | 03/01/2021        | 03/01/2021               | <!----> | <!----> | <!----> | 03/01/2021               | 03/01/2020                   | <!----> | <!----> |\n",
       "| 5 | Bloodborne diseases | Hepatitis B (newly acquired) | 039          |  -                 |  -    |  1    |  -    |  1    |  -    |  -    | ⋯ |  5                              |  -                |  24                      |  35.6                           |  0.7                            |  -                                      |  113                     |  152.6                       |  0.7                          |  -                                   |\n",
       "| 6 | <!----> | Hepatitis B (unspecified)    | 052          |  3                 |  32   |  -    |  18   |  -    |  -    |  -    | ⋯ |  106                            |  1                |  1,101                   |  1,342.8                        |  0.8                            |  -                                      |  4,946                   |  5,988.8                     |  0.8                          |  -                                   |\n",
       "\n"
      ],
      "text/plain": [
       "  ADT.FN26.2020.2021  X                            X.1         \n",
       "1                                                              \n",
       "2 Disease group       Disease name                 Disease code\n",
       "3                                                              \n",
       "4                                                              \n",
       "5 Bloodborne diseases Hepatitis B (newly acquired) 039         \n",
       "6                     Hepatitis B (unspecified)    052         \n",
       "  Notification.received.date X.2   X.3   X.4   X.5   X.6   X.7   ⋯\n",
       "1 State or Territory                                             ⋯\n",
       "2 ACT                        NSW   NT    Qld   SA    Tas   Vic   ⋯\n",
       "3                                                                ⋯\n",
       "4                                                                ⋯\n",
       "5  -                          -     1     -     1     -     -    ⋯\n",
       "6  3                          32    -     18    -     -     -    ⋯\n",
       "  X.11                            X.12              X.13                    \n",
       "1                                                   Historical 90 Day Period\n",
       "2 Same reporting period last year Current year\\nYTD Past Quarter            \n",
       "3 21/12/2019                      01/01/2021        06/10/2020              \n",
       "4 03/01/2020                      03/01/2021        03/01/2021              \n",
       "5  5                               -                 24                     \n",
       "6  106                             1                 1,101                  \n",
       "  X.14                            X.15                           \n",
       "1                                                                \n",
       "2 Quarterly rolling \\n5 year mean Ratio past quarter/5 year mean*\n",
       "3                                                                \n",
       "4                                                                \n",
       "5  35.6                            0.7                           \n",
       "6  1,342.8                         0.8                           \n",
       "  X.16                                    X.17                    \n",
       "1                                         Historical Yearly Period\n",
       "2 Exceeds quarterly rolling mean +2 SD by Past Year               \n",
       "3                                         04/01/2020              \n",
       "4                                         03/01/2021              \n",
       "5  -                                       113                    \n",
       "6  -                                       4,946                  \n",
       "  X.18                         X.19                         \n",
       "1                                                           \n",
       "2 Yearly rolling \\n5 year mean Ratio past  year/5 year mean*\n",
       "3 04/01/2015                                                \n",
       "4 03/01/2020                                                \n",
       "5  152.6                        0.7                         \n",
       "6  5,988.8                      0.8                         \n",
       "  X.20                                \n",
       "1                                     \n",
       "2 Exceeds yearly rolling mean +2 SD by\n",
       "3                                     \n",
       "4                                     \n",
       "5  -                                  \n",
       "6  -                                  "
      ]
     },
     "metadata": {},
     "output_type": "display_data"
    },
    {
     "data": {
      "text/html": [
       "<table class=\"dataframe\">\n",
       "<caption>A data.frame: 6 × 2</caption>\n",
       "<thead>\n",
       "\t<tr><th></th><th scope=col>X</th><th scope=col>X.9</th></tr>\n",
       "\t<tr><th></th><th scope=col>&lt;chr&gt;</th><th scope=col>&lt;chr&gt;</th></tr>\n",
       "</thead>\n",
       "<tbody>\n",
       "\t<tr><th scope=row>1</th><td>                            </td><td>Totals for Australia </td></tr>\n",
       "\t<tr><th scope=row>2</th><td>Disease name                </td><td>This reporting period</td></tr>\n",
       "\t<tr><th scope=row>3</th><td>                            </td><td>21/12/2020           </td></tr>\n",
       "\t<tr><th scope=row>4</th><td>                            </td><td>03/01/2021           </td></tr>\n",
       "\t<tr><th scope=row>5</th><td>Hepatitis B (newly acquired)</td><td> 2                   </td></tr>\n",
       "\t<tr><th scope=row>6</th><td>Hepatitis B (unspecified)   </td><td> 60                  </td></tr>\n",
       "</tbody>\n",
       "</table>\n"
      ],
      "text/latex": [
       "A data.frame: 6 × 2\n",
       "\\begin{tabular}{r|ll}\n",
       "  & X & X.9\\\\\n",
       "  & <chr> & <chr>\\\\\n",
       "\\hline\n",
       "\t1 &                              & Totals for Australia \\\\\n",
       "\t2 & Disease name                 & This reporting period\\\\\n",
       "\t3 &                              & 21/12/2020           \\\\\n",
       "\t4 &                              & 03/01/2021           \\\\\n",
       "\t5 & Hepatitis B (newly acquired) &  2                   \\\\\n",
       "\t6 & Hepatitis B (unspecified)    &  60                  \\\\\n",
       "\\end{tabular}\n"
      ],
      "text/markdown": [
       "\n",
       "A data.frame: 6 × 2\n",
       "\n",
       "| <!--/--> | X &lt;chr&gt; | X.9 &lt;chr&gt; |\n",
       "|---|---|---|\n",
       "| 1 | <!----> | Totals for Australia  |\n",
       "| 2 | Disease name                 | This reporting period |\n",
       "| 3 | <!----> | 21/12/2020            |\n",
       "| 4 | <!----> | 03/01/2021            |\n",
       "| 5 | Hepatitis B (newly acquired) |  2                    |\n",
       "| 6 | Hepatitis B (unspecified)    |  60                   |\n",
       "\n"
      ],
      "text/plain": [
       "  X                            X.9                  \n",
       "1                              Totals for Australia \n",
       "2 Disease name                 This reporting period\n",
       "3                              21/12/2020           \n",
       "4                              03/01/2021           \n",
       "5 Hepatitis B (newly acquired)  2                   \n",
       "6 Hepatitis B (unspecified)     60                  "
      ]
     },
     "metadata": {},
     "output_type": "display_data"
    }
   ],
   "source": [
    "df = read.csv(\"21-december-2020-to-3-january-2021-table.csv\", header=TRUE, stringsAsFactors=FALSE)\n",
    "head(df)\n",
    "\n",
    "df <- df[, -c(1,3:11, 13:23)]\n",
    "head(df)"
   ]
  },
  {
   "cell_type": "code",
   "execution_count": 108,
   "id": "6603319a-82a4-4b3f-9e17-1223a7c32e59",
   "metadata": {},
   "outputs": [
    {
     "data": {
      "text/html": [
       "<table class=\"dataframe\">\n",
       "<caption>A data.frame: 1 × 2</caption>\n",
       "<thead>\n",
       "\t<tr><th></th><th scope=col>X</th><th scope=col>X.9</th></tr>\n",
       "\t<tr><th></th><th scope=col>&lt;chr&gt;</th><th scope=col>&lt;chr&gt;</th></tr>\n",
       "</thead>\n",
       "<tbody>\n",
       "\t<tr><th scope=row>40</th><td>Influenza (laboratory confirmed)</td><td> 34 </td></tr>\n",
       "</tbody>\n",
       "</table>\n"
      ],
      "text/latex": [
       "A data.frame: 1 × 2\n",
       "\\begin{tabular}{r|ll}\n",
       "  & X & X.9\\\\\n",
       "  & <chr> & <chr>\\\\\n",
       "\\hline\n",
       "\t40 & Influenza (laboratory confirmed) &  34 \\\\\n",
       "\\end{tabular}\n"
      ],
      "text/markdown": [
       "\n",
       "A data.frame: 1 × 2\n",
       "\n",
       "| <!--/--> | X &lt;chr&gt; | X.9 &lt;chr&gt; |\n",
       "|---|---|---|\n",
       "| 40 | Influenza (laboratory confirmed) |  34  |\n",
       "\n"
      ],
      "text/plain": [
       "   X                                X.9 \n",
       "40 Influenza (laboratory confirmed)  34 "
      ]
     },
     "metadata": {},
     "output_type": "display_data"
    },
    {
     "data": {
      "text/html": [
       "<table class=\"dataframe\">\n",
       "<caption>A data.frame: 1 × 2</caption>\n",
       "<thead>\n",
       "\t<tr><th></th><th scope=col>X</th><th scope=col>X.9</th></tr>\n",
       "\t<tr><th></th><th scope=col>&lt;chr&gt;</th><th scope=col>&lt;chr&gt;</th></tr>\n",
       "</thead>\n",
       "<tbody>\n",
       "\t<tr><th scope=row>23</th><td>COVID-19**</td><td> 307 </td></tr>\n",
       "</tbody>\n",
       "</table>\n"
      ],
      "text/latex": [
       "A data.frame: 1 × 2\n",
       "\\begin{tabular}{r|ll}\n",
       "  & X & X.9\\\\\n",
       "  & <chr> & <chr>\\\\\n",
       "\\hline\n",
       "\t23 & COVID-19** &  307 \\\\\n",
       "\\end{tabular}\n"
      ],
      "text/markdown": [
       "\n",
       "A data.frame: 1 × 2\n",
       "\n",
       "| <!--/--> | X &lt;chr&gt; | X.9 &lt;chr&gt; |\n",
       "|---|---|---|\n",
       "| 23 | COVID-19** |  307  |\n",
       "\n"
      ],
      "text/plain": [
       "   X          X.9  \n",
       "23 COVID-19**  307 "
      ]
     },
     "metadata": {},
     "output_type": "display_data"
    },
    {
     "data": {
      "text/html": [
       "<table class=\"dataframe\">\n",
       "<caption>A data.frame: 2 × 2</caption>\n",
       "<thead>\n",
       "\t<tr><th></th><th scope=col>X</th><th scope=col>X.9</th></tr>\n",
       "\t<tr><th></th><th scope=col>&lt;chr&gt;</th><th scope=col>&lt;chr&gt;</th></tr>\n",
       "</thead>\n",
       "<tbody>\n",
       "\t<tr><th scope=row>40</th><td>Influenza (laboratory confirmed)</td><td> 34  </td></tr>\n",
       "\t<tr><th scope=row>23</th><td>COVID-19**                      </td><td> 307 </td></tr>\n",
       "</tbody>\n",
       "</table>\n"
      ],
      "text/latex": [
       "A data.frame: 2 × 2\n",
       "\\begin{tabular}{r|ll}\n",
       "  & X & X.9\\\\\n",
       "  & <chr> & <chr>\\\\\n",
       "\\hline\n",
       "\t40 & Influenza (laboratory confirmed) &  34  \\\\\n",
       "\t23 & COVID-19**                       &  307 \\\\\n",
       "\\end{tabular}\n"
      ],
      "text/markdown": [
       "\n",
       "A data.frame: 2 × 2\n",
       "\n",
       "| <!--/--> | X &lt;chr&gt; | X.9 &lt;chr&gt; |\n",
       "|---|---|---|\n",
       "| 40 | Influenza (laboratory confirmed) |  34   |\n",
       "| 23 | COVID-19**                       |  307  |\n",
       "\n"
      ],
      "text/plain": [
       "   X                                X.9  \n",
       "40 Influenza (laboratory confirmed)  34  \n",
       "23 COVID-19**                        307 "
      ]
     },
     "metadata": {},
     "output_type": "display_data"
    }
   ],
   "source": [
    "#find the rows that contain the words influenza\n",
    "\n",
    "inf <- df[grep(\"Influenza\", df$X),]\n",
    "head(inf)\n",
    "covid <-  df[grep(\"COVID\", df$X),]\n",
    "covid\n",
    "DEC20_JAN03_2020 <- rbind(inf, covid)\n",
    "DEC20_JAN03_2020"
   ]
  },
  {
   "cell_type": "code",
   "execution_count": 109,
   "id": "cec22b15-f90b-4cc5-b1a3-aa7d15a77276",
   "metadata": {},
   "outputs": [
    {
     "data": {
      "text/html": [
       "<table class=\"dataframe\">\n",
       "<caption>A data.frame: 2 × 2</caption>\n",
       "<thead>\n",
       "\t<tr><th></th><th scope=col>Disease</th><th scope=col>20DEC- 03JAN-2020</th></tr>\n",
       "\t<tr><th></th><th scope=col>&lt;chr&gt;</th><th scope=col>&lt;dbl&gt;</th></tr>\n",
       "</thead>\n",
       "<tbody>\n",
       "\t<tr><th scope=row>40</th><td>Influenza (laboratory confirmed)</td><td> 34</td></tr>\n",
       "\t<tr><th scope=row>23</th><td>COVID-19**                      </td><td>307</td></tr>\n",
       "</tbody>\n",
       "</table>\n"
      ],
      "text/latex": [
       "A data.frame: 2 × 2\n",
       "\\begin{tabular}{r|ll}\n",
       "  & Disease & 20DEC- 03JAN-2020\\\\\n",
       "  & <chr> & <dbl>\\\\\n",
       "\\hline\n",
       "\t40 & Influenza (laboratory confirmed) &  34\\\\\n",
       "\t23 & COVID-19**                       & 307\\\\\n",
       "\\end{tabular}\n"
      ],
      "text/markdown": [
       "\n",
       "A data.frame: 2 × 2\n",
       "\n",
       "| <!--/--> | Disease &lt;chr&gt; | 20DEC- 03JAN-2020 &lt;dbl&gt; |\n",
       "|---|---|---|\n",
       "| 40 | Influenza (laboratory confirmed) |  34 |\n",
       "| 23 | COVID-19**                       | 307 |\n",
       "\n"
      ],
      "text/plain": [
       "   Disease                          20DEC- 03JAN-2020\n",
       "40 Influenza (laboratory confirmed)  34              \n",
       "23 COVID-19**                       307              "
      ]
     },
     "metadata": {},
     "output_type": "display_data"
    }
   ],
   "source": [
    "DEC20_JAN03_2020[,2] <- as.numeric(DEC20_JAN03_2020[,2])\n",
    "colnames(DEC20_JAN03_2020) <- c(\"Disease\", \"20DEC- 03JAN-2020\")\n",
    "DEC20_JAN03_2020"
   ]
  },
  {
   "cell_type": "code",
   "execution_count": null,
   "id": "f8143f03-bf91-440d-9613-4018f2133ce1",
   "metadata": {},
   "outputs": [],
   "source": []
  }
 ],
 "metadata": {
  "kernelspec": {
   "display_name": "R",
   "language": "R",
   "name": "ir"
  },
  "language_info": {
   "codemirror_mode": "r",
   "file_extension": ".r",
   "mimetype": "text/x-r-source",
   "name": "R",
   "pygments_lexer": "r",
   "version": "4.2.2"
  }
 },
 "nbformat": 4,
 "nbformat_minor": 5
}
